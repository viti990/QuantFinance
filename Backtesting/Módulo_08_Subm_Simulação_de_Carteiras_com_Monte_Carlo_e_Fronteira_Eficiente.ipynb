{
  "nbformat": 4,
  "nbformat_minor": 0,
  "metadata": {
    "colab": {
      "provenance": []
    },
    "kernelspec": {
      "name": "python3",
      "display_name": "Python 3"
    },
    "language_info": {
      "name": "python"
    }
  },
  "cells": [
    {
      "cell_type": "markdown",
      "source": [
        "# **Fronteira Eficiente com Simulação de Monte Carlo**"
      ],
      "metadata": {
        "id": "D3UY2AO0e2S8"
      }
    },
    {
      "cell_type": "markdown",
      "source": [
        "# 1. Instalando e importando as bibliotecas"
      ],
      "metadata": {
        "id": "mXZEZdvJfPWE"
      }
    },
    {
      "cell_type": "code",
      "source": [
        "!pip install yfinance"
      ],
      "metadata": {
        "colab": {
          "base_uri": "https://localhost:8080/"
        },
        "id": "fwEWnIhhfa8Q",
        "outputId": "650e8c76-5bac-4d09-937e-4fc9fce8b8f3"
      },
      "execution_count": null,
      "outputs": [
        {
          "output_type": "stream",
          "name": "stdout",
          "text": [
            "Requirement already satisfied: yfinance in /usr/local/lib/python3.7/dist-packages (0.1.70)\n",
            "Requirement already satisfied: lxml>=4.5.1 in /usr/local/lib/python3.7/dist-packages (from yfinance) (4.8.0)\n",
            "Requirement already satisfied: multitasking>=0.0.7 in /usr/local/lib/python3.7/dist-packages (from yfinance) (0.0.10)\n",
            "Requirement already satisfied: pandas>=0.24.0 in /usr/local/lib/python3.7/dist-packages (from yfinance) (1.3.5)\n",
            "Requirement already satisfied: numpy>=1.15 in /usr/local/lib/python3.7/dist-packages (from yfinance) (1.21.6)\n",
            "Requirement already satisfied: requests>=2.26 in /usr/local/lib/python3.7/dist-packages (from yfinance) (2.27.1)\n",
            "Requirement already satisfied: pytz>=2017.3 in /usr/local/lib/python3.7/dist-packages (from pandas>=0.24.0->yfinance) (2022.1)\n",
            "Requirement already satisfied: python-dateutil>=2.7.3 in /usr/local/lib/python3.7/dist-packages (from pandas>=0.24.0->yfinance) (2.8.2)\n",
            "Requirement already satisfied: six>=1.5 in /usr/local/lib/python3.7/dist-packages (from python-dateutil>=2.7.3->pandas>=0.24.0->yfinance) (1.15.0)\n",
            "Requirement already satisfied: urllib3<1.27,>=1.21.1 in /usr/local/lib/python3.7/dist-packages (from requests>=2.26->yfinance) (1.24.3)\n",
            "Requirement already satisfied: charset-normalizer~=2.0.0 in /usr/local/lib/python3.7/dist-packages (from requests>=2.26->yfinance) (2.0.12)\n",
            "Requirement already satisfied: certifi>=2017.4.17 in /usr/local/lib/python3.7/dist-packages (from requests>=2.26->yfinance) (2021.10.8)\n",
            "Requirement already satisfied: idna<4,>=2.5 in /usr/local/lib/python3.7/dist-packages (from requests>=2.26->yfinance) (2.10)\n"
          ]
        }
      ]
    },
    {
      "cell_type": "code",
      "source": [
        "import pandas as pd\n",
        "import numpy as np\n",
        "import yfinance as yf\n",
        "import matplotlib.pyplot as plt\n",
        "import seaborn as sns"
      ],
      "metadata": {
        "id": "Vhk-BkRQfcdO"
      },
      "execution_count": null,
      "outputs": []
    },
    {
      "cell_type": "markdown",
      "source": [
        "# 2. Selecionar ativos da carteira"
      ],
      "metadata": {
        "id": "SW5PMu_9ff4P"
      }
    },
    {
      "cell_type": "code",
      "source": [
        "ativos = ['ABEV3.SA', 'AAPL34.SA','EQTL3.SA', 'LREN3.SA',\n",
        "          'CIEL3.SA', 'RADL3.SA', 'RENT3.SA', 'MDIA3.SA',\n",
        "          'WEGE3.SA', 'EZTC3.SA', 'FLRY3.SA','BOVA11.SA', 'TSLA34.SA']"
      ],
      "metadata": {
        "id": "qCK1A8rYfkdp"
      },
      "execution_count": null,
      "outputs": []
    },
    {
      "cell_type": "code",
      "source": [
        "inicio = '2016-01-01'\n",
        "fim = '2022-05-15'"
      ],
      "metadata": {
        "id": "lmiqPAsDfpRH"
      },
      "execution_count": null,
      "outputs": []
    },
    {
      "cell_type": "code",
      "source": [
        "df = yf.download(ativos, start = inicio, end = fim)['Adj Close']"
      ],
      "metadata": {
        "colab": {
          "base_uri": "https://localhost:8080/"
        },
        "id": "5JVb-P8IfwQ2",
        "outputId": "c15d6053-1125-4268-b5b5-870f4b8e0880"
      },
      "execution_count": null,
      "outputs": [
        {
          "output_type": "stream",
          "name": "stdout",
          "text": [
            "[*********************100%***********************]  13 of 13 completed\n"
          ]
        }
      ]
    },
    {
      "cell_type": "markdown",
      "source": [
        "# 3. Visualização dos preços"
      ],
      "metadata": {
        "id": "JJe8H2Nzf3CG"
      }
    },
    {
      "cell_type": "code",
      "source": [
        "df.plot(figsize = (10,10))"
      ],
      "metadata": {
        "colab": {
          "base_uri": "https://localhost:8080/",
          "height": 580
        },
        "id": "YGSLVH84f5PY",
        "outputId": "e86179a9-789d-4046-a307-a172965d35d6"
      },
      "execution_count": null,
      "outputs": [
        {
          "output_type": "execute_result",
          "data": {
            "text/plain": [
              "<matplotlib.axes._subplots.AxesSubplot at 0x7f703ddce690>"
            ]
          },
          "metadata": {},
          "execution_count": 11
        },
        {
          "output_type": "display_data",
          "data": {
            "text/plain": [
              "<Figure size 720x720 with 1 Axes>"
            ],
            "image/png": "[encoded data removed]"
          },
          "metadata": {
            "needs_background": "light"
          }
        }
      ]
    },
    {
      "cell_type": "code",
      "source": [
        "((df/df.iloc[0])*100).plot(figsize = (10,10))"
      ],
      "metadata": {
        "colab": {
          "base_uri": "https://localhost:8080/",
          "height": 580
        },
        "id": "UjVdYtCNf6bf",
        "outputId": "b2100718-b3dc-4eff-eab2-b9de1b57c103"
      },
      "execution_count": null,
      "outputs": [
        {
          "output_type": "execute_result",
          "data": {
            "text/plain": [
              "<matplotlib.axes._subplots.AxesSubplot at 0x7f703d50e190>"
            ]
          },
          "metadata": {},
          "execution_count": 12
        },
        {
          "output_type": "display_data",
          "data": {
            "text/plain": [
              "<Figure size 720x720 with 1 Axes>"
            ],
            "image/png": "[encoded data removed]"
          },
          "metadata": {
            "needs_background": "light"
          }
        }
      ]
    },
    {
      "cell_type": "code",
      "source": [
        "df.head()"
      ],
      "metadata": {
        "colab": {
          "base_uri": "https://localhost:8080/",
          "height": 237
        },
        "id": "W8_1s663gjN2",
        "outputId": "744ae313-5679-4693-acc4-be545218d25f"
      },
      "execution_count": null,
      "outputs": [
        {
          "output_type": "execute_result",
          "data": {
            "text/plain": [
              "            AAPL34.SA   ABEV3.SA  BOVA11.SA   CIEL3.SA  EQTL3.SA  EZTC3.SA  \\\n",
              "Date                                                                         \n",
              "2016-01-04   9.655293  14.220701  41.099998  16.320023  5.728097  6.830275   \n",
              "2016-01-05   9.655293  14.443802  41.180000  17.100302  6.005824  6.949409   \n",
              "2016-01-06   9.439609  14.303329  40.500000  17.363770  6.040540  6.835949   \n",
              "2016-01-07   9.005945  13.923231  39.470001  17.429638  5.873904  6.807583   \n",
              "2016-01-08   9.104609  14.105016  39.340000  17.733644  5.953750  6.977775   \n",
              "\n",
              "            FLRY3.SA   LREN3.SA   MDIA3.SA  RADL3.SA  RENT3.SA  TSLA34.SA  \\\n",
              "Date                                                                        \n",
              "2016-01-04  5.758893  11.973790  18.867485  6.671643  6.517810        NaN   \n",
              "2016-01-05  5.826867  12.826409  18.391449  6.982834  6.679709        NaN   \n",
              "2016-01-06  5.796657  12.752272  18.577217  7.047351  6.741119        NaN   \n",
              "2016-01-07  5.804210  12.544675  18.028610  7.138430  6.699249        NaN   \n",
              "2016-01-08  5.826867  12.515020  18.286949  7.081507  6.699249        NaN   \n",
              "\n",
              "            WEGE3.SA  \n",
              "Date                  \n",
              "2016-01-04  5.069699  \n",
              "2016-01-05  5.315566  \n",
              "2016-01-06  5.194363  \n",
              "2016-01-07  5.045460  \n",
              "2016-01-08  5.021218  "
            ],
            "text/html": [
              "\n",
              "  <div id=\"df-130682f2-a1a5-40ec-be1f-2020b17f7d3d\">\n",
              "    <div class=\"colab-df-container\">\n",
              "      <div>\n",
              "<style scoped>\n",
              "    .dataframe tbody tr th:only-of-type {\n",
              "        vertical-align: middle;\n",
              "    }\n",
              "\n",
              "    .dataframe tbody tr th {\n",
              "        vertical-align: top;\n",
              "    }\n",
              "\n",
              "    .dataframe thead th {\n",
              "        text-align: right;\n",
              "    }\n",
              "</style>\n",
              "<table border=\"1\" class=\"dataframe\">\n",
              "  <thead>\n",
              "    <tr style=\"text-align: right;\">\n",
              "      <th></th>\n",
              "      <th>AAPL34.SA</th>\n",
              "      <th>ABEV3.SA</th>\n",
              "      <th>BOVA11.SA</th>\n",
              "      <th>CIEL3.SA</th>\n",
              "      <th>EQTL3.SA</th>\n",
              "      <th>EZTC3.SA</th>\n",
              "      <th>FLRY3.SA</th>\n",
              "      <th>LREN3.SA</th>\n",
              "      <th>MDIA3.SA</th>\n",
              "      <th>RADL3.SA</th>\n",
              "      <th>RENT3.SA</th>\n",
              "      <th>TSLA34.SA</th>\n",
              "      <th>WEGE3.SA</th>\n",
              "    </tr>\n",
              "    <tr>\n",
              "      <th>Date</th>\n",
              "      <th></th>\n",
              "      <th></th>\n",
              "      <th></th>\n",
              "      <th></th>\n",
              "      <th></th>\n",
              "      <th></th>\n",
              "      <th></th>\n",
              "      <th></th>\n",
              "      <th></th>\n",
              "      <th></th>\n",
              "      <th></th>\n",
              "      <th></th>\n",
              "      <th></th>\n",
              "    </tr>\n",
              "  </thead>\n",
              "  <tbody>\n",
              "    <tr>\n",
              "      <th>2016-01-04</th>\n",
              "      <td>9.655293</td>\n",
              "      <td>14.220701</td>\n",
              "      <td>41.099998</td>\n",
              "      <td>16.320023</td>\n",
              "      <td>5.728097</td>\n",
              "      <td>6.830275</td>\n",
              "      <td>5.758893</td>\n",
              "      <td>11.973790</td>\n",
              "      <td>18.867485</td>\n",
              "      <td>6.671643</td>\n",
              "      <td>6.517810</td>\n",
              "      <td>NaN</td>\n",
              "      <td>5.069699</td>\n",
              "    </tr>\n",
              "    <tr>\n",
              "      <th>2016-01-05</th>\n",
              "      <td>9.655293</td>\n",
              "      <td>14.443802</td>\n",
              "      <td>41.180000</td>\n",
              "      <td>17.100302</td>\n",
              "      <td>6.005824</td>\n",
              "      <td>6.949409</td>\n",
              "      <td>5.826867</td>\n",
              "      <td>12.826409</td>\n",
              "      <td>18.391449</td>\n",
              "      <td>6.982834</td>\n",
              "      <td>6.679709</td>\n",
              "      <td>NaN</td>\n",
              "      <td>5.315566</td>\n",
              "    </tr>\n",
              "    <tr>\n",
              "      <th>2016-01-06</th>\n",
              "      <td>9.439609</td>\n",
              "      <td>14.303329</td>\n",
              "      <td>40.500000</td>\n",
              "      <td>17.363770</td>\n",
              "      <td>6.040540</td>\n",
              "      <td>6.835949</td>\n",
              "      <td>5.796657</td>\n",
              "      <td>12.752272</td>\n",
              "      <td>18.577217</td>\n",
              "      <td>7.047351</td>\n",
              "      <td>6.741119</td>\n",
              "      <td>NaN</td>\n",
              "      <td>5.194363</td>\n",
              "    </tr>\n",
              "    <tr>\n",
              "      <th>2016-01-07</th>\n",
              "      <td>9.005945</td>\n",
              "      <td>13.923231</td>\n",
              "      <td>39.470001</td>\n",
              "      <td>17.429638</td>\n",
              "      <td>5.873904</td>\n",
              "      <td>6.807583</td>\n",
              "      <td>5.804210</td>\n",
              "      <td>12.544675</td>\n",
              "      <td>18.028610</td>\n",
              "      <td>7.138430</td>\n",
              "      <td>6.699249</td>\n",
              "      <td>NaN</td>\n",
              "      <td>5.045460</td>\n",
              "    </tr>\n",
              "    <tr>\n",
              "      <th>2016-01-08</th>\n",
              "      <td>9.104609</td>\n",
              "      <td>14.105016</td>\n",
              "      <td>39.340000</td>\n",
              "      <td>17.733644</td>\n",
              "      <td>5.953750</td>\n",
              "      <td>6.977775</td>\n",
              "      <td>5.826867</td>\n",
              "      <td>12.515020</td>\n",
              "      <td>18.286949</td>\n",
              "      <td>7.081507</td>\n",
              "      <td>6.699249</td>\n",
              "      <td>NaN</td>\n",
              "      <td>5.021218</td>\n",
              "    </tr>\n",
              "  </tbody>\n",
              "</table>\n",
              "</div>\n",
              "      <button class=\"colab-df-convert\" onclick=\"convertToInteractive('df-130682f2-a1a5-40ec-be1f-2020b17f7d3d')\"\n",
              "              title=\"Convert this dataframe to an interactive table.\"\n",
              "              style=\"display:none;\">\n",
              "        \n",
              "  <svg xmlns=\"http://www.w3.org/2000/svg\" height=\"24px\"viewBox=\"0 0 24 24\"\n",
              "       width=\"24px\">\n",
              "    <path d=\"M0 0h24v24H0V0z\" fill=\"none\"/>\n",
              "    <path d=\"M18.56 5.44l.94 2.06.94-2.06 2.06-.94-2.06-.94-.94-2.06-.94 2.06-2.06.94zm-11 1L8.5 8.5l.94-2.06 2.06-.94-2.06-.94L8.5 2.5l-.94 2.06-2.06.94zm10 10l.94 2.06.94-2.06 2.06-.94-2.06-.94-.94-2.06-.94 2.06-2.06.94z\"/><path d=\"M17.41 7.96l-1.37-1.37c-.4-.4-.92-.59-1.43-.59-.52 0-1.04.2-1.43.59L10.3 9.45l-7.72 7.72c-.78.78-.78 2.05 0 2.83L4 21.41c.39.39.9.59 1.41.59.51 0 1.02-.2 1.41-.59l7.78-7.78 2.81-2.81c.8-.78.8-2.07 0-2.86zM5.41 20L4 18.59l7.72-7.72 1.47 1.35L5.41 20z\"/>\n",
              "  </svg>\n",
              "      </button>\n",
              "      \n",
              "  <style>\n",
              "    .colab-df-container {\n",
              "      display:flex;\n",
              "      flex-wrap:wrap;\n",
              "      gap: 12px;\n",
              "    }\n",
              "\n",
              "    .colab-df-convert {\n",
              "      background-color: #E8F0FE;\n",
              "      border: none;\n",
              "      border-radius: 50%;\n",
              "      cursor: pointer;\n",
              "      display: none;\n",
              "      fill: #1967D2;\n",
              "      height: 32px;\n",
              "      padding: 0 0 0 0;\n",
              "      width: 32px;\n",
              "    }\n",
              "\n",
              "    .colab-df-convert:hover {\n",
              "      background-color: #E2EBFA;\n",
              "      box-shadow: 0px 1px 2px rgba(60, 64, 67, 0.3), 0px 1px 3px 1px rgba(60, 64, 67, 0.15);\n",
              "      fill: #174EA6;\n",
              "    }\n",
              "\n",
              "    [theme=dark] .colab-df-convert {\n",
              "      background-color: #3B4455;\n",
              "      fill: #D2E3FC;\n",
              "    }\n",
              "\n",
              "    [theme=dark] .colab-df-convert:hover {\n",
              "      background-color: #434B5C;\n",
              "      box-shadow: 0px 1px 3px 1px rgba(0, 0, 0, 0.15);\n",
              "      filter: drop-shadow(0px 1px 2px rgba(0, 0, 0, 0.3));\n",
              "      fill: #FFFFFF;\n",
              "    }\n",
              "  </style>\n",
              "\n",
              "      <script>\n",
              "        const buttonEl =\n",
              "          document.querySelector('#df-130682f2-a1a5-40ec-be1f-2020b17f7d3d button.colab-df-convert');\n",
              "        buttonEl.style.display =\n",
              "          google.colab.kernel.accessAllowed ? 'block' : 'none';\n",
              "\n",
              "        async function convertToInteractive(key) {\n",
              "          const element = document.querySelector('#df-130682f2-a1a5-40ec-be1f-2020b17f7d3d');\n",
              "          const dataTable =\n",
              "            await google.colab.kernel.invokeFunction('convertToInteractive',\n",
              "                                                     [key], {});\n",
              "          if (!dataTable) return;\n",
              "\n",
              "          const docLinkHtml = 'Like what you see? Visit the ' +\n",
              "            '<a target=\"_blank\" href=https://colab.research.google.com/notebooks/data_table.ipynb>data table notebook</a>'\n",
              "            + ' to learn more about interactive tables.';\n",
              "          element.innerHTML = '';\n",
              "          dataTable['output_type'] = 'display_data';\n",
              "          await google.colab.output.renderOutput(dataTable, element);\n",
              "          const docLink = document.createElement('div');\n",
              "          docLink.innerHTML = docLinkHtml;\n",
              "          element.appendChild(docLink);\n",
              "        }\n",
              "      </script>\n",
              "    </div>\n",
              "  </div>\n",
              "  "
            ]
          },
          "metadata": {},
          "execution_count": 13
        }
      ]
    },
    {
      "cell_type": "code",
      "source": [
        "df.tail()"
      ],
      "metadata": {
        "colab": {
          "base_uri": "https://localhost:8080/",
          "height": 237
        },
        "id": "j4PfeV5ogEfQ",
        "outputId": "fc9cc486-b141-46bf-b22b-b94171003d2e"
      },
      "execution_count": null,
      "outputs": [
        {
          "output_type": "execute_result",
          "data": {
            "text/plain": [
              "            AAPL34.SA  ABEV3.SA   BOVA11.SA  CIEL3.SA   EQTL3.SA   EZTC3.SA  \\\n",
              "Date                                                                          \n",
              "2022-05-06  79.389999     13.53  101.230003  3.085789  23.969999  15.590000   \n",
              "2022-05-09  78.000000     13.69   99.680000  3.056022  24.320000  15.820000   \n",
              "2022-05-10  79.360001     13.73   99.239998  3.085789  24.270000  16.340000   \n",
              "2022-05-11  75.379997     13.95  100.639999  3.060000  23.559999  16.129999   \n",
              "2022-05-12  73.099998     14.48  102.040001  3.180000  23.820000  16.410000   \n",
              "\n",
              "            FLRY3.SA   LREN3.SA   MDIA3.SA   RADL3.SA   RENT3.SA   TSLA34.SA  \\\n",
              "Date                                                                           \n",
              "2022-05-06     13.93  24.240000  22.610001  19.020000  52.080002  137.000000   \n",
              "2022-05-09     13.93  23.889999  22.350000  18.930000  51.709999  127.000000   \n",
              "2022-05-10     14.20  24.740000  22.910000  18.969999  52.549999  128.259995   \n",
              "2022-05-11     13.69  24.530001  23.480000  18.459999  53.930000  118.000000   \n",
              "2022-05-12     14.27  25.280001  24.260000  18.799999  55.310001  116.449997   \n",
              "\n",
              "             WEGE3.SA  \n",
              "Date                   \n",
              "2022-05-06  27.150000  \n",
              "2022-05-09  26.660000  \n",
              "2022-05-10  26.120001  \n",
              "2022-05-11  26.100000  \n",
              "2022-05-12  26.410000  "
            ],
            "text/html": [
              "\n",
              "  <div id=\"df-b994b335-4bb7-4b6c-b4ee-8b12e3c44edb\">\n",
              "    <div class=\"colab-df-container\">\n",
              "      <div>\n",
              "<style scoped>\n",
              "    .dataframe tbody tr th:only-of-type {\n",
              "        vertical-align: middle;\n",
              "    }\n",
              "\n",
              "    .dataframe tbody tr th {\n",
              "        vertical-align: top;\n",
              "    }\n",
              "\n",
              "    .dataframe thead th {\n",
              "        text-align: right;\n",
              "    }\n",
              "</style>\n",
              "<table border=\"1\" class=\"dataframe\">\n",
              "  <thead>\n",
              "    <tr style=\"text-align: right;\">\n",
              "      <th></th>\n",
              "      <th>AAPL34.SA</th>\n",
              "      <th>ABEV3.SA</th>\n",
              "      <th>BOVA11.SA</th>\n",
              "      <th>CIEL3.SA</th>\n",
              "      <th>EQTL3.SA</th>\n",
              "      <th>EZTC3.SA</th>\n",
              "      <th>FLRY3.SA</th>\n",
              "      <th>LREN3.SA</th>\n",
              "      <th>MDIA3.SA</th>\n",
              "      <th>RADL3.SA</th>\n",
              "      <th>RENT3.SA</th>\n",
              "      <th>TSLA34.SA</th>\n",
              "      <th>WEGE3.SA</th>\n",
              "    </tr>\n",
              "    <tr>\n",
              "      <th>Date</th>\n",
              "      <th></th>\n",
              "      <th></th>\n",
              "      <th></th>\n",
              "      <th></th>\n",
              "      <th></th>\n",
              "      <th></th>\n",
              "      <th></th>\n",
              "      <th></th>\n",
              "      <th></th>\n",
              "      <th></th>\n",
              "      <th></th>\n",
              "      <th></th>\n",
              "      <th></th>\n",
              "    </tr>\n",
              "  </thead>\n",
              "  <tbody>\n",
              "    <tr>\n",
              "      <th>2022-05-06</th>\n",
              "      <td>79.389999</td>\n",
              "      <td>13.53</td>\n",
              "      <td>101.230003</td>\n",
              "      <td>3.085789</td>\n",
              "      <td>23.969999</td>\n",
              "      <td>15.590000</td>\n",
              "      <td>13.93</td>\n",
              "      <td>24.240000</td>\n",
              "      <td>22.610001</td>\n",
              "      <td>19.020000</td>\n",
              "      <td>52.080002</td>\n",
              "      <td>137.000000</td>\n",
              "      <td>27.150000</td>\n",
              "    </tr>\n",
              "    <tr>\n",
              "      <th>2022-05-09</th>\n",
              "      <td>78.000000</td>\n",
              "      <td>13.69</td>\n",
              "      <td>99.680000</td>\n",
              "      <td>3.056022</td>\n",
              "      <td>24.320000</td>\n",
              "      <td>15.820000</td>\n",
              "      <td>13.93</td>\n",
              "      <td>23.889999</td>\n",
              "      <td>22.350000</td>\n",
              "      <td>18.930000</td>\n",
              "      <td>51.709999</td>\n",
              "      <td>127.000000</td>\n",
              "      <td>26.660000</td>\n",
              "    </tr>\n",
              "    <tr>\n",
              "      <th>2022-05-10</th>\n",
              "      <td>79.360001</td>\n",
              "      <td>13.73</td>\n",
              "      <td>99.239998</td>\n",
              "      <td>3.085789</td>\n",
              "      <td>24.270000</td>\n",
              "      <td>16.340000</td>\n",
              "      <td>14.20</td>\n",
              "      <td>24.740000</td>\n",
              "      <td>22.910000</td>\n",
              "      <td>18.969999</td>\n",
              "      <td>52.549999</td>\n",
              "      <td>128.259995</td>\n",
              "      <td>26.120001</td>\n",
              "    </tr>\n",
              "    <tr>\n",
              "      <th>2022-05-11</th>\n",
              "      <td>75.379997</td>\n",
              "      <td>13.95</td>\n",
              "      <td>100.639999</td>\n",
              "      <td>3.060000</td>\n",
              "      <td>23.559999</td>\n",
              "      <td>16.129999</td>\n",
              "      <td>13.69</td>\n",
              "      <td>24.530001</td>\n",
              "      <td>23.480000</td>\n",
              "      <td>18.459999</td>\n",
              "      <td>53.930000</td>\n",
              "      <td>118.000000</td>\n",
              "      <td>26.100000</td>\n",
              "    </tr>\n",
              "    <tr>\n",
              "      <th>2022-05-12</th>\n",
              "      <td>73.099998</td>\n",
              "      <td>14.48</td>\n",
              "      <td>102.040001</td>\n",
              "      <td>3.180000</td>\n",
              "      <td>23.820000</td>\n",
              "      <td>16.410000</td>\n",
              "      <td>14.27</td>\n",
              "      <td>25.280001</td>\n",
              "      <td>24.260000</td>\n",
              "      <td>18.799999</td>\n",
              "      <td>55.310001</td>\n",
              "      <td>116.449997</td>\n",
              "      <td>26.410000</td>\n",
              "    </tr>\n",
              "  </tbody>\n",
              "</table>\n",
              "</div>\n",
              "      <button class=\"colab-df-convert\" onclick=\"convertToInteractive('df-b994b335-4bb7-4b6c-b4ee-8b12e3c44edb')\"\n",
              "              title=\"Convert this dataframe to an interactive table.\"\n",
              "              style=\"display:none;\">\n",
              "        \n",
              "  <svg xmlns=\"http://www.w3.org/2000/svg\" height=\"24px\"viewBox=\"0 0 24 24\"\n",
              "       width=\"24px\">\n",
              "    <path d=\"M0 0h24v24H0V0z\" fill=\"none\"/>\n",
              "    <path d=\"M18.56 5.44l.94 2.06.94-2.06 2.06-.94-2.06-.94-.94-2.06-.94 2.06-2.06.94zm-11 1L8.5 8.5l.94-2.06 2.06-.94-2.06-.94L8.5 2.5l-.94 2.06-2.06.94zm10 10l.94 2.06.94-2.06 2.06-.94-2.06-.94-.94-2.06-.94 2.06-2.06.94z\"/><path d=\"M17.41 7.96l-1.37-1.37c-.4-.4-.92-.59-1.43-.59-.52 0-1.04.2-1.43.59L10.3 9.45l-7.72 7.72c-.78.78-.78 2.05 0 2.83L4 21.41c.39.39.9.59 1.41.59.51 0 1.02-.2 1.41-.59l7.78-7.78 2.81-2.81c.8-.78.8-2.07 0-2.86zM5.41 20L4 18.59l7.72-7.72 1.47 1.35L5.41 20z\"/>\n",
              "  </svg>\n",
              "      </button>\n",
              "      \n",
              "  <style>\n",
              "    .colab-df-container {\n",
              "      display:flex;\n",
              "      flex-wrap:wrap;\n",
              "      gap: 12px;\n",
              "    }\n",
              "\n",
              "    .colab-df-convert {\n",
              "      background-color: #E8F0FE;\n",
              "      border: none;\n",
              "      border-radius: 50%;\n",
              "      cursor: pointer;\n",
              "      display: none;\n",
              "      fill: #1967D2;\n",
              "      height: 32px;\n",
              "      padding: 0 0 0 0;\n",
              "      width: 32px;\n",
              "    }\n",
              "\n",
              "    .colab-df-convert:hover {\n",
              "      background-color: #E2EBFA;\n",
              "      box-shadow: 0px 1px 2px rgba(60, 64, 67, 0.3), 0px 1px 3px 1px rgba(60, 64, 67, 0.15);\n",
              "      fill: #174EA6;\n",
              "    }\n",
              "\n",
              "    [theme=dark] .colab-df-convert {\n",
              "      background-color: #3B4455;\n",
              "      fill: #D2E3FC;\n",
              "    }\n",
              "\n",
              "    [theme=dark] .colab-df-convert:hover {\n",
              "      background-color: #434B5C;\n",
              "      box-shadow: 0px 1px 3px 1px rgba(0, 0, 0, 0.15);\n",
              "      filter: drop-shadow(0px 1px 2px rgba(0, 0, 0, 0.3));\n",
              "      fill: #FFFFFF;\n",
              "    }\n",
              "  </style>\n",
              "\n",
              "      <script>\n",
              "        const buttonEl =\n",
              "          document.querySelector('#df-b994b335-4bb7-4b6c-b4ee-8b12e3c44edb button.colab-df-convert');\n",
              "        buttonEl.style.display =\n",
              "          google.colab.kernel.accessAllowed ? 'block' : 'none';\n",
              "\n",
              "        async function convertToInteractive(key) {\n",
              "          const element = document.querySelector('#df-b994b335-4bb7-4b6c-b4ee-8b12e3c44edb');\n",
              "          const dataTable =\n",
              "            await google.colab.kernel.invokeFunction('convertToInteractive',\n",
              "                                                     [key], {});\n",
              "          if (!dataTable) return;\n",
              "\n",
              "          const docLinkHtml = 'Like what you see? Visit the ' +\n",
              "            '<a target=\"_blank\" href=https://colab.research.google.com/notebooks/data_table.ipynb>data table notebook</a>'\n",
              "            + ' to learn more about interactive tables.';\n",
              "          element.innerHTML = '';\n",
              "          dataTable['output_type'] = 'display_data';\n",
              "          await google.colab.output.renderOutput(dataTable, element);\n",
              "          const docLink = document.createElement('div');\n",
              "          docLink.innerHTML = docLinkHtml;\n",
              "          element.appendChild(docLink);\n",
              "        }\n",
              "      </script>\n",
              "    </div>\n",
              "  </div>\n",
              "  "
            ]
          },
          "metadata": {},
          "execution_count": 14
        }
      ]
    },
    {
      "cell_type": "markdown",
      "source": [
        "# 4. Calculando retornos diários e anuais dos papéis"
      ],
      "metadata": {
        "id": "5r2ESt9DgJ_o"
      }
    },
    {
      "cell_type": "code",
      "source": [
        "retorno_diario = df.pct_change()"
      ],
      "metadata": {
        "id": "mvw2dbeugT4J"
      },
      "execution_count": null,
      "outputs": []
    },
    {
      "cell_type": "code",
      "source": [
        "retorno_diario.head()"
      ],
      "metadata": {
        "colab": {
          "base_uri": "https://localhost:8080/",
          "height": 237
        },
        "id": "zSNieptxgYgU",
        "outputId": "51259f6f-f3f6-4f76-c25c-eb263d450d12"
      },
      "execution_count": null,
      "outputs": [
        {
          "output_type": "execute_result",
          "data": {
            "text/plain": [
              "            AAPL34.SA  ABEV3.SA  BOVA11.SA  CIEL3.SA  EQTL3.SA  EZTC3.SA  \\\n",
              "Date                                                                       \n",
              "2016-01-04        NaN       NaN        NaN       NaN       NaN       NaN   \n",
              "2016-01-05   0.000000  0.015688   0.001947  0.047811  0.048485  0.017442   \n",
              "2016-01-06  -0.022338 -0.009726  -0.016513  0.015407  0.005780 -0.016326   \n",
              "2016-01-07  -0.045941 -0.026574  -0.025432  0.003793 -0.027586 -0.004150   \n",
              "2016-01-08   0.010955  0.013056  -0.003294  0.017442  0.013593  0.025000   \n",
              "\n",
              "            FLRY3.SA  LREN3.SA  MDIA3.SA  RADL3.SA  RENT3.SA  TSLA34.SA  \\\n",
              "Date                                                                      \n",
              "2016-01-04       NaN       NaN       NaN       NaN       NaN        NaN   \n",
              "2016-01-05  0.011803  0.071207 -0.025230  0.046644  0.024839        NaN   \n",
              "2016-01-06 -0.005185 -0.005780  0.010101  0.009239  0.009194        NaN   \n",
              "2016-01-07  0.001303 -0.016279 -0.029531  0.012924 -0.006211        NaN   \n",
              "2016-01-08  0.003904 -0.002364  0.014329 -0.007974  0.000000        NaN   \n",
              "\n",
              "            WEGE3.SA  \n",
              "Date                  \n",
              "2016-01-04       NaN  \n",
              "2016-01-05  0.048497  \n",
              "2016-01-06 -0.022802  \n",
              "2016-01-07 -0.028666  \n",
              "2016-01-08 -0.004805  "
            ],
            "text/html": [
              "\n",
              "  <div id=\"df-e9aafd4d-fb9c-4c5a-bbfd-b831cbd850c5\">\n",
              "    <div class=\"colab-df-container\">\n",
              "      <div>\n",
              "<style scoped>\n",
              "    .dataframe tbody tr th:only-of-type {\n",
              "        vertical-align: middle;\n",
              "    }\n",
              "\n",
              "    .dataframe tbody tr th {\n",
              "        vertical-align: top;\n",
              "    }\n",
              "\n",
              "    .dataframe thead th {\n",
              "        text-align: right;\n",
              "    }\n",
              "</style>\n",
              "<table border=\"1\" class=\"dataframe\">\n",
              "  <thead>\n",
              "    <tr style=\"text-align: right;\">\n",
              "      <th></th>\n",
              "      <th>AAPL34.SA</th>\n",
              "      <th>ABEV3.SA</th>\n",
              "      <th>BOVA11.SA</th>\n",
              "      <th>CIEL3.SA</th>\n",
              "      <th>EQTL3.SA</th>\n",
              "      <th>EZTC3.SA</th>\n",
              "      <th>FLRY3.SA</th>\n",
              "      <th>LREN3.SA</th>\n",
              "      <th>MDIA3.SA</th>\n",
              "      <th>RADL3.SA</th>\n",
              "      <th>RENT3.SA</th>\n",
              "      <th>TSLA34.SA</th>\n",
              "      <th>WEGE3.SA</th>\n",
              "    </tr>\n",
              "    <tr>\n",
              "      <th>Date</th>\n",
              "      <th></th>\n",
              "      <th></th>\n",
              "      <th></th>\n",
              "      <th></th>\n",
              "      <th></th>\n",
              "      <th></th>\n",
              "      <th></th>\n",
              "      <th></th>\n",
              "      <th></th>\n",
              "      <th></th>\n",
              "      <th></th>\n",
              "      <th></th>\n",
              "      <th></th>\n",
              "    </tr>\n",
              "  </thead>\n",
              "  <tbody>\n",
              "    <tr>\n",
              "      <th>2016-01-04</th>\n",
              "      <td>NaN</td>\n",
              "      <td>NaN</td>\n",
              "      <td>NaN</td>\n",
              "      <td>NaN</td>\n",
              "      <td>NaN</td>\n",
              "      <td>NaN</td>\n",
              "      <td>NaN</td>\n",
              "      <td>NaN</td>\n",
              "      <td>NaN</td>\n",
              "      <td>NaN</td>\n",
              "      <td>NaN</td>\n",
              "      <td>NaN</td>\n",
              "      <td>NaN</td>\n",
              "    </tr>\n",
              "    <tr>\n",
              "      <th>2016-01-05</th>\n",
              "      <td>0.000000</td>\n",
              "      <td>0.015688</td>\n",
              "      <td>0.001947</td>\n",
              "      <td>0.047811</td>\n",
              "      <td>0.048485</td>\n",
              "      <td>0.017442</td>\n",
              "      <td>0.011803</td>\n",
              "      <td>0.071207</td>\n",
              "      <td>-0.025230</td>\n",
              "      <td>0.046644</td>\n",
              "      <td>0.024839</td>\n",
              "      <td>NaN</td>\n",
              "      <td>0.048497</td>\n",
              "    </tr>\n",
              "    <tr>\n",
              "      <th>2016-01-06</th>\n",
              "      <td>-0.022338</td>\n",
              "      <td>-0.009726</td>\n",
              "      <td>-0.016513</td>\n",
              "      <td>0.015407</td>\n",
              "      <td>0.005780</td>\n",
              "      <td>-0.016326</td>\n",
              "      <td>-0.005185</td>\n",
              "      <td>-0.005780</td>\n",
              "      <td>0.010101</td>\n",
              "      <td>0.009239</td>\n",
              "      <td>0.009194</td>\n",
              "      <td>NaN</td>\n",
              "      <td>-0.022802</td>\n",
              "    </tr>\n",
              "    <tr>\n",
              "      <th>2016-01-07</th>\n",
              "      <td>-0.045941</td>\n",
              "      <td>-0.026574</td>\n",
              "      <td>-0.025432</td>\n",
              "      <td>0.003793</td>\n",
              "      <td>-0.027586</td>\n",
              "      <td>-0.004150</td>\n",
              "      <td>0.001303</td>\n",
              "      <td>-0.016279</td>\n",
              "      <td>-0.029531</td>\n",
              "      <td>0.012924</td>\n",
              "      <td>-0.006211</td>\n",
              "      <td>NaN</td>\n",
              "      <td>-0.028666</td>\n",
              "    </tr>\n",
              "    <tr>\n",
              "      <th>2016-01-08</th>\n",
              "      <td>0.010955</td>\n",
              "      <td>0.013056</td>\n",
              "      <td>-0.003294</td>\n",
              "      <td>0.017442</td>\n",
              "      <td>0.013593</td>\n",
              "      <td>0.025000</td>\n",
              "      <td>0.003904</td>\n",
              "      <td>-0.002364</td>\n",
              "      <td>0.014329</td>\n",
              "      <td>-0.007974</td>\n",
              "      <td>0.000000</td>\n",
              "      <td>NaN</td>\n",
              "      <td>-0.004805</td>\n",
              "    </tr>\n",
              "  </tbody>\n",
              "</table>\n",
              "</div>\n",
              "      <button class=\"colab-df-convert\" onclick=\"convertToInteractive('df-e9aafd4d-fb9c-4c5a-bbfd-b831cbd850c5')\"\n",
              "              title=\"Convert this dataframe to an interactive table.\"\n",
              "              style=\"display:none;\">\n",
              "        \n",
              "  <svg xmlns=\"http://www.w3.org/2000/svg\" height=\"24px\"viewBox=\"0 0 24 24\"\n",
              "       width=\"24px\">\n",
              "    <path d=\"M0 0h24v24H0V0z\" fill=\"none\"/>\n",
              "    <path d=\"M18.56 5.44l.94 2.06.94-2.06 2.06-.94-2.06-.94-.94-2.06-.94 2.06-2.06.94zm-11 1L8.5 8.5l.94-2.06 2.06-.94-2.06-.94L8.5 2.5l-.94 2.06-2.06.94zm10 10l.94 2.06.94-2.06 2.06-.94-2.06-.94-.94-2.06-.94 2.06-2.06.94z\"/><path d=\"M17.41 7.96l-1.37-1.37c-.4-.4-.92-.59-1.43-.59-.52 0-1.04.2-1.43.59L10.3 9.45l-7.72 7.72c-.78.78-.78 2.05 0 2.83L4 21.41c.39.39.9.59 1.41.59.51 0 1.02-.2 1.41-.59l7.78-7.78 2.81-2.81c.8-.78.8-2.07 0-2.86zM5.41 20L4 18.59l7.72-7.72 1.47 1.35L5.41 20z\"/>\n",
              "  </svg>\n",
              "      </button>\n",
              "      \n",
              "  <style>\n",
              "    .colab-df-container {\n",
              "      display:flex;\n",
              "      flex-wrap:wrap;\n",
              "      gap: 12px;\n",
              "    }\n",
              "\n",
              "    .colab-df-convert {\n",
              "      background-color: #E8F0FE;\n",
              "      border: none;\n",
              "      border-radius: 50%;\n",
              "      cursor: pointer;\n",
              "      display: none;\n",
              "      fill: #1967D2;\n",
              "      height: 32px;\n",
              "      padding: 0 0 0 0;\n",
              "      width: 32px;\n",
              "    }\n",
              "\n",
              "    .colab-df-convert:hover {\n",
              "      background-color: #E2EBFA;\n",
              "      box-shadow: 0px 1px 2px rgba(60, 64, 67, 0.3), 0px 1px 3px 1px rgba(60, 64, 67, 0.15);\n",
              "      fill: #174EA6;\n",
              "    }\n",
              "\n",
              "    [theme=dark] .colab-df-convert {\n",
              "      background-color: #3B4455;\n",
              "      fill: #D2E3FC;\n",
              "    }\n",
              "\n",
              "    [theme=dark] .colab-df-convert:hover {\n",
              "      background-color: #434B5C;\n",
              "      box-shadow: 0px 1px 3px 1px rgba(0, 0, 0, 0.15);\n",
              "      filter: drop-shadow(0px 1px 2px rgba(0, 0, 0, 0.3));\n",
              "      fill: #FFFFFF;\n",
              "    }\n",
              "  </style>\n",
              "\n",
              "      <script>\n",
              "        const buttonEl =\n",
              "          document.querySelector('#df-e9aafd4d-fb9c-4c5a-bbfd-b831cbd850c5 button.colab-df-convert');\n",
              "        buttonEl.style.display =\n",
              "          google.colab.kernel.accessAllowed ? 'block' : 'none';\n",
              "\n",
              "        async function convertToInteractive(key) {\n",
              "          const element = document.querySelector('#df-e9aafd4d-fb9c-4c5a-bbfd-b831cbd850c5');\n",
              "          const dataTable =\n",
              "            await google.colab.kernel.invokeFunction('convertToInteractive',\n",
              "                                                     [key], {});\n",
              "          if (!dataTable) return;\n",
              "\n",
              "          const docLinkHtml = 'Like what you see? Visit the ' +\n",
              "            '<a target=\"_blank\" href=https://colab.research.google.com/notebooks/data_table.ipynb>data table notebook</a>'\n",
              "            + ' to learn more about interactive tables.';\n",
              "          element.innerHTML = '';\n",
              "          dataTable['output_type'] = 'display_data';\n",
              "          await google.colab.output.renderOutput(dataTable, element);\n",
              "          const docLink = document.createElement('div');\n",
              "          docLink.innerHTML = docLinkHtml;\n",
              "          element.appendChild(docLink);\n",
              "        }\n",
              "      </script>\n",
              "    </div>\n",
              "  </div>\n",
              "  "
            ]
          },
          "metadata": {},
          "execution_count": 16
        }
      ]
    },
    {
      "cell_type": "code",
      "source": [
        "retorno_diario = retorno_diario.iloc[1:]"
      ],
      "metadata": {
        "id": "vQC3JyKhgaKD"
      },
      "execution_count": null,
      "outputs": []
    },
    {
      "cell_type": "code",
      "source": [
        "retorno_diario.head()"
      ],
      "metadata": {
        "colab": {
          "base_uri": "https://localhost:8080/",
          "height": 237
        },
        "id": "82exgqzCgzYd",
        "outputId": "dc73cf21-2037-4217-8311-c7446d7fceee"
      },
      "execution_count": null,
      "outputs": [
        {
          "output_type": "execute_result",
          "data": {
            "text/plain": [
              "            AAPL34.SA  ABEV3.SA  BOVA11.SA  CIEL3.SA  EQTL3.SA  EZTC3.SA  \\\n",
              "Date                                                                       \n",
              "2016-01-05   0.000000  0.015688   0.001947  0.047811  0.048485  0.017442   \n",
              "2016-01-06  -0.022338 -0.009726  -0.016513  0.015407  0.005780 -0.016326   \n",
              "2016-01-07  -0.045941 -0.026574  -0.025432  0.003793 -0.027586 -0.004150   \n",
              "2016-01-08   0.010955  0.013056  -0.003294  0.017442  0.013593  0.025000   \n",
              "2016-01-11   0.002520 -0.015817  -0.015760 -0.047143 -0.001749  0.008130   \n",
              "\n",
              "            FLRY3.SA  LREN3.SA  MDIA3.SA  RADL3.SA  RENT3.SA  TSLA34.SA  \\\n",
              "Date                                                                      \n",
              "2016-01-05  0.011803  0.071207 -0.025230  0.046644  0.024839        NaN   \n",
              "2016-01-06 -0.005185 -0.005780  0.010101  0.009239  0.009194        NaN   \n",
              "2016-01-07  0.001303 -0.016279 -0.029531  0.012924 -0.006211        NaN   \n",
              "2016-01-08  0.003904 -0.002364  0.014329 -0.007974  0.000000        NaN   \n",
              "2016-01-11 -0.005833 -0.028436 -0.038095 -0.001340  0.001667        NaN   \n",
              "\n",
              "            WEGE3.SA  \n",
              "Date                  \n",
              "2016-01-05  0.048497  \n",
              "2016-01-06 -0.022802  \n",
              "2016-01-07 -0.028666  \n",
              "2016-01-08 -0.004805  \n",
              "2016-01-11 -0.022758  "
            ],
            "text/html": [
              "\n",
              "  <div id=\"df-e9aa3fd2-7ab1-48a7-bbce-18c43b8aeb7d\">\n",
              "    <div class=\"colab-df-container\">\n",
              "      <div>\n",
              "<style scoped>\n",
              "    .dataframe tbody tr th:only-of-type {\n",
              "        vertical-align: middle;\n",
              "    }\n",
              "\n",
              "    .dataframe tbody tr th {\n",
              "        vertical-align: top;\n",
              "    }\n",
              "\n",
              "    .dataframe thead th {\n",
              "        text-align: right;\n",
              "    }\n",
              "</style>\n",
              "<table border=\"1\" class=\"dataframe\">\n",
              "  <thead>\n",
              "    <tr style=\"text-align: right;\">\n",
              "      <th></th>\n",
              "      <th>AAPL34.SA</th>\n",
              "      <th>ABEV3.SA</th>\n",
              "      <th>BOVA11.SA</th>\n",
              "      <th>CIEL3.SA</th>\n",
              "      <th>EQTL3.SA</th>\n",
              "      <th>EZTC3.SA</th>\n",
              "      <th>FLRY3.SA</th>\n",
              "      <th>LREN3.SA</th>\n",
              "      <th>MDIA3.SA</th>\n",
              "      <th>RADL3.SA</th>\n",
              "      <th>RENT3.SA</th>\n",
              "      <th>TSLA34.SA</th>\n",
              "      <th>WEGE3.SA</th>\n",
              "    </tr>\n",
              "    <tr>\n",
              "      <th>Date</th>\n",
              "      <th></th>\n",
              "      <th></th>\n",
              "      <th></th>\n",
              "      <th></th>\n",
              "      <th></th>\n",
              "      <th></th>\n",
              "      <th></th>\n",
              "      <th></th>\n",
              "      <th></th>\n",
              "      <th></th>\n",
              "      <th></th>\n",
              "      <th></th>\n",
              "      <th></th>\n",
              "    </tr>\n",
              "  </thead>\n",
              "  <tbody>\n",
              "    <tr>\n",
              "      <th>2016-01-05</th>\n",
              "      <td>0.000000</td>\n",
              "      <td>0.015688</td>\n",
              "      <td>0.001947</td>\n",
              "      <td>0.047811</td>\n",
              "      <td>0.048485</td>\n",
              "      <td>0.017442</td>\n",
              "      <td>0.011803</td>\n",
              "      <td>0.071207</td>\n",
              "      <td>-0.025230</td>\n",
              "      <td>0.046644</td>\n",
              "      <td>0.024839</td>\n",
              "      <td>NaN</td>\n",
              "      <td>0.048497</td>\n",
              "    </tr>\n",
              "    <tr>\n",
              "      <th>2016-01-06</th>\n",
              "      <td>-0.022338</td>\n",
              "      <td>-0.009726</td>\n",
              "      <td>-0.016513</td>\n",
              "      <td>0.015407</td>\n",
              "      <td>0.005780</td>\n",
              "      <td>-0.016326</td>\n",
              "      <td>-0.005185</td>\n",
              "      <td>-0.005780</td>\n",
              "      <td>0.010101</td>\n",
              "      <td>0.009239</td>\n",
              "      <td>0.009194</td>\n",
              "      <td>NaN</td>\n",
              "      <td>-0.022802</td>\n",
              "    </tr>\n",
              "    <tr>\n",
              "      <th>2016-01-07</th>\n",
              "      <td>-0.045941</td>\n",
              "      <td>-0.026574</td>\n",
              "      <td>-0.025432</td>\n",
              "      <td>0.003793</td>\n",
              "      <td>-0.027586</td>\n",
              "      <td>-0.004150</td>\n",
              "      <td>0.001303</td>\n",
              "      <td>-0.016279</td>\n",
              "      <td>-0.029531</td>\n",
              "      <td>0.012924</td>\n",
              "      <td>-0.006211</td>\n",
              "      <td>NaN</td>\n",
              "      <td>-0.028666</td>\n",
              "    </tr>\n",
              "    <tr>\n",
              "      <th>2016-01-08</th>\n",
              "      <td>0.010955</td>\n",
              "      <td>0.013056</td>\n",
              "      <td>-0.003294</td>\n",
              "      <td>0.017442</td>\n",
              "      <td>0.013593</td>\n",
              "      <td>0.025000</td>\n",
              "      <td>0.003904</td>\n",
              "      <td>-0.002364</td>\n",
              "      <td>0.014329</td>\n",
              "      <td>-0.007974</td>\n",
              "      <td>0.000000</td>\n",
              "      <td>NaN</td>\n",
              "      <td>-0.004805</td>\n",
              "    </tr>\n",
              "    <tr>\n",
              "      <th>2016-01-11</th>\n",
              "      <td>0.002520</td>\n",
              "      <td>-0.015817</td>\n",
              "      <td>-0.015760</td>\n",
              "      <td>-0.047143</td>\n",
              "      <td>-0.001749</td>\n",
              "      <td>0.008130</td>\n",
              "      <td>-0.005833</td>\n",
              "      <td>-0.028436</td>\n",
              "      <td>-0.038095</td>\n",
              "      <td>-0.001340</td>\n",
              "      <td>0.001667</td>\n",
              "      <td>NaN</td>\n",
              "      <td>-0.022758</td>\n",
              "    </tr>\n",
              "  </tbody>\n",
              "</table>\n",
              "</div>\n",
              "      <button class=\"colab-df-convert\" onclick=\"convertToInteractive('df-e9aa3fd2-7ab1-48a7-bbce-18c43b8aeb7d')\"\n",
              "              title=\"Convert this dataframe to an interactive table.\"\n",
              "              style=\"display:none;\">\n",
              "        \n",
              "  <svg xmlns=\"http://www.w3.org/2000/svg\" height=\"24px\"viewBox=\"0 0 24 24\"\n",
              "       width=\"24px\">\n",
              "    <path d=\"M0 0h24v24H0V0z\" fill=\"none\"/>\n",
              "    <path d=\"M18.56 5.44l.94 2.06.94-2.06 2.06-.94-2.06-.94-.94-2.06-.94 2.06-2.06.94zm-11 1L8.5 8.5l.94-2.06 2.06-.94-2.06-.94L8.5 2.5l-.94 2.06-2.06.94zm10 10l.94 2.06.94-2.06 2.06-.94-2.06-.94-.94-2.06-.94 2.06-2.06.94z\"/><path d=\"M17.41 7.96l-1.37-1.37c-.4-.4-.92-.59-1.43-.59-.52 0-1.04.2-1.43.59L10.3 9.45l-7.72 7.72c-.78.78-.78 2.05 0 2.83L4 21.41c.39.39.9.59 1.41.59.51 0 1.02-.2 1.41-.59l7.78-7.78 2.81-2.81c.8-.78.8-2.07 0-2.86zM5.41 20L4 18.59l7.72-7.72 1.47 1.35L5.41 20z\"/>\n",
              "  </svg>\n",
              "      </button>\n",
              "      \n",
              "  <style>\n",
              "    .colab-df-container {\n",
              "      display:flex;\n",
              "      flex-wrap:wrap;\n",
              "      gap: 12px;\n",
              "    }\n",
              "\n",
              "    .colab-df-convert {\n",
              "      background-color: #E8F0FE;\n",
              "      border: none;\n",
              "      border-radius: 50%;\n",
              "      cursor: pointer;\n",
              "      display: none;\n",
              "      fill: #1967D2;\n",
              "      height: 32px;\n",
              "      padding: 0 0 0 0;\n",
              "      width: 32px;\n",
              "    }\n",
              "\n",
              "    .colab-df-convert:hover {\n",
              "      background-color: #E2EBFA;\n",
              "      box-shadow: 0px 1px 2px rgba(60, 64, 67, 0.3), 0px 1px 3px 1px rgba(60, 64, 67, 0.15);\n",
              "      fill: #174EA6;\n",
              "    }\n",
              "\n",
              "    [theme=dark] .colab-df-convert {\n",
              "      background-color: #3B4455;\n",
              "      fill: #D2E3FC;\n",
              "    }\n",
              "\n",
              "    [theme=dark] .colab-df-convert:hover {\n",
              "      background-color: #434B5C;\n",
              "      box-shadow: 0px 1px 3px 1px rgba(0, 0, 0, 0.15);\n",
              "      filter: drop-shadow(0px 1px 2px rgba(0, 0, 0, 0.3));\n",
              "      fill: #FFFFFF;\n",
              "    }\n",
              "  </style>\n",
              "\n",
              "      <script>\n",
              "        const buttonEl =\n",
              "          document.querySelector('#df-e9aa3fd2-7ab1-48a7-bbce-18c43b8aeb7d button.colab-df-convert');\n",
              "        buttonEl.style.display =\n",
              "          google.colab.kernel.accessAllowed ? 'block' : 'none';\n",
              "\n",
              "        async function convertToInteractive(key) {\n",
              "          const element = document.querySelector('#df-e9aa3fd2-7ab1-48a7-bbce-18c43b8aeb7d');\n",
              "          const dataTable =\n",
              "            await google.colab.kernel.invokeFunction('convertToInteractive',\n",
              "                                                     [key], {});\n",
              "          if (!dataTable) return;\n",
              "\n",
              "          const docLinkHtml = 'Like what you see? Visit the ' +\n",
              "            '<a target=\"_blank\" href=https://colab.research.google.com/notebooks/data_table.ipynb>data table notebook</a>'\n",
              "            + ' to learn more about interactive tables.';\n",
              "          element.innerHTML = '';\n",
              "          dataTable['output_type'] = 'display_data';\n",
              "          await google.colab.output.renderOutput(dataTable, element);\n",
              "          const docLink = document.createElement('div');\n",
              "          docLink.innerHTML = docLinkHtml;\n",
              "          element.appendChild(docLink);\n",
              "        }\n",
              "      </script>\n",
              "    </div>\n",
              "  </div>\n",
              "  "
            ]
          },
          "metadata": {},
          "execution_count": 18
        }
      ]
    },
    {
      "cell_type": "markdown",
      "source": [
        "Anualizando os retornos"
      ],
      "metadata": {
        "id": "I11ECy0Rg0UG"
      }
    },
    {
      "cell_type": "code",
      "source": [
        "retorno_anual = retorno_diario.mean()*250"
      ],
      "metadata": {
        "id": "IEMPNKfxg5OH"
      },
      "execution_count": null,
      "outputs": []
    },
    {
      "cell_type": "code",
      "source": [
        "retorno_anual"
      ],
      "metadata": {
        "colab": {
          "base_uri": "https://localhost:8080/"
        },
        "id": "DZ6YA1DWhCeu",
        "outputId": "0689150d-f999-4e7f-9b9a-69823c97e92b"
      },
      "execution_count": null,
      "outputs": [
        {
          "output_type": "execute_result",
          "data": {
            "text/plain": [
              "AAPL34.SA    0.373025\n",
              "ABEV3.SA     0.043779\n",
              "BOVA11.SA    0.179312\n",
              "CIEL3.SA    -0.144109\n",
              "EQTL3.SA     0.263981\n",
              "EZTC3.SA     0.247403\n",
              "FLRY3.SA     0.199946\n",
              "LREN3.SA     0.198589\n",
              "MDIA3.SA     0.103555\n",
              "RADL3.SA     0.212366\n",
              "RENT3.SA     0.436612\n",
              "TSLA34.SA    0.780788\n",
              "WEGE3.SA     0.326191\n",
              "dtype: float64"
            ]
          },
          "metadata": {},
          "execution_count": 20
        }
      ]
    },
    {
      "cell_type": "markdown",
      "source": [
        "**Calculando a covariância**"
      ],
      "metadata": {
        "id": "pDOBGHSFhDTu"
      }
    },
    {
      "cell_type": "code",
      "source": [
        "cov_diario = retorno_diario.cov()"
      ],
      "metadata": {
        "id": "E_c2ZWOOhS6W"
      },
      "execution_count": null,
      "outputs": []
    },
    {
      "cell_type": "code",
      "source": [
        "cov_diario"
      ],
      "metadata": {
        "colab": {
          "base_uri": "https://localhost:8080/",
          "height": 457
        },
        "id": "qH21wx16hZjV",
        "outputId": "f2476672-ec86-418e-c1cc-94f25d821b79"
      },
      "execution_count": null,
      "outputs": [
        {
          "output_type": "execute_result",
          "data": {
            "text/plain": [
              "           AAPL34.SA  ABEV3.SA  BOVA11.SA  CIEL3.SA  EQTL3.SA  EZTC3.SA  \\\n",
              "AAPL34.SA   0.000425  0.000034   0.000038  0.000049  0.000022  0.000029   \n",
              "ABEV3.SA    0.000034  0.000326   0.000172  0.000200  0.000128  0.000212   \n",
              "BOVA11.SA   0.000038  0.000172   0.000281  0.000248  0.000178  0.000320   \n",
              "CIEL3.SA    0.000049  0.000200   0.000248  0.000927  0.000199  0.000341   \n",
              "EQTL3.SA    0.000022  0.000128   0.000178  0.000199  0.000308  0.000265   \n",
              "EZTC3.SA    0.000029  0.000212   0.000320  0.000341  0.000265  0.000872   \n",
              "FLRY3.SA    0.000016  0.000135   0.000183  0.000193  0.000164  0.000275   \n",
              "LREN3.SA    0.000023  0.000207   0.000284  0.000300  0.000220  0.000458   \n",
              "MDIA3.SA    0.000020  0.000160   0.000185  0.000224  0.000138  0.000285   \n",
              "RADL3.SA    0.000015  0.000130   0.000146  0.000169  0.000117  0.000211   \n",
              "RENT3.SA    0.000033  0.000196   0.000311  0.000328  0.000231  0.000469   \n",
              "TSLA34.SA   0.000254  0.000057   0.000103  0.000075  0.000064  0.000116   \n",
              "WEGE3.SA    0.000054  0.000160   0.000210  0.000208  0.000154  0.000263   \n",
              "\n",
              "           FLRY3.SA  LREN3.SA  MDIA3.SA  RADL3.SA  RENT3.SA  TSLA34.SA  \\\n",
              "AAPL34.SA  0.000016  0.000023  0.000020  0.000015  0.000033   0.000254   \n",
              "ABEV3.SA   0.000135  0.000207  0.000160  0.000130  0.000196   0.000057   \n",
              "BOVA11.SA  0.000183  0.000284  0.000185  0.000146  0.000311   0.000103   \n",
              "CIEL3.SA   0.000193  0.000300  0.000224  0.000169  0.000328   0.000075   \n",
              "EQTL3.SA   0.000164  0.000220  0.000138  0.000117  0.000231   0.000064   \n",
              "EZTC3.SA   0.000275  0.000458  0.000285  0.000211  0.000469   0.000116   \n",
              "FLRY3.SA   0.000450  0.000254  0.000163  0.000147  0.000268   0.000107   \n",
              "LREN3.SA   0.000254  0.000640  0.000218  0.000197  0.000432   0.000101   \n",
              "MDIA3.SA   0.000163  0.000218  0.000509  0.000132  0.000242   0.000091   \n",
              "RADL3.SA   0.000147  0.000197  0.000132  0.000388  0.000210   0.000050   \n",
              "RENT3.SA   0.000268  0.000432  0.000242  0.000210  0.000788   0.000112   \n",
              "TSLA34.SA  0.000107  0.000101  0.000091  0.000050  0.000112   0.001446   \n",
              "WEGE3.SA   0.000167  0.000231  0.000185  0.000182  0.000269   0.000156   \n",
              "\n",
              "           WEGE3.SA  \n",
              "AAPL34.SA  0.000054  \n",
              "ABEV3.SA   0.000160  \n",
              "BOVA11.SA  0.000210  \n",
              "CIEL3.SA   0.000208  \n",
              "EQTL3.SA   0.000154  \n",
              "EZTC3.SA   0.000263  \n",
              "FLRY3.SA   0.000167  \n",
              "LREN3.SA   0.000231  \n",
              "MDIA3.SA   0.000185  \n",
              "RADL3.SA   0.000182  \n",
              "RENT3.SA   0.000269  \n",
              "TSLA34.SA  0.000156  \n",
              "WEGE3.SA   0.000518  "
            ],
            "text/html": [
              "\n",
              "  <div id=\"df-06374ae1-357e-4b11-aea9-1dd83e1ed7f6\">\n",
              "    <div class=\"colab-df-container\">\n",
              "      <div>\n",
              "<style scoped>\n",
              "    .dataframe tbody tr th:only-of-type {\n",
              "        vertical-align: middle;\n",
              "    }\n",
              "\n",
              "    .dataframe tbody tr th {\n",
              "        vertical-align: top;\n",
              "    }\n",
              "\n",
              "    .dataframe thead th {\n",
              "        text-align: right;\n",
              "    }\n",
              "</style>\n",
              "<table border=\"1\" class=\"dataframe\">\n",
              "  <thead>\n",
              "    <tr style=\"text-align: right;\">\n",
              "      <th></th>\n",
              "      <th>AAPL34.SA</th>\n",
              "      <th>ABEV3.SA</th>\n",
              "      <th>BOVA11.SA</th>\n",
              "      <th>CIEL3.SA</th>\n",
              "      <th>EQTL3.SA</th>\n",
              "      <th>EZTC3.SA</th>\n",
              "      <th>FLRY3.SA</th>\n",
              "      <th>LREN3.SA</th>\n",
              "      <th>MDIA3.SA</th>\n",
              "      <th>RADL3.SA</th>\n",
              "      <th>RENT3.SA</th>\n",
              "      <th>TSLA34.SA</th>\n",
              "      <th>WEGE3.SA</th>\n",
              "    </tr>\n",
              "  </thead>\n",
              "  <tbody>\n",
              "    <tr>\n",
              "      <th>AAPL34.SA</th>\n",
              "      <td>0.000425</td>\n",
              "      <td>0.000034</td>\n",
              "      <td>0.000038</td>\n",
              "      <td>0.000049</td>\n",
              "      <td>0.000022</td>\n",
              "      <td>0.000029</td>\n",
              "      <td>0.000016</td>\n",
              "      <td>0.000023</td>\n",
              "      <td>0.000020</td>\n",
              "      <td>0.000015</td>\n",
              "      <td>0.000033</td>\n",
              "      <td>0.000254</td>\n",
              "      <td>0.000054</td>\n",
              "    </tr>\n",
              "    <tr>\n",
              "      <th>ABEV3.SA</th>\n",
              "      <td>0.000034</td>\n",
              "      <td>0.000326</td>\n",
              "      <td>0.000172</td>\n",
              "      <td>0.000200</td>\n",
              "      <td>0.000128</td>\n",
              "      <td>0.000212</td>\n",
              "      <td>0.000135</td>\n",
              "      <td>0.000207</td>\n",
              "      <td>0.000160</td>\n",
              "      <td>0.000130</td>\n",
              "      <td>0.000196</td>\n",
              "      <td>0.000057</td>\n",
              "      <td>0.000160</td>\n",
              "    </tr>\n",
              "    <tr>\n",
              "      <th>BOVA11.SA</th>\n",
              "      <td>0.000038</td>\n",
              "      <td>0.000172</td>\n",
              "      <td>0.000281</td>\n",
              "      <td>0.000248</td>\n",
              "      <td>0.000178</td>\n",
              "      <td>0.000320</td>\n",
              "      <td>0.000183</td>\n",
              "      <td>0.000284</td>\n",
              "      <td>0.000185</td>\n",
              "      <td>0.000146</td>\n",
              "      <td>0.000311</td>\n",
              "      <td>0.000103</td>\n",
              "      <td>0.000210</td>\n",
              "    </tr>\n",
              "    <tr>\n",
              "      <th>CIEL3.SA</th>\n",
              "      <td>0.000049</td>\n",
              "      <td>0.000200</td>\n",
              "      <td>0.000248</td>\n",
              "      <td>0.000927</td>\n",
              "      <td>0.000199</td>\n",
              "      <td>0.000341</td>\n",
              "      <td>0.000193</td>\n",
              "      <td>0.000300</td>\n",
              "      <td>0.000224</td>\n",
              "      <td>0.000169</td>\n",
              "      <td>0.000328</td>\n",
              "      <td>0.000075</td>\n",
              "      <td>0.000208</td>\n",
              "    </tr>\n",
              "    <tr>\n",
              "      <th>EQTL3.SA</th>\n",
              "      <td>0.000022</td>\n",
              "      <td>0.000128</td>\n",
              "      <td>0.000178</td>\n",
              "      <td>0.000199</td>\n",
              "      <td>0.000308</td>\n",
              "      <td>0.000265</td>\n",
              "      <td>0.000164</td>\n",
              "      <td>0.000220</td>\n",
              "      <td>0.000138</td>\n",
              "      <td>0.000117</td>\n",
              "      <td>0.000231</td>\n",
              "      <td>0.000064</td>\n",
              "      <td>0.000154</td>\n",
              "    </tr>\n",
              "    <tr>\n",
              "      <th>EZTC3.SA</th>\n",
              "      <td>0.000029</td>\n",
              "      <td>0.000212</td>\n",
              "      <td>0.000320</td>\n",
              "      <td>0.000341</td>\n",
              "      <td>0.000265</td>\n",
              "      <td>0.000872</td>\n",
              "      <td>0.000275</td>\n",
              "      <td>0.000458</td>\n",
              "      <td>0.000285</td>\n",
              "      <td>0.000211</td>\n",
              "      <td>0.000469</td>\n",
              "      <td>0.000116</td>\n",
              "      <td>0.000263</td>\n",
              "    </tr>\n",
              "    <tr>\n",
              "      <th>FLRY3.SA</th>\n",
              "      <td>0.000016</td>\n",
              "      <td>0.000135</td>\n",
              "      <td>0.000183</td>\n",
              "      <td>0.000193</td>\n",
              "      <td>0.000164</td>\n",
              "      <td>0.000275</td>\n",
              "      <td>0.000450</td>\n",
              "      <td>0.000254</td>\n",
              "      <td>0.000163</td>\n",
              "      <td>0.000147</td>\n",
              "      <td>0.000268</td>\n",
              "      <td>0.000107</td>\n",
              "      <td>0.000167</td>\n",
              "    </tr>\n",
              "    <tr>\n",
              "      <th>LREN3.SA</th>\n",
              "      <td>0.000023</td>\n",
              "      <td>0.000207</td>\n",
              "      <td>0.000284</td>\n",
              "      <td>0.000300</td>\n",
              "      <td>0.000220</td>\n",
              "      <td>0.000458</td>\n",
              "      <td>0.000254</td>\n",
              "      <td>0.000640</td>\n",
              "      <td>0.000218</td>\n",
              "      <td>0.000197</td>\n",
              "      <td>0.000432</td>\n",
              "      <td>0.000101</td>\n",
              "      <td>0.000231</td>\n",
              "    </tr>\n",
              "    <tr>\n",
              "      <th>MDIA3.SA</th>\n",
              "      <td>0.000020</td>\n",
              "      <td>0.000160</td>\n",
              "      <td>0.000185</td>\n",
              "      <td>0.000224</td>\n",
              "      <td>0.000138</td>\n",
              "      <td>0.000285</td>\n",
              "      <td>0.000163</td>\n",
              "      <td>0.000218</td>\n",
              "      <td>0.000509</td>\n",
              "      <td>0.000132</td>\n",
              "      <td>0.000242</td>\n",
              "      <td>0.000091</td>\n",
              "      <td>0.000185</td>\n",
              "    </tr>\n",
              "    <tr>\n",
              "      <th>RADL3.SA</th>\n",
              "      <td>0.000015</td>\n",
              "      <td>0.000130</td>\n",
              "      <td>0.000146</td>\n",
              "      <td>0.000169</td>\n",
              "      <td>0.000117</td>\n",
              "      <td>0.000211</td>\n",
              "      <td>0.000147</td>\n",
              "      <td>0.000197</td>\n",
              "      <td>0.000132</td>\n",
              "      <td>0.000388</td>\n",
              "      <td>0.000210</td>\n",
              "      <td>0.000050</td>\n",
              "      <td>0.000182</td>\n",
              "    </tr>\n",
              "    <tr>\n",
              "      <th>RENT3.SA</th>\n",
              "      <td>0.000033</td>\n",
              "      <td>0.000196</td>\n",
              "      <td>0.000311</td>\n",
              "      <td>0.000328</td>\n",
              "      <td>0.000231</td>\n",
              "      <td>0.000469</td>\n",
              "      <td>0.000268</td>\n",
              "      <td>0.000432</td>\n",
              "      <td>0.000242</td>\n",
              "      <td>0.000210</td>\n",
              "      <td>0.000788</td>\n",
              "      <td>0.000112</td>\n",
              "      <td>0.000269</td>\n",
              "    </tr>\n",
              "    <tr>\n",
              "      <th>TSLA34.SA</th>\n",
              "      <td>0.000254</td>\n",
              "      <td>0.000057</td>\n",
              "      <td>0.000103</td>\n",
              "      <td>0.000075</td>\n",
              "      <td>0.000064</td>\n",
              "      <td>0.000116</td>\n",
              "      <td>0.000107</td>\n",
              "      <td>0.000101</td>\n",
              "      <td>0.000091</td>\n",
              "      <td>0.000050</td>\n",
              "      <td>0.000112</td>\n",
              "      <td>0.001446</td>\n",
              "      <td>0.000156</td>\n",
              "    </tr>\n",
              "    <tr>\n",
              "      <th>WEGE3.SA</th>\n",
              "      <td>0.000054</td>\n",
              "      <td>0.000160</td>\n",
              "      <td>0.000210</td>\n",
              "      <td>0.000208</td>\n",
              "      <td>0.000154</td>\n",
              "      <td>0.000263</td>\n",
              "      <td>0.000167</td>\n",
              "      <td>0.000231</td>\n",
              "      <td>0.000185</td>\n",
              "      <td>0.000182</td>\n",
              "      <td>0.000269</td>\n",
              "      <td>0.000156</td>\n",
              "      <td>0.000518</td>\n",
              "    </tr>\n",
              "  </tbody>\n",
              "</table>\n",
              "</div>\n",
              "      <button class=\"colab-df-convert\" onclick=\"convertToInteractive('df-06374ae1-357e-4b11-aea9-1dd83e1ed7f6')\"\n",
              "              title=\"Convert this dataframe to an interactive table.\"\n",
              "              style=\"display:none;\">\n",
              "        \n",
              "  <svg xmlns=\"http://www.w3.org/2000/svg\" height=\"24px\"viewBox=\"0 0 24 24\"\n",
              "       width=\"24px\">\n",
              "    <path d=\"M0 0h24v24H0V0z\" fill=\"none\"/>\n",
              "    <path d=\"M18.56 5.44l.94 2.06.94-2.06 2.06-.94-2.06-.94-.94-2.06-.94 2.06-2.06.94zm-11 1L8.5 8.5l.94-2.06 2.06-.94-2.06-.94L8.5 2.5l-.94 2.06-2.06.94zm10 10l.94 2.06.94-2.06 2.06-.94-2.06-.94-.94-2.06-.94 2.06-2.06.94z\"/><path d=\"M17.41 7.96l-1.37-1.37c-.4-.4-.92-.59-1.43-.59-.52 0-1.04.2-1.43.59L10.3 9.45l-7.72 7.72c-.78.78-.78 2.05 0 2.83L4 21.41c.39.39.9.59 1.41.59.51 0 1.02-.2 1.41-.59l7.78-7.78 2.81-2.81c.8-.78.8-2.07 0-2.86zM5.41 20L4 18.59l7.72-7.72 1.47 1.35L5.41 20z\"/>\n",
              "  </svg>\n",
              "      </button>\n",
              "      \n",
              "  <style>\n",
              "    .colab-df-container {\n",
              "      display:flex;\n",
              "      flex-wrap:wrap;\n",
              "      gap: 12px;\n",
              "    }\n",
              "\n",
              "    .colab-df-convert {\n",
              "      background-color: #E8F0FE;\n",
              "      border: none;\n",
              "      border-radius: 50%;\n",
              "      cursor: pointer;\n",
              "      display: none;\n",
              "      fill: #1967D2;\n",
              "      height: 32px;\n",
              "      padding: 0 0 0 0;\n",
              "      width: 32px;\n",
              "    }\n",
              "\n",
              "    .colab-df-convert:hover {\n",
              "      background-color: #E2EBFA;\n",
              "      box-shadow: 0px 1px 2px rgba(60, 64, 67, 0.3), 0px 1px 3px 1px rgba(60, 64, 67, 0.15);\n",
              "      fill: #174EA6;\n",
              "    }\n",
              "\n",
              "    [theme=dark] .colab-df-convert {\n",
              "      background-color: #3B4455;\n",
              "      fill: #D2E3FC;\n",
              "    }\n",
              "\n",
              "    [theme=dark] .colab-df-convert:hover {\n",
              "      background-color: #434B5C;\n",
              "      box-shadow: 0px 1px 3px 1px rgba(0, 0, 0, 0.15);\n",
              "      filter: drop-shadow(0px 1px 2px rgba(0, 0, 0, 0.3));\n",
              "      fill: #FFFFFF;\n",
              "    }\n",
              "  </style>\n",
              "\n",
              "      <script>\n",
              "        const buttonEl =\n",
              "          document.querySelector('#df-06374ae1-357e-4b11-aea9-1dd83e1ed7f6 button.colab-df-convert');\n",
              "        buttonEl.style.display =\n",
              "          google.colab.kernel.accessAllowed ? 'block' : 'none';\n",
              "\n",
              "        async function convertToInteractive(key) {\n",
              "          const element = document.querySelector('#df-06374ae1-357e-4b11-aea9-1dd83e1ed7f6');\n",
              "          const dataTable =\n",
              "            await google.colab.kernel.invokeFunction('convertToInteractive',\n",
              "                                                     [key], {});\n",
              "          if (!dataTable) return;\n",
              "\n",
              "          const docLinkHtml = 'Like what you see? Visit the ' +\n",
              "            '<a target=\"_blank\" href=https://colab.research.google.com/notebooks/data_table.ipynb>data table notebook</a>'\n",
              "            + ' to learn more about interactive tables.';\n",
              "          element.innerHTML = '';\n",
              "          dataTable['output_type'] = 'display_data';\n",
              "          await google.colab.output.renderOutput(dataTable, element);\n",
              "          const docLink = document.createElement('div');\n",
              "          docLink.innerHTML = docLinkHtml;\n",
              "          element.appendChild(docLink);\n",
              "        }\n",
              "      </script>\n",
              "    </div>\n",
              "  </div>\n",
              "  "
            ]
          },
          "metadata": {},
          "execution_count": 22
        }
      ]
    },
    {
      "cell_type": "code",
      "source": [
        "cov_anual = cov_diario*250"
      ],
      "metadata": {
        "id": "I8azBmgOhaI9"
      },
      "execution_count": null,
      "outputs": []
    },
    {
      "cell_type": "markdown",
      "source": [
        "Calculando pesos dos ativos"
      ],
      "metadata": {
        "id": "XC8Bc3lehjFm"
      }
    },
    {
      "cell_type": "code",
      "source": [
        "num_assets = len(ativos)"
      ],
      "metadata": {
        "id": "K7qK8LGlhtVn"
      },
      "execution_count": null,
      "outputs": []
    },
    {
      "cell_type": "code",
      "source": [
        "num_assets"
      ],
      "metadata": {
        "colab": {
          "base_uri": "https://localhost:8080/"
        },
        "id": "rsM1KAPThwI8",
        "outputId": "5258cc23-e545-4e2c-ba91-5e9dd8c2a1f7"
      },
      "execution_count": null,
      "outputs": [
        {
          "output_type": "execute_result",
          "data": {
            "text/plain": [
              "13"
            ]
          },
          "metadata": {},
          "execution_count": 25
        }
      ]
    },
    {
      "cell_type": "code",
      "source": [
        "peso = np.random.random(num_assets)"
      ],
      "metadata": {
        "id": "VRe2t-4YhxM1"
      },
      "execution_count": null,
      "outputs": []
    },
    {
      "cell_type": "code",
      "source": [
        "peso"
      ],
      "metadata": {
        "colab": {
          "base_uri": "https://localhost:8080/"
        },
        "id": "OscOcSRkiAM9",
        "outputId": "bfde9299-d3b4-46de-d872-e5ef89c250f0"
      },
      "execution_count": null,
      "outputs": [
        {
          "output_type": "execute_result",
          "data": {
            "text/plain": [
              "array([0.6308088 , 0.47026081, 0.26807247, 0.67380851, 0.64364974,\n",
              "       0.96550299, 0.18272434, 0.15636332, 0.71014165, 0.01090692,\n",
              "       0.84409374, 0.13702345, 0.925275  ])"
            ]
          },
          "metadata": {},
          "execution_count": 27
        }
      ]
    },
    {
      "cell_type": "code",
      "source": [
        "sum(peso)"
      ],
      "metadata": {
        "colab": {
          "base_uri": "https://localhost:8080/"
        },
        "id": "EXSCSq-diAze",
        "outputId": "8c829b74-9c91-47a8-a68b-80fcd71c19f1"
      },
      "execution_count": null,
      "outputs": [
        {
          "output_type": "execute_result",
          "data": {
            "text/plain": [
              "6.618631739014479"
            ]
          },
          "metadata": {},
          "execution_count": 28
        }
      ]
    },
    {
      "cell_type": "code",
      "source": [
        "carteira = peso/sum(peso)"
      ],
      "metadata": {
        "id": "1X3t4uQWiDJB"
      },
      "execution_count": null,
      "outputs": []
    },
    {
      "cell_type": "code",
      "source": [
        "sum(peso/sum(peso))"
      ],
      "metadata": {
        "colab": {
          "base_uri": "https://localhost:8080/"
        },
        "id": "fA5kc14wiJP9",
        "outputId": "68141170-f292-41d9-cfee-5adf548f44ce"
      },
      "execution_count": null,
      "outputs": [
        {
          "output_type": "execute_result",
          "data": {
            "text/plain": [
              "0.9999999999999999"
            ]
          },
          "metadata": {},
          "execution_count": 30
        }
      ]
    },
    {
      "cell_type": "code",
      "source": [
        "# Como calculamos os retornos segundo a MPT?"
      ],
      "metadata": {
        "id": "bNJo0uz0iLml"
      },
      "execution_count": null,
      "outputs": []
    },
    {
      "cell_type": "code",
      "source": [
        "np.dot(carteira, retorno_anual)"
      ],
      "metadata": {
        "colab": {
          "base_uri": "https://localhost:8080/"
        },
        "id": "XntkgbMoiXFQ",
        "outputId": "8ecc59cb-f45e-442b-ec54-54038a45ff00"
      },
      "execution_count": null,
      "outputs": [
        {
          "output_type": "execute_result",
          "data": {
            "text/plain": [
              "0.23213673381819494"
            ]
          },
          "metadata": {},
          "execution_count": 32
        }
      ]
    },
    {
      "cell_type": "code",
      "source": [
        "# Como calculamos a volatilidade segundo a MPT?"
      ],
      "metadata": {
        "id": "-_hNuXYrikrN"
      },
      "execution_count": null,
      "outputs": []
    },
    {
      "cell_type": "code",
      "source": [
        "np.sqrt(np.dot(carteira.T, (np.dot(cov_anual, carteira))))"
      ],
      "metadata": {
        "colab": {
          "base_uri": "https://localhost:8080/"
        },
        "id": "PzTRkp2Pip8V",
        "outputId": "c6e6e1f3-c19b-4baa-dd0a-6d43f5deea28"
      },
      "execution_count": null,
      "outputs": [
        {
          "output_type": "execute_result",
          "data": {
            "text/plain": [
              "0.2480546119796649"
            ]
          },
          "metadata": {},
          "execution_count": 34
        }
      ]
    },
    {
      "cell_type": "code",
      "source": [
        "from IPython.display import Image\n",
        "Image('https://i.stack.imgur.com/U4B9I.png')"
      ],
      "metadata": {
        "colab": {
          "base_uri": "https://localhost:8080/",
          "height": 217
        },
        "id": "pZE4UiQUi-XO",
        "outputId": "24897da2-433e-44db-f35f-d2573b591db9"
      },
      "execution_count": null,
      "outputs": [
        {
          "output_type": "execute_result",
          "data": {
            "text/plain": [
              "<IPython.core.display.Image object>"
            ],
            "image/png": "[encoded data removed]"
          },
          "metadata": {},
          "execution_count": 35
        }
      ]
    },
    {
      "cell_type": "markdown",
      "source": [
        "# 5. Iniciando simulação de Monte Carlo"
      ],
      "metadata": {
        "id": "5OXgEERxjCyt"
      }
    },
    {
      "cell_type": "markdown",
      "source": [
        "Vamos utilizar uma simulação estocástica para criar 200 mil portfólio randomizados e dessa forma verificar a formação de uma fronteira eficiente"
      ],
      "metadata": {
        "id": "mu6l8v9xkHtA"
      }
    },
    {
      "cell_type": "code",
      "source": [
        "from IPython.display import Image\n",
        "Image('https://cdn.corporatefinanceinstitute.com/assets/modern-portfolio-theory1.jpeg.png')"
      ],
      "metadata": {
        "colab": {
          "base_uri": "https://localhost:8080/",
          "height": 454
        },
        "id": "cwd_2_xMkKU7",
        "outputId": "2023af18-a669-4300-85be-22a86aeeb06f"
      },
      "execution_count": null,
      "outputs": [
        {
          "output_type": "execute_result",
          "data": {
            "text/plain": [
              "<IPython.core.display.Image object>"
            ],
            "image/png": "[encoded data removed]"
          },
          "metadata": {},
          "execution_count": 36
        }
      ]
    },
    {
      "cell_type": "code",
      "source": [
        "# Aqui vamos criar 200 mil portfólios fictícios com esses papéis"
      ],
      "metadata": {
        "id": "Jei1s8aVkMq2"
      },
      "execution_count": null,
      "outputs": []
    },
    {
      "cell_type": "code",
      "source": [
        "port_returns = []\n",
        "\n",
        "port_volatility = []\n",
        "\n",
        "stock_weights = []"
      ],
      "metadata": {
        "id": "nZI35CB5kPdU"
      },
      "execution_count": null,
      "outputs": []
    },
    {
      "cell_type": "code",
      "source": [
        "# Vamos passar os parâmetros de simulação"
      ],
      "metadata": {
        "id": "qup-5VZekeS8"
      },
      "execution_count": null,
      "outputs": []
    },
    {
      "cell_type": "code",
      "source": [
        "num_assets = len(ativos)\n",
        "\n",
        "num_portfolios = 2000000"
      ],
      "metadata": {
        "id": "HbvSx9oVkf00"
      },
      "execution_count": null,
      "outputs": []
    },
    {
      "cell_type": "code",
      "source": [
        "# Vamos usar a função random para criar 13 pesos aleatórios"
      ],
      "metadata": {
        "id": "lypKu3ojkk_k"
      },
      "execution_count": null,
      "outputs": []
    },
    {
      "cell_type": "code",
      "source": [
        "peso = np.random.random(num_assets)"
      ],
      "metadata": {
        "id": "jn7o4iYBkxLF"
      },
      "execution_count": null,
      "outputs": []
    },
    {
      "cell_type": "code",
      "source": [
        "peso /= np.sum(peso)"
      ],
      "metadata": {
        "id": "HwnT5ztLkoQ7"
      },
      "execution_count": null,
      "outputs": []
    },
    {
      "cell_type": "code",
      "source": [
        "peso"
      ],
      "metadata": {
        "colab": {
          "base_uri": "https://localhost:8080/"
        },
        "id": "fDKPs1b2lA9d",
        "outputId": "e9f1d430-bf1c-435b-976b-91ce3ca61927"
      },
      "execution_count": null,
      "outputs": [
        {
          "output_type": "execute_result",
          "data": {
            "text/plain": [
              "array([0.03808287, 0.03059822, 0.15373484, 0.07110042, 0.04564555,\n",
              "       0.12319457, 0.13649857, 0.05026588, 0.07634295, 0.03515082,\n",
              "       0.07055894, 0.04319325, 0.12563311])"
            ]
          },
          "metadata": {},
          "execution_count": 44
        }
      ]
    },
    {
      "cell_type": "code",
      "source": [
        "sum(peso)"
      ],
      "metadata": {
        "colab": {
          "base_uri": "https://localhost:8080/"
        },
        "id": "5Ik7t6mtlCun",
        "outputId": "57c1e6f7-9587-42cb-df8f-1facdbc4695d"
      },
      "execution_count": null,
      "outputs": [
        {
          "output_type": "execute_result",
          "data": {
            "text/plain": [
              "1.0"
            ]
          },
          "metadata": {},
          "execution_count": 45
        }
      ]
    },
    {
      "cell_type": "code",
      "source": [
        "range(num_portfolios)"
      ],
      "metadata": {
        "colab": {
          "base_uri": "https://localhost:8080/"
        },
        "id": "68PdrtdvlEQl",
        "outputId": "cb720cd3-b795-4392-c476-cd021f874b68"
      },
      "execution_count": null,
      "outputs": [
        {
          "output_type": "execute_result",
          "data": {
            "text/plain": [
              "range(0, 2000000)"
            ]
          },
          "metadata": {},
          "execution_count": 46
        }
      ]
    },
    {
      "cell_type": "code",
      "source": [
        "for i in range(num_portfolios):\n",
        "\n",
        "  # Criando pesos aleatórios para os papéis\n",
        "  # Essa variável é completamente aleatória\n",
        "  weights = np.random.random(num_assets)\n",
        "\n",
        "  # Normalizando para que sejam 100%\n",
        "  weights /= np.sum(weights)\n",
        "\n",
        "  # Cálculo do retorno do portfólio\n",
        "  returns = np.dot(weights, retorno_anual)\n",
        "\n",
        "  # Cálculo da volatilidade para cada um dos portfólios\n",
        "  volatility = np.sqrt(np.dot(weights.T, (np.dot(cov_anual, weights))))\n",
        "\n",
        "  port_returns.append(returns)\n",
        "  port_volatility.append(volatility)\n",
        "  stock_weights.append(weights)"
      ],
      "metadata": {
        "id": "gKsyD9_SlKK4"
      },
      "execution_count": null,
      "outputs": []
    },
    {
      "cell_type": "code",
      "source": [
        "portfolio = {'Retornos':  port_returns, 'Volatilidade': port_volatility}"
      ],
      "metadata": {
        "id": "PSJ3IRZhmHOt"
      },
      "execution_count": null,
      "outputs": []
    },
    {
      "cell_type": "code",
      "source": [
        "for i, papel in enumerate(ativos):\n",
        "  portfolio[papel + ' peso'] = [weight[i] for weight in stock_weights]\n",
        "\n",
        "  df = pd.DataFrame(portfolio)"
      ],
      "metadata": {
        "id": "MvfL0PeFmVG8"
      },
      "execution_count": null,
      "outputs": []
    },
    {
      "cell_type": "code",
      "source": [
        "df.head()"
      ],
      "metadata": {
        "colab": {
          "base_uri": "https://localhost:8080/",
          "height": 267
        },
        "id": "RtPXVD3JmzEU",
        "outputId": "b7c4ee60-63d5-4099-f9c9-bd11017c3584"
      },
      "execution_count": null,
      "outputs": [
        {
          "output_type": "execute_result",
          "data": {
            "text/plain": [
              "   Retornos  Volatilidade  ABEV3.SA peso  AAPL34.SA peso  EQTL3.SA peso  \\\n",
              "0  0.208315      0.215633       0.112241        0.140758       0.136029   \n",
              "1  0.209008      0.236253       0.116411        0.000494       0.113564   \n",
              "2  0.163950      0.265802       0.015776        0.055659       0.035520   \n",
              "3  0.282564      0.229206       0.114461        0.120377       0.052721   \n",
              "4  0.237367      0.250723       0.017912        0.042061       0.138067   \n",
              "\n",
              "   LREN3.SA peso  CIEL3.SA peso  RADL3.SA peso  RENT3.SA peso  MDIA3.SA peso  \\\n",
              "0       0.028379       0.101258       0.049749       0.037827       0.130382   \n",
              "1       0.156951       0.025452       0.098626       0.000348       0.038094   \n",
              "2       0.166281       0.018062       0.123356       0.109285       0.138381   \n",
              "3       0.094144       0.064325       0.105128       0.005614       0.033707   \n",
              "4       0.168430       0.093403       0.023701       0.107226       0.008859   \n",
              "\n",
              "   WEGE3.SA peso  EZTC3.SA peso  FLRY3.SA peso  BOVA11.SA peso  TSLA34.SA peso  \n",
              "0       0.113158       0.092192       0.013105        0.034793        0.010130  \n",
              "1       0.082269       0.188841       0.062253        0.033424        0.083274  \n",
              "2       0.203867       0.007439       0.041744        0.044173        0.040456  \n",
              "3       0.041265       0.108441       0.021440        0.161647        0.076731  \n",
              "4       0.009784       0.074576       0.171880        0.078619        0.065481  "
            ],
            "text/html": [
              "\n",
              "  <div id=\"df-4a67f4e0-1ddd-4491-ae94-285095f7ef9d\">\n",
              "    <div class=\"colab-df-container\">\n",
              "      <div>\n",
              "<style scoped>\n",
              "    .dataframe tbody tr th:only-of-type {\n",
              "        vertical-align: middle;\n",
              "    }\n",
              "\n",
              "    .dataframe tbody tr th {\n",
              "        vertical-align: top;\n",
              "    }\n",
              "\n",
              "    .dataframe thead th {\n",
              "        text-align: right;\n",
              "    }\n",
              "</style>\n",
              "<table border=\"1\" class=\"dataframe\">\n",
              "  <thead>\n",
              "    <tr style=\"text-align: right;\">\n",
              "      <th></th>\n",
              "      <th>Retornos</th>\n",
              "      <th>Volatilidade</th>\n",
              "      <th>ABEV3.SA peso</th>\n",
              "      <th>AAPL34.SA peso</th>\n",
              "      <th>EQTL3.SA peso</th>\n",
              "      <th>LREN3.SA peso</th>\n",
              "      <th>CIEL3.SA peso</th>\n",
              "      <th>RADL3.SA peso</th>\n",
              "      <th>RENT3.SA peso</th>\n",
              "      <th>MDIA3.SA peso</th>\n",
              "      <th>WEGE3.SA peso</th>\n",
              "      <th>EZTC3.SA peso</th>\n",
              "      <th>FLRY3.SA peso</th>\n",
              "      <th>BOVA11.SA peso</th>\n",
              "      <th>TSLA34.SA peso</th>\n",
              "    </tr>\n",
              "  </thead>\n",
              "  <tbody>\n",
              "    <tr>\n",
              "      <th>0</th>\n",
              "      <td>0.208315</td>\n",
              "      <td>0.215633</td>\n",
              "      <td>0.112241</td>\n",
              "      <td>0.140758</td>\n",
              "      <td>0.136029</td>\n",
              "      <td>0.028379</td>\n",
              "      <td>0.101258</td>\n",
              "      <td>0.049749</td>\n",
              "      <td>0.037827</td>\n",
              "      <td>0.130382</td>\n",
              "      <td>0.113158</td>\n",
              "      <td>0.092192</td>\n",
              "      <td>0.013105</td>\n",
              "      <td>0.034793</td>\n",
              "      <td>0.010130</td>\n",
              "    </tr>\n",
              "    <tr>\n",
              "      <th>1</th>\n",
              "      <td>0.209008</td>\n",
              "      <td>0.236253</td>\n",
              "      <td>0.116411</td>\n",
              "      <td>0.000494</td>\n",
              "      <td>0.113564</td>\n",
              "      <td>0.156951</td>\n",
              "      <td>0.025452</td>\n",
              "      <td>0.098626</td>\n",
              "      <td>0.000348</td>\n",
              "      <td>0.038094</td>\n",
              "      <td>0.082269</td>\n",
              "      <td>0.188841</td>\n",
              "      <td>0.062253</td>\n",
              "      <td>0.033424</td>\n",
              "      <td>0.083274</td>\n",
              "    </tr>\n",
              "    <tr>\n",
              "      <th>2</th>\n",
              "      <td>0.163950</td>\n",
              "      <td>0.265802</td>\n",
              "      <td>0.015776</td>\n",
              "      <td>0.055659</td>\n",
              "      <td>0.035520</td>\n",
              "      <td>0.166281</td>\n",
              "      <td>0.018062</td>\n",
              "      <td>0.123356</td>\n",
              "      <td>0.109285</td>\n",
              "      <td>0.138381</td>\n",
              "      <td>0.203867</td>\n",
              "      <td>0.007439</td>\n",
              "      <td>0.041744</td>\n",
              "      <td>0.044173</td>\n",
              "      <td>0.040456</td>\n",
              "    </tr>\n",
              "    <tr>\n",
              "      <th>3</th>\n",
              "      <td>0.282564</td>\n",
              "      <td>0.229206</td>\n",
              "      <td>0.114461</td>\n",
              "      <td>0.120377</td>\n",
              "      <td>0.052721</td>\n",
              "      <td>0.094144</td>\n",
              "      <td>0.064325</td>\n",
              "      <td>0.105128</td>\n",
              "      <td>0.005614</td>\n",
              "      <td>0.033707</td>\n",
              "      <td>0.041265</td>\n",
              "      <td>0.108441</td>\n",
              "      <td>0.021440</td>\n",
              "      <td>0.161647</td>\n",
              "      <td>0.076731</td>\n",
              "    </tr>\n",
              "    <tr>\n",
              "      <th>4</th>\n",
              "      <td>0.237367</td>\n",
              "      <td>0.250723</td>\n",
              "      <td>0.017912</td>\n",
              "      <td>0.042061</td>\n",
              "      <td>0.138067</td>\n",
              "      <td>0.168430</td>\n",
              "      <td>0.093403</td>\n",
              "      <td>0.023701</td>\n",
              "      <td>0.107226</td>\n",
              "      <td>0.008859</td>\n",
              "      <td>0.009784</td>\n",
              "      <td>0.074576</td>\n",
              "      <td>0.171880</td>\n",
              "      <td>0.078619</td>\n",
              "      <td>0.065481</td>\n",
              "    </tr>\n",
              "  </tbody>\n",
              "</table>\n",
              "</div>\n",
              "      <button class=\"colab-df-convert\" onclick=\"convertToInteractive('df-4a67f4e0-1ddd-4491-ae94-285095f7ef9d')\"\n",
              "              title=\"Convert this dataframe to an interactive table.\"\n",
              "              style=\"display:none;\">\n",
              "        \n",
              "  <svg xmlns=\"http://www.w3.org/2000/svg\" height=\"24px\"viewBox=\"0 0 24 24\"\n",
              "       width=\"24px\">\n",
              "    <path d=\"M0 0h24v24H0V0z\" fill=\"none\"/>\n",
              "    <path d=\"M18.56 5.44l.94 2.06.94-2.06 2.06-.94-2.06-.94-.94-2.06-.94 2.06-2.06.94zm-11 1L8.5 8.5l.94-2.06 2.06-.94-2.06-.94L8.5 2.5l-.94 2.06-2.06.94zm10 10l.94 2.06.94-2.06 2.06-.94-2.06-.94-.94-2.06-.94 2.06-2.06.94z\"/><path d=\"M17.41 7.96l-1.37-1.37c-.4-.4-.92-.59-1.43-.59-.52 0-1.04.2-1.43.59L10.3 9.45l-7.72 7.72c-.78.78-.78 2.05 0 2.83L4 21.41c.39.39.9.59 1.41.59.51 0 1.02-.2 1.41-.59l7.78-7.78 2.81-2.81c.8-.78.8-2.07 0-2.86zM5.41 20L4 18.59l7.72-7.72 1.47 1.35L5.41 20z\"/>\n",
              "  </svg>\n",
              "      </button>\n",
              "      \n",
              "  <style>\n",
              "    .colab-df-container {\n",
              "      display:flex;\n",
              "      flex-wrap:wrap;\n",
              "      gap: 12px;\n",
              "    }\n",
              "\n",
              "    .colab-df-convert {\n",
              "      background-color: #E8F0FE;\n",
              "      border: none;\n",
              "      border-radius: 50%;\n",
              "      cursor: pointer;\n",
              "      display: none;\n",
              "      fill: #1967D2;\n",
              "      height: 32px;\n",
              "      padding: 0 0 0 0;\n",
              "      width: 32px;\n",
              "    }\n",
              "\n",
              "    .colab-df-convert:hover {\n",
              "      background-color: #E2EBFA;\n",
              "      box-shadow: 0px 1px 2px rgba(60, 64, 67, 0.3), 0px 1px 3px 1px rgba(60, 64, 67, 0.15);\n",
              "      fill: #174EA6;\n",
              "    }\n",
              "\n",
              "    [theme=dark] .colab-df-convert {\n",
              "      background-color: #3B4455;\n",
              "      fill: #D2E3FC;\n",
              "    }\n",
              "\n",
              "    [theme=dark] .colab-df-convert:hover {\n",
              "      background-color: #434B5C;\n",
              "      box-shadow: 0px 1px 3px 1px rgba(0, 0, 0, 0.15);\n",
              "      filter: drop-shadow(0px 1px 2px rgba(0, 0, 0, 0.3));\n",
              "      fill: #FFFFFF;\n",
              "    }\n",
              "  </style>\n",
              "\n",
              "      <script>\n",
              "        const buttonEl =\n",
              "          document.querySelector('#df-4a67f4e0-1ddd-4491-ae94-285095f7ef9d button.colab-df-convert');\n",
              "        buttonEl.style.display =\n",
              "          google.colab.kernel.accessAllowed ? 'block' : 'none';\n",
              "\n",
              "        async function convertToInteractive(key) {\n",
              "          const element = document.querySelector('#df-4a67f4e0-1ddd-4491-ae94-285095f7ef9d');\n",
              "          const dataTable =\n",
              "            await google.colab.kernel.invokeFunction('convertToInteractive',\n",
              "                                                     [key], {});\n",
              "          if (!dataTable) return;\n",
              "\n",
              "          const docLinkHtml = 'Like what you see? Visit the ' +\n",
              "            '<a target=\"_blank\" href=https://colab.research.google.com/notebooks/data_table.ipynb>data table notebook</a>'\n",
              "            + ' to learn more about interactive tables.';\n",
              "          element.innerHTML = '';\n",
              "          dataTable['output_type'] = 'display_data';\n",
              "          await google.colab.output.renderOutput(dataTable, element);\n",
              "          const docLink = document.createElement('div');\n",
              "          docLink.innerHTML = docLinkHtml;\n",
              "          element.appendChild(docLink);\n",
              "        }\n",
              "      </script>\n",
              "    </div>\n",
              "  </div>\n",
              "  "
            ]
          },
          "metadata": {},
          "execution_count": 50
        }
      ]
    },
    {
      "cell_type": "code",
      "source": [
        "retornos = df.sort_values(by = ['Retornos'], ascending = False)"
      ],
      "metadata": {
        "id": "xh3fK1wInWIc"
      },
      "execution_count": null,
      "outputs": []
    },
    {
      "cell_type": "code",
      "source": [
        "retornos.head()"
      ],
      "metadata": {
        "colab": {
          "base_uri": "https://localhost:8080/",
          "height": 267
        },
        "id": "8dsukAKYn2OO",
        "outputId": "a215e1c0-bcb4-4446-f318-b090f1e0b846"
      },
      "execution_count": null,
      "outputs": [
        {
          "output_type": "execute_result",
          "data": {
            "text/plain": [
              "         Retornos  Volatilidade  ABEV3.SA peso  AAPL34.SA peso  EQTL3.SA peso  \\\n",
              "870190   0.429159      0.291153       0.021478        0.010647       0.058162   \n",
              "1113195  0.424541      0.287419       0.006231        0.011721       0.139560   \n",
              "295948   0.421886      0.260735       0.083797        0.042286       0.028409   \n",
              "1757225  0.413500      0.262865       0.112344        0.060377       0.009553   \n",
              "273831   0.413285      0.248429       0.240022        0.043861       0.010591   \n",
              "\n",
              "         LREN3.SA peso  CIEL3.SA peso  RADL3.SA peso  RENT3.SA peso  \\\n",
              "870190        0.012875       0.102677       0.197342       0.024908   \n",
              "1113195       0.012619       0.038720       0.029244       0.132542   \n",
              "295948        0.005033       0.145389       0.036572       0.025956   \n",
              "1757225       0.035153       0.081533       0.029733       0.010288   \n",
              "273831        0.003332       0.079834       0.097112       0.007235   \n",
              "\n",
              "         MDIA3.SA peso  WEGE3.SA peso  EZTC3.SA peso  FLRY3.SA peso  \\\n",
              "870190        0.017845       0.003596       0.042482       0.078933   \n",
              "1113195       0.009255       0.066953       0.017457       0.190481   \n",
              "295948        0.018193       0.014775       0.086216       0.213516   \n",
              "1757225       0.030299       0.010854       0.015484       0.204525   \n",
              "273831        0.025338       0.005403       0.028059       0.102891   \n",
              "\n",
              "         BOVA11.SA peso  TSLA34.SA peso  \n",
              "870190         0.316420        0.112635  \n",
              "1113195        0.321797        0.023420  \n",
              "295948         0.258038        0.041820  \n",
              "1757225        0.244632        0.155225  \n",
              "273831         0.222531        0.133792  "
            ],
            "text/html": [
              "\n",
              "  <div id=\"df-dd11dcd5-2cdd-4b3a-8fe3-fae13dd0fadd\">\n",
              "    <div class=\"colab-df-container\">\n",
              "      <div>\n",
              "<style scoped>\n",
              "    .dataframe tbody tr th:only-of-type {\n",
              "        vertical-align: middle;\n",
              "    }\n",
              "\n",
              "    .dataframe tbody tr th {\n",
              "        vertical-align: top;\n",
              "    }\n",
              "\n",
              "    .dataframe thead th {\n",
              "        text-align: right;\n",
              "    }\n",
              "</style>\n",
              "<table border=\"1\" class=\"dataframe\">\n",
              "  <thead>\n",
              "    <tr style=\"text-align: right;\">\n",
              "      <th></th>\n",
              "      <th>Retornos</th>\n",
              "      <th>Volatilidade</th>\n",
              "      <th>ABEV3.SA peso</th>\n",
              "      <th>AAPL34.SA peso</th>\n",
              "      <th>EQTL3.SA peso</th>\n",
              "      <th>LREN3.SA peso</th>\n",
              "      <th>CIEL3.SA peso</th>\n",
              "      <th>RADL3.SA peso</th>\n",
              "      <th>RENT3.SA peso</th>\n",
              "      <th>MDIA3.SA peso</th>\n",
              "      <th>WEGE3.SA peso</th>\n",
              "      <th>EZTC3.SA peso</th>\n",
              "      <th>FLRY3.SA peso</th>\n",
              "      <th>BOVA11.SA peso</th>\n",
              "      <th>TSLA34.SA peso</th>\n",
              "    </tr>\n",
              "  </thead>\n",
              "  <tbody>\n",
              "    <tr>\n",
              "      <th>870190</th>\n",
              "      <td>0.429159</td>\n",
              "      <td>0.291153</td>\n",
              "      <td>0.021478</td>\n",
              "      <td>0.010647</td>\n",
              "      <td>0.058162</td>\n",
              "      <td>0.012875</td>\n",
              "      <td>0.102677</td>\n",
              "      <td>0.197342</td>\n",
              "      <td>0.024908</td>\n",
              "      <td>0.017845</td>\n",
              "      <td>0.003596</td>\n",
              "      <td>0.042482</td>\n",
              "      <td>0.078933</td>\n",
              "      <td>0.316420</td>\n",
              "      <td>0.112635</td>\n",
              "    </tr>\n",
              "    <tr>\n",
              "      <th>1113195</th>\n",
              "      <td>0.424541</td>\n",
              "      <td>0.287419</td>\n",
              "      <td>0.006231</td>\n",
              "      <td>0.011721</td>\n",
              "      <td>0.139560</td>\n",
              "      <td>0.012619</td>\n",
              "      <td>0.038720</td>\n",
              "      <td>0.029244</td>\n",
              "      <td>0.132542</td>\n",
              "      <td>0.009255</td>\n",
              "      <td>0.066953</td>\n",
              "      <td>0.017457</td>\n",
              "      <td>0.190481</td>\n",
              "      <td>0.321797</td>\n",
              "      <td>0.023420</td>\n",
              "    </tr>\n",
              "    <tr>\n",
              "      <th>295948</th>\n",
              "      <td>0.421886</td>\n",
              "      <td>0.260735</td>\n",
              "      <td>0.083797</td>\n",
              "      <td>0.042286</td>\n",
              "      <td>0.028409</td>\n",
              "      <td>0.005033</td>\n",
              "      <td>0.145389</td>\n",
              "      <td>0.036572</td>\n",
              "      <td>0.025956</td>\n",
              "      <td>0.018193</td>\n",
              "      <td>0.014775</td>\n",
              "      <td>0.086216</td>\n",
              "      <td>0.213516</td>\n",
              "      <td>0.258038</td>\n",
              "      <td>0.041820</td>\n",
              "    </tr>\n",
              "    <tr>\n",
              "      <th>1757225</th>\n",
              "      <td>0.413500</td>\n",
              "      <td>0.262865</td>\n",
              "      <td>0.112344</td>\n",
              "      <td>0.060377</td>\n",
              "      <td>0.009553</td>\n",
              "      <td>0.035153</td>\n",
              "      <td>0.081533</td>\n",
              "      <td>0.029733</td>\n",
              "      <td>0.010288</td>\n",
              "      <td>0.030299</td>\n",
              "      <td>0.010854</td>\n",
              "      <td>0.015484</td>\n",
              "      <td>0.204525</td>\n",
              "      <td>0.244632</td>\n",
              "      <td>0.155225</td>\n",
              "    </tr>\n",
              "    <tr>\n",
              "      <th>273831</th>\n",
              "      <td>0.413285</td>\n",
              "      <td>0.248429</td>\n",
              "      <td>0.240022</td>\n",
              "      <td>0.043861</td>\n",
              "      <td>0.010591</td>\n",
              "      <td>0.003332</td>\n",
              "      <td>0.079834</td>\n",
              "      <td>0.097112</td>\n",
              "      <td>0.007235</td>\n",
              "      <td>0.025338</td>\n",
              "      <td>0.005403</td>\n",
              "      <td>0.028059</td>\n",
              "      <td>0.102891</td>\n",
              "      <td>0.222531</td>\n",
              "      <td>0.133792</td>\n",
              "    </tr>\n",
              "  </tbody>\n",
              "</table>\n",
              "</div>\n",
              "      <button class=\"colab-df-convert\" onclick=\"convertToInteractive('df-dd11dcd5-2cdd-4b3a-8fe3-fae13dd0fadd')\"\n",
              "              title=\"Convert this dataframe to an interactive table.\"\n",
              "              style=\"display:none;\">\n",
              "        \n",
              "  <svg xmlns=\"http://www.w3.org/2000/svg\" height=\"24px\"viewBox=\"0 0 24 24\"\n",
              "       width=\"24px\">\n",
              "    <path d=\"M0 0h24v24H0V0z\" fill=\"none\"/>\n",
              "    <path d=\"M18.56 5.44l.94 2.06.94-2.06 2.06-.94-2.06-.94-.94-2.06-.94 2.06-2.06.94zm-11 1L8.5 8.5l.94-2.06 2.06-.94-2.06-.94L8.5 2.5l-.94 2.06-2.06.94zm10 10l.94 2.06.94-2.06 2.06-.94-2.06-.94-.94-2.06-.94 2.06-2.06.94z\"/><path d=\"M17.41 7.96l-1.37-1.37c-.4-.4-.92-.59-1.43-.59-.52 0-1.04.2-1.43.59L10.3 9.45l-7.72 7.72c-.78.78-.78 2.05 0 2.83L4 21.41c.39.39.9.59 1.41.59.51 0 1.02-.2 1.41-.59l7.78-7.78 2.81-2.81c.8-.78.8-2.07 0-2.86zM5.41 20L4 18.59l7.72-7.72 1.47 1.35L5.41 20z\"/>\n",
              "  </svg>\n",
              "      </button>\n",
              "      \n",
              "  <style>\n",
              "    .colab-df-container {\n",
              "      display:flex;\n",
              "      flex-wrap:wrap;\n",
              "      gap: 12px;\n",
              "    }\n",
              "\n",
              "    .colab-df-convert {\n",
              "      background-color: #E8F0FE;\n",
              "      border: none;\n",
              "      border-radius: 50%;\n",
              "      cursor: pointer;\n",
              "      display: none;\n",
              "      fill: #1967D2;\n",
              "      height: 32px;\n",
              "      padding: 0 0 0 0;\n",
              "      width: 32px;\n",
              "    }\n",
              "\n",
              "    .colab-df-convert:hover {\n",
              "      background-color: #E2EBFA;\n",
              "      box-shadow: 0px 1px 2px rgba(60, 64, 67, 0.3), 0px 1px 3px 1px rgba(60, 64, 67, 0.15);\n",
              "      fill: #174EA6;\n",
              "    }\n",
              "\n",
              "    [theme=dark] .colab-df-convert {\n",
              "      background-color: #3B4455;\n",
              "      fill: #D2E3FC;\n",
              "    }\n",
              "\n",
              "    [theme=dark] .colab-df-convert:hover {\n",
              "      background-color: #434B5C;\n",
              "      box-shadow: 0px 1px 3px 1px rgba(0, 0, 0, 0.15);\n",
              "      filter: drop-shadow(0px 1px 2px rgba(0, 0, 0, 0.3));\n",
              "      fill: #FFFFFF;\n",
              "    }\n",
              "  </style>\n",
              "\n",
              "      <script>\n",
              "        const buttonEl =\n",
              "          document.querySelector('#df-dd11dcd5-2cdd-4b3a-8fe3-fae13dd0fadd button.colab-df-convert');\n",
              "        buttonEl.style.display =\n",
              "          google.colab.kernel.accessAllowed ? 'block' : 'none';\n",
              "\n",
              "        async function convertToInteractive(key) {\n",
              "          const element = document.querySelector('#df-dd11dcd5-2cdd-4b3a-8fe3-fae13dd0fadd');\n",
              "          const dataTable =\n",
              "            await google.colab.kernel.invokeFunction('convertToInteractive',\n",
              "                                                     [key], {});\n",
              "          if (!dataTable) return;\n",
              "\n",
              "          const docLinkHtml = 'Like what you see? Visit the ' +\n",
              "            '<a target=\"_blank\" href=https://colab.research.google.com/notebooks/data_table.ipynb>data table notebook</a>'\n",
              "            + ' to learn more about interactive tables.';\n",
              "          element.innerHTML = '';\n",
              "          dataTable['output_type'] = 'display_data';\n",
              "          await google.colab.output.renderOutput(dataTable, element);\n",
              "          const docLink = document.createElement('div');\n",
              "          docLink.innerHTML = docLinkHtml;\n",
              "          element.appendChild(docLink);\n",
              "        }\n",
              "      </script>\n",
              "    </div>\n",
              "  </div>\n",
              "  "
            ]
          },
          "metadata": {},
          "execution_count": 52
        }
      ]
    },
    {
      "cell_type": "code",
      "source": [
        "plt.style.use('seaborn')\n",
        "\n",
        "df.plot.scatter(x  = 'Volatilidade', y = 'Retornos', figsize = (9,9), grid = True)\n",
        "\n",
        "plt.xlabel('Volatilidade')\n",
        "\n",
        "plt.ylabel('Retornos Esperados')\n",
        "\n",
        "#plt.title('Fronteira Eficiente')\n",
        "\n",
        "plt.show()"
      ],
      "metadata": {
        "colab": {
          "base_uri": "https://localhost:8080/",
          "height": 551
        },
        "id": "Wt7CUo_vn9SF",
        "outputId": "188a4127-de67-44c9-d8e4-31ba4e8b3e49"
      },
      "execution_count": null,
      "outputs": [
        {
          "output_type": "display_data",
          "data": {
            "text/plain": [
              "<Figure size 648x648 with 1 Axes>"
            ],
            "image/png": "[encoded data removed]"
          },
          "metadata": {}
        }
      ]
    },
    {
      "cell_type": "markdown",
      "source": [
        "Extraindo o melhor portfólio"
      ],
      "metadata": {
        "id": "S10Sy1-zobQO"
      }
    },
    {
      "cell_type": "code",
      "source": [
        "retorno_max = retornos.iloc[:1]"
      ],
      "metadata": {
        "id": "TeEQrih8u992"
      },
      "execution_count": null,
      "outputs": []
    },
    {
      "cell_type": "code",
      "source": [
        "retorno_max.drop(['Retornos', 'Volatilidade'], axis = 1, inplace = True)"
      ],
      "metadata": {
        "colab": {
          "base_uri": "https://localhost:8080/"
        },
        "id": "JLjUO-A_vF8I",
        "outputId": "329368f4-b2ad-4d8e-a366-22d4463ed08a"
      },
      "execution_count": null,
      "outputs": [
        {
          "output_type": "stream",
          "name": "stderr",
          "text": [
            "/usr/local/lib/python3.7/dist-packages/pandas/core/frame.py:4913: SettingWithCopyWarning: \n",
            "A value is trying to be set on a copy of a slice from a DataFrame\n",
            "\n",
            "See the caveats in the documentation: https://pandas.pydata.org/pandas-docs/stable/user_guide/indexing.html#returning-a-view-versus-a-copy\n",
            "  errors=errors,\n"
          ]
        }
      ]
    },
    {
      "cell_type": "code",
      "source": [
        "retorno_max"
      ],
      "metadata": {
        "colab": {
          "base_uri": "https://localhost:8080/",
          "height": 142
        },
        "id": "KLkKkV2KvPnv",
        "outputId": "c62834f0-3a8e-4bc5-96e2-62d6dc868b01"
      },
      "execution_count": null,
      "outputs": [
        {
          "output_type": "execute_result",
          "data": {
            "text/plain": [
              "        ABEV3.SA peso  AAPL34.SA peso  EQTL3.SA peso  LREN3.SA peso  \\\n",
              "870190       0.021478        0.010647       0.058162       0.012875   \n",
              "\n",
              "        CIEL3.SA peso  RADL3.SA peso  RENT3.SA peso  MDIA3.SA peso  \\\n",
              "870190       0.102677       0.197342       0.024908       0.017845   \n",
              "\n",
              "        WEGE3.SA peso  EZTC3.SA peso  FLRY3.SA peso  BOVA11.SA peso  \\\n",
              "870190       0.003596       0.042482       0.078933         0.31642   \n",
              "\n",
              "        TSLA34.SA peso  \n",
              "870190        0.112635  "
            ],
            "text/html": [
              "\n",
              "  <div id=\"df-4af26ea6-d7b4-4a55-a622-34952025bc7c\">\n",
              "    <div class=\"colab-df-container\">\n",
              "      <div>\n",
              "<style scoped>\n",
              "    .dataframe tbody tr th:only-of-type {\n",
              "        vertical-align: middle;\n",
              "    }\n",
              "\n",
              "    .dataframe tbody tr th {\n",
              "        vertical-align: top;\n",
              "    }\n",
              "\n",
              "    .dataframe thead th {\n",
              "        text-align: right;\n",
              "    }\n",
              "</style>\n",
              "<table border=\"1\" class=\"dataframe\">\n",
              "  <thead>\n",
              "    <tr style=\"text-align: right;\">\n",
              "      <th></th>\n",
              "      <th>ABEV3.SA peso</th>\n",
              "      <th>AAPL34.SA peso</th>\n",
              "      <th>EQTL3.SA peso</th>\n",
              "      <th>LREN3.SA peso</th>\n",
              "      <th>CIEL3.SA peso</th>\n",
              "      <th>RADL3.SA peso</th>\n",
              "      <th>RENT3.SA peso</th>\n",
              "      <th>MDIA3.SA peso</th>\n",
              "      <th>WEGE3.SA peso</th>\n",
              "      <th>EZTC3.SA peso</th>\n",
              "      <th>FLRY3.SA peso</th>\n",
              "      <th>BOVA11.SA peso</th>\n",
              "      <th>TSLA34.SA peso</th>\n",
              "    </tr>\n",
              "  </thead>\n",
              "  <tbody>\n",
              "    <tr>\n",
              "      <th>870190</th>\n",
              "      <td>0.021478</td>\n",
              "      <td>0.010647</td>\n",
              "      <td>0.058162</td>\n",
              "      <td>0.012875</td>\n",
              "      <td>0.102677</td>\n",
              "      <td>0.197342</td>\n",
              "      <td>0.024908</td>\n",
              "      <td>0.017845</td>\n",
              "      <td>0.003596</td>\n",
              "      <td>0.042482</td>\n",
              "      <td>0.078933</td>\n",
              "      <td>0.31642</td>\n",
              "      <td>0.112635</td>\n",
              "    </tr>\n",
              "  </tbody>\n",
              "</table>\n",
              "</div>\n",
              "      <button class=\"colab-df-convert\" onclick=\"convertToInteractive('df-4af26ea6-d7b4-4a55-a622-34952025bc7c')\"\n",
              "              title=\"Convert this dataframe to an interactive table.\"\n",
              "              style=\"display:none;\">\n",
              "        \n",
              "  <svg xmlns=\"http://www.w3.org/2000/svg\" height=\"24px\"viewBox=\"0 0 24 24\"\n",
              "       width=\"24px\">\n",
              "    <path d=\"M0 0h24v24H0V0z\" fill=\"none\"/>\n",
              "    <path d=\"M18.56 5.44l.94 2.06.94-2.06 2.06-.94-2.06-.94-.94-2.06-.94 2.06-2.06.94zm-11 1L8.5 8.5l.94-2.06 2.06-.94-2.06-.94L8.5 2.5l-.94 2.06-2.06.94zm10 10l.94 2.06.94-2.06 2.06-.94-2.06-.94-.94-2.06-.94 2.06-2.06.94z\"/><path d=\"M17.41 7.96l-1.37-1.37c-.4-.4-.92-.59-1.43-.59-.52 0-1.04.2-1.43.59L10.3 9.45l-7.72 7.72c-.78.78-.78 2.05 0 2.83L4 21.41c.39.39.9.59 1.41.59.51 0 1.02-.2 1.41-.59l7.78-7.78 2.81-2.81c.8-.78.8-2.07 0-2.86zM5.41 20L4 18.59l7.72-7.72 1.47 1.35L5.41 20z\"/>\n",
              "  </svg>\n",
              "      </button>\n",
              "      \n",
              "  <style>\n",
              "    .colab-df-container {\n",
              "      display:flex;\n",
              "      flex-wrap:wrap;\n",
              "      gap: 12px;\n",
              "    }\n",
              "\n",
              "    .colab-df-convert {\n",
              "      background-color: #E8F0FE;\n",
              "      border: none;\n",
              "      border-radius: 50%;\n",
              "      cursor: pointer;\n",
              "      display: none;\n",
              "      fill: #1967D2;\n",
              "      height: 32px;\n",
              "      padding: 0 0 0 0;\n",
              "      width: 32px;\n",
              "    }\n",
              "\n",
              "    .colab-df-convert:hover {\n",
              "      background-color: #E2EBFA;\n",
              "      box-shadow: 0px 1px 2px rgba(60, 64, 67, 0.3), 0px 1px 3px 1px rgba(60, 64, 67, 0.15);\n",
              "      fill: #174EA6;\n",
              "    }\n",
              "\n",
              "    [theme=dark] .colab-df-convert {\n",
              "      background-color: #3B4455;\n",
              "      fill: #D2E3FC;\n",
              "    }\n",
              "\n",
              "    [theme=dark] .colab-df-convert:hover {\n",
              "      background-color: #434B5C;\n",
              "      box-shadow: 0px 1px 3px 1px rgba(0, 0, 0, 0.15);\n",
              "      filter: drop-shadow(0px 1px 2px rgba(0, 0, 0, 0.3));\n",
              "      fill: #FFFFFF;\n",
              "    }\n",
              "  </style>\n",
              "\n",
              "      <script>\n",
              "        const buttonEl =\n",
              "          document.querySelector('#df-4af26ea6-d7b4-4a55-a622-34952025bc7c button.colab-df-convert');\n",
              "        buttonEl.style.display =\n",
              "          google.colab.kernel.accessAllowed ? 'block' : 'none';\n",
              "\n",
              "        async function convertToInteractive(key) {\n",
              "          const element = document.querySelector('#df-4af26ea6-d7b4-4a55-a622-34952025bc7c');\n",
              "          const dataTable =\n",
              "            await google.colab.kernel.invokeFunction('convertToInteractive',\n",
              "                                                     [key], {});\n",
              "          if (!dataTable) return;\n",
              "\n",
              "          const docLinkHtml = 'Like what you see? Visit the ' +\n",
              "            '<a target=\"_blank\" href=https://colab.research.google.com/notebooks/data_table.ipynb>data table notebook</a>'\n",
              "            + ' to learn more about interactive tables.';\n",
              "          element.innerHTML = '';\n",
              "          dataTable['output_type'] = 'display_data';\n",
              "          await google.colab.output.renderOutput(dataTable, element);\n",
              "          const docLink = document.createElement('div');\n",
              "          docLink.innerHTML = docLinkHtml;\n",
              "          element.appendChild(docLink);\n",
              "        }\n",
              "      </script>\n",
              "    </div>\n",
              "  </div>\n",
              "  "
            ]
          },
          "metadata": {},
          "execution_count": 56
        }
      ]
    },
    {
      "cell_type": "code",
      "source": [
        "ativos"
      ],
      "metadata": {
        "colab": {
          "base_uri": "https://localhost:8080/"
        },
        "id": "gDFXaoYLvSsA",
        "outputId": "a2a395f1-78f5-4eb5-b12e-20ccd99268b2"
      },
      "execution_count": null,
      "outputs": [
        {
          "output_type": "execute_result",
          "data": {
            "text/plain": [
              "['ABEV3.SA',\n",
              " 'AAPL34.SA',\n",
              " 'EQTL3.SA',\n",
              " 'LREN3.SA',\n",
              " 'CIEL3.SA',\n",
              " 'RADL3.SA',\n",
              " 'RENT3.SA',\n",
              " 'MDIA3.SA',\n",
              " 'WEGE3.SA',\n",
              " 'EZTC3.SA',\n",
              " 'FLRY3.SA',\n",
              " 'BOVA11.SA',\n",
              " 'TSLA34.SA']"
            ]
          },
          "metadata": {},
          "execution_count": 57
        }
      ]
    },
    {
      "cell_type": "code",
      "source": [
        "pesos = np.array(retorno_max)"
      ],
      "metadata": {
        "id": "I5-AojFQvV2p"
      },
      "execution_count": null,
      "outputs": []
    },
    {
      "cell_type": "code",
      "source": [
        "np.sum(pesos)"
      ],
      "metadata": {
        "colab": {
          "base_uri": "https://localhost:8080/"
        },
        "id": "A2QdyIiVvfpf",
        "outputId": "d6cc5f01-3ab1-4a7d-89c6-fc4bb1c9ead4"
      },
      "execution_count": null,
      "outputs": [
        {
          "output_type": "execute_result",
          "data": {
            "text/plain": [
              "0.9999999999999999"
            ]
          },
          "metadata": {},
          "execution_count": 59
        }
      ]
    },
    {
      "cell_type": "markdown",
      "source": [
        "Retorno da carteira"
      ],
      "metadata": {
        "id": "HG6P3QERvhzY"
      }
    },
    {
      "cell_type": "code",
      "source": [
        "retorno_carteira = retorno_diario*pesos"
      ],
      "metadata": {
        "id": "_30oSE7MvqOK"
      },
      "execution_count": null,
      "outputs": []
    },
    {
      "cell_type": "code",
      "source": [
        "retorno_carteira"
      ],
      "metadata": {
        "colab": {
          "base_uri": "https://localhost:8080/",
          "height": 455
        },
        "id": "z9MJ6T9ZvvAz",
        "outputId": "a87393c0-6ac7-4c40-831d-3ec95196d188"
      },
      "execution_count": null,
      "outputs": [
        {
          "output_type": "execute_result",
          "data": {
            "text/plain": [
              "            AAPL34.SA  ABEV3.SA  BOVA11.SA  CIEL3.SA  EQTL3.SA  EZTC3.SA  \\\n",
              "Date                                                                       \n",
              "2016-01-05   0.000000  0.000167   0.000113  0.000616  0.004978  0.003442   \n",
              "2016-01-06  -0.000480 -0.000104  -0.000960  0.000198  0.000594 -0.003222   \n",
              "2016-01-07  -0.000987 -0.000283  -0.001479  0.000049 -0.002832 -0.000819   \n",
              "2016-01-08   0.000235  0.000139  -0.000192  0.000225  0.001396  0.004934   \n",
              "2016-01-11   0.000054 -0.000168  -0.000917 -0.000607 -0.000180  0.001604   \n",
              "...               ...       ...        ...       ...       ...       ...   \n",
              "2022-05-06   0.000154 -0.000155  -0.000155 -0.000041 -0.001394 -0.003969   \n",
              "2022-05-09  -0.000376  0.000126  -0.000891 -0.000124  0.001499  0.002911   \n",
              "2022-05-10   0.000374  0.000031  -0.000257  0.000125 -0.000211  0.006487   \n",
              "2022-05-11  -0.001077  0.000171   0.000821 -0.000108 -0.003004 -0.002536   \n",
              "2022-05-12  -0.000650  0.000405   0.000809  0.000505  0.001133  0.003426   \n",
              "\n",
              "            FLRY3.SA  LREN3.SA  MDIA3.SA  RADL3.SA  RENT3.SA  TSLA34.SA  \\\n",
              "Date                                                                      \n",
              "2016-01-05  0.000294  0.001271 -0.000091  0.001982  0.001961        NaN   \n",
              "2016-01-06 -0.000129 -0.000103  0.000036  0.000393  0.000726        NaN   \n",
              "2016-01-07  0.000032 -0.000291 -0.000106  0.000549 -0.000490        NaN   \n",
              "2016-01-08  0.000097 -0.000042  0.000052 -0.000339  0.000000        NaN   \n",
              "2016-01-11 -0.000145 -0.000507 -0.000137 -0.000057  0.000132        NaN   \n",
              "...              ...       ...       ...       ...       ...        ...   \n",
              "2022-05-06 -0.000422  0.001069  0.000010 -0.000725 -0.001734   0.001648   \n",
              "2022-05-09  0.000000 -0.000258 -0.000041 -0.000201 -0.000561  -0.023096   \n",
              "2022-05-10  0.000483  0.000635  0.000090  0.000090  0.001282   0.003139   \n",
              "2022-05-11 -0.000895 -0.000151  0.000089 -0.001142  0.002073  -0.025312   \n",
              "2022-05-12  0.001055  0.000546  0.000119  0.000782  0.002020  -0.004156   \n",
              "\n",
              "            WEGE3.SA  \n",
              "Date                  \n",
              "2016-01-05  0.005462  \n",
              "2016-01-06 -0.002568  \n",
              "2016-01-07 -0.003229  \n",
              "2016-01-08 -0.000541  \n",
              "2016-01-11 -0.002563  \n",
              "...              ...  \n",
              "2022-05-06 -0.004040  \n",
              "2022-05-09 -0.002033  \n",
              "2022-05-10 -0.002281  \n",
              "2022-05-11 -0.000086  \n",
              "2022-05-12  0.001338  \n",
              "\n",
              "[1581 rows x 13 columns]"
            ],
            "text/html": [
              "\n",
              "  <div id=\"df-0808f27a-0a5f-45bc-b5d6-540f2a168b92\">\n",
              "    <div class=\"colab-df-container\">\n",
              "      <div>\n",
              "<style scoped>\n",
              "    .dataframe tbody tr th:only-of-type {\n",
              "        vertical-align: middle;\n",
              "    }\n",
              "\n",
              "    .dataframe tbody tr th {\n",
              "        vertical-align: top;\n",
              "    }\n",
              "\n",
              "    .dataframe thead th {\n",
              "        text-align: right;\n",
              "    }\n",
              "</style>\n",
              "<table border=\"1\" class=\"dataframe\">\n",
              "  <thead>\n",
              "    <tr style=\"text-align: right;\">\n",
              "      <th></th>\n",
              "      <th>AAPL34.SA</th>\n",
              "      <th>ABEV3.SA</th>\n",
              "      <th>BOVA11.SA</th>\n",
              "      <th>CIEL3.SA</th>\n",
              "      <th>EQTL3.SA</th>\n",
              "      <th>EZTC3.SA</th>\n",
              "      <th>FLRY3.SA</th>\n",
              "      <th>LREN3.SA</th>\n",
              "      <th>MDIA3.SA</th>\n",
              "      <th>RADL3.SA</th>\n",
              "      <th>RENT3.SA</th>\n",
              "      <th>TSLA34.SA</th>\n",
              "      <th>WEGE3.SA</th>\n",
              "    </tr>\n",
              "    <tr>\n",
              "      <th>Date</th>\n",
              "      <th></th>\n",
              "      <th></th>\n",
              "      <th></th>\n",
              "      <th></th>\n",
              "      <th></th>\n",
              "      <th></th>\n",
              "      <th></th>\n",
              "      <th></th>\n",
              "      <th></th>\n",
              "      <th></th>\n",
              "      <th></th>\n",
              "      <th></th>\n",
              "      <th></th>\n",
              "    </tr>\n",
              "  </thead>\n",
              "  <tbody>\n",
              "    <tr>\n",
              "      <th>2016-01-05</th>\n",
              "      <td>0.000000</td>\n",
              "      <td>0.000167</td>\n",
              "      <td>0.000113</td>\n",
              "      <td>0.000616</td>\n",
              "      <td>0.004978</td>\n",
              "      <td>0.003442</td>\n",
              "      <td>0.000294</td>\n",
              "      <td>0.001271</td>\n",
              "      <td>-0.000091</td>\n",
              "      <td>0.001982</td>\n",
              "      <td>0.001961</td>\n",
              "      <td>NaN</td>\n",
              "      <td>0.005462</td>\n",
              "    </tr>\n",
              "    <tr>\n",
              "      <th>2016-01-06</th>\n",
              "      <td>-0.000480</td>\n",
              "      <td>-0.000104</td>\n",
              "      <td>-0.000960</td>\n",
              "      <td>0.000198</td>\n",
              "      <td>0.000594</td>\n",
              "      <td>-0.003222</td>\n",
              "      <td>-0.000129</td>\n",
              "      <td>-0.000103</td>\n",
              "      <td>0.000036</td>\n",
              "      <td>0.000393</td>\n",
              "      <td>0.000726</td>\n",
              "      <td>NaN</td>\n",
              "      <td>-0.002568</td>\n",
              "    </tr>\n",
              "    <tr>\n",
              "      <th>2016-01-07</th>\n",
              "      <td>-0.000987</td>\n",
              "      <td>-0.000283</td>\n",
              "      <td>-0.001479</td>\n",
              "      <td>0.000049</td>\n",
              "      <td>-0.002832</td>\n",
              "      <td>-0.000819</td>\n",
              "      <td>0.000032</td>\n",
              "      <td>-0.000291</td>\n",
              "      <td>-0.000106</td>\n",
              "      <td>0.000549</td>\n",
              "      <td>-0.000490</td>\n",
              "      <td>NaN</td>\n",
              "      <td>-0.003229</td>\n",
              "    </tr>\n",
              "    <tr>\n",
              "      <th>2016-01-08</th>\n",
              "      <td>0.000235</td>\n",
              "      <td>0.000139</td>\n",
              "      <td>-0.000192</td>\n",
              "      <td>0.000225</td>\n",
              "      <td>0.001396</td>\n",
              "      <td>0.004934</td>\n",
              "      <td>0.000097</td>\n",
              "      <td>-0.000042</td>\n",
              "      <td>0.000052</td>\n",
              "      <td>-0.000339</td>\n",
              "      <td>0.000000</td>\n",
              "      <td>NaN</td>\n",
              "      <td>-0.000541</td>\n",
              "    </tr>\n",
              "    <tr>\n",
              "      <th>2016-01-11</th>\n",
              "      <td>0.000054</td>\n",
              "      <td>-0.000168</td>\n",
              "      <td>-0.000917</td>\n",
              "      <td>-0.000607</td>\n",
              "      <td>-0.000180</td>\n",
              "      <td>0.001604</td>\n",
              "      <td>-0.000145</td>\n",
              "      <td>-0.000507</td>\n",
              "      <td>-0.000137</td>\n",
              "      <td>-0.000057</td>\n",
              "      <td>0.000132</td>\n",
              "      <td>NaN</td>\n",
              "      <td>-0.002563</td>\n",
              "    </tr>\n",
              "    <tr>\n",
              "      <th>...</th>\n",
              "      <td>...</td>\n",
              "      <td>...</td>\n",
              "      <td>...</td>\n",
              "      <td>...</td>\n",
              "      <td>...</td>\n",
              "      <td>...</td>\n",
              "      <td>...</td>\n",
              "      <td>...</td>\n",
              "      <td>...</td>\n",
              "      <td>...</td>\n",
              "      <td>...</td>\n",
              "      <td>...</td>\n",
              "      <td>...</td>\n",
              "    </tr>\n",
              "    <tr>\n",
              "      <th>2022-05-06</th>\n",
              "      <td>0.000154</td>\n",
              "      <td>-0.000155</td>\n",
              "      <td>-0.000155</td>\n",
              "      <td>-0.000041</td>\n",
              "      <td>-0.001394</td>\n",
              "      <td>-0.003969</td>\n",
              "      <td>-0.000422</td>\n",
              "      <td>0.001069</td>\n",
              "      <td>0.000010</td>\n",
              "      <td>-0.000725</td>\n",
              "      <td>-0.001734</td>\n",
              "      <td>0.001648</td>\n",
              "      <td>-0.004040</td>\n",
              "    </tr>\n",
              "    <tr>\n",
              "      <th>2022-05-09</th>\n",
              "      <td>-0.000376</td>\n",
              "      <td>0.000126</td>\n",
              "      <td>-0.000891</td>\n",
              "      <td>-0.000124</td>\n",
              "      <td>0.001499</td>\n",
              "      <td>0.002911</td>\n",
              "      <td>0.000000</td>\n",
              "      <td>-0.000258</td>\n",
              "      <td>-0.000041</td>\n",
              "      <td>-0.000201</td>\n",
              "      <td>-0.000561</td>\n",
              "      <td>-0.023096</td>\n",
              "      <td>-0.002033</td>\n",
              "    </tr>\n",
              "    <tr>\n",
              "      <th>2022-05-10</th>\n",
              "      <td>0.000374</td>\n",
              "      <td>0.000031</td>\n",
              "      <td>-0.000257</td>\n",
              "      <td>0.000125</td>\n",
              "      <td>-0.000211</td>\n",
              "      <td>0.006487</td>\n",
              "      <td>0.000483</td>\n",
              "      <td>0.000635</td>\n",
              "      <td>0.000090</td>\n",
              "      <td>0.000090</td>\n",
              "      <td>0.001282</td>\n",
              "      <td>0.003139</td>\n",
              "      <td>-0.002281</td>\n",
              "    </tr>\n",
              "    <tr>\n",
              "      <th>2022-05-11</th>\n",
              "      <td>-0.001077</td>\n",
              "      <td>0.000171</td>\n",
              "      <td>0.000821</td>\n",
              "      <td>-0.000108</td>\n",
              "      <td>-0.003004</td>\n",
              "      <td>-0.002536</td>\n",
              "      <td>-0.000895</td>\n",
              "      <td>-0.000151</td>\n",
              "      <td>0.000089</td>\n",
              "      <td>-0.001142</td>\n",
              "      <td>0.002073</td>\n",
              "      <td>-0.025312</td>\n",
              "      <td>-0.000086</td>\n",
              "    </tr>\n",
              "    <tr>\n",
              "      <th>2022-05-12</th>\n",
              "      <td>-0.000650</td>\n",
              "      <td>0.000405</td>\n",
              "      <td>0.000809</td>\n",
              "      <td>0.000505</td>\n",
              "      <td>0.001133</td>\n",
              "      <td>0.003426</td>\n",
              "      <td>0.001055</td>\n",
              "      <td>0.000546</td>\n",
              "      <td>0.000119</td>\n",
              "      <td>0.000782</td>\n",
              "      <td>0.002020</td>\n",
              "      <td>-0.004156</td>\n",
              "      <td>0.001338</td>\n",
              "    </tr>\n",
              "  </tbody>\n",
              "</table>\n",
              "<p>1581 rows × 13 columns</p>\n",
              "</div>\n",
              "      <button class=\"colab-df-convert\" onclick=\"convertToInteractive('df-0808f27a-0a5f-45bc-b5d6-540f2a168b92')\"\n",
              "              title=\"Convert this dataframe to an interactive table.\"\n",
              "              style=\"display:none;\">\n",
              "        \n",
              "  <svg xmlns=\"http://www.w3.org/2000/svg\" height=\"24px\"viewBox=\"0 0 24 24\"\n",
              "       width=\"24px\">\n",
              "    <path d=\"M0 0h24v24H0V0z\" fill=\"none\"/>\n",
              "    <path d=\"M18.56 5.44l.94 2.06.94-2.06 2.06-.94-2.06-.94-.94-2.06-.94 2.06-2.06.94zm-11 1L8.5 8.5l.94-2.06 2.06-.94-2.06-.94L8.5 2.5l-.94 2.06-2.06.94zm10 10l.94 2.06.94-2.06 2.06-.94-2.06-.94-.94-2.06-.94 2.06-2.06.94z\"/><path d=\"M17.41 7.96l-1.37-1.37c-.4-.4-.92-.59-1.43-.59-.52 0-1.04.2-1.43.59L10.3 9.45l-7.72 7.72c-.78.78-.78 2.05 0 2.83L4 21.41c.39.39.9.59 1.41.59.51 0 1.02-.2 1.41-.59l7.78-7.78 2.81-2.81c.8-.78.8-2.07 0-2.86zM5.41 20L4 18.59l7.72-7.72 1.47 1.35L5.41 20z\"/>\n",
              "  </svg>\n",
              "      </button>\n",
              "      \n",
              "  <style>\n",
              "    .colab-df-container {\n",
              "      display:flex;\n",
              "      flex-wrap:wrap;\n",
              "      gap: 12px;\n",
              "    }\n",
              "\n",
              "    .colab-df-convert {\n",
              "      background-color: #E8F0FE;\n",
              "      border: none;\n",
              "      border-radius: 50%;\n",
              "      cursor: pointer;\n",
              "      display: none;\n",
              "      fill: #1967D2;\n",
              "      height: 32px;\n",
              "      padding: 0 0 0 0;\n",
              "      width: 32px;\n",
              "    }\n",
              "\n",
              "    .colab-df-convert:hover {\n",
              "      background-color: #E2EBFA;\n",
              "      box-shadow: 0px 1px 2px rgba(60, 64, 67, 0.3), 0px 1px 3px 1px rgba(60, 64, 67, 0.15);\n",
              "      fill: #174EA6;\n",
              "    }\n",
              "\n",
              "    [theme=dark] .colab-df-convert {\n",
              "      background-color: #3B4455;\n",
              "      fill: #D2E3FC;\n",
              "    }\n",
              "\n",
              "    [theme=dark] .colab-df-convert:hover {\n",
              "      background-color: #434B5C;\n",
              "      box-shadow: 0px 1px 3px 1px rgba(0, 0, 0, 0.15);\n",
              "      filter: drop-shadow(0px 1px 2px rgba(0, 0, 0, 0.3));\n",
              "      fill: #FFFFFF;\n",
              "    }\n",
              "  </style>\n",
              "\n",
              "      <script>\n",
              "        const buttonEl =\n",
              "          document.querySelector('#df-0808f27a-0a5f-45bc-b5d6-540f2a168b92 button.colab-df-convert');\n",
              "        buttonEl.style.display =\n",
              "          google.colab.kernel.accessAllowed ? 'block' : 'none';\n",
              "\n",
              "        async function convertToInteractive(key) {\n",
              "          const element = document.querySelector('#df-0808f27a-0a5f-45bc-b5d6-540f2a168b92');\n",
              "          const dataTable =\n",
              "            await google.colab.kernel.invokeFunction('convertToInteractive',\n",
              "                                                     [key], {});\n",
              "          if (!dataTable) return;\n",
              "\n",
              "          const docLinkHtml = 'Like what you see? Visit the ' +\n",
              "            '<a target=\"_blank\" href=https://colab.research.google.com/notebooks/data_table.ipynb>data table notebook</a>'\n",
              "            + ' to learn more about interactive tables.';\n",
              "          element.innerHTML = '';\n",
              "          dataTable['output_type'] = 'display_data';\n",
              "          await google.colab.output.renderOutput(dataTable, element);\n",
              "          const docLink = document.createElement('div');\n",
              "          docLink.innerHTML = docLinkHtml;\n",
              "          element.appendChild(docLink);\n",
              "        }\n",
              "      </script>\n",
              "    </div>\n",
              "  </div>\n",
              "  "
            ]
          },
          "metadata": {},
          "execution_count": 61
        }
      ]
    },
    {
      "cell_type": "code",
      "source": [
        "retorno_carteira = retorno_carteira.sum(axis = 1)"
      ],
      "metadata": {
        "id": "7vTtqXXhvvqn"
      },
      "execution_count": null,
      "outputs": []
    },
    {
      "cell_type": "code",
      "source": [
        "pd.DataFrame(retorno_carteira)"
      ],
      "metadata": {
        "colab": {
          "base_uri": "https://localhost:8080/",
          "height": 455
        },
        "id": "KWeLSxnPv5bf",
        "outputId": "e612cd5f-7251-4862-846a-2035c9ed2413"
      },
      "execution_count": null,
      "outputs": [
        {
          "output_type": "execute_result",
          "data": {
            "text/plain": [
              "                   0\n",
              "Date                \n",
              "2016-01-05  0.020195\n",
              "2016-01-06 -0.005620\n",
              "2016-01-07 -0.009886\n",
              "2016-01-08  0.005963\n",
              "2016-01-11 -0.003492\n",
              "...              ...\n",
              "2022-05-06 -0.009754\n",
              "2022-05-09 -0.023044\n",
              "2022-05-10  0.009987\n",
              "2022-05-11 -0.031157\n",
              "2022-05-12  0.007332\n",
              "\n",
              "[1581 rows x 1 columns]"
            ],
            "text/html": [
              "\n",
              "  <div id=\"df-7cd9a3fd-f044-462b-8f5a-db62d0175a2d\">\n",
              "    <div class=\"colab-df-container\">\n",
              "      <div>\n",
              "<style scoped>\n",
              "    .dataframe tbody tr th:only-of-type {\n",
              "        vertical-align: middle;\n",
              "    }\n",
              "\n",
              "    .dataframe tbody tr th {\n",
              "        vertical-align: top;\n",
              "    }\n",
              "\n",
              "    .dataframe thead th {\n",
              "        text-align: right;\n",
              "    }\n",
              "</style>\n",
              "<table border=\"1\" class=\"dataframe\">\n",
              "  <thead>\n",
              "    <tr style=\"text-align: right;\">\n",
              "      <th></th>\n",
              "      <th>0</th>\n",
              "    </tr>\n",
              "    <tr>\n",
              "      <th>Date</th>\n",
              "      <th></th>\n",
              "    </tr>\n",
              "  </thead>\n",
              "  <tbody>\n",
              "    <tr>\n",
              "      <th>2016-01-05</th>\n",
              "      <td>0.020195</td>\n",
              "    </tr>\n",
              "    <tr>\n",
              "      <th>2016-01-06</th>\n",
              "      <td>-0.005620</td>\n",
              "    </tr>\n",
              "    <tr>\n",
              "      <th>2016-01-07</th>\n",
              "      <td>-0.009886</td>\n",
              "    </tr>\n",
              "    <tr>\n",
              "      <th>2016-01-08</th>\n",
              "      <td>0.005963</td>\n",
              "    </tr>\n",
              "    <tr>\n",
              "      <th>2016-01-11</th>\n",
              "      <td>-0.003492</td>\n",
              "    </tr>\n",
              "    <tr>\n",
              "      <th>...</th>\n",
              "      <td>...</td>\n",
              "    </tr>\n",
              "    <tr>\n",
              "      <th>2022-05-06</th>\n",
              "      <td>-0.009754</td>\n",
              "    </tr>\n",
              "    <tr>\n",
              "      <th>2022-05-09</th>\n",
              "      <td>-0.023044</td>\n",
              "    </tr>\n",
              "    <tr>\n",
              "      <th>2022-05-10</th>\n",
              "      <td>0.009987</td>\n",
              "    </tr>\n",
              "    <tr>\n",
              "      <th>2022-05-11</th>\n",
              "      <td>-0.031157</td>\n",
              "    </tr>\n",
              "    <tr>\n",
              "      <th>2022-05-12</th>\n",
              "      <td>0.007332</td>\n",
              "    </tr>\n",
              "  </tbody>\n",
              "</table>\n",
              "<p>1581 rows × 1 columns</p>\n",
              "</div>\n",
              "      <button class=\"colab-df-convert\" onclick=\"convertToInteractive('df-7cd9a3fd-f044-462b-8f5a-db62d0175a2d')\"\n",
              "              title=\"Convert this dataframe to an interactive table.\"\n",
              "              style=\"display:none;\">\n",
              "        \n",
              "  <svg xmlns=\"http://www.w3.org/2000/svg\" height=\"24px\"viewBox=\"0 0 24 24\"\n",
              "       width=\"24px\">\n",
              "    <path d=\"M0 0h24v24H0V0z\" fill=\"none\"/>\n",
              "    <path d=\"M18.56 5.44l.94 2.06.94-2.06 2.06-.94-2.06-.94-.94-2.06-.94 2.06-2.06.94zm-11 1L8.5 8.5l.94-2.06 2.06-.94-2.06-.94L8.5 2.5l-.94 2.06-2.06.94zm10 10l.94 2.06.94-2.06 2.06-.94-2.06-.94-.94-2.06-.94 2.06-2.06.94z\"/><path d=\"M17.41 7.96l-1.37-1.37c-.4-.4-.92-.59-1.43-.59-.52 0-1.04.2-1.43.59L10.3 9.45l-7.72 7.72c-.78.78-.78 2.05 0 2.83L4 21.41c.39.39.9.59 1.41.59.51 0 1.02-.2 1.41-.59l7.78-7.78 2.81-2.81c.8-.78.8-2.07 0-2.86zM5.41 20L4 18.59l7.72-7.72 1.47 1.35L5.41 20z\"/>\n",
              "  </svg>\n",
              "      </button>\n",
              "      \n",
              "  <style>\n",
              "    .colab-df-container {\n",
              "      display:flex;\n",
              "      flex-wrap:wrap;\n",
              "      gap: 12px;\n",
              "    }\n",
              "\n",
              "    .colab-df-convert {\n",
              "      background-color: #E8F0FE;\n",
              "      border: none;\n",
              "      border-radius: 50%;\n",
              "      cursor: pointer;\n",
              "      display: none;\n",
              "      fill: #1967D2;\n",
              "      height: 32px;\n",
              "      padding: 0 0 0 0;\n",
              "      width: 32px;\n",
              "    }\n",
              "\n",
              "    .colab-df-convert:hover {\n",
              "      background-color: #E2EBFA;\n",
              "      box-shadow: 0px 1px 2px rgba(60, 64, 67, 0.3), 0px 1px 3px 1px rgba(60, 64, 67, 0.15);\n",
              "      fill: #174EA6;\n",
              "    }\n",
              "\n",
              "    [theme=dark] .colab-df-convert {\n",
              "      background-color: #3B4455;\n",
              "      fill: #D2E3FC;\n",
              "    }\n",
              "\n",
              "    [theme=dark] .colab-df-convert:hover {\n",
              "      background-color: #434B5C;\n",
              "      box-shadow: 0px 1px 3px 1px rgba(0, 0, 0, 0.15);\n",
              "      filter: drop-shadow(0px 1px 2px rgba(0, 0, 0, 0.3));\n",
              "      fill: #FFFFFF;\n",
              "    }\n",
              "  </style>\n",
              "\n",
              "      <script>\n",
              "        const buttonEl =\n",
              "          document.querySelector('#df-7cd9a3fd-f044-462b-8f5a-db62d0175a2d button.colab-df-convert');\n",
              "        buttonEl.style.display =\n",
              "          google.colab.kernel.accessAllowed ? 'block' : 'none';\n",
              "\n",
              "        async function convertToInteractive(key) {\n",
              "          const element = document.querySelector('#df-7cd9a3fd-f044-462b-8f5a-db62d0175a2d');\n",
              "          const dataTable =\n",
              "            await google.colab.kernel.invokeFunction('convertToInteractive',\n",
              "                                                     [key], {});\n",
              "          if (!dataTable) return;\n",
              "\n",
              "          const docLinkHtml = 'Like what you see? Visit the ' +\n",
              "            '<a target=\"_blank\" href=https://colab.research.google.com/notebooks/data_table.ipynb>data table notebook</a>'\n",
              "            + ' to learn more about interactive tables.';\n",
              "          element.innerHTML = '';\n",
              "          dataTable['output_type'] = 'display_data';\n",
              "          await google.colab.output.renderOutput(dataTable, element);\n",
              "          const docLink = document.createElement('div');\n",
              "          docLink.innerHTML = docLinkHtml;\n",
              "          element.appendChild(docLink);\n",
              "        }\n",
              "      </script>\n",
              "    </div>\n",
              "  </div>\n",
              "  "
            ]
          },
          "metadata": {},
          "execution_count": 63
        }
      ]
    },
    {
      "cell_type": "code",
      "source": [
        "retorno_carteira.plot()"
      ],
      "metadata": {
        "colab": {
          "base_uri": "https://localhost:8080/",
          "height": 358
        },
        "id": "5BOFRZYdv64K",
        "outputId": "210a2dba-e00f-4787-cbb5-474fd469c137"
      },
      "execution_count": null,
      "outputs": [
        {
          "output_type": "execute_result",
          "data": {
            "text/plain": [
              "<matplotlib.axes._subplots.AxesSubplot at 0x7f6ff4c4c590>"
            ]
          },
          "metadata": {},
          "execution_count": 64
        },
        {
          "output_type": "display_data",
          "data": {
            "text/plain": [
              "<Figure size 576x396 with 1 Axes>"
            ],
            "image/png": "[encoded data removed]"
          },
          "metadata": {}
        }
      ]
    },
    {
      "cell_type": "markdown",
      "source": [
        "Retorno acumulado"
      ],
      "metadata": {
        "id": "nGy6GHkKwBGJ"
      }
    },
    {
      "cell_type": "code",
      "source": [
        "returno_acumulado = (1 + retorno_carteira).cumprod()"
      ],
      "metadata": {
        "id": "7gcnyMDQwF0T"
      },
      "execution_count": null,
      "outputs": []
    },
    {
      "cell_type": "code",
      "source": [
        "returno_acumulado.plot()"
      ],
      "metadata": {
        "colab": {
          "base_uri": "https://localhost:8080/",
          "height": 358
        },
        "id": "K7-h7m-bwMDH",
        "outputId": "2054e24b-915f-469c-e49d-2842bbc3b398"
      },
      "execution_count": null,
      "outputs": [
        {
          "output_type": "execute_result",
          "data": {
            "text/plain": [
              "<matplotlib.axes._subplots.AxesSubplot at 0x7f6ff4b76ed0>"
            ]
          },
          "metadata": {},
          "execution_count": 66
        },
        {
          "output_type": "display_data",
          "data": {
            "text/plain": [
              "<Figure size 576x396 with 1 Axes>"
            ],
            "image/png": "[encoded data removed]"
          },
          "metadata": {}
        }
      ]
    },
    {
      "cell_type": "code",
      "source": [
        "# Importando dados do IBOV para Benchmark"
      ],
      "metadata": {
        "id": "kCZoMeVtwNEA"
      },
      "execution_count": null,
      "outputs": []
    },
    {
      "cell_type": "code",
      "source": [
        "ibov = yf.download('^BVSP', start = inicio, end = fim)['Adj Close']"
      ],
      "metadata": {
        "colab": {
          "base_uri": "https://localhost:8080/"
        },
        "id": "E1mMUpmywQ84",
        "outputId": "beb337c2-d14c-4a07-9bc5-15e30c2048e4"
      },
      "execution_count": null,
      "outputs": [
        {
          "output_type": "stream",
          "name": "stdout",
          "text": [
            "\r[*********************100%***********************]  1 of 1 completed\n"
          ]
        }
      ]
    },
    {
      "cell_type": "code",
      "source": [
        "type(ibov)"
      ],
      "metadata": {
        "colab": {
          "base_uri": "https://localhost:8080/"
        },
        "id": "lfCi5SlkwWb_",
        "outputId": "a1c70d1c-50a6-4d54-854c-e2d9ce0992ff"
      },
      "execution_count": null,
      "outputs": [
        {
          "output_type": "execute_result",
          "data": {
            "text/plain": [
              "pandas.core.series.Series"
            ]
          },
          "metadata": {},
          "execution_count": 69
        }
      ]
    },
    {
      "cell_type": "code",
      "source": [
        "ibov_retornos = ibov.pct_change()"
      ],
      "metadata": {
        "id": "StlvHCJOwY1H"
      },
      "execution_count": null,
      "outputs": []
    },
    {
      "cell_type": "code",
      "source": [
        "returno_acumulado_ibov = (1 + ibov_retornos).cumprod()"
      ],
      "metadata": {
        "id": "aYDbOZ0HwdzX"
      },
      "execution_count": null,
      "outputs": []
    },
    {
      "cell_type": "code",
      "source": [
        "returno_acumulado_ibov.head()"
      ],
      "metadata": {
        "colab": {
          "base_uri": "https://localhost:8080/"
        },
        "id": "wr_CghRfwzh7",
        "outputId": "16eedea1-e63b-4965-e5d6-5ffc414defef"
      },
      "execution_count": null,
      "outputs": [
        {
          "output_type": "execute_result",
          "data": {
            "text/plain": [
              "Date\n",
              "2016-01-04         NaN\n",
              "2016-01-05    1.006597\n",
              "2016-01-06    0.991267\n",
              "2016-01-07    0.965687\n",
              "2016-01-08    0.963717\n",
              "Name: Adj Close, dtype: float64"
            ]
          },
          "metadata": {},
          "execution_count": 72
        }
      ]
    },
    {
      "cell_type": "code",
      "source": [
        "returno_acumulado_ibov = pd.DataFrame(returno_acumulado_ibov)"
      ],
      "metadata": {
        "id": "yIM7tubxwkAg"
      },
      "execution_count": null,
      "outputs": []
    },
    {
      "cell_type": "code",
      "source": [
        "returno_acumulado_ibov.head()"
      ],
      "metadata": {
        "colab": {
          "base_uri": "https://localhost:8080/",
          "height": 237
        },
        "id": "ksoS149Lw4IX",
        "outputId": "177a0752-24c8-42e4-c028-adbb15c151fc"
      },
      "execution_count": null,
      "outputs": [
        {
          "output_type": "execute_result",
          "data": {
            "text/plain": [
              "            Adj Close\n",
              "Date                 \n",
              "2016-01-04        NaN\n",
              "2016-01-05   1.006597\n",
              "2016-01-06   0.991267\n",
              "2016-01-07   0.965687\n",
              "2016-01-08   0.963717"
            ],
            "text/html": [
              "\n",
              "  <div id=\"df-b808c0f3-8a83-49bf-9102-0d35f94be01d\">\n",
              "    <div class=\"colab-df-container\">\n",
              "      <div>\n",
              "<style scoped>\n",
              "    .dataframe tbody tr th:only-of-type {\n",
              "        vertical-align: middle;\n",
              "    }\n",
              "\n",
              "    .dataframe tbody tr th {\n",
              "        vertical-align: top;\n",
              "    }\n",
              "\n",
              "    .dataframe thead th {\n",
              "        text-align: right;\n",
              "    }\n",
              "</style>\n",
              "<table border=\"1\" class=\"dataframe\">\n",
              "  <thead>\n",
              "    <tr style=\"text-align: right;\">\n",
              "      <th></th>\n",
              "      <th>Adj Close</th>\n",
              "    </tr>\n",
              "    <tr>\n",
              "      <th>Date</th>\n",
              "      <th></th>\n",
              "    </tr>\n",
              "  </thead>\n",
              "  <tbody>\n",
              "    <tr>\n",
              "      <th>2016-01-04</th>\n",
              "      <td>NaN</td>\n",
              "    </tr>\n",
              "    <tr>\n",
              "      <th>2016-01-05</th>\n",
              "      <td>1.006597</td>\n",
              "    </tr>\n",
              "    <tr>\n",
              "      <th>2016-01-06</th>\n",
              "      <td>0.991267</td>\n",
              "    </tr>\n",
              "    <tr>\n",
              "      <th>2016-01-07</th>\n",
              "      <td>0.965687</td>\n",
              "    </tr>\n",
              "    <tr>\n",
              "      <th>2016-01-08</th>\n",
              "      <td>0.963717</td>\n",
              "    </tr>\n",
              "  </tbody>\n",
              "</table>\n",
              "</div>\n",
              "      <button class=\"colab-df-convert\" onclick=\"convertToInteractive('df-b808c0f3-8a83-49bf-9102-0d35f94be01d')\"\n",
              "              title=\"Convert this dataframe to an interactive table.\"\n",
              "              style=\"display:none;\">\n",
              "        \n",
              "  <svg xmlns=\"http://www.w3.org/2000/svg\" height=\"24px\"viewBox=\"0 0 24 24\"\n",
              "       width=\"24px\">\n",
              "    <path d=\"M0 0h24v24H0V0z\" fill=\"none\"/>\n",
              "    <path d=\"M18.56 5.44l.94 2.06.94-2.06 2.06-.94-2.06-.94-.94-2.06-.94 2.06-2.06.94zm-11 1L8.5 8.5l.94-2.06 2.06-.94-2.06-.94L8.5 2.5l-.94 2.06-2.06.94zm10 10l.94 2.06.94-2.06 2.06-.94-2.06-.94-.94-2.06-.94 2.06-2.06.94z\"/><path d=\"M17.41 7.96l-1.37-1.37c-.4-.4-.92-.59-1.43-.59-.52 0-1.04.2-1.43.59L10.3 9.45l-7.72 7.72c-.78.78-.78 2.05 0 2.83L4 21.41c.39.39.9.59 1.41.59.51 0 1.02-.2 1.41-.59l7.78-7.78 2.81-2.81c.8-.78.8-2.07 0-2.86zM5.41 20L4 18.59l7.72-7.72 1.47 1.35L5.41 20z\"/>\n",
              "  </svg>\n",
              "      </button>\n",
              "      \n",
              "  <style>\n",
              "    .colab-df-container {\n",
              "      display:flex;\n",
              "      flex-wrap:wrap;\n",
              "      gap: 12px;\n",
              "    }\n",
              "\n",
              "    .colab-df-convert {\n",
              "      background-color: #E8F0FE;\n",
              "      border: none;\n",
              "      border-radius: 50%;\n",
              "      cursor: pointer;\n",
              "      display: none;\n",
              "      fill: #1967D2;\n",
              "      height: 32px;\n",
              "      padding: 0 0 0 0;\n",
              "      width: 32px;\n",
              "    }\n",
              "\n",
              "    .colab-df-convert:hover {\n",
              "      background-color: #E2EBFA;\n",
              "      box-shadow: 0px 1px 2px rgba(60, 64, 67, 0.3), 0px 1px 3px 1px rgba(60, 64, 67, 0.15);\n",
              "      fill: #174EA6;\n",
              "    }\n",
              "\n",
              "    [theme=dark] .colab-df-convert {\n",
              "      background-color: #3B4455;\n",
              "      fill: #D2E3FC;\n",
              "    }\n",
              "\n",
              "    [theme=dark] .colab-df-convert:hover {\n",
              "      background-color: #434B5C;\n",
              "      box-shadow: 0px 1px 3px 1px rgba(0, 0, 0, 0.15);\n",
              "      filter: drop-shadow(0px 1px 2px rgba(0, 0, 0, 0.3));\n",
              "      fill: #FFFFFF;\n",
              "    }\n",
              "  </style>\n",
              "\n",
              "      <script>\n",
              "        const buttonEl =\n",
              "          document.querySelector('#df-b808c0f3-8a83-49bf-9102-0d35f94be01d button.colab-df-convert');\n",
              "        buttonEl.style.display =\n",
              "          google.colab.kernel.accessAllowed ? 'block' : 'none';\n",
              "\n",
              "        async function convertToInteractive(key) {\n",
              "          const element = document.querySelector('#df-b808c0f3-8a83-49bf-9102-0d35f94be01d');\n",
              "          const dataTable =\n",
              "            await google.colab.kernel.invokeFunction('convertToInteractive',\n",
              "                                                     [key], {});\n",
              "          if (!dataTable) return;\n",
              "\n",
              "          const docLinkHtml = 'Like what you see? Visit the ' +\n",
              "            '<a target=\"_blank\" href=https://colab.research.google.com/notebooks/data_table.ipynb>data table notebook</a>'\n",
              "            + ' to learn more about interactive tables.';\n",
              "          element.innerHTML = '';\n",
              "          dataTable['output_type'] = 'display_data';\n",
              "          await google.colab.output.renderOutput(dataTable, element);\n",
              "          const docLink = document.createElement('div');\n",
              "          docLink.innerHTML = docLinkHtml;\n",
              "          element.appendChild(docLink);\n",
              "        }\n",
              "      </script>\n",
              "    </div>\n",
              "  </div>\n",
              "  "
            ]
          },
          "metadata": {},
          "execution_count": 74
        }
      ]
    },
    {
      "cell_type": "code",
      "source": [
        "returno_acumulado_ibov.rename(columns = {'Adj Close': 'Ibov'}, inplace = True)"
      ],
      "metadata": {
        "id": "p6uk9wjcwper"
      },
      "execution_count": null,
      "outputs": []
    },
    {
      "cell_type": "code",
      "source": [
        "returno_acumulado_ibov.head()"
      ],
      "metadata": {
        "colab": {
          "base_uri": "https://localhost:8080/",
          "height": 237
        },
        "id": "Utd7MbDywvQP",
        "outputId": "8e18c64c-5379-4daf-e92a-e3dc88cc831c"
      },
      "execution_count": null,
      "outputs": [
        {
          "output_type": "execute_result",
          "data": {
            "text/plain": [
              "                Ibov\n",
              "Date                \n",
              "2016-01-04       NaN\n",
              "2016-01-05  1.006597\n",
              "2016-01-06  0.991267\n",
              "2016-01-07  0.965687\n",
              "2016-01-08  0.963717"
            ],
            "text/html": [
              "\n",
              "  <div id=\"df-283ac4d5-706b-450f-a4cb-74770e26e901\">\n",
              "    <div class=\"colab-df-container\">\n",
              "      <div>\n",
              "<style scoped>\n",
              "    .dataframe tbody tr th:only-of-type {\n",
              "        vertical-align: middle;\n",
              "    }\n",
              "\n",
              "    .dataframe tbody tr th {\n",
              "        vertical-align: top;\n",
              "    }\n",
              "\n",
              "    .dataframe thead th {\n",
              "        text-align: right;\n",
              "    }\n",
              "</style>\n",
              "<table border=\"1\" class=\"dataframe\">\n",
              "  <thead>\n",
              "    <tr style=\"text-align: right;\">\n",
              "      <th></th>\n",
              "      <th>Ibov</th>\n",
              "    </tr>\n",
              "    <tr>\n",
              "      <th>Date</th>\n",
              "      <th></th>\n",
              "    </tr>\n",
              "  </thead>\n",
              "  <tbody>\n",
              "    <tr>\n",
              "      <th>2016-01-04</th>\n",
              "      <td>NaN</td>\n",
              "    </tr>\n",
              "    <tr>\n",
              "      <th>2016-01-05</th>\n",
              "      <td>1.006597</td>\n",
              "    </tr>\n",
              "    <tr>\n",
              "      <th>2016-01-06</th>\n",
              "      <td>0.991267</td>\n",
              "    </tr>\n",
              "    <tr>\n",
              "      <th>2016-01-07</th>\n",
              "      <td>0.965687</td>\n",
              "    </tr>\n",
              "    <tr>\n",
              "      <th>2016-01-08</th>\n",
              "      <td>0.963717</td>\n",
              "    </tr>\n",
              "  </tbody>\n",
              "</table>\n",
              "</div>\n",
              "      <button class=\"colab-df-convert\" onclick=\"convertToInteractive('df-283ac4d5-706b-450f-a4cb-74770e26e901')\"\n",
              "              title=\"Convert this dataframe to an interactive table.\"\n",
              "              style=\"display:none;\">\n",
              "        \n",
              "  <svg xmlns=\"http://www.w3.org/2000/svg\" height=\"24px\"viewBox=\"0 0 24 24\"\n",
              "       width=\"24px\">\n",
              "    <path d=\"M0 0h24v24H0V0z\" fill=\"none\"/>\n",
              "    <path d=\"M18.56 5.44l.94 2.06.94-2.06 2.06-.94-2.06-.94-.94-2.06-.94 2.06-2.06.94zm-11 1L8.5 8.5l.94-2.06 2.06-.94-2.06-.94L8.5 2.5l-.94 2.06-2.06.94zm10 10l.94 2.06.94-2.06 2.06-.94-2.06-.94-.94-2.06-.94 2.06-2.06.94z\"/><path d=\"M17.41 7.96l-1.37-1.37c-.4-.4-.92-.59-1.43-.59-.52 0-1.04.2-1.43.59L10.3 9.45l-7.72 7.72c-.78.78-.78 2.05 0 2.83L4 21.41c.39.39.9.59 1.41.59.51 0 1.02-.2 1.41-.59l7.78-7.78 2.81-2.81c.8-.78.8-2.07 0-2.86zM5.41 20L4 18.59l7.72-7.72 1.47 1.35L5.41 20z\"/>\n",
              "  </svg>\n",
              "      </button>\n",
              "      \n",
              "  <style>\n",
              "    .colab-df-container {\n",
              "      display:flex;\n",
              "      flex-wrap:wrap;\n",
              "      gap: 12px;\n",
              "    }\n",
              "\n",
              "    .colab-df-convert {\n",
              "      background-color: #E8F0FE;\n",
              "      border: none;\n",
              "      border-radius: 50%;\n",
              "      cursor: pointer;\n",
              "      display: none;\n",
              "      fill: #1967D2;\n",
              "      height: 32px;\n",
              "      padding: 0 0 0 0;\n",
              "      width: 32px;\n",
              "    }\n",
              "\n",
              "    .colab-df-convert:hover {\n",
              "      background-color: #E2EBFA;\n",
              "      box-shadow: 0px 1px 2px rgba(60, 64, 67, 0.3), 0px 1px 3px 1px rgba(60, 64, 67, 0.15);\n",
              "      fill: #174EA6;\n",
              "    }\n",
              "\n",
              "    [theme=dark] .colab-df-convert {\n",
              "      background-color: #3B4455;\n",
              "      fill: #D2E3FC;\n",
              "    }\n",
              "\n",
              "    [theme=dark] .colab-df-convert:hover {\n",
              "      background-color: #434B5C;\n",
              "      box-shadow: 0px 1px 3px 1px rgba(0, 0, 0, 0.15);\n",
              "      filter: drop-shadow(0px 1px 2px rgba(0, 0, 0, 0.3));\n",
              "      fill: #FFFFFF;\n",
              "    }\n",
              "  </style>\n",
              "\n",
              "      <script>\n",
              "        const buttonEl =\n",
              "          document.querySelector('#df-283ac4d5-706b-450f-a4cb-74770e26e901 button.colab-df-convert');\n",
              "        buttonEl.style.display =\n",
              "          google.colab.kernel.accessAllowed ? 'block' : 'none';\n",
              "\n",
              "        async function convertToInteractive(key) {\n",
              "          const element = document.querySelector('#df-283ac4d5-706b-450f-a4cb-74770e26e901');\n",
              "          const dataTable =\n",
              "            await google.colab.kernel.invokeFunction('convertToInteractive',\n",
              "                                                     [key], {});\n",
              "          if (!dataTable) return;\n",
              "\n",
              "          const docLinkHtml = 'Like what you see? Visit the ' +\n",
              "            '<a target=\"_blank\" href=https://colab.research.google.com/notebooks/data_table.ipynb>data table notebook</a>'\n",
              "            + ' to learn more about interactive tables.';\n",
              "          element.innerHTML = '';\n",
              "          dataTable['output_type'] = 'display_data';\n",
              "          await google.colab.output.renderOutput(dataTable, element);\n",
              "          const docLink = document.createElement('div');\n",
              "          docLink.innerHTML = docLinkHtml;\n",
              "          element.appendChild(docLink);\n",
              "        }\n",
              "      </script>\n",
              "    </div>\n",
              "  </div>\n",
              "  "
            ]
          },
          "metadata": {},
          "execution_count": 76
        }
      ]
    },
    {
      "cell_type": "code",
      "source": [
        "novo_df = pd.merge(pd.DataFrame(returno_acumulado), returno_acumulado_ibov, how = 'inner', on = 'Date')"
      ],
      "metadata": {
        "id": "xps65ZsYwwOn"
      },
      "execution_count": null,
      "outputs": []
    },
    {
      "cell_type": "code",
      "source": [
        "novo_df.head()"
      ],
      "metadata": {
        "colab": {
          "base_uri": "https://localhost:8080/",
          "height": 237
        },
        "id": "Kj14D8b8xHo_",
        "outputId": "620fb1f4-4dd7-4d50-f8fd-42292ae95d90"
      },
      "execution_count": null,
      "outputs": [
        {
          "output_type": "execute_result",
          "data": {
            "text/plain": [
              "                   0      Ibov\n",
              "Date                          \n",
              "2016-01-05  1.020195  1.006597\n",
              "2016-01-06  1.014462  0.991267\n",
              "2016-01-07  1.004433  0.965687\n",
              "2016-01-08  1.010423  0.963717\n",
              "2016-01-11  1.006895  0.948008"
            ],
            "text/html": [
              "\n",
              "  <div id=\"df-b5dc5063-6b17-4638-a306-2d3ef5688af8\">\n",
              "    <div class=\"colab-df-container\">\n",
              "      <div>\n",
              "<style scoped>\n",
              "    .dataframe tbody tr th:only-of-type {\n",
              "        vertical-align: middle;\n",
              "    }\n",
              "\n",
              "    .dataframe tbody tr th {\n",
              "        vertical-align: top;\n",
              "    }\n",
              "\n",
              "    .dataframe thead th {\n",
              "        text-align: right;\n",
              "    }\n",
              "</style>\n",
              "<table border=\"1\" class=\"dataframe\">\n",
              "  <thead>\n",
              "    <tr style=\"text-align: right;\">\n",
              "      <th></th>\n",
              "      <th>0</th>\n",
              "      <th>Ibov</th>\n",
              "    </tr>\n",
              "    <tr>\n",
              "      <th>Date</th>\n",
              "      <th></th>\n",
              "      <th></th>\n",
              "    </tr>\n",
              "  </thead>\n",
              "  <tbody>\n",
              "    <tr>\n",
              "      <th>2016-01-05</th>\n",
              "      <td>1.020195</td>\n",
              "      <td>1.006597</td>\n",
              "    </tr>\n",
              "    <tr>\n",
              "      <th>2016-01-06</th>\n",
              "      <td>1.014462</td>\n",
              "      <td>0.991267</td>\n",
              "    </tr>\n",
              "    <tr>\n",
              "      <th>2016-01-07</th>\n",
              "      <td>1.004433</td>\n",
              "      <td>0.965687</td>\n",
              "    </tr>\n",
              "    <tr>\n",
              "      <th>2016-01-08</th>\n",
              "      <td>1.010423</td>\n",
              "      <td>0.963717</td>\n",
              "    </tr>\n",
              "    <tr>\n",
              "      <th>2016-01-11</th>\n",
              "      <td>1.006895</td>\n",
              "      <td>0.948008</td>\n",
              "    </tr>\n",
              "  </tbody>\n",
              "</table>\n",
              "</div>\n",
              "      <button class=\"colab-df-convert\" onclick=\"convertToInteractive('df-b5dc5063-6b17-4638-a306-2d3ef5688af8')\"\n",
              "              title=\"Convert this dataframe to an interactive table.\"\n",
              "              style=\"display:none;\">\n",
              "        \n",
              "  <svg xmlns=\"http://www.w3.org/2000/svg\" height=\"24px\"viewBox=\"0 0 24 24\"\n",
              "       width=\"24px\">\n",
              "    <path d=\"M0 0h24v24H0V0z\" fill=\"none\"/>\n",
              "    <path d=\"M18.56 5.44l.94 2.06.94-2.06 2.06-.94-2.06-.94-.94-2.06-.94 2.06-2.06.94zm-11 1L8.5 8.5l.94-2.06 2.06-.94-2.06-.94L8.5 2.5l-.94 2.06-2.06.94zm10 10l.94 2.06.94-2.06 2.06-.94-2.06-.94-.94-2.06-.94 2.06-2.06.94z\"/><path d=\"M17.41 7.96l-1.37-1.37c-.4-.4-.92-.59-1.43-.59-.52 0-1.04.2-1.43.59L10.3 9.45l-7.72 7.72c-.78.78-.78 2.05 0 2.83L4 21.41c.39.39.9.59 1.41.59.51 0 1.02-.2 1.41-.59l7.78-7.78 2.81-2.81c.8-.78.8-2.07 0-2.86zM5.41 20L4 18.59l7.72-7.72 1.47 1.35L5.41 20z\"/>\n",
              "  </svg>\n",
              "      </button>\n",
              "      \n",
              "  <style>\n",
              "    .colab-df-container {\n",
              "      display:flex;\n",
              "      flex-wrap:wrap;\n",
              "      gap: 12px;\n",
              "    }\n",
              "\n",
              "    .colab-df-convert {\n",
              "      background-color: #E8F0FE;\n",
              "      border: none;\n",
              "      border-radius: 50%;\n",
              "      cursor: pointer;\n",
              "      display: none;\n",
              "      fill: #1967D2;\n",
              "      height: 32px;\n",
              "      padding: 0 0 0 0;\n",
              "      width: 32px;\n",
              "    }\n",
              "\n",
              "    .colab-df-convert:hover {\n",
              "      background-color: #E2EBFA;\n",
              "      box-shadow: 0px 1px 2px rgba(60, 64, 67, 0.3), 0px 1px 3px 1px rgba(60, 64, 67, 0.15);\n",
              "      fill: #174EA6;\n",
              "    }\n",
              "\n",
              "    [theme=dark] .colab-df-convert {\n",
              "      background-color: #3B4455;\n",
              "      fill: #D2E3FC;\n",
              "    }\n",
              "\n",
              "    [theme=dark] .colab-df-convert:hover {\n",
              "      background-color: #434B5C;\n",
              "      box-shadow: 0px 1px 3px 1px rgba(0, 0, 0, 0.15);\n",
              "      filter: drop-shadow(0px 1px 2px rgba(0, 0, 0, 0.3));\n",
              "      fill: #FFFFFF;\n",
              "    }\n",
              "  </style>\n",
              "\n",
              "      <script>\n",
              "        const buttonEl =\n",
              "          document.querySelector('#df-b5dc5063-6b17-4638-a306-2d3ef5688af8 button.colab-df-convert');\n",
              "        buttonEl.style.display =\n",
              "          google.colab.kernel.accessAllowed ? 'block' : 'none';\n",
              "\n",
              "        async function convertToInteractive(key) {\n",
              "          const element = document.querySelector('#df-b5dc5063-6b17-4638-a306-2d3ef5688af8');\n",
              "          const dataTable =\n",
              "            await google.colab.kernel.invokeFunction('convertToInteractive',\n",
              "                                                     [key], {});\n",
              "          if (!dataTable) return;\n",
              "\n",
              "          const docLinkHtml = 'Like what you see? Visit the ' +\n",
              "            '<a target=\"_blank\" href=https://colab.research.google.com/notebooks/data_table.ipynb>data table notebook</a>'\n",
              "            + ' to learn more about interactive tables.';\n",
              "          element.innerHTML = '';\n",
              "          dataTable['output_type'] = 'display_data';\n",
              "          await google.colab.output.renderOutput(dataTable, element);\n",
              "          const docLink = document.createElement('div');\n",
              "          docLink.innerHTML = docLinkHtml;\n",
              "          element.appendChild(docLink);\n",
              "        }\n",
              "      </script>\n",
              "    </div>\n",
              "  </div>\n",
              "  "
            ]
          },
          "metadata": {},
          "execution_count": 78
        }
      ]
    },
    {
      "cell_type": "code",
      "source": [
        "novo_df.columns"
      ],
      "metadata": {
        "colab": {
          "base_uri": "https://localhost:8080/"
        },
        "id": "UkIiCI2pxxDV",
        "outputId": "f82764ec-892b-4e50-cac1-9b76c6ceb260"
      },
      "execution_count": null,
      "outputs": [
        {
          "output_type": "execute_result",
          "data": {
            "text/plain": [
              "Index([0, 'Ibov'], dtype='object')"
            ]
          },
          "metadata": {},
          "execution_count": 79
        }
      ]
    },
    {
      "cell_type": "code",
      "source": [
        "novo_df.rename(columns = {0:'Minha Carteira'}, inplace = True)"
      ],
      "metadata": {
        "id": "8WNOnrK1x0_-"
      },
      "execution_count": null,
      "outputs": []
    },
    {
      "cell_type": "code",
      "source": [
        "novo_df.head()"
      ],
      "metadata": {
        "colab": {
          "base_uri": "https://localhost:8080/",
          "height": 237
        },
        "id": "BTKbutCrx8DA",
        "outputId": "11013ed9-f8f1-4ae5-bc3a-88ac5db88152"
      },
      "execution_count": null,
      "outputs": [
        {
          "output_type": "execute_result",
          "data": {
            "text/plain": [
              "            Minha Carteira      Ibov\n",
              "Date                                \n",
              "2016-01-05        1.020195  1.006597\n",
              "2016-01-06        1.014462  0.991267\n",
              "2016-01-07        1.004433  0.965687\n",
              "2016-01-08        1.010423  0.963717\n",
              "2016-01-11        1.006895  0.948008"
            ],
            "text/html": [
              "\n",
              "  <div id=\"df-70f1e171-3149-4c58-9ad7-15f82e8f9021\">\n",
              "    <div class=\"colab-df-container\">\n",
              "      <div>\n",
              "<style scoped>\n",
              "    .dataframe tbody tr th:only-of-type {\n",
              "        vertical-align: middle;\n",
              "    }\n",
              "\n",
              "    .dataframe tbody tr th {\n",
              "        vertical-align: top;\n",
              "    }\n",
              "\n",
              "    .dataframe thead th {\n",
              "        text-align: right;\n",
              "    }\n",
              "</style>\n",
              "<table border=\"1\" class=\"dataframe\">\n",
              "  <thead>\n",
              "    <tr style=\"text-align: right;\">\n",
              "      <th></th>\n",
              "      <th>Minha Carteira</th>\n",
              "      <th>Ibov</th>\n",
              "    </tr>\n",
              "    <tr>\n",
              "      <th>Date</th>\n",
              "      <th></th>\n",
              "      <th></th>\n",
              "    </tr>\n",
              "  </thead>\n",
              "  <tbody>\n",
              "    <tr>\n",
              "      <th>2016-01-05</th>\n",
              "      <td>1.020195</td>\n",
              "      <td>1.006597</td>\n",
              "    </tr>\n",
              "    <tr>\n",
              "      <th>2016-01-06</th>\n",
              "      <td>1.014462</td>\n",
              "      <td>0.991267</td>\n",
              "    </tr>\n",
              "    <tr>\n",
              "      <th>2016-01-07</th>\n",
              "      <td>1.004433</td>\n",
              "      <td>0.965687</td>\n",
              "    </tr>\n",
              "    <tr>\n",
              "      <th>2016-01-08</th>\n",
              "      <td>1.010423</td>\n",
              "      <td>0.963717</td>\n",
              "    </tr>\n",
              "    <tr>\n",
              "      <th>2016-01-11</th>\n",
              "      <td>1.006895</td>\n",
              "      <td>0.948008</td>\n",
              "    </tr>\n",
              "  </tbody>\n",
              "</table>\n",
              "</div>\n",
              "      <button class=\"colab-df-convert\" onclick=\"convertToInteractive('df-70f1e171-3149-4c58-9ad7-15f82e8f9021')\"\n",
              "              title=\"Convert this dataframe to an interactive table.\"\n",
              "              style=\"display:none;\">\n",
              "        \n",
              "  <svg xmlns=\"http://www.w3.org/2000/svg\" height=\"24px\"viewBox=\"0 0 24 24\"\n",
              "       width=\"24px\">\n",
              "    <path d=\"M0 0h24v24H0V0z\" fill=\"none\"/>\n",
              "    <path d=\"M18.56 5.44l.94 2.06.94-2.06 2.06-.94-2.06-.94-.94-2.06-.94 2.06-2.06.94zm-11 1L8.5 8.5l.94-2.06 2.06-.94-2.06-.94L8.5 2.5l-.94 2.06-2.06.94zm10 10l.94 2.06.94-2.06 2.06-.94-2.06-.94-.94-2.06-.94 2.06-2.06.94z\"/><path d=\"M17.41 7.96l-1.37-1.37c-.4-.4-.92-.59-1.43-.59-.52 0-1.04.2-1.43.59L10.3 9.45l-7.72 7.72c-.78.78-.78 2.05 0 2.83L4 21.41c.39.39.9.59 1.41.59.51 0 1.02-.2 1.41-.59l7.78-7.78 2.81-2.81c.8-.78.8-2.07 0-2.86zM5.41 20L4 18.59l7.72-7.72 1.47 1.35L5.41 20z\"/>\n",
              "  </svg>\n",
              "      </button>\n",
              "      \n",
              "  <style>\n",
              "    .colab-df-container {\n",
              "      display:flex;\n",
              "      flex-wrap:wrap;\n",
              "      gap: 12px;\n",
              "    }\n",
              "\n",
              "    .colab-df-convert {\n",
              "      background-color: #E8F0FE;\n",
              "      border: none;\n",
              "      border-radius: 50%;\n",
              "      cursor: pointer;\n",
              "      display: none;\n",
              "      fill: #1967D2;\n",
              "      height: 32px;\n",
              "      padding: 0 0 0 0;\n",
              "      width: 32px;\n",
              "    }\n",
              "\n",
              "    .colab-df-convert:hover {\n",
              "      background-color: #E2EBFA;\n",
              "      box-shadow: 0px 1px 2px rgba(60, 64, 67, 0.3), 0px 1px 3px 1px rgba(60, 64, 67, 0.15);\n",
              "      fill: #174EA6;\n",
              "    }\n",
              "\n",
              "    [theme=dark] .colab-df-convert {\n",
              "      background-color: #3B4455;\n",
              "      fill: #D2E3FC;\n",
              "    }\n",
              "\n",
              "    [theme=dark] .colab-df-convert:hover {\n",
              "      background-color: #434B5C;\n",
              "      box-shadow: 0px 1px 3px 1px rgba(0, 0, 0, 0.15);\n",
              "      filter: drop-shadow(0px 1px 2px rgba(0, 0, 0, 0.3));\n",
              "      fill: #FFFFFF;\n",
              "    }\n",
              "  </style>\n",
              "\n",
              "      <script>\n",
              "        const buttonEl =\n",
              "          document.querySelector('#df-70f1e171-3149-4c58-9ad7-15f82e8f9021 button.colab-df-convert');\n",
              "        buttonEl.style.display =\n",
              "          google.colab.kernel.accessAllowed ? 'block' : 'none';\n",
              "\n",
              "        async function convertToInteractive(key) {\n",
              "          const element = document.querySelector('#df-70f1e171-3149-4c58-9ad7-15f82e8f9021');\n",
              "          const dataTable =\n",
              "            await google.colab.kernel.invokeFunction('convertToInteractive',\n",
              "                                                     [key], {});\n",
              "          if (!dataTable) return;\n",
              "\n",
              "          const docLinkHtml = 'Like what you see? Visit the ' +\n",
              "            '<a target=\"_blank\" href=https://colab.research.google.com/notebooks/data_table.ipynb>data table notebook</a>'\n",
              "            + ' to learn more about interactive tables.';\n",
              "          element.innerHTML = '';\n",
              "          dataTable['output_type'] = 'display_data';\n",
              "          await google.colab.output.renderOutput(dataTable, element);\n",
              "          const docLink = document.createElement('div');\n",
              "          docLink.innerHTML = docLinkHtml;\n",
              "          element.appendChild(docLink);\n",
              "        }\n",
              "      </script>\n",
              "    </div>\n",
              "  </div>\n",
              "  "
            ]
          },
          "metadata": {},
          "execution_count": 81
        }
      ]
    },
    {
      "cell_type": "code",
      "source": [
        "novo_df.plot(figsize = (10,8));"
      ],
      "metadata": {
        "colab": {
          "base_uri": "https://localhost:8080/",
          "height": 463
        },
        "id": "Ixlg1Qd3x9mp",
        "outputId": "30b13f20-ec49-49a9-bdf7-3011aac0e7bd"
      },
      "execution_count": null,
      "outputs": [
        {
          "output_type": "display_data",
          "data": {
            "text/plain": [
              "<Figure size 720x576 with 1 Axes>"
            ],
            "image/png": "[encoded data removed]"
          },
          "metadata": {}
        }
      ]
    },
    {
      "cell_type": "code",
      "source": [],
      "metadata": {
        "id": "Wf1jbA7-yAeJ"
      },
      "execution_count": null,
      "outputs": []
    }
  ]
}