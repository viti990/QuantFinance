{
 "cells": [
  {
   "cell_type": "markdown",
   "metadata": {},
   "source": [
    "<center><img src = \"https://github.com/Trading-com-Dados/pmf/blob/main/logotipo-trading-com-dados.svg?raw=true\" width = \"200\">"
   ]
  },
  {
   "cell_type": "markdown",
   "metadata": {},
   "source": [
    "<center><img src = \"https://github.com/Trading-com-Dados/pmf/blob/main/PMF%20002.png?raw=true\" width = \"700\">"
   ]
  },
  {
   "cell_type": "markdown",
   "metadata": {},
   "source": [
    "---\n",
    "# **Dados Alternativos com Webscraping & Webcrawling**\n",
    "---"
   ]
  },
  {
   "cell_type": "markdown",
   "metadata": {},
   "source": [
    "## **1. Introdução**"
   ]
  },
  {
   "cell_type": "markdown",
   "metadata": {},
   "source": [
    "![intro](imagens/intro1.png)"
   ]
  },
  {
   "cell_type": "markdown",
   "metadata": {},
   "source": [
    "### **1.1. Por que usar essas Técnicas?**"
   ]
  },
  {
   "cell_type": "markdown",
   "metadata": {},
   "source": [
    "![intro](imagens/intro2.png)"
   ]
  },
  {
   "cell_type": "markdown",
   "metadata": {},
   "source": [
    "### **1.2. O que é Webscraping?**"
   ]
  },
  {
   "cell_type": "markdown",
   "metadata": {},
   "source": [
    "![intro](imagens/intro2.png)"
   ]
  },
  {
   "cell_type": "markdown",
   "metadata": {},
   "source": [
    "### **1.2. O que é Webcrawling?**"
   ]
  },
  {
   "cell_type": "markdown",
   "metadata": {},
   "source": [
    "![intro](imagens/intro4.png)"
   ]
  },
  {
   "cell_type": "markdown",
   "metadata": {},
   "source": [
    "### **1.4. Diferenças entre Webscraping e Webcrawling**"
   ]
  },
  {
   "cell_type": "markdown",
   "metadata": {},
   "source": [
    "![intro](imagens/intro5.png)"
   ]
  },
  {
   "cell_type": "markdown",
   "metadata": {},
   "source": [
    "### **1.5. Bibliotecas utilizadas**"
   ]
  },
  {
   "cell_type": "markdown",
   "metadata": {},
   "source": [
    "![intro](imagens/intro6.png)"
   ]
  },
  {
   "cell_type": "markdown",
   "metadata": {},
   "source": [
    "![intro](imagens/intro7.png)"
   ]
  },
  {
   "cell_type": "markdown",
   "metadata": {},
   "source": [
    "### **1.6. O que são Dados Alternativos**"
   ]
  },
  {
   "cell_type": "markdown",
   "metadata": {},
   "source": [
    "![intro](imagens/intro8.png)"
   ]
  },
  {
   "cell_type": "markdown",
   "metadata": {},
   "source": [
    "### **1.7. Exemplos de Dados Alternativos**"
   ]
  },
  {
   "cell_type": "markdown",
   "metadata": {},
   "source": [
    "Os exemplos citados na aula estão disponíveis na pasta \"arquivos\"."
   ]
  },
  {
   "cell_type": "markdown",
   "metadata": {},
   "source": [
    "## **2. Conceitos Básicos de HTML**"
   ]
  },
  {
   "cell_type": "markdown",
   "metadata": {},
   "source": [
    "### **2.1. Conceito**"
   ]
  },
  {
   "cell_type": "markdown",
   "metadata": {},
   "source": [
    "<p>HTML é basicamente uma linguagem de marcação, onde cada <b>tag</b> representa algo dentro da hierarquia da página. No exemplo acima temos a tag <b>&lt;html&gt;...&lt;/html&gt;</b>, onde está contido todo o código HTML. Dentro dele temos <b>&lt;head&gt;...&lt;/head&gt;</b>, onde se encontra informações técnicas do código, por isso não precisamos nos importar com essa parte. Nosso maior interesse está em <b>&lt;body&gt;...&lt;/body&gt;</b>, onde está contido toda a informação visível para nós. </p>"
   ]
  },
  {
   "cell_type": "markdown",
   "metadata": {},
   "source": [
    "### **2.2. Estrutura**\n",
    "```html\n",
    "<!DOCTYPE html>\n",
    "<html>\n",
    "    <head>\n",
    "        <title>Page Title</title>\n",
    "    </head>\n",
    "\n",
    "    <body>\n",
    "    \n",
    "        <div>\n",
    "            <h1>Isto é um título</h1>\n",
    "            <p>Isto é um parágrafo</p>\n",
    "            <a href='https://www.google.com.br'>Link do google</a>\n",
    "        </div>\n",
    "\n",
    "        <div>\n",
    "            <h2>Lista não ordenada</h2>\n",
    "\n",
    "            <ul>\n",
    "                <li>Café</li>\n",
    "                <li>Chá</li>\n",
    "                <li>Leite</li>\n",
    "            </ul>  \n",
    "\n",
    "            <h2>Lista ordenada</h2>\n",
    "\n",
    "            <ol>\n",
    "                <li>Café</li>\n",
    "                <li>Chá</li>\n",
    "                <li>Leite</li>\n",
    "            </ol>  \n",
    "        </div>\n",
    "\n",
    "        <div>\n",
    "            <h2>Exemplo de uma tabela</h2>\n",
    "\n",
    "            <table>\n",
    "                <tr>\n",
    "                    <th>Nome</th>\n",
    "                    <th>Sobrenome</th>\n",
    "                    <th>Idade</th>\n",
    "                </tr>\n",
    "                <tr>\n",
    "                    <td>Jill</td>\n",
    "                    <td>Smith</td>\n",
    "                    <td>50</td>\n",
    "                </tr>\n",
    "                <tr>\n",
    "                    <td>Eve</td>\n",
    "                    <td>Jackson</td>\n",
    "                    <td>94</td>\n",
    "                </tr>\n",
    "            </table>\n",
    "        </div>\n",
    "        \n",
    "    </body>\n",
    "</html>\n",
    "```"
   ]
  },
  {
   "cell_type": "markdown",
   "metadata": {},
   "source": [
    "### **2.2. Tags Básicas**"
   ]
  },
  {
   "cell_type": "markdown",
   "metadata": {},
   "source": [
    "<p>Para conseguirmos saber o que estamos extraíndo, é preciso saber o que cada tag significa dentro do código. Abaixo está a explicação simplificada das tags mais básicas a serem aprendidas:</p>"
   ]
  },
  {
   "cell_type": "markdown",
   "metadata": {},
   "source": [
    "<ul>\n",
    "    <li>h1: Indica o título da página ou da sessão em que ela está contida. Podemos também usar h2, h2... para indicar subtítulos.</li>\n",
    "    <li>p: Indica um parágrafo</li>\n",
    "    <li>a: Indica um link, onde o link vem representado por 'href' dentro da tag</li>\n",
    "    <li>ul: Indica listas não ordenadas</li>\n",
    "    <li>ol: Indica listas ordenadas</li>\n",
    "    <li>li: Indica os elementos da lista 'ul' ou 'ol'</li>\n",
    "    <li>table: Indica uma tabela</li>\n",
    "    <li>tr: Indica o começo de uma linha em 'table'</li>\n",
    "    <li>th: Indica o head em 'table'</li>\n",
    "    <li>td: Indica uma linha em 'table'</li>\n",
    "    <li>div: Serve para organizar e dividir partes do código</li>\n",
    "    <li>span: Serve para organizar os elementos de uma mesma linha</li>\n",
    "</ul>"
   ]
  },
  {
   "cell_type": "markdown",
   "metadata": {},
   "source": [
    "<p>Rodando cada divisão do código em <b>a)</b> individualmente, podemos ver com mais clareza o que está acontecendo.</p>"
   ]
  },
  {
   "cell_type": "markdown",
   "metadata": {},
   "source": [
    "<p>_____________________________________________________________________________________________________________________</p>"
   ]
  },
  {
   "cell_type": "markdown",
   "metadata": {},
   "source": [
    "<h3 id='parte-1b1' style=\"color:green;\">2.4. Título(h1), parágrafos(p), links(a)</h3>"
   ]
  },
  {
   "cell_type": "markdown",
   "metadata": {},
   "source": [
    "<ul><li>Rodando o código abaixo:</li></ul>"
   ]
  },
  {
   "cell_type": "markdown",
   "metadata": {},
   "source": [
    "##### 2.4.1. Código:\n",
    "```html\n",
    "<body>\n",
    "    <div>\n",
    "        <h1>Isto é um título</h1>\n",
    "        <p>Isto é um parágrafo</p>\n",
    "        <a href='https://www.google.com.br'>Link do google</a>\n",
    "    </div>\n",
    "</body>\n",
    "```"
   ]
  },
  {
   "cell_type": "markdown",
   "metadata": {},
   "source": [
    "<ul><li>Temos como resultado o seguinte HTML:</li></ul>"
   ]
  },
  {
   "cell_type": "markdown",
   "metadata": {},
   "source": [
    "#### 2.4.2. Resultado:\n",
    "<body>\n",
    "    \n",
    "<div>\n",
    "    <h1>Isto é um título</h1>\n",
    "    <p>Isto é um parágrafo</p>\n",
    "    <a href='https://www.google.com.br'>Link do google</a>\n",
    "</div>\n",
    "\n",
    "</body>"
   ]
  },
  {
   "cell_type": "markdown",
   "metadata": {},
   "source": [
    "<h3 id='parte-1b2' style=\"color:green;\">2.5. Listas(ul, ol)</h3>"
   ]
  },
  {
   "cell_type": "markdown",
   "metadata": {},
   "source": [
    "<ul><li>Rodando o código abaixo:</li></ul>"
   ]
  },
  {
   "cell_type": "markdown",
   "metadata": {},
   "source": [
    "#### 2.5.1. Código:\n",
    "```html\n",
    "<body>\n",
    "    <div>\n",
    "        <h2>Lista não ordenada</h2>\n",
    "\n",
    "        <ul>\n",
    "            <li>Café</li>\n",
    "            <li>Chá</li>\n",
    "            <li>Leite</li>\n",
    "        </ul>  \n",
    "\n",
    "        <h2>Lista ordenada</h2>\n",
    "\n",
    "        <ol>\n",
    "            <li>Café</li>\n",
    "            <li>Chá</li>\n",
    "            <li>Leite</li>\n",
    "        </ol>\n",
    "    </div>\n",
    "</body>\n",
    "```"
   ]
  },
  {
   "cell_type": "markdown",
   "metadata": {},
   "source": [
    "<ul><li>Temos como resultado o seguinte HTML:</li></ul>"
   ]
  },
  {
   "cell_type": "markdown",
   "metadata": {},
   "source": [
    "#### 2.5.2. Resultado:\n",
    "\n",
    "<body>\n",
    "    <div>\n",
    "<h2>Lista não ordenada</h2>\n",
    "\n",
    "<ul>\n",
    "    <li>Café</li>\n",
    "    <li>Chá</li>\n",
    "    <li>Leite</li>\n",
    "</ul>  \n",
    "\n",
    "<h2>Lista ordenada</h2>\n",
    "\n",
    "<ol>\n",
    "    <li>Café</li>\n",
    "    <li>Chá</li>\n",
    "    <li>Leite</li>\n",
    "</ol>\n",
    "</div>\n",
    "</body>"
   ]
  },
  {
   "cell_type": "markdown",
   "metadata": {},
   "source": [
    "<h3 id='parte-1b3' style=\"color:green;\">2.6. Tabela(table)</h3>"
   ]
  },
  {
   "cell_type": "markdown",
   "metadata": {},
   "source": [
    "<ul><li>Rodando o código abaixo:</li></ul>"
   ]
  },
  {
   "cell_type": "markdown",
   "metadata": {},
   "source": [
    "#### **2.6.1. Código:**\n",
    "```html\n",
    "<body>\n",
    "    <div>\n",
    "        <h2>Exemplo de uma tabela</h2>\n",
    "\n",
    "        <table>\n",
    "            <tr>\n",
    "                <th>Nome</th>\n",
    "                <th>Sobrenome</th>\n",
    "                <th>Idade</th>\n",
    "            </tr>\n",
    "            <tr>\n",
    "                <td>Jill</td>\n",
    "                <td>Smith</td>\n",
    "                <td>50</td>\n",
    "            </tr>\n",
    "            <tr>\n",
    "                <td>Eve</td>\n",
    "                <td>Jackson</td>\n",
    "                <td>94</td>\n",
    "            </tr>\n",
    "        </table>\n",
    "    </div>\n",
    "</body>\n",
    "```"
   ]
  },
  {
   "cell_type": "markdown",
   "metadata": {},
   "source": [
    "<ul><li>Temos como resultado o seguinte HTML:</li></ul>"
   ]
  },
  {
   "cell_type": "markdown",
   "metadata": {},
   "source": [
    "#### **2.6.2. Resultado:**\n",
    "<body>\n",
    "    <div>\n",
    "<h2>Exemplo de uma tabela</h2>\n",
    "\n",
    "<table>\n",
    "    <tr>\n",
    "        <th>Nome</th>\n",
    "        <th>Sobrenome</th>\n",
    "        <th>Idade</th>\n",
    "    </tr>\n",
    "    <tr>\n",
    "        <td>Jill</td>\n",
    "        <td>Smith</td>\n",
    "        <td>50</td>\n",
    "    </tr>\n",
    "    <tr>\n",
    "        <td>Eve</td>\n",
    "        <td>Jackson</td>\n",
    "        <td>94</td>\n",
    "    </tr>\n",
    "</table>\n",
    "</div>\n",
    "</body>"
   ]
  },
  {
   "cell_type": "markdown",
   "metadata": {},
   "source": [
    "<h3 id='parte-1b4' style=\"color:green;\">2.7. Arquivo \"exemplo.html\"</h3>"
   ]
  },
  {
   "cell_type": "markdown",
   "metadata": {},
   "source": [
    "<p>Se rodarmos o exemplo em <b>a)</b> completo dentro do jupyter, poderemos ver como o código seria renderizado em uma página web. O código pode também ser visualizado numa página web abrindo o arquivo <b>'exemplo.html' </b>(na pasta arquivos):</p>"
   ]
  },
  {
   "cell_type": "markdown",
   "metadata": {},
   "source": [
    "#### **2.7.1. Resultado:**\n",
    "<!DOCTYPE html>\n",
    "<html>\n",
    "    <head>\n",
    "        <title>Page Title</title>\n",
    "    </head>\n",
    "\n",
    "<body>\n",
    "\n",
    "<div>\n",
    "<h1>Isto é um título</h1>\n",
    "<p>Isto é um parágrafo</p>\n",
    "<a href='https://www.google.com.br'>Link do google</a>\n",
    "</div>\n",
    "\n",
    "<div>\n",
    "<h2>Lista não ordenada</h2>\n",
    "\n",
    "<ul>\n",
    "    <li>Café</li>\n",
    "    <li>Chá</li>\n",
    "    <li>Leite</li>\n",
    "</ul>  \n",
    "\n",
    "<h2>Lista ordenada</h2>\n",
    "\n",
    "<ol>\n",
    "    <li>Café</li>\n",
    "    <li>Chá</li>\n",
    "    <li>Leite</li>\n",
    "</ol>  \n",
    "</div>\n",
    "\n",
    "<div>\n",
    "<h2>Exemplo de uma tabela</h2>\n",
    "\n",
    "<table>\n",
    "    <tr>\n",
    "        <th>Nome</th>\n",
    "        <th>Sobrenome</th>\n",
    "        <th>Idade</th>\n",
    "    </tr>\n",
    "    <tr>\n",
    "        <td>Jill</td>\n",
    "        <td>Smith</td>\n",
    "        <td>50</td>\n",
    "    </tr>\n",
    "    <tr>\n",
    "        <td>Eve</td>\n",
    "        <td>Jackson</td>\n",
    "        <td>94</td>\n",
    "    </tr>\n",
    "</table>\n",
    "</div>\n",
    "\n",
    "</body>\n",
    "</html>"
   ]
  },
  {
   "cell_type": "markdown",
   "metadata": {},
   "source": [
    "<h3 id='parte-1c' style=\"color:green;\">2.8. Utilizando um navegador para entender como a página está estruturada</h3>"
   ]
  },
  {
   "cell_type": "markdown",
   "metadata": {},
   "source": [
    "<p>Por mais que os desenvolvedores web tentem seguir uma regra na criação das páginas, é muito difícil todas estarem sempre no mesmo padrão. Por exemplo, uma notícia no <b>InfoMoney</b> pode ser formatada em um padrão diferente de uma notícia no <b>G1</b>, por essa razão é importante entender como a página está estruturada antes de começar a extrair qualquer informação dela. Nessas etapas recomendo o uso do Google Chrome, devido à sua facilidade em mostrar de forma intuitiva o código fonte</p>"
   ]
  },
  {
   "cell_type": "markdown",
   "metadata": {},
   "source": [
    "<ul>\n",
    "    <li><b>Insepcionando a página</b>: Após abrir o arquivo \"exemplo.html\" no Chrome, devemos clicar com o mouse direito em alguma área da página, de preferência algum lugar em branco, e depois selecionar 'Inspecionar'</li>\n",
    "</ul>"
   ]
  },
  {
   "cell_type": "markdown",
   "metadata": {},
   "source": [
    "<img src = \"imagens/html1.png\"/>"
   ]
  },
  {
   "cell_type": "markdown",
   "metadata": {},
   "source": [
    "<p>Do lado vemos que uma nova parte do Chrome se abriu. Ali estão todas as informações que precisamos para extrair o que queremos da página. Por enquanto devemos só nos importar com a aba 'Elements'.</p>"
   ]
  },
  {
   "cell_type": "markdown",
   "metadata": {},
   "source": [
    "<img src = \"imagens/html2.png\"/>"
   ]
  },
  {
   "cell_type": "markdown",
   "metadata": {},
   "source": [
    "<p>No código vemos que os <b>&lt;div&gt;...&lt;/div&gt;</b> estão fechados, isso é uma forma de organizar e ajudar o usuário a procurar apenas o que é necessário, isso evita que códigos muito longos fiquem difíceis de serem lidos.</p>"
   ]
  },
  {
   "cell_type": "markdown",
   "metadata": {},
   "source": [
    "<p>Caso queiramos saber o código de uma área em questão, por exemplo o título 'Isto é um título', precisamos apenas clicar com o mouse direito novamente em cima da área desejada e clicar em 'Inspecionar'. Veremos que o <b>&lt;div&gt;...&lt;/div&gt;</b> em que o título está contido irá se abrir.</p>"
   ]
  },
  {
   "cell_type": "markdown",
   "metadata": {},
   "source": [
    "<img src = \"imagens/html2.png\"/>"
   ]
  },
  {
   "cell_type": "markdown",
   "metadata": {},
   "source": [
    "<p>Podemos ver que o código está bem organizado com o uso dos <b>&lt;div&gt;...&lt;/div&gt;</b>, porém não é possível distinguir a diferença de cada um de forma eficiente, isso torna o código confuso e trabalhoso. Para isso existem os atributos <b>'class'</b> e <b>'id'</b>. Esses atributos são usados por exemplo para organizar o design da página, mas no nosso caso só nos interessa que isso pode nos ajudar na busca e extração de informações. Elas podem ser usadas em qualquer tag do html. Fazendo uma alteração no código HTML do nosso exemplo:</p>"
   ]
  },
  {
   "cell_type": "markdown",
   "metadata": {},
   "source": [
    "#### **2.8.1. Código**\n",
    "```html\n",
    "<!DOCTYPE html>\n",
    "<html>\n",
    "    <head>\n",
    "        <title>Page Title</title>\n",
    "    </head>\n",
    "\n",
    "    <body>\n",
    "\n",
    "        <div class='parte-1-heading'>\n",
    "            <h1 id='titulo-1'>Isto é um título</h1>\n",
    "            <p>Isto é um parágrafo</p>\n",
    "            <a href='https://www.google.com.br'>Link do google</a>\n",
    "        </div>\n",
    "\n",
    "        <div class='parte-2-lista'>\n",
    "            <h2>Lista não ordenada</h2>\n",
    "\n",
    "            <ul>\n",
    "                <li>Café</li>\n",
    "                <li>Chá</li>\n",
    "                <li>Leite</li>\n",
    "            </ul>\n",
    "\n",
    "            <h2>Lista ordenada</h2>\n",
    "\n",
    "            <ol>\n",
    "                <li>Café</li>\n",
    "                <li>Chá</li>\n",
    "                <li>Leite</li>\n",
    "            </ol>\n",
    "        </div>\n",
    "\n",
    "        <div class='parte-3-tabela'>\n",
    "            <h2>Exemplo de uma tabela</h2>\n",
    "\n",
    "            <table>\n",
    "                <tr>\n",
    "                    <th>Nome</th>\n",
    "                    <th>Sobrenome</th>\n",
    "                    <th>Idade</th>\n",
    "                </tr>\n",
    "                <tr>\n",
    "                    <td>Jill</td>\n",
    "                    <td>Smith</td>\n",
    "                    <td>50</td>\n",
    "                </tr>\n",
    "                <tr>\n",
    "                    <td>Eve</td>\n",
    "                    <td>Jackson</td>\n",
    "                    <td>94</td>\n",
    "                </tr>\n",
    "            </table>\n",
    "        </div>\n",
    "\n",
    "    </body>\n",
    "</html>\n",
    "```"
   ]
  },
  {
   "cell_type": "markdown",
   "metadata": {},
   "source": [
    "<p>Abrindo <b>'exemplo2.html'</b> (pasta arquivos) e fazendo a inspeção, vemos que agora podemos diferenciar cada div através da classe dada, também colocamos um 'id' para o nosso primeiro título. A diferença entre os dois atributos é que o mesmo <b>'class'</b> pode ser aplicado em várias partes do código, enquanto <b>'id'</b> deve ser único.</p>"
   ]
  },
  {
   "cell_type": "markdown",
   "metadata": {},
   "source": [
    "<img src = \"imagens/html4.png\"/>"
   ]
  },
  {
   "cell_type": "markdown",
   "metadata": {},
   "source": [
    "## **3. Bibliotecas**"
   ]
  },
  {
   "cell_type": "markdown",
   "metadata": {},
   "source": [
    "### **3.1. Avisos**"
   ]
  },
  {
   "cell_type": "markdown",
   "metadata": {},
   "source": [
    "***Todas as bibliotecas usadas no módulo 09 estão aqui. Caso queira instalar as mesmas versões e estiver em uma IDE, siga os passos abaixo:***\n",
    "\n",
    "Os comandos abaixo podem ser rodados em uma nova célula deste jupyter notebook.\n",
    "- Baixe e instale a versão do Python 3.11.9\n",
    "- Crie um ambiente virtual (não é obrigatório, mas é uma boa prática):\n",
    "  ```!python -m venv .venv```\n",
    "- Ative o ambiente virtual:\n",
    "    - No Windows: ```!.venv\\Scripts\\activate```\n",
    "    - No Linux/Mac: ```!source .venv/bin/activate```\n",
    "- Instale as bibliotecas com o arquivo requirements.txt:\n",
    "  ```!pip install -r requirements.txt```"
   ]
  },
  {
   "cell_type": "markdown",
   "metadata": {},
   "source": [
    "### **3.2. Importação**"
   ]
  },
  {
   "cell_type": "code",
   "execution_count": 9,
   "metadata": {},
   "outputs": [],
   "source": [
    "import requests\n",
    "from bs4 import BeautifulSoup\n",
    "import os\n",
    "import pandas as pd\n",
    "import numpy as np\n",
    "import datetime\n",
    "import io\n",
    "from selenium import webdriver\n",
    "from selenium.webdriver.chrome.options import Options\n",
    "import sys\n",
    "import time\n",
    "import zipfile\n",
    "import re\n",
    "from urllib.request import urlopen\n",
    "from IPython.display import display_html\n",
    "from io import StringIO\n",
    "from pytrends.request import TrendReq\n",
    "import yfinance as yf\n",
    "import vectorbt as vbt\n",
    "import matplotlib.pyplot as plt\n",
    "import matplotlib.dates as mdates\n",
    "import plotly.graph_objects as go\n",
    "from plotly.subplots import make_subplots"
   ]
  },
  {
   "cell_type": "markdown",
   "metadata": {},
   "source": [
    "## **4. BeautifulSoup**"
   ]
  },
  {
   "cell_type": "markdown",
   "metadata": {},
   "source": [
    "<h3 id='parte-2b' style=\"color:green;\">4.1. Lendo nosso exemplo2.html e utilizando 'bs4'</h3>"
   ]
  },
  {
   "cell_type": "markdown",
   "metadata": {},
   "source": [
    "<p>Já aprendemos a inspecionar uma página e descobrir o que está dentro dela, agora vamos utilizar a biblioteca <b>'bs4'</b> para exrair informações e entender a intuição por trás da biblioteca</p>"
   ]
  },
  {
   "cell_type": "markdown",
   "metadata": {},
   "source": [
    "<p>Primeiro abrimos nosso arquivo <b>'exemplo2.html'</b> de forma básica pelo python(por enquanto não precisamos do <b>'requests'</b>, já que nosso arquivo html está local):</p>"
   ]
  },
  {
   "cell_type": "code",
   "execution_count": 2,
   "metadata": {},
   "outputs": [
    {
     "data": {
      "text/plain": [
       "\"<!DOCTYPE html>\\n<html>\\n    <head>\\n        <title>Page Title</title>\\n    </head>\\n\\n    <body>\\n\\n        <div class='parte-1-heading'>\\n            <h1 id='titulo-1'>Isto é um título</h1>\\n            <p>Isto é um parágrafo</p>\\n            <a href='https://www.google.com.br'>Link do google</a>\\n        </div>\\n\\n        <div class='parte-2-lista'>\\n            <h2>Lista não ordenada</h2>\\n\\n            <ul>\\n                <li>Café</li>\\n                <li>Chá</li>\\n                <li>Leite</li>\\n            </ul>\\n\\n            <h2>Lista ordenada</h2>\\n\\n            <ol>\\n                <li>Café</li>\\n                <li>Chá</li>\\n                <li>Leite</li>\\n            </ol>\\n        </div>\\n\\n        <div class='parte-3-tabela'>\\n            <h2>Exemplo de uma tabela</h2>\\n\\n            <table>\\n                <tr>\\n                    <th>Nome</th>\\n                    <th>Sobrenome</th>\\n                    <th>Idade</th>\\n                </tr>\\n                <tr>\\n                    <td>Jill</td>\\n                    <td>Smith</td>\\n                    <td>50</td>\\n                </tr>\\n                <tr>\\n                    <td>Eve</td>\\n                    <td>Jackson</td>\\n                    <td>94</td>\\n                </tr>\\n            </table>\\n        </div>\\n\\n    </body>\\n</html>\""
      ]
     },
     "execution_count": 2,
     "metadata": {},
     "output_type": "execute_result"
    }
   ],
   "source": [
    "caminho_atual = os.getcwd()\n",
    "caminho_completo = os.path.join(caminho_atual, 'arquivos', 'exemplo2.html')\n",
    "html_fonte = open(caminho_completo, \"r\", encoding='utf8').read()\n",
    "\n",
    "html_fonte"
   ]
  },
  {
   "cell_type": "markdown",
   "metadata": {},
   "source": [
    "<p>Ao imprimir <b>html_fonte</b>, vemos que o código parece muito confuso, totalmente diferente de quando inspecionamos ele no chrome. Na verdade ele é apenas uma string contendo tudo que estava dentro do HTML. Nós poderiamos, com um pouco de trabalho e usando ferramentes simples do próprio python, organizar a string e retirar tudo que precisamos dela. Mas como é fácil notar, esse é um HTML de exemplo, com poucas linhas de código, enquanto páginas de web reais podem ter incontáveis linhas. É aí que entra o trabalho do <b>BeautifulSoup</b>, que organiza e abstrai toda a string que apresenta um código HTML, de forma a facilitar o uso no python</p>"
   ]
  },
  {
   "cell_type": "markdown",
   "metadata": {},
   "source": [
    "<p>Utilizando <b>html_fonte</b> e <b>\"html.parser\"</b> como parâmetros da função <b>BeautifulSoup</b>, conseguimos organizar nosso código HTML:</p>"
   ]
  },
  {
   "cell_type": "code",
   "execution_count": 3,
   "metadata": {},
   "outputs": [
    {
     "data": {
      "text/plain": [
       "<!DOCTYPE html>\n",
       "\n",
       "<html>\n",
       "<head>\n",
       "<title>Page Title</title>\n",
       "</head>\n",
       "<body>\n",
       "<div class=\"parte-1-heading\">\n",
       "<h1 id=\"titulo-1\">Isto é um título</h1>\n",
       "<p>Isto é um parágrafo</p>\n",
       "<a href=\"https://www.google.com.br\">Link do google</a>\n",
       "</div>\n",
       "<div class=\"parte-2-lista\">\n",
       "<h2>Lista não ordenada</h2>\n",
       "<ul>\n",
       "<li>Café</li>\n",
       "<li>Chá</li>\n",
       "<li>Leite</li>\n",
       "</ul>\n",
       "<h2>Lista ordenada</h2>\n",
       "<ol>\n",
       "<li>Café</li>\n",
       "<li>Chá</li>\n",
       "<li>Leite</li>\n",
       "</ol>\n",
       "</div>\n",
       "<div class=\"parte-3-tabela\">\n",
       "<h2>Exemplo de uma tabela</h2>\n",
       "<table>\n",
       "<tr>\n",
       "<th>Nome</th>\n",
       "<th>Sobrenome</th>\n",
       "<th>Idade</th>\n",
       "</tr>\n",
       "<tr>\n",
       "<td>Jill</td>\n",
       "<td>Smith</td>\n",
       "<td>50</td>\n",
       "</tr>\n",
       "<tr>\n",
       "<td>Eve</td>\n",
       "<td>Jackson</td>\n",
       "<td>94</td>\n",
       "</tr>\n",
       "</table>\n",
       "</div>\n",
       "</body>\n",
       "</html>"
      ]
     },
     "execution_count": 3,
     "metadata": {},
     "output_type": "execute_result"
    }
   ],
   "source": [
    "html = BeautifulSoup(html_fonte, \"html.parser\")\n",
    "\n",
    "html"
   ]
  },
  {
   "cell_type": "markdown",
   "metadata": {},
   "source": [
    "<p>Percebemos que o output é bem mais amigável dessa vez, mas o mais importante está nos métodos de filtro e busca que podemos fazer com ele. Apesar do <b>'bs4'</b> apresentar muitos métodos úteis, inicialmente podemos começar com apenas 3 deles:</p>"
   ]
  },
  {
   "cell_type": "markdown",
   "metadata": {},
   "source": [
    "<ul>\n",
    "    <li><b>.find_all()</b>: Faz buscas em todo o código a partir de parâmetros como a <b>tag</b> ou <b>class</b> e <b>id</b></li>\n",
    "    <li><b>.text</b>: Extrai o texto de dentro de uma ou várias <b>tags</b>\n",
    "    <li><b>.get()</b>: Consegue extrair os atributos de dentro de uma <b>tag</b>, como <b>href</b>, <b>title</b>, etc...</li>\n",
    "</ul>"
   ]
  },
  {
   "cell_type": "markdown",
   "metadata": {},
   "source": [
    "### **4.2. Funções da Biblioteca BeautifulSoup**"
   ]
  },
  {
   "cell_type": "markdown",
   "metadata": {},
   "source": [
    "<h4 id='parte-2b1' style=\"color:green;\">4.2.1. Buscando pela tag</h4>"
   ]
  },
  {
   "cell_type": "markdown",
   "metadata": {},
   "source": [
    "<p>Utilizando o <b>'html'</b> gerado pelo <b>BeautifulSoup</b> na etapa anterior, podemos filtrar nosso código:</p>"
   ]
  },
  {
   "cell_type": "code",
   "execution_count": 4,
   "metadata": {},
   "outputs": [
    {
     "name": "stdout",
     "output_type": "stream",
     "text": [
      "h1:  [<h1 id=\"titulo-1\">Isto é um título</h1>]\n",
      "\n",
      "table:  [<table>\n",
      "<tr>\n",
      "<th>Nome</th>\n",
      "<th>Sobrenome</th>\n",
      "<th>Idade</th>\n",
      "</tr>\n",
      "<tr>\n",
      "<td>Jill</td>\n",
      "<td>Smith</td>\n",
      "<td>50</td>\n",
      "</tr>\n",
      "<tr>\n",
      "<td>Eve</td>\n",
      "<td>Jackson</td>\n",
      "<td>94</td>\n",
      "</tr>\n",
      "</table>]\n"
     ]
    }
   ],
   "source": [
    "h1 = html.find_all('h1')\n",
    "table = html.find_all('table')\n",
    "\n",
    "print('h1: ', h1)\n",
    "print()\n",
    "print('table: ', table)"
   ]
  },
  {
   "cell_type": "markdown",
   "metadata": {},
   "source": [
    "<p>Veja que conseguimos extrair a parte do código onde contém a tag <b>&lt;h1&gt;...&lt;/h1&gt;</b> e tudo que está dentro da tag <b>&lt;table&gt;...&lt;/table&gt;</b> usando o método <b>'.find_all()'</b></p>"
   ]
  },
  {
   "cell_type": "markdown",
   "metadata": {},
   "source": [
    "<p>No exemplo de <b>'h1'</b>, basta usarmos o método <b>'.text'</b> para extrair o texto de dentro:</p>"
   ]
  },
  {
   "cell_type": "code",
   "execution_count": 5,
   "metadata": {},
   "outputs": [
    {
     "data": {
      "text/plain": [
       "'Isto é um título'"
      ]
     },
     "execution_count": 5,
     "metadata": {},
     "output_type": "execute_result"
    }
   ],
   "source": [
    "h1[0].text"
   ]
  },
  {
   "cell_type": "markdown",
   "metadata": {},
   "source": [
    "<h4 id='parte-2b2' style=\"color:green;\">4.2.2. Buscando por 'class' ou 'id'</h4>"
   ]
  },
  {
   "cell_type": "markdown",
   "metadata": {},
   "source": [
    "<p>É fácil entender que, caso buscassemos a tag <b>&lt;div&gt;...&lt;/div&gt;</b> em <b>'.find_all()'</b>, receberiamos como output todos os <b>&lt;div&gt;...&lt;/div&gt;</b>, o que não traria nenhuma informação útil, já que na prática tudo no nosso código de exemplo é composto por <b>&lt;div&gt;...&lt;/div&gt;</b>. Para separarmos cada um, usamos as tags <b>'class'</b> ou <b>'id'</b> na busca, da seguinte forma:"
   ]
  },
  {
   "cell_type": "code",
   "execution_count": 6,
   "metadata": {},
   "outputs": [
    {
     "name": "stdout",
     "output_type": "stream",
     "text": [
      "h1:  [<h1 id=\"titulo-1\">Isto é um título</h1>]\n",
      "\n",
      "div lista:  [<div class=\"parte-2-lista\">\n",
      "<h2>Lista não ordenada</h2>\n",
      "<ul>\n",
      "<li>Café</li>\n",
      "<li>Chá</li>\n",
      "<li>Leite</li>\n",
      "</ul>\n",
      "<h2>Lista ordenada</h2>\n",
      "<ol>\n",
      "<li>Café</li>\n",
      "<li>Chá</li>\n",
      "<li>Leite</li>\n",
      "</ol>\n",
      "</div>]\n"
     ]
    }
   ],
   "source": [
    "div_lista = html.find_all(attrs={'class': 'parte-2-lista'})\n",
    "div_header = html.find_all(attrs={'class': 'parte-1-heading'})\n",
    "h1 = html.find_all(attrs={'id': 'titulo-1'})\n",
    "\n",
    "print('h1: ', h1)\n",
    "print()\n",
    "print('div lista: ', div_lista)"
   ]
  },
  {
   "cell_type": "markdown",
   "metadata": {},
   "source": [
    "<p>Dentro de <b>div_header</b> temos 3 tags diferentes, então ainda podemos fazer uma nova busca dentro dele para extrair mais informações. Como só achamos um elemento, utilizaremos <b>div_header[0]</b> para criar uma nova busca:</p>"
   ]
  },
  {
   "cell_type": "code",
   "execution_count": 7,
   "metadata": {},
   "outputs": [
    {
     "data": {
      "text/plain": [
       "<div class=\"parte-1-heading\">\n",
       "<h1 id=\"titulo-1\">Isto é um título</h1>\n",
       "<p>Isto é um parágrafo</p>\n",
       "<a href=\"https://www.google.com.br\">Link do google</a>\n",
       "</div>"
      ]
     },
     "execution_count": 7,
     "metadata": {},
     "output_type": "execute_result"
    }
   ],
   "source": [
    "div_header[0]"
   ]
  },
  {
   "cell_type": "code",
   "execution_count": 8,
   "metadata": {},
   "outputs": [
    {
     "name": "stdout",
     "output_type": "stream",
     "text": [
      "h1:  [<h1 id=\"titulo-1\">Isto é um título</h1>]\n",
      "\n",
      "p:  [<p>Isto é um parágrafo</p>]\n",
      "\n",
      "a:  [<a href=\"https://www.google.com.br\">Link do google</a>]\n"
     ]
    }
   ],
   "source": [
    "h1 = div_header[0].find_all('h1')\n",
    "p = div_header[0].find_all('p')\n",
    "a = div_header[0].find_all('a')\n",
    "\n",
    "print('h1: ', h1)\n",
    "print()\n",
    "print('p: ', p)\n",
    "print()\n",
    "print('a: ', a)"
   ]
  },
  {
   "cell_type": "markdown",
   "metadata": {},
   "source": [
    "<p>Para extrair os textos, basta apenas aplicar o <b>'.text':</b></p>"
   ]
  },
  {
   "cell_type": "code",
   "execution_count": 9,
   "metadata": {},
   "outputs": [
    {
     "name": "stdout",
     "output_type": "stream",
     "text": [
      "h1:  Isto é um título\n",
      "\n",
      "p:  Isto é um parágrafo\n",
      "\n",
      "a:  Link do google\n"
     ]
    }
   ],
   "source": [
    "print('h1: ', h1[0].text)\n",
    "print()\n",
    "print('p: ', p[0].text)\n",
    "print()\n",
    "print('a: ', a[0].text)"
   ]
  },
  {
   "cell_type": "markdown",
   "metadata": {},
   "source": [
    "<h4 id='parte-2b3' style=\"color:green;\">4.2.3. Extraindo atributos de tags</h4>"
   ]
  },
  {
   "cell_type": "markdown",
   "metadata": {},
   "source": [
    "<p>Em <b>&lt;a...&gt;</b> nós temos o atributo <b>'href'</b>, que pode ser facilmente extraido usando o método <b>'.get()'</b>, usando como parâmetro o nome do atributo:<p>"
   ]
  },
  {
   "cell_type": "code",
   "execution_count": 10,
   "metadata": {},
   "outputs": [
    {
     "name": "stdout",
     "output_type": "stream",
     "text": [
      "<a href=\"https://www.google.com.br\">Link do google</a>\n",
      "link:  https://www.google.com.br\n"
     ]
    }
   ],
   "source": [
    "link = a[0].get('href')\n",
    "\n",
    "print(a[0])\n",
    "print('link: ', link)"
   ]
  },
  {
   "cell_type": "markdown",
   "metadata": {},
   "source": [
    "## **5. Webscraping na Prática**"
   ]
  },
  {
   "cell_type": "markdown",
   "metadata": {},
   "source": [
    "### **5.1. Parte I - Extração de Dados de uma Página Web**"
   ]
  },
  {
   "cell_type": "markdown",
   "metadata": {},
   "source": [
    "<h4 id='parte-3a' style=\"color:green;\">5.1.1. Lendo a página web com 'requests'</h4>"
   ]
  },
  {
   "cell_type": "markdown",
   "metadata": {},
   "source": [
    "<p>Como primeiro exemplo real, extrairemos a notícia de uma página do <b>InfoMoney</b> fazendo inicialmente uma requisição na url com o <b>'requests'</b>:</p>"
   ]
  },
  {
   "cell_type": "code",
   "execution_count": 11,
   "metadata": {},
   "outputs": [],
   "source": [
    "url = 'https://www.infomoney.com.br/politica/10-pontos-para-entender-a-mp-905-e-por-que-ela-pode-ser-contestada-judicialmente/'\n",
    "response = requests.get(url)"
   ]
  },
  {
   "cell_type": "markdown",
   "metadata": {},
   "source": [
    "<p>Em <b>'response'</b> pegamos todas as informações possíveis da nossa requisição. Por agora interessa apenas o caso em que conseguimos ler o código html de forma direta e sem erro</p>"
   ]
  },
  {
   "cell_type": "markdown",
   "metadata": {},
   "source": [
    "<p>O método <b>'.status_code'</b> nos indica o status da nossa requisição. 200 indica que o request foi bem sucedido</p>"
   ]
  },
  {
   "cell_type": "code",
   "execution_count": 12,
   "metadata": {},
   "outputs": [
    {
     "data": {
      "text/plain": [
       "200"
      ]
     },
     "execution_count": 12,
     "metadata": {},
     "output_type": "execute_result"
    }
   ],
   "source": [
    "response.status_code"
   ]
  },
  {
   "cell_type": "markdown",
   "metadata": {},
   "source": [
    "<p>Usando o método <b>'.text'</b> podemos ver todo nosso código HTML em uma única string. Como comentado anteriormente, a string é confusa e de difícil compreensão, sendo muito conveniente o uso do <b>BeautifulSoup</b>.</p>"
   ]
  },
  {
   "cell_type": "code",
   "execution_count": 13,
   "metadata": {},
   "outputs": [
    {
     "data": {
      "text/plain": [
       "'        <!DOCTYPE html>\\n        <html lang=\"pt-BR\" class=\"scroll-smooth\">\\n\\n        <head>\\n            <meta charset=\"UTF-8\">\\n            <meta name=\"viewport\" content=\"width=device-width, initial-scale=1.0\">\\n            <title>Reforma Trabalhista de Bolsonaro: entenda a MP 905 &#8211; e por que ela pode ser contestada judicialmente</title>\\n            <meta name=\\'robots\\' content=\\'index, follow, max-image-preview:large, max-snippet:-1, max-video-preview:-1\\' />\\n\\t<style>img:is([sizes=\"auto\" i], [sizes^=\"auto,\" i]) { contain-intrinsic-size: 3000px 1500px }</style>\\n\\t        <link rel=\"preconnect\" href=\"https://www.googletagmanager.com/\">\\n        <link rel=\"preconnect\" href=\"https://connect.facebook.net/\">\\n        <link rel=\"preconnect\" href=\"https://apis.google.com/\">\\n        <link rel=\"preconnect\" href=\"https://securepubads.g.doubleclick.net/\">\\n        <link rel=\"preconnect\" href=\"https://tpc.googlesyndication.com/\">\\n        <link rel=\"preconnect\" href=\"https://pagead2.googlesyndication.com/\">\\n        <link rel=\"preconnect\" href=\"https://fonts.googleapis.com/\" crossorigin>\\n        <link rel=\"dns-prefetch\" href=\"https://www.googletagmanager.com/\">\\n        <link rel=\"dns-prefetch\" href=\"https://securepubads.g.doubleclick.net\">\\n        <link rel=\"dns-prefetch\" href=\"https://fonts.googleapis.com/\">\\n        <link rel=\"dns-prefetch\" href=\"https://storage.googleapis.com/\">\\n    \\n\\t<!-- This site is optimized with the Yoast SEO Premium plugin v22.7 (Yoast SEO v22.7) - https://yoast.com/wordpress/plugins/seo/ -->\\n\\t<title>Reforma Trabalhista de Bolsonaro: entenda a MP 905 - e por que ela pode ser contestada judicialmente - InfoMoney</title>\\n\\t<meta name=\"description\" content=\"Governo anuncia pacote que altera leis trabalhistas, mas princípio da isonomia pode ser ferido pela MP\" />\\n\\t<link rel=\"canonical\" href=\"https://www.infomoney.com.br/politica/10-pontos-para-entender-a-mp-905-e-por-que-ela-pode-ser-contestada-judicialmente/\" />\\n\\t<meta property=\"og:locale\" content=\"pt_BR\" />\\n\\t<meta property=\"og:type\" content=\"article\" />\\n\\t<meta property=\"og:title\" content=\"Reforma Trabalhista de Bolsonaro: entenda a MP 905 - e por que ela pode ser contestada judicialmente\" />\\n\\t<meta property=\"og:description\" content=\"Governo anuncia pacote que altera leis trabalhistas, mas princípio da isonomia pode ser ferido pela MP\" />\\n\\t<meta property=\"og:url\" content=\"https://www.infomoney.com.br/politica/10-pontos-para-entender-a-mp-905-e-por-que-ela-pode-ser-contestada-judicialmente/\" />\\n\\t<meta property=\"og:site_name\" content=\"InfoMoney\" />\\n\\t<meta property=\"article:publisher\" content=\"https://www.facebook.com/InfoMoney/\" />\\n\\t<meta property=\"article:published_time\" content=\"2019-11-14T18:26:14+00:00\" />\\n\\t<meta property=\"article:modified_time\" content=\"2020-03-04T15:01:56+00:00\" />\\n\\t<meta property=\"og:image\" content=\"https://www.infomoney.com.br/wp-content/uploads/2019/11/shutterstock_1300372189.jpg?fit=1000%2C716&quality=50&strip=all\" />\\n\\t<meta property=\"og:image:width\" content=\"1000\" />\\n\\t<meta property=\"og:image:height\" content=\"716\" />\\n\\t<meta property=\"og:image:type\" content=\"image/jpeg\" />\\n\\t<meta name=\"author\" content=\"Pablo Santana\" />\\n\\t<meta name=\"twitter:card\" content=\"summary_large_image\" />\\n\\t<meta name=\"twitter:creator\" content=\"@infomoney\" />\\n\\t<meta name=\"twitter:site\" content=\"@infomoney\" />\\n\\t<meta name=\"twitter:label1\" content=\"Written by\" />\\n\\t<meta name=\"twitter:data1\" content=\"Pablo Santana\" />\\n\\t<meta name=\"twitter:label2\" content=\"Est. reading time\" />\\n\\t<meta name=\"twitter:data2\" content=\"6 minutos\" />\\n\\t<script type=\"application/ld+json\" class=\"yoast-schema-graph\">{\"@context\":\"https://schema.org\",\"@graph\":[{\"@type\":\"NewsArticle\",\"@id\":\"https://www.infomoney.com.br/politica/10-pontos-para-entender-a-mp-905-e-por-que-ela-pode-ser-contestada-judicialmente/#article\",\"isPartOf\":{\"@id\":\"https://www.infomoney.com.br/politica/10-pontos-para-entender-a-mp-905-e-por-que-ela-pode-ser-contestada-judicialmente/\"},\"author\":[{\"@id\":\"https://www.infomoney.com.br/#/schema/person/image/e7dce6b0d751907146e9e1ffd431ce0f\"}],\"headline\":\"Reforma Trabalhista de Bolsonaro: entenda a MP 905 &#8211; e por que ela pode ser contestada judicialmente\",\"datePublished\":\"2019-11-14T18:26:14+00:00\",\"dateModified\":\"2020-03-04T15:01:56+00:00\",\"mainEntityOfPage\":{\"@id\":\"https://www.infomoney.com.br/politica/10-pontos-para-entender-a-mp-905-e-por-que-ela-pode-ser-contestada-judicialmente/\"},\"wordCount\":1302,\"commentCount\":0,\"publisher\":{\"@id\":\"https://www.infomoney.com.br/#organization\"},\"image\":{\"@id\":\"https://www.infomoney.com.br/politica/10-pontos-para-entender-a-mp-905-e-por-que-ela-pode-ser-contestada-judicialmente/#primaryimage\"},\"thumbnailUrl\":\"https://www.infomoney.com.br/wp-content/uploads/2019/11/shutterstock_1300372189.jpg?fit=1000%2C716&quality=70&strip=all\",\"keywords\":[\"CLT\",\"Governo\",\"Medida Provisória\"],\"articleSection\":[\"Economia\",\"Política\"],\"inLanguage\":\"pt-BR\",\"potentialAction\":[{\"@type\":\"CommentAction\",\"name\":\"Comment\",\"target\":[\"https://www.infomoney.com.br/politica/10-pontos-para-entender-a-mp-905-e-por-que-ela-pode-ser-contestada-judicialmente/#respond\"]}],\"copyrightYear\":\"2019\",\"copyrightHolder\":{\"@id\":\"https://www.infomoney.com.br/#organization\"}},{\"@type\":\"WebPage\",\"@id\":\"https://www.infomoney.com.br/politica/10-pontos-para-entender-a-mp-905-e-por-que-ela-pode-ser-contestada-judicialmente/\",\"url\":\"https://www.infomoney.com.br/politica/10-pontos-para-entender-a-mp-905-e-por-que-ela-pode-ser-contestada-judicialmente/\",\"name\":\"Reforma Trabalhista de Bolsonaro: entenda a MP 905 - e por que ela pode ser contestada judicialmente - InfoMoney\",\"isPartOf\":{\"@id\":\"https://www.infomoney.com.br/#website\"},\"primaryImageOfPage\":{\"@id\":\"https://www.infomoney.com.br/politica/10-pontos-para-entender-a-mp-905-e-por-que-ela-pode-ser-contestada-judicialmente/#primaryimage\"},\"image\":{\"@id\":\"https://www.infomoney.com.br/politica/10-pontos-para-entender-a-mp-905-e-por-que-ela-pode-ser-contestada-judicialmente/#primaryimage\"},\"thumbnailUrl\":\"https://www.infomoney.com.br/wp-content/uploads/2019/11/shutterstock_1300372189.jpg?fit=1000%2C716&quality=70&strip=all\",\"datePublished\":\"2019-11-14T18:26:14+00:00\",\"dateModified\":\"2020-03-04T15:01:56+00:00\",\"description\":\"Governo anuncia pacote que altera leis trabalhistas, mas princípio da isonomia pode ser ferido pela MP\",\"breadcrumb\":{\"@id\":\"https://www.infomoney.com.br/politica/10-pontos-para-entender-a-mp-905-e-por-que-ela-pode-ser-contestada-judicialmente/#breadcrumb\"},\"inLanguage\":\"pt-BR\",\"potentialAction\":[{\"@type\":\"ReadAction\",\"target\":[\"https://www.infomoney.com.br/politica/10-pontos-para-entender-a-mp-905-e-por-que-ela-pode-ser-contestada-judicialmente/\"]}]},{\"@type\":\"ImageObject\",\"inLanguage\":\"pt-BR\",\"@id\":\"https://www.infomoney.com.br/politica/10-pontos-para-entender-a-mp-905-e-por-que-ela-pode-ser-contestada-judicialmente/#primaryimage\",\"url\":\"https://www.infomoney.com.br/wp-content/uploads/2019/11/shutterstock_1300372189.jpg?fit=1000%2C716&quality=70&strip=all\",\"contentUrl\":\"https://www.infomoney.com.br/wp-content/uploads/2019/11/shutterstock_1300372189.jpg?fit=1000%2C716&quality=70&strip=all\",\"width\":1000,\"height\":716,\"caption\":\"(Shutterstock)\"},{\"@type\":\"BreadcrumbList\",\"@id\":\"https://www.infomoney.com.br/politica/10-pontos-para-entender-a-mp-905-e-por-que-ela-pode-ser-contestada-judicialmente/#breadcrumb\",\"itemListElement\":[{\"@type\":\"ListItem\",\"position\":1,\"name\":\"Home\",\"item\":\"https://www.infomoney.com.br/\"},{\"@type\":\"ListItem\",\"position\":2,\"name\":\"Últimas Notícias\",\"item\":\"https://www.infomoney.com.br/ultimas-noticias/\"},{\"@type\":\"ListItem\",\"position\":3,\"name\":\"Reforma Trabalhista de Bolsonaro: entenda a MP 905 &#8211; e por que ela pode ser contestada judicialmente\"}]},{\"@type\":\"WebSite\",\"@id\":\"https://www.infomoney.com.br/#website\",\"url\":\"https://www.infomoney.com.br/\",\"name\":\"InfoMoney\",\"description\":\"Notícias, ações e muito mais sobre investimentos. Informação que vale dinheiro.\",\"publisher\":{\"@id\":\"https://www.infomoney.com.br/#organization\"},\"potentialAction\":[{\"@type\":\"SearchAction\",\"target\":{\"@type\":\"EntryPoint\",\"urlTemplate\":\"https://www.infomoney.com.br/?s={search_term_string}\"},\"query-input\":\"required name=search_term_string\"}],\"inLanguage\":\"pt-BR\"},{\"@type\":\"Organization\",\"@id\":\"https://www.infomoney.com.br/#organization\",\"name\":\"InfoMoney\",\"url\":\"https://www.infomoney.com.br/\",\"logo\":{\"@type\":\"ImageObject\",\"inLanguage\":\"pt-BR\",\"@id\":\"https://www.infomoney.com.br/#/schema/logo/image/\",\"url\":\"https://www.infomoney.com.br/wp-content/uploads/2021/03/Site-thumb-de-materia.png?fit=1280%2C720&quality=50&strip=all\",\"contentUrl\":\"https://www.infomoney.com.br/wp-content/uploads/2021/03/Site-thumb-de-materia.png?fit=1280%2C720&quality=50&strip=all\",\"width\":1280,\"height\":720,\"caption\":\"InfoMoney\"},\"image\":{\"@id\":\"https://www.infomoney.com.br/#/schema/logo/image/\"},\"sameAs\":[\"https://www.facebook.com/InfoMoney/\",\"https://x.com/infomoney\",\"https://www.instagram.com/infomoney/\",\"https://www.linkedin.com/company/infomoney/\",\"https://www.youtube.com/user/tvinfomoney?sub_confirmation=1\",\"https://pt.wikipedia.org/wiki/XP_Investimentos\",\"https://tiktok.com/infomoney\"]},{\"@type\":\"Person\",\"@id\":\"https://www.infomoney.com.br/#/schema/person/image/e7dce6b0d751907146e9e1ffd431ce0f\",\"name\":\"Pablo Santana\",\"image\":{\"@type\":\"ImageObject\",\"inLanguage\":\"pt-BR\",\"@id\":\"https://www.infomoney.com.br/#/schema/person/image/0f84b4a6295ee7d95949357d894338f9\",\"url\":\"https://www.infomoney.com.br/wp-content/uploads/2019/11/Pablo-Santana-U003013-3-1-e1574187869230.jpg?resize=150%2C150&quality=70&strip=all\",\"contentUrl\":\"https://www.infomoney.com.br/wp-content/uploads/2019/11/Pablo-Santana-U003013-3-1-e1574187869230.jpg?resize=150%2C150&quality=70&strip=all\",\"width\":150,\"height\":150,\"caption\":\"Pablo Santana\"},\"description\":\"Repórter do InfoMoney. Cobre tecnologia, finanças pessoais, carreiras e negócios\",\"url\":\"https://www.infomoney.com.br/autor/pablo-santana/\"}]}</script>\\n\\t<!-- / Yoast SEO Premium plugin. -->\\n\\n\\n<link rel=\\'dns-prefetch\\' href=\\'//securepubads.g.doubleclick.net\\' />\\n<link rel=\\'dns-prefetch\\' href=\\'//stats.wp.com\\' />\\n<link rel=\\'dns-prefetch\\' href=\\'//v0.wordpress.com\\' />\\n<link rel=\"alternate\" type=\"application/rss+xml\" title=\"Feed para InfoMoney &raquo;\" href=\"https://www.infomoney.com.br/feed/\" />\\n<link rel=\"alternate\" type=\"application/rss+xml\" title=\"Feed de comentários para InfoMoney &raquo;\" href=\"https://www.infomoney.com.br/comments/feed/\" />\\n<link rel=\"alternate\" type=\"application/rss+xml\" title=\"InfoMoney &raquo; Stories Feed\" href=\"https://www.infomoney.com.br/web-stories/feed/\"><style id=\\'tailwind-css-inline-css\\'>\\n/* cyrillic-ext */@font-face {  font-family: \\'Inter\\';  font-style: normal;  font-weight: 100 900;  font-display: swap;  src: url(/wp-content/themes/infomoney/v2/assets/fonts/inter-cyrillic-ext.woff2) format(\\'woff2\\');  unicode-range: U+0460-052F, U+1C80-1C88, U+20B4, U+2DE0-2DFF, U+A640-A69F, U+FE2E-FE2F;}/* cyrillic */@font-face {  font-family: \\'Inter\\';  font-style: normal;  font-weight: 100 900;  font-display: swap;  src: url(/wp-content/themes/infomoney/v2/assets/fonts/inter-cyrillic-ext.woff2) format(\\'woff2\\');  unicode-range: U+0301, U+0400-045F, U+0490-0491, U+04B0-04B1, U+2116;}/* greek-ext */@font-face {  font-family: \\'Inter\\';  font-style: normal;  font-weight: 100 900;  font-display: swap;  src: url(/wp-content/themes/infomoney/v2/assets/fonts/inter-greek-ext.woff2) format(\\'woff2\\');  unicode-range: U+1F00-1FFF;}/* greek */@font-face {  font-family: \\'Inter\\';  font-style: normal;  font-weight: 100 900;  font-display: swap;  src: url(/wp-content/themes/infomoney/v2/assets/fonts/inter/inter-greek.woff2) format(\\'woff2\\');  unicode-range: U+0370-0377, U+037A-037F, U+0384-038A, U+038C, U+038E-03A1, U+03A3-03FF;}/* vietnamese */@font-face {  font-family: \\'Inter\\';  font-style: normal;  font-weight: 100 900;  font-display: swap;  src: url(/wp-content/themes/infomoney/v2/assets/fonts/inter-vietnamese.woff2) format(\\'woff2\\');  unicode-range: U+0102-0103, U+0110-0111, U+0128-0129, U+0168-0169, U+01A0-01A1, U+01AF-01B0, U+0300-0301, U+0303-0304, U+0308-0309, U+0323, U+0329, U+1EA0-1EF9, U+20AB;}/* latin-ext */@font-face {  font-family: \\'Inter\\';  font-style: normal;  font-weight: 100 900;  font-display: swap;  src: url(/wp-content/themes/infomoney/v2/assets/fonts/inter-latin-ext.woff2) format(\\'woff2\\');  unicode-range: U+0100-02AF, U+0304, U+0308, U+0329, U+1E00-1E9F, U+1EF2-1EFF, U+2020, U+20A0-20AB, U+20AD-20C0, U+2113, U+2C60-2C7F, U+A720-A7FF;}/* latin */@font-face {  font-family: \\'Inter\\';  font-style: normal;  font-weight: 100 900;  font-display: swap;  src: url(/wp-content/themes/infomoney/v2/assets/fonts/inter-latin.woff2) format(\\'woff2\\');  unicode-range: U+0000-00FF, U+0131, U+0152-0153, U+02BB-02BC, U+02C6, U+02DA, U+02DC, U+0304, U+0308, U+0329, U+2000-206F, U+2074, U+20AC, U+2122, U+2191, U+2193, U+2212, U+2215, U+FEFF, U+FFFD;}@font-face {  font-family: \\'Source Serif 4\\';  font-style: normal;  font-weight: 200;  font-display: swap;  src: url(/wp-content/themes/infomoney/v2/assets/fonts/SourceSerif4-ExtraLight.woff2) format(\\'woff2\\');  unicode-range: U+0000-00FF, U+0131, U+0152-0153, U+02BB-02BC, U+02C6, U+02DA, U+02DC, U+0304, U+0308, U+0329, U+2000-206F, U+2074, U+20AC, U+2122, U+2191, U+2193, U+2212, U+2215, U+FEFF, U+FFFD;}@font-face {  font-family: \\'Source Serif 4\\';  font-style: normal;  font-weight: 300;  font-display: swap;  src: url(/wp-content/themes/infomoney/v2/assets/fonts/SourceSerif4-Light.woff2) format(\\'woff2\\');  unicode-range: U+0000-00FF, U+0131, U+0152-0153, U+02BB-02BC, U+02C6, U+02DA, U+02DC, U+0304, U+0308, U+0329, U+2000-206F, U+2074, U+20AC, U+2122, U+2191, U+2193, U+2212, U+2215, U+FEFF, U+FFFD;}@font-face {  font-family: \\'Source Serif 4\\';  font-style: normal;  font-weight: 400;  font-display: swap;  src: url(/wp-content/themes/infomoney/v2/assets/fonts/SourceSerif4-Regular.woff2) format(\\'woff2\\');  unicode-range: U+0000-00FF, U+0131, U+0152-0153, U+02BB-02BC, U+02C6, U+02DA, U+02DC, U+0304, U+0308, U+0329, U+2000-206F, U+2074, U+20AC, U+2122, U+2191, U+2193, U+2212, U+2215, U+FEFF, U+FFFD;}@font-face {  font-family: \\'Source Serif 4\\';  font-style: normal;  font-weight: 500;  font-display: swap;  src: url(/wp-content/themes/infomoney/v2/assets/fonts/SourceSerif4-Medium.woff2) format(\\'woff2\\');  unicode-range: U+0000-00FF, U+0131, U+0152-0153, U+02BB-02BC, U+02C6, U+02DA, U+02DC, U+0304, U+0308, U+0329, U+2000-206F, U+2074, U+20AC, U+2122, U+2191, U+2193, U+2212, U+2215, U+FEFF, U+FFFD;}@font-face {  font-family: \\'Source Serif 4\\';  font-style: normal;  font-weight: 600;  font-display: swap;  src: url(/wp-content/themes/infomoney/v2/assets/fonts/SourceSerif4-SemiBold.woff2) format(\\'woff2\\');  unicode-range: U+0000-00FF, U+0131, U+0152-0153, U+02BB-02BC, U+02C6, U+02DA, U+02DC, U+0304, U+0308, U+0329, U+2000-206F, U+2074, U+20AC, U+2122, U+2191, U+2193, U+2212, U+2215, U+FEFF, U+FFFD;}@font-face {  font-family: \\'Source Serif 4\\';  font-style: normal;  font-weight: 700;  font-display: swap;  src: url(/wp-content/themes/infomoney/v2/assets/fonts/SourceSerif4-Bold.woff2) format(\\'woff2\\');  unicode-range: U+0000-00FF, U+0131, U+0152-0153, U+02BB-02BC, U+02C6, U+02DA, U+02DC, U+0304, U+0308, U+0329, U+2000-206F, U+2074, U+20AC, U+2122, U+2191, U+2193, U+2212, U+2215, U+FEFF, U+FFFD;}@font-face {  font-family: \\'Source Serif 4\\';  font-style: normal;  font-weight: 800;  font-display: swap;  src: url(/wp-content/themes/infomoney/v2/assets/fonts/SourceSerif4-ExtraBold.woff2) format(\\'woff2\\');  unicode-range: U+0000-00FF, U+0131, U+0152-0153, U+02BB-02BC, U+02C6, U+02DA, U+02DC, U+0304, U+0308, U+0329, U+2000-206F, U+2074, U+20AC, U+2122, U+2191, U+2193, U+2212, U+2215, U+FEFF, U+FFFD;}@font-face {  font-family: \\'Source Serif 4\\';  font-style: normal;  font-weight: 900;  font-display: swap;  src: url(/wp-content/themes/infomoney/v2/assets/fonts/SourceSerif4-Black.woff2) format(\\'woff2\\');  unicode-range: U+0000-00FF, U+0131, U+0152-0153, U+02BB-02BC, U+02C6, U+02DA, U+02DC, U+0304, U+0308, U+0329, U+2000-206F, U+2074, U+20AC, U+2122, U+2191, U+2193, U+2212, U+2215, U+FEFF, U+FFFD;}@keyframes splide-loading{  0%{    transform:rotate(0)  }  to{    transform:rotate(1turn)  }}.splide__track--draggable{  -webkit-touch-callout:none;  -webkit-user-select:none;  -moz-user-select:none;       user-select:none}.splide__track--fade>.splide__list>.splide__slide{  margin:0!important;  opacity:0;  z-index:0}.splide__track--fade>.splide__list>.splide__slide.is-active{  opacity:1;  z-index:1}.splide--rtl{  direction:rtl}.splide__track--ttb>.splide__list{  display:block}.splide__container{  box-sizing:border-box;  position:relative}.splide__list{  backface-visibility:hidden;  display:flex;  height:100%;  margin:0!important;  padding:0!important}.splide.is-initialized:not(.is-active) .splide__list{  display:block}.splide__pagination{  align-items:center;  display:flex;  flex-wrap:wrap;  justify-content:center;  margin:0;  pointer-events:none}.splide__pagination li{  display:inline-block;  line-height:1;  list-style-type:none;  margin:0;  pointer-events:auto}.splide:not(.is-overflow) .splide__pagination{  display:none}.splide__progress__bar{  width:0}.splide{  position:relative;  visibility:hidden}.splide.is-initialized,.splide.is-rendered{  visibility:visible}.splide__slide{  backface-visibility:hidden;  box-sizing:border-box;  flex-shrink:0;  list-style-type:none!important;  margin:0;  position:relative}.splide__slide img{  vertical-align:bottom}.splide__spinner{  animation:splide-loading 1s linear infinite;  border:2px solid #999;  border-left-color:transparent;  border-radius:50%;  bottom:0;  contain:strict;  display:inline-block;  height:20px;  left:0;  margin:auto;  position:absolute;  right:0;  top:0;  width:20px}.splide__sr{  clip:rect(0 0 0 0);  border:0;  height:1px;  margin:-1px;  overflow:hidden;  padding:0;  position:absolute;  width:1px}.splide__toggle.is-active .splide__toggle__play,.splide__toggle__pause{  display:none}.splide__toggle.is-active .splide__toggle__pause{  display:inline}.splide__track{  overflow:hidden;  position:relative;  z-index:0}*, ::before, ::after {  --tw-border-spacing-x: 0;  --tw-border-spacing-y: 0;  --tw-translate-x: 0;  --tw-translate-y: 0;  --tw-rotate: 0;  --tw-skew-x: 0;  --tw-skew-y: 0;  --tw-scale-x: 1;  --tw-scale-y: 1;  --tw-pan-x:  ;  --tw-pan-y:  ;  --tw-pinch-zoom:  ;  --tw-scroll-snap-strictness: proximity;  --tw-gradient-from-position:  ;  --tw-gradient-via-position:  ;  --tw-gradient-to-position:  ;  --tw-ordinal:  ;  --tw-slashed-zero:  ;  --tw-numeric-figure:  ;  --tw-numeric-spacing:  ;  --tw-numeric-fraction:  ;  --tw-ring-inset:  ;  --tw-ring-offset-width: 0px;  --tw-ring-offset-color: #fff;  --tw-ring-color: rgb(59 130 246 / 0.5);  --tw-ring-offset-shadow: 0 0 #0000;  --tw-ring-shadow: 0 0 #0000;  --tw-shadow: 0 0 #0000;  --tw-shadow-colored: 0 0 #0000;  --tw-blur:  ;  --tw-brightness:  ;  --tw-contrast:  ;  --tw-grayscale:  ;  --tw-hue-rotate:  ;  --tw-invert:  ;  --tw-saturate:  ;  --tw-sepia:  ;  --tw-drop-shadow:  ;  --tw-backdrop-blur:  ;  --tw-backdrop-brightness:  ;  --tw-backdrop-contrast:  ;  --tw-backdrop-grayscale:  ;  --tw-backdrop-hue-rotate:  ;  --tw-backdrop-invert:  ;  --tw-backdrop-opacity:  ;  --tw-backdrop-saturate:  ;  --tw-backdrop-sepia:  ;  --tw-contain-size:  ;  --tw-contain-layout:  ;  --tw-contain-paint:  ;  --tw-contain-style:  ;}::backdrop {  --tw-border-spacing-x: 0;  --tw-border-spacing-y: 0;  --tw-translate-x: 0;  --tw-translate-y: 0;  --tw-rotate: 0;  --tw-skew-x: 0;  --tw-skew-y: 0;  --tw-scale-x: 1;  --tw-scale-y: 1;  --tw-pan-x:  ;  --tw-pan-y:  ;  --tw-pinch-zoom:  ;  --tw-scroll-snap-strictness: proximity;  --tw-gradient-from-position:  ;  --tw-gradient-via-position:  ;  --tw-gradient-to-position:  ;  --tw-ordinal:  ;  --tw-slashed-zero:  ;  --tw-numeric-figure:  ;  --tw-numeric-spacing:  ;  --tw-numeric-fraction:  ;  --tw-ring-inset:  ;  --tw-ring-offset-width: 0px;  --tw-ring-offset-color: #fff;  --tw-ring-color: rgb(59 130 246 / 0.5);  --tw-ring-offset-shadow: 0 0 #0000;  --tw-ring-shadow: 0 0 #0000;  --tw-shadow: 0 0 #0000;  --tw-shadow-colored: 0 0 #0000;  --tw-blur:  ;  --tw-brightness:  ;  --tw-contrast:  ;  --tw-grayscale:  ;  --tw-hue-rotate:  ;  --tw-invert:  ;  --tw-saturate:  ;  --tw-sepia:  ;  --tw-drop-shadow:  ;  --tw-backdrop-blur:  ;  --tw-backdrop-brightness:  ;  --tw-backdrop-contrast:  ;  --tw-backdrop-grayscale:  ;  --tw-backdrop-hue-rotate:  ;  --tw-backdrop-invert:  ;  --tw-backdrop-opacity:  ;  --tw-backdrop-saturate:  ;  --tw-backdrop-sepia:  ;  --tw-contain-size:  ;  --tw-contain-layout:  ;  --tw-contain-paint:  ;  --tw-contain-style:  ;}/* ! tailwindcss v3.4.17 | MIT License | https://tailwindcss.com *//*1. Prevent padding and border from affecting element width. (https://github.com/mozdevs/cssremedy/issues/4)2. Allow adding a border to an element by just adding a border-width. (https://github.com/tailwindcss/tailwindcss/pull/116)*/*,::before,::after {  box-sizing: border-box;  /* 1 */  border-width: 0;  /* 2 */  border-style: solid;  /* 2 */  border-color: #e5e7eb;  /* 2 */}::before,::after {  --tw-content: \\'\\';}/*1. Use a consistent sensible line-height in all browsers.2. Prevent adjustments of font size after orientation changes in iOS.3. Use a more readable tab size.4. Use the user\\'s configured `sans` font-family by default.5. Use the user\\'s configured `sans` font-feature-settings by default.6. Use the user\\'s configured `sans` font-variation-settings by default.7. Disable tap highlights on iOS*/html,:host {  line-height: 1.5;  /* 1 */  -webkit-text-size-adjust: 100%;  /* 2 */  -moz-tab-size: 4;  /* 3 */  -o-tab-size: 4;     tab-size: 4;  /* 3 */  font-family: ui-sans-serif, system-ui, sans-serif, \"Apple Color Emoji\", \"Segoe UI Emoji\", \"Segoe UI Symbol\", \"Noto Color Emoji\";  /* 4 */  font-feature-settings: normal;  /* 5 */  font-variation-settings: normal;  /* 6 */  -webkit-tap-highlight-color: transparent;  /* 7 */}/*1. Remove the margin in all browsers.2. Inherit line-height from `html` so users can set them as a class directly on the `html` element.*/body {  margin: 0;  /* 1 */  line-height: inherit;  /* 2 */}/*1. Add the correct height in Firefox.2. Correct the inheritance of border color in Firefox. (https://bugzilla.mozilla.org/show_bug.cgi?id=190655)3. Ensure horizontal rules are visible by default.*/hr {  height: 0;  /* 1 */  color: inherit;  /* 2 */  border-top-width: 1px;  /* 3 */}/*Add the correct text decoration in Chrome, Edge, and Safari.*/abbr:where([title]) {  -webkit-text-decoration: underline dotted;          text-decoration: underline dotted;}/*Remove the default font size and weight for headings.*/h1,h2,h3,h4,h5,h6 {  font-size: inherit;  font-weight: inherit;}/*Reset links to optimize for opt-in styling instead of opt-out.*/a {  color: inherit;  text-decoration: inherit;}/*Add the correct font weight in Edge and Safari.*/b,strong {  font-weight: bolder;}/*1. Use the user\\'s configured `mono` font-family by default.2. Use the user\\'s configured `mono` font-feature-settings by default.3. Use the user\\'s configured `mono` font-variation-settings by default.4. Correct the odd `em` font sizing in all browsers.*/code,kbd,samp,pre {  font-family: ui-monospace, SFMono-Regular, Menlo, Monaco, Consolas, \"Liberation Mono\", \"Courier New\", monospace;  /* 1 */  font-feature-settings: normal;  /* 2 */  font-variation-settings: normal;  /* 3 */  font-size: 1em;  /* 4 */}/*Add the correct font size in all browsers.*/small {  font-size: 80%;}/*Prevent `sub` and `sup` elements from affecting the line height in all browsers.*/sub,sup {  font-size: 75%;  line-height: 0;  position: relative;  vertical-align: baseline;}sub {  bottom: -0.25em;}sup {  top: -0.5em;}/*1. Remove text indentation from table contents in Chrome and Safari. (https://bugs.chromium.org/p/chromium/issues/detail?id=999088, https://bugs.webkit.org/show_bug.cgi?id=201297)2. Correct table border color inheritance in all Chrome and Safari. (https://bugs.chromium.org/p/chromium/issues/detail?id=935729, https://bugs.webkit.org/show_bug.cgi?id=195016)3. Remove gaps between table borders by default.*/table {  text-indent: 0;  /* 1 */  border-color: inherit;  /* 2 */  border-collapse: collapse;  /* 3 */}/*1. Change the font styles in all browsers.2. Remove the margin in Firefox and Safari.3. Remove default padding in all browsers.*/button,input,optgroup,select,textarea {  font-family: inherit;  /* 1 */  font-feature-settings: inherit;  /* 1 */  font-variation-settings: inherit;  /* 1 */  font-size: 100%;  /* 1 */  font-weight: inherit;  /* 1 */  line-height: inherit;  /* 1 */  letter-spacing: inherit;  /* 1 */  color: inherit;  /* 1 */  margin: 0;  /* 2 */  padding: 0;  /* 3 */}/*Remove the inheritance of text transform in Edge and Firefox.*/button,select {  text-transform: none;}/*1. Correct the inability to style clickable types in iOS and Safari.2. Remove default button styles.*/button,input:where([type=\\'button\\']),input:where([type=\\'reset\\']),input:where([type=\\'submit\\']) {  -webkit-appearance: button;  /* 1 */  background-color: transparent;  /* 2 */  background-image: none;  /* 2 */}/*Use the modern Firefox focus style for all focusable elements.*/:-moz-focusring {  outline: auto;}/*Remove the additional `:invalid` styles in Firefox. (https://github.com/mozilla/gecko-dev/blob/2f9eacd9d3d995c937b4251a5557d95d494c9be1/layout/style/res/forms.css#L728-L737)*/:-moz-ui-invalid {  box-shadow: none;}/*Add the correct vertical alignment in Chrome and Firefox.*/progress {  vertical-align: baseline;}/*Correct the cursor style of increment and decrement buttons in Safari.*/::-webkit-inner-spin-button,::-webkit-outer-spin-button {  height: auto;}/*1. Correct the odd appearance in Chrome and Safari.2. Correct the outline style in Safari.*/[type=\\'search\\'] {  -webkit-appearance: textfield;  /* 1 */  outline-offset: -2px;  /* 2 */}/*Remove the inner padding in Chrome and Safari on macOS.*/::-webkit-search-decoration {  -webkit-appearance: none;}/*1. Correct the inability to style clickable types in iOS and Safari.2. Change font properties to `inherit` in Safari.*/::-webkit-file-upload-button {  -webkit-appearance: button;  /* 1 */  font: inherit;  /* 2 */}/*Add the correct display in Chrome and Safari.*/summary {  display: list-item;}/*Removes the default spacing and border for appropriate elements.*/blockquote,dl,dd,h1,h2,h3,h4,h5,h6,hr,figure,p,pre {  margin: 0;}fieldset {  margin: 0;  padding: 0;}legend {  padding: 0;}ol,ul,menu {  list-style: none;  margin: 0;  padding: 0;}/*Reset default styling for dialogs.*/dialog {  padding: 0;}/*Prevent resizing textareas horizontally by default.*/textarea {  resize: vertical;}/*1. Reset the default placeholder opacity in Firefox. (https://github.com/tailwindlabs/tailwindcss/issues/3300)2. Set the default placeholder color to the user\\'s configured gray 400 color.*/input::-moz-placeholder, textarea::-moz-placeholder {  opacity: 1;  /* 1 */  color: #9ca3af;  /* 2 */}input::placeholder,textarea::placeholder {  opacity: 1;  /* 1 */  color: #9ca3af;  /* 2 */}/*Set the default cursor for buttons.*/button,[role=\"button\"] {  cursor: pointer;}/*Make sure disabled buttons don\\'t get the pointer cursor.*/:disabled {  cursor: default;}/*1. Make replaced elements `display: block` by default. (https://github.com/mozdevs/cssremedy/issues/14)2. Add `vertical-align: middle` to align replaced elements more sensibly by default. (https://github.com/jensimmons/cssremedy/issues/14#issuecomment-634934210)   This can trigger a poorly considered lint error in some tools but is included by design.*/img,svg,video,canvas,audio,iframe,embed,object {  display: block;  /* 1 */  vertical-align: middle;  /* 2 */}/*Constrain images and videos to the parent width and preserve their intrinsic aspect ratio. (https://github.com/mozdevs/cssremedy/issues/14)*/img,video {  max-width: 100%;  height: auto;}/* Make elements with the HTML hidden attribute stay hidden by default */[hidden]:where(:not([hidden=\"until-found\"])) {  display: none;}.\\\\!container {  width: 100% !important;}.container {  width: 100%;}@media (min-width: 640px) {  .\\\\!container {    max-width: 640px !important;  }  .container {    max-width: 640px;  }}@media (min-width: 768px) {  .\\\\!container {    max-width: 768px !important;  }  .container {    max-width: 768px;  }}@media (min-width: 1024px) {  .\\\\!container {    max-width: 1024px !important;  }  .container {    max-width: 1024px;  }}@media (min-width: 1280px) {  .\\\\!container {    max-width: 1280px !important;  }  .container {    max-width: 1280px;  }}@media (min-width: 1440px) {  .\\\\!container {    max-width: 1440px !important;  }  .container {    max-width: 1440px;  }}.im-article>p,    .im-article>h2,    .im-article>h3,    .im-article>figure {  padding-left: 1.5rem;  padding-right: 1.5rem;}@media (min-width: 768px) {  .im-article>p,    .im-article>h2,    .im-article>h3,    .im-article>figure {    padding-left: 0px;    padding-right: 0px;  }}.im-article>ul,    .im-article>ol {  list-style-position: inside;}.im-article>h1,    .im-article>h2,    .im-article>h3,    .im-article>h4,    .im-article>h5,    .im-article>h6,    .im-article>figure:not([class*=\"max-w\"]),    .im-article>p,    .im-article>ul,    .im-article>ol,    .im-article>iframe,    .im-article>.embed-youtube,    .im-article>.im-quote-legacy-compatibility {  display: block;  max-width: 42rem;  margin-left: auto;  margin-right: auto;  margin-top: 1rem;  margin-bottom: 1rem;  padding-left: 1.5rem;  padding-right: 1.5rem;}@media (min-width: 768px) {  .im-article>h1,    .im-article>h2,    .im-article>h3,    .im-article>h4,    .im-article>h5,    .im-article>h6,    .im-article>figure:not([class*=\"max-w\"]),    .im-article>p,    .im-article>ul,    .im-article>ol,    .im-article>iframe,    .im-article>.embed-youtube,    .im-article>.im-quote-legacy-compatibility {    padding-left: 0px;    padding-right: 0px;  }}.im-article>p:last-child {  margin-bottom: 0px;}.im-article>p,    .im-article>ol,    .im-article>ul,    .im-article table {  font-size: 1rem;  line-height: 1.5rem;}@media (min-width: 768px) {  .im-article>p,    .im-article>ol,    .im-article>ul,    .im-article table {    font-size: 1.125rem;    line-height: 1.75rem;  }}.im-article>p,    .im-article>ol,    .im-article>ul,    .im-article table {  line-height: 1.625;  letter-spacing: -0.025em;  --tw-text-opacity: 1;  color: rgb(10 10 10 / var(--tw-text-opacity, 1));}/* Listas não-ordenadas de primeiro nível */.im-article>ul {  list-style-type: disc;}/* Sub listas */.im-article>ul ol,    .im-article>ul ul,    .im-article>ol ul,    .im-article>ol ol {  list-style-position: inside;  padding-left: 1rem;}/* Listas ordenadas de primeiro e segundo nível */.im-article>ol,    .im-article>ol ol,    .im-article>ul ol {  list-style-type: decimal;}/* Listas não-ordenadas de segundo nível */.im-article>ol ul,    .im-article>ul ul {  list-style-type: circle;}/* Listas de terceiro nível e além */.im-article>ul li li ul,    .im-article>ul li li ol,    .im-article>ol li li ol,    .im-article>ol li li ul {  list-style-type: square;}/* Estilo de link padrão */.im-article a:not([class*=\"text-\"]),    .block-editor__container .rich-text a {  --tw-text-opacity: 1;  color: rgb(0 111 216 / var(--tw-text-opacity, 1));  font-weight: 600;  text-decoration-line: underline;}/* Estilo de link padrão:hover */.im-article a:not([class*=\"text-\"]):hover,    .block-editor__container .rich-text a:hover {  --tw-text-opacity: 1;  color: rgb(23 99 170 / var(--tw-text-opacity, 1));}.im-article>h2 {  font-size: 1.5rem;  line-height: 2rem;}@media (min-width: 768px) {  .im-article>h2 {    font-size: 1.875rem;    line-height: 2.25rem;  }}.im-article>h2 {  font-weight: 700;  line-height: 1.25;  letter-spacing: -0.025em;  margin-top: 2.5rem;  margin-bottom: 1rem;}@media (min-width: 768px) {  .im-article>h2 {    margin-top: 3rem;    margin-bottom: 1.5rem;  }}.im-article>h3,    .im-article>h4,    .im-article>h5,    .im-article>h6 {  font-size: 1.5rem;  line-height: 2rem;}@media (min-width: 768px) {  .im-article>h3,    .im-article>h4,    .im-article>h5,    .im-article>h6 {    font-size: 1.875rem;    line-height: 2.25rem;  }}.im-article>h3,    .im-article>h4,    .im-article>h5,    .im-article>h6 {  font-weight: 700;  line-height: 1.25;  letter-spacing: -0.025em;  margin-top: 2.5rem;  margin-bottom: 1rem;}@media (min-width: 768px) {  .im-article>h3,    .im-article>h4,    .im-article>h5,    .im-article>h6 {    margin-top: 3rem;    margin-bottom: 1.5rem;  }}.im-article>figure {  margin-top: 1.5rem;  margin-bottom: 1.5rem;}.im-article>figure figcaption {  font-size: 0.75rem;  line-height: 1rem;  line-height: 1.625;  --tw-text-opacity: 1;  color: rgb(114 114 114 / var(--tw-text-opacity, 1));  margin-top: 0.5rem;}.im-article table {  width: 100%;  table-layout: fixed;}.im-article>figure.im-table {  border-width: 1px;  --tw-border-opacity: 1;  border-color: rgb(229 229 229 / var(--tw-border-opacity, 1));  border-radius: 0.25rem;  overflow-x: auto;  margin-left: 1.5rem;  margin-right: 1.5rem;}@media (min-width: 768px) {  .im-article>figure.im-table {    margin-left: auto;    margin-right: auto;  }}.im-article>figure.im-table {  margin-top: 1.5rem;  margin-bottom: 1.5rem;}.im-article tr {  border-bottom-width: 1px;  --tw-border-opacity: 1;  border-color: rgb(229 229 229 / var(--tw-border-opacity, 1));}.im-article th,    .im-article td {  text-align: left;  width: 244px;}@media (min-width: 1024px) {  .im-article th,    .im-article td {    width: 204px;  }}.im-article thead td,    .im-article th {  font-weight: 700;  padding-left: 1rem;  padding-right: 1rem;  padding-top: 0.5rem;  padding-bottom: 0.5rem;}.im-article tbody td {  padding-left: 1rem;  padding-right: 1rem;  padding-top: 0.75rem;  padding-bottom: 0.75rem;}.im-article tfoot td,    .im-article>.im-table figcaption {  padding-left: 1rem;  padding-right: 1rem;  padding-top: 0.75rem;  padding-bottom: 0.75rem;  margin: 0px;}.im-article .im-quote-legacy-compatibility {  border-left-width: 4px;  --tw-border-opacity: 1;  border-color: rgb(82 82 82 / var(--tw-border-opacity, 1));  padding-left: 1rem;}/* Estilo da citação */.im-article .im-quote-legacy-compatibility p:first-child {  font-family: \\'Source Serif 4\\', serif;  font-size: 1.125rem;  line-height: 1.75rem;}@media (min-width: 1024px) {  .im-article .im-quote-legacy-compatibility p:first-child {    font-size: 1.5rem;    line-height: 2rem;  }}.im-article .im-quote-legacy-compatibility p:first-child {  font-weight: 700;}@media (min-width: 768px) {  .im-article .im-quote-legacy-compatibility p:first-child {    letter-spacing: -0.05em;  }}.im-article .im-quote-legacy-compatibility p:first-child {  --tw-text-opacity: 1;  color: rgb(10 10 10 / var(--tw-text-opacity, 1));}/* Estilo do autor da citação. Regra: último P que não seja também o primeiro */.im-article .im-quote-legacy-compatibility p:last-child:not(:first-child) {  font-size: 0.875rem;  line-height: 1.25rem;  --tw-text-opacity: 1;  color: rgb(114 114 114 / var(--tw-text-opacity, 1));  margin-top: 1rem;}/* Estilo do autor da citação. Adiciona hífen */.im-article .im-quote-legacy-compatibility p:last-child:not(:first-child):before {  content: \\'— \\';}.im-article .infomoney-related-posts {  display: none;}.im-article .wp-block-embed-instagram,    .im-article .wp-block-embed-twitter,    .im-article .instagram-media,    .im-article .twitter-tweet {  max-width: 500px;  margin-left: auto !important;  margin-right: auto !important;}.im-article .wp-block-embed__wrapper iframe {  max-width: 100%;}.im-article .disclaimer {  max-width: 42rem;  margin-left: auto;  margin-right: auto;  padding-left: 1.5rem;  padding-right: 1.5rem;  --tw-bg-opacity: 1;  background-color: rgb(250 250 250 / var(--tw-bg-opacity, 1));  padding-top: 0.5rem;  padding-bottom: 0.5rem;  --tw-text-opacity: 1;  color: rgb(114 114 114 / var(--tw-text-opacity, 1));}/* Ocultar infomoney_forms legados */.im-article .im-shortcode-forms {  display: none;}/* Apenas parágrafos devem respeitar float */.im-article> :not(p) {  clear: both;}/* Util class for thin scrollbar*/div.scrollbar-thin::-webkit-scrollbar {  width: 5px;  height: 5px;}div.scrollbar-thin::-webkit-scrollbar-track {  background: #f1f1f1;}div.scrollbar-thin::-webkit-scrollbar-thumb {  background: #888;  border-radius: 5px;}div.scrollbar-thin::-webkit-scrollbar-thumb:hover {  background: #555;}/* Fix for Flourish Iframe */.im-article .flourish-embed-iframe+div {  max-width: 42rem;  margin-left: auto;  margin-right: auto;  padding-left: 1.5rem;  padding-right: 1.5rem;}@media (min-width: 768px) {  .im-article .flourish-embed-iframe+div {    padding-left: 1.5rem;    padding-right: 1.5rem;  }}.sr-only {  position: absolute;  width: 1px;  height: 1px;  padding: 0;  margin: -1px;  overflow: hidden;  clip: rect(0, 0, 0, 0);  white-space: nowrap;  border-width: 0;}.pointer-events-none {  pointer-events: none;}.pointer-events-auto {  pointer-events: auto;}.static {  position: static;}.fixed {  position: fixed;}.absolute {  position: absolute;}.relative {  position: relative;}.sticky {  position: sticky;}.bottom-0 {  bottom: 0px;}.left-0 {  left: 0px;}.left-1\\\\/2 {  left: 50%;}.left-3 {  left: 0.75rem;}.left-4 {  left: 1rem;}.left-full {  left: 100%;}.right-0 {  right: 0px;}.right-1 {  right: 0.25rem;}.right-4 {  right: 1rem;}.top-0 {  top: 0px;}.top-1\\\\/2 {  top: 50%;}.top-14 {  top: 3.5rem;}.top-2\\\\/4 {  top: 50%;}.top-3 {  top: 0.75rem;}.z-0 {  z-index: 0;}.z-10 {  z-index: 10;}.z-30 {  z-index: 30;}.z-40 {  z-index: 40;}.z-50 {  z-index: 50;}.z-\\\\[-1\\\\] {  z-index: -1;}.z-\\\\[999999\\\\] {  z-index: 999999;}.z-\\\\[99999\\\\] {  z-index: 99999;}.col-span-4 {  grid-column: span 4 / span 4;}.col-span-5 {  grid-column: span 5 / span 5;}.col-span-full {  grid-column: 1 / -1;}.col-start-1 {  grid-column-start: 1;}.col-start-4 {  grid-column-start: 4;}.row-span-2 {  grid-row: span 2 / span 2;}.row-start-1 {  grid-row-start: 1;}.m-0 {  margin: 0px;}.\\\\!mx-0 {  margin-left: 0px !important;  margin-right: 0px !important;}.mx-0 {  margin-left: 0px;  margin-right: 0px;}.mx-2 {  margin-left: 0.5rem;  margin-right: 0.5rem;}.mx-auto {  margin-left: auto;  margin-right: auto;}.my-10 {  margin-top: 2.5rem;  margin-bottom: 2.5rem;}.my-12 {  margin-top: 3rem;  margin-bottom: 3rem;}.my-3 {  margin-top: 0.75rem;  margin-bottom: 0.75rem;}.my-4 {  margin-top: 1rem;  margin-bottom: 1rem;}.my-6 {  margin-top: 1.5rem;  margin-bottom: 1.5rem;}.my-8 {  margin-top: 2rem;  margin-bottom: 2rem;}.\\\\!mr-4 {  margin-right: 1rem !important;}.-ml-1 {  margin-left: -0.25rem;}.mb-2 {  margin-bottom: 0.5rem;}.mb-3 {  margin-bottom: 0.75rem;}.mb-4 {  margin-bottom: 1rem;}.mb-6 {  margin-bottom: 1.5rem;}.mb-8 {  margin-bottom: 2rem;}.ml-1 {  margin-left: 0.25rem;}.ml-2 {  margin-left: 0.5rem;}.ml-6 {  margin-left: 1.5rem;}.mr-2 {  margin-right: 0.5rem;}.mr-3 {  margin-right: 0.75rem;}.mr-4 {  margin-right: 1rem;}.mr-auto {  margin-right: auto;}.mt-0 {  margin-top: 0px;}.mt-1 {  margin-top: 0.25rem;}.mt-2 {  margin-top: 0.5rem;}.mt-3 {  margin-top: 0.75rem;}.mt-4 {  margin-top: 1rem;}.mt-6 {  margin-top: 1.5rem;}.mt-8 {  margin-top: 2rem;}.mt-auto {  margin-top: auto;}.line-clamp-1 {  overflow: hidden;  display: -webkit-box;  -webkit-box-orient: vertical;  -webkit-line-clamp: 1;}.line-clamp-2 {  overflow: hidden;  display: -webkit-box;  -webkit-box-orient: vertical;  -webkit-line-clamp: 2;}.line-clamp-3 {  overflow: hidden;  display: -webkit-box;  -webkit-box-orient: vertical;  -webkit-line-clamp: 3;}.line-clamp-6 {  overflow: hidden;  display: -webkit-box;  -webkit-box-orient: vertical;  -webkit-line-clamp: 6;}.line-clamp-none {  overflow: visible;  display: block;  -webkit-box-orient: horizontal;  -webkit-line-clamp: none;}.block {  display: block;}.inline-block {  display: inline-block;}.inline {  display: inline;}.flex {  display: flex;}.inline-flex {  display: inline-flex;}.table {  display: table;}.grid {  display: grid;}.hidden {  display: none;}.aspect-video {  aspect-ratio: 16 / 9;}.size-10 {  width: 2.5rem;  height: 2.5rem;}.size-12 {  width: 3rem;  height: 3rem;}.size-2 {  width: 0.5rem;  height: 0.5rem;}.size-28 {  width: 7rem;  height: 7rem;}.size-3\\\\.5 {  width: 0.875rem;  height: 0.875rem;}.size-36 {  width: 9rem;  height: 9rem;}.size-4 {  width: 1rem;  height: 1rem;}.size-5 {  width: 1.25rem;  height: 1.25rem;}.size-6 {  width: 1.5rem;  height: 1.5rem;}.size-8 {  width: 2rem;  height: 2rem;}.\\\\!h-6 {  height: 1.5rem !important;}.\\\\!h-60 {  height: 15rem !important;}.\\\\!h-full {  height: 100% !important;}.h-12 {  height: 3rem;}.h-14 {  height: 3.5rem;}.h-16 {  height: 4rem;}.h-18 {  height: 4.5rem;}.h-21 {  height: 5.25rem;}.h-3\\\\.5 {  height: 0.875rem;}.h-4 {  height: 1rem;}.h-4\\\\.5 {  height: 1.125rem;}.h-4\\\\/5 {  height: 80%;}.h-5 {  height: 1.25rem;}.h-5\\\\/6 {  height: 83.333333%;}.h-6 {  height: 1.5rem;}.h-60 {  height: 15rem;}.h-64 {  height: 16rem;}.h-7 {  height: 1.75rem;}.h-8 {  height: 2rem;}.h-9 {  height: 2.25rem;}.h-\\\\[166px\\\\] {  height: 166px;}.h-\\\\[204px\\\\] {  height: 204px;}.h-\\\\[210px\\\\] {  height: 210px;}.h-\\\\[23px\\\\] {  height: 23px;}.h-\\\\[250px\\\\] {  height: 250px;}.h-\\\\[292px\\\\] {  height: 292px;}.h-\\\\[50px\\\\] {  height: 50px;}.h-\\\\[60px\\\\] {  height: 60px;}.h-\\\\[72px\\\\] {  height: 72px;}.h-\\\\[84px\\\\] {  height: 84px;}.h-full {  height: 100%;}.h-max {  height: -moz-max-content;  height: max-content;}.h-px {  height: 1px;}.max-h-0 {  max-height: 0px;}.max-h-10 {  max-height: 2.5rem;}.max-h-4\\\\.5 {  max-height: 1.125rem;}.max-h-\\\\[512px\\\\] {  max-height: 512px;}.min-h-10 {  min-height: 2.5rem;}.min-h-21 {  min-height: 5.25rem;}.min-h-22 {  min-height: 5.5rem;}.min-h-\\\\[116px\\\\] {  min-height: 116px;}.min-h-\\\\[122px\\\\] {  min-height: 122px;}.min-h-\\\\[146px\\\\] {  min-height: 146px;}.min-h-\\\\[148px\\\\] {  min-height: 148px;}.min-h-\\\\[250px\\\\] {  min-height: 250px;}.min-h-\\\\[282px\\\\] {  min-height: 282px;}.min-h-\\\\[295px\\\\] {  min-height: 295px;}.min-h-\\\\[298px\\\\] {  min-height: 298px;}.min-h-\\\\[320px\\\\] {  min-height: 320px;}.min-h-\\\\[354px\\\\] {  min-height: 354px;}.min-h-\\\\[410px\\\\] {  min-height: 410px;}.min-h-\\\\[430px\\\\] {  min-height: 430px;}.min-h-\\\\[50px\\\\] {  min-height: 50px;}.min-h-\\\\[60px\\\\] {  min-height: 60px;}.\\\\!w-auto {  width: auto !important;}.\\\\!w-full {  width: 100% !important;}.w-12 {  width: 3rem;}.w-14 {  width: 3.5rem;}.w-16 {  width: 4rem;}.w-18 {  width: 4.5rem;}.w-28 {  width: 7rem;}.w-3\\\\.5 {  width: 0.875rem;}.w-4 {  width: 1rem;}.w-5 {  width: 1.25rem;}.w-6 {  width: 1.5rem;}.w-60 {  width: 15rem;}.w-8 {  width: 2rem;}.w-9 {  width: 2.25rem;}.w-9\\\\.5 {  width: 2.375rem;}.w-9\\\\/12 {  width: 75%;}.w-\\\\[120px\\\\] {  width: 120px;}.w-\\\\[1px\\\\] {  width: 1px;}.w-\\\\[200px\\\\] {  width: 200px;}.w-\\\\[246px\\\\] {  width: 246px;}.w-\\\\[367px\\\\] {  width: 367px;}.w-\\\\[50px\\\\] {  width: 50px;}.w-\\\\[90px\\\\] {  width: 90px;}.w-auto {  width: auto;}.w-fit {  width: -moz-fit-content;  width: fit-content;}.w-full {  width: 100%;}.w-max {  width: -moz-max-content;  width: max-content;}.w-px {  width: 1px;}.w-screen {  width: 100vw;}.min-w-80 {  min-width: 20rem;}.min-w-full {  min-width: 100%;}.\\\\!max-w-full {  max-width: 100% !important;}.max-w-2xl {  max-width: 42rem;}.max-w-4xl {  max-width: 56rem;}.max-w-5xl {  max-width: 64rem;}.max-w-7xl {  max-width: 80rem;}.max-w-8xl {  max-width: 82rem;}.max-w-9xl {  max-width: 83rem;}.max-w-\\\\[1102px\\\\] {  max-width: 1102px;}.max-w-\\\\[280px\\\\] {  max-width: 280px;}.max-w-\\\\[393px\\\\] {  max-width: 393px;}.max-w-\\\\[400px\\\\] {  max-width: 400px;}.max-w-\\\\[710px\\\\] {  max-width: 710px;}.max-w-full {  max-width: 100%;}.max-w-md {  max-width: 28rem;}.max-w-screen-lg {  max-width: 1024px;}.max-w-screen-xl {  max-width: 1280px;}.max-w-xl {  max-width: 36rem;}.flex-1 {  flex: 1 1 0%;}.flex-shrink-0 {  flex-shrink: 0;}.shrink-0 {  flex-shrink: 0;}.flex-grow {  flex-grow: 1;}.grow {  flex-grow: 1;}.basis-1\\\\/2 {  flex-basis: 50%;}.basis-1\\\\/4 {  flex-basis: 25%;}.basis-2\\\\/4 {  flex-basis: 50%;}.basis-3\\\\/4 {  flex-basis: 75%;}.basis-full {  flex-basis: 100%;}.table-auto {  table-layout: auto;}.border-collapse {  border-collapse: collapse;}.origin-\\\\[0\\\\] {  transform-origin: 0;}.origin-bottom-left {  transform-origin: bottom left;}.origin-center {  transform-origin: center;}.origin-top {  transform-origin: top;}.origin-top-left {  transform-origin: top left;}.-translate-x-1\\\\/2 {  --tw-translate-x: -50%;  transform: translate(var(--tw-translate-x), var(--tw-translate-y)) rotate(var(--tw-rotate)) skewX(var(--tw-skew-x)) skewY(var(--tw-skew-y)) scaleX(var(--tw-scale-x)) scaleY(var(--tw-scale-y));}.-translate-x-full {  --tw-translate-x: -100%;  transform: translate(var(--tw-translate-x), var(--tw-translate-y)) rotate(var(--tw-rotate)) skewX(var(--tw-skew-x)) skewY(var(--tw-skew-y)) scaleX(var(--tw-scale-x)) scaleY(var(--tw-scale-y));}.-translate-y-1\\\\/2 {  --tw-translate-y: -50%;  transform: translate(var(--tw-translate-x), var(--tw-translate-y)) rotate(var(--tw-rotate)) skewX(var(--tw-skew-x)) skewY(var(--tw-skew-y)) scaleX(var(--tw-scale-x)) scaleY(var(--tw-scale-y));}.-translate-y-2 {  --tw-translate-y: -0.5rem;  transform: translate(var(--tw-translate-x), var(--tw-translate-y)) rotate(var(--tw-rotate)) skewX(var(--tw-skew-x)) skewY(var(--tw-skew-y)) scaleX(var(--tw-scale-x)) scaleY(var(--tw-scale-y));}.-translate-y-7 {  --tw-translate-y: -1.75rem;  transform: translate(var(--tw-translate-x), var(--tw-translate-y)) rotate(var(--tw-rotate)) skewX(var(--tw-skew-x)) skewY(var(--tw-skew-y)) scaleX(var(--tw-scale-x)) scaleY(var(--tw-scale-y));}.-translate-y-\\\\[50\\\\%\\\\] {  --tw-translate-y: -50%;  transform: translate(var(--tw-translate-x), var(--tw-translate-y)) rotate(var(--tw-rotate)) skewX(var(--tw-skew-x)) skewY(var(--tw-skew-y)) scaleX(var(--tw-scale-x)) scaleY(var(--tw-scale-y));}.-translate-y-full {  --tw-translate-y: -100%;  transform: translate(var(--tw-translate-x), var(--tw-translate-y)) rotate(var(--tw-rotate)) skewX(var(--tw-skew-x)) skewY(var(--tw-skew-y)) scaleX(var(--tw-scale-x)) scaleY(var(--tw-scale-y));}.translate-x-0 {  --tw-translate-x: 0px;  transform: translate(var(--tw-translate-x), var(--tw-translate-y)) rotate(var(--tw-rotate)) skewX(var(--tw-skew-x)) skewY(var(--tw-skew-y)) scaleX(var(--tw-scale-x)) scaleY(var(--tw-scale-y));}.translate-x-10 {  --tw-translate-x: 2.5rem;  transform: translate(var(--tw-translate-x), var(--tw-translate-y)) rotate(var(--tw-rotate)) skewX(var(--tw-skew-x)) skewY(var(--tw-skew-y)) scaleX(var(--tw-scale-x)) scaleY(var(--tw-scale-y));}.translate-y-full {  --tw-translate-y: 100%;  transform: translate(var(--tw-translate-x), var(--tw-translate-y)) rotate(var(--tw-rotate)) skewX(var(--tw-skew-x)) skewY(var(--tw-skew-y)) scaleX(var(--tw-scale-x)) scaleY(var(--tw-scale-y));}.rotate-180 {  --tw-rotate: 180deg;  transform: translate(var(--tw-translate-x), var(--tw-translate-y)) rotate(var(--tw-rotate)) skewX(var(--tw-skew-x)) skewY(var(--tw-skew-y)) scaleX(var(--tw-scale-x)) scaleY(var(--tw-scale-y));}.transform {  transform: translate(var(--tw-translate-x), var(--tw-translate-y)) rotate(var(--tw-rotate)) skewX(var(--tw-skew-x)) skewY(var(--tw-skew-y)) scaleX(var(--tw-scale-x)) scaleY(var(--tw-scale-y));}.transform-gpu {  transform: translate3d(var(--tw-translate-x), var(--tw-translate-y), 0) rotate(var(--tw-rotate)) skewX(var(--tw-skew-x)) skewY(var(--tw-skew-y)) scaleX(var(--tw-scale-x)) scaleY(var(--tw-scale-y));}@keyframes fade {  0% {    opacity: 0;  }  100% {    opacity: 1;  }}.animate-fade {  animation: fade var(--tw-animate-duration, 1s) var(--tw-animate-easing, ease) var(--tw-animate-delay, 0s) var(--tw-animate-iteration, 1) var(--tw-animate-fill, both);}@keyframes ping {  75%, 100% {    transform: scale(2);    opacity: 0;  }}.animate-ping {  animation: ping var(--tw-animate-duration, 1s) var(--tw-animate-easing, cubic-bezier(0, 0, 0.2, 1)) var(--tw-animate-delay, 0s) var(--tw-animate-iteration, infinite) var(--tw-animate-fill, none);}@keyframes spin {  to {    transform: rotate(360deg);  }}.animate-spin {  animation: spin var(--tw-animate-duration, 1s) var(--tw-animate-easing, linear) var(--tw-animate-delay, 0s) var(--tw-animate-iteration, infinite) var(--tw-animate-fill, none);}.cursor-pointer {  cursor: pointer;}.resize {  resize: both;}.list-inside {  list-style-position: inside;}.list-disc {  list-style-type: disc;}.columns-2 {  -moz-columns: 2;       columns: 2;}.grid-flow-row {  grid-auto-flow: row;}.grid-cols-1 {  grid-template-columns: repeat(1, minmax(0, 1fr));}.grid-cols-\\\\[1fr_1fr_1fr_16px\\\\] {  grid-template-columns: 1fr 1fr 1fr 16px;}.grid-cols-\\\\[1fr_1fr_36px\\\\] {  grid-template-columns: 1fr 1fr 36px;}.grid-cols-\\\\[1fr_36px\\\\] {  grid-template-columns: 1fr 36px;}.grid-cols-\\\\[auto_1fr\\\\] {  grid-template-columns: auto 1fr;}.grid-cols-subgrid {  grid-template-columns: subgrid;}.flex-row {  flex-direction: row;}.flex-row-reverse {  flex-direction: row-reverse;}.flex-col {  flex-direction: column;}.flex-wrap {  flex-wrap: wrap;}.flex-nowrap {  flex-wrap: nowrap;}.items-start {  align-items: flex-start;}.items-center {  align-items: center;}.items-baseline {  align-items: baseline;}.items-stretch {  align-items: stretch;}.justify-start {  justify-content: flex-start;}.justify-end {  justify-content: flex-end;}.justify-center {  justify-content: center;}.justify-between {  justify-content: space-between;}.gap-1 {  gap: 0.25rem;}.gap-1\\\\.5 {  gap: 0.375rem;}.gap-2 {  gap: 0.5rem;}.gap-3 {  gap: 0.75rem;}.gap-4 {  gap: 1rem;}.gap-4\\\\.5 {  gap: 1.125rem;}.gap-5 {  gap: 1.25rem;}.gap-6 {  gap: 1.5rem;}.gap-8 {  gap: 2rem;}.gap-x-3 {  -moz-column-gap: 0.75rem;       column-gap: 0.75rem;}.gap-x-6 {  -moz-column-gap: 1.5rem;       column-gap: 1.5rem;}.gap-y-1 {  row-gap: 0.25rem;}.gap-y-3 {  row-gap: 0.75rem;}.space-x-2 > :not([hidden]) ~ :not([hidden]) {  --tw-space-x-reverse: 0;  margin-right: calc(0.5rem * var(--tw-space-x-reverse));  margin-left: calc(0.5rem * calc(1 - var(--tw-space-x-reverse)));}.space-x-4 > :not([hidden]) ~ :not([hidden]) {  --tw-space-x-reverse: 0;  margin-right: calc(1rem * var(--tw-space-x-reverse));  margin-left: calc(1rem * calc(1 - var(--tw-space-x-reverse)));}.space-y-2 > :not([hidden]) ~ :not([hidden]) {  --tw-space-y-reverse: 0;  margin-top: calc(0.5rem * calc(1 - var(--tw-space-y-reverse)));  margin-bottom: calc(0.5rem * var(--tw-space-y-reverse));}.space-y-3 > :not([hidden]) ~ :not([hidden]) {  --tw-space-y-reverse: 0;  margin-top: calc(0.75rem * calc(1 - var(--tw-space-y-reverse)));  margin-bottom: calc(0.75rem * var(--tw-space-y-reverse));}.space-y-4 > :not([hidden]) ~ :not([hidden]) {  --tw-space-y-reverse: 0;  margin-top: calc(1rem * calc(1 - var(--tw-space-y-reverse)));  margin-bottom: calc(1rem * var(--tw-space-y-reverse));}.space-y-6 > :not([hidden]) ~ :not([hidden]) {  --tw-space-y-reverse: 0;  margin-top: calc(1.5rem * calc(1 - var(--tw-space-y-reverse)));  margin-bottom: calc(1.5rem * var(--tw-space-y-reverse));}.divide-y > :not([hidden]) ~ :not([hidden]) {  --tw-divide-y-reverse: 0;  border-top-width: calc(1px * calc(1 - var(--tw-divide-y-reverse)));  border-bottom-width: calc(1px * var(--tw-divide-y-reverse));}.divide-gray-200 > :not([hidden]) ~ :not([hidden]) {  --tw-divide-opacity: 1;  border-color: rgb(229 231 235 / var(--tw-divide-opacity, 1));}.self-baseline {  align-self: baseline;}.justify-self-end {  justify-self: end;}.overflow-hidden {  overflow: hidden;}.overflow-x-auto {  overflow-x: auto;}.overflow-x-hidden {  overflow-x: hidden;}.overflow-y-hidden {  overflow-y: hidden;}.overflow-x-scroll {  overflow-x: scroll;}.overflow-y-scroll {  overflow-y: scroll;}.overscroll-auto {  overscroll-behavior: auto;}.scroll-smooth {  scroll-behavior: smooth;}.whitespace-normal {  white-space: normal;}.whitespace-nowrap {  white-space: nowrap;}.text-nowrap {  text-wrap: nowrap;}.rounded {  border-radius: 0.25rem;}.rounded-2xl {  border-radius: 1rem;}.rounded-full {  border-radius: 9999px;}.rounded-lg {  border-radius: 0.5rem;}.rounded-md {  border-radius: 0.375rem;}.rounded-sm {  border-radius: 0.125rem;}.rounded-xl {  border-radius: 0.75rem;}.rounded-e-lg {  border-start-end-radius: 0.5rem;  border-end-end-radius: 0.5rem;}.rounded-s-lg {  border-start-start-radius: 0.5rem;  border-end-start-radius: 0.5rem;}.rounded-t-lg {  border-top-left-radius: 0.5rem;  border-top-right-radius: 0.5rem;}.rounded-t-md {  border-top-left-radius: 0.375rem;  border-top-right-radius: 0.375rem;}.rounded-t-sm {  border-top-left-radius: 0.125rem;  border-top-right-radius: 0.125rem;}.rounded-tr-lg {  border-top-right-radius: 0.5rem;}.border {  border-width: 1px;}.border-0 {  border-width: 0px;}.border-8 {  border-width: 8px;}.border-x {  border-left-width: 1px;  border-right-width: 1px;}.border-y {  border-top-width: 1px;  border-bottom-width: 1px;}.\\\\!border-r {  border-right-width: 1px !important;}.border-b {  border-bottom-width: 1px;}.border-b-2 {  border-bottom-width: 2px;}.border-l {  border-left-width: 1px;}.border-l-4 {  border-left-width: 4px;}.border-r {  border-right-width: 1px;}.border-t {  border-top-width: 1px;}.border-dashed {  border-style: dashed;}.\\\\!border-wl-neutral-400 {  --tw-border-opacity: 1 !important;  border-color: rgb(136 136 136 / var(--tw-border-opacity, 1)) !important;}.border-blue-50 {  --tw-border-opacity: 1;  border-color: rgb(239 246 255 / var(--tw-border-opacity, 1));}.border-neutral-200 {  --tw-border-opacity: 1;  border-color: rgb(229 229 229 / var(--tw-border-opacity, 1));}.border-wl-action-link {  --tw-border-opacity: 1;  border-color: rgb(0 111 216 / var(--tw-border-opacity, 1));}.border-wl-neutral-0 {  --tw-border-opacity: 1;  border-color: rgb(255 255 255 / var(--tw-border-opacity, 1));}.border-wl-neutral-200 {  --tw-border-opacity: 1;  border-color: rgb(229 229 229 / var(--tw-border-opacity, 1));}.border-wl-neutral-400 {  --tw-border-opacity: 1;  border-color: rgb(136 136 136 / var(--tw-border-opacity, 1));}.border-wl-neutral-500 {  --tw-border-opacity: 1;  border-color: rgb(114 114 114 / var(--tw-border-opacity, 1));}.border-wl-neutral-600 {  --tw-border-opacity: 1;  border-color: rgb(82 82 82 / var(--tw-border-opacity, 1));}.border-wl-neutral-950 {  --tw-border-opacity: 1;  border-color: rgb(10 10 10 / var(--tw-border-opacity, 1));}.border-b-wl-neutral-200 {  --tw-border-opacity: 1;  border-bottom-color: rgb(229 229 229 / var(--tw-border-opacity, 1));}.border-t-wl-neutral-200 {  --tw-border-opacity: 1;  border-top-color: rgb(229 229 229 / var(--tw-border-opacity, 1));}.bg-\\\\[\\\\#ff0000\\\\] {  --tw-bg-opacity: 1;  background-color: rgb(255 0 0 / var(--tw-bg-opacity, 1));}.bg-black\\\\/70 {  background-color: rgb(0 0 0 / 0.7);}.bg-gray-50 {  --tw-bg-opacity: 1;  background-color: rgb(249 250 251 / var(--tw-bg-opacity, 1));}.bg-neutral-100 {  --tw-bg-opacity: 1;  background-color: rgb(245 245 245 / var(--tw-bg-opacity, 1));}.bg-neutral-50 {  --tw-bg-opacity: 1;  background-color: rgb(250 250 250 / var(--tw-bg-opacity, 1));}.bg-neutral-500 {  --tw-bg-opacity: 1;  background-color: rgb(115 115 115 / var(--tw-bg-opacity, 1));}.bg-neutral-600 {  --tw-bg-opacity: 1;  background-color: rgb(82 82 82 / var(--tw-bg-opacity, 1));}.bg-neutral-950\\\\/50 {  background-color: rgb(10 10 10 / 0.5);}.bg-stone-100 {  --tw-bg-opacity: 1;  background-color: rgb(245 245 244 / var(--tw-bg-opacity, 1));}.bg-transparent {  background-color: transparent;}.bg-white {  --tw-bg-opacity: 1;  background-color: rgb(255 255 255 / var(--tw-bg-opacity, 1));}.bg-wl-action-cta {  --tw-bg-opacity: 1;  background-color: rgb(255 79 0 / var(--tw-bg-opacity, 1));}.bg-wl-action-link {  --tw-bg-opacity: 1;  background-color: rgb(0 111 216 / var(--tw-bg-opacity, 1));}.bg-wl-advisor-background {  --tw-bg-opacity: 1;  background-color: rgb(253 247 227 / var(--tw-bg-opacity, 1));}.bg-wl-background {  --tw-bg-opacity: 1;  background-color: rgb(236 243 253 / var(--tw-bg-opacity, 1));}.bg-wl-business-background {  --tw-bg-opacity: 1;  background-color: rgb(236 253 245 / var(--tw-bg-opacity, 1));}.bg-wl-infoproduct {  --tw-bg-opacity: 1;  background-color: rgb(55 48 163 / var(--tw-bg-opacity, 1));}.bg-wl-live-content {  --tw-bg-opacity: 1;  background-color: rgb(185 28 28 / var(--tw-bg-opacity, 1));}.bg-wl-neutral-0 {  --tw-bg-opacity: 1;  background-color: rgb(255 255 255 / var(--tw-bg-opacity, 1));}.bg-wl-neutral-100 {  --tw-bg-opacity: 1;  background-color: rgb(238 238 238 / var(--tw-bg-opacity, 1));}.bg-wl-neutral-200 {  --tw-bg-opacity: 1;  background-color: rgb(229 229 229 / var(--tw-bg-opacity, 1));}.bg-wl-neutral-50 {  --tw-bg-opacity: 1;  background-color: rgb(250 250 250 / var(--tw-bg-opacity, 1));}.bg-wl-neutral-500 {  --tw-bg-opacity: 1;  background-color: rgb(114 114 114 / var(--tw-bg-opacity, 1));}.bg-wl-neutral-600 {  --tw-bg-opacity: 1;  background-color: rgb(82 82 82 / var(--tw-bg-opacity, 1));}.bg-wl-neutral-950 {  --tw-bg-opacity: 1;  background-color: rgb(10 10 10 / var(--tw-bg-opacity, 1));}.bg-wl-trader-background {  --tw-bg-opacity: 1;  background-color: rgb(239 247 255 / var(--tw-bg-opacity, 1));}.bg-gradient-to-b {  background-image: linear-gradient(to bottom, var(--tw-gradient-stops));}.from-transparent {  --tw-gradient-from: transparent var(--tw-gradient-from-position);  --tw-gradient-to: rgb(0 0 0 / 0) var(--tw-gradient-to-position);  --tw-gradient-stops: var(--tw-gradient-from), var(--tw-gradient-to);}.to-black\\\\/80 {  --tw-gradient-to: rgb(0 0 0 / 0.8) var(--tw-gradient-to-position);}.bg-cover {  background-size: cover;}.bg-center {  background-position: center;}.bg-no-repeat {  background-repeat: no-repeat;}.object-contain {  -o-object-fit: contain;     object-fit: contain;}.object-cover {  -o-object-fit: cover;     object-fit: cover;}.object-bottom {  -o-object-position: bottom;     object-position: bottom;}.object-center {  -o-object-position: center;     object-position: center;}.p-0\\\\.5 {  padding: 0.125rem;}.p-1 {  padding: 0.25rem;}.p-2 {  padding: 0.5rem;}.p-2\\\\.5 {  padding: 0.625rem;}.p-3\\\\.5 {  padding: 0.875rem;}.p-4 {  padding: 1rem;}.p-4\\\\.5 {  padding: 1.125rem;}.p-6 {  padding: 1.5rem;}.\\\\!px-2 {  padding-left: 0.5rem !important;  padding-right: 0.5rem !important;}.\\\\!px-3 {  padding-left: 0.75rem !important;  padding-right: 0.75rem !important;}.\\\\!px-4 {  padding-left: 1rem !important;  padding-right: 1rem !important;}.\\\\!px-6 {  padding-left: 1.5rem !important;  padding-right: 1.5rem !important;}.\\\\!py-2 {  padding-top: 0.5rem !important;  padding-bottom: 0.5rem !important;}.\\\\!py-3 {  padding-top: 0.75rem !important;  padding-bottom: 0.75rem !important;}.\\\\!py-4 {  padding-top: 1rem !important;  padding-bottom: 1rem !important;}.px-0 {  padding-left: 0px;  padding-right: 0px;}.px-0\\\\.5 {  padding-left: 0.125rem;  padding-right: 0.125rem;}.px-1 {  padding-left: 0.25rem;  padding-right: 0.25rem;}.px-14 {  padding-left: 3.5rem;  padding-right: 3.5rem;}.px-2 {  padding-left: 0.5rem;  padding-right: 0.5rem;}.px-3 {  padding-left: 0.75rem;  padding-right: 0.75rem;}.px-4 {  padding-left: 1rem;  padding-right: 1rem;}.px-6 {  padding-left: 1.5rem;  padding-right: 1.5rem;}.py-0 {  padding-top: 0px;  padding-bottom: 0px;}.py-0\\\\.5 {  padding-top: 0.125rem;  padding-bottom: 0.125rem;}.py-1 {  padding-top: 0.25rem;  padding-bottom: 0.25rem;}.py-16 {  padding-top: 4rem;  padding-bottom: 4rem;}.py-2 {  padding-top: 0.5rem;  padding-bottom: 0.5rem;}.py-2\\\\.5 {  padding-top: 0.625rem;  padding-bottom: 0.625rem;}.py-3 {  padding-top: 0.75rem;  padding-bottom: 0.75rem;}.py-3\\\\.5 {  padding-top: 0.875rem;  padding-bottom: 0.875rem;}.py-4 {  padding-top: 1rem;  padding-bottom: 1rem;}.py-5 {  padding-top: 1.25rem;  padding-bottom: 1.25rem;}.py-6 {  padding-top: 1.5rem;  padding-bottom: 1.5rem;}.py-8 {  padding-top: 2rem;  padding-bottom: 2rem;}.pb-0\\\\.5 {  padding-bottom: 0.125rem;}.pb-1 {  padding-bottom: 0.25rem;}.pb-2 {  padding-bottom: 0.5rem;}.pb-3 {  padding-bottom: 0.75rem;}.pb-4 {  padding-bottom: 1rem;}.pb-6 {  padding-bottom: 1.5rem;}.pb-8 {  padding-bottom: 2rem;}.pl-1 {  padding-left: 0.25rem;}.pl-2 {  padding-left: 0.5rem;}.pl-3 {  padding-left: 0.75rem;}.pl-4 {  padding-left: 1rem;}.pr-4 {  padding-right: 1rem;}.pr-9 {  padding-right: 2.25rem;}.pt-4 {  padding-top: 1rem;}.pt-5 {  padding-top: 1.25rem;}.pt-6 {  padding-top: 1.5rem;}.text-left {  text-align: left;}.text-center {  text-align: center;}.text-right {  text-align: right;}.text-justify {  text-align: justify;}.align-middle {  vertical-align: middle;}.font-im-sans {  font-family: \\'Inter\\', sans-serif;}.font-im-serif {  font-family: \\'Source Serif 4\\', serif;}.text-2xl {  font-size: 1.5rem;  line-height: 2rem;}.text-3\\\\.33xl {  font-size: 2rem;  line-height: 1.2em;}.text-3xl {  font-size: 1.875rem;  line-height: 2.25rem;}.text-base {  font-size: 1rem;  line-height: 1.5rem;}.text-lg {  font-size: 1.125rem;  line-height: 1.75rem;}.text-sm {  font-size: 0.875rem;  line-height: 1.25rem;}.text-xl {  font-size: 1.25rem;  line-height: 1.75rem;}.text-xs {  font-size: 0.75rem;  line-height: 1rem;}.text-xxs {  font-size: 0.5rem;}.font-bold {  font-weight: 700;}.font-extrabold {  font-weight: 800;}.font-medium {  font-weight: 500;}.font-normal {  font-weight: 400;}.font-semibold {  font-weight: 600;}.uppercase {  text-transform: uppercase;}.lowercase {  text-transform: lowercase;}.italic {  font-style: italic;}.leading-4 {  line-height: 1rem;}.leading-5 {  line-height: 1.25rem;}.leading-6 {  line-height: 1.5rem;}.leading-7 {  line-height: 1.75rem;}.leading-9 {  line-height: 2.25rem;}.leading-normal {  line-height: 1.5;}.leading-snug {  line-height: 1.375;}.leading-tight {  line-height: 1.25;}.-tracking-wider {  letter-spacing: -0.05em;}.tracking-\\\\[-0\\\\.025em\\\\] {  letter-spacing: -0.025em;}.tracking-\\\\[6px\\\\] {  letter-spacing: 6px;}.tracking-tight {  letter-spacing: -0.025em;}.tracking-tighter {  letter-spacing: -0.05em;}.tracking-wide {  letter-spacing: 0.025em;}.tracking-wider {  letter-spacing: 0.05em;}.text-gray-500 {  --tw-text-opacity: 1;  color: rgb(107 114 128 / var(--tw-text-opacity, 1));}.text-gray-700 {  --tw-text-opacity: 1;  color: rgb(55 65 81 / var(--tw-text-opacity, 1));}.text-neutral-500 {  --tw-text-opacity: 1;  color: rgb(115 115 115 / var(--tw-text-opacity, 1));}.text-neutral-950 {  --tw-text-opacity: 1;  color: rgb(10 10 10 / var(--tw-text-opacity, 1));}.text-sky-600 {  --tw-text-opacity: 1;  color: rgb(2 132 199 / var(--tw-text-opacity, 1));}.text-transparent {  color: transparent;}.text-white {  --tw-text-opacity: 1;  color: rgb(255 255 255 / var(--tw-text-opacity, 1));}.text-wl-action-link {  --tw-text-opacity: 1;  color: rgb(0 111 216 / var(--tw-text-opacity, 1));}.text-wl-action-link-hover {  --tw-text-opacity: 1;  color: rgb(23 99 170 / var(--tw-text-opacity, 1));}.text-wl-advisor {  --tw-text-opacity: 1;  color: rgb(97 77 9 / var(--tw-text-opacity, 1));}.text-wl-alert-error {  --tw-text-opacity: 1;  color: rgb(220 38 38 / var(--tw-text-opacity, 1));}.text-wl-alert-success {  --tw-text-opacity: 1;  color: rgb(21 128 61 / var(--tw-text-opacity, 1));}.text-wl-asset-down {  --tw-text-opacity: 1;  color: rgb(203 16 16 / var(--tw-text-opacity, 1));}.text-wl-asset-rise {  --tw-text-opacity: 1;  color: rgb(4 118 48 / var(--tw-text-opacity, 1));}.text-wl-branded {  --tw-text-opacity: 1;  color: rgb(209 70 0 / var(--tw-text-opacity, 1));}.text-wl-business {  --tw-text-opacity: 1;  color: rgb(21 128 61 / var(--tw-text-opacity, 1));}.text-wl-infoproduct {  --tw-text-opacity: 1;  color: rgb(55 48 163 / var(--tw-text-opacity, 1));}.text-wl-live-content {  --tw-text-opacity: 1;  color: rgb(185 28 28 / var(--tw-text-opacity, 1));}.text-wl-neutral-0 {  --tw-text-opacity: 1;  color: rgb(255 255 255 / var(--tw-text-opacity, 1));}.text-wl-neutral-200 {  --tw-text-opacity: 1;  color: rgb(229 229 229 / var(--tw-text-opacity, 1));}.text-wl-neutral-400 {  --tw-text-opacity: 1;  color: rgb(136 136 136 / var(--tw-text-opacity, 1));}.text-wl-neutral-50 {  --tw-text-opacity: 1;  color: rgb(250 250 250 / var(--tw-text-opacity, 1));}.text-wl-neutral-500 {  --tw-text-opacity: 1;  color: rgb(114 114 114 / var(--tw-text-opacity, 1));}.text-wl-neutral-600 {  --tw-text-opacity: 1;  color: rgb(82 82 82 / var(--tw-text-opacity, 1));}.text-wl-neutral-950 {  --tw-text-opacity: 1;  color: rgb(10 10 10 / var(--tw-text-opacity, 1));}.text-wl-trader {  --tw-text-opacity: 1;  color: rgb(29 78 216 / var(--tw-text-opacity, 1));}.text-wl-white {  --tw-text-opacity: 1;  color: rgb(255 255 255 / var(--tw-text-opacity, 1));}.underline {  text-decoration-line: underline;}.\\\\!no-underline {  text-decoration-line: none !important;}.no-underline {  text-decoration-line: none;}.decoration-neutral-600 {  text-decoration-color: #525252;}.decoration-white {  text-decoration-color: #fff;}.underline-offset-2 {  text-underline-offset: 2px;}.underline-offset-4 {  text-underline-offset: 4px;}.antialiased {  -webkit-font-smoothing: antialiased;  -moz-osx-font-smoothing: grayscale;}.opacity-0 {  opacity: 0;}.opacity-25 {  opacity: 0.25;}.opacity-75 {  opacity: 0.75;}.shadow-\\\\[1px_1px_0_0_theme\\\\(colors\\\\.wl-neutral-200\\\\)\\\\2c 0_1px_0_0_theme\\\\(colors\\\\.wl-neutral-200\\\\)_inset\\\\] {  --tw-shadow: 1px 1px 0 0 #E5E5E5,0 1px 0 0 #E5E5E5 inset;  --tw-shadow-colored: 1px 1px 0 0 var(--tw-shadow-color), inset 0 1px 0 0 var(--tw-shadow-color);  box-shadow: var(--tw-ring-offset-shadow, 0 0 #0000), var(--tw-ring-shadow, 0 0 #0000), var(--tw-shadow);}.shadow-inner {  --tw-shadow: inset 0 2px 4px 0 rgb(0 0 0 / 0.05);  --tw-shadow-colored: inset 0 2px 4px 0 var(--tw-shadow-color);  box-shadow: var(--tw-ring-offset-shadow, 0 0 #0000), var(--tw-ring-shadow, 0 0 #0000), var(--tw-shadow);}.shadow-inner-border {  --tw-shadow: inset 0px 0px 0px 1px rgba(0, 0, 0, 1);  --tw-shadow-colored: inset 0px 0px 0px 1px var(--tw-shadow-color);  box-shadow: var(--tw-ring-offset-shadow, 0 0 #0000), var(--tw-ring-shadow, 0 0 #0000), var(--tw-shadow);}.shadow-lg {  --tw-shadow:  0 10px 15px -3px rgba(0, 0, 0, 0.1), 0 4px 6px -4px rgba(0, 0, 0, 0.1);  --tw-shadow-colored: 0 10px 15px -3px var(--tw-shadow-color), 0 4px 6px -4px var(--tw-shadow-color);  box-shadow: var(--tw-ring-offset-shadow, 0 0 #0000), var(--tw-ring-shadow, 0 0 #0000), var(--tw-shadow);}.shadow-sm {  --tw-shadow: 0 1px 2px 0 rgb(0 0 0 / 0.05);  --tw-shadow-colored: 0 1px 2px 0 var(--tw-shadow-color);  box-shadow: var(--tw-ring-offset-shadow, 0 0 #0000), var(--tw-ring-shadow, 0 0 #0000), var(--tw-shadow);}.shadow-wl-neutral-0 {  --tw-shadow-color: #FFFFFF;  --tw-shadow: var(--tw-shadow-colored);}.shadow-wl-neutral-600 {  --tw-shadow-color: #525252;  --tw-shadow: var(--tw-shadow-colored);}.outline {  outline-style: solid;}.outline-1 {  outline-width: 1px;}.outline-2 {  outline-width: 2px;}.outline-4 {  outline-width: 4px;}.-outline-offset-1 {  outline-offset: -1px;}.outline-offset-4 {  outline-offset: 4px;}.outline-red-500 {  outline-color: #ef4444;}.outline-wl-action-link {  outline-color: #006FD8;}.outline-wl-neutral-200 {  outline-color: #E5E5E5;}.outline-wl-neutral-950 {  outline-color: #0A0A0A;}.drop-shadow-lg {  --tw-drop-shadow: drop-shadow(0 10px 8px rgb(0 0 0 / 0.04)) drop-shadow(0 4px 3px rgb(0 0 0 / 0.1));  filter: var(--tw-blur) var(--tw-brightness) var(--tw-contrast) var(--tw-grayscale) var(--tw-hue-rotate) var(--tw-invert) var(--tw-saturate) var(--tw-sepia) var(--tw-drop-shadow);}.grayscale {  --tw-grayscale: grayscale(100%);  filter: var(--tw-blur) var(--tw-brightness) var(--tw-contrast) var(--tw-grayscale) var(--tw-hue-rotate) var(--tw-invert) var(--tw-saturate) var(--tw-sepia) var(--tw-drop-shadow);}.filter {  filter: var(--tw-blur) var(--tw-brightness) var(--tw-contrast) var(--tw-grayscale) var(--tw-hue-rotate) var(--tw-invert) var(--tw-saturate) var(--tw-sepia) var(--tw-drop-shadow);}.transition {  transition-property: color, background-color, border-color, text-decoration-color, fill, stroke, opacity, box-shadow, transform, filter, -webkit-backdrop-filter;  transition-property: color, background-color, border-color, text-decoration-color, fill, stroke, opacity, box-shadow, transform, filter, backdrop-filter;  transition-property: color, background-color, border-color, text-decoration-color, fill, stroke, opacity, box-shadow, transform, filter, backdrop-filter, -webkit-backdrop-filter;  transition-timing-function: cubic-bezier(0.4, 0, 0.2, 1);  transition-duration: 150ms;}.transition-\\\\[max-height\\\\] {  transition-property: max-height;  transition-timing-function: cubic-bezier(0.4, 0, 0.2, 1);  transition-duration: 150ms;}.transition-all {  transition-property: all;  transition-timing-function: cubic-bezier(0.4, 0, 0.2, 1);  transition-duration: 150ms;}.transition-opacity {  transition-property: opacity;  transition-timing-function: cubic-bezier(0.4, 0, 0.2, 1);  transition-duration: 150ms;}.transition-transform {  transition-property: transform;  transition-timing-function: cubic-bezier(0.4, 0, 0.2, 1);  transition-duration: 150ms;}.duration-100 {  transition-duration: 100ms;}.duration-150 {  transition-duration: 150ms;}.duration-200 {  transition-duration: 200ms;}.duration-300 {  transition-duration: 300ms;}.ease-in-out {  transition-timing-function: cubic-bezier(0.4, 0, 0.2, 1);}.ease-linear {  transition-timing-function: linear;}.animate-delay-1000 {  --tw-animate-delay: 1000ms;  animation-delay: var(--tw-animate-delay);}.animate-normal {  --tw-animate-direction: normal;  animation-direction: var(--tw-animate-direction);}.animate-alternate {  --tw-animate-direction: alternate;  animation-direction: var(--tw-animate-direction);}.animate-duration-1000 {  --tw-animate-duration: 1000ms;  animation-duration: var(--tw-animate-duration);}.animate-duration-500 {  --tw-animate-duration: 500ms;  animation-duration: var(--tw-animate-duration);}.animate-fill-forwards {  --tw-animate-fill: forwards;  animation-fill-mode: var(--tw-animate-fill);}.animate-infinite {  --tw-animate-iteration: infinite;  animation-iteration-count: var(--tw-animate-iteration);}.animate-ease-in {  --tw-animate-easing: cubic-bezier(0.4, 0, 1, 1);  animation-timing-function: var(--tw-animate-easing);}.animate-ease-linear {  --tw-animate-easing: linear;  animation-timing-function: var(--tw-animate-easing);}.im-mob-core-heading-1 {  font-size: 1.875rem;  line-height: 2.25rem;  letter-spacing: -1.8px;  font-weight: 700;}.im-mob-core-heading-2 {  font-size: 1.5rem;  line-height: 2rem;  letter-spacing: -0.8px;  font-weight: 700;}.im-mob-core-heading-3 {  font-size: 1.25rem;  line-height: 1.75rem;  letter-spacing: -0.5px;  font-weight: 600;}.im-mob-core-subtitle {  font-size: 1.125rem;  line-height: 1.75rem;  letter-spacing: -0.45px;  font-weight: 500;}.im-mob-core-paragraph {  font-size: 1rem;  line-height: 1.5rem;  letter-spacing: -0.4px;  font-weight: 400;}.im-mob-core-bold-paragraph {  font-size: 1rem;  line-height: 1.5rem;  letter-spacing: 0.4px;  font-weight: 600;}.im-mob-core-bold-description {  font-size: 0.875rem;  line-height: 1.25rem;  font-weight: 600;}.im-mob-core-description {  font-size: 0.875rem;  line-height: 1.25rem;  font-weight: 400;}.im-mob-core-link-description {  font-size: 0.875rem;  line-height: 1.25rem;  font-weight: 600;  text-decoration: underline;}.im-mob-core-caption {  font-size: 0.75rem;  line-height: 1rem;  font-weight: 400;}.im-mob-core-link-caption {  font-size: 0.75rem;  line-height: 1rem;  font-weight: 600;  text-decoration: underline;}.im-web-core-heading-3 {  font-size: 1.5rem;  line-height: 2rem;  letter-spacing: -0.6px;  font-weight: 600;}.im-web-core-description {  font-size: 0.875rem;  line-height: 1.25rem;  font-weight: 400;}.clear-fix:after {  content: \"\";  display: table;  clear: both;}/* Util class for marquee*//* would need to be adjusted depending on time *//* 2 mins */@media only screen and (min-width: 600px) {  .marquee .marqueeone {    animation: marquee 120s linear infinite  }}@media only screen and (max-width: 590px) {  .marquee .marqueeone {    animation: marquee-mobile 60s linear infinite  }}/* add delay at the end of animation so you dont start while another div is going *//* 2 mins - a nossa base é no minimo 4 iterações a cada minuto   */@keyframes marquee {  0% {    left: 0%;  }  100% {    left: -242vw  }}@keyframes marquee-mobile {  0% {    left: 0%;  }  100% {    left: -484vw  }}.block-editor__container .wp-block-list-item>div {  display: inline;}.wp-embed-aspect-16-9 iframe,.embed-youtube iframe {  aspect-ratio: 16 / 9;  width: 100%;}.block-editor-block-list__block .block-list-appender {  position: static !important;  margin-left: auto !important;  margin-right: auto !important;  flex-basis: 25%;}html :where(.wp-block .wp-block) {  margin: 0px !important;  width: 100% !important;}.splide__slide>* {  height: 100%;}.splide__slide>*>* {  height: 100%;}.splide__pagination li {  display: flex;}/*Workaroud for prefixed svg class names by webpack*/.live-news-ping_svg__origin-center {  transform-origin: center;}@keyframes ping {  75%, 100% {    transform: scale(2);    opacity: 0;  }}.live-news-ping_svg__animate-ping {  animation: ping var(--tw-animate-duration, 1s) var(--tw-animate-easing, cubic-bezier(0, 0, 0.2, 1)) var(--tw-animate-delay, 0s) var(--tw-animate-iteration, infinite) var(--tw-animate-fill, none);}.live-news-ping_svg__animate-infinite {  --tw-animate-iteration: infinite;  animation-iteration-count: var(--tw-animate-iteration);}.live-news-ping_svg__animate-duration-1000 {  --tw-animate-duration: 1000ms;  animation-duration: var(--tw-animate-duration);}.live-news-ping_svg__animate-delay-1000 {  --tw-animate-delay: 1000ms;  animation-delay: var(--tw-animate-delay);}.live-news-ping_svg__animate-ease-linear {  --tw-animate-easing: linear;  animation-timing-function: var(--tw-animate-easing);}.live-news-ping_svg__animate-normal {  --tw-animate-direction: normal;  animation-direction: var(--tw-animate-direction);}.live-news-ping_svg__animate-fill-forwards {  --tw-animate-fill: forwards;  animation-fill-mode: var(--tw-animate-fill);}[id*=\\'ac-chart-container-\\'] {  height: 100%;}.hide-scrollbars::-webkit-scrollbar {  background: transparent;  width: 0px;}.hide-scrollbars {  scrollbar-width: none;  -ms-overflow-style: none;}.ripple-in {  transform: scale(0);  animation: ripple 400ms linear forwards;}.ripple-out {  transform: scale(2);  animation: fade-out 255ms linear forwards;}@keyframes ripple {  to {    transform: scale(2);  }}@keyframes fade-out {  0% {    opacity: 1;  }  100% {    opacity: 0;  }}.visually-hidden {  border: 0;  clip: rect(1px, 1px, 1px, 1px);  clip-path: inset(0px 0px 99.9% 99.9%);  height: 1px;  overflow: hidden;  padding: 0;  position: absolute;  width: 1px;}.marker\\\\:text-sky-600 *::marker {  color: rgb(2 132 199 );}.marker\\\\:text-sky-600::marker {  color: rgb(2 132 199 );}.before\\\\:absolute::before {  content: var(--tw-content);  position: absolute;}.before\\\\:-top-6::before {  content: var(--tw-content);  top: -1.5rem;}.before\\\\:left-0::before {  content: var(--tw-content);  left: 0px;}.before\\\\:left-1\\\\/2::before {  content: var(--tw-content);  left: 50%;}.before\\\\:top-0::before {  content: var(--tw-content);  top: 0px;}.before\\\\:top-1\\\\/2::before {  content: var(--tw-content);  top: 50%;}.before\\\\:block::before {  content: var(--tw-content);  display: block;}.before\\\\:h-5::before {  content: var(--tw-content);  height: 1.25rem;}.before\\\\:h-6::before {  content: var(--tw-content);  height: 1.5rem;}.before\\\\:w-0\\\\.5::before {  content: var(--tw-content);  width: 0.125rem;}.before\\\\:w-1::before {  content: var(--tw-content);  width: 0.25rem;}.before\\\\:flex-shrink-0::before {  content: var(--tw-content);  flex-shrink: 0;}.before\\\\:-translate-x-1\\\\/2::before {  content: var(--tw-content);  --tw-translate-x: -50%;  transform: translate(var(--tw-translate-x), var(--tw-translate-y)) rotate(var(--tw-rotate)) skewX(var(--tw-skew-x)) skewY(var(--tw-skew-y)) scaleX(var(--tw-scale-x)) scaleY(var(--tw-scale-y));}.before\\\\:-translate-y-1\\\\/2::before {  content: var(--tw-content);  --tw-translate-y: -50%;  transform: translate(var(--tw-translate-x), var(--tw-translate-y)) rotate(var(--tw-rotate)) skewX(var(--tw-skew-x)) skewY(var(--tw-skew-y)) scaleX(var(--tw-scale-x)) scaleY(var(--tw-scale-y));}.before\\\\:self-stretch::before {  content: var(--tw-content);  align-self: stretch;}.before\\\\:rounded-full::before {  content: var(--tw-content);  border-radius: 9999px;}.before\\\\:border-b-\\\\[15px\\\\]::before {  content: var(--tw-content);  border-bottom-width: 15px;}.before\\\\:border-l-\\\\[26\\\\.0px\\\\]::before {  content: var(--tw-content);  border-left-width: 26.0px;}.before\\\\:border-r-\\\\[0\\\\]::before {  content: var(--tw-content);  border-right-width: 0;}.before\\\\:border-t-\\\\[15px\\\\]::before {  content: var(--tw-content);  border-top-width: 15px;}.before\\\\:border-solid::before {  content: var(--tw-content);  border-style: solid;}.before\\\\:border-b-transparent::before {  content: var(--tw-content);  border-bottom-color: transparent;}.before\\\\:border-l-white::before {  content: var(--tw-content);  --tw-border-opacity: 1;  border-left-color: rgb(255 255 255 / var(--tw-border-opacity, 1));}.before\\\\:border-r-transparent::before {  content: var(--tw-content);  border-right-color: transparent;}.before\\\\:border-t-transparent::before {  content: var(--tw-content);  border-top-color: transparent;}.before\\\\:bg-wl-action-link::before {  content: var(--tw-content);  --tw-bg-opacity: 1;  background-color: rgb(0 111 216 / var(--tw-bg-opacity, 1));}.before\\\\:bg-wl-branded::before {  content: var(--tw-content);  --tw-bg-opacity: 1;  background-color: rgb(209 70 0 / var(--tw-bg-opacity, 1));}.before\\\\:bg-wl-neutral-400::before {  content: var(--tw-content);  --tw-bg-opacity: 1;  background-color: rgb(136 136 136 / var(--tw-bg-opacity, 1));}.before\\\\:text-sm::before {  content: var(--tw-content);  font-size: 0.875rem;  line-height: 1.25rem;}.before\\\\:font-bold::before {  content: var(--tw-content);  font-weight: 700;}.before\\\\:text-red-500::before {  content: var(--tw-content);  --tw-text-opacity: 1;  color: rgb(239 68 68 / var(--tw-text-opacity, 1));}.before\\\\:content-\\\\[\\\\\\'\\\\\\'\\\\]::before {  --tw-content: \\'\\';  content: var(--tw-content);}.before\\\\:content-\\\\[attr\\\\(data-caption\\\\)\\\\]::before {  --tw-content: attr(data-caption);  content: var(--tw-content);}.before\\\\:content-\\\\[attr\\\\(data-error-message\\\\)\\\\]::before {  --tw-content: attr(data-error-message);  content: var(--tw-content);}.first\\\\:im-mob-core-bold-paragraph:first-child {  font-size: 1rem;  line-height: 1.5rem;  letter-spacing: 0.4px;  font-weight: 600;}.last\\\\:border-0:last-child {  border-width: 0px;}.hover\\\\:cursor-pointer:hover {  cursor: pointer;}.hover\\\\:rounded-lg:hover {  border-radius: 0.5rem;}.hover\\\\:border-wl-action-link-hover:hover {  --tw-border-opacity: 1;  border-color: rgb(23 99 170 / var(--tw-border-opacity, 1));}.hover\\\\:bg-neutral-200:hover {  --tw-bg-opacity: 1;  background-color: rgb(229 229 229 / var(--tw-bg-opacity, 1));}.hover\\\\:bg-transparent:hover {  background-color: transparent;}.hover\\\\:bg-wl-action-cta-hover:hover {  --tw-bg-opacity: 1;  background-color: rgb(205 64 1 / var(--tw-bg-opacity, 1));}.hover\\\\:bg-wl-action-link-hover:hover {  --tw-bg-opacity: 1;  background-color: rgb(23 99 170 / var(--tw-bg-opacity, 1));}.hover\\\\:bg-wl-neutral-100:hover {  --tw-bg-opacity: 1;  background-color: rgb(238 238 238 / var(--tw-bg-opacity, 1));}.hover\\\\:bg-wl-neutral-600:hover {  --tw-bg-opacity: 1;  background-color: rgb(82 82 82 / var(--tw-bg-opacity, 1));}.hover\\\\:\\\\!text-wl-action-link-hover:hover {  --tw-text-opacity: 1 !important;  color: rgb(23 99 170 / var(--tw-text-opacity, 1)) !important;}.hover\\\\:text-gray-700:hover {  --tw-text-opacity: 1;  color: rgb(55 65 81 / var(--tw-text-opacity, 1));}.hover\\\\:text-sky-800:hover {  --tw-text-opacity: 1;  color: rgb(7 89 133 / var(--tw-text-opacity, 1));}.hover\\\\:text-wl-action-link-hover:hover {  --tw-text-opacity: 1;  color: rgb(23 99 170 / var(--tw-text-opacity, 1));}.hover\\\\:text-wl-neutral-0:hover {  --tw-text-opacity: 1;  color: rgb(255 255 255 / var(--tw-text-opacity, 1));}.hover\\\\:text-wl-neutral-200:hover {  --tw-text-opacity: 1;  color: rgb(229 229 229 / var(--tw-text-opacity, 1));}.hover\\\\:text-wl-white:hover {  --tw-text-opacity: 1;  color: rgb(255 255 255 / var(--tw-text-opacity, 1));}.hover\\\\:underline:hover {  text-decoration-line: underline;}.hover\\\\:no-underline:hover {  text-decoration-line: none;}.focus\\\\:outline-none:focus {  outline: 2px solid transparent;  outline-offset: 2px;}.focus\\\\:outline-2:focus {  outline-width: 2px;}.focus\\\\:outline-wl-action-link:focus {  outline-color: #006FD8;}.disabled\\\\:bg-wl-neutral-200:disabled {  --tw-bg-opacity: 1;  background-color: rgb(229 229 229 / var(--tw-bg-opacity, 1));}.disabled\\\\:text-wl-neutral-400:disabled {  --tw-text-opacity: 1;  color: rgb(136 136 136 / var(--tw-text-opacity, 1));}.disabled\\\\:shadow-none:disabled {  --tw-shadow: 0 0 #0000;  --tw-shadow-colored: 0 0 #0000;  box-shadow: var(--tw-ring-offset-shadow, 0 0 #0000), var(--tw-ring-shadow, 0 0 #0000), var(--tw-shadow);}.group:hover .group-hover\\\\:scale-110 {  --tw-scale-x: 1.1;  --tw-scale-y: 1.1;  transform: translate(var(--tw-translate-x), var(--tw-translate-y)) rotate(var(--tw-rotate)) skewX(var(--tw-skew-x)) skewY(var(--tw-skew-y)) scaleX(var(--tw-scale-x)) scaleY(var(--tw-scale-y));}.group\\\\/news:hover .group-hover\\\\/news\\\\:underline {  text-decoration-line: underline;}.group:hover .group-hover\\\\:underline {  text-decoration-line: underline;}.peer:-moz-placeholder-shown ~ .peer-placeholder-shown\\\\:top-\\\\[13px\\\\] {  top: 13px;}.peer:placeholder-shown ~ .peer-placeholder-shown\\\\:top-\\\\[13px\\\\] {  top: 13px;}.peer:-moz-placeholder-shown ~ .peer-placeholder-shown\\\\:-translate-y-0 {  --tw-translate-y: -0px;  transform: translate(var(--tw-translate-x), var(--tw-translate-y)) rotate(var(--tw-rotate)) skewX(var(--tw-skew-x)) skewY(var(--tw-skew-y)) scaleX(var(--tw-scale-x)) scaleY(var(--tw-scale-y));}.peer:placeholder-shown ~ .peer-placeholder-shown\\\\:-translate-y-0 {  --tw-translate-y: -0px;  transform: translate(var(--tw-translate-x), var(--tw-translate-y)) rotate(var(--tw-rotate)) skewX(var(--tw-skew-x)) skewY(var(--tw-skew-y)) scaleX(var(--tw-scale-x)) scaleY(var(--tw-scale-y));}.peer:-moz-placeholder-shown ~ .peer-placeholder-shown\\\\:px-0 {  padding-left: 0px;  padding-right: 0px;}.peer:placeholder-shown ~ .peer-placeholder-shown\\\\:px-0 {  padding-left: 0px;  padding-right: 0px;}.peer:-moz-placeholder-shown ~ .peer-placeholder-shown\\\\:text-base {  font-size: 1rem;  line-height: 1.5rem;}.peer:placeholder-shown ~ .peer-placeholder-shown\\\\:text-base {  font-size: 1rem;  line-height: 1.5rem;}.peer:-moz-placeholder-shown ~ .peer-placeholder-shown\\\\:text-wl-neutral-400 {  --tw-text-opacity: 1;  color: rgb(136 136 136 / var(--tw-text-opacity, 1));}.peer:placeholder-shown ~ .peer-placeholder-shown\\\\:text-wl-neutral-400 {  --tw-text-opacity: 1;  color: rgb(136 136 136 / var(--tw-text-opacity, 1));}.peer:invalid ~ .peer-invalid\\\\:text-red-600 {  --tw-text-opacity: 1;  color: rgb(220 38 38 / var(--tw-text-opacity, 1));}.peer:focus ~ .peer-focus\\\\:top-0 {  top: 0px;}.peer:focus ~ .peer-focus\\\\:-translate-y-\\\\[50\\\\%\\\\] {  --tw-translate-y: -50%;  transform: translate(var(--tw-translate-x), var(--tw-translate-y)) rotate(var(--tw-rotate)) skewX(var(--tw-skew-x)) skewY(var(--tw-skew-y)) scaleX(var(--tw-scale-x)) scaleY(var(--tw-scale-y));}.peer:focus ~ .peer-focus\\\\:px-1 {  padding-left: 0.25rem;  padding-right: 0.25rem;}.peer:focus ~ .peer-focus\\\\:text-xs {  font-size: 0.75rem;  line-height: 1rem;}.peer:focus ~ .peer-focus\\\\:text-wl-action-link {  --tw-text-opacity: 1;  color: rgb(0 111 216 / var(--tw-text-opacity, 1));}.aria-selected\\\\:bg-wl-action-link[aria-selected=\"true\"] {  --tw-bg-opacity: 1;  background-color: rgb(0 111 216 / var(--tw-bg-opacity, 1));}.group[data-state=\"collapsed\"] .group-data-\\\\[state\\\\=collapsed\\\\]\\\\:hidden {  display: none;}.group[data-expanded=\"true\"] .group-data-\\\\[expanded\\\\=true\\\\]\\\\:max-h-screen {  max-height: 100vh;}.group[data-expanded=\"true\"] .group-data-\\\\[expanded\\\\=true\\\\]\\\\:-scale-100 {  --tw-scale-x: -1;  --tw-scale-y: -1;  transform: translate(var(--tw-translate-x), var(--tw-translate-y)) rotate(var(--tw-rotate)) skewX(var(--tw-skew-x)) skewY(var(--tw-skew-y)) scaleX(var(--tw-scale-x)) scaleY(var(--tw-scale-y));}.group[data-state=\"collapsed\"] .group-data-\\\\[state\\\\=collapsed\\\\]\\\\:scale-x-75 {  --tw-scale-x: .75;  transform: translate(var(--tw-translate-x), var(--tw-translate-y)) rotate(var(--tw-rotate)) skewX(var(--tw-skew-x)) skewY(var(--tw-skew-y)) scaleX(var(--tw-scale-x)) scaleY(var(--tw-scale-y));}.group[data-state=\"collapsed\"] .group-data-\\\\[state\\\\=collapsed\\\\]\\\\:scale-y-125 {  --tw-scale-y: 1.25;  transform: translate(var(--tw-translate-x), var(--tw-translate-y)) rotate(var(--tw-rotate)) skewX(var(--tw-skew-x)) skewY(var(--tw-skew-y)) scaleX(var(--tw-scale-x)) scaleY(var(--tw-scale-y));}.group[data-state=\"collapsed\"] .group-data-\\\\[state\\\\=collapsed\\\\]\\\\:scale-y-75 {  --tw-scale-y: .75;  transform: translate(var(--tw-translate-x), var(--tw-translate-y)) rotate(var(--tw-rotate)) skewX(var(--tw-skew-x)) skewY(var(--tw-skew-y)) scaleX(var(--tw-scale-x)) scaleY(var(--tw-scale-y));}.group[data-expanded=\"true\"] .group-data-\\\\[expanded\\\\=true\\\\]\\\\:bg-wl-neutral-100 {  --tw-bg-opacity: 1;  background-color: rgb(238 238 238 / var(--tw-bg-opacity, 1));}@media (min-width: 768px) {  .md\\\\:left-auto {    left: auto;  }  .md\\\\:right-10 {    right: 2.5rem;  }  .md\\\\:top-10 {    top: 2.5rem;  }  .md\\\\:order-1 {    order: 1;  }  .md\\\\:float-right {    float: right;  }  .md\\\\:my-4 {    margin-top: 1rem;    margin-bottom: 1rem;  }  .md\\\\:my-6 {    margin-top: 1.5rem;    margin-bottom: 1.5rem;  }  .md\\\\:my-8 {    margin-top: 2rem;    margin-bottom: 2rem;  }  .md\\\\:my-9 {    margin-top: 2.25rem;    margin-bottom: 2.25rem;  }  .md\\\\:mb-0 {    margin-bottom: 0px;  }  .md\\\\:mb-6 {    margin-bottom: 1.5rem;  }  .md\\\\:ml-auto {    margin-left: auto;  }  .md\\\\:mr-\\\\[calc\\\\(\\\\(100\\\\%-42rem\\\\)\\\\/2\\\\)\\\\] {    margin-right: calc((100% - 42rem) / 2);  }  .md\\\\:mt-3 {    margin-top: 0.75rem;  }  .md\\\\:mt-4 {    margin-top: 1rem;  }  .md\\\\:mt-6 {    margin-top: 1.5rem;  }  .md\\\\:mt-8 {    margin-top: 2rem;  }  .md\\\\:line-clamp-1 {    overflow: hidden;    display: -webkit-box;    -webkit-box-orient: vertical;    -webkit-line-clamp: 1;  }  .md\\\\:line-clamp-2 {    overflow: hidden;    display: -webkit-box;    -webkit-box-orient: vertical;    -webkit-line-clamp: 2;  }  .md\\\\:line-clamp-3 {    overflow: hidden;    display: -webkit-box;    -webkit-box-orient: vertical;    -webkit-line-clamp: 3;  }  .md\\\\:line-clamp-4 {    overflow: hidden;    display: -webkit-box;    -webkit-box-orient: vertical;    -webkit-line-clamp: 4;  }  .md\\\\:block {    display: block;  }  .md\\\\:flex {    display: flex;  }  .md\\\\:hidden {    display: none;  }  .md\\\\:size-auto {    width: auto;    height: auto;  }  .md\\\\:\\\\!h-\\\\[350px\\\\] {    height: 350px !important;  }  .md\\\\:h-18 {    height: 4.5rem;  }  .md\\\\:h-21 {    height: 5.25rem;  }  .md\\\\:h-32 {    height: 8rem;  }  .md\\\\:h-5 {    height: 1.25rem;  }  .md\\\\:h-72 {    height: 18rem;  }  .md\\\\:h-\\\\[134px\\\\] {    height: 134px;  }  .md\\\\:h-\\\\[202px\\\\] {    height: 202px;  }  .md\\\\:h-\\\\[204px\\\\] {    height: 204px;  }  .md\\\\:h-\\\\[228px\\\\] {    height: 228px;  }  .md\\\\:h-\\\\[25px\\\\] {    height: 25px;  }  .md\\\\:h-\\\\[28px\\\\] {    height: 28px;  }  .md\\\\:h-\\\\[296px\\\\] {    height: 296px;  }  .md\\\\:h-\\\\[350px\\\\] {    height: 350px;  }  .md\\\\:h-\\\\[430px\\\\] {    height: 430px;  }  .md\\\\:h-\\\\[initial\\\\] {    height: initial;  }  .md\\\\:min-h-\\\\[204px\\\\] {    min-height: 204px;  }  .md\\\\:min-h-\\\\[432px\\\\] {    min-height: 432px;  }  .md\\\\:w-52 {    width: 13rem;  }  .md\\\\:w-\\\\[235px\\\\] {    width: 235px;  }  .md\\\\:w-\\\\[364px\\\\] {    width: 364px;  }  .md\\\\:w-\\\\[415px\\\\] {    width: 415px;  }  .md\\\\:w-fit {    width: -moz-fit-content;    width: fit-content;  }  .md\\\\:w-px {    width: 1px;  }  .md\\\\:min-w-64 {    min-width: 16rem;  }  .md\\\\:max-w-\\\\[314px\\\\] {    max-width: 314px;  }  .md\\\\:transform {    transform: translate(var(--tw-translate-x), var(--tw-translate-y)) rotate(var(--tw-rotate)) skewX(var(--tw-skew-x)) skewY(var(--tw-skew-y)) scaleX(var(--tw-scale-x)) scaleY(var(--tw-scale-y));  }  .md\\\\:columns-1 {    -moz-columns: 1;         columns: 1;  }  .md\\\\:auto-cols-fr {    grid-auto-columns: minmax(0, 1fr);  }  .md\\\\:grid-flow-col {    grid-auto-flow: column;  }  .md\\\\:grid-cols-1 {    grid-template-columns: repeat(1, minmax(0, 1fr));  }  .md\\\\:grid-cols-2 {    grid-template-columns: repeat(2, minmax(0, 1fr));  }  .md\\\\:grid-cols-3 {    grid-template-columns: repeat(3, minmax(0, 1fr));  }  .md\\\\:grid-cols-4 {    grid-template-columns: repeat(4, minmax(0, 1fr));  }  .md\\\\:flex-row {    flex-direction: row;  }  .md\\\\:flex-col {    flex-direction: column;  }  .md\\\\:flex-wrap {    flex-wrap: wrap;  }  .md\\\\:flex-nowrap {    flex-wrap: nowrap;  }  .md\\\\:items-end {    align-items: flex-end;  }  .md\\\\:items-center {    align-items: center;  }  .md\\\\:justify-between {    justify-content: space-between;  }  .md\\\\:gap-11 {    gap: 2.75rem;  }  .md\\\\:gap-3 {    gap: 0.75rem;  }  .md\\\\:gap-4 {    gap: 1rem;  }  .md\\\\:gap-6 {    gap: 1.5rem;  }  .md\\\\:gap-7 {    gap: 1.75rem;  }  .md\\\\:gap-8 {    gap: 2rem;  }  .md\\\\:gap-y-10 {    row-gap: 2.5rem;  }  .md\\\\:rounded-lg {    border-radius: 0.5rem;  }  .md\\\\:rounded-t-xl {    border-top-left-radius: 0.75rem;    border-top-right-radius: 0.75rem;  }  .md\\\\:border-0 {    border-width: 0px;  }  .md\\\\:border-b {    border-bottom-width: 1px;  }  .md\\\\:border-r {    border-right-width: 1px;  }  .md\\\\:border-none {    border-style: none;  }  .md\\\\:border-white {    --tw-border-opacity: 1;    border-color: rgb(255 255 255 / var(--tw-border-opacity, 1));  }  .md\\\\:border-wl-neutral-500 {    --tw-border-opacity: 1;    border-color: rgb(114 114 114 / var(--tw-border-opacity, 1));  }  .md\\\\:bg-wl-neutral-0 {    --tw-bg-opacity: 1;    background-color: rgb(255 255 255 / var(--tw-bg-opacity, 1));  }  .md\\\\:p-3 {    padding: 0.75rem;  }  .md\\\\:p-6 {    padding: 1.5rem;  }  .md\\\\:p-8 {    padding: 2rem;  }  .md\\\\:\\\\!py-1 {    padding-top: 0.25rem !important;    padding-bottom: 0.25rem !important;  }  .md\\\\:\\\\!py-2 {    padding-top: 0.5rem !important;    padding-bottom: 0.5rem !important;  }  .md\\\\:\\\\!py-4 {    padding-top: 1rem !important;    padding-bottom: 1rem !important;  }  .md\\\\:px-0 {    padding-left: 0px;    padding-right: 0px;  }  .md\\\\:px-6 {    padding-left: 1.5rem;    padding-right: 1.5rem;  }  .md\\\\:py-1 {    padding-top: 0.25rem;    padding-bottom: 0.25rem;  }  .md\\\\:py-12 {    padding-top: 3rem;    padding-bottom: 3rem;  }  .md\\\\:py-2 {    padding-top: 0.5rem;    padding-bottom: 0.5rem;  }  .md\\\\:py-4 {    padding-top: 1rem;    padding-bottom: 1rem;  }  .md\\\\:pb-0 {    padding-bottom: 0px;  }  .md\\\\:pr-6 {    padding-right: 1.5rem;  }  .md\\\\:pr-8 {    padding-right: 2rem;  }  .md\\\\:pr-9 {    padding-right: 2.25rem;  }  .md\\\\:pt-6 {    padding-top: 1.5rem;  }  .md\\\\:text-2xl {    font-size: 1.5rem;    line-height: 2rem;  }  .md\\\\:text-4xl {    font-size: 2.25rem;    line-height: 2.5rem;  }  .md\\\\:text-5xl {    font-size: 3rem;    line-height: 1;  }  .md\\\\:text-lg {    font-size: 1.125rem;    line-height: 1.75rem;  }  .md\\\\:text-xl {    font-size: 1.25rem;    line-height: 1.75rem;  }  .md\\\\:leading-5 {    line-height: 1.25rem;  }  .md\\\\:leading-7 {    line-height: 1.75rem;  }  .md\\\\:leading-tight {    line-height: 1.25;  }  .md\\\\:tracking-normal {    letter-spacing: 0em;  }  .md\\\\:tracking-tight {    letter-spacing: -0.025em;  }  .md\\\\:tracking-tighter {    letter-spacing: -0.05em;  }  .md\\\\:transition-shadow {    transition-property: box-shadow;    transition-timing-function: cubic-bezier(0.4, 0, 0.2, 1);    transition-duration: 150ms;  }  .md\\\\:transition-transform {    transition-property: transform;    transition-timing-function: cubic-bezier(0.4, 0, 0.2, 1);    transition-duration: 150ms;  }  .md\\\\:duration-300 {    transition-duration: 300ms;  }  .md\\\\:im-web-core-heading-1 {    font-size: 3rem;    line-height: 3.75rem;    letter-spacing: -2.4px;    font-weight: 700;  }  .md\\\\:im-web-core-heading-2 {    font-size: 2.25rem;    line-height: 2.5rem;    letter-spacing: -0.9px;    font-weight: 700;  }  .md\\\\:im-web-core-paragraph {    font-size: 1.125rem;    line-height: 1.75rem;    font-weight: 400;  }  .md\\\\:im-web-core-description {    font-size: 0.875rem;    line-height: 1.25rem;    font-weight: 400;  }  .md\\\\:im-web-core-bold-description {    font-size: 0.875rem;    line-height: 1.25rem;    font-weight: 600;  }  .md\\\\:before\\\\:h-7::before {    content: var(--tw-content);    height: 1.75rem;  }  .md\\\\:hover\\\\:shadow-lg:hover {    --tw-shadow:  0 10px 15px -3px rgba(0, 0, 0, 0.1), 0 4px 6px -4px rgba(0, 0, 0, 0.1);    --tw-shadow-colored: 0 10px 15px -3px var(--tw-shadow-color), 0 4px 6px -4px var(--tw-shadow-color);    box-shadow: var(--tw-ring-offset-shadow, 0 0 #0000), var(--tw-ring-shadow, 0 0 #0000), var(--tw-shadow);  }  .group:hover .md\\\\:group-hover\\\\:scale-110 {    --tw-scale-x: 1.1;    --tw-scale-y: 1.1;    transform: translate(var(--tw-translate-x), var(--tw-translate-y)) rotate(var(--tw-rotate)) skewX(var(--tw-skew-x)) skewY(var(--tw-skew-y)) scaleX(var(--tw-scale-x)) scaleY(var(--tw-scale-y));  }  .peer:-moz-placeholder-shown ~ .md\\\\:peer-placeholder-shown\\\\:text-lg {    font-size: 1.125rem;    line-height: 1.75rem;  }  .peer:placeholder-shown ~ .md\\\\:peer-placeholder-shown\\\\:text-lg {    font-size: 1.125rem;    line-height: 1.75rem;  }  .peer:focus ~ .md\\\\:peer-focus\\\\:text-xs {    font-size: 0.75rem;    line-height: 1rem;  }}@media (min-width: 1024px) {  .lg\\\\:absolute {    position: absolute;  }  .lg\\\\:bottom-0 {    bottom: 0px;  }  .lg\\\\:right-0 {    right: 0px;  }  .lg\\\\:top-0 {    top: 0px;  }  .lg\\\\:top-2\\\\.5 {    top: 0.625rem;  }  .lg\\\\:order-1 {    order: 1;  }  .lg\\\\:order-2 {    order: 2;  }  .lg\\\\:col-auto {    grid-column: auto;  }  .lg\\\\:col-span-5 {    grid-column: span 5 / span 5;  }  .lg\\\\:col-start-5 {    grid-column-start: 5;  }  .lg\\\\:-mx-6 {    margin-left: -1.5rem;    margin-right: -1.5rem;  }  .lg\\\\:\\\\!mr-0 {    margin-right: 0px !important;  }  .lg\\\\:mb-0 {    margin-bottom: 0px;  }  .lg\\\\:ml-auto {    margin-left: auto;  }  .lg\\\\:mt-4 {    margin-top: 1rem;  }  .lg\\\\:block {    display: block;  }  .lg\\\\:flex {    display: flex;  }  .lg\\\\:hidden {    display: none;  }  .lg\\\\:size-44 {    width: 11rem;    height: 11rem;  }  .lg\\\\:h-5 {    height: 1.25rem;  }  .lg\\\\:h-6 {    height: 1.5rem;  }  .lg\\\\:h-7 {    height: 1.75rem;  }  .lg\\\\:h-9 {    height: 2.25rem;  }  .lg\\\\:h-\\\\[248px\\\\] {    height: 248px;  }  .lg\\\\:h-\\\\[432px\\\\] {    height: 432px;  }  .lg\\\\:max-h-6 {    max-height: 1.5rem;  }  .lg\\\\:max-h-\\\\[558px\\\\] {    max-height: 558px;  }  .lg\\\\:w-3\\\\/5 {    width: 60%;  }  .lg\\\\:w-5 {    width: 1.25rem;  }  .lg\\\\:w-\\\\[240px\\\\] {    width: 240px;  }  .lg\\\\:w-auto {    width: auto;  }  .lg\\\\:w-full {    width: 100%;  }  .lg\\\\:w-screen {    width: 100vw;  }  .lg\\\\:min-w-\\\\[300px\\\\] {    min-width: 300px;  }  .lg\\\\:max-w-\\\\[155px\\\\] {    max-width: 155px;  }  .lg\\\\:max-w-\\\\[297px\\\\] {    max-width: 297px;  }  .lg\\\\:max-w-\\\\[300px\\\\] {    max-width: 300px;  }  .lg\\\\:flex-auto {    flex: 1 1 auto;  }  .lg\\\\:translate-x-full {    --tw-translate-x: 100%;    transform: translate(var(--tw-translate-x), var(--tw-translate-y)) rotate(var(--tw-rotate)) skewX(var(--tw-skew-x)) skewY(var(--tw-skew-y)) scaleX(var(--tw-scale-x)) scaleY(var(--tw-scale-y));  }  .lg\\\\:grid-cols-\\\\[155px_1fr_1fr_1fr_68px\\\\] {    grid-template-columns: 155px 1fr 1fr 1fr 68px;  }  .lg\\\\:grid-cols-\\\\[232px_1fr_1fr_1fr_1fr_36px\\\\] {    grid-template-columns: 232px 1fr 1fr 1fr 1fr 36px;  }  .lg\\\\:grid-cols-\\\\[232px_1fr_1fr_1fr_36px\\\\] {    grid-template-columns: 232px 1fr 1fr 1fr 36px;  }  .lg\\\\:grid-cols-\\\\[232px_1fr_1fr_36px\\\\] {    grid-template-columns: 232px 1fr 1fr 36px;  }  .lg\\\\:grid-cols-\\\\[232px_1fr_36px\\\\] {    grid-template-columns: 232px 1fr 36px;  }  .lg\\\\:flex-row {    flex-direction: row;  }  .lg\\\\:flex-col {    flex-direction: column;  }  .lg\\\\:items-start {    align-items: flex-start;  }  .lg\\\\:items-end {    align-items: flex-end;  }  .lg\\\\:items-center {    align-items: center;  }  .lg\\\\:justify-start {    justify-content: flex-start;  }  .lg\\\\:justify-end {    justify-content: flex-end;  }  .lg\\\\:justify-center {    justify-content: center;  }  .lg\\\\:justify-between {    justify-content: space-between;  }  .lg\\\\:gap-0 {    gap: 0px;  }  .lg\\\\:gap-12 {    gap: 3rem;  }  .lg\\\\:gap-3 {    gap: 0.75rem;  }  .lg\\\\:gap-4 {    gap: 1rem;  }  .lg\\\\:gap-6 {    gap: 1.5rem;  }  .lg\\\\:gap-8 {    gap: 2rem;  }  .lg\\\\:overflow-x-auto {    overflow-x: auto;  }  .lg\\\\:border-b {    border-bottom-width: 1px;  }  .lg\\\\:border-l {    border-left-width: 1px;  }  .lg\\\\:border-none {    border-style: none;  }  .lg\\\\:\\\\!px-16 {    padding-left: 4rem !important;    padding-right: 4rem !important;  }  .lg\\\\:\\\\!py-3\\\\.5 {    padding-top: 0.875rem !important;    padding-bottom: 0.875rem !important;  }  .lg\\\\:px-0 {    padding-left: 0px;    padding-right: 0px;  }  .lg\\\\:px-1 {    padding-left: 0.25rem;    padding-right: 0.25rem;  }  .lg\\\\:px-14 {    padding-left: 3.5rem;    padding-right: 3.5rem;  }  .lg\\\\:px-16 {    padding-left: 4rem;    padding-right: 4rem;  }  .lg\\\\:px-4 {    padding-left: 1rem;    padding-right: 1rem;  }  .lg\\\\:px-6 {    padding-left: 1.5rem;    padding-right: 1.5rem;  }  .lg\\\\:py-0 {    padding-top: 0px;    padding-bottom: 0px;  }  .lg\\\\:py-0\\\\.5 {    padding-top: 0.125rem;    padding-bottom: 0.125rem;  }  .lg\\\\:py-2\\\\.5 {    padding-top: 0.625rem;    padding-bottom: 0.625rem;  }  .lg\\\\:py-3 {    padding-top: 0.75rem;    padding-bottom: 0.75rem;  }  .lg\\\\:py-3\\\\.5 {    padding-top: 0.875rem;    padding-bottom: 0.875rem;  }  .lg\\\\:py-5 {    padding-top: 1.25rem;    padding-bottom: 1.25rem;  }  .lg\\\\:py-6 {    padding-top: 1.5rem;    padding-bottom: 1.5rem;  }  .lg\\\\:py-8 {    padding-top: 2rem;    padding-bottom: 2rem;  }  .lg\\\\:pb-12 {    padding-bottom: 3rem;  }  .lg\\\\:pb-8 {    padding-bottom: 2rem;  }  .lg\\\\:pt-0 {    padding-top: 0px;  }  .lg\\\\:text-left {    text-align: left;  }  .lg\\\\:text-center {    text-align: center;  }  .lg\\\\:text-right {    text-align: right;  }  .lg\\\\:text-2xl {    font-size: 1.5rem;    line-height: 2rem;  }  .lg\\\\:text-3xl {    font-size: 1.875rem;    line-height: 2.25rem;  }  .lg\\\\:text-4xl {    font-size: 2.25rem;    line-height: 2.5rem;  }  .lg\\\\:text-5xl {    font-size: 3rem;    line-height: 1;  }  .lg\\\\:text-lg {    font-size: 1.125rem;    line-height: 1.75rem;  }  .lg\\\\:text-sm {    font-size: 0.875rem;    line-height: 1.25rem;  }  .lg\\\\:text-xs {    font-size: 0.75rem;    line-height: 1rem;  }  .lg\\\\:font-bold {    font-weight: 700;  }  .lg\\\\:leading-8 {    line-height: 2rem;  }  .lg\\\\:leading-9 {    line-height: 2.25rem;  }  .lg\\\\:im-web-core-heading-2 {    font-size: 2.25rem;    line-height: 2.5rem;    letter-spacing: -0.9px;    font-weight: 700;  }  .lg\\\\:im-web-core-heading-3 {    font-size: 1.5rem;    line-height: 2rem;    letter-spacing: -0.6px;    font-weight: 600;  }  .lg\\\\:im-web-core-subtitle {    font-size: 1.25rem;    line-height: 1.75rem;    letter-spacing: -0.5px;    font-weight: 500;  }  .lg\\\\:im-web-core-paragraph {    font-size: 1.125rem;    line-height: 1.75rem;    font-weight: 400;  }  .lg\\\\:im-web-core-bold-paragraph {    font-size: 1.125rem;    line-height: 1.75rem;    font-weight: 700;  }  .lg\\\\:im-web-core-description {    font-size: 0.875rem;    line-height: 1.25rem;    font-weight: 400;  }  .lg\\\\:im-web-core-bold-description {    font-size: 0.875rem;    line-height: 1.25rem;    font-weight: 600;  }  .lg\\\\:im-web-core-link-description {    font-size: 0.875rem;    line-height: 1.25rem;    font-weight: 400;    text-decoration: underline;  }  .lg\\\\:im-web-core-caption {    font-size: 0.75rem;    line-height: 1rem;    font-weight: 400;  }  .lg\\\\:im-web-core-link-caption {    font-size: 0.75rem;    line-height: 1rem;    font-weight: 600;    text-decoration: underline;  }  .first\\\\:lg\\\\:im-web-core-bold-paragraph:first-child {    font-size: 1.125rem;    line-height: 1.75rem;    font-weight: 700;  }  .lg\\\\:hover\\\\:bg-wl-neutral-100:hover {    --tw-bg-opacity: 1;    background-color: rgb(238 238 238 / var(--tw-bg-opacity, 1));  }  .lg\\\\:hover\\\\:drop-shadow-lg:hover {    --tw-drop-shadow: drop-shadow(0 10px 8px rgb(0 0 0 / 0.04)) drop-shadow(0 4px 3px rgb(0 0 0 / 0.1));    filter: var(--tw-blur) var(--tw-brightness) var(--tw-contrast) var(--tw-grayscale) var(--tw-hue-rotate) var(--tw-invert) var(--tw-saturate) var(--tw-sepia) var(--tw-drop-shadow);  }}@media (min-width: 1280px) {  .xl\\\\:block {    display: block;  }  .xl\\\\:px-0 {    padding-left: 0px;    padding-right: 0px;  }}.\\\\[\\\\&\\\\:not\\\\(\\\\:last-child\\\\)\\\\]\\\\:border-b-2:not(:last-child) {  border-bottom-width: 2px;}.invalid\\\\:\\\\[\\\\&\\\\:not\\\\(\\\\:-moz-placeholder-shown\\\\)\\\\:focus\\\\]\\\\:outline-red-600:not(:-moz-placeholder-shown):focus:invalid {  outline-color: #dc2626;}.invalid\\\\:\\\\[\\\\&\\\\:not\\\\(\\\\:placeholder-shown\\\\)\\\\:focus\\\\]\\\\:outline-red-600:not(:placeholder-shown):focus:invalid {  outline-color: #dc2626;}.invalid\\\\:\\\\[\\\\&\\\\:not\\\\(\\\\:-moz-placeholder-shown\\\\)\\\\:not\\\\(\\\\:focus\\\\)\\\\]\\\\:border-red-600:not(:-moz-placeholder-shown):not(:focus):invalid {  --tw-border-opacity: 1;  border-color: rgb(220 38 38 / var(--tw-border-opacity, 1));}.invalid\\\\:\\\\[\\\\&\\\\:not\\\\(\\\\:placeholder-shown\\\\)\\\\:not\\\\(\\\\:focus\\\\)\\\\]\\\\:border-red-600:not(:placeholder-shown):not(:focus):invalid {  --tw-border-opacity: 1;  border-color: rgb(220 38 38 / var(--tw-border-opacity, 1));}.peer:invalid ~ .peer-invalid\\\\:\\\\[\\\\&\\\\:not\\\\(\\\\:-moz-placeholder-shown\\\\)\\\\:not\\\\(\\\\:focus\\\\)\\\\]\\\\:text-red-600:not(:-moz-placeholder-shown):not(:focus) {  --tw-text-opacity: 1;  color: rgb(220 38 38 / var(--tw-text-opacity, 1));}.peer:invalid ~ .peer-invalid\\\\:\\\\[\\\\&\\\\:not\\\\(\\\\:placeholder-shown\\\\)\\\\:not\\\\(\\\\:focus\\\\)\\\\]\\\\:text-red-600:not(:placeholder-shown):not(:focus) {  --tw-text-opacity: 1;  color: rgb(220 38 38 / var(--tw-text-opacity, 1));}.\\\\[\\\\&\\\\>\\\\*\\\\:first-child\\\\]\\\\:pl-0>*:first-child {  padding-left: 0px;}.\\\\[\\\\&\\\\>\\\\*\\\\:last-child\\\\]\\\\:pr-0>*:last-child {  padding-right: 0px;}.\\\\[\\\\&\\\\>\\\\*\\\\]\\\\:shrink>* {  flex-shrink: 1;}.\\\\[\\\\&\\\\>\\\\*\\\\]\\\\:basis-1\\\\/3>* {  flex-basis: 33.333333%;}.\\\\[\\\\&\\\\>\\\\*\\\\]\\\\:basis-1\\\\/4>* {  flex-basis: 25%;}.\\\\[\\\\&\\\\>\\\\]\\\\:border-wl-neutral-200> {  --tw-border-opacity: 1;  border-color: rgb(229 229 229 / var(--tw-border-opacity, 1));}.\\\\[\\\\&\\\\>a\\\\]\\\\:text-wl-action-link>a {  --tw-text-opacity: 1;  color: rgb(0 111 216 / var(--tw-text-opacity, 1));}.\\\\[\\\\&\\\\>a\\\\]\\\\:underline>a {  text-decoration-line: underline;}.\\\\[\\\\&\\\\>a\\\\]\\\\:hover\\\\:text-wl-action-link-hover:hover>a {  --tw-text-opacity: 1;  color: rgb(23 99 170 / var(--tw-text-opacity, 1));}.\\\\[\\\\&\\\\>li\\\\]\\\\:flex>li {  display: flex;}.\\\\[\\\\&\\\\>svg\\\\]\\\\:h-full>svg {  height: 100%;}.\\\\[\\\\&\\\\>svg\\\\]\\\\:w-full>svg {  width: 100%;}.\\\\[\\\\&_\\\\+_p\\\\]\\\\:mt-4 + p {  margin-top: 1rem;}.\\\\[\\\\&_a\\\\]\\\\:pointer-events-none a {  pointer-events: none;}.\\\\[\\\\&_a\\\\]\\\\:text-wl-action-link a {  --tw-text-opacity: 1;  color: rgb(0 111 216 / var(--tw-text-opacity, 1));}.\\\\[\\\\&_a\\\\]\\\\:underline a {  text-decoration-line: underline;}.\\\\[\\\\&_a\\\\]\\\\:hover\\\\:text-wl-action-link-hover:hover a {  --tw-text-opacity: 1;  color: rgb(23 99 170 / var(--tw-text-opacity, 1));}.\\\\[\\\\&_iframe\\\\]\\\\:mx-auto iframe {  margin-left: auto;  margin-right: auto;}\\n</style>\\n<style id=\\'wp-emoji-styles-inline-css\\'>\\n\\n\\timg.wp-smiley, img.emoji {\\n\\t\\tdisplay: inline !important;\\n\\t\\tborder: none !important;\\n\\t\\tbox-shadow: none !important;\\n\\t\\theight: 1em !important;\\n\\t\\twidth: 1em !important;\\n\\t\\tmargin: 0 0.07em !important;\\n\\t\\tvertical-align: -0.1em !important;\\n\\t\\tbackground: none !important;\\n\\t\\tpadding: 0 !important;\\n\\t}\\n</style>\\n<link rel=\\'stylesheet\\' id=\\'mediaelement-css\\' href=\\'https://www.infomoney.com.br/wp-includes/js/mediaelement/mediaelementplayer-legacy.min.css?ver=4.2.17\\' media=\\'all\\' />\\n<link rel=\\'stylesheet\\' id=\\'wp-mediaelement-css\\' href=\\'https://www.infomoney.com.br/wp-includes/js/mediaelement/wp-mediaelement.min.css?ver=6.7.2\\' media=\\'all\\' />\\n<style id=\\'jetpack-sharing-buttons-style-inline-css\\'>\\n.jetpack-sharing-buttons__services-list{display:flex;flex-direction:row;flex-wrap:wrap;gap:0;list-style-type:none;margin:5px;padding:0}.jetpack-sharing-buttons__services-list.has-small-icon-size{font-size:12px}.jetpack-sharing-buttons__services-list.has-normal-icon-size{font-size:16px}.jetpack-sharing-buttons__services-list.has-large-icon-size{font-size:24px}.jetpack-sharing-buttons__services-list.has-huge-icon-size{font-size:36px}@media print{.jetpack-sharing-buttons__services-list{display:none!important}}.editor-styles-wrapper .wp-block-jetpack-sharing-buttons{gap:0;padding-inline-start:0}ul.jetpack-sharing-buttons__services-list.has-background{padding:1.25em 2.375em}\\n</style>\\n<style id=\\'elasticpress-facet-style-inline-css\\'>\\n.widget_ep-facet input[type=search],.wp-block-elasticpress-facet input[type=search]{margin-bottom:1rem}.widget_ep-facet .searchable .inner,.wp-block-elasticpress-facet .searchable .inner{max-height:20em;overflow:scroll}.widget_ep-facet .term.hide,.wp-block-elasticpress-facet .term.hide{display:none}.widget_ep-facet .empty-term,.wp-block-elasticpress-facet .empty-term{opacity:.5;position:relative}.widget_ep-facet .empty-term:after,.wp-block-elasticpress-facet .empty-term:after{bottom:0;content:\" \";display:block;left:0;position:absolute;right:0;top:0;width:100%;z-index:2}.widget_ep-facet .level-1,.wp-block-elasticpress-facet .level-1{padding-left:20px}.widget_ep-facet .level-2,.wp-block-elasticpress-facet .level-2{padding-left:40px}.widget_ep-facet .level-3,.wp-block-elasticpress-facet .level-3{padding-left:60px}.widget_ep-facet .level-4,.wp-block-elasticpress-facet .level-4{padding-left:5pc}.widget_ep-facet .level-5,.wp-block-elasticpress-facet .level-5{padding-left:75pt}.widget_ep-facet input[disabled],.wp-block-elasticpress-facet input[disabled]{cursor:pointer;opacity:1}.widget_ep-facet .term a,.wp-block-elasticpress-facet .term a{-webkit-box-align:center;-ms-flex-align:center;align-items:center;display:-webkit-box;display:-ms-flexbox;display:flex;position:relative}.widget_ep-facet .term a:hover .ep-checkbox,.wp-block-elasticpress-facet .term a:hover .ep-checkbox{background-color:#ccc}.ep-checkbox{-webkit-box-align:center;-ms-flex-align:center;-ms-flex-negative:0;-webkit-box-pack:center;-ms-flex-pack:center;align-items:center;background-color:#eee;display:-webkit-box;display:-ms-flexbox;display:flex;flex-shrink:0;height:1em;justify-content:center;margin-right:.25em;width:1em}.ep-checkbox:after{border:solid #fff;border-width:0 .125em .125em 0;content:\"\";display:none;height:.5em;-webkit-transform:rotate(45deg);transform:rotate(45deg);width:.25em}.ep-checkbox.checked{background-color:#5e5e5e}.ep-checkbox.checked:after{display:block}\\n\\n</style>\\n<link rel=\\'stylesheet\\' id=\\'elasticpress-related-posts-block-css\\' href=\\'https://www.infomoney.com.br/wp-content/mu-plugins/search/elasticpress/dist/css/related-posts-block-styles.min.css?ver=4.2.2\\' media=\\'all\\' />\\n<script src=\"https://www.infomoney.com.br/wp-includes/js/dist/vendor/react.min.js?ver=18.3.1.1\" id=\"react-js\"></script>\\n<script src=\"https://www.infomoney.com.br/wp-includes/js/dist/vendor/react-dom.min.js?ver=18.3.1.1\" id=\"react-dom-js\"></script>\\n<script src=\"https://www.infomoney.com.br/wp-includes/js/dist/hooks.min.js?ver=4d63a3d491d11ffd8ac6\" id=\"wp-hooks-js\"></script>\\n<script src=\"https://www.infomoney.com.br/wp-includes/js/dist/i18n.min.js?ver=5e580eb46a90c2b997e6\" id=\"wp-i18n-js\"></script>\\n<script id=\"wp-i18n-js-after\">\\nwp.i18n.setLocaleData( { \\'text direction\\\\u0004ltr\\': [ \\'ltr\\' ] } );\\n</script>\\n<script src=\"https://www.infomoney.com.br/wp-includes/js/dist/vendor/wp-polyfill.min.js?ver=3.15.0\" id=\"wp-polyfill-js\"></script>\\n<script src=\"https://www.infomoney.com.br/wp-includes/js/dist/url.min.js?ver=e87eb76272a3a08402d2\" id=\"wp-url-js\"></script>\\n<script id=\"wp-api-fetch-js-translations\">\\n( function( domain, translations ) {\\n\\tvar localeData = translations.locale_data[ domain ] || translations.locale_data.messages;\\n\\tlocaleData[\"\"].domain = domain;\\n\\twp.i18n.setLocaleData( localeData, domain );\\n} )( \"default\", {\"translation-revision-date\":\"2021-09-08 17:30:20+0000\",\"generator\":\"GlotPress\\\\/3.0.0-alpha.2\",\"domain\":\"messages\",\"locale_data\":{\"messages\":{\"\":{\"domain\":\"messages\",\"plural-forms\":\"nplurals=2; plural=n > 1;\",\"lang\":\"pt_BR\"},\"You are probably offline.\":[\"Voc\\\\u00ea provavelmente est\\\\u00e1 offline.\"],\"Media upload failed. If this is a photo or a large image, please scale it down and try again.\":[\"Falha ao enviar a m\\\\u00eddia. Se for uma foto ou imagem grande, reduza o tamanho e tente novamente.\"],\"The response is not a valid JSON response.\":[\"A resposta n\\\\u00e3o \\\\u00e9 um JSON v\\\\u00e1lido.\"],\"An unknown error occurred.\":[\"Um erro desconhecido ocorreu.\"]}},\"comment\":{\"reference\":\"wp-includes\\\\/js\\\\/dist\\\\/api-fetch.js\"}} );\\n</script>\\n<script src=\"https://www.infomoney.com.br/wp-includes/js/dist/api-fetch.min.js?ver=d387b816bc1ed2042e28\" id=\"wp-api-fetch-js\"></script>\\n<script id=\"wp-api-fetch-js-after\">\\nwp.apiFetch.use( wp.apiFetch.createRootURLMiddleware( \"https://www.infomoney.com.br/wp-json/\" ) );\\nwp.apiFetch.nonceMiddleware = wp.apiFetch.createNonceMiddleware( \"7c1e25d2d0\" );\\nwp.apiFetch.use( wp.apiFetch.nonceMiddleware );\\nwp.apiFetch.use( wp.apiFetch.mediaUploadMiddleware );\\nwp.apiFetch.nonceEndpoint = \"https://www.infomoney.com.br/wp-admin/admin-ajax.php?action=rest-nonce\";\\n</script>\\n<script defer src=\"https://www.infomoney.com.br/wp-content/themes/infomoney/v2/build/single-post.js?ver=cc1a806daab48180eb21\" id=\"single-defer-js\"></script>\\n<script async src=\"https://securepubads.g.doubleclick.net/tag/js/gpt.js?ver=cc1a806daab48180eb21\" id=\"infomoney-googletagservices-async-js\" data-wp-strategy=\"async\"></script>\\n<script async src=\"https://www.infomoney.com.br/wp-content/themes/infomoney/js/prebid7.54.0-min.js?ver=cc1a806daab48180eb21\" id=\"infomoney-prebid-async-js\"></script>\\n<link rel=\"https://api.w.org/\" href=\"https://www.infomoney.com.br/wp-json/\" /><link rel=\"alternate\" title=\"JSON\" type=\"application/json\" href=\"https://www.infomoney.com.br/wp-json/wp/v2/posts/1360794\" /><link rel=\"EditURI\" type=\"application/rsd+xml\" title=\"RSD\" href=\"https://www.infomoney.com.br/xmlrpc.php?rsd\" />\\n<meta name=\"generator\" content=\"WordPress 6.7.2\" />\\n<link rel=\\'shortlink\\' href=\\'https://www.infomoney.com.br/?p=1360794\\' />\\n<link rel=\"alternate\" title=\"oEmbed (JSON)\" type=\"application/json+oembed\" href=\"https://www.infomoney.com.br/wp-json/oembed/1.0/embed?url=https%3A%2F%2Fwww.infomoney.com.br%2Fpolitica%2F10-pontos-para-entender-a-mp-905-e-por-que-ela-pode-ser-contestada-judicialmente%2F\" />\\n<link rel=\"alternate\" title=\"oEmbed (XML)\" type=\"text/xml+oembed\" href=\"https://www.infomoney.com.br/wp-json/oembed/1.0/embed?url=https%3A%2F%2Fwww.infomoney.com.br%2Fpolitica%2F10-pontos-para-entender-a-mp-905-e-por-que-ela-pode-ser-contestada-judicialmente%2F&#038;format=xml\" />\\n\\t<style>img#wpstats{display:none}</style>\\n\\t\\t<link rel=\"amphtml\" href=\"https://www.infomoney.com.br/politica/10-pontos-para-entender-a-mp-905-e-por-que-ela-pode-ser-contestada-judicialmente/amp/\"><link rel=\"icon\" href=\"https://www.infomoney.com.br/wp-content/uploads/2019/10/IM-Favicon.png?fit=32%2C32&#038;quality=70&#038;strip=all\" sizes=\"32x32\" />\\n<link rel=\"icon\" href=\"https://www.infomoney.com.br/wp-content/uploads/2019/10/IM-Favicon.png?fit=128%2C128&#038;quality=70&#038;strip=all\" sizes=\"192x192\" />\\n<link rel=\"apple-touch-icon\" href=\"https://www.infomoney.com.br/wp-content/uploads/2019/10/IM-Favicon.png?fit=128%2C128&#038;quality=70&#038;strip=all\" />\\n<meta name=\"msapplication-TileImage\" content=\"https://www.infomoney.com.br/wp-content/uploads/2019/10/IM-Favicon.png?fit=128%2C128&#038;quality=70&#038;strip=all\" />\\n                    <script>\\n            window = window || {};\\n            window.googletag = {cmd: []};\\n            window.baseDataAnalytics = {\"tagging_version\":\"v2\",\"page\":{\"page_location\":\"https:\\\\/\\\\/www.infomoney.com.br\\\\/politica\\\\/10-pontos-para-entender-a-mp-905-e-por-que-ela-pode-ser-contestada-judicialmente\\\\/\",\"page_title\":\"Reforma Trabalhista de Bolsonaro: entenda a MP 905 - e por que ela pode ser contestada judicialmente\",\"category_primary\":\"Pol\\\\u00edtica\",\"category_secondary\":\"Economia\",\"tags\":\"CLT,Governo,Medida Provis\\\\u00f3ria\",\"author\":\"Pablo Santana\",\"id_article\":\"1360794\",\"dt_create\":\"2019-11-14\",\"dt_update\":\"2020-03-04\",\"content_type\":\"post\",\"word_count\":\"1286\"},\"user\":{\"user_id\":\"undefined\"}};\\n            window.pbjs = {};\\n            window.InfoMoneyPage = {\"primaryCategory\":\"Pol\\\\u00edtica\",\"tags\":[\"CLT\",\"Governo\",\"Medida Provis\\\\u00f3ria\"],\"host_name\":\"infomoney.com.br\",\"environment_tag\":\"prd\",\"googletagmanager_id\":\"GTM-T8M3XX2\",\"segment_key\":\"8vaBEpSZwImjrkWkH4bIrH2e68A9SwSa\",\"chartbeat_key\":\"66259\",\"base_api_user_manager\":\"https:\\\\/\\\\/apis.xpi.com.br\\\\/usermanager\\\\/api\\\\/v1\\\\/\"};\\n        </script>\\n                            <script>\\n            window = window || {};\\n            window.LgpdProxy = {\"baseUrl\":\"https:\\\\/\\\\/api-infomoney.xpi.com.br\\\\/mkt-infomoney-lgpd-proxy-apim\\\\/v1\",\"subscriptionKey\":\"2fffc27e83b94e829f9f8a3c71a40c6f\"};\\n        </script>\\n                </head>\\n\\n        <body class=\"font-im-sans antialiased color-im-base-darker\">\\n\\n                                    <div data-component-type=\"ads\" data-ads-type=\"OutOfPage\"></div>\\n                    \\n                    <header data-ds-component=\"header\" id=\"siteHeader\">\\n            <div class=\"font-im-sans antialiased bg-wl-neutral-950 w-full\">\\n                <div data-ds-element=\"header-main\"\\n                    class=\"flex justify-between items-center  bg-wl-neutral-950  text-wl-white !px-6 lg:!px-16 !py-4\">\\n                    <div class=\"flex items-center\">\\n                        <button type=\"button\" tabindex=\"0\" class=\"!mr-4\" data-ds-element=\"menu-toggle\" aria-label=\"Menu\">\\n                            <span class=\"sr-only\">Menu</span>\\n                            <div class=\"w-6 h-6 lg:w-5 lg:h-5 \">\\n                                <div data-ds-element=\"icon\">\\n                                    <div data-ds-element=\"menu-hamburger\" title=\"Menu\">\\n                                        <span class=\"w-full h-full [&amp;&gt;svg]:w-full [&amp;&gt;svg]:h-full\" ><svg width=\"24\" height=\"24\" viewBox=\"0 0 24 24\" fill=\"currentColor\" xmlns=\"http://www.w3.org/2000/svg\">\\n\\n<path d=\"M3 17H21C21.5523 17 22 17.4477 22 18C22 18.5128 21.614 18.9355 21.1166 18.9933L21 19H3C2.44772 19 2 18.5523 2 18C2 17.4872 2.38604 17.0645 2.88338 17.0067L3 17H21H3ZM2.99988 11L20.9999 10.9978C21.5522 10.9978 22 11.4454 22 11.9977C22 12.5106 21.6141 12.9333 21.1167 12.9911L21.0001 12.9978L3.00012 13C2.44784 13.0001 2 12.5524 2 12.0001C2 11.4873 2.38594 11.0646 2.88326 11.0067L2.99988 11L20.9999 10.9978L2.99988 11ZM3 5H21C21.5523 5 22 5.44772 22 6C22 6.51284 21.614 6.93551 21.1166 6.99327L21 7H3C2.44772 7 2 6.55228 2 6C2 5.48716 2.38604 5.06449 2.88338 5.00673L3 5H21H3Z\" fill=\"currentColor\"/>\\n\\n</svg>\\n\\n </span>                                    </div>\\n                                    <div data-ds-element=\"menu-close\" class=\"hidden\">\\n                                        <span class=\"w-full h-full [&amp;&gt;svg]:w-full [&amp;&gt;svg]:h-full\" ><svg\\n    width=\"24\"\\n    height=\"24\"\\n    viewBox=\"0 0 24 24\"\\n    fill=\"none\"\\n    xmlns=\"http://www.w3.org/2000/svg\"\\n>\\n    <g clip-path=\"url(#clip0_789_536)\">\\n        <g clip-path=\"url(#clip1_789_536)\">\\n            <path\\n                d=\"M4.39705 4.7751L4.46967 4.69098C4.73594 4.42472 5.1526 4.40051 5.44621 4.61837L5.53033 4.69098L12 11.1603L18.4697 4.69098C18.7626 4.39809 19.2374 4.39809 19.5303 4.69098C19.8232 4.98388 19.8232 5.45875 19.5303 5.75164L13.061 12.2213L19.5303 18.691C19.7966 18.9572 19.8208 19.3739 19.6029 19.6675L19.5303 19.7516C19.2641 20.0179 18.8474 20.0421 18.5538 19.8243L18.4697 19.7516L12 13.2823L5.53033 19.7516C5.23744 20.0445 4.76256 20.0445 4.46967 19.7516C4.17678 19.4588 4.17678 18.9839 4.46967 18.691L10.939 12.2213L4.46967 5.75164C4.2034 5.48538 4.1792 5.06871 4.39705 4.7751L4.46967 4.69098L4.39705 4.7751Z\"\\n                fill=\"currentColor\"\\n            />\\n        </g>\\n    </g>\\n    <defs>\\n        <clipPath id=\"clip0_789_536\">\\n            <rect width=\"24\" height=\"24\" fill=\"currentColor\" />\\n        </clipPath>\\n        <clipPath id=\"clip1_789_536\">\\n            <rect width=\"24\" height=\"24\" fill=\"currentColor\" />\\n        </clipPath>\\n    </defs>\\n</svg>\\n</span>                                    </div>\\n                                </div>\\n                            </div>\\n                        </button>\\n                    </div>\\n                    <div class=\"mr-auto lg:!mr-0\">\\n                                <a href=\"https://www.infomoney.com.br\" tabindex=\"0\" aria-label=\"Home\">\\n            <div class=\"h-6 lg:h-9\">\\n                <svg viewBox=\"0 0 431 100\" fill=\"none\" xmlns=\"http://www.w3.org/2000/svg\" class=\"h-full\">\\n                    <path fill-rule=\"evenodd\" clip-rule=\"evenodd\"\\n                        d=\"M290.856 28.864h-10.354s-5.869 20.277-6.976 22.715c0 0-6.589-17.895-7.586-22.715h-10.631s5.094 17.562 13.289 33.02c-.665 1.662-1.772 3.047-3.267 3.989-.72.443-1.495.775-2.326 1.052-.83.222-1.716.277-2.602.277h-3.71v8.31h6.202a16.4 16.4 0 0 0 2.381-.332c3.377-.72 6.422-2.549 8.582-5.263 9.136-10.859 16.888-40.942 16.888-40.942M178.29 52.853c-1.218 1.718-2.99 2.604-5.26 2.604s-4.042-.886-5.26-2.604c-1.218-1.773-1.883-4.1-1.883-7.091s.609-5.319 1.883-7.036c1.218-1.718 2.99-2.549 5.26-2.549s3.987.831 5.26 2.549c1.218 1.717 1.827 4.044 1.827 7.036s-.609 5.318-1.827 7.091m7.198-20.055c-1.55-1.552-3.377-2.826-5.426-3.601-2.104-.831-4.43-1.275-6.977-1.275s-4.817.444-6.921 1.275c-2.049.83-3.931 2.05-5.482 3.6-1.55 1.552-2.713 3.436-3.599 5.652-.885 2.216-1.273 4.653-1.273 7.313 0 2.659.443 5.152 1.273 7.368.831 2.216 2.049 4.155 3.544 5.706 1.495 1.607 3.322 2.77 5.426 3.657 2.104.831 4.43 1.274 7.032 1.274s4.984-.443 7.088-1.33c2.048-.83 3.931-2.05 5.426-3.656 1.495-1.551 2.658-3.49 3.488-5.706s1.218-4.654 1.218-7.369-.443-5.097-1.273-7.313a16.4 16.4 0 0 0-3.544-5.65m34.108-.389c-1.163-1.44-2.769-2.493-4.762-3.324q-2.99-1.163-7.475-1.163c-2.99 0-5.814.221-8.472.61-2.713.443-4.872.886-6.588 1.384v33.906h10.021V36.676c.609-.111 1.329-.166 2.16-.222.83-.055 1.55-.11 2.27-.11 2.325 0 3.931.664 4.762 1.994s1.273 3.601 1.273 6.814v18.615h10.022V43.933c0-2.382-.277-4.598-.72-6.537-.498-1.939-1.329-3.657-2.491-5.041m-78.902-8.808a266 266 0 0 0-3.267 6.925c-1.107 2.493-2.27 4.986-3.377 7.59-1.108 2.604-2.16 5.041-3.101 7.313-.997-2.272-1.993-4.71-3.156-7.313-1.107-2.549-2.215-5.097-3.378-7.59-1.052-2.327-2.159-4.599-3.266-6.925-.886-1.829-1.772-3.601-2.769-5.374h-10.963v45.595h10.465V37.064l1.218 2.548c.997 2.216 1.938 4.488 2.879 6.704s1.883 4.377 2.769 6.426l2.27 5.208h7.253a332 332 0 0 1 2.27-5.208c.886-2.05 1.828-4.155 2.769-6.426.941-2.216 1.938-4.488 2.879-6.704.388-.886.775-1.717 1.107-2.548v26.703h10.465V18.172h-10.354s-1.772 3.324-2.768 5.374\"\\n                        fill=\"#fff\" />\\n                    <path fill-rule=\"evenodd\" clip-rule=\"evenodd\"\\n                        d=\"M234.545 39.945c.277-.776.665-1.496 1.219-2.106.553-.61 1.162-1.108 1.937-1.44.776-.388 1.772-.554 2.824-.554s2.104.221 2.88.61A6.04 6.04 0 0 1 246.45 40c.221.776.387 1.607.443 2.382h-12.957c.111-.83.333-1.662.609-2.437m8.915 15.567c-2.824 0-5.039-.554-6.7-1.772-1.661-1.164-2.602-2.77-2.824-4.71h22.259c0-.554.111-1.108.111-1.773s.055-1.274.055-1.828c0-5.762-1.44-10.083-4.263-13.074-2.88-2.937-6.756-4.433-11.683-4.433-4.928 0-4.208.388-6.146 1.164-1.994.776-3.766 1.939-5.316 3.435s-2.768 3.38-3.71 5.65c-.941 2.272-1.384 4.931-1.384 7.923s.388 4.82 1.107 6.98c.665 2.106 1.828 3.99 3.378 5.596 1.495 1.607 3.433 2.826 5.703 3.712 2.326.887 5.039 1.385 8.139 1.385 3.101 0 2.437-.055 3.71-.221 1.274-.167 2.381-.277 3.433-.499a82 82 0 0 0 2.935-.665c.277-.055.498-.166.775-.277V53.74c-1.108.498-2.492.886-4.208 1.163s-3.489.499-5.316.499M42.081 32.355c-1.163-1.441-2.769-2.494-4.762-3.325-1.993-.775-4.485-1.163-7.53-1.163s-5.814.221-8.472.61c-2.713.443-4.872.886-6.589 1.384v33.906H24.75V36.676c.61-.111 1.33-.166 2.16-.222s1.55-.11 2.27-.11c2.325 0 3.931.664 4.761 1.994s1.274 3.601 1.274 6.814v18.615h10.022V43.933c0-2.382-.277-4.598-.72-6.537-.498-1.939-1.329-3.657-2.492-5.041m50.497 20.498c-1.218 1.718-2.99 2.604-5.26 2.604s-4.042-.886-5.26-2.604c-1.218-1.773-1.882-4.1-1.882-7.091s.609-5.319 1.882-7.036c1.274-1.718 2.99-2.549 5.26-2.549s4.042.831 5.26 2.549c1.219 1.717 1.828 4.044 1.828 7.036s-.61 5.318-1.828 7.091m7.143-20.055c-1.55-1.552-3.377-2.826-5.426-3.601-2.104-.831-4.43-1.275-6.977-1.275s-4.761.444-6.92 1.275c-2.05.83-3.932 2.05-5.482 3.6-1.55 1.552-2.713 3.436-3.6 5.652q-1.328 3.323-1.328 7.313c0 2.659.443 5.152 1.273 7.368s2.049 4.155 3.544 5.706c1.495 1.607 3.322 2.77 5.426 3.657 2.104.831 4.43 1.274 7.032 1.274q3.903 0 7.143-1.33a15.7 15.7 0 0 0 5.426-3.656c1.495-1.551 2.658-3.49 3.488-5.706s1.218-4.654 1.218-7.369-.443-5.097-1.273-7.313c-.831-2.216-1.993-4.1-3.544-5.65M0 63.766h9.856V18.172H0z\"\\n                        fill=\"#fff\" />\\n                    <path fill-rule=\"evenodd\" clip-rule=\"evenodd\"\\n                        d=\"M59.578 29.03c0-1.33.83-2.548 1.993-3.102.055 0 .11-.056.166-.11.11-.056.277-.112.388-.167.83-.277 1.66-.222 2.547-.222h7.198v-8.2H61.35c-6.645 0-12.071 5.209-12.126 11.635v34.959h10.243V41.108h11.019v-8.089H59.467v-3.933z\"\\n                        fill=\"#fff\" />\\n                    <path\\n                        d=\"m292.296 77.673-.83-2.216 20.985-20.83c10.631-10.472 14.23-17.674 14.23-24.433s-6.368-12.964-14.23-12.964c-7.863 0-13.123 3.435-16.666 9.363l-2.215-.831c3.71-13.961 17.386-22.77 32.557-22.77S351.21 11.8 351.21 20.499s-5.371 13.795-21.262 25.817L315.33 57.34h22.757c7.752 0 14.23-4.432 17.109-12.3h2.492l-7.198 32.577h-58.194zm69.378 5.374c0-5.817 4.263-10.36 9.911-10.36s9.634 2.88 10.354 10.637c.941 10.194 3.045 13.795 9.524 13.795s13.953-7.036 13.953-20.277c0-13.24-7.586-19.89-17.774-19.89s-12.015 2.217-15.614 6.095l-6.091-3.601 6.479-54.072h38.038c8.14 0 11.573-1.94 13.123-5.374h2.215l-5.537 25.817h-47.009l-1.938 17.507c6.478-4.71 14.341-7.867 25.083-7.867 19.6 0 34.052 12.3 34.052 30.194 0 17.895-17.497 34.349-39.423 34.349s-29.346-9.806-29.346-16.953\"\\n                        fill=\"#FD5E04\" />\\n                </svg>\\n            </div>\\n        </a>\\n                            </div>\\n                    <div data-ds-element=\"cta\">\\n                                                    <div class=\"lg:hidden\">\\n                                        <a class=\"flex items-center text-center gap-2 justify-center rounded-full shrink-0 text-white disabled:text-wl-neutral-400 bg-wl-action-link hover:bg-wl-action-link-hover disabled:bg-wl-neutral-200 px-6 py-2 text-sm font-medium\" data-ds-component=\"button\" data-ds-variant=\"primary\" aria-label=\"Planilha de FIIs\" tabindex=\"0\" href=\"https://xpg.redplatform.com.br/r/infomoney/planilha-viver-de-renda?utm_source=infomoney&utm_medium=botao&utm_campaign=pfi&utm_term=hiperlink&utm_content=header\" target=\"_blank\">\\n            Planilha de FIIs                    </a>\\n                                    </div>\\n                            <div class=\"hidden lg:block\">\\n                                        <a class=\"flex items-center text-center gap-2 justify-center rounded-full shrink-0 text-white disabled:text-wl-neutral-400 bg-wl-action-link hover:bg-wl-action-link-hover disabled:bg-wl-neutral-200 px-6 py-2 text-sm font-medium\" data-ds-component=\"button\" data-ds-variant=\"primary\" aria-label=\"Planilha de FIIs\" tabindex=\"0\" href=\"https://xpg.redplatform.com.br/r/infomoney/planilha-viver-de-renda?utm_source=infomoney&utm_medium=botao&utm_campaign=pfi&utm_term=hiperlink&utm_content=header\" target=\"_blank\">\\n            Planilha de FIIs                    </a>\\n                                    </div>\\n                                            </div>\\n                </div>\\n                        <div data-ds-component=\"side-menu\" class=\"relative h-max text-base z-10 lg:text-lg\">\\n            <div data-ds-element=\"menu-drawer\"\\n                class=\"fixed overflow-x-hidden scrollbar-thin left-0 w-full max-w-[393px] transition-all overflow-y-scroll duration-200 transform -translate-x-full bg-white shadow-lg\">\\n                <div data-ds-element=\"menu-screens\" class=\"flex transition-transform duration-200\">\\n                    <div data-ds-element=\"menu-top-level\" class=\"flex-grow shrink-0 basis-full  \">\\n                        <nav>\\n                            <ul class=\"border-b border-b-wl-neutral-200 p-6 space-y-6\">\\n                                                                <li>\\n                                    <a href=\"https://www.infomoney.com.br/authentication/sign-in/\" class=\"group flex items-center text-wl-neutral-950 hover:no-underline\" aria-label=\"Fazer login\">\\n                                        <div class=\"w-6 h-6 mr-2\">\\n                                            <span class=\"w-full h-full [&amp;&gt;svg]:w-full [&amp;&gt;svg]:h-full\" ><svg\\n    width=\"24\"\\n    height=\"24\"\\n    viewBox=\"0 0 24 24\"\\n    fill=\"none\"\\n    xmlns=\"http://www.w3.org/2000/svg\"\\n>\\n    <path\\n        d=\"M17.7542 13.9999C18.9962 13.9999 20.003 15.0068 20.003 16.2488V16.8242C20.003 17.7185 19.6835 18.5833 19.1019 19.2627C17.5326 21.0962 15.1454 22.0011 12 22.0011C8.85414 22.0011 6.46812 21.0959 4.90182 19.2617C4.32206 18.5828 4.00354 17.7193 4.00354 16.8265V16.2488C4.00354 15.0068 5.0104 13.9999 6.25242 13.9999H17.7542ZM17.7542 15.4999H6.25242C5.83882 15.4999 5.50354 15.8352 5.50354 16.2488V16.8265C5.50354 17.3622 5.69465 17.8802 6.04251 18.2876C7.29582 19.7553 9.26169 20.5011 12 20.5011C14.7383 20.5011 16.7059 19.7553 17.9624 18.2873C18.3113 17.8797 18.503 17.3608 18.503 16.8242V16.2488C18.503 15.8352 18.1678 15.4999 17.7542 15.4999ZM12 2.00464C14.7614 2.00464 17 4.24321 17 7.00464C17 9.76606 14.7614 12.0046 12 12.0046C9.23857 12.0046 7 9.76606 7 7.00464C7 4.24321 9.23857 2.00464 12 2.00464ZM12 3.50464C10.067 3.50464 8.5 5.07164 8.5 7.00464C8.5 8.93764 10.067 10.5046 12 10.5046C13.933 10.5046 15.5 8.93764 15.5 7.00464C15.5 5.07164 13.933 3.50464 12 3.50464Z\"\\n        fill=\"currentColor\"\\n    />\\n</svg>\\n</span>                                        </div>\\n                                        <span class=\"font-semibold group-hover:underline underline-offset-4\">Fazer login</span>\\n                                    </a>\\n                                </li>\\n                                                            </ul>\\n                            <ul data-ds-element=\"hot-topics-menu\" class=\"border-b border-b-wl-neutral-200 p-6 space-y-6\">\\n                                                                    <li>\\n                                        <a href=\"https://www.google.com/url?q=https://lps.infomoney.com.br/manual-dividendos-guia-definitivo-inscricao/?utm_source%3Dinfomoney%26utm_medium%3Dhot-topic%26utm_campaign%3Dmdd%26utm_term%3Dhiperlink%26utm_content%3Dmenu&#038;sa=D&#038;source=editors&#038;ust=1742912709163079&#038;usg=AOvVaw2SBbthPzqhVVVkn7JAfssH\" class=\"text-wl-neutral-950 group flex items-center hover:no-underline\" aria-label=\"Manual dos Dividendos\">\\n                                            <div class=\"w-6 h-6 mr-2\">\\n                                                <span class=\"w-full h-full [&amp;&gt;svg]:w-full [&amp;&gt;svg]:h-full\" ><svg\\n    width=\"24\"\\n    height=\"24\"\\n    viewBox=\"0 0 24 24\"\\n    fill=\"none\"\\n    xmlns=\"http://www.w3.org/2000/svg\"\\n>\\n    <path\\n        d=\"M12.5383 4.29449C12.8615 4.05075 13.182 3.86356 13.4688 3.73169C13.5555 5.85881 14.5955 7.45829 15.5965 8.87109C15.6881 9.00031 15.779 9.12767 15.8688 9.25354C16.9522 10.7721 17.8801 12.0725 17.9813 13.794C18.0979 15.7759 17.6036 17.4514 16.6453 18.6176C15.6986 19.7696 14.2385 20.5 12.25 20.5C10.1887 20.5 8.6396 19.9712 7.55849 19.0843C6.48244 18.2015 5.79472 16.9026 5.56502 15.2123C5.33902 13.5492 5.74149 12.3672 6.17625 11.6092C6.26176 11.4601 6.34906 11.3266 6.43394 11.2084L6.74894 11.8066C7.29998 12.8532 8.57839 13.2789 9.64684 12.7716C10.9525 12.1516 11.2311 10.5595 10.8165 9.4416C10.5264 8.65954 10.3721 7.70456 10.7077 6.74841C11.084 5.67629 11.7985 4.85253 12.5383 4.29449ZM6.15636 9.3231L6.15395 9.32491L6.15 9.3279L6.13963 9.33586C6.13164 9.34204 6.12151 9.34999 6.10942 9.35973C6.08524 9.37919 6.05314 9.40581 6.01442 9.43966C5.93703 9.50732 5.83284 9.6042 5.71236 9.73104C5.47171 9.98437 5.16368 10.3598 4.8751 10.8629C4.29291 11.8779 3.80368 13.3906 4.07868 15.4142C4.34997 17.4107 5.18833 19.0801 6.60711 20.244C8.02084 21.4038 9.93533 22 12.25 22C14.6375 22 16.5425 21.1054 17.8042 19.5699C19.0544 18.0486 19.6122 15.9741 19.4787 13.706C19.3508 11.5302 18.1656 9.87945 17.1188 8.42123C17.0177 8.28043 16.9179 8.14142 16.8205 8.00391C15.6785 6.39222 14.7768 4.90657 14.9959 2.82863C15.0182 2.61721 14.9497 2.40625 14.8075 2.24824C14.6652 2.09023 14.4626 2 14.25 2C13.868 2 13.4309 2.11822 13.0077 2.29599C12.5715 2.47923 12.0984 2.74751 11.6351 3.09694C10.7104 3.79438 9.78589 4.84563 9.29236 6.25159C8.80006 7.65409 9.04947 8.99089 9.41008 9.9632C9.64689 10.6017 9.39005 11.233 9.00347 11.4165C8.66159 11.5789 8.25252 11.4427 8.07619 11.1078L7.26887 9.57452C7.16673 9.38052 6.98481 9.24093 6.77099 9.19248C6.55717 9.14403 6.33215 9.19209 6.15636 9.3231Z\"\\n        fill=\"currentColor\"\\n    />\\n</svg>\\n</span>                                            </div>\\n                                            <span class=\"font-semibold group-hover:underline underline-offset-4\">\\n                                                Manual dos Dividendos                                            </span>\\n                                        </a>\\n                                    </li>\\n                                                                    <li>\\n                                        <a href=\"https://lps.infomoney.com.br/carteira-renda-fixa-inscricao?utm_source=infomoney&#038;utm_medium=hot-topic&#038;utm_campaign=crf&#038;utm_term=hiperlink&#038;utm_content=menu\" class=\"text-wl-neutral-950 group flex items-center hover:no-underline\" aria-label=\"Onde Investir em Renda Fixa\">\\n                                            <div class=\"w-6 h-6 mr-2\">\\n                                                <span class=\"w-full h-full [&amp;&gt;svg]:w-full [&amp;&gt;svg]:h-full\" ><svg\\n    width=\"24\"\\n    height=\"24\"\\n    viewBox=\"0 0 24 24\"\\n    fill=\"none\"\\n    xmlns=\"http://www.w3.org/2000/svg\"\\n>\\n    <path\\n        d=\"M12.5383 4.29449C12.8615 4.05075 13.182 3.86356 13.4688 3.73169C13.5555 5.85881 14.5955 7.45829 15.5965 8.87109C15.6881 9.00031 15.779 9.12767 15.8688 9.25354C16.9522 10.7721 17.8801 12.0725 17.9813 13.794C18.0979 15.7759 17.6036 17.4514 16.6453 18.6176C15.6986 19.7696 14.2385 20.5 12.25 20.5C10.1887 20.5 8.6396 19.9712 7.55849 19.0843C6.48244 18.2015 5.79472 16.9026 5.56502 15.2123C5.33902 13.5492 5.74149 12.3672 6.17625 11.6092C6.26176 11.4601 6.34906 11.3266 6.43394 11.2084L6.74894 11.8066C7.29998 12.8532 8.57839 13.2789 9.64684 12.7716C10.9525 12.1516 11.2311 10.5595 10.8165 9.4416C10.5264 8.65954 10.3721 7.70456 10.7077 6.74841C11.084 5.67629 11.7985 4.85253 12.5383 4.29449ZM6.15636 9.3231L6.15395 9.32491L6.15 9.3279L6.13963 9.33586C6.13164 9.34204 6.12151 9.34999 6.10942 9.35973C6.08524 9.37919 6.05314 9.40581 6.01442 9.43966C5.93703 9.50732 5.83284 9.6042 5.71236 9.73104C5.47171 9.98437 5.16368 10.3598 4.8751 10.8629C4.29291 11.8779 3.80368 13.3906 4.07868 15.4142C4.34997 17.4107 5.18833 19.0801 6.60711 20.244C8.02084 21.4038 9.93533 22 12.25 22C14.6375 22 16.5425 21.1054 17.8042 19.5699C19.0544 18.0486 19.6122 15.9741 19.4787 13.706C19.3508 11.5302 18.1656 9.87945 17.1188 8.42123C17.0177 8.28043 16.9179 8.14142 16.8205 8.00391C15.6785 6.39222 14.7768 4.90657 14.9959 2.82863C15.0182 2.61721 14.9497 2.40625 14.8075 2.24824C14.6652 2.09023 14.4626 2 14.25 2C13.868 2 13.4309 2.11822 13.0077 2.29599C12.5715 2.47923 12.0984 2.74751 11.6351 3.09694C10.7104 3.79438 9.78589 4.84563 9.29236 6.25159C8.80006 7.65409 9.04947 8.99089 9.41008 9.9632C9.64689 10.6017 9.39005 11.233 9.00347 11.4165C8.66159 11.5789 8.25252 11.4427 8.07619 11.1078L7.26887 9.57452C7.16673 9.38052 6.98481 9.24093 6.77099 9.19248C6.55717 9.14403 6.33215 9.19209 6.15636 9.3231Z\"\\n        fill=\"currentColor\"\\n    />\\n</svg>\\n</span>                                            </div>\\n                                            <span class=\"font-semibold group-hover:underline underline-offset-4\">\\n                                                Onde Investir em Renda Fixa                                            </span>\\n                                        </a>\\n                                    </li>\\n                                                                    <li>\\n                                        <a href=\"https://aceleradorax.xpeducacao.com.br/workshop?utm_source=infomoney&#038;utm_medium=hot-topic&#038;utm_campaign=cursos-livres_aceleradora-x&#038;utm_term=hiperlink&#038;utm_content=menu\" class=\"text-wl-neutral-950 group flex items-center hover:no-underline\" aria-label=\"Aceleradora X\">\\n                                            <div class=\"w-6 h-6 mr-2\">\\n                                                <span class=\"w-full h-full [&amp;&gt;svg]:w-full [&amp;&gt;svg]:h-full\" ><svg\\n    width=\"24\"\\n    height=\"24\"\\n    viewBox=\"0 0 24 24\"\\n    fill=\"none\"\\n    xmlns=\"http://www.w3.org/2000/svg\"\\n>\\n    <path\\n        d=\"M12.5383 4.29449C12.8615 4.05075 13.182 3.86356 13.4688 3.73169C13.5555 5.85881 14.5955 7.45829 15.5965 8.87109C15.6881 9.00031 15.779 9.12767 15.8688 9.25354C16.9522 10.7721 17.8801 12.0725 17.9813 13.794C18.0979 15.7759 17.6036 17.4514 16.6453 18.6176C15.6986 19.7696 14.2385 20.5 12.25 20.5C10.1887 20.5 8.6396 19.9712 7.55849 19.0843C6.48244 18.2015 5.79472 16.9026 5.56502 15.2123C5.33902 13.5492 5.74149 12.3672 6.17625 11.6092C6.26176 11.4601 6.34906 11.3266 6.43394 11.2084L6.74894 11.8066C7.29998 12.8532 8.57839 13.2789 9.64684 12.7716C10.9525 12.1516 11.2311 10.5595 10.8165 9.4416C10.5264 8.65954 10.3721 7.70456 10.7077 6.74841C11.084 5.67629 11.7985 4.85253 12.5383 4.29449ZM6.15636 9.3231L6.15395 9.32491L6.15 9.3279L6.13963 9.33586C6.13164 9.34204 6.12151 9.34999 6.10942 9.35973C6.08524 9.37919 6.05314 9.40581 6.01442 9.43966C5.93703 9.50732 5.83284 9.6042 5.71236 9.73104C5.47171 9.98437 5.16368 10.3598 4.8751 10.8629C4.29291 11.8779 3.80368 13.3906 4.07868 15.4142C4.34997 17.4107 5.18833 19.0801 6.60711 20.244C8.02084 21.4038 9.93533 22 12.25 22C14.6375 22 16.5425 21.1054 17.8042 19.5699C19.0544 18.0486 19.6122 15.9741 19.4787 13.706C19.3508 11.5302 18.1656 9.87945 17.1188 8.42123C17.0177 8.28043 16.9179 8.14142 16.8205 8.00391C15.6785 6.39222 14.7768 4.90657 14.9959 2.82863C15.0182 2.61721 14.9497 2.40625 14.8075 2.24824C14.6652 2.09023 14.4626 2 14.25 2C13.868 2 13.4309 2.11822 13.0077 2.29599C12.5715 2.47923 12.0984 2.74751 11.6351 3.09694C10.7104 3.79438 9.78589 4.84563 9.29236 6.25159C8.80006 7.65409 9.04947 8.99089 9.41008 9.9632C9.64689 10.6017 9.39005 11.233 9.00347 11.4165C8.66159 11.5789 8.25252 11.4427 8.07619 11.1078L7.26887 9.57452C7.16673 9.38052 6.98481 9.24093 6.77099 9.19248C6.55717 9.14403 6.33215 9.19209 6.15636 9.3231Z\"\\n        fill=\"currentColor\"\\n    />\\n</svg>\\n</span>                                            </div>\\n                                            <span class=\"font-semibold group-hover:underline underline-offset-4\">\\n                                                Aceleradora X                                            </span>\\n                                        </a>\\n                                    </li>\\n                                                                <li>\\n                                        <div data-ds-component=\"ad\" data-ad-type=\"SideMenu\">\\n            <div data-component-type=\"ads\" data-ads-type=\"SideMenu\"></div>\\n        </div>\\n                                        </li>\\n                            </ul>\\n                                                        <ul class=\"border-b border-b-wl-neutral-200 p-6 space-y-6\">\\n                                                                    <li>\\n                                        <a href=\"https://www.infomoney.com.br/ultimas-noticias/\" class=\"text-wl-neutral-950 group flex items-center hover:no-underline\" aria-label=\"Últimas Notícias\">\\n                                            <span class=\"font-semibold group-hover:underline underline-offset-4\">\\n                                                Últimas Notícias                                            </span>\\n                                        </a>\\n                                    </li>\\n                                                                    <li>\\n                                        <a href=\"https://www.infomoney.com.br/mercados/\" class=\"text-wl-neutral-950 group flex items-center hover:no-underline\" aria-label=\"Mercados\">\\n                                            <span class=\"font-semibold group-hover:underline underline-offset-4\">\\n                                                Mercados                                            </span>\\n                                        </a>\\n                                    </li>\\n                                                                    <li>\\n                                        <a href=\"https://www.infomoney.com.br/onde-investir/\" class=\"text-wl-neutral-950 group flex items-center hover:no-underline\" aria-label=\"Onde Investir\">\\n                                            <span class=\"font-semibold group-hover:underline underline-offset-4\">\\n                                                Onde Investir                                            </span>\\n                                        </a>\\n                                    </li>\\n                                                                    <li>\\n                                        <a href=\"https://www.infomoney.com.br/politica/\" class=\"text-wl-neutral-950 group flex items-center hover:no-underline\" aria-label=\"Política\">\\n                                            <span class=\"font-semibold group-hover:underline underline-offset-4\">\\n                                                Política                                            </span>\\n                                        </a>\\n                                    </li>\\n                                                                    <li>\\n                                        <a href=\"https://www.infomoney.com.br/economia/\" class=\"text-wl-neutral-950 group flex items-center hover:no-underline\" aria-label=\"Economia\">\\n                                            <span class=\"font-semibold group-hover:underline underline-offset-4\">\\n                                                Economia                                            </span>\\n                                        </a>\\n                                    </li>\\n                                                                    <li>\\n                                        <a href=\"https://www.infomoney.com.br/mundo/\" class=\"text-wl-neutral-950 group flex items-center hover:no-underline\" aria-label=\"Mundo\">\\n                                            <span class=\"font-semibold group-hover:underline underline-offset-4\">\\n                                                Mundo                                            </span>\\n                                        </a>\\n                                    </li>\\n                                                                    <li>\\n                                        <a href=\"https://www.infomoney.com.br/business/\" class=\"text-wl-neutral-950 group flex items-center hover:no-underline\" aria-label=\"Business\">\\n                                            <span class=\"font-semibold group-hover:underline underline-offset-4\">\\n                                                Business                                            </span>\\n                                        </a>\\n                                    </li>\\n                                                                    <li>\\n                                        <a href=\"https://www.infomoney.com.br/advisor/\" class=\"text-wl-neutral-950 group flex items-center hover:no-underline\" aria-label=\"Advisor\">\\n                                            <span class=\"font-semibold group-hover:underline underline-offset-4\">\\n                                                Advisor                                            </span>\\n                                        </a>\\n                                    </li>\\n                                                                    <li>\\n                                        <a href=\"https://www.infomoney.com.br/tudo-sobre/trader/\" class=\"text-wl-neutral-950 group flex items-center hover:no-underline\" aria-label=\"Trader\">\\n                                            <span class=\"font-semibold group-hover:underline underline-offset-4\">\\n                                                Trader                                            </span>\\n                                        </a>\\n                                    </li>\\n                                                                    <li>\\n                                        <a href=\"https://www.infomoney.com.br/minhas-financas/\" class=\"text-wl-neutral-950 group flex items-center hover:no-underline\" aria-label=\"Minhas Finanças\">\\n                                            <span class=\"font-semibold group-hover:underline underline-offset-4\">\\n                                                Minhas Finanças                                            </span>\\n                                        </a>\\n                                    </li>\\n                                                                    <li>\\n                                        <a href=\"https://www.infomoney.com.br/consumo/\" class=\"text-wl-neutral-950 group flex items-center hover:no-underline\" aria-label=\"Consumo\">\\n                                            <span class=\"font-semibold group-hover:underline underline-offset-4\">\\n                                                Consumo                                            </span>\\n                                        </a>\\n                                    </li>\\n                                                                    <li>\\n                                        <a href=\"https://www.infomoney.com.br/esportes/\" class=\"text-wl-neutral-950 group flex items-center hover:no-underline\" aria-label=\"Esportes\">\\n                                            <span class=\"font-semibold group-hover:underline underline-offset-4\">\\n                                                Esportes                                            </span>\\n                                        </a>\\n                                    </li>\\n                                                                    <li>\\n                                        <a href=\"https://www.infomoney.com.br/carreira/\" class=\"text-wl-neutral-950 group flex items-center hover:no-underline\" aria-label=\"Carreira\">\\n                                            <span class=\"font-semibold group-hover:underline underline-offset-4\">\\n                                                Carreira                                            </span>\\n                                        </a>\\n                                    </li>\\n                                                                    <li>\\n                                        <a href=\"https://www.infomoney.com.br/business/global/\" class=\"text-wl-neutral-950 group flex items-center hover:no-underline\" aria-label=\"Global\">\\n                                            <span class=\"font-semibold group-hover:underline underline-offset-4\">\\n                                                Global                                            </span>\\n                                        </a>\\n                                    </li>\\n                                                                    <li>\\n                                        <a href=\"https://www.infomoney.com.br/brasil/\" class=\"text-wl-neutral-950 group flex items-center hover:no-underline\" aria-label=\"Brasil\">\\n                                            <span class=\"font-semibold group-hover:underline underline-offset-4\">\\n                                                Brasil                                            </span>\\n                                        </a>\\n                                    </li>\\n                                                                    <li>\\n                                        <a href=\"https://www.infomoney.com.br/saude/\" class=\"text-wl-neutral-950 group flex items-center hover:no-underline\" aria-label=\"Saúde\">\\n                                            <span class=\"font-semibold group-hover:underline underline-offset-4\">\\n                                                Saúde                                            </span>\\n                                        </a>\\n                                    </li>\\n                                                            </ul>\\n                            \\n                                \\n                            <ul>\\n                                                                                                        <li class=\"shadow-[1px_1px_0_0_theme(colors.wl-neutral-200),0_1px_0_0_theme(colors.wl-neutral-200)_inset]\"\\n                                        data-has-children=\"true\">\\n                                        <a href=\"#\" class=\"text-wl-neutral-950 group flex items-center p-6 hover:no-underline\" aria-label=\"Cotações e indicadores\">\\n                                            <span class=\"flex-grow font-semibold group-hover:underline underline-offset-4\">\\n                                                Cotações e indicadores                                            </span>\\n                                                                                            <div class=\"w-6 h-6\">\\n                                                    <span class=\"w-full h-full [&amp;&gt;svg]:w-full [&amp;&gt;svg]:h-full\" ><svg\\n    width=\"24\"\\n    height=\"24\"\\n    viewBox=\"0 0 24 24\"\\n    fill=\"none\"\\n    xmlns=\"http://www.w3.org/2000/svg\"\\n>\\n    <path\\n        d=\"M8.29289 4.29289C7.90237 4.68342 7.90237 5.31658 8.29289 5.70711L14.5858 12L8.29289 18.2929C7.90237 18.6834 7.90237 19.3166 8.29289 19.7071C8.68342 20.0976 9.31658 20.0976 9.70711 19.7071L16.7071 12.7071C17.0976 12.3166 17.0976 11.6834 16.7071 11.2929L9.70711 4.29289C9.31658 3.90237 8.68342 3.90237 8.29289 4.29289Z\"\\n        fill=\"currentColor\"\\n    />\\n</svg>\\n</span>                                                </div>\\n                                                                                    </a>\\n                                                                                    <ul data-ds-element=\"submenu\" class=\"sr-only p-6 space-y-6\">\\n                                                                                                    <li>\\n                                                        <a href=\"/cotacoes/b3/indice/ibovespa/\" class=\"text-wl-neutral-950 flex items-center group hover:no-underline\" aria-label=\"Ibovespa\">\\n                                                            <span class=\"mr-2 font-semibold group-hover:underline underline-offset-4\">\\n                                                                Ibovespa                                                            </span>\\n                                                            <div class=\"w-4 h-4\">\\n                                                                <span class=\"w-full h-full [&amp;&gt;svg]:w-full [&amp;&gt;svg]:h-full\" ><svg\\n    width=\"16\"\\n    height=\"16\"\\n    viewBox=\"0 0 16 16\"\\n    fill=\"none\"\\n    xmlns=\"http://www.w3.org/2000/svg\"\\n>\\n    <path\\n        d=\"M2 7.99997C2 7.58576 2.33579 7.24997 2.75 7.24997L11.537 7.24997L8.24991 4.30891C7.94122 4.03271 7.91488 3.55857 8.19107 3.24988C8.46727 2.94119 8.94141 2.91485 9.2501 3.19105L14.0001 7.44104C14.1591 7.58332 14.25 7.7866 14.25 7.99997C14.25 8.21335 14.1591 8.41663 14.0001 8.5589L9.2501 12.8089C8.94141 13.0851 8.46727 13.0588 8.19107 12.7501C7.91488 12.4414 7.94122 11.9672 8.24991 11.691L11.537 8.74997L2.75 8.74997C2.33579 8.74997 2 8.41419 2 7.99997Z\"\\n        fill=\"currentColor\"\\n    />\\n</svg>\\n</span>                                                            </div>\\n                                                        </a>\\n                                                    </li>\\n                                                                                                    <li>\\n                                                        <a href=\"/ferramentas/altas-e-baixas/\" class=\"text-wl-neutral-950 flex items-center group hover:no-underline\" aria-label=\"Altas e Baixas\">\\n                                                            <span class=\"mr-2 font-semibold group-hover:underline underline-offset-4\">\\n                                                                Altas e Baixas                                                            </span>\\n                                                            <div class=\"w-4 h-4\">\\n                                                                <span class=\"w-full h-full [&amp;&gt;svg]:w-full [&amp;&gt;svg]:h-full\" ><svg\\n    width=\"16\"\\n    height=\"16\"\\n    viewBox=\"0 0 16 16\"\\n    fill=\"none\"\\n    xmlns=\"http://www.w3.org/2000/svg\"\\n>\\n    <path\\n        d=\"M2 7.99997C2 7.58576 2.33579 7.24997 2.75 7.24997L11.537 7.24997L8.24991 4.30891C7.94122 4.03271 7.91488 3.55857 8.19107 3.24988C8.46727 2.94119 8.94141 2.91485 9.2501 3.19105L14.0001 7.44104C14.1591 7.58332 14.25 7.7866 14.25 7.99997C14.25 8.21335 14.1591 8.41663 14.0001 8.5589L9.2501 12.8089C8.94141 13.0851 8.46727 13.0588 8.19107 12.7501C7.91488 12.4414 7.94122 11.9672 8.24991 11.691L11.537 8.74997L2.75 8.74997C2.33579 8.74997 2 8.41419 2 7.99997Z\"\\n        fill=\"currentColor\"\\n    />\\n</svg>\\n</span>                                                            </div>\\n                                                        </a>\\n                                                    </li>\\n                                                                                                    <li>\\n                                                        <a href=\"/ferramentas/cambio/\" class=\"text-wl-neutral-950 flex items-center group hover:no-underline\" aria-label=\"Dólar e Moedas\">\\n                                                            <span class=\"mr-2 font-semibold group-hover:underline underline-offset-4\">\\n                                                                Dólar e Moedas                                                            </span>\\n                                                            <div class=\"w-4 h-4\">\\n                                                                <span class=\"w-full h-full [&amp;&gt;svg]:w-full [&amp;&gt;svg]:h-full\" ><svg\\n    width=\"16\"\\n    height=\"16\"\\n    viewBox=\"0 0 16 16\"\\n    fill=\"none\"\\n    xmlns=\"http://www.w3.org/2000/svg\"\\n>\\n    <path\\n        d=\"M2 7.99997C2 7.58576 2.33579 7.24997 2.75 7.24997L11.537 7.24997L8.24991 4.30891C7.94122 4.03271 7.91488 3.55857 8.19107 3.24988C8.46727 2.94119 8.94141 2.91485 9.2501 3.19105L14.0001 7.44104C14.1591 7.58332 14.25 7.7866 14.25 7.99997C14.25 8.21335 14.1591 8.41663 14.0001 8.5589L9.2501 12.8089C8.94141 13.0851 8.46727 13.0588 8.19107 12.7501C7.91488 12.4414 7.94122 11.9672 8.24991 11.691L11.537 8.74997L2.75 8.74997C2.33579 8.74997 2 8.41419 2 7.99997Z\"\\n        fill=\"currentColor\"\\n    />\\n</svg>\\n</span>                                                            </div>\\n                                                        </a>\\n                                                    </li>\\n                                                                                                    <li>\\n                                                        <a href=\"/cotacoes/cripto/\" class=\"text-wl-neutral-950 flex items-center group hover:no-underline\" aria-label=\"Criptos\">\\n                                                            <span class=\"mr-2 font-semibold group-hover:underline underline-offset-4\">\\n                                                                Criptos                                                            </span>\\n                                                            <div class=\"w-4 h-4\">\\n                                                                <span class=\"w-full h-full [&amp;&gt;svg]:w-full [&amp;&gt;svg]:h-full\" ><svg\\n    width=\"16\"\\n    height=\"16\"\\n    viewBox=\"0 0 16 16\"\\n    fill=\"none\"\\n    xmlns=\"http://www.w3.org/2000/svg\"\\n>\\n    <path\\n        d=\"M2 7.99997C2 7.58576 2.33579 7.24997 2.75 7.24997L11.537 7.24997L8.24991 4.30891C7.94122 4.03271 7.91488 3.55857 8.19107 3.24988C8.46727 2.94119 8.94141 2.91485 9.2501 3.19105L14.0001 7.44104C14.1591 7.58332 14.25 7.7866 14.25 7.99997C14.25 8.21335 14.1591 8.41663 14.0001 8.5589L9.2501 12.8089C8.94141 13.0851 8.46727 13.0588 8.19107 12.7501C7.91488 12.4414 7.94122 11.9672 8.24991 11.691L11.537 8.74997L2.75 8.74997C2.33579 8.74997 2 8.41419 2 7.99997Z\"\\n        fill=\"currentColor\"\\n    />\\n</svg>\\n</span>                                                            </div>\\n                                                        </a>\\n                                                    </li>\\n                                                                                                    <li>\\n                                                        <a href=\"/cotacoes/b3/bdr/\" class=\"text-wl-neutral-950 flex items-center group hover:no-underline\" aria-label=\"BDRs\">\\n                                                            <span class=\"mr-2 font-semibold group-hover:underline underline-offset-4\">\\n                                                                BDRs                                                            </span>\\n                                                            <div class=\"w-4 h-4\">\\n                                                                <span class=\"w-full h-full [&amp;&gt;svg]:w-full [&amp;&gt;svg]:h-full\" ><svg\\n    width=\"16\"\\n    height=\"16\"\\n    viewBox=\"0 0 16 16\"\\n    fill=\"none\"\\n    xmlns=\"http://www.w3.org/2000/svg\"\\n>\\n    <path\\n        d=\"M2 7.99997C2 7.58576 2.33579 7.24997 2.75 7.24997L11.537 7.24997L8.24991 4.30891C7.94122 4.03271 7.91488 3.55857 8.19107 3.24988C8.46727 2.94119 8.94141 2.91485 9.2501 3.19105L14.0001 7.44104C14.1591 7.58332 14.25 7.7866 14.25 7.99997C14.25 8.21335 14.1591 8.41663 14.0001 8.5589L9.2501 12.8089C8.94141 13.0851 8.46727 13.0588 8.19107 12.7501C7.91488 12.4414 7.94122 11.9672 8.24991 11.691L11.537 8.74997L2.75 8.74997C2.33579 8.74997 2 8.41419 2 7.99997Z\"\\n        fill=\"currentColor\"\\n    />\\n</svg>\\n</span>                                                            </div>\\n                                                        </a>\\n                                                    </li>\\n                                                                                                    <li>\\n                                                        <a href=\"/cotacoes/b3/etf/\" class=\"text-wl-neutral-950 flex items-center group hover:no-underline\" aria-label=\"ETFs\">\\n                                                            <span class=\"mr-2 font-semibold group-hover:underline underline-offset-4\">\\n                                                                ETFs                                                            </span>\\n                                                            <div class=\"w-4 h-4\">\\n                                                                <span class=\"w-full h-full [&amp;&gt;svg]:w-full [&amp;&gt;svg]:h-full\" ><svg\\n    width=\"16\"\\n    height=\"16\"\\n    viewBox=\"0 0 16 16\"\\n    fill=\"none\"\\n    xmlns=\"http://www.w3.org/2000/svg\"\\n>\\n    <path\\n        d=\"M2 7.99997C2 7.58576 2.33579 7.24997 2.75 7.24997L11.537 7.24997L8.24991 4.30891C7.94122 4.03271 7.91488 3.55857 8.19107 3.24988C8.46727 2.94119 8.94141 2.91485 9.2501 3.19105L14.0001 7.44104C14.1591 7.58332 14.25 7.7866 14.25 7.99997C14.25 8.21335 14.1591 8.41663 14.0001 8.5589L9.2501 12.8089C8.94141 13.0851 8.46727 13.0588 8.19107 12.7501C7.91488 12.4414 7.94122 11.9672 8.24991 11.691L11.537 8.74997L2.75 8.74997C2.33579 8.74997 2 8.41419 2 7.99997Z\"\\n        fill=\"currentColor\"\\n    />\\n</svg>\\n</span>                                                            </div>\\n                                                        </a>\\n                                                    </li>\\n                                                                                                    <li>\\n                                                        <a href=\"/cotacoes/b3/fii/\" class=\"text-wl-neutral-950 flex items-center group hover:no-underline\" aria-label=\"FIIs\">\\n                                                            <span class=\"mr-2 font-semibold group-hover:underline underline-offset-4\">\\n                                                                FIIs                                                            </span>\\n                                                            <div class=\"w-4 h-4\">\\n                                                                <span class=\"w-full h-full [&amp;&gt;svg]:w-full [&amp;&gt;svg]:h-full\" ><svg\\n    width=\"16\"\\n    height=\"16\"\\n    viewBox=\"0 0 16 16\"\\n    fill=\"none\"\\n    xmlns=\"http://www.w3.org/2000/svg\"\\n>\\n    <path\\n        d=\"M2 7.99997C2 7.58576 2.33579 7.24997 2.75 7.24997L11.537 7.24997L8.24991 4.30891C7.94122 4.03271 7.91488 3.55857 8.19107 3.24988C8.46727 2.94119 8.94141 2.91485 9.2501 3.19105L14.0001 7.44104C14.1591 7.58332 14.25 7.7866 14.25 7.99997C14.25 8.21335 14.1591 8.41663 14.0001 8.5589L9.2501 12.8089C8.94141 13.0851 8.46727 13.0588 8.19107 12.7501C7.91488 12.4414 7.94122 11.9672 8.24991 11.691L11.537 8.74997L2.75 8.74997C2.33579 8.74997 2 8.41419 2 7.99997Z\"\\n        fill=\"currentColor\"\\n    />\\n</svg>\\n</span>                                                            </div>\\n                                                        </a>\\n                                                    </li>\\n                                                                                                    <li>\\n                                                        <a href=\"/cotacoes/nasdaq/\" class=\"text-wl-neutral-950 flex items-center group hover:no-underline\" aria-label=\"Nasdaq\">\\n                                                            <span class=\"mr-2 font-semibold group-hover:underline underline-offset-4\">\\n                                                                Nasdaq                                                            </span>\\n                                                            <div class=\"w-4 h-4\">\\n                                                                <span class=\"w-full h-full [&amp;&gt;svg]:w-full [&amp;&gt;svg]:h-full\" ><svg\\n    width=\"16\"\\n    height=\"16\"\\n    viewBox=\"0 0 16 16\"\\n    fill=\"none\"\\n    xmlns=\"http://www.w3.org/2000/svg\"\\n>\\n    <path\\n        d=\"M2 7.99997C2 7.58576 2.33579 7.24997 2.75 7.24997L11.537 7.24997L8.24991 4.30891C7.94122 4.03271 7.91488 3.55857 8.19107 3.24988C8.46727 2.94119 8.94141 2.91485 9.2501 3.19105L14.0001 7.44104C14.1591 7.58332 14.25 7.7866 14.25 7.99997C14.25 8.21335 14.1591 8.41663 14.0001 8.5589L9.2501 12.8089C8.94141 13.0851 8.46727 13.0588 8.19107 12.7501C7.91488 12.4414 7.94122 11.9672 8.24991 11.691L11.537 8.74997L2.75 8.74997C2.33579 8.74997 2 8.41419 2 7.99997Z\"\\n        fill=\"currentColor\"\\n    />\\n</svg>\\n</span>                                                            </div>\\n                                                        </a>\\n                                                    </li>\\n                                                                                                    <li>\\n                                                        <a href=\"/cotacoes/nyse/\" class=\"text-wl-neutral-950 flex items-center group hover:no-underline\" aria-label=\"Nyse\">\\n                                                            <span class=\"mr-2 font-semibold group-hover:underline underline-offset-4\">\\n                                                                Nyse                                                            </span>\\n                                                            <div class=\"w-4 h-4\">\\n                                                                <span class=\"w-full h-full [&amp;&gt;svg]:w-full [&amp;&gt;svg]:h-full\" ><svg\\n    width=\"16\"\\n    height=\"16\"\\n    viewBox=\"0 0 16 16\"\\n    fill=\"none\"\\n    xmlns=\"http://www.w3.org/2000/svg\"\\n>\\n    <path\\n        d=\"M2 7.99997C2 7.58576 2.33579 7.24997 2.75 7.24997L11.537 7.24997L8.24991 4.30891C7.94122 4.03271 7.91488 3.55857 8.19107 3.24988C8.46727 2.94119 8.94141 2.91485 9.2501 3.19105L14.0001 7.44104C14.1591 7.58332 14.25 7.7866 14.25 7.99997C14.25 8.21335 14.1591 8.41663 14.0001 8.5589L9.2501 12.8089C8.94141 13.0851 8.46727 13.0588 8.19107 12.7501C7.91488 12.4414 7.94122 11.9672 8.24991 11.691L11.537 8.74997L2.75 8.74997C2.33579 8.74997 2 8.41419 2 7.99997Z\"\\n        fill=\"currentColor\"\\n    />\\n</svg>\\n</span>                                                            </div>\\n                                                        </a>\\n                                                    </li>\\n                                                                                                    <li>\\n                                                        <a href=\"/ferramentas/juros-futuros-di/\" class=\"text-wl-neutral-950 flex items-center group hover:no-underline\" aria-label=\"Juros Futuros\">\\n                                                            <span class=\"mr-2 font-semibold group-hover:underline underline-offset-4\">\\n                                                                Juros Futuros                                                            </span>\\n                                                            <div class=\"w-4 h-4\">\\n                                                                <span class=\"w-full h-full [&amp;&gt;svg]:w-full [&amp;&gt;svg]:h-full\" ><svg\\n    width=\"16\"\\n    height=\"16\"\\n    viewBox=\"0 0 16 16\"\\n    fill=\"none\"\\n    xmlns=\"http://www.w3.org/2000/svg\"\\n>\\n    <path\\n        d=\"M2 7.99997C2 7.58576 2.33579 7.24997 2.75 7.24997L11.537 7.24997L8.24991 4.30891C7.94122 4.03271 7.91488 3.55857 8.19107 3.24988C8.46727 2.94119 8.94141 2.91485 9.2501 3.19105L14.0001 7.44104C14.1591 7.58332 14.25 7.7866 14.25 7.99997C14.25 8.21335 14.1591 8.41663 14.0001 8.5589L9.2501 12.8089C8.94141 13.0851 8.46727 13.0588 8.19107 12.7501C7.91488 12.4414 7.94122 11.9672 8.24991 11.691L11.537 8.74997L2.75 8.74997C2.33579 8.74997 2 8.41419 2 7.99997Z\"\\n        fill=\"currentColor\"\\n    />\\n</svg>\\n</span>                                                            </div>\\n                                                        </a>\\n                                                    </li>\\n                                                                                                    <li>\\n                                                        <a href=\"/ferramentas/mini-contratos/\" class=\"text-wl-neutral-950 flex items-center group hover:no-underline\" aria-label=\"Mini Contratos\">\\n                                                            <span class=\"mr-2 font-semibold group-hover:underline underline-offset-4\">\\n                                                                Mini Contratos                                                            </span>\\n                                                            <div class=\"w-4 h-4\">\\n                                                                <span class=\"w-full h-full [&amp;&gt;svg]:w-full [&amp;&gt;svg]:h-full\" ><svg\\n    width=\"16\"\\n    height=\"16\"\\n    viewBox=\"0 0 16 16\"\\n    fill=\"none\"\\n    xmlns=\"http://www.w3.org/2000/svg\"\\n>\\n    <path\\n        d=\"M2 7.99997C2 7.58576 2.33579 7.24997 2.75 7.24997L11.537 7.24997L8.24991 4.30891C7.94122 4.03271 7.91488 3.55857 8.19107 3.24988C8.46727 2.94119 8.94141 2.91485 9.2501 3.19105L14.0001 7.44104C14.1591 7.58332 14.25 7.7866 14.25 7.99997C14.25 8.21335 14.1591 8.41663 14.0001 8.5589L9.2501 12.8089C8.94141 13.0851 8.46727 13.0588 8.19107 12.7501C7.91488 12.4414 7.94122 11.9672 8.24991 11.691L11.537 8.74997L2.75 8.74997C2.33579 8.74997 2 8.41419 2 7.99997Z\"\\n        fill=\"currentColor\"\\n    />\\n</svg>\\n</span>                                                            </div>\\n                                                        </a>\\n                                                    </li>\\n                                                                                                    <li>\\n                                                        <a href=\"/ferramentas/inflacao/\" class=\"text-wl-neutral-950 flex items-center group hover:no-underline\" aria-label=\"Indicadores de Inflação\">\\n                                                            <span class=\"mr-2 font-semibold group-hover:underline underline-offset-4\">\\n                                                                Indicadores de Inflação                                                            </span>\\n                                                            <div class=\"w-4 h-4\">\\n                                                                <span class=\"w-full h-full [&amp;&gt;svg]:w-full [&amp;&gt;svg]:h-full\" ><svg\\n    width=\"16\"\\n    height=\"16\"\\n    viewBox=\"0 0 16 16\"\\n    fill=\"none\"\\n    xmlns=\"http://www.w3.org/2000/svg\"\\n>\\n    <path\\n        d=\"M2 7.99997C2 7.58576 2.33579 7.24997 2.75 7.24997L11.537 7.24997L8.24991 4.30891C7.94122 4.03271 7.91488 3.55857 8.19107 3.24988C8.46727 2.94119 8.94141 2.91485 9.2501 3.19105L14.0001 7.44104C14.1591 7.58332 14.25 7.7866 14.25 7.99997C14.25 8.21335 14.1591 8.41663 14.0001 8.5589L9.2501 12.8089C8.94141 13.0851 8.46727 13.0588 8.19107 12.7501C7.91488 12.4414 7.94122 11.9672 8.24991 11.691L11.537 8.74997L2.75 8.74997C2.33579 8.74997 2 8.41419 2 7.99997Z\"\\n        fill=\"currentColor\"\\n    />\\n</svg>\\n</span>                                                            </div>\\n                                                        </a>\\n                                                    </li>\\n                                                                                                    <li>\\n                                                        <a href=\"/ferramentas/cotacoes-opcoes-de-acoes/\" class=\"text-wl-neutral-950 flex items-center group hover:no-underline\" aria-label=\"Opções de Ações\">\\n                                                            <span class=\"mr-2 font-semibold group-hover:underline underline-offset-4\">\\n                                                                Opções de Ações                                                            </span>\\n                                                            <div class=\"w-4 h-4\">\\n                                                                <span class=\"w-full h-full [&amp;&gt;svg]:w-full [&amp;&gt;svg]:h-full\" ><svg\\n    width=\"16\"\\n    height=\"16\"\\n    viewBox=\"0 0 16 16\"\\n    fill=\"none\"\\n    xmlns=\"http://www.w3.org/2000/svg\"\\n>\\n    <path\\n        d=\"M2 7.99997C2 7.58576 2.33579 7.24997 2.75 7.24997L11.537 7.24997L8.24991 4.30891C7.94122 4.03271 7.91488 3.55857 8.19107 3.24988C8.46727 2.94119 8.94141 2.91485 9.2501 3.19105L14.0001 7.44104C14.1591 7.58332 14.25 7.7866 14.25 7.99997C14.25 8.21335 14.1591 8.41663 14.0001 8.5589L9.2501 12.8089C8.94141 13.0851 8.46727 13.0588 8.19107 12.7501C7.91488 12.4414 7.94122 11.9672 8.24991 11.691L11.537 8.74997L2.75 8.74997C2.33579 8.74997 2 8.41419 2 7.99997Z\"\\n        fill=\"currentColor\"\\n    />\\n</svg>\\n</span>                                                            </div>\\n                                                        </a>\\n                                                    </li>\\n                                                                                            </ul>\\n                                                                            </li>\\n                                                                                                        <li class=\"shadow-[1px_1px_0_0_theme(colors.wl-neutral-200),0_1px_0_0_theme(colors.wl-neutral-200)_inset]\"\\n                                        data-has-children=\"true\">\\n                                        <a href=\"#\" class=\"text-wl-neutral-950 group flex items-center p-6 hover:no-underline\" aria-label=\"Ferramentas\">\\n                                            <span class=\"flex-grow font-semibold group-hover:underline underline-offset-4\">\\n                                                Ferramentas                                            </span>\\n                                                                                            <div class=\"w-6 h-6\">\\n                                                    <span class=\"w-full h-full [&amp;&gt;svg]:w-full [&amp;&gt;svg]:h-full\" ><svg\\n    width=\"24\"\\n    height=\"24\"\\n    viewBox=\"0 0 24 24\"\\n    fill=\"none\"\\n    xmlns=\"http://www.w3.org/2000/svg\"\\n>\\n    <path\\n        d=\"M8.29289 4.29289C7.90237 4.68342 7.90237 5.31658 8.29289 5.70711L14.5858 12L8.29289 18.2929C7.90237 18.6834 7.90237 19.3166 8.29289 19.7071C8.68342 20.0976 9.31658 20.0976 9.70711 19.7071L16.7071 12.7071C17.0976 12.3166 17.0976 11.6834 16.7071 11.2929L9.70711 4.29289C9.31658 3.90237 8.68342 3.90237 8.29289 4.29289Z\"\\n        fill=\"currentColor\"\\n    />\\n</svg>\\n</span>                                                </div>\\n                                                                                    </a>\\n                                                                                    <ul data-ds-element=\"submenu\" class=\"sr-only p-6 space-y-6\">\\n                                                                                                    <li>\\n                                                        <a href=\"/ferramentas/simulador-xp/\" class=\"text-wl-neutral-950 flex items-center group hover:no-underline\" aria-label=\"Simulador de Investimentos\">\\n                                                            <span class=\"mr-2 font-semibold group-hover:underline underline-offset-4\">\\n                                                                Simulador de Investimentos                                                            </span>\\n                                                            <div class=\"w-4 h-4\">\\n                                                                <span class=\"w-full h-full [&amp;&gt;svg]:w-full [&amp;&gt;svg]:h-full\" ><svg\\n    width=\"16\"\\n    height=\"16\"\\n    viewBox=\"0 0 16 16\"\\n    fill=\"none\"\\n    xmlns=\"http://www.w3.org/2000/svg\"\\n>\\n    <path\\n        d=\"M2 7.99997C2 7.58576 2.33579 7.24997 2.75 7.24997L11.537 7.24997L8.24991 4.30891C7.94122 4.03271 7.91488 3.55857 8.19107 3.24988C8.46727 2.94119 8.94141 2.91485 9.2501 3.19105L14.0001 7.44104C14.1591 7.58332 14.25 7.7866 14.25 7.99997C14.25 8.21335 14.1591 8.41663 14.0001 8.5589L9.2501 12.8089C8.94141 13.0851 8.46727 13.0588 8.19107 12.7501C7.91488 12.4414 7.94122 11.9672 8.24991 11.691L11.537 8.74997L2.75 8.74997C2.33579 8.74997 2 8.41419 2 7.99997Z\"\\n        fill=\"currentColor\"\\n    />\\n</svg>\\n</span>                                                            </div>\\n                                                        </a>\\n                                                    </li>\\n                                                                                                    <li>\\n                                                        <a href=\"/ferramentas/comparador-de-fundos/\" class=\"text-wl-neutral-950 flex items-center group hover:no-underline\" aria-label=\"Comparador de FIIs\">\\n                                                            <span class=\"mr-2 font-semibold group-hover:underline underline-offset-4\">\\n                                                                Comparador de FIIs                                                            </span>\\n                                                            <div class=\"w-4 h-4\">\\n                                                                <span class=\"w-full h-full [&amp;&gt;svg]:w-full [&amp;&gt;svg]:h-full\" ><svg\\n    width=\"16\"\\n    height=\"16\"\\n    viewBox=\"0 0 16 16\"\\n    fill=\"none\"\\n    xmlns=\"http://www.w3.org/2000/svg\"\\n>\\n    <path\\n        d=\"M2 7.99997C2 7.58576 2.33579 7.24997 2.75 7.24997L11.537 7.24997L8.24991 4.30891C7.94122 4.03271 7.91488 3.55857 8.19107 3.24988C8.46727 2.94119 8.94141 2.91485 9.2501 3.19105L14.0001 7.44104C14.1591 7.58332 14.25 7.7866 14.25 7.99997C14.25 8.21335 14.1591 8.41663 14.0001 8.5589L9.2501 12.8089C8.94141 13.0851 8.46727 13.0588 8.19107 12.7501C7.91488 12.4414 7.94122 11.9672 8.24991 11.691L11.537 8.74997L2.75 8.74997C2.33579 8.74997 2 8.41419 2 7.99997Z\"\\n        fill=\"currentColor\"\\n    />\\n</svg>\\n</span>                                                            </div>\\n                                                        </a>\\n                                                    </li>\\n                                                                                                    <li>\\n                                                        <a href=\"/ferramentas/comparador-renda-fixa/\" class=\"text-wl-neutral-950 flex items-center group hover:no-underline\" aria-label=\"Comparador de Renda Fixa\">\\n                                                            <span class=\"mr-2 font-semibold group-hover:underline underline-offset-4\">\\n                                                                Comparador de Renda Fixa                                                            </span>\\n                                                            <div class=\"w-4 h-4\">\\n                                                                <span class=\"w-full h-full [&amp;&gt;svg]:w-full [&amp;&gt;svg]:h-full\" ><svg\\n    width=\"16\"\\n    height=\"16\"\\n    viewBox=\"0 0 16 16\"\\n    fill=\"none\"\\n    xmlns=\"http://www.w3.org/2000/svg\"\\n>\\n    <path\\n        d=\"M2 7.99997C2 7.58576 2.33579 7.24997 2.75 7.24997L11.537 7.24997L8.24991 4.30891C7.94122 4.03271 7.91488 3.55857 8.19107 3.24988C8.46727 2.94119 8.94141 2.91485 9.2501 3.19105L14.0001 7.44104C14.1591 7.58332 14.25 7.7866 14.25 7.99997C14.25 8.21335 14.1591 8.41663 14.0001 8.5589L9.2501 12.8089C8.94141 13.0851 8.46727 13.0588 8.19107 12.7501C7.91488 12.4414 7.94122 11.9672 8.24991 11.691L11.537 8.74997L2.75 8.74997C2.33579 8.74997 2 8.41419 2 7.99997Z\"\\n        fill=\"currentColor\"\\n    />\\n</svg>\\n</span>                                                            </div>\\n                                                        </a>\\n                                                    </li>\\n                                                                                                    <li>\\n                                                        <a href=\"/ferramentas/comparador-de-fundos/\" class=\"text-wl-neutral-950 flex items-center group hover:no-underline\" aria-label=\"Comparador de Fundos\">\\n                                                            <span class=\"mr-2 font-semibold group-hover:underline underline-offset-4\">\\n                                                                Comparador de Fundos                                                            </span>\\n                                                            <div class=\"w-4 h-4\">\\n                                                                <span class=\"w-full h-full [&amp;&gt;svg]:w-full [&amp;&gt;svg]:h-full\" ><svg\\n    width=\"16\"\\n    height=\"16\"\\n    viewBox=\"0 0 16 16\"\\n    fill=\"none\"\\n    xmlns=\"http://www.w3.org/2000/svg\"\\n>\\n    <path\\n        d=\"M2 7.99997C2 7.58576 2.33579 7.24997 2.75 7.24997L11.537 7.24997L8.24991 4.30891C7.94122 4.03271 7.91488 3.55857 8.19107 3.24988C8.46727 2.94119 8.94141 2.91485 9.2501 3.19105L14.0001 7.44104C14.1591 7.58332 14.25 7.7866 14.25 7.99997C14.25 8.21335 14.1591 8.41663 14.0001 8.5589L9.2501 12.8089C8.94141 13.0851 8.46727 13.0588 8.19107 12.7501C7.91488 12.4414 7.94122 11.9672 8.24991 11.691L11.537 8.74997L2.75 8.74997C2.33579 8.74997 2 8.41419 2 7.99997Z\"\\n        fill=\"currentColor\"\\n    />\\n</svg>\\n</span>                                                            </div>\\n                                                        </a>\\n                                                    </li>\\n                                                                                                    <li>\\n                                                        <a href=\"/ferramentas/carteira-de-acompanhamento/\" class=\"text-wl-neutral-950 flex items-center group hover:no-underline\" aria-label=\"Carteira de Acompanhamento\">\\n                                                            <span class=\"mr-2 font-semibold group-hover:underline underline-offset-4\">\\n                                                                Carteira de Acompanhamento                                                            </span>\\n                                                            <div class=\"w-4 h-4\">\\n                                                                <span class=\"w-full h-full [&amp;&gt;svg]:w-full [&amp;&gt;svg]:h-full\" ><svg\\n    width=\"16\"\\n    height=\"16\"\\n    viewBox=\"0 0 16 16\"\\n    fill=\"none\"\\n    xmlns=\"http://www.w3.org/2000/svg\"\\n>\\n    <path\\n        d=\"M2 7.99997C2 7.58576 2.33579 7.24997 2.75 7.24997L11.537 7.24997L8.24991 4.30891C7.94122 4.03271 7.91488 3.55857 8.19107 3.24988C8.46727 2.94119 8.94141 2.91485 9.2501 3.19105L14.0001 7.44104C14.1591 7.58332 14.25 7.7866 14.25 7.99997C14.25 8.21335 14.1591 8.41663 14.0001 8.5589L9.2501 12.8089C8.94141 13.0851 8.46727 13.0588 8.19107 12.7501C7.91488 12.4414 7.94122 11.9672 8.24991 11.691L11.537 8.74997L2.75 8.74997C2.33579 8.74997 2 8.41419 2 7.99997Z\"\\n        fill=\"currentColor\"\\n    />\\n</svg>\\n</span>                                                            </div>\\n                                                        </a>\\n                                                    </li>\\n                                                                                                    <li>\\n                                                        <a href=\"/cotacoes/empresas-b3/\" class=\"text-wl-neutral-950 flex items-center group hover:no-underline\" aria-label=\"Empresas B3\">\\n                                                            <span class=\"mr-2 font-semibold group-hover:underline underline-offset-4\">\\n                                                                Empresas B3                                                            </span>\\n                                                            <div class=\"w-4 h-4\">\\n                                                                <span class=\"w-full h-full [&amp;&gt;svg]:w-full [&amp;&gt;svg]:h-full\" ><svg\\n    width=\"16\"\\n    height=\"16\"\\n    viewBox=\"0 0 16 16\"\\n    fill=\"none\"\\n    xmlns=\"http://www.w3.org/2000/svg\"\\n>\\n    <path\\n        d=\"M2 7.99997C2 7.58576 2.33579 7.24997 2.75 7.24997L11.537 7.24997L8.24991 4.30891C7.94122 4.03271 7.91488 3.55857 8.19107 3.24988C8.46727 2.94119 8.94141 2.91485 9.2501 3.19105L14.0001 7.44104C14.1591 7.58332 14.25 7.7866 14.25 7.99997C14.25 8.21335 14.1591 8.41663 14.0001 8.5589L9.2501 12.8089C8.94141 13.0851 8.46727 13.0588 8.19107 12.7501C7.91488 12.4414 7.94122 11.9672 8.24991 11.691L11.537 8.74997L2.75 8.74997C2.33579 8.74997 2 8.41419 2 7.99997Z\"\\n        fill=\"currentColor\"\\n    />\\n</svg>\\n</span>                                                            </div>\\n                                                        </a>\\n                                                    </li>\\n                                                                                            </ul>\\n                                                                            </li>\\n                                                                                                        <li class=\"shadow-[1px_1px_0_0_theme(colors.wl-neutral-200),0_1px_0_0_theme(colors.wl-neutral-200)_inset]\"\\n                                        data-has-children=\"true\">\\n                                        <a href=\"#\" class=\"text-wl-neutral-950 group flex items-center p-6 hover:no-underline\" aria-label=\"Aprenda\">\\n                                            <span class=\"flex-grow font-semibold group-hover:underline underline-offset-4\">\\n                                                Aprenda                                            </span>\\n                                                                                            <div class=\"w-6 h-6\">\\n                                                    <span class=\"w-full h-full [&amp;&gt;svg]:w-full [&amp;&gt;svg]:h-full\" ><svg\\n    width=\"24\"\\n    height=\"24\"\\n    viewBox=\"0 0 24 24\"\\n    fill=\"none\"\\n    xmlns=\"http://www.w3.org/2000/svg\"\\n>\\n    <path\\n        d=\"M8.29289 4.29289C7.90237 4.68342 7.90237 5.31658 8.29289 5.70711L14.5858 12L8.29289 18.2929C7.90237 18.6834 7.90237 19.3166 8.29289 19.7071C8.68342 20.0976 9.31658 20.0976 9.70711 19.7071L16.7071 12.7071C17.0976 12.3166 17.0976 11.6834 16.7071 11.2929L9.70711 4.29289C9.31658 3.90237 8.68342 3.90237 8.29289 4.29289Z\"\\n        fill=\"currentColor\"\\n    />\\n</svg>\\n</span>                                                </div>\\n                                                                                    </a>\\n                                                                                    <ul data-ds-element=\"submenu\" class=\"sr-only p-6 space-y-6\">\\n                                                                                                    <li>\\n                                                        <a href=\"/conteudos/\" class=\"text-wl-neutral-950 flex items-center group hover:no-underline\" aria-label=\"Conteúdos\">\\n                                                            <span class=\"mr-2 font-semibold group-hover:underline underline-offset-4\">\\n                                                                Conteúdos                                                            </span>\\n                                                            <div class=\"w-4 h-4\">\\n                                                                <span class=\"w-full h-full [&amp;&gt;svg]:w-full [&amp;&gt;svg]:h-full\" ><svg\\n    width=\"16\"\\n    height=\"16\"\\n    viewBox=\"0 0 16 16\"\\n    fill=\"none\"\\n    xmlns=\"http://www.w3.org/2000/svg\"\\n>\\n    <path\\n        d=\"M2 7.99997C2 7.58576 2.33579 7.24997 2.75 7.24997L11.537 7.24997L8.24991 4.30891C7.94122 4.03271 7.91488 3.55857 8.19107 3.24988C8.46727 2.94119 8.94141 2.91485 9.2501 3.19105L14.0001 7.44104C14.1591 7.58332 14.25 7.7866 14.25 7.99997C14.25 8.21335 14.1591 8.41663 14.0001 8.5589L9.2501 12.8089C8.94141 13.0851 8.46727 13.0588 8.19107 12.7501C7.91488 12.4414 7.94122 11.9672 8.24991 11.691L11.537 8.74997L2.75 8.74997C2.33579 8.74997 2 8.41419 2 7.99997Z\"\\n        fill=\"currentColor\"\\n    />\\n</svg>\\n</span>                                                            </div>\\n                                                        </a>\\n                                                    </li>\\n                                                                                                    <li>\\n                                                        <a href=\"/conteudos/cursos/\" class=\"text-wl-neutral-950 flex items-center group hover:no-underline\" aria-label=\"Cursos\">\\n                                                            <span class=\"mr-2 font-semibold group-hover:underline underline-offset-4\">\\n                                                                Cursos                                                            </span>\\n                                                            <div class=\"w-4 h-4\">\\n                                                                <span class=\"w-full h-full [&amp;&gt;svg]:w-full [&amp;&gt;svg]:h-full\" ><svg\\n    width=\"16\"\\n    height=\"16\"\\n    viewBox=\"0 0 16 16\"\\n    fill=\"none\"\\n    xmlns=\"http://www.w3.org/2000/svg\"\\n>\\n    <path\\n        d=\"M2 7.99997C2 7.58576 2.33579 7.24997 2.75 7.24997L11.537 7.24997L8.24991 4.30891C7.94122 4.03271 7.91488 3.55857 8.19107 3.24988C8.46727 2.94119 8.94141 2.91485 9.2501 3.19105L14.0001 7.44104C14.1591 7.58332 14.25 7.7866 14.25 7.99997C14.25 8.21335 14.1591 8.41663 14.0001 8.5589L9.2501 12.8089C8.94141 13.0851 8.46727 13.0588 8.19107 12.7501C7.91488 12.4414 7.94122 11.9672 8.24991 11.691L11.537 8.74997L2.75 8.74997C2.33579 8.74997 2 8.41419 2 7.99997Z\"\\n        fill=\"currentColor\"\\n    />\\n</svg>\\n</span>                                                            </div>\\n                                                        </a>\\n                                                    </li>\\n                                                                                                    <li>\\n                                                        <a href=\"/conteudos/ebooks/\" class=\"text-wl-neutral-950 flex items-center group hover:no-underline\" aria-label=\"Ebooks\">\\n                                                            <span class=\"mr-2 font-semibold group-hover:underline underline-offset-4\">\\n                                                                Ebooks                                                            </span>\\n                                                            <div class=\"w-4 h-4\">\\n                                                                <span class=\"w-full h-full [&amp;&gt;svg]:w-full [&amp;&gt;svg]:h-full\" ><svg\\n    width=\"16\"\\n    height=\"16\"\\n    viewBox=\"0 0 16 16\"\\n    fill=\"none\"\\n    xmlns=\"http://www.w3.org/2000/svg\"\\n>\\n    <path\\n        d=\"M2 7.99997C2 7.58576 2.33579 7.24997 2.75 7.24997L11.537 7.24997L8.24991 4.30891C7.94122 4.03271 7.91488 3.55857 8.19107 3.24988C8.46727 2.94119 8.94141 2.91485 9.2501 3.19105L14.0001 7.44104C14.1591 7.58332 14.25 7.7866 14.25 7.99997C14.25 8.21335 14.1591 8.41663 14.0001 8.5589L9.2501 12.8089C8.94141 13.0851 8.46727 13.0588 8.19107 12.7501C7.91488 12.4414 7.94122 11.9672 8.24991 11.691L11.537 8.74997L2.75 8.74997C2.33579 8.74997 2 8.41419 2 7.99997Z\"\\n        fill=\"currentColor\"\\n    />\\n</svg>\\n</span>                                                            </div>\\n                                                        </a>\\n                                                    </li>\\n                                                                                                    <li>\\n                                                        <a href=\"/conteudos/planilhas/\" class=\"text-wl-neutral-950 flex items-center group hover:no-underline\" aria-label=\"Planilhas\">\\n                                                            <span class=\"mr-2 font-semibold group-hover:underline underline-offset-4\">\\n                                                                Planilhas                                                            </span>\\n                                                            <div class=\"w-4 h-4\">\\n                                                                <span class=\"w-full h-full [&amp;&gt;svg]:w-full [&amp;&gt;svg]:h-full\" ><svg\\n    width=\"16\"\\n    height=\"16\"\\n    viewBox=\"0 0 16 16\"\\n    fill=\"none\"\\n    xmlns=\"http://www.w3.org/2000/svg\"\\n>\\n    <path\\n        d=\"M2 7.99997C2 7.58576 2.33579 7.24997 2.75 7.24997L11.537 7.24997L8.24991 4.30891C7.94122 4.03271 7.91488 3.55857 8.19107 3.24988C8.46727 2.94119 8.94141 2.91485 9.2501 3.19105L14.0001 7.44104C14.1591 7.58332 14.25 7.7866 14.25 7.99997C14.25 8.21335 14.1591 8.41663 14.0001 8.5589L9.2501 12.8089C8.94141 13.0851 8.46727 13.0588 8.19107 12.7501C7.91488 12.4414 7.94122 11.9672 8.24991 11.691L11.537 8.74997L2.75 8.74997C2.33579 8.74997 2 8.41419 2 7.99997Z\"\\n        fill=\"currentColor\"\\n    />\\n</svg>\\n</span>                                                            </div>\\n                                                        </a>\\n                                                    </li>\\n                                                                                                    <li>\\n                                                        <a href=\"/guias/\" class=\"text-wl-neutral-950 flex items-center group hover:no-underline\" aria-label=\"Guias\">\\n                                                            <span class=\"mr-2 font-semibold group-hover:underline underline-offset-4\">\\n                                                                Guias                                                            </span>\\n                                                            <div class=\"w-4 h-4\">\\n                                                                <span class=\"w-full h-full [&amp;&gt;svg]:w-full [&amp;&gt;svg]:h-full\" ><svg\\n    width=\"16\"\\n    height=\"16\"\\n    viewBox=\"0 0 16 16\"\\n    fill=\"none\"\\n    xmlns=\"http://www.w3.org/2000/svg\"\\n>\\n    <path\\n        d=\"M2 7.99997C2 7.58576 2.33579 7.24997 2.75 7.24997L11.537 7.24997L8.24991 4.30891C7.94122 4.03271 7.91488 3.55857 8.19107 3.24988C8.46727 2.94119 8.94141 2.91485 9.2501 3.19105L14.0001 7.44104C14.1591 7.58332 14.25 7.7866 14.25 7.99997C14.25 8.21335 14.1591 8.41663 14.0001 8.5589L9.2501 12.8089C8.94141 13.0851 8.46727 13.0588 8.19107 12.7501C7.91488 12.4414 7.94122 11.9672 8.24991 11.691L11.537 8.74997L2.75 8.74997C2.33579 8.74997 2 8.41419 2 7.99997Z\"\\n        fill=\"currentColor\"\\n    />\\n</svg>\\n</span>                                                            </div>\\n                                                        </a>\\n                                                    </li>\\n                                                                                                    <li>\\n                                                        <a href=\"/podcasts/\" class=\"text-wl-neutral-950 flex items-center group hover:no-underline\" aria-label=\"Podcast\">\\n                                                            <span class=\"mr-2 font-semibold group-hover:underline underline-offset-4\">\\n                                                                Podcast                                                            </span>\\n                                                            <div class=\"w-4 h-4\">\\n                                                                <span class=\"w-full h-full [&amp;&gt;svg]:w-full [&amp;&gt;svg]:h-full\" ><svg\\n    width=\"16\"\\n    height=\"16\"\\n    viewBox=\"0 0 16 16\"\\n    fill=\"none\"\\n    xmlns=\"http://www.w3.org/2000/svg\"\\n>\\n    <path\\n        d=\"M2 7.99997C2 7.58576 2.33579 7.24997 2.75 7.24997L11.537 7.24997L8.24991 4.30891C7.94122 4.03271 7.91488 3.55857 8.19107 3.24988C8.46727 2.94119 8.94141 2.91485 9.2501 3.19105L14.0001 7.44104C14.1591 7.58332 14.25 7.7866 14.25 7.99997C14.25 8.21335 14.1591 8.41663 14.0001 8.5589L9.2501 12.8089C8.94141 13.0851 8.46727 13.0588 8.19107 12.7501C7.91488 12.4414 7.94122 11.9672 8.24991 11.691L11.537 8.74997L2.75 8.74997C2.33579 8.74997 2 8.41419 2 7.99997Z\"\\n        fill=\"currentColor\"\\n    />\\n</svg>\\n</span>                                                            </div>\\n                                                        </a>\\n                                                    </li>\\n                                                                                                    <li>\\n                                                        <a href=\"/perfil/\" class=\"text-wl-neutral-950 flex items-center group hover:no-underline\" aria-label=\"Perfis\">\\n                                                            <span class=\"mr-2 font-semibold group-hover:underline underline-offset-4\">\\n                                                                Perfis                                                            </span>\\n                                                            <div class=\"w-4 h-4\">\\n                                                                <span class=\"w-full h-full [&amp;&gt;svg]:w-full [&amp;&gt;svg]:h-full\" ><svg\\n    width=\"16\"\\n    height=\"16\"\\n    viewBox=\"0 0 16 16\"\\n    fill=\"none\"\\n    xmlns=\"http://www.w3.org/2000/svg\"\\n>\\n    <path\\n        d=\"M2 7.99997C2 7.58576 2.33579 7.24997 2.75 7.24997L11.537 7.24997L8.24991 4.30891C7.94122 4.03271 7.91488 3.55857 8.19107 3.24988C8.46727 2.94119 8.94141 2.91485 9.2501 3.19105L14.0001 7.44104C14.1591 7.58332 14.25 7.7866 14.25 7.99997C14.25 8.21335 14.1591 8.41663 14.0001 8.5589L9.2501 12.8089C8.94141 13.0851 8.46727 13.0588 8.19107 12.7501C7.91488 12.4414 7.94122 11.9672 8.24991 11.691L11.537 8.74997L2.75 8.74997C2.33579 8.74997 2 8.41419 2 7.99997Z\"\\n        fill=\"currentColor\"\\n    />\\n</svg>\\n</span>                                                            </div>\\n                                                        </a>\\n                                                    </li>\\n                                                                                                    <li>\\n                                                        <a href=\"https://www.youtube.com/channel/UCxm0tptjIc76-i26EKQ9NpA\" class=\"text-wl-neutral-950 flex items-center group hover:no-underline\" aria-label=\"Vídeos\">\\n                                                            <span class=\"mr-2 font-semibold group-hover:underline underline-offset-4\">\\n                                                                Vídeos                                                            </span>\\n                                                            <div class=\"w-4 h-4\">\\n                                                                <span class=\"w-full h-full [&amp;&gt;svg]:w-full [&amp;&gt;svg]:h-full\" ><svg\\n    width=\"16\"\\n    height=\"16\"\\n    viewBox=\"0 0 16 16\"\\n    fill=\"none\"\\n    xmlns=\"http://www.w3.org/2000/svg\"\\n>\\n    <path\\n        d=\"M2 7.99997C2 7.58576 2.33579 7.24997 2.75 7.24997L11.537 7.24997L8.24991 4.30891C7.94122 4.03271 7.91488 3.55857 8.19107 3.24988C8.46727 2.94119 8.94141 2.91485 9.2501 3.19105L14.0001 7.44104C14.1591 7.58332 14.25 7.7866 14.25 7.99997C14.25 8.21335 14.1591 8.41663 14.0001 8.5589L9.2501 12.8089C8.94141 13.0851 8.46727 13.0588 8.19107 12.7501C7.91488 12.4414 7.94122 11.9672 8.24991 11.691L11.537 8.74997L2.75 8.74997C2.33579 8.74997 2 8.41419 2 7.99997Z\"\\n        fill=\"currentColor\"\\n    />\\n</svg>\\n</span>                                                            </div>\\n                                                        </a>\\n                                                    </li>\\n                                                                                            </ul>\\n                                                                            </li>\\n                                                                                                        <li class=\"shadow-[1px_1px_0_0_theme(colors.wl-neutral-200),0_1px_0_0_theme(colors.wl-neutral-200)_inset]\"\\n                                        data-has-children=\"true\">\\n                                        <a href=\"#\" class=\"text-wl-neutral-950 group flex items-center p-6 hover:no-underline\" aria-label=\"Parcerias\">\\n                                            <span class=\"flex-grow font-semibold group-hover:underline underline-offset-4\">\\n                                                Parcerias                                            </span>\\n                                                                                            <div class=\"w-6 h-6\">\\n                                                    <span class=\"w-full h-full [&amp;&gt;svg]:w-full [&amp;&gt;svg]:h-full\" ><svg\\n    width=\"24\"\\n    height=\"24\"\\n    viewBox=\"0 0 24 24\"\\n    fill=\"none\"\\n    xmlns=\"http://www.w3.org/2000/svg\"\\n>\\n    <path\\n        d=\"M8.29289 4.29289C7.90237 4.68342 7.90237 5.31658 8.29289 5.70711L14.5858 12L8.29289 18.2929C7.90237 18.6834 7.90237 19.3166 8.29289 19.7071C8.68342 20.0976 9.31658 20.0976 9.70711 19.7071L16.7071 12.7071C17.0976 12.3166 17.0976 11.6834 16.7071 11.2929L9.70711 4.29289C9.31658 3.90237 8.68342 3.90237 8.29289 4.29289Z\"\\n        fill=\"currentColor\"\\n    />\\n</svg>\\n</span>                                                </div>\\n                                                                                    </a>\\n                                                                                    <ul data-ds-element=\"submenu\" class=\"sr-only p-6 space-y-6\">\\n                                                                                                    <li>\\n                                                        <a href=\"/patrocinados/\" class=\"text-wl-neutral-950 flex items-center group hover:no-underline\" aria-label=\"Patrocinados\">\\n                                                            <span class=\"mr-2 font-semibold group-hover:underline underline-offset-4\">\\n                                                                Patrocinados                                                            </span>\\n                                                            <div class=\"w-4 h-4\">\\n                                                                <span class=\"w-full h-full [&amp;&gt;svg]:w-full [&amp;&gt;svg]:h-full\" ><svg\\n    width=\"16\"\\n    height=\"16\"\\n    viewBox=\"0 0 16 16\"\\n    fill=\"none\"\\n    xmlns=\"http://www.w3.org/2000/svg\"\\n>\\n    <path\\n        d=\"M2 7.99997C2 7.58576 2.33579 7.24997 2.75 7.24997L11.537 7.24997L8.24991 4.30891C7.94122 4.03271 7.91488 3.55857 8.19107 3.24988C8.46727 2.94119 8.94141 2.91485 9.2501 3.19105L14.0001 7.44104C14.1591 7.58332 14.25 7.7866 14.25 7.99997C14.25 8.21335 14.1591 8.41663 14.0001 8.5589L9.2501 12.8089C8.94141 13.0851 8.46727 13.0588 8.19107 12.7501C7.91488 12.4414 7.94122 11.9672 8.24991 11.691L11.537 8.74997L2.75 8.74997C2.33579 8.74997 2 8.41419 2 7.99997Z\"\\n        fill=\"currentColor\"\\n    />\\n</svg>\\n</span>                                                            </div>\\n                                                        </a>\\n                                                    </li>\\n                                                                                            </ul>\\n                                                                            </li>\\n                                                                                                        <li class=\"\"\\n                                        data-has-children=\"false\">\\n                                        <a href=\"/ferramentas/simulador-xp/?utm_source=infomoney&#038;utm_medium=simulador-ticker&#038;utm_campaign=simulador-xp\" class=\"text-wl-neutral-950 group flex items-center p-6 hover:no-underline\" aria-label=\"Simule agora\">\\n                                            <span class=\"flex-grow font-semibold group-hover:underline underline-offset-4\">\\n                                                Simule agora                                            </span>\\n                                                                                    </a>\\n                                                                            </li>\\n                                                                <li class=\"border-t border-t-wl-neutral-200\">\\n                                    <button class=\"text-wl-neutral-950 group flex items-center py-6 px-6 hover:no-underline\" data-ds-element=\"menu-search\" aria-label=\"Pesquisar\">\\n                                        <div class=\"w-6 h-6 mr-2\">\\n                                            <span class=\"w-full h-full [&amp;&gt;svg]:w-full [&amp;&gt;svg]:h-full\" ><svg\\n    width=\"24\"\\n    height=\"24\"\\n    viewBox=\"0 0 24 24\"\\n    fill=\"none\"\\n    xmlns=\"http://www.w3.org/2000/svg\"\\n>\\n    <path\\n        d=\"M10 2.5C14.1421 2.5 17.5 5.85786 17.5 10C17.5 11.7101 16.9276 13.2866 15.964 14.5483L20.7071 19.2929C21.0976 19.6834 21.0976 20.3166 20.7071 20.7071C20.3466 21.0676 19.7794 21.0953 19.3871 20.7903L19.2929 20.7071L14.5483 15.964C13.2866 16.9276 11.7101 17.5 10 17.5C5.85786 17.5 2.5 14.1421 2.5 10C2.5 5.85786 5.85786 2.5 10 2.5ZM10 4.5C6.96243 4.5 4.5 6.96243 4.5 10C4.5 13.0376 6.96243 15.5 10 15.5C13.0376 15.5 15.5 13.0376 15.5 10C15.5 6.96243 13.0376 4.5 10 4.5Z\"\\n        fill=\"currentColor\"\\n    />\\n</svg>\\n</span>                                        </div>\\n                                        <span class=\"font-semibold group-hover:underline underline-offset-4\">Pesquisar</span>\\n                                    </button>\\n                                </li>\\n                            </ul>\\n                                                    </nav>\\n                    </div>\\n\\n                    <div data-ds-element=\"menu-sub-level\" class=\"flex-grow shrink-0 basis-full transform -sr-only\">\\n                        <nav>\\n                            <button data-ds-element=\"submenu-heading\" class=\"flex w-full items-center !py-3 border-b border-b-wl-neutral-200 p-6\" aria-label=\"Navegar dentro do menu\">\\n                                <div class=\"w-6 h-6 mr-2\">\\n                                    <span class=\"w-full h-full [&amp;&gt;svg]:w-full [&amp;&gt;svg]:h-full\" ><svg\\n    width=\"24\"\\n    height=\"24\"\\n    viewBox=\"0 0 24 24\"\\n    fill=\"none\"\\n    xmlns=\"http://www.w3.org/2000/svg\"\\n>\\n    <path\\n        d=\"M15.7071 4.29289C16.0976 4.68342 16.0976 5.31658 15.7071 5.70711L9.41421 12L15.7071 18.2929C16.0976 18.6834 16.0976 19.3166 15.7071 19.7071C15.3166 20.0976 14.6834 20.0976 14.2929 19.7071L7.29289 12.7071C6.90237 12.3166 6.90237 11.6834 7.29289 11.2929L14.2929 4.29289C14.6834 3.90237 15.3166 3.90237 15.7071 4.29289Z\"\\n        fill=\"currentColor\"\\n    />\\n</svg>\\n</span>                                </div>\\n                                <span data-ds-element=\"label\"></span>\\n                            </button>\\n                            <div data-ds-element=\"submenu-items\"></div>\\n                        </nav>\\n                    </div>\\n                </div>\\n            </div>\\n        </div>\\n                    </div>\\n            <!-- Top Menu -->\\n            <div data-ds-element=\"top-menu\" class=\"top-menu-header bg-wl-neutral-950\">\\n                        <nav data-ds-component=\"top-menu\" class=\"overflow-x-scroll scrollbar-thin lg:overflow-x-auto\">\\n            <ul class=\"px-6 lg:px-16 lg:flex lg:justify-center space-x-4 w-max lg:w-full\">\\n                                    \\n                    <li data-current=\"false\"\\n                        class=\"!px-2 pb-0.5 inline-block flex-shrink-0 lg:block \">\\n                        <a href=\"https://www.infomoney.com.br/\" class=\"text-wl-neutral-400 hover:text-wl-white hover:no-underline\" aria-label=\"Início\">\\n                            Início                        </a>\\n                    </li>\\n                                    \\n                    <li data-current=\"false\"\\n                        class=\"!px-2 pb-0.5 inline-block flex-shrink-0 lg:block \">\\n                        <a href=\"https://www.infomoney.com.br/ultimas-noticias/\" class=\"text-wl-neutral-400 hover:text-wl-white hover:no-underline\" aria-label=\"Últimas Notícias\">\\n                            Últimas Notícias                        </a>\\n                    </li>\\n                                    \\n                    <li data-current=\"false\"\\n                        class=\"!px-2 pb-0.5 inline-block flex-shrink-0 lg:block \">\\n                        <a href=\"https://www.infomoney.com.br/mercados/\" class=\"text-wl-neutral-400 hover:text-wl-white hover:no-underline\" aria-label=\"Mercados\">\\n                            Mercados                        </a>\\n                    </li>\\n                                    \\n                    <li data-current=\"false\"\\n                        class=\"!px-2 pb-0.5 inline-block flex-shrink-0 lg:block \">\\n                        <a href=\"https://www.infomoney.com.br/onde-investir/\" class=\"text-wl-neutral-400 hover:text-wl-white hover:no-underline\" aria-label=\"Onde Investir\">\\n                            Onde Investir                        </a>\\n                    </li>\\n                                    \\n                    <li data-current=\"true\"\\n                        class=\"!px-2 pb-0.5 inline-block flex-shrink-0 lg:block border-b-2 border-b-wl-neutral-200\">\\n                        <a href=\"https://www.infomoney.com.br/politica/\" class=\"text-wl-neutral-200 hover:no-underline\" aria-label=\"Política\">\\n                            Política                        </a>\\n                    </li>\\n                                    \\n                    <li data-current=\"false\"\\n                        class=\"!px-2 pb-0.5 inline-block flex-shrink-0 lg:block \">\\n                        <a href=\"https://www.infomoney.com.br/economia/\" class=\"text-wl-neutral-400 hover:text-wl-white hover:no-underline\" aria-label=\"Economia\">\\n                            Economia                        </a>\\n                    </li>\\n                                    \\n                    <li data-current=\"false\"\\n                        class=\"!px-2 pb-0.5 inline-block flex-shrink-0 lg:block \">\\n                        <a href=\"https://www.infomoney.com.br/mundo/\" class=\"text-wl-neutral-400 hover:text-wl-white hover:no-underline\" aria-label=\"Mundo\">\\n                            Mundo                        </a>\\n                    </li>\\n                                    \\n                    <li data-current=\"false\"\\n                        class=\"!px-2 pb-0.5 inline-block flex-shrink-0 lg:block \">\\n                        <a href=\"https://www.infomoney.com.br/minhas-financas/\" class=\"text-wl-neutral-400 hover:text-wl-white hover:no-underline\" aria-label=\"Minhas Finanças\">\\n                            Minhas Finanças                        </a>\\n                    </li>\\n                                    \\n                    <li data-current=\"false\"\\n                        class=\"!px-2 pb-0.5 inline-block flex-shrink-0 lg:block \">\\n                        <a href=\"https://www.infomoney.com.br/business/\" class=\"text-wl-neutral-400 hover:text-wl-white hover:no-underline\" aria-label=\"Business\">\\n                            Business                        </a>\\n                    </li>\\n                                    \\n                    <li data-current=\"false\"\\n                        class=\"!px-2 pb-0.5 inline-block flex-shrink-0 lg:block \">\\n                        <a href=\"https://www.infomoney.com.br/esportes/\" class=\"text-wl-neutral-400 hover:text-wl-white hover:no-underline\" aria-label=\"Esportes\">\\n                            Esportes                        </a>\\n                    </li>\\n                                    \\n                    <li data-current=\"false\"\\n                        class=\"!px-2 pb-0.5 inline-block flex-shrink-0 lg:block \">\\n                        <a href=\"https://www.infomoney.com.br/brasil/\" class=\"text-wl-neutral-400 hover:text-wl-white hover:no-underline\" aria-label=\"Brasil\">\\n                            Brasil                        </a>\\n                    </li>\\n                                    \\n                    <li data-current=\"false\"\\n                        class=\"!px-2 pb-0.5 inline-block flex-shrink-0 lg:block \">\\n                        <a href=\"https://www.infomoney.com.br/tudo-sobre/trader/\" class=\"text-wl-neutral-400 hover:text-wl-white hover:no-underline\" aria-label=\"Trader\">\\n                            Trader                        </a>\\n                    </li>\\n                                    \\n                    <li data-current=\"false\"\\n                        class=\"!px-2 pb-0.5 inline-block flex-shrink-0 lg:block \">\\n                        <a href=\"https://www.infomoney.com.br/advisor/\" class=\"text-wl-neutral-400 hover:text-wl-white hover:no-underline\" aria-label=\"Advisor\">\\n                            Advisor                        </a>\\n                    </li>\\n                            </ul>\\n        </nav>\\n                    </div>\\n            <!-- New Ticker -->\\n            <div class=\"after-header\">\\n                        <div data-ds-element=\"ticker-marquee\"class=\"ticker-container max-w-full overflow-y-hidden max-h-10\"></div>\\n                    </div>\\n            <!-- After header react portal -->\\n            <div class=\"absolute left-0 right-0 transition-all transform-gpu\" data-ds-element=\"after-header-portal\"></div>\\n        </header>\\n                    <main>\\n                         <div data-ds-component=\"ad\" data-ad-type=\"SUPER\" class=\"px-6 py-4 mb-6 bg-wl-neutral-50 min-h-[122px] mt-4 md:mt-6 z-50\">\\n            <div data-ds-element=\"image\" class=\"flex justify-center\">\\n                <div data-component-type=\"ads\" data-ads-type=\"SUPER\"></div>\\n            </div>\\n        </div>\\n                                <nav data-ds-component=\"breadcrumbs\" class=\"max-w-5xl mx-auto my-4 px-6 xl:px-0\">\\n            <ul class=\"flex items-center space-x-2\">\\n                                    <li>\\n                                                    <a href=\"https://www.infomoney.com.br/politica/\" class=\"text-sm font-semibold underline underline-offset-2 text-wl-action-link hover:text-wl-action-link-hover\" aria-label=\"Política\">\\n                                Política                            </a>\\n                                            </li>\\n                                            <div class=\"bg-neutral-500 w-[1px] h-3.5\"></div>\\n                                                        <li>\\n                         \\n                            <span\\n                                class=\"text-sm text-wl-neutral-600 \">\\n                                Mudanças na lei                            </span>\\n                                            </li>\\n                                                </ul>\\n        </nav>\\n                                <div data-ds-component=\"article-title\" class=\"max-w-5xl my-4 mx-auto space-y-4 px-6 xl:px-0\">\\n            <h1\\n                class=\"text-3xl md:text-5xl font-bold tracking-tighter text-wl-neutral-950\">\\n                Reforma Trabalhista de Bolsonaro: entenda a MP 905 &#8211; e por que ela pode ser contestada judicialmente            </h1>\\n                            <div class=\"text-lg md:text-xl font-medium tracking-tight text-wl-neutral-600\">\\n                    Governo anuncia pacote que altera leis trabalhistas, mas princípio da isonomia pode ser ferido pela MP                </div>\\n                    </div>\\n        \\n                <div class=\"lg:flex justify-between items-center max-w-screen-lg mx-auto pb-4 mb-6 px-6 xl:px-0 border-0 md:border-b\">\\n                    <div class=\"mb-4 lg:mb-0\">\\n                                <div data-ds-component=\"author-small\" class=\"lg:flex items-center\">\\n            <div class=\"lg:flex-auto\">\\n                <p class=\"flex flex-wrap items-center\">\\n                                                                        <a\\n                                href=\"https://www.infomoney.com.br/autor/pablo-santana/\"\\n                                class=\"text-base md:text-lg font-semibold tracking-tight text-wl-action-link hover:text-wl-action-link-hover underline underline-offset-2\"\\n                                aria-label=\"Pablo Santana\">\\n                                Pablo Santana                            </a>\\n                                                                                    <p class=\"im-mob-core-description lg:im-web-core-description text-wl-neutral-600\">\\n                    <time datetime=\"2019-11-14T15:26:14-03:00\">\\n                        14/11/2019 15h26                    </time>\\n                                            &bull;\\n                        <time datetime=\"2020-03-04T12:01:56-03:00\">\\n                                Atualizado 5 anos atrás\\n                        </time>\\n                                    </p>\\n            </div>\\n        </div>\\n                            </div>\\n                            <div data-ds-component=\"social-share\" class=\"relative flex justify-between w-full max-w-[280px]\">\\n                    <a class=\"flex items-center text-center gap-2 justify-center shadow-inner-border shadow-wl-neutral-600 disabled:shadow-none rounded-full shrink-0 text-wl-neutral-600 hover:text-wl-neutral-0 disabled:text-wl-neutral-400 bg-transparent hover:bg-wl-neutral-600 disabled:bg-wl-neutral-200 p-2 w-9 h-9 text-sm font-medium\" data-ds-element=\"social-share-whatsapp\" data-ds-component=\"button\" data-ds-variant=\"outline\" title=\"Compartilhar no whatsapp\" href=\"https://wa.me/?text=Reforma%20Trabalhista%20de%20Bolsonaro%3A%20entenda%20a%20MP%20905%20%26%238211%3B%20e%20por%20que%20ela%20pode%20ser%20contestada%20judicialmente https%3A%2F%2Fwww.infomoney.com.br%2Fpolitica%2F10-pontos-para-entender-a-mp-905-e-por-que-ela-pode-ser-contestada-judicialmente%2F%3Futm_source%3Dwhatsapp%26utm_medium%3Dsocial\" target=\"_blank\">\\n                                        <div class=\"size-5\">\\n                    <span class=\"w-full h-full [&amp;&gt;svg]:w-full [&amp;&gt;svg]:h-full\" ><svg\\n    viewBox=\"0 0 18 18\"\\n    fill=\"none\"\\n    xmlns=\"http://www.w3.org/2000/svg\"\\n>\\n    <path\\n        fill-rule=\"evenodd\"\\n        clip-rule=\"evenodd\"\\n        d=\"M14.9943 2.97035C13.4041 1.37811 11.2892 0.500808 9.03575 0.5C4.39235 0.5 0.613316 4.27863 0.611701 8.92326C0.610893 10.408 0.999056 11.8573 1.7362 13.1345L0.541016 17.5L5.00671 16.3286C6.23702 17 7.62245 17.3534 9.03213 17.3538H9.03575C13.6784 17.3538 17.4578 13.5747 17.4594 8.93012C17.4602 6.67912 16.5849 4.56299 14.9943 2.97075V2.97035ZM9.03575 15.9312H9.03293C7.77674 15.9308 6.54442 15.5931 5.46921 14.9553L5.21352 14.8035L2.56342 15.4986L3.27068 12.9147L3.10426 12.6498C2.40347 11.535 2.03308 10.2465 2.03389 8.92368C2.0355 5.06344 5.17635 1.92259 9.03862 1.92259C10.9087 1.9234 12.6666 2.65247 13.9886 3.9761C15.3106 5.29933 16.038 7.0588 16.0373 8.92932C16.0356 12.79 12.8948 15.9308 9.03575 15.9308V15.9312ZM12.8762 10.6876C12.6657 10.5822 11.6309 10.0732 11.4378 10.0029C11.2448 9.93263 11.1046 9.89752 10.9645 10.1083C10.8243 10.3192 10.4208 10.7934 10.298 10.9335C10.1752 11.0741 10.0524 11.0915 9.84196 10.986C9.63156 10.8806 8.95337 10.6585 8.14918 9.94151C7.52353 9.3833 7.10099 8.69425 6.97824 8.48338C6.85544 8.27255 6.96531 8.15864 7.0703 8.05403C7.16481 7.95952 7.28075 7.80805 7.38616 7.68525C7.49162 7.56245 7.52635 7.47443 7.59661 7.33424C7.66691 7.19368 7.63176 7.07092 7.57926 6.96547C7.52672 6.86006 7.10588 5.82399 6.93016 5.40272C6.75928 4.99235 6.58564 5.04809 6.45677 5.04123C6.33397 5.03516 6.19383 5.03396 6.05327 5.03396C5.91271 5.03396 5.68487 5.08646 5.49181 5.29731C5.29876 5.50813 4.75507 6.01747 4.75507 7.05311C4.75507 8.08876 5.5092 9.09009 5.61461 9.23065C5.72002 9.37122 7.09897 11.497 9.21025 12.4091C9.71235 12.6259 10.1045 12.7556 10.4103 12.8526C10.9144 13.0129 11.3732 12.9903 11.7359 12.9362C12.1403 12.8756 12.9812 12.4268 13.1565 11.9353C13.3318 11.4437 13.3318 11.022 13.2793 10.9343C13.2268 10.8467 13.0863 10.7938 12.8758 10.6884L12.8762 10.6876Z\"\\n        fill=\"currentColor\"\\n    />\\n</svg>\\n</span>                </div>\\n                    </a>\\n                <a class=\"flex items-center text-center gap-2 justify-center shadow-inner-border shadow-wl-neutral-600 disabled:shadow-none rounded-full shrink-0 text-wl-neutral-600 hover:text-wl-neutral-0 disabled:text-wl-neutral-400 bg-transparent hover:bg-wl-neutral-600 disabled:bg-wl-neutral-200 p-2 w-9 h-9 text-sm font-medium\" data-ds-element=\"social-share-facebook\" data-ds-component=\"button\" data-ds-variant=\"outline\" title=\"Compartilhar no facebook\" href=\"https://facebook.com/sharer/sharer.php?u=https%3A%2F%2Fwww.infomoney.com.br%2Fpolitica%2F10-pontos-para-entender-a-mp-905-e-por-que-ela-pode-ser-contestada-judicialmente%2F%3Futm_source%3Dfacebook%26utm_medium%3Dsocial\" target=\"_blank\">\\n                                        <div class=\"size-5\">\\n                    <span class=\"w-full h-full [&amp;&gt;svg]:w-full [&amp;&gt;svg]:h-full\" ><svg\\n    viewBox=\"0 0 13 25\"\\n    fill=\"none\"\\n    xmlns=\"http://www.w3.org/2000/svg\"\\n>\\n    <path\\n        d=\"M11.9214 13.8981L12.5825 9.58738H8.4466V6.79126C8.4466 5.61194 9.02447 4.46117 10.8769 4.46117H12.7573V0.791262C12.7573 0.791262 11.0508 0.5 9.41913 0.5C6.01282 0.5 3.78641 2.56447 3.78641 6.30194V9.58738H0V13.8981H3.78641V24.3188C5.33042 24.5604 6.90259 24.5604 8.4466 24.3188V13.8981H11.9214Z\"\\n        fill=\"currentColor\"\\n    />\\n</svg>\\n</span>                </div>\\n                    </a>\\n                <a class=\"flex items-center text-center gap-2 justify-center shadow-inner-border shadow-wl-neutral-600 disabled:shadow-none rounded-full shrink-0 text-wl-neutral-600 hover:text-wl-neutral-0 disabled:text-wl-neutral-400 bg-transparent hover:bg-wl-neutral-600 disabled:bg-wl-neutral-200 p-2 w-9 h-9 text-sm font-medium\" data-ds-element=\"social-share-twitter\" data-ds-component=\"button\" data-ds-variant=\"outline\" title=\"Compartilhar no twitter\" href=\"https://twitter.com/intent/tweet?url=https%3A%2F%2Fwww.infomoney.com.br%2Fpolitica%2F10-pontos-para-entender-a-mp-905-e-por-que-ela-pode-ser-contestada-judicialmente%2F%3Futm_source%3Dtwitter%26utm_medium%3Dsocial&text=Reforma Trabalhista de Bolsonaro: entenda a MP 905 &#8211; e por que ela pode ser contestada judicialmente&via=InfoMoney\" target=\"_blank\">\\n                                        <div class=\"size-5\">\\n                    <span class=\"w-full h-full [&amp;&gt;svg]:w-full [&amp;&gt;svg]:h-full\" ><svg\\n    viewBox=\"0 0 24 22\"\\n    fill=\"none\"\\n    xmlns=\"http://www.w3.org/2000/svg\"\\n>\\n    <path\\n        fill-rule=\"evenodd\"\\n        clip-rule=\"evenodd\"\\n        d=\"M8.99079 11.9381L0 0.5H7.12135L12.6713 7.56951L18.6005 0.53183H22.5226L14.5676 9.98506L24 22H16.8999L10.8905 14.3548L4.47476 21.9788H0.531444L8.99079 11.9381ZM17.9348 19.8807L4.36657 2.61927H6.08565L19.6368 19.8807H17.9348Z\"\\n        fill=\"currentColor\"\\n    />\\n</svg>\\n</span>                </div>\\n                    </a>\\n                <a class=\"flex items-center text-center gap-2 justify-center shadow-inner-border shadow-wl-neutral-600 disabled:shadow-none rounded-full shrink-0 text-wl-neutral-600 hover:text-wl-neutral-0 disabled:text-wl-neutral-400 bg-transparent hover:bg-wl-neutral-600 disabled:bg-wl-neutral-200 p-2 w-9 h-9 text-sm font-medium\" data-ds-element=\"social-share-linkedin\" data-ds-component=\"button\" data-ds-variant=\"outline\" title=\"Compartilhar no linkedin\" href=\"https://www.linkedin.com/shareArticle?mini=true&amp;url=https%3A%2F%2Fwww.infomoney.com.br%2Fpolitica%2F10-pontos-para-entender-a-mp-905-e-por-que-ela-pode-ser-contestada-judicialmente%2F%3Futm_source%3Dlinkedin%26utm_medium%3Dsocial&amp;title=Reforma%20Trabalhista%20de%20Bolsonaro%3A%20entenda%20a%20MP%20905%20%26%238211%3B%20e%20por%20que%20ela%20pode%20ser%20contestada%20judicialmente&amp;source=InfoMoney\" target=\"_blank\">\\n                                        <div class=\"size-5\">\\n                    <span class=\"w-full h-full [&amp;&gt;svg]:w-full [&amp;&gt;svg]:h-full\" ><svg\\n    viewBox=\"0 0 24 25\"\\n    fill=\"none\"\\n    xmlns=\"http://www.w3.org/2000/svg\"\\n>\\n    <path\\n        d=\"M22.2283 0.5H1.77167C1.30179 0.5 0.851161 0.686657 0.518909 1.01891C0.186657 1.35116 0 1.80179 0 2.27167V22.7283C0 23.1982 0.186657 23.6488 0.518909 23.9811C0.851161 24.3133 1.30179 24.5 1.77167 24.5H22.2283C22.6982 24.5 23.1488 24.3133 23.4811 23.9811C23.8133 23.6488 24 23.1982 24 22.7283V2.27167C24 1.80179 23.8133 1.35116 23.4811 1.01891C23.1488 0.686657 22.6982 0.5 22.2283 0.5ZM7.15333 20.945H3.545V9.48333H7.15333V20.945ZM5.34667 7.895C4.93736 7.8927 4.53792 7.7692 4.19873 7.54009C3.85955 7.31098 3.59584 6.98653 3.44088 6.60769C3.28591 6.22885 3.24665 5.81259 3.32803 5.41145C3.40941 5.01032 3.6078 4.64228 3.89816 4.35378C4.18851 4.06529 4.55782 3.86927 4.95947 3.79046C5.36112 3.71165 5.77711 3.75359 6.15495 3.91099C6.53279 4.06838 6.85554 4.33417 7.08247 4.67481C7.30939 5.01546 7.43032 5.41569 7.43 5.825C7.43386 6.09903 7.38251 6.37104 7.27901 6.6248C7.17551 6.87857 7.02198 7.1089 6.82757 7.30207C6.63316 7.49523 6.40185 7.64728 6.14742 7.74915C5.893 7.85102 5.62067 7.90062 5.34667 7.895ZM20.4533 20.955H16.8467V14.6933C16.8467 12.8467 16.0617 12.2767 15.0483 12.2767C13.9783 12.2767 12.9283 13.0833 12.9283 14.74V20.955H9.32V9.49167H12.79V11.08H12.8367C13.185 10.375 14.405 9.17 16.2667 9.17C18.28 9.17 20.455 10.365 20.455 13.865L20.4533 20.955Z\"\\n        fill=\"currentColor\"\\n    />\\n</svg>\\n</span>                </div>\\n                    </a>\\n                <a class=\"flex items-center text-center gap-2 justify-center shadow-inner-border shadow-wl-neutral-600 disabled:shadow-none rounded-full shrink-0 text-wl-neutral-600 hover:text-wl-neutral-0 disabled:text-wl-neutral-400 bg-transparent hover:bg-wl-neutral-600 disabled:bg-wl-neutral-200 p-2 w-9 h-9 text-sm font-medium\" data-ds-element=\"social-share-telegram\" data-ds-component=\"button\" data-ds-variant=\"outline\" title=\"Compartilhar no telegram\" href=\"https://telegram.me/share/url?url=https%3A%2F%2Fwww.infomoney.com.br%2Fpolitica%2F10-pontos-para-entender-a-mp-905-e-por-que-ela-pode-ser-contestada-judicialmente%2F%3Futm_source%3Dtelegram%26utm_medium%3Dsocial&amp;text=Reforma%20Trabalhista%20de%20Bolsonaro%3A%20entenda%20a%20MP%20905%20%26%238211%3B%20e%20por%20que%20ela%20pode%20ser%20contestada%20judicialmente&amp;via=\" target=\"_blank\">\\n                                        <div class=\"size-5\">\\n                    <span class=\"w-full h-full [&amp;&gt;svg]:w-full [&amp;&gt;svg]:h-full\" ><svg\\n    viewBox=\"0 0 22 19\"\\n    fill=\"none\"\\n    xmlns=\"http://www.w3.org/2000/svg\"\\n>\\n    <path\\n        fill-rule=\"evenodd\"\\n        clip-rule=\"evenodd\"\\n        d=\"M1.51239 8.34877C7.41795 5.77581 11.3559 4.07955 13.3263 3.26001C18.9521 0.920042 20.1211 0.513565 20.883 0.500143C21.0506 0.497191 21.4253 0.538722 21.668 0.735667C21.873 0.901964 21.9294 1.12661 21.9563 1.28427C21.9833 1.44194 22.0169 1.80111 21.9902 2.08176C21.6854 5.28499 20.3662 13.0584 19.6951 16.6461C19.4111 18.1642 18.852 18.6732 18.3107 18.723C17.1343 18.8312 16.2409 17.9455 15.1015 17.1986C13.3186 16.0299 12.3113 15.3023 10.5807 14.1619C8.58058 12.8438 9.87715 12.1194 11.017 10.9355C11.3153 10.6257 16.4986 5.91112 16.5989 5.48343C16.6115 5.42994 16.6231 5.23056 16.5046 5.12528C16.3862 5.02 16.2114 5.056 16.0852 5.08463C15.9064 5.12522 13.0581 7.00783 7.54035 10.7325C6.73187 11.2876 5.99958 11.5581 5.34347 11.5439C4.62016 11.5283 3.2288 11.135 2.19447 10.7988C0.925826 10.3864 -0.0824703 10.1683 0.00532971 9.46798C0.0510613 9.10319 0.553413 8.73012 1.51239 8.34877Z\"\\n        fill=\"currentColor\"\\n    />\\n</svg>\\n</span>                </div>\\n                    </a>\\n                <button class=\"flex items-center text-center gap-2 justify-center shadow-inner-border shadow-wl-neutral-600 disabled:shadow-none rounded-full shrink-0 text-wl-neutral-600 hover:text-wl-neutral-0 disabled:text-wl-neutral-400 bg-transparent hover:bg-wl-neutral-600 disabled:bg-wl-neutral-200 p-2 w-9 h-9 text-sm font-medium\" data-ds-element=\"social-share-copy-link\" data-ds-component=\"button\" data-ds-variant=\"outline\" title=\"Copiar link\" href=\"\" target=\"_blank\">\\n                                        <div class=\"size-5\">\\n                    <span class=\"w-full h-full [&amp;&gt;svg]:w-full [&amp;&gt;svg]:h-full\" ><svg\\n    viewBox=\"0 0 22 17\"\\n    fill=\"none\"\\n    xmlns=\"http://www.w3.org/2000/svg\"\\n>\\n    <path\\n        d=\"M5.25 0.5C2.3505 0.5 0 2.85051 0 5.75C0 8.0533 1.48322 10.0101 3.54662 10.7175C3.60778 10.2077 3.72795 9.7161 3.90008 9.2497C2.49602 8.7077 1.5 7.3452 1.5 5.75C1.5 3.67893 3.17893 2 5.25 2H11.75C13.8211 2 15.5 3.67893 15.5 5.75C15.5 7.8211 13.8211 9.5 11.75 9.5H10.75C10.3358 9.5 10 9.8358 10 10.25C10 10.6642 10.3358 11 10.75 11H11.75C14.6495 11 17 8.6495 17 5.75C17 2.85051 14.6495 0.5 11.75 0.5H5.25ZM18.3907 6.696C18.2977 7.1963 18.1473 7.6765 17.9467 8.1295C19.4198 8.5424 20.5 9.8951 20.5 11.5C20.5 13.433 18.933 15 17 15H10C8.067 15 6.5 13.433 6.5 11.5C6.5 9.567 8.067 8 10 8H11.25C11.6642 8 12 7.6642 12 7.25C12 6.8358 11.6642 6.5 11.25 6.5H10C7.23858 6.5 5 8.7386 5 11.5C5 14.2614 7.23858 16.5 10 16.5H17C19.7614 16.5 22 14.2614 22 11.5C22 9.2212 20.4755 7.2984 18.3907 6.696Z\"\\n        fill=\"currentColor\"\\n    />\\n</svg>\\n</span>                </div>\\n                    </button>\\n                </div>\\n                        </div>\\n                                    <div class=\"px-6 md:px-0\">\\n                                <figure data-ds-component=\"media\" class=\"mx-auto my-6 mx-auto space-y-3 max-w-2xl\">\\n            <img class=\"rounded-sm w-full\" src=\"https://www.infomoney.com.br/wp-content/uploads/2019/11/shutterstock_1300372189.jpg?fit=1000%2C716&#038;quality=70&#038;strip=all\" srcset=\"https://www.infomoney.com.br/wp-content/uploads/2019/11/shutterstock_1300372189.jpg?w=1000&amp;quality=70&amp;strip=all 1000w, https://www.infomoney.com.br/wp-content/uploads/2019/11/shutterstock_1300372189.jpg?w=300&amp;quality=70&amp;strip=all 300w, https://www.infomoney.com.br/wp-content/uploads/2019/11/shutterstock_1300372189.jpg?w=768&amp;quality=70&amp;strip=all 768w, https://www.infomoney.com.br/wp-content/uploads/2019/11/shutterstock_1300372189.jpg?w=150&amp;quality=70&amp;strip=all 150w\" alt=\"(Shutterstock)\">\\n                            <figcaption class=\"text-xs text-wl-neutral-500\">\\n                    (Shutterstock)                </figcaption>\\n                    </figure>\\n                            </div>\\n                \\n                        <article class=\"im-article clear-fix\" data-ds-component=\"article\">\\n                    <div data-ds-component=\"ad\" data-ad-type=\"RETANGULO_AF\" class=\"relative [&_iframe]:mx-auto z-0 md:mr-[calc((100%-42rem)/2)] ml-6 mb-6 mt-2 md:float-right flex flex-col lg:min-w-[300px] lg:max-w-[300px] bg-wl-neutral-50 min-h-[282px]\">\\n            <div data-component-type=\"ads\" data-ads-type=\"RETANGULO_AF\"></div>\\n            <p class=\"py-2 mt-auto text-wl-neutral-500 text-xs text-center\">Publicidade</p>\\n        </div>\\n        <p>SÃO PAULO – Instituída pelo presidente Jair Bolsonaro na última segunda-feira (11), a Medida Provisória 905/2019 altera pontos da legislação trabalhista e cria o Contrato de Trabalho <strong>Verde Amarelo</strong>, dando incentivos a empresas para contratar jovens entre 18 e 29 anos, sem experiência na carteira, pelo prazo determinado de dois anos.</p><p>Para bancar a iniciativa, o governo anunciou que irá <a href=\"https://www.infomoney.com.br/politica/governo-vai-taxar-seguro-desemprego-para-bancar-empregos-de-mais-jovens/\">taxar o seguro-desemprego. </a>A estimativa oficial é de 1,8 milhão de vagas de emprego em um prazo de três anos.</p><p>Entre as principais condições criadas para incentivar as contratações na modalidade estão: isenção das alíquotas do Sistema S, do salário-educação e da contribuição patronal de 20%\\xa0 para o FGTS. As mudanças geram um corte de até 34% dos impostos pagos sobre a folha.</p><div class=\"cta-middle\">\\n\\n\\t\\n\\t<div class=\"im-cta\" >\\n\\t\\t<div class=\"max-w-2xl mx-auto space-y-4 px-6 xl:px-0 my-10\">\\n\\t\\t\\t<section class=\"border-8 border-blue-50 rounded-lg pb-6\">\\n\\t\\t\\t\\t<div class=\"px-6\">\\n\\t\\t\\t\\t\\t<div class=\"flex gap-4 max-w-md mx-auto\">\\n\\t\\t\\t\\t\\t\\t\\t\\t\\t\\t\\t\\t\\t\\t\\t\\t\\t</div>\\n\\t\\t\\t\\t</div>\\n\\t\\t\\t\\t\\t\\t\\t\\t\\t\\t\\t\\t\\t\\t<div >\\n\\t\\t\\t\\t\\t\\t<img class=\"w-full h-full object-cover\" src=\"https://www.infomoney.com.br/wp-content/uploads/2025/01/900-x-300-com-texto-na-imagem-3.png?fit=900%2C300&#038;quality=70&#038;strip=all\" alt=\"\">\\n\\t\\t\\t\\t\\t</div>\\n\\t\\t\\t\\t\\t\\t\\t\\t\\t\\t\\t\\t\\t\\t\\t\\t\\t<div class=\"mt-6 px-6\">\\n\\t\\t\\t\\t\\t\\t<div class=\"max-w-md mx-auto\">\\n\\t\\t\\t\\t\\t\\t\\t<div class=\"mt-4\">\\n\\t\\t\\t\\t\\t\\t\\t\\t        <a href=\"https://lps.infomoney.com.br/manual-dividendos-guia-definitivo-inscricao?utm_source=infomoney&#038;utm_medium=materia&#038;utm_campaign=mdd&#038;utm_term=hiperlink-imagem&#038;utm_content=internas\" class=\"flex items-center justify-center gap-2 text-white rounded-full bg-wl-action-link hover:bg-wl-action-link-hover text-lg py-3.5 px-6\" target=\"_self\" aria-label=\"QUERO MEU ACESSO\">\\n            QUERO MEU ACESSO                            <div class=\"size-5\">\\n                    <span class=\"w-full h-full [&amp;&gt;svg]:w-full [&amp;&gt;svg]:h-full\" ><svg\\n    width=\"16\"\\n    height=\"16\"\\n    viewBox=\"0 0 16 16\"\\n    fill=\"none\"\\n    xmlns=\"http://www.w3.org/2000/svg\"\\n>\\n    <path\\n        d=\"M2 7.99997C2 7.58576 2.33579 7.24997 2.75 7.24997L11.537 7.24997L8.24991 4.30891C7.94122 4.03271 7.91488 3.55857 8.19107 3.24988C8.46727 2.94119 8.94141 2.91485 9.2501 3.19105L14.0001 7.44104C14.1591 7.58332 14.25 7.7866 14.25 7.99997C14.25 8.21335 14.1591 8.41663 14.0001 8.5589L9.2501 12.8089C8.94141 13.0851 8.46727 13.0588 8.19107 12.7501C7.91488 12.4414 7.94122 11.9672 8.24991 11.691L11.537 8.74997L2.75 8.74997C2.33579 8.74997 2 8.41419 2 7.99997Z\"\\n        fill=\"currentColor\"\\n    />\\n</svg>\\n</span>                </div>\\n                    </a>\\n\\n    \\t\\t\\t\\t\\t\\t\\t</div>\\n\\t\\t\\t\\t\\t\\t</div>\\n\\t\\t\\t\\t\\t\\t\\t\\t</div>\\n\\t\\t\\t</section>\\n\\t\\t</div>\\n\\t</div>\\n\\n</div><p>A MP também prevê para o Contrato Verde Amarelo a redução de 8% para 2% do valor do salário na contribuição do empregado para o Fundo do Tempo de Serviço (FGTS) e da multa de 40% para 20% – podendo ser resgatado também em casos de demissão por justa causa.<br>\\nOutra iniciativa é a antecipação de pagamentos, como férias, 13º salário e saldo do FGTS, podendo ser mensalmente resgatados, caso acordado entre empregado e empregador.</p><p><strong>Leia também:<br>\\n</strong><strong><a href=\"https://www.infomoney.com.br/politica/camara-conclui-votacao-da-mp-do-fgts-com-saque-de-ate-r-998-texto-segue-para-o-senado/\">• Câmara conclui votação da MP do FGTS com saque de até R$ 998; texto segue para o Senado</a></strong></p><p>Segundo o advogado Nelson Guimarães, sócio do escritório Bosisio Advogados, a MP mexe com pontos importantes que podem estimular ajuizamento de Ações Diretas de Inconstitucionalidade contra o pacote.</p>        <div data-ds-component=\"ad\" data-ad-type=\"Video\" class=\"max-w-2xl rounded bg-wl-neutral-50 text-xs leading-4 pb-8 text-center  text-wl-neutral-500 mx-auto mb-6 px-6 xl:px-0\">\\n            <p class=\"py-2\">Continua depois da publicidade</p>\\n            <div data-ds-element=\"video\" class=\"flex justify-center\">\\n                <div data-component-type=\"ads\" data-ads-type=\"Video\"></div>\\n            </div>\\n        </div>\\n        <p>Um dos pontos sensíveis é a alteração da CLT para a inserção dos mecanismos do Contrato Verde Amarelo, que, segundo Guimarães, comprometem o princípio da isonomia. “Como o contrato cria uma categoria diferente de empregados, com alíquotas e regras diferenciadas, pode haver algum questionamento a respeito da constitucionalidade desses dispositivos”, explica o advogado.</p><p>Outro tópico frágil apontado pelo jurista é o Art. 15. da MP, que versa sobre seguro por exposição a acidentes.</p><p>O texto regulamenta que o empregador, mediante acordo com o trabalhador, pode contratar um seguro privado de acidentes pessoais e pagar 5% do adicional de periculosidade sobre o salário base do empregado, diferente dos 30% estabelecido pela lei para os trabalhadores do regime CLT.</p>        <div data-ds-component=\"ad\" data-ad-type=\"RETANGULO_BF\" class=\"max-w-2xl [&_iframe]:mx-auto z-0 bg-wl-neutral-50 text-xs leading-4 py-4 px-14 text-center text-wl-neutral-500 mx-auto mb-6 xl:px-0 justify-center min-h-[320px]\">\\n            <p class=\"py-2\">Continua depois da publicidade</p>\\n            <div data-component-type=\"ads\" data-ads-type=\"RETANGULO_BF\"></div>\\n        </div>\\n<p>A medida ainda estabelece que o adicional só será pago quando houver exposição permanente do trabalhador por, no mínimo, 50% da jornada normal de trabalho. A questão exposta, de acordo com Guimarães, contraria uma jurisprudência consolidada do Tribunal Superior do Trabalho (TST) a respeito do tema e subverte o próprio conceito de periculosidade.</p><p>“Segundo as normas regulamentadoras, o fato do trabalhador estar exposto a risco já lhe dar o direito ao adicional de periculosidade, desde que essa exposição não seja eventual. Esse direito independe da quantidade de tempo, porque o risco não escolhe horário para acontecer. Ao estabelecer um critério de tempo, a MP abre brechas para contestações”, diz Guimarães.</p><p>Para a advogada Maria Lúcia Benhame, sócia-fundadora do escritório Benhame Sociedade de Advogados, o texto não estabelece o que é periculosidade, dificultando a sua interpretação.</p>        <div data-ds-component=\"ad\" data-ad-type=\"RETANGULO_BF\" class=\"max-w-2xl [&_iframe]:mx-auto z-0 bg-wl-neutral-50 text-xs leading-4 py-4 px-14 text-center text-wl-neutral-500 mx-auto mb-6 xl:px-0 justify-center min-h-[320px]\">\\n            <p class=\"py-2\">Continua depois da publicidade</p>\\n            <div data-component-type=\"ads\" data-ads-type=\"RETANGULO_BF\"></div>\\n        </div>\\n<p>“A MP teria que definir melhor o que é condição perigosa nos seus termos para não gerar insegurança jurídica, porque você tem um ato jurídico que vai se prolongar além de uma possível validade que, eventualmente, possa ser cancelada ou alterada numa lei posterior”, explica a jurista.</p><p>Maria Lúcia observa que a medida pode contribuir com o objetivo do governo de gerar emprego, porque o empresário vai ter menos medo de contratar com os estímulos propostos. Mas pontua que o êxito do projeto parte da melhoria das condições econômicas.</p><p>“Do ponto de vista das empresas, a MP criou um ambiente em que é mais fácil e barato contratar e demitir, porque a multa do fundo está em 20% e o empresário recebeu outras contrapartidas. Então, caso a empresa esteja em um nicho de atividade econômica melhor, ela vai se sentir à vontade para contratar. Porém o que vai gerar emprego mesmo é o aquecimento da economia. Lei nenhuma cria emprego”, opina Benhame.</p>        <div data-ds-component=\"ad\" data-ad-type=\"RETANGULO_BF\" class=\"max-w-2xl [&_iframe]:mx-auto z-0 bg-wl-neutral-50 text-xs leading-4 py-4 px-14 text-center text-wl-neutral-500 mx-auto mb-6 xl:px-0 justify-center min-h-[320px]\">\\n            <p class=\"py-2\">Continua depois da publicidade</p>\\n            <div data-component-type=\"ads\" data-ads-type=\"RETANGULO_BF\"></div>\\n        </div>\\n<p>O governo também aproveitou a criação do Contrato de Trabalho Verde Amarelo para realizar novas modificações nas regras trabalhistas. Foram incluídas mudanças que reorganiza o sistema de fiscalização do trabalho, altera a legislação sobre a participação nos lucros e prêmios e amplia a jornada de trabalho dos bancários.</p><h2><b>Entenda as principais mudanças da MP na legislação trabalhista\\xa0</b></h2><h3><b>Alimentação\\xa0</b></h3><p>O governo retirou do cálculo do salário o fornecimento de alimentação, seja in natura ou por meio de tickets, vales e cupons. Com a retirada da natureza salarial, o fornecimento passa a ser não tributável para efeito da contribuição previdenciária e dos demais tributos incidentes sobre a folha de salários, além de não integrar a base de cálculo do imposto de renda.</p><h3><b>Gorjeta\\xa0</b></h3><p>As gorjetas destinadas aos trabalhadores farão parte da remuneração do empregado, sendo sua distribuição de rateio e custeio definidas em convenção ou acordo coletivo e o seu valor correspondente inseridos em nota fiscal.</p>        <div data-ds-component=\"ad\" data-ad-type=\"RETANGULO_BF\" class=\"max-w-2xl [&_iframe]:mx-auto z-0 bg-wl-neutral-50 text-xs leading-4 py-4 px-14 text-center text-wl-neutral-500 mx-auto mb-6 xl:px-0 justify-center min-h-[320px]\">\\n            <p class=\"py-2\">Continua depois da publicidade</p>\\n            <div data-component-type=\"ads\" data-ads-type=\"RETANGULO_BF\"></div>\\n        </div>\\n<p>O texto também estabelece que o percentual recebido deve ser anotado na carteira de trabalho dos empregadores e não constitui receita própria dos empregadores.</p><h3><b>Lucros e prêmios\\xa0 \\xa0 \\xa0 \\xa0 \\xa0 \\xa0 \\xa0 \\xa0 </b></h3><p>A MP permite que as partes definam quais políticas devem ser adotadas e determina que as regras que disciplinam o pagamento do prêmio devem permanecer arquivadas por qualquer meio, pelo prazo de seis anos, contado da data de pagamento.</p><h3><b>Armazenamento eletrônico</b></h3><p>Fica autorizado o armazenamento em meio eletrônico de documentos relativos a deveres e obrigações trabalhistas.</p><h3><b>FGTS\\xa0</b></h3><p>Acaba com o adicional de 10% da multa rescisória sobre o FGTS pago pelas empresas em caso de demissão sem justa causa.</p><h3><b>Registro profissional</b></h3><p>O texto retira a exigência de registro de trabalho para profissões que não tenham conselhos ou ordens de classe, como jornalistas, arquivistas, publicitários e lavadores de carro. Além de revogar leis que regulamenta o exercício de profissões, entre elas: corretor de seguro e guardador e lavador de carros.</p><h3><b>Acordos</b></h3><p>Em execução desde a reforma trabalhista de Temer, o texto permite a execução de um acordo extrajudicial entre as partes, no encerramento do contrato.</p><h3><b>Bancários</b></h3><p>O governo estende até aos sábados o trabalho dos bancários, além de aumentar a carga horária de 6 para 8 horas diárias da categoria, exceto os trabalhadores que operam exclusivamente nos caixas em atendimento ao público.</p><h3><b>Trabalho aos domingos e feriados</b></h3><p>A MP retorna com a proposta do governo – retirada pelos senadores na MP da Liberdade Econômica, em agosto -, de autorizar o trabalho aos domingos e feriados para diversas categorias.</p><p>Para a indústria, a folga dominical deve acontecer uma vez no período máximo de sete semanas, enquanto o setor de comércios e serviços está garantido um domingo no período máximo de quatro semanas.</p><h3><b>Fiscalização</b></h3><p>O texto aumenta os valores das multas administrativas, aplicadas por auditores do trabalho, ordenando de acordo com gravidade da infração, porte da empresa e funcionários prejudicados.\\xa0 O governo ainda implanta a dupla visita para situações de gradação leve. “Primeiro, o auditor-fiscal alerta para possíveis problemas, que só será convertida em multa em caso de reincidência”.</p><p><strong>Pense no seu futuro: invista. <em><a href=\"https://cadastro.xpi.com.br/passo/default/step1?utm_source=infomoney&amp;utm_campaign=materia-redacao&amp;utm_medium=link&amp;utm_content=pablo-santana&amp;utm_term=1360794\">Abra uma conta gratuita na XP.</a></em></strong></p>        </article>\\n        \\n                \\n                <div class=\"px-6 md:px-0 my-6\">\\n                    <div class=\"max-w-2xl mx-auto\">\\n                                <div data-ds-component=\"related-topics\">\\n            <h2 class=\"text-2xl md:text-4xl font-bold tracking-tight text-wl-neutral-950 pb-6\">Tópicos relacionados</h2>\\n            <ul class=\"flex flex-wrap max-w-xl gap-x-3 gap-y-3\">\\n                                    <li>\\n                        <a href=\"https://www.infomoney.com.br/economia/\" class=\"flex items-center text-base md:text-lg font-semibold tracking-tight text-wl-action-link hover:text-wl-action-link-hover underline underline-offset-2\" aria-label=\"Economia\">\\n                            Economia                            <div class=\"ml-1 w-3.5 h-3.5 flex justify-center items-center\">\\n                                <span class=\"w-full h-full [&amp;&gt;svg]:w-full [&amp;&gt;svg]:h-full\" ><svg\\n    viewBox=\"0 0 12 12\"\\n    fill=\"none\"\\n    xmlns=\"http://www.w3.org/2000/svg\"\\n>\\n    <path\\n        d=\"M11.4688 1V9.125C11.4688 9.24932 11.4194 9.36855 11.3315 9.45646C11.2436 9.54436 11.1243 9.59375 11 9.59375C10.8757 9.59375 10.7565 9.54436 10.6686 9.45646C10.5807 9.36855 10.5313 9.24932 10.5313 9.125V2.13125L1.33128 11.3313C1.24242 11.4141 1.12489 11.4591 1.00345 11.457C0.882012 11.4548 0.766146 11.4056 0.680262 11.3198C0.594379 11.2339 0.545184 11.118 0.543042 10.9966C0.540899 10.8751 0.585976 10.7576 0.668776 10.6687L9.86878 1.46875H2.87503C2.75071 1.46875 2.63148 1.41936 2.54357 1.33146C2.45566 1.24355 2.40628 1.12432 2.40628 1C2.40628 0.87568 2.45566 0.756451 2.54357 0.668544C2.63148 0.580636 2.75071 0.53125 2.87503 0.53125H11C11.1243 0.53125 11.2436 0.580636 11.3315 0.668544C11.4194 0.756451 11.4688 0.87568 11.4688 1Z\"\\n        fill=\"currentColor\"\\n    />\\n</svg>\\n</span>                            </div>\\n                        </a>\\n                    </li>\\n                                    <li>\\n                        <a href=\"https://www.infomoney.com.br/politica/\" class=\"flex items-center text-base md:text-lg font-semibold tracking-tight text-wl-action-link hover:text-wl-action-link-hover underline underline-offset-2\" aria-label=\"Política\">\\n                            Política                            <div class=\"ml-1 w-3.5 h-3.5 flex justify-center items-center\">\\n                                <span class=\"w-full h-full [&amp;&gt;svg]:w-full [&amp;&gt;svg]:h-full\" ><svg\\n    viewBox=\"0 0 12 12\"\\n    fill=\"none\"\\n    xmlns=\"http://www.w3.org/2000/svg\"\\n>\\n    <path\\n        d=\"M11.4688 1V9.125C11.4688 9.24932 11.4194 9.36855 11.3315 9.45646C11.2436 9.54436 11.1243 9.59375 11 9.59375C10.8757 9.59375 10.7565 9.54436 10.6686 9.45646C10.5807 9.36855 10.5313 9.24932 10.5313 9.125V2.13125L1.33128 11.3313C1.24242 11.4141 1.12489 11.4591 1.00345 11.457C0.882012 11.4548 0.766146 11.4056 0.680262 11.3198C0.594379 11.2339 0.545184 11.118 0.543042 10.9966C0.540899 10.8751 0.585976 10.7576 0.668776 10.6687L9.86878 1.46875H2.87503C2.75071 1.46875 2.63148 1.41936 2.54357 1.33146C2.45566 1.24355 2.40628 1.12432 2.40628 1C2.40628 0.87568 2.45566 0.756451 2.54357 0.668544C2.63148 0.580636 2.75071 0.53125 2.87503 0.53125H11C11.1243 0.53125 11.2436 0.580636 11.3315 0.668544C11.4194 0.756451 11.4688 0.87568 11.4688 1Z\"\\n        fill=\"currentColor\"\\n    />\\n</svg>\\n</span>                            </div>\\n                        </a>\\n                    </li>\\n                                    <li>\\n                        <a href=\"https://www.infomoney.com.br/tudo-sobre/clt/\" class=\"flex items-center text-base md:text-lg font-semibold tracking-tight text-wl-action-link hover:text-wl-action-link-hover underline underline-offset-2\" aria-label=\"CLT\">\\n                            CLT                            <div class=\"ml-1 w-3.5 h-3.5 flex justify-center items-center\">\\n                                <span class=\"w-full h-full [&amp;&gt;svg]:w-full [&amp;&gt;svg]:h-full\" ><svg\\n    viewBox=\"0 0 12 12\"\\n    fill=\"none\"\\n    xmlns=\"http://www.w3.org/2000/svg\"\\n>\\n    <path\\n        d=\"M11.4688 1V9.125C11.4688 9.24932 11.4194 9.36855 11.3315 9.45646C11.2436 9.54436 11.1243 9.59375 11 9.59375C10.8757 9.59375 10.7565 9.54436 10.6686 9.45646C10.5807 9.36855 10.5313 9.24932 10.5313 9.125V2.13125L1.33128 11.3313C1.24242 11.4141 1.12489 11.4591 1.00345 11.457C0.882012 11.4548 0.766146 11.4056 0.680262 11.3198C0.594379 11.2339 0.545184 11.118 0.543042 10.9966C0.540899 10.8751 0.585976 10.7576 0.668776 10.6687L9.86878 1.46875H2.87503C2.75071 1.46875 2.63148 1.41936 2.54357 1.33146C2.45566 1.24355 2.40628 1.12432 2.40628 1C2.40628 0.87568 2.45566 0.756451 2.54357 0.668544C2.63148 0.580636 2.75071 0.53125 2.87503 0.53125H11C11.1243 0.53125 11.2436 0.580636 11.3315 0.668544C11.4194 0.756451 11.4688 0.87568 11.4688 1Z\"\\n        fill=\"currentColor\"\\n    />\\n</svg>\\n</span>                            </div>\\n                        </a>\\n                    </li>\\n                                    <li>\\n                        <a href=\"https://www.infomoney.com.br/tudo-sobre/governo/\" class=\"flex items-center text-base md:text-lg font-semibold tracking-tight text-wl-action-link hover:text-wl-action-link-hover underline underline-offset-2\" aria-label=\"Governo\">\\n                            Governo                            <div class=\"ml-1 w-3.5 h-3.5 flex justify-center items-center\">\\n                                <span class=\"w-full h-full [&amp;&gt;svg]:w-full [&amp;&gt;svg]:h-full\" ><svg\\n    viewBox=\"0 0 12 12\"\\n    fill=\"none\"\\n    xmlns=\"http://www.w3.org/2000/svg\"\\n>\\n    <path\\n        d=\"M11.4688 1V9.125C11.4688 9.24932 11.4194 9.36855 11.3315 9.45646C11.2436 9.54436 11.1243 9.59375 11 9.59375C10.8757 9.59375 10.7565 9.54436 10.6686 9.45646C10.5807 9.36855 10.5313 9.24932 10.5313 9.125V2.13125L1.33128 11.3313C1.24242 11.4141 1.12489 11.4591 1.00345 11.457C0.882012 11.4548 0.766146 11.4056 0.680262 11.3198C0.594379 11.2339 0.545184 11.118 0.543042 10.9966C0.540899 10.8751 0.585976 10.7576 0.668776 10.6687L9.86878 1.46875H2.87503C2.75071 1.46875 2.63148 1.41936 2.54357 1.33146C2.45566 1.24355 2.40628 1.12432 2.40628 1C2.40628 0.87568 2.45566 0.756451 2.54357 0.668544C2.63148 0.580636 2.75071 0.53125 2.87503 0.53125H11C11.1243 0.53125 11.2436 0.580636 11.3315 0.668544C11.4194 0.756451 11.4688 0.87568 11.4688 1Z\"\\n        fill=\"currentColor\"\\n    />\\n</svg>\\n</span>                            </div>\\n                        </a>\\n                    </li>\\n                                    <li>\\n                        <a href=\"https://www.infomoney.com.br/tudo-sobre/medida-provisoria/\" class=\"flex items-center text-base md:text-lg font-semibold tracking-tight text-wl-action-link hover:text-wl-action-link-hover underline underline-offset-2\" aria-label=\"Medida Provisória\">\\n                            Medida Provisória                            <div class=\"ml-1 w-3.5 h-3.5 flex justify-center items-center\">\\n                                <span class=\"w-full h-full [&amp;&gt;svg]:w-full [&amp;&gt;svg]:h-full\" ><svg\\n    viewBox=\"0 0 12 12\"\\n    fill=\"none\"\\n    xmlns=\"http://www.w3.org/2000/svg\"\\n>\\n    <path\\n        d=\"M11.4688 1V9.125C11.4688 9.24932 11.4194 9.36855 11.3315 9.45646C11.2436 9.54436 11.1243 9.59375 11 9.59375C10.8757 9.59375 10.7565 9.54436 10.6686 9.45646C10.5807 9.36855 10.5313 9.24932 10.5313 9.125V2.13125L1.33128 11.3313C1.24242 11.4141 1.12489 11.4591 1.00345 11.457C0.882012 11.4548 0.766146 11.4056 0.680262 11.3198C0.594379 11.2339 0.545184 11.118 0.543042 10.9966C0.540899 10.8751 0.585976 10.7576 0.668776 10.6687L9.86878 1.46875H2.87503C2.75071 1.46875 2.63148 1.41936 2.54357 1.33146C2.45566 1.24355 2.40628 1.12432 2.40628 1C2.40628 0.87568 2.45566 0.756451 2.54357 0.668544C2.63148 0.580636 2.75071 0.53125 2.87503 0.53125H11C11.1243 0.53125 11.2436 0.580636 11.3315 0.668544C11.4194 0.756451 11.4688 0.87568 11.4688 1Z\"\\n        fill=\"currentColor\"\\n    />\\n</svg>\\n</span>                            </div>\\n                        </a>\\n                    </li>\\n                            </ul>\\n        </div>\\n                            </div>\\n                </div>\\n                <div class=\"px-6 md:px-0 my-6\">\\n                    <div class=\"max-w-2xl mx-auto border-t border-b border-neutral-200\">\\n                                <div data-ds-component=\"author-bio\" class=\"py-6\">\\n            <p class=\"flex\">\\n                <a href=\"https://www.infomoney.com.br/autor/pablo-santana/\"\\n                class=\"text-base md:text-lg font-semibold tracking-tight text-wl-action-link hover:text-wl-action-link-hover underline underline-offset-2\"\\n                aria-label=\"Pablo Santana\">\\n                    Pablo Santana                </a>\\n            </p>\\n                            <p class=\"text-sm text-wl-neutral-600 mb-4\">\\n                    Repórter do InfoMoney. Cobre tecnologia, finanças pessoais, carreiras e negócios                </p>\\n                        <p class=\"text-im-sm flex space-x-2\">\\n                                                            </p>\\n        </div>\\n                            </div>\\n                </div>\\n            </main>\\n                    <footer id=\"siteFooter\">\\n            <div class=\"font-im-sans antialiased bg-wl-neutral-600 relative z-40 text-wl-white leading-normal\">\\n                                    <div\\n                        class=\"max-w-8xl mx-auto md:!py-2 md:flex md:flex-row md:justify-between md:border-b md:border-wl-neutral-500\">\\n                                                    <ul class=\"px-6 !py-4 border-b border-wl-neutral-500 md:border-0\">\\n                                <li>\\n                                    <a href=\"#\"\\n                                        class=\"!py-2 block text-xl text-wl-white md:text-2xl font-semibold traking-tighter md:tracking-tight hover:no-underline\"\\n                                        aria-label=\"InfoMoney\">\\n                                        InfoMoney                                    </a>\\n                                                                            <ul\\n                                            class=\"columns-2 md:columns-1 text-wl-neutral-200 text-base md:text-lg font-bold\">\\n                                                                                            <li>\\n                                                    <a class=\"!py-2 md:!py-1 block hover:underline hover:text-wl-neutral-200 underline-offset-4\"\\n                                                        href=\"https://www.infomoney.com.br/ultimas-noticias/\"\\n                                                        aria-label=\"Últimas Notícias\">\\n                                                        Últimas Notícias                                                    </a>\\n                                                </li>\\n                                                                                            <li>\\n                                                    <a class=\"!py-2 md:!py-1 block hover:underline hover:text-wl-neutral-200 underline-offset-4\"\\n                                                        href=\"https://www.infomoney.com.br/mercados/\"\\n                                                        aria-label=\"Mercados\">\\n                                                        Mercados                                                    </a>\\n                                                </li>\\n                                                                                            <li>\\n                                                    <a class=\"!py-2 md:!py-1 block hover:underline hover:text-wl-neutral-200 underline-offset-4\"\\n                                                        href=\"https://www.infomoney.com.br/onde-investir/\"\\n                                                        aria-label=\"Onde Investir\">\\n                                                        Onde Investir                                                    </a>\\n                                                </li>\\n                                                                                            <li>\\n                                                    <a class=\"!py-2 md:!py-1 block hover:underline hover:text-wl-neutral-200 underline-offset-4\"\\n                                                        href=\"https://www.infomoney.com.br/politica/\"\\n                                                        aria-label=\"Política\">\\n                                                        Política                                                    </a>\\n                                                </li>\\n                                                                                            <li>\\n                                                    <a class=\"!py-2 md:!py-1 block hover:underline hover:text-wl-neutral-200 underline-offset-4\"\\n                                                        href=\"https://www.infomoney.com.br/economia/\"\\n                                                        aria-label=\"Economia\">\\n                                                        Economia                                                    </a>\\n                                                </li>\\n                                                                                            <li>\\n                                                    <a class=\"!py-2 md:!py-1 block hover:underline hover:text-wl-neutral-200 underline-offset-4\"\\n                                                        href=\"https://www.infomoney.com.br/mundo/\"\\n                                                        aria-label=\"Mundo\">\\n                                                        Mundo                                                    </a>\\n                                                </li>\\n                                                                                            <li>\\n                                                    <a class=\"!py-2 md:!py-1 block hover:underline hover:text-wl-neutral-200 underline-offset-4\"\\n                                                        href=\"https://www.infomoney.com.br/business/\"\\n                                                        aria-label=\"Business\">\\n                                                        Business                                                    </a>\\n                                                </li>\\n                                                                                            <li>\\n                                                    <a class=\"!py-2 md:!py-1 block hover:underline hover:text-wl-neutral-200 underline-offset-4\"\\n                                                        href=\"https://www.infomoney.com.br/advisor/\"\\n                                                        aria-label=\"Advisor\">\\n                                                        Advisor                                                    </a>\\n                                                </li>\\n                                                                                            <li>\\n                                                    <a class=\"!py-2 md:!py-1 block hover:underline hover:text-wl-neutral-200 underline-offset-4\"\\n                                                        href=\"https://www.infomoney.com.br/tudo-sobre/trader\"\\n                                                        aria-label=\"Trader\">\\n                                                        Trader                                                    </a>\\n                                                </li>\\n                                                                                            <li>\\n                                                    <a class=\"!py-2 md:!py-1 block hover:underline hover:text-wl-neutral-200 underline-offset-4\"\\n                                                        href=\"https://www.infomoney.com.br/minhas-financas/\"\\n                                                        aria-label=\"Minhas Finanças\">\\n                                                        Minhas Finanças                                                    </a>\\n                                                </li>\\n                                                                                            <li>\\n                                                    <a class=\"!py-2 md:!py-1 block hover:underline hover:text-wl-neutral-200 underline-offset-4\"\\n                                                        href=\"https://www.infomoney.com.br/brasil/\"\\n                                                        aria-label=\"Brasil\">\\n                                                        Brasil                                                    </a>\\n                                                </li>\\n                                                                                            <li>\\n                                                    <a class=\"!py-2 md:!py-1 block hover:underline hover:text-wl-neutral-200 underline-offset-4\"\\n                                                        href=\"https://www.infomoney.com.br/consumo/\"\\n                                                        aria-label=\"Consumo\">\\n                                                        Consumo                                                    </a>\\n                                                </li>\\n                                                                                            <li>\\n                                                    <a class=\"!py-2 md:!py-1 block hover:underline hover:text-wl-neutral-200 underline-offset-4\"\\n                                                        href=\"https://www.infomoney.com.br/esportes/\"\\n                                                        aria-label=\"Esportes\">\\n                                                        Esportes                                                    </a>\\n                                                </li>\\n                                                                                            <li>\\n                                                    <a class=\"!py-2 md:!py-1 block hover:underline hover:text-wl-neutral-200 underline-offset-4\"\\n                                                        href=\"https://www.infomoney.com.br/carreira/\"\\n                                                        aria-label=\"Carreira\">\\n                                                        Carreira                                                    </a>\\n                                                </li>\\n                                                                                            <li>\\n                                                    <a class=\"!py-2 md:!py-1 block hover:underline hover:text-wl-neutral-200 underline-offset-4\"\\n                                                        href=\"https://www.infomoney.com.br/saude/\"\\n                                                        aria-label=\"Saúde\">\\n                                                        Saúde                                                    </a>\\n                                                </li>\\n                                                                                            <li>\\n                                                    <a class=\"!py-2 md:!py-1 block hover:underline hover:text-wl-neutral-200 underline-offset-4\"\\n                                                        href=\"https://www.infomoney.com.br/colunistas/\"\\n                                                        aria-label=\"Colunistas\">\\n                                                        Colunistas                                                    </a>\\n                                                </li>\\n                                                                                    </ul>\\n                                                                    </li>\\n                            </ul>\\n                                                    <ul class=\"px-6 !py-4 border-b border-wl-neutral-500 md:border-0\">\\n                                <li>\\n                                    <a href=\"#\"\\n                                        class=\"!py-2 block text-xl text-wl-white md:text-2xl font-semibold traking-tighter md:tracking-tight hover:no-underline\"\\n                                        aria-label=\"Aprenda\">\\n                                        Aprenda                                    </a>\\n                                                                            <ul\\n                                            class=\"columns-2 md:columns-1 text-wl-neutral-200 text-base md:text-lg font-bold\">\\n                                                                                            <li>\\n                                                    <a class=\"!py-2 md:!py-1 block hover:underline hover:text-wl-neutral-200 underline-offset-4\"\\n                                                        href=\"https://www.infomoney.com.br/conteudos/\"\\n                                                        aria-label=\"Conteúdos\">\\n                                                        Conteúdos                                                    </a>\\n                                                </li>\\n                                                                                            <li>\\n                                                    <a class=\"!py-2 md:!py-1 block hover:underline hover:text-wl-neutral-200 underline-offset-4\"\\n                                                        href=\"https://www.infomoney.com.br/conteudos/planilhas/\"\\n                                                        aria-label=\"Planilhas e Calculadoras\">\\n                                                        Planilhas e Calculadoras                                                    </a>\\n                                                </li>\\n                                                                                            <li>\\n                                                    <a class=\"!py-2 md:!py-1 block hover:underline hover:text-wl-neutral-200 underline-offset-4\"\\n                                                        href=\"https://www.infomoney.com.br/conteudos/cursos/\"\\n                                                        aria-label=\"Cursos\">\\n                                                        Cursos                                                    </a>\\n                                                </li>\\n                                                                                            <li>\\n                                                    <a class=\"!py-2 md:!py-1 block hover:underline hover:text-wl-neutral-200 underline-offset-4\"\\n                                                        href=\"https://www.infomoney.com.br/conteudos/ebooks/\"\\n                                                        aria-label=\"Ebooks\">\\n                                                        Ebooks                                                    </a>\\n                                                </li>\\n                                                                                            <li>\\n                                                    <a class=\"!py-2 md:!py-1 block hover:underline hover:text-wl-neutral-200 underline-offset-4\"\\n                                                        href=\"https://www.infomoney.com.br/perfil/\"\\n                                                        aria-label=\"Perfis\">\\n                                                        Perfis                                                    </a>\\n                                                </li>\\n                                                                                    </ul>\\n                                                                    </li>\\n                            </ul>\\n                                                    <ul class=\"px-6 !py-4 border-b border-wl-neutral-500 md:border-0\">\\n                                <li>\\n                                    <a href=\"#\"\\n                                        class=\"!py-2 block text-xl text-wl-white md:text-2xl font-semibold traking-tighter md:tracking-tight hover:no-underline\"\\n                                        aria-label=\"Multimídia\">\\n                                        Multimídia                                    </a>\\n                                                                            <ul\\n                                            class=\"columns-2 md:columns-1 text-wl-neutral-200 text-base md:text-lg font-bold\">\\n                                                                                            <li>\\n                                                    <a class=\"!py-2 md:!py-1 block hover:underline hover:text-wl-neutral-200 underline-offset-4\"\\n                                                        href=\"https://whatsapp.com/channel/0029VaHC3PWJpe8XVqUquy1f\"\\n                                                        aria-label=\"WhatsApp\">\\n                                                        WhatsApp                                                    </a>\\n                                                </li>\\n                                                                                            <li>\\n                                                    <a class=\"!py-2 md:!py-1 block hover:underline hover:text-wl-neutral-200 underline-offset-4\"\\n                                                        href=\"https://www.youtube.com/channel/UCxm0tptjIc76-i26EKQ9NpA\"\\n                                                        aria-label=\"Vídeos\">\\n                                                        Vídeos                                                    </a>\\n                                                </li>\\n                                                                                            <li>\\n                                                    <a class=\"!py-2 md:!py-1 block hover:underline hover:text-wl-neutral-200 underline-offset-4\"\\n                                                        href=\"https://www.infomoney.com.br/podcasts/\"\\n                                                        aria-label=\"Podcasts\">\\n                                                        Podcasts                                                    </a>\\n                                                </li>\\n                                                                                            <li>\\n                                                    <a class=\"!py-2 md:!py-1 block hover:underline hover:text-wl-neutral-200 underline-offset-4\"\\n                                                        href=\"https://www.infomoney.com.br/web-stories/\"\\n                                                        aria-label=\"Web Stories\">\\n                                                        Web Stories                                                    </a>\\n                                                </li>\\n                                                                                    </ul>\\n                                                                    </li>\\n                            </ul>\\n                                                    <ul class=\"px-6 !py-4 border-b border-wl-neutral-500 md:border-0\">\\n                                <li>\\n                                    <a href=\"#\"\\n                                        class=\"!py-2 block text-xl text-wl-white md:text-2xl font-semibold traking-tighter md:tracking-tight hover:no-underline\"\\n                                        aria-label=\"Veja mais\">\\n                                        Veja mais                                    </a>\\n                                                                            <ul\\n                                            class=\"columns-2 md:columns-1 text-wl-neutral-200 text-base md:text-lg font-bold\">\\n                                                                                            <li>\\n                                                    <a class=\"!py-2 md:!py-1 block hover:underline hover:text-wl-neutral-200 underline-offset-4\"\\n                                                        href=\"https://www.infomoney.com.br/authentication/sign-in/\"\\n                                                        aria-label=\"Fazer login\">\\n                                                        Fazer login                                                    </a>\\n                                                </li>\\n                                                                                            <li>\\n                                                    <a class=\"!py-2 md:!py-1 block hover:underline hover:text-wl-neutral-200 underline-offset-4\"\\n                                                        href=\"https://www.infomoney.com.br/quem-somos/\"\\n                                                        aria-label=\"Quem somos\">\\n                                                        Quem somos                                                    </a>\\n                                                </li>\\n                                                                                            <li>\\n                                                    <a class=\"!py-2 md:!py-1 block hover:underline hover:text-wl-neutral-200 underline-offset-4\"\\n                                                        href=\"https://www.infomoney.com.br/wp-content/uploads/2024/05/TabeladeValores-InfoMoney2024.pdf\"\\n                                                        aria-label=\"Tabela de preços InfoMoney\">\\n                                                        Tabela de preços InfoMoney                                                    </a>\\n                                                </li>\\n                                                                                            <li>\\n                                                    <a class=\"!py-2 md:!py-1 block hover:underline hover:text-wl-neutral-200 underline-offset-4\"\\n                                                        href=\"https://www.infomoney.com.br/politica-de-privacidade/\"\\n                                                        aria-label=\"Política de privacidade\">\\n                                                        Política de privacidade                                                    </a>\\n                                                </li>\\n                                                                                            <li>\\n                                                    <a class=\"!py-2 md:!py-1 block hover:underline hover:text-wl-neutral-200 underline-offset-4\"\\n                                                        href=\"https://www.infomoney.com.br/politica-de-cookies/\"\\n                                                        aria-label=\"Política de cookies\">\\n                                                        Política de cookies                                                    </a>\\n                                                </li>\\n                                                                                            <li>\\n                                                    <a class=\"!py-2 md:!py-1 block hover:underline hover:text-wl-neutral-200 underline-offset-4\"\\n                                                        href=\"#siteFooter\"\\n                                                        aria-label=\"Preferências de Cookies\">\\n                                                        Preferências de Cookies                                                    </a>\\n                                                </li>\\n                                                                                            <li>\\n                                                    <a class=\"!py-2 md:!py-1 block hover:underline hover:text-wl-neutral-200 underline-offset-4\"\\n                                                        href=\"https://www.infomoney.com.br/fale-conosco/\"\\n                                                        aria-label=\"Fale conosco\">\\n                                                        Fale conosco                                                    </a>\\n                                                </li>\\n                                                                                    </ul>\\n                                                                    </li>\\n                            </ul>\\n                                            </div>\\n                                <div class=\"max-w-8xl mx-auto px-6 !py-3 md:!py-4\">\\n                            <a href=\"https://www.infomoney.com.br\" tabindex=\"0\" aria-label=\"Home\">\\n            <div class=\"h-6.5\">\\n                <svg viewBox=\"0 0 431 100\" fill=\"none\" xmlns=\"http://www.w3.org/2000/svg\" class=\"h-full\">\\n                    <path fill-rule=\"evenodd\" clip-rule=\"evenodd\"\\n                        d=\"M290.856 28.864h-10.354s-5.869 20.277-6.976 22.715c0 0-6.589-17.895-7.586-22.715h-10.631s5.094 17.562 13.289 33.02c-.665 1.662-1.772 3.047-3.267 3.989-.72.443-1.495.775-2.326 1.052-.83.222-1.716.277-2.602.277h-3.71v8.31h6.202a16.4 16.4 0 0 0 2.381-.332c3.377-.72 6.422-2.549 8.582-5.263 9.136-10.859 16.888-40.942 16.888-40.942M178.29 52.853c-1.218 1.718-2.99 2.604-5.26 2.604s-4.042-.886-5.26-2.604c-1.218-1.773-1.883-4.1-1.883-7.091s.609-5.319 1.883-7.036c1.218-1.718 2.99-2.549 5.26-2.549s3.987.831 5.26 2.549c1.218 1.717 1.827 4.044 1.827 7.036s-.609 5.318-1.827 7.091m7.198-20.055c-1.55-1.552-3.377-2.826-5.426-3.601-2.104-.831-4.43-1.275-6.977-1.275s-4.817.444-6.921 1.275c-2.049.83-3.931 2.05-5.482 3.6-1.55 1.552-2.713 3.436-3.599 5.652-.885 2.216-1.273 4.653-1.273 7.313 0 2.659.443 5.152 1.273 7.368.831 2.216 2.049 4.155 3.544 5.706 1.495 1.607 3.322 2.77 5.426 3.657 2.104.831 4.43 1.274 7.032 1.274s4.984-.443 7.088-1.33c2.048-.83 3.931-2.05 5.426-3.656 1.495-1.551 2.658-3.49 3.488-5.706s1.218-4.654 1.218-7.369-.443-5.097-1.273-7.313a16.4 16.4 0 0 0-3.544-5.65m34.108-.389c-1.163-1.44-2.769-2.493-4.762-3.324q-2.99-1.163-7.475-1.163c-2.99 0-5.814.221-8.472.61-2.713.443-4.872.886-6.588 1.384v33.906h10.021V36.676c.609-.111 1.329-.166 2.16-.222.83-.055 1.55-.11 2.27-.11 2.325 0 3.931.664 4.762 1.994s1.273 3.601 1.273 6.814v18.615h10.022V43.933c0-2.382-.277-4.598-.72-6.537-.498-1.939-1.329-3.657-2.491-5.041m-78.902-8.808a266 266 0 0 0-3.267 6.925c-1.107 2.493-2.27 4.986-3.377 7.59-1.108 2.604-2.16 5.041-3.101 7.313-.997-2.272-1.993-4.71-3.156-7.313-1.107-2.549-2.215-5.097-3.378-7.59-1.052-2.327-2.159-4.599-3.266-6.925-.886-1.829-1.772-3.601-2.769-5.374h-10.963v45.595h10.465V37.064l1.218 2.548c.997 2.216 1.938 4.488 2.879 6.704s1.883 4.377 2.769 6.426l2.27 5.208h7.253a332 332 0 0 1 2.27-5.208c.886-2.05 1.828-4.155 2.769-6.426.941-2.216 1.938-4.488 2.879-6.704.388-.886.775-1.717 1.107-2.548v26.703h10.465V18.172h-10.354s-1.772 3.324-2.768 5.374\"\\n                        fill=\"#fff\" />\\n                    <path fill-rule=\"evenodd\" clip-rule=\"evenodd\"\\n                        d=\"M234.545 39.945c.277-.776.665-1.496 1.219-2.106.553-.61 1.162-1.108 1.937-1.44.776-.388 1.772-.554 2.824-.554s2.104.221 2.88.61A6.04 6.04 0 0 1 246.45 40c.221.776.387 1.607.443 2.382h-12.957c.111-.83.333-1.662.609-2.437m8.915 15.567c-2.824 0-5.039-.554-6.7-1.772-1.661-1.164-2.602-2.77-2.824-4.71h22.259c0-.554.111-1.108.111-1.773s.055-1.274.055-1.828c0-5.762-1.44-10.083-4.263-13.074-2.88-2.937-6.756-4.433-11.683-4.433-4.928 0-4.208.388-6.146 1.164-1.994.776-3.766 1.939-5.316 3.435s-2.768 3.38-3.71 5.65c-.941 2.272-1.384 4.931-1.384 7.923s.388 4.82 1.107 6.98c.665 2.106 1.828 3.99 3.378 5.596 1.495 1.607 3.433 2.826 5.703 3.712 2.326.887 5.039 1.385 8.139 1.385 3.101 0 2.437-.055 3.71-.221 1.274-.167 2.381-.277 3.433-.499a82 82 0 0 0 2.935-.665c.277-.055.498-.166.775-.277V53.74c-1.108.498-2.492.886-4.208 1.163s-3.489.499-5.316.499M42.081 32.355c-1.163-1.441-2.769-2.494-4.762-3.325-1.993-.775-4.485-1.163-7.53-1.163s-5.814.221-8.472.61c-2.713.443-4.872.886-6.589 1.384v33.906H24.75V36.676c.61-.111 1.33-.166 2.16-.222s1.55-.11 2.27-.11c2.325 0 3.931.664 4.761 1.994s1.274 3.601 1.274 6.814v18.615h10.022V43.933c0-2.382-.277-4.598-.72-6.537-.498-1.939-1.329-3.657-2.492-5.041m50.497 20.498c-1.218 1.718-2.99 2.604-5.26 2.604s-4.042-.886-5.26-2.604c-1.218-1.773-1.882-4.1-1.882-7.091s.609-5.319 1.882-7.036c1.274-1.718 2.99-2.549 5.26-2.549s4.042.831 5.26 2.549c1.219 1.717 1.828 4.044 1.828 7.036s-.61 5.318-1.828 7.091m7.143-20.055c-1.55-1.552-3.377-2.826-5.426-3.601-2.104-.831-4.43-1.275-6.977-1.275s-4.761.444-6.92 1.275c-2.05.83-3.932 2.05-5.482 3.6-1.55 1.552-2.713 3.436-3.6 5.652q-1.328 3.323-1.328 7.313c0 2.659.443 5.152 1.273 7.368s2.049 4.155 3.544 5.706c1.495 1.607 3.322 2.77 5.426 3.657 2.104.831 4.43 1.274 7.032 1.274q3.903 0 7.143-1.33a15.7 15.7 0 0 0 5.426-3.656c1.495-1.551 2.658-3.49 3.488-5.706s1.218-4.654 1.218-7.369-.443-5.097-1.273-7.313c-.831-2.216-1.993-4.1-3.544-5.65M0 63.766h9.856V18.172H0z\"\\n                        fill=\"#fff\" />\\n                    <path fill-rule=\"evenodd\" clip-rule=\"evenodd\"\\n                        d=\"M59.578 29.03c0-1.33.83-2.548 1.993-3.102.055 0 .11-.056.166-.11.11-.056.277-.112.388-.167.83-.277 1.66-.222 2.547-.222h7.198v-8.2H61.35c-6.645 0-12.071 5.209-12.126 11.635v34.959h10.243V41.108h11.019v-8.089H59.467v-3.933z\"\\n                        fill=\"#fff\" />\\n                    <path\\n                        d=\"m292.296 77.673-.83-2.216 20.985-20.83c10.631-10.472 14.23-17.674 14.23-24.433s-6.368-12.964-14.23-12.964c-7.863 0-13.123 3.435-16.666 9.363l-2.215-.831c3.71-13.961 17.386-22.77 32.557-22.77S351.21 11.8 351.21 20.499s-5.371 13.795-21.262 25.817L315.33 57.34h22.757c7.752 0 14.23-4.432 17.109-12.3h2.492l-7.198 32.577h-58.194zm69.378 5.374c0-5.817 4.263-10.36 9.911-10.36s9.634 2.88 10.354 10.637c.941 10.194 3.045 13.795 9.524 13.795s13.953-7.036 13.953-20.277c0-13.24-7.586-19.89-17.774-19.89s-12.015 2.217-15.614 6.095l-6.091-3.601 6.479-54.072h38.038c8.14 0 11.573-1.94 13.123-5.374h2.215l-5.537 25.817h-47.009l-1.938 17.507c6.478-4.71 14.341-7.867 25.083-7.867 19.6 0 34.052 12.3 34.052 30.194 0 17.895-17.497 34.349-39.423 34.349s-29.346-9.806-29.346-16.953\"\\n                        fill=\"#FD5E04\" />\\n                </svg>\\n            </div>\\n\\n        </a>\\n                            <div class=\"!py-3 md:!py-4\">\\n                                <div data-ds-component=\"social-Links\" class=\"relative flex flex-wrap space-x-2 justify-start\">\\n                    <a class=\"flex items-center text-center gap-2 justify-center shadow-inner-border shadow-wl-neutral-0 disabled:shadow-none rounded-full shrink-0 text-wl-neutral-600 hover:text-wl-neutral-0 disabled:text-wl-neutral-400 bg-wl-neutral-0 hover:bg-transparent disabled:bg-wl-neutral-200 p-2 w-9 h-9 text-sm font-medium\" data-ds-element=\"social-links-instagram\" data-ds-component=\"button\" data-ds-variant=\"tertiary\" title=\"Compartilhar no instagram\" href=\"https://www.instagram.com/infomoney/\" target=\"_blank\">\\n                                        <div class=\"size-5\">\\n                    <span class=\"w-full h-full [&amp;&gt;svg]:w-full [&amp;&gt;svg]:h-full\" ><svg\\n    viewBox=\"0 0 20 20\"\\n    fill=\"none\"\\n    xmlns=\"http://www.w3.org/2000/svg\"\\n>\\n    <path\\n        d=\"M9.99984 13.3334C10.8839 13.3334 11.7317 12.9822 12.3569 12.3571C12.982 11.732 13.3332 10.8841 13.3332 10.0001C13.3332 9.11603 12.982 8.26818 12.3569 7.64306C11.7317 7.01794 10.8839 6.66675 9.99984 6.66675C9.11578 6.66675 8.26794 7.01794 7.64281 7.64306C7.01769 8.26818 6.6665 9.11603 6.6665 10.0001C6.6665 10.8841 7.01769 11.732 7.64281 12.3571C8.26794 12.9822 9.11578 13.3334 9.99984 13.3334Z\"\\n        stroke=\"currentColor\"\\n        stroke-width=\"1.5\"\\n        stroke-linecap=\"round\"\\n        stroke-linejoin=\"round\"\\n    />\\n    <path\\n        d=\"M2.5 13.3333V6.66667C2.5 5.5616 2.93899 4.50179 3.72039 3.72039C4.50179 2.93899 5.5616 2.5 6.66667 2.5H13.3333C14.4384 2.5 15.4982 2.93899 16.2796 3.72039C17.061 4.50179 17.5 5.5616 17.5 6.66667V13.3333C17.5 14.4384 17.061 15.4982 16.2796 16.2796C15.4982 17.061 14.4384 17.5 13.3333 17.5H6.66667C5.5616 17.5 4.50179 17.061 3.72039 16.2796C2.93899 15.4982 2.5 14.4384 2.5 13.3333Z\"\\n        stroke=\"currentColor\"\\n        stroke-width=\"1.5\"\\n    />\\n    <path\\n        d=\"M14.5835 5.42494L14.5918 5.41577\"\\n        stroke=\"currentColor\"\\n        stroke-width=\"1.5\"\\n        stroke-linecap=\"round\"\\n        stroke-linejoin=\"round\"\\n    />\\n</svg>\\n</span>                </div>\\n                    </a>\\n                <a class=\"flex items-center text-center gap-2 justify-center shadow-inner-border shadow-wl-neutral-0 disabled:shadow-none rounded-full shrink-0 text-wl-neutral-600 hover:text-wl-neutral-0 disabled:text-wl-neutral-400 bg-wl-neutral-0 hover:bg-transparent disabled:bg-wl-neutral-200 p-2 w-9 h-9 text-sm font-medium\" data-ds-element=\"social-links-facebook\" data-ds-component=\"button\" data-ds-variant=\"tertiary\" title=\"Compartilhar no facebook\" href=\"https://www.facebook.com/InfoMoney\" target=\"_blank\">\\n                                        <div class=\"size-5\">\\n                    <span class=\"w-full h-full [&amp;&gt;svg]:w-full [&amp;&gt;svg]:h-full\" ><svg\\n    viewBox=\"0 0 13 25\"\\n    fill=\"none\"\\n    xmlns=\"http://www.w3.org/2000/svg\"\\n>\\n    <path\\n        d=\"M11.9214 13.8981L12.5825 9.58738H8.4466V6.79126C8.4466 5.61194 9.02447 4.46117 10.8769 4.46117H12.7573V0.791262C12.7573 0.791262 11.0508 0.5 9.41913 0.5C6.01282 0.5 3.78641 2.56447 3.78641 6.30194V9.58738H0V13.8981H3.78641V24.3188C5.33042 24.5604 6.90259 24.5604 8.4466 24.3188V13.8981H11.9214Z\"\\n        fill=\"currentColor\"\\n    />\\n</svg>\\n</span>                </div>\\n                    </a>\\n                <a class=\"flex items-center text-center gap-2 justify-center shadow-inner-border shadow-wl-neutral-0 disabled:shadow-none rounded-full shrink-0 text-wl-neutral-600 hover:text-wl-neutral-0 disabled:text-wl-neutral-400 bg-wl-neutral-0 hover:bg-transparent disabled:bg-wl-neutral-200 p-2 w-9 h-9 text-sm font-medium\" data-ds-element=\"social-links-twitter\" data-ds-component=\"button\" data-ds-variant=\"tertiary\" title=\"Compartilhar no twitter\" href=\"https://twitter.com/infomoney\" target=\"_blank\">\\n                                        <div class=\"size-5\">\\n                    <span class=\"w-full h-full [&amp;&gt;svg]:w-full [&amp;&gt;svg]:h-full\" ><svg\\n    viewBox=\"0 0 24 22\"\\n    fill=\"none\"\\n    xmlns=\"http://www.w3.org/2000/svg\"\\n>\\n    <path\\n        fill-rule=\"evenodd\"\\n        clip-rule=\"evenodd\"\\n        d=\"M8.99079 11.9381L0 0.5H7.12135L12.6713 7.56951L18.6005 0.53183H22.5226L14.5676 9.98506L24 22H16.8999L10.8905 14.3548L4.47476 21.9788H0.531444L8.99079 11.9381ZM17.9348 19.8807L4.36657 2.61927H6.08565L19.6368 19.8807H17.9348Z\"\\n        fill=\"currentColor\"\\n    />\\n</svg>\\n</span>                </div>\\n                    </a>\\n                <a class=\"flex items-center text-center gap-2 justify-center shadow-inner-border shadow-wl-neutral-0 disabled:shadow-none rounded-full shrink-0 text-wl-neutral-600 hover:text-wl-neutral-0 disabled:text-wl-neutral-400 bg-wl-neutral-0 hover:bg-transparent disabled:bg-wl-neutral-200 p-2 w-9 h-9 text-sm font-medium\" data-ds-element=\"social-links-linkedin\" data-ds-component=\"button\" data-ds-variant=\"tertiary\" title=\"Compartilhar no linkedin\" href=\"https://www.linkedin.com/company/infomoney/\" target=\"_blank\">\\n                                        <div class=\"size-5\">\\n                    <span class=\"w-full h-full [&amp;&gt;svg]:w-full [&amp;&gt;svg]:h-full\" ><svg\\n    viewBox=\"0 0 24 25\"\\n    fill=\"none\"\\n    xmlns=\"http://www.w3.org/2000/svg\"\\n>\\n    <path\\n        d=\"M22.2283 0.5H1.77167C1.30179 0.5 0.851161 0.686657 0.518909 1.01891C0.186657 1.35116 0 1.80179 0 2.27167V22.7283C0 23.1982 0.186657 23.6488 0.518909 23.9811C0.851161 24.3133 1.30179 24.5 1.77167 24.5H22.2283C22.6982 24.5 23.1488 24.3133 23.4811 23.9811C23.8133 23.6488 24 23.1982 24 22.7283V2.27167C24 1.80179 23.8133 1.35116 23.4811 1.01891C23.1488 0.686657 22.6982 0.5 22.2283 0.5ZM7.15333 20.945H3.545V9.48333H7.15333V20.945ZM5.34667 7.895C4.93736 7.8927 4.53792 7.7692 4.19873 7.54009C3.85955 7.31098 3.59584 6.98653 3.44088 6.60769C3.28591 6.22885 3.24665 5.81259 3.32803 5.41145C3.40941 5.01032 3.6078 4.64228 3.89816 4.35378C4.18851 4.06529 4.55782 3.86927 4.95947 3.79046C5.36112 3.71165 5.77711 3.75359 6.15495 3.91099C6.53279 4.06838 6.85554 4.33417 7.08247 4.67481C7.30939 5.01546 7.43032 5.41569 7.43 5.825C7.43386 6.09903 7.38251 6.37104 7.27901 6.6248C7.17551 6.87857 7.02198 7.1089 6.82757 7.30207C6.63316 7.49523 6.40185 7.64728 6.14742 7.74915C5.893 7.85102 5.62067 7.90062 5.34667 7.895ZM20.4533 20.955H16.8467V14.6933C16.8467 12.8467 16.0617 12.2767 15.0483 12.2767C13.9783 12.2767 12.9283 13.0833 12.9283 14.74V20.955H9.32V9.49167H12.79V11.08H12.8367C13.185 10.375 14.405 9.17 16.2667 9.17C18.28 9.17 20.455 10.365 20.455 13.865L20.4533 20.955Z\"\\n        fill=\"currentColor\"\\n    />\\n</svg>\\n</span>                </div>\\n                    </a>\\n                <a class=\"flex items-center text-center gap-2 justify-center shadow-inner-border shadow-wl-neutral-0 disabled:shadow-none rounded-full shrink-0 text-wl-neutral-600 hover:text-wl-neutral-0 disabled:text-wl-neutral-400 bg-wl-neutral-0 hover:bg-transparent disabled:bg-wl-neutral-200 p-2 w-9 h-9 text-sm font-medium\" data-ds-element=\"social-links-telegram\" data-ds-component=\"button\" data-ds-variant=\"tertiary\" title=\"Compartilhar no telegram\" href=\"https://t.me/infomoney_noticias\" target=\"_blank\">\\n                                        <div class=\"size-5\">\\n                    <span class=\"w-full h-full [&amp;&gt;svg]:w-full [&amp;&gt;svg]:h-full\" ><svg\\n    viewBox=\"0 0 22 19\"\\n    fill=\"none\"\\n    xmlns=\"http://www.w3.org/2000/svg\"\\n>\\n    <path\\n        fill-rule=\"evenodd\"\\n        clip-rule=\"evenodd\"\\n        d=\"M1.51239 8.34877C7.41795 5.77581 11.3559 4.07955 13.3263 3.26001C18.9521 0.920042 20.1211 0.513565 20.883 0.500143C21.0506 0.497191 21.4253 0.538722 21.668 0.735667C21.873 0.901964 21.9294 1.12661 21.9563 1.28427C21.9833 1.44194 22.0169 1.80111 21.9902 2.08176C21.6854 5.28499 20.3662 13.0584 19.6951 16.6461C19.4111 18.1642 18.852 18.6732 18.3107 18.723C17.1343 18.8312 16.2409 17.9455 15.1015 17.1986C13.3186 16.0299 12.3113 15.3023 10.5807 14.1619C8.58058 12.8438 9.87715 12.1194 11.017 10.9355C11.3153 10.6257 16.4986 5.91112 16.5989 5.48343C16.6115 5.42994 16.6231 5.23056 16.5046 5.12528C16.3862 5.02 16.2114 5.056 16.0852 5.08463C15.9064 5.12522 13.0581 7.00783 7.54035 10.7325C6.73187 11.2876 5.99958 11.5581 5.34347 11.5439C4.62016 11.5283 3.2288 11.135 2.19447 10.7988C0.925826 10.3864 -0.0824703 10.1683 0.00532971 9.46798C0.0510613 9.10319 0.553413 8.73012 1.51239 8.34877Z\"\\n        fill=\"currentColor\"\\n    />\\n</svg>\\n</span>                </div>\\n                    </a>\\n                <a class=\"flex items-center text-center gap-2 justify-center shadow-inner-border shadow-wl-neutral-0 disabled:shadow-none rounded-full shrink-0 text-wl-neutral-600 hover:text-wl-neutral-0 disabled:text-wl-neutral-400 bg-wl-neutral-0 hover:bg-transparent disabled:bg-wl-neutral-200 p-2 w-9 h-9 text-sm font-medium\" data-ds-element=\"social-links-tiktok\" data-ds-component=\"button\" data-ds-variant=\"tertiary\" title=\"Compartilhar no tiktok\" href=\"https://www.tiktok.com/@infomoney\" target=\"_blank\">\\n                                        <div class=\"size-5\">\\n                    <span class=\"w-full h-full [&amp;&gt;svg]:w-full [&amp;&gt;svg]:h-full\" ><svg width=\"24\" height=\"24\" viewBox=\"0 0 24 24\" fill=\"none\" xmlns=\"http://www.w3.org/2000/svg\">\\n  <path d=\"M22.606 5.873A5.872 5.872 0 0 1 16.734 0h-4.196v16.43a3.568 3.568 0 1 1-2.56-3.426v-4.08a7.572 7.572 0 1 0 6.56 7.505l.123-8.304a10.022 10.022 0 0 0 5.945 1.943V5.873Z\" fill=\"currentColor\"/>\\n</svg>\\n</span>                </div>\\n                    </a>\\n                </div>\\n                            </div>\\n                    <div class=\"!py-3 md:!py-4 text-wl-neutral-200 text-xs text-justify\">\\n                        © 2000-2025 InfoMoney. Todos os direitos reservados.\\n                        <br />\\n                        <br />\\n                        O InfoMoney preza a qualidade da informação e atesta a apuração de todo o conteúdo produzido por sua\\n                        equipe,\\n                        ressaltando, no entanto, que não faz qualquer tipo de recomendação de investimento, não se\\n                        responsabilizando\\n                        por perdas, danos (diretos, indiretos e incidentais), custos e lucros cessantes.\\n                        <br />\\n                        <br />\\n                        IMPORTANTE: O portal www.infomoney.com.br (o \"Portal\") é de propriedade da Infostocks Informações e\\n                        Sistemas\\n                        Ltda. (CNPJ/MF nº 03.082.929/0001-03) (\"Infostocks\"), sociedade controlada, indiretamente, pela XP\\n                        Controle\\n                        Participações S/A (CNPJ/MF nº 09.163.677/0001-15), sociedade holding que controla as empresas do XP Inc.\\n                        O\\n                        XP Inc tem em sua composição empresas que exercem atividades de: corretoras de valores mobiliários,\\n                        banco,\\n                        seguradora, corretora de seguros, análise de investimentos de valores mobiliários, gestoras de recursos\\n                        de\\n                        terceiros. Apesar de as Sociedades XP estarem sob controle comum, os executivos responsáveis pela\\n                        Infostocks\\n                        são totalmente independentes e as notícias, matérias e opiniões veiculadas no Portal não são, sob\\n                        qualquer\\n                        aspecto, direcionadas e/ou influenciadas por relatórios de análise produzidos por áreas técnicas das\\n                        empresas do XP Inc, nem por decisões comerciais e de negócio de tais sociedades, sendo produzidos de\\n                        acordo\\n                        com o juízo de valor e as convicções próprias da equipe interna da Infostocks.\\n                    </div>\\n                </div>\\n            </div>\\n        </footer>\\n        <script id=\"jetpack-stats-js-before\">\\n_stq = window._stq || [];\\n_stq.push([ \"view\", JSON.parse(\"{\\\\\"v\\\\\":\\\\\"ext\\\\\",\\\\\"blog\\\\\":\\\\\"161989173\\\\\",\\\\\"post\\\\\":\\\\\"1360794\\\\\",\\\\\"tz\\\\\":\\\\\"-3\\\\\",\\\\\"srv\\\\\":\\\\\"www.infomoney.com.br\\\\\",\\\\\"hp\\\\\":\\\\\"vip\\\\\",\\\\\"j\\\\\":\\\\\"1:14.4.1\\\\\"}\") ]);\\n_stq.push([ \"clickTrackerInit\", \"161989173\", \"1360794\" ]);\\n</script>\\n<script src=\"https://stats.wp.com/e-202513.js\" id=\"jetpack-stats-js\" defer data-wp-strategy=\"defer\"></script>\\n        </body>\\n        </html>\\n'"
      ]
     },
     "execution_count": 13,
     "metadata": {},
     "output_type": "execute_result"
    }
   ],
   "source": [
    "response.text"
   ]
  },
  {
   "cell_type": "markdown",
   "metadata": {},
   "source": [
    "<h4 id='parte-3b' style=\"color:green;\">5.1.2. Organizado a resposta do request por meio do 'bs4'</h4>"
   ]
  },
  {
   "cell_type": "markdown",
   "metadata": {},
   "source": [
    "<p>Por meio da função <b>BeautifulSoup</b> e usando como parâmetro <b>'response.text'</b>(nossa resposta do request) e <b>'html.parser'</b>(o tipo de dado que estamos passando) podemos organizar nosso código HTML:</p>"
   ]
  },
  {
   "cell_type": "code",
   "execution_count": 14,
   "metadata": {},
   "outputs": [],
   "source": [
    "html = BeautifulSoup(response.text, \"html.parser\")"
   ]
  },
  {
   "cell_type": "markdown",
   "metadata": {},
   "source": [
    "<p>Printando <b>'html'</b>, podemos ver que agora existe uma organização e não somente uma string gigantesca contendo todo o código HTML</p>"
   ]
  },
  {
   "cell_type": "code",
   "execution_count": 15,
   "metadata": {},
   "outputs": [
    {
     "data": {
      "text/plain": [
       " <!DOCTYPE html>\n",
       "\n",
       "<html class=\"scroll-smooth\" lang=\"pt-BR\">\n",
       "<head>\n",
       "<meta charset=\"utf-8\"/>\n",
       "<meta content=\"width=device-width, initial-scale=1.0\" name=\"viewport\"/>\n",
       "<title>Reforma Trabalhista de Bolsonaro: entenda a MP 905 – e por que ela pode ser contestada judicialmente</title>\n",
       "<meta content=\"index, follow, max-image-preview:large, max-snippet:-1, max-video-preview:-1\" name=\"robots\">\n",
       "<style>img:is([sizes=\"auto\" i], [sizes^=\"auto,\" i]) { contain-intrinsic-size: 3000px 1500px }</style>\n",
       "<link href=\"https://www.googletagmanager.com/\" rel=\"preconnect\"/>\n",
       "<link href=\"https://connect.facebook.net/\" rel=\"preconnect\"/>\n",
       "<link href=\"https://apis.google.com/\" rel=\"preconnect\"/>\n",
       "<link href=\"https://securepubads.g.doubleclick.net/\" rel=\"preconnect\"/>\n",
       "<link href=\"https://tpc.googlesyndication.com/\" rel=\"preconnect\"/>\n",
       "<link href=\"https://pagead2.googlesyndication.com/\" rel=\"preconnect\"/>\n",
       "<link crossorigin=\"\" href=\"https://fonts.googleapis.com/\" rel=\"preconnect\"/>\n",
       "<link href=\"https://www.googletagmanager.com/\" rel=\"dns-prefetch\"/>\n",
       "<link href=\"https://securepubads.g.doubleclick.net\" rel=\"dns-prefetch\"/>\n",
       "<link href=\"https://fonts.googleapis.com/\" rel=\"dns-prefetch\"/>\n",
       "<link href=\"https://storage.googleapis.com/\" rel=\"dns-prefetch\"/>\n",
       "<!-- This site is optimized with the Yoast SEO Premium plugin v22.7 (Yoast SEO v22.7) - https://yoast.com/wordpress/plugins/seo/ -->\n",
       "<title>Reforma Trabalhista de Bolsonaro: entenda a MP 905 - e por que ela pode ser contestada judicialmente - InfoMoney</title>\n",
       "<meta content=\"Governo anuncia pacote que altera leis trabalhistas, mas princípio da isonomia pode ser ferido pela MP\" name=\"description\">\n",
       "<link href=\"https://www.infomoney.com.br/politica/10-pontos-para-entender-a-mp-905-e-por-que-ela-pode-ser-contestada-judicialmente/\" rel=\"canonical\">\n",
       "<meta content=\"pt_BR\" property=\"og:locale\"/>\n",
       "<meta content=\"article\" property=\"og:type\"/>\n",
       "<meta content=\"Reforma Trabalhista de Bolsonaro: entenda a MP 905 - e por que ela pode ser contestada judicialmente\" property=\"og:title\"/>\n",
       "<meta content=\"Governo anuncia pacote que altera leis trabalhistas, mas princípio da isonomia pode ser ferido pela MP\" property=\"og:description\"/>\n",
       "<meta content=\"https://www.infomoney.com.br/politica/10-pontos-para-entender-a-mp-905-e-por-que-ela-pode-ser-contestada-judicialmente/\" property=\"og:url\"/>\n",
       "<meta content=\"InfoMoney\" property=\"og:site_name\"/>\n",
       "<meta content=\"https://www.facebook.com/InfoMoney/\" property=\"article:publisher\"/>\n",
       "<meta content=\"2019-11-14T18:26:14+00:00\" property=\"article:published_time\"/>\n",
       "<meta content=\"2020-03-04T15:01:56+00:00\" property=\"article:modified_time\"/>\n",
       "<meta content=\"https://www.infomoney.com.br/wp-content/uploads/2019/11/shutterstock_1300372189.jpg?fit=1000%2C716&amp;quality=50&amp;strip=all\" property=\"og:image\"/>\n",
       "<meta content=\"1000\" property=\"og:image:width\"/>\n",
       "<meta content=\"716\" property=\"og:image:height\"/>\n",
       "<meta content=\"image/jpeg\" property=\"og:image:type\"/>\n",
       "<meta content=\"Pablo Santana\" name=\"author\"/>\n",
       "<meta content=\"summary_large_image\" name=\"twitter:card\"/>\n",
       "<meta content=\"@infomoney\" name=\"twitter:creator\"/>\n",
       "<meta content=\"@infomoney\" name=\"twitter:site\"/>\n",
       "<meta content=\"Written by\" name=\"twitter:label1\"/>\n",
       "<meta content=\"Pablo Santana\" name=\"twitter:data1\"/>\n",
       "<meta content=\"Est. reading time\" name=\"twitter:label2\"/>\n",
       "<meta content=\"6 minutos\" name=\"twitter:data2\"/>\n",
       "<script class=\"yoast-schema-graph\" type=\"application/ld+json\">{\"@context\":\"https://schema.org\",\"@graph\":[{\"@type\":\"NewsArticle\",\"@id\":\"https://www.infomoney.com.br/politica/10-pontos-para-entender-a-mp-905-e-por-que-ela-pode-ser-contestada-judicialmente/#article\",\"isPartOf\":{\"@id\":\"https://www.infomoney.com.br/politica/10-pontos-para-entender-a-mp-905-e-por-que-ela-pode-ser-contestada-judicialmente/\"},\"author\":[{\"@id\":\"https://www.infomoney.com.br/#/schema/person/image/e7dce6b0d751907146e9e1ffd431ce0f\"}],\"headline\":\"Reforma Trabalhista de Bolsonaro: entenda a MP 905 &#8211; e por que ela pode ser contestada judicialmente\",\"datePublished\":\"2019-11-14T18:26:14+00:00\",\"dateModified\":\"2020-03-04T15:01:56+00:00\",\"mainEntityOfPage\":{\"@id\":\"https://www.infomoney.com.br/politica/10-pontos-para-entender-a-mp-905-e-por-que-ela-pode-ser-contestada-judicialmente/\"},\"wordCount\":1302,\"commentCount\":0,\"publisher\":{\"@id\":\"https://www.infomoney.com.br/#organization\"},\"image\":{\"@id\":\"https://www.infomoney.com.br/politica/10-pontos-para-entender-a-mp-905-e-por-que-ela-pode-ser-contestada-judicialmente/#primaryimage\"},\"thumbnailUrl\":\"https://www.infomoney.com.br/wp-content/uploads/2019/11/shutterstock_1300372189.jpg?fit=1000%2C716&quality=70&strip=all\",\"keywords\":[\"CLT\",\"Governo\",\"Medida Provisória\"],\"articleSection\":[\"Economia\",\"Política\"],\"inLanguage\":\"pt-BR\",\"potentialAction\":[{\"@type\":\"CommentAction\",\"name\":\"Comment\",\"target\":[\"https://www.infomoney.com.br/politica/10-pontos-para-entender-a-mp-905-e-por-que-ela-pode-ser-contestada-judicialmente/#respond\"]}],\"copyrightYear\":\"2019\",\"copyrightHolder\":{\"@id\":\"https://www.infomoney.com.br/#organization\"}},{\"@type\":\"WebPage\",\"@id\":\"https://www.infomoney.com.br/politica/10-pontos-para-entender-a-mp-905-e-por-que-ela-pode-ser-contestada-judicialmente/\",\"url\":\"https://www.infomoney.com.br/politica/10-pontos-para-entender-a-mp-905-e-por-que-ela-pode-ser-contestada-judicialmente/\",\"name\":\"Reforma Trabalhista de Bolsonaro: entenda a MP 905 - e por que ela pode ser contestada judicialmente - InfoMoney\",\"isPartOf\":{\"@id\":\"https://www.infomoney.com.br/#website\"},\"primaryImageOfPage\":{\"@id\":\"https://www.infomoney.com.br/politica/10-pontos-para-entender-a-mp-905-e-por-que-ela-pode-ser-contestada-judicialmente/#primaryimage\"},\"image\":{\"@id\":\"https://www.infomoney.com.br/politica/10-pontos-para-entender-a-mp-905-e-por-que-ela-pode-ser-contestada-judicialmente/#primaryimage\"},\"thumbnailUrl\":\"https://www.infomoney.com.br/wp-content/uploads/2019/11/shutterstock_1300372189.jpg?fit=1000%2C716&quality=70&strip=all\",\"datePublished\":\"2019-11-14T18:26:14+00:00\",\"dateModified\":\"2020-03-04T15:01:56+00:00\",\"description\":\"Governo anuncia pacote que altera leis trabalhistas, mas princípio da isonomia pode ser ferido pela MP\",\"breadcrumb\":{\"@id\":\"https://www.infomoney.com.br/politica/10-pontos-para-entender-a-mp-905-e-por-que-ela-pode-ser-contestada-judicialmente/#breadcrumb\"},\"inLanguage\":\"pt-BR\",\"potentialAction\":[{\"@type\":\"ReadAction\",\"target\":[\"https://www.infomoney.com.br/politica/10-pontos-para-entender-a-mp-905-e-por-que-ela-pode-ser-contestada-judicialmente/\"]}]},{\"@type\":\"ImageObject\",\"inLanguage\":\"pt-BR\",\"@id\":\"https://www.infomoney.com.br/politica/10-pontos-para-entender-a-mp-905-e-por-que-ela-pode-ser-contestada-judicialmente/#primaryimage\",\"url\":\"https://www.infomoney.com.br/wp-content/uploads/2019/11/shutterstock_1300372189.jpg?fit=1000%2C716&quality=70&strip=all\",\"contentUrl\":\"https://www.infomoney.com.br/wp-content/uploads/2019/11/shutterstock_1300372189.jpg?fit=1000%2C716&quality=70&strip=all\",\"width\":1000,\"height\":716,\"caption\":\"(Shutterstock)\"},{\"@type\":\"BreadcrumbList\",\"@id\":\"https://www.infomoney.com.br/politica/10-pontos-para-entender-a-mp-905-e-por-que-ela-pode-ser-contestada-judicialmente/#breadcrumb\",\"itemListElement\":[{\"@type\":\"ListItem\",\"position\":1,\"name\":\"Home\",\"item\":\"https://www.infomoney.com.br/\"},{\"@type\":\"ListItem\",\"position\":2,\"name\":\"Últimas Notícias\",\"item\":\"https://www.infomoney.com.br/ultimas-noticias/\"},{\"@type\":\"ListItem\",\"position\":3,\"name\":\"Reforma Trabalhista de Bolsonaro: entenda a MP 905 &#8211; e por que ela pode ser contestada judicialmente\"}]},{\"@type\":\"WebSite\",\"@id\":\"https://www.infomoney.com.br/#website\",\"url\":\"https://www.infomoney.com.br/\",\"name\":\"InfoMoney\",\"description\":\"Notícias, ações e muito mais sobre investimentos. Informação que vale dinheiro.\",\"publisher\":{\"@id\":\"https://www.infomoney.com.br/#organization\"},\"potentialAction\":[{\"@type\":\"SearchAction\",\"target\":{\"@type\":\"EntryPoint\",\"urlTemplate\":\"https://www.infomoney.com.br/?s={search_term_string}\"},\"query-input\":\"required name=search_term_string\"}],\"inLanguage\":\"pt-BR\"},{\"@type\":\"Organization\",\"@id\":\"https://www.infomoney.com.br/#organization\",\"name\":\"InfoMoney\",\"url\":\"https://www.infomoney.com.br/\",\"logo\":{\"@type\":\"ImageObject\",\"inLanguage\":\"pt-BR\",\"@id\":\"https://www.infomoney.com.br/#/schema/logo/image/\",\"url\":\"https://www.infomoney.com.br/wp-content/uploads/2021/03/Site-thumb-de-materia.png?fit=1280%2C720&quality=50&strip=all\",\"contentUrl\":\"https://www.infomoney.com.br/wp-content/uploads/2021/03/Site-thumb-de-materia.png?fit=1280%2C720&quality=50&strip=all\",\"width\":1280,\"height\":720,\"caption\":\"InfoMoney\"},\"image\":{\"@id\":\"https://www.infomoney.com.br/#/schema/logo/image/\"},\"sameAs\":[\"https://www.facebook.com/InfoMoney/\",\"https://x.com/infomoney\",\"https://www.instagram.com/infomoney/\",\"https://www.linkedin.com/company/infomoney/\",\"https://www.youtube.com/user/tvinfomoney?sub_confirmation=1\",\"https://pt.wikipedia.org/wiki/XP_Investimentos\",\"https://tiktok.com/infomoney\"]},{\"@type\":\"Person\",\"@id\":\"https://www.infomoney.com.br/#/schema/person/image/e7dce6b0d751907146e9e1ffd431ce0f\",\"name\":\"Pablo Santana\",\"image\":{\"@type\":\"ImageObject\",\"inLanguage\":\"pt-BR\",\"@id\":\"https://www.infomoney.com.br/#/schema/person/image/0f84b4a6295ee7d95949357d894338f9\",\"url\":\"https://www.infomoney.com.br/wp-content/uploads/2019/11/Pablo-Santana-U003013-3-1-e1574187869230.jpg?resize=150%2C150&quality=70&strip=all\",\"contentUrl\":\"https://www.infomoney.com.br/wp-content/uploads/2019/11/Pablo-Santana-U003013-3-1-e1574187869230.jpg?resize=150%2C150&quality=70&strip=all\",\"width\":150,\"height\":150,\"caption\":\"Pablo Santana\"},\"description\":\"Repórter do InfoMoney. Cobre tecnologia, finanças pessoais, carreiras e negócios\",\"url\":\"https://www.infomoney.com.br/autor/pablo-santana/\"}]}</script>\n",
       "<!-- / Yoast SEO Premium plugin. -->\n",
       "<link href=\"//securepubads.g.doubleclick.net\" rel=\"dns-prefetch\">\n",
       "<link href=\"//stats.wp.com\" rel=\"dns-prefetch\">\n",
       "<link href=\"//v0.wordpress.com\" rel=\"dns-prefetch\">\n",
       "<link href=\"https://www.infomoney.com.br/feed/\" rel=\"alternate\" title=\"Feed para InfoMoney »\" type=\"application/rss+xml\">\n",
       "<link href=\"https://www.infomoney.com.br/comments/feed/\" rel=\"alternate\" title=\"Feed de comentários para InfoMoney »\" type=\"application/rss+xml\">\n",
       "<link href=\"https://www.infomoney.com.br/web-stories/feed/\" rel=\"alternate\" title=\"InfoMoney » Stories Feed\" type=\"application/rss+xml\"/><style id=\"tailwind-css-inline-css\">\n",
       "/* cyrillic-ext */@font-face {  font-family: 'Inter';  font-style: normal;  font-weight: 100 900;  font-display: swap;  src: url(/wp-content/themes/infomoney/v2/assets/fonts/inter-cyrillic-ext.woff2) format('woff2');  unicode-range: U+0460-052F, U+1C80-1C88, U+20B4, U+2DE0-2DFF, U+A640-A69F, U+FE2E-FE2F;}/* cyrillic */@font-face {  font-family: 'Inter';  font-style: normal;  font-weight: 100 900;  font-display: swap;  src: url(/wp-content/themes/infomoney/v2/assets/fonts/inter-cyrillic-ext.woff2) format('woff2');  unicode-range: U+0301, U+0400-045F, U+0490-0491, U+04B0-04B1, U+2116;}/* greek-ext */@font-face {  font-family: 'Inter';  font-style: normal;  font-weight: 100 900;  font-display: swap;  src: url(/wp-content/themes/infomoney/v2/assets/fonts/inter-greek-ext.woff2) format('woff2');  unicode-range: U+1F00-1FFF;}/* greek */@font-face {  font-family: 'Inter';  font-style: normal;  font-weight: 100 900;  font-display: swap;  src: url(/wp-content/themes/infomoney/v2/assets/fonts/inter/inter-greek.woff2) format('woff2');  unicode-range: U+0370-0377, U+037A-037F, U+0384-038A, U+038C, U+038E-03A1, U+03A3-03FF;}/* vietnamese */@font-face {  font-family: 'Inter';  font-style: normal;  font-weight: 100 900;  font-display: swap;  src: url(/wp-content/themes/infomoney/v2/assets/fonts/inter-vietnamese.woff2) format('woff2');  unicode-range: U+0102-0103, U+0110-0111, U+0128-0129, U+0168-0169, U+01A0-01A1, U+01AF-01B0, U+0300-0301, U+0303-0304, U+0308-0309, U+0323, U+0329, U+1EA0-1EF9, U+20AB;}/* latin-ext */@font-face {  font-family: 'Inter';  font-style: normal;  font-weight: 100 900;  font-display: swap;  src: url(/wp-content/themes/infomoney/v2/assets/fonts/inter-latin-ext.woff2) format('woff2');  unicode-range: U+0100-02AF, U+0304, U+0308, U+0329, U+1E00-1E9F, U+1EF2-1EFF, U+2020, U+20A0-20AB, U+20AD-20C0, U+2113, U+2C60-2C7F, U+A720-A7FF;}/* latin */@font-face {  font-family: 'Inter';  font-style: normal;  font-weight: 100 900;  font-display: swap;  src: url(/wp-content/themes/infomoney/v2/assets/fonts/inter-latin.woff2) format('woff2');  unicode-range: U+0000-00FF, U+0131, U+0152-0153, U+02BB-02BC, U+02C6, U+02DA, U+02DC, U+0304, U+0308, U+0329, U+2000-206F, U+2074, U+20AC, U+2122, U+2191, U+2193, U+2212, U+2215, U+FEFF, U+FFFD;}@font-face {  font-family: 'Source Serif 4';  font-style: normal;  font-weight: 200;  font-display: swap;  src: url(/wp-content/themes/infomoney/v2/assets/fonts/SourceSerif4-ExtraLight.woff2) format('woff2');  unicode-range: U+0000-00FF, U+0131, U+0152-0153, U+02BB-02BC, U+02C6, U+02DA, U+02DC, U+0304, U+0308, U+0329, U+2000-206F, U+2074, U+20AC, U+2122, U+2191, U+2193, U+2212, U+2215, U+FEFF, U+FFFD;}@font-face {  font-family: 'Source Serif 4';  font-style: normal;  font-weight: 300;  font-display: swap;  src: url(/wp-content/themes/infomoney/v2/assets/fonts/SourceSerif4-Light.woff2) format('woff2');  unicode-range: U+0000-00FF, U+0131, U+0152-0153, U+02BB-02BC, U+02C6, U+02DA, U+02DC, U+0304, U+0308, U+0329, U+2000-206F, U+2074, U+20AC, U+2122, U+2191, U+2193, U+2212, U+2215, U+FEFF, U+FFFD;}@font-face {  font-family: 'Source Serif 4';  font-style: normal;  font-weight: 400;  font-display: swap;  src: url(/wp-content/themes/infomoney/v2/assets/fonts/SourceSerif4-Regular.woff2) format('woff2');  unicode-range: U+0000-00FF, U+0131, U+0152-0153, U+02BB-02BC, U+02C6, U+02DA, U+02DC, U+0304, U+0308, U+0329, U+2000-206F, U+2074, U+20AC, U+2122, U+2191, U+2193, U+2212, U+2215, U+FEFF, U+FFFD;}@font-face {  font-family: 'Source Serif 4';  font-style: normal;  font-weight: 500;  font-display: swap;  src: url(/wp-content/themes/infomoney/v2/assets/fonts/SourceSerif4-Medium.woff2) format('woff2');  unicode-range: U+0000-00FF, U+0131, U+0152-0153, U+02BB-02BC, U+02C6, U+02DA, U+02DC, U+0304, U+0308, U+0329, U+2000-206F, U+2074, U+20AC, U+2122, U+2191, U+2193, U+2212, U+2215, U+FEFF, U+FFFD;}@font-face {  font-family: 'Source Serif 4';  font-style: normal;  font-weight: 600;  font-display: swap;  src: url(/wp-content/themes/infomoney/v2/assets/fonts/SourceSerif4-SemiBold.woff2) format('woff2');  unicode-range: U+0000-00FF, U+0131, U+0152-0153, U+02BB-02BC, U+02C6, U+02DA, U+02DC, U+0304, U+0308, U+0329, U+2000-206F, U+2074, U+20AC, U+2122, U+2191, U+2193, U+2212, U+2215, U+FEFF, U+FFFD;}@font-face {  font-family: 'Source Serif 4';  font-style: normal;  font-weight: 700;  font-display: swap;  src: url(/wp-content/themes/infomoney/v2/assets/fonts/SourceSerif4-Bold.woff2) format('woff2');  unicode-range: U+0000-00FF, U+0131, U+0152-0153, U+02BB-02BC, U+02C6, U+02DA, U+02DC, U+0304, U+0308, U+0329, U+2000-206F, U+2074, U+20AC, U+2122, U+2191, U+2193, U+2212, U+2215, U+FEFF, U+FFFD;}@font-face {  font-family: 'Source Serif 4';  font-style: normal;  font-weight: 800;  font-display: swap;  src: url(/wp-content/themes/infomoney/v2/assets/fonts/SourceSerif4-ExtraBold.woff2) format('woff2');  unicode-range: U+0000-00FF, U+0131, U+0152-0153, U+02BB-02BC, U+02C6, U+02DA, U+02DC, U+0304, U+0308, U+0329, U+2000-206F, U+2074, U+20AC, U+2122, U+2191, U+2193, U+2212, U+2215, U+FEFF, U+FFFD;}@font-face {  font-family: 'Source Serif 4';  font-style: normal;  font-weight: 900;  font-display: swap;  src: url(/wp-content/themes/infomoney/v2/assets/fonts/SourceSerif4-Black.woff2) format('woff2');  unicode-range: U+0000-00FF, U+0131, U+0152-0153, U+02BB-02BC, U+02C6, U+02DA, U+02DC, U+0304, U+0308, U+0329, U+2000-206F, U+2074, U+20AC, U+2122, U+2191, U+2193, U+2212, U+2215, U+FEFF, U+FFFD;}@keyframes splide-loading{  0%{    transform:rotate(0)  }  to{    transform:rotate(1turn)  }}.splide__track--draggable{  -webkit-touch-callout:none;  -webkit-user-select:none;  -moz-user-select:none;       user-select:none}.splide__track--fade>.splide__list>.splide__slide{  margin:0!important;  opacity:0;  z-index:0}.splide__track--fade>.splide__list>.splide__slide.is-active{  opacity:1;  z-index:1}.splide--rtl{  direction:rtl}.splide__track--ttb>.splide__list{  display:block}.splide__container{  box-sizing:border-box;  position:relative}.splide__list{  backface-visibility:hidden;  display:flex;  height:100%;  margin:0!important;  padding:0!important}.splide.is-initialized:not(.is-active) .splide__list{  display:block}.splide__pagination{  align-items:center;  display:flex;  flex-wrap:wrap;  justify-content:center;  margin:0;  pointer-events:none}.splide__pagination li{  display:inline-block;  line-height:1;  list-style-type:none;  margin:0;  pointer-events:auto}.splide:not(.is-overflow) .splide__pagination{  display:none}.splide__progress__bar{  width:0}.splide{  position:relative;  visibility:hidden}.splide.is-initialized,.splide.is-rendered{  visibility:visible}.splide__slide{  backface-visibility:hidden;  box-sizing:border-box;  flex-shrink:0;  list-style-type:none!important;  margin:0;  position:relative}.splide__slide img{  vertical-align:bottom}.splide__spinner{  animation:splide-loading 1s linear infinite;  border:2px solid #999;  border-left-color:transparent;  border-radius:50%;  bottom:0;  contain:strict;  display:inline-block;  height:20px;  left:0;  margin:auto;  position:absolute;  right:0;  top:0;  width:20px}.splide__sr{  clip:rect(0 0 0 0);  border:0;  height:1px;  margin:-1px;  overflow:hidden;  padding:0;  position:absolute;  width:1px}.splide__toggle.is-active .splide__toggle__play,.splide__toggle__pause{  display:none}.splide__toggle.is-active .splide__toggle__pause{  display:inline}.splide__track{  overflow:hidden;  position:relative;  z-index:0}*, ::before, ::after {  --tw-border-spacing-x: 0;  --tw-border-spacing-y: 0;  --tw-translate-x: 0;  --tw-translate-y: 0;  --tw-rotate: 0;  --tw-skew-x: 0;  --tw-skew-y: 0;  --tw-scale-x: 1;  --tw-scale-y: 1;  --tw-pan-x:  ;  --tw-pan-y:  ;  --tw-pinch-zoom:  ;  --tw-scroll-snap-strictness: proximity;  --tw-gradient-from-position:  ;  --tw-gradient-via-position:  ;  --tw-gradient-to-position:  ;  --tw-ordinal:  ;  --tw-slashed-zero:  ;  --tw-numeric-figure:  ;  --tw-numeric-spacing:  ;  --tw-numeric-fraction:  ;  --tw-ring-inset:  ;  --tw-ring-offset-width: 0px;  --tw-ring-offset-color: #fff;  --tw-ring-color: rgb(59 130 246 / 0.5);  --tw-ring-offset-shadow: 0 0 #0000;  --tw-ring-shadow: 0 0 #0000;  --tw-shadow: 0 0 #0000;  --tw-shadow-colored: 0 0 #0000;  --tw-blur:  ;  --tw-brightness:  ;  --tw-contrast:  ;  --tw-grayscale:  ;  --tw-hue-rotate:  ;  --tw-invert:  ;  --tw-saturate:  ;  --tw-sepia:  ;  --tw-drop-shadow:  ;  --tw-backdrop-blur:  ;  --tw-backdrop-brightness:  ;  --tw-backdrop-contrast:  ;  --tw-backdrop-grayscale:  ;  --tw-backdrop-hue-rotate:  ;  --tw-backdrop-invert:  ;  --tw-backdrop-opacity:  ;  --tw-backdrop-saturate:  ;  --tw-backdrop-sepia:  ;  --tw-contain-size:  ;  --tw-contain-layout:  ;  --tw-contain-paint:  ;  --tw-contain-style:  ;}::backdrop {  --tw-border-spacing-x: 0;  --tw-border-spacing-y: 0;  --tw-translate-x: 0;  --tw-translate-y: 0;  --tw-rotate: 0;  --tw-skew-x: 0;  --tw-skew-y: 0;  --tw-scale-x: 1;  --tw-scale-y: 1;  --tw-pan-x:  ;  --tw-pan-y:  ;  --tw-pinch-zoom:  ;  --tw-scroll-snap-strictness: proximity;  --tw-gradient-from-position:  ;  --tw-gradient-via-position:  ;  --tw-gradient-to-position:  ;  --tw-ordinal:  ;  --tw-slashed-zero:  ;  --tw-numeric-figure:  ;  --tw-numeric-spacing:  ;  --tw-numeric-fraction:  ;  --tw-ring-inset:  ;  --tw-ring-offset-width: 0px;  --tw-ring-offset-color: #fff;  --tw-ring-color: rgb(59 130 246 / 0.5);  --tw-ring-offset-shadow: 0 0 #0000;  --tw-ring-shadow: 0 0 #0000;  --tw-shadow: 0 0 #0000;  --tw-shadow-colored: 0 0 #0000;  --tw-blur:  ;  --tw-brightness:  ;  --tw-contrast:  ;  --tw-grayscale:  ;  --tw-hue-rotate:  ;  --tw-invert:  ;  --tw-saturate:  ;  --tw-sepia:  ;  --tw-drop-shadow:  ;  --tw-backdrop-blur:  ;  --tw-backdrop-brightness:  ;  --tw-backdrop-contrast:  ;  --tw-backdrop-grayscale:  ;  --tw-backdrop-hue-rotate:  ;  --tw-backdrop-invert:  ;  --tw-backdrop-opacity:  ;  --tw-backdrop-saturate:  ;  --tw-backdrop-sepia:  ;  --tw-contain-size:  ;  --tw-contain-layout:  ;  --tw-contain-paint:  ;  --tw-contain-style:  ;}/* ! tailwindcss v3.4.17 | MIT License | https://tailwindcss.com *//*1. Prevent padding and border from affecting element width. (https://github.com/mozdevs/cssremedy/issues/4)2. Allow adding a border to an element by just adding a border-width. (https://github.com/tailwindcss/tailwindcss/pull/116)*/*,::before,::after {  box-sizing: border-box;  /* 1 */  border-width: 0;  /* 2 */  border-style: solid;  /* 2 */  border-color: #e5e7eb;  /* 2 */}::before,::after {  --tw-content: '';}/*1. Use a consistent sensible line-height in all browsers.2. Prevent adjustments of font size after orientation changes in iOS.3. Use a more readable tab size.4. Use the user's configured `sans` font-family by default.5. Use the user's configured `sans` font-feature-settings by default.6. Use the user's configured `sans` font-variation-settings by default.7. Disable tap highlights on iOS*/html,:host {  line-height: 1.5;  /* 1 */  -webkit-text-size-adjust: 100%;  /* 2 */  -moz-tab-size: 4;  /* 3 */  -o-tab-size: 4;     tab-size: 4;  /* 3 */  font-family: ui-sans-serif, system-ui, sans-serif, \"Apple Color Emoji\", \"Segoe UI Emoji\", \"Segoe UI Symbol\", \"Noto Color Emoji\";  /* 4 */  font-feature-settings: normal;  /* 5 */  font-variation-settings: normal;  /* 6 */  -webkit-tap-highlight-color: transparent;  /* 7 */}/*1. Remove the margin in all browsers.2. Inherit line-height from `html` so users can set them as a class directly on the `html` element.*/body {  margin: 0;  /* 1 */  line-height: inherit;  /* 2 */}/*1. Add the correct height in Firefox.2. Correct the inheritance of border color in Firefox. (https://bugzilla.mozilla.org/show_bug.cgi?id=190655)3. Ensure horizontal rules are visible by default.*/hr {  height: 0;  /* 1 */  color: inherit;  /* 2 */  border-top-width: 1px;  /* 3 */}/*Add the correct text decoration in Chrome, Edge, and Safari.*/abbr:where([title]) {  -webkit-text-decoration: underline dotted;          text-decoration: underline dotted;}/*Remove the default font size and weight for headings.*/h1,h2,h3,h4,h5,h6 {  font-size: inherit;  font-weight: inherit;}/*Reset links to optimize for opt-in styling instead of opt-out.*/a {  color: inherit;  text-decoration: inherit;}/*Add the correct font weight in Edge and Safari.*/b,strong {  font-weight: bolder;}/*1. Use the user's configured `mono` font-family by default.2. Use the user's configured `mono` font-feature-settings by default.3. Use the user's configured `mono` font-variation-settings by default.4. Correct the odd `em` font sizing in all browsers.*/code,kbd,samp,pre {  font-family: ui-monospace, SFMono-Regular, Menlo, Monaco, Consolas, \"Liberation Mono\", \"Courier New\", monospace;  /* 1 */  font-feature-settings: normal;  /* 2 */  font-variation-settings: normal;  /* 3 */  font-size: 1em;  /* 4 */}/*Add the correct font size in all browsers.*/small {  font-size: 80%;}/*Prevent `sub` and `sup` elements from affecting the line height in all browsers.*/sub,sup {  font-size: 75%;  line-height: 0;  position: relative;  vertical-align: baseline;}sub {  bottom: -0.25em;}sup {  top: -0.5em;}/*1. Remove text indentation from table contents in Chrome and Safari. (https://bugs.chromium.org/p/chromium/issues/detail?id=999088, https://bugs.webkit.org/show_bug.cgi?id=201297)2. Correct table border color inheritance in all Chrome and Safari. (https://bugs.chromium.org/p/chromium/issues/detail?id=935729, https://bugs.webkit.org/show_bug.cgi?id=195016)3. Remove gaps between table borders by default.*/table {  text-indent: 0;  /* 1 */  border-color: inherit;  /* 2 */  border-collapse: collapse;  /* 3 */}/*1. Change the font styles in all browsers.2. Remove the margin in Firefox and Safari.3. Remove default padding in all browsers.*/button,input,optgroup,select,textarea {  font-family: inherit;  /* 1 */  font-feature-settings: inherit;  /* 1 */  font-variation-settings: inherit;  /* 1 */  font-size: 100%;  /* 1 */  font-weight: inherit;  /* 1 */  line-height: inherit;  /* 1 */  letter-spacing: inherit;  /* 1 */  color: inherit;  /* 1 */  margin: 0;  /* 2 */  padding: 0;  /* 3 */}/*Remove the inheritance of text transform in Edge and Firefox.*/button,select {  text-transform: none;}/*1. Correct the inability to style clickable types in iOS and Safari.2. Remove default button styles.*/button,input:where([type='button']),input:where([type='reset']),input:where([type='submit']) {  -webkit-appearance: button;  /* 1 */  background-color: transparent;  /* 2 */  background-image: none;  /* 2 */}/*Use the modern Firefox focus style for all focusable elements.*/:-moz-focusring {  outline: auto;}/*Remove the additional `:invalid` styles in Firefox. (https://github.com/mozilla/gecko-dev/blob/2f9eacd9d3d995c937b4251a5557d95d494c9be1/layout/style/res/forms.css#L728-L737)*/:-moz-ui-invalid {  box-shadow: none;}/*Add the correct vertical alignment in Chrome and Firefox.*/progress {  vertical-align: baseline;}/*Correct the cursor style of increment and decrement buttons in Safari.*/::-webkit-inner-spin-button,::-webkit-outer-spin-button {  height: auto;}/*1. Correct the odd appearance in Chrome and Safari.2. Correct the outline style in Safari.*/[type='search'] {  -webkit-appearance: textfield;  /* 1 */  outline-offset: -2px;  /* 2 */}/*Remove the inner padding in Chrome and Safari on macOS.*/::-webkit-search-decoration {  -webkit-appearance: none;}/*1. Correct the inability to style clickable types in iOS and Safari.2. Change font properties to `inherit` in Safari.*/::-webkit-file-upload-button {  -webkit-appearance: button;  /* 1 */  font: inherit;  /* 2 */}/*Add the correct display in Chrome and Safari.*/summary {  display: list-item;}/*Removes the default spacing and border for appropriate elements.*/blockquote,dl,dd,h1,h2,h3,h4,h5,h6,hr,figure,p,pre {  margin: 0;}fieldset {  margin: 0;  padding: 0;}legend {  padding: 0;}ol,ul,menu {  list-style: none;  margin: 0;  padding: 0;}/*Reset default styling for dialogs.*/dialog {  padding: 0;}/*Prevent resizing textareas horizontally by default.*/textarea {  resize: vertical;}/*1. Reset the default placeholder opacity in Firefox. (https://github.com/tailwindlabs/tailwindcss/issues/3300)2. Set the default placeholder color to the user's configured gray 400 color.*/input::-moz-placeholder, textarea::-moz-placeholder {  opacity: 1;  /* 1 */  color: #9ca3af;  /* 2 */}input::placeholder,textarea::placeholder {  opacity: 1;  /* 1 */  color: #9ca3af;  /* 2 */}/*Set the default cursor for buttons.*/button,[role=\"button\"] {  cursor: pointer;}/*Make sure disabled buttons don't get the pointer cursor.*/:disabled {  cursor: default;}/*1. Make replaced elements `display: block` by default. (https://github.com/mozdevs/cssremedy/issues/14)2. Add `vertical-align: middle` to align replaced elements more sensibly by default. (https://github.com/jensimmons/cssremedy/issues/14#issuecomment-634934210)   This can trigger a poorly considered lint error in some tools but is included by design.*/img,svg,video,canvas,audio,iframe,embed,object {  display: block;  /* 1 */  vertical-align: middle;  /* 2 */}/*Constrain images and videos to the parent width and preserve their intrinsic aspect ratio. (https://github.com/mozdevs/cssremedy/issues/14)*/img,video {  max-width: 100%;  height: auto;}/* Make elements with the HTML hidden attribute stay hidden by default */[hidden]:where(:not([hidden=\"until-found\"])) {  display: none;}.\\!container {  width: 100% !important;}.container {  width: 100%;}@media (min-width: 640px) {  .\\!container {    max-width: 640px !important;  }  .container {    max-width: 640px;  }}@media (min-width: 768px) {  .\\!container {    max-width: 768px !important;  }  .container {    max-width: 768px;  }}@media (min-width: 1024px) {  .\\!container {    max-width: 1024px !important;  }  .container {    max-width: 1024px;  }}@media (min-width: 1280px) {  .\\!container {    max-width: 1280px !important;  }  .container {    max-width: 1280px;  }}@media (min-width: 1440px) {  .\\!container {    max-width: 1440px !important;  }  .container {    max-width: 1440px;  }}.im-article>p,    .im-article>h2,    .im-article>h3,    .im-article>figure {  padding-left: 1.5rem;  padding-right: 1.5rem;}@media (min-width: 768px) {  .im-article>p,    .im-article>h2,    .im-article>h3,    .im-article>figure {    padding-left: 0px;    padding-right: 0px;  }}.im-article>ul,    .im-article>ol {  list-style-position: inside;}.im-article>h1,    .im-article>h2,    .im-article>h3,    .im-article>h4,    .im-article>h5,    .im-article>h6,    .im-article>figure:not([class*=\"max-w\"]),    .im-article>p,    .im-article>ul,    .im-article>ol,    .im-article>iframe,    .im-article>.embed-youtube,    .im-article>.im-quote-legacy-compatibility {  display: block;  max-width: 42rem;  margin-left: auto;  margin-right: auto;  margin-top: 1rem;  margin-bottom: 1rem;  padding-left: 1.5rem;  padding-right: 1.5rem;}@media (min-width: 768px) {  .im-article>h1,    .im-article>h2,    .im-article>h3,    .im-article>h4,    .im-article>h5,    .im-article>h6,    .im-article>figure:not([class*=\"max-w\"]),    .im-article>p,    .im-article>ul,    .im-article>ol,    .im-article>iframe,    .im-article>.embed-youtube,    .im-article>.im-quote-legacy-compatibility {    padding-left: 0px;    padding-right: 0px;  }}.im-article>p:last-child {  margin-bottom: 0px;}.im-article>p,    .im-article>ol,    .im-article>ul,    .im-article table {  font-size: 1rem;  line-height: 1.5rem;}@media (min-width: 768px) {  .im-article>p,    .im-article>ol,    .im-article>ul,    .im-article table {    font-size: 1.125rem;    line-height: 1.75rem;  }}.im-article>p,    .im-article>ol,    .im-article>ul,    .im-article table {  line-height: 1.625;  letter-spacing: -0.025em;  --tw-text-opacity: 1;  color: rgb(10 10 10 / var(--tw-text-opacity, 1));}/* Listas não-ordenadas de primeiro nível */.im-article>ul {  list-style-type: disc;}/* Sub listas */.im-article>ul ol,    .im-article>ul ul,    .im-article>ol ul,    .im-article>ol ol {  list-style-position: inside;  padding-left: 1rem;}/* Listas ordenadas de primeiro e segundo nível */.im-article>ol,    .im-article>ol ol,    .im-article>ul ol {  list-style-type: decimal;}/* Listas não-ordenadas de segundo nível */.im-article>ol ul,    .im-article>ul ul {  list-style-type: circle;}/* Listas de terceiro nível e além */.im-article>ul li li ul,    .im-article>ul li li ol,    .im-article>ol li li ol,    .im-article>ol li li ul {  list-style-type: square;}/* Estilo de link padrão */.im-article a:not([class*=\"text-\"]),    .block-editor__container .rich-text a {  --tw-text-opacity: 1;  color: rgb(0 111 216 / var(--tw-text-opacity, 1));  font-weight: 600;  text-decoration-line: underline;}/* Estilo de link padrão:hover */.im-article a:not([class*=\"text-\"]):hover,    .block-editor__container .rich-text a:hover {  --tw-text-opacity: 1;  color: rgb(23 99 170 / var(--tw-text-opacity, 1));}.im-article>h2 {  font-size: 1.5rem;  line-height: 2rem;}@media (min-width: 768px) {  .im-article>h2 {    font-size: 1.875rem;    line-height: 2.25rem;  }}.im-article>h2 {  font-weight: 700;  line-height: 1.25;  letter-spacing: -0.025em;  margin-top: 2.5rem;  margin-bottom: 1rem;}@media (min-width: 768px) {  .im-article>h2 {    margin-top: 3rem;    margin-bottom: 1.5rem;  }}.im-article>h3,    .im-article>h4,    .im-article>h5,    .im-article>h6 {  font-size: 1.5rem;  line-height: 2rem;}@media (min-width: 768px) {  .im-article>h3,    .im-article>h4,    .im-article>h5,    .im-article>h6 {    font-size: 1.875rem;    line-height: 2.25rem;  }}.im-article>h3,    .im-article>h4,    .im-article>h5,    .im-article>h6 {  font-weight: 700;  line-height: 1.25;  letter-spacing: -0.025em;  margin-top: 2.5rem;  margin-bottom: 1rem;}@media (min-width: 768px) {  .im-article>h3,    .im-article>h4,    .im-article>h5,    .im-article>h6 {    margin-top: 3rem;    margin-bottom: 1.5rem;  }}.im-article>figure {  margin-top: 1.5rem;  margin-bottom: 1.5rem;}.im-article>figure figcaption {  font-size: 0.75rem;  line-height: 1rem;  line-height: 1.625;  --tw-text-opacity: 1;  color: rgb(114 114 114 / var(--tw-text-opacity, 1));  margin-top: 0.5rem;}.im-article table {  width: 100%;  table-layout: fixed;}.im-article>figure.im-table {  border-width: 1px;  --tw-border-opacity: 1;  border-color: rgb(229 229 229 / var(--tw-border-opacity, 1));  border-radius: 0.25rem;  overflow-x: auto;  margin-left: 1.5rem;  margin-right: 1.5rem;}@media (min-width: 768px) {  .im-article>figure.im-table {    margin-left: auto;    margin-right: auto;  }}.im-article>figure.im-table {  margin-top: 1.5rem;  margin-bottom: 1.5rem;}.im-article tr {  border-bottom-width: 1px;  --tw-border-opacity: 1;  border-color: rgb(229 229 229 / var(--tw-border-opacity, 1));}.im-article th,    .im-article td {  text-align: left;  width: 244px;}@media (min-width: 1024px) {  .im-article th,    .im-article td {    width: 204px;  }}.im-article thead td,    .im-article th {  font-weight: 700;  padding-left: 1rem;  padding-right: 1rem;  padding-top: 0.5rem;  padding-bottom: 0.5rem;}.im-article tbody td {  padding-left: 1rem;  padding-right: 1rem;  padding-top: 0.75rem;  padding-bottom: 0.75rem;}.im-article tfoot td,    .im-article>.im-table figcaption {  padding-left: 1rem;  padding-right: 1rem;  padding-top: 0.75rem;  padding-bottom: 0.75rem;  margin: 0px;}.im-article .im-quote-legacy-compatibility {  border-left-width: 4px;  --tw-border-opacity: 1;  border-color: rgb(82 82 82 / var(--tw-border-opacity, 1));  padding-left: 1rem;}/* Estilo da citação */.im-article .im-quote-legacy-compatibility p:first-child {  font-family: 'Source Serif 4', serif;  font-size: 1.125rem;  line-height: 1.75rem;}@media (min-width: 1024px) {  .im-article .im-quote-legacy-compatibility p:first-child {    font-size: 1.5rem;    line-height: 2rem;  }}.im-article .im-quote-legacy-compatibility p:first-child {  font-weight: 700;}@media (min-width: 768px) {  .im-article .im-quote-legacy-compatibility p:first-child {    letter-spacing: -0.05em;  }}.im-article .im-quote-legacy-compatibility p:first-child {  --tw-text-opacity: 1;  color: rgb(10 10 10 / var(--tw-text-opacity, 1));}/* Estilo do autor da citação. Regra: último P que não seja também o primeiro */.im-article .im-quote-legacy-compatibility p:last-child:not(:first-child) {  font-size: 0.875rem;  line-height: 1.25rem;  --tw-text-opacity: 1;  color: rgb(114 114 114 / var(--tw-text-opacity, 1));  margin-top: 1rem;}/* Estilo do autor da citação. Adiciona hífen */.im-article .im-quote-legacy-compatibility p:last-child:not(:first-child):before {  content: '— ';}.im-article .infomoney-related-posts {  display: none;}.im-article .wp-block-embed-instagram,    .im-article .wp-block-embed-twitter,    .im-article .instagram-media,    .im-article .twitter-tweet {  max-width: 500px;  margin-left: auto !important;  margin-right: auto !important;}.im-article .wp-block-embed__wrapper iframe {  max-width: 100%;}.im-article .disclaimer {  max-width: 42rem;  margin-left: auto;  margin-right: auto;  padding-left: 1.5rem;  padding-right: 1.5rem;  --tw-bg-opacity: 1;  background-color: rgb(250 250 250 / var(--tw-bg-opacity, 1));  padding-top: 0.5rem;  padding-bottom: 0.5rem;  --tw-text-opacity: 1;  color: rgb(114 114 114 / var(--tw-text-opacity, 1));}/* Ocultar infomoney_forms legados */.im-article .im-shortcode-forms {  display: none;}/* Apenas parágrafos devem respeitar float */.im-article> :not(p) {  clear: both;}/* Util class for thin scrollbar*/div.scrollbar-thin::-webkit-scrollbar {  width: 5px;  height: 5px;}div.scrollbar-thin::-webkit-scrollbar-track {  background: #f1f1f1;}div.scrollbar-thin::-webkit-scrollbar-thumb {  background: #888;  border-radius: 5px;}div.scrollbar-thin::-webkit-scrollbar-thumb:hover {  background: #555;}/* Fix for Flourish Iframe */.im-article .flourish-embed-iframe+div {  max-width: 42rem;  margin-left: auto;  margin-right: auto;  padding-left: 1.5rem;  padding-right: 1.5rem;}@media (min-width: 768px) {  .im-article .flourish-embed-iframe+div {    padding-left: 1.5rem;    padding-right: 1.5rem;  }}.sr-only {  position: absolute;  width: 1px;  height: 1px;  padding: 0;  margin: -1px;  overflow: hidden;  clip: rect(0, 0, 0, 0);  white-space: nowrap;  border-width: 0;}.pointer-events-none {  pointer-events: none;}.pointer-events-auto {  pointer-events: auto;}.static {  position: static;}.fixed {  position: fixed;}.absolute {  position: absolute;}.relative {  position: relative;}.sticky {  position: sticky;}.bottom-0 {  bottom: 0px;}.left-0 {  left: 0px;}.left-1\\/2 {  left: 50%;}.left-3 {  left: 0.75rem;}.left-4 {  left: 1rem;}.left-full {  left: 100%;}.right-0 {  right: 0px;}.right-1 {  right: 0.25rem;}.right-4 {  right: 1rem;}.top-0 {  top: 0px;}.top-1\\/2 {  top: 50%;}.top-14 {  top: 3.5rem;}.top-2\\/4 {  top: 50%;}.top-3 {  top: 0.75rem;}.z-0 {  z-index: 0;}.z-10 {  z-index: 10;}.z-30 {  z-index: 30;}.z-40 {  z-index: 40;}.z-50 {  z-index: 50;}.z-\\[-1\\] {  z-index: -1;}.z-\\[999999\\] {  z-index: 999999;}.z-\\[99999\\] {  z-index: 99999;}.col-span-4 {  grid-column: span 4 / span 4;}.col-span-5 {  grid-column: span 5 / span 5;}.col-span-full {  grid-column: 1 / -1;}.col-start-1 {  grid-column-start: 1;}.col-start-4 {  grid-column-start: 4;}.row-span-2 {  grid-row: span 2 / span 2;}.row-start-1 {  grid-row-start: 1;}.m-0 {  margin: 0px;}.\\!mx-0 {  margin-left: 0px !important;  margin-right: 0px !important;}.mx-0 {  margin-left: 0px;  margin-right: 0px;}.mx-2 {  margin-left: 0.5rem;  margin-right: 0.5rem;}.mx-auto {  margin-left: auto;  margin-right: auto;}.my-10 {  margin-top: 2.5rem;  margin-bottom: 2.5rem;}.my-12 {  margin-top: 3rem;  margin-bottom: 3rem;}.my-3 {  margin-top: 0.75rem;  margin-bottom: 0.75rem;}.my-4 {  margin-top: 1rem;  margin-bottom: 1rem;}.my-6 {  margin-top: 1.5rem;  margin-bottom: 1.5rem;}.my-8 {  margin-top: 2rem;  margin-bottom: 2rem;}.\\!mr-4 {  margin-right: 1rem !important;}.-ml-1 {  margin-left: -0.25rem;}.mb-2 {  margin-bottom: 0.5rem;}.mb-3 {  margin-bottom: 0.75rem;}.mb-4 {  margin-bottom: 1rem;}.mb-6 {  margin-bottom: 1.5rem;}.mb-8 {  margin-bottom: 2rem;}.ml-1 {  margin-left: 0.25rem;}.ml-2 {  margin-left: 0.5rem;}.ml-6 {  margin-left: 1.5rem;}.mr-2 {  margin-right: 0.5rem;}.mr-3 {  margin-right: 0.75rem;}.mr-4 {  margin-right: 1rem;}.mr-auto {  margin-right: auto;}.mt-0 {  margin-top: 0px;}.mt-1 {  margin-top: 0.25rem;}.mt-2 {  margin-top: 0.5rem;}.mt-3 {  margin-top: 0.75rem;}.mt-4 {  margin-top: 1rem;}.mt-6 {  margin-top: 1.5rem;}.mt-8 {  margin-top: 2rem;}.mt-auto {  margin-top: auto;}.line-clamp-1 {  overflow: hidden;  display: -webkit-box;  -webkit-box-orient: vertical;  -webkit-line-clamp: 1;}.line-clamp-2 {  overflow: hidden;  display: -webkit-box;  -webkit-box-orient: vertical;  -webkit-line-clamp: 2;}.line-clamp-3 {  overflow: hidden;  display: -webkit-box;  -webkit-box-orient: vertical;  -webkit-line-clamp: 3;}.line-clamp-6 {  overflow: hidden;  display: -webkit-box;  -webkit-box-orient: vertical;  -webkit-line-clamp: 6;}.line-clamp-none {  overflow: visible;  display: block;  -webkit-box-orient: horizontal;  -webkit-line-clamp: none;}.block {  display: block;}.inline-block {  display: inline-block;}.inline {  display: inline;}.flex {  display: flex;}.inline-flex {  display: inline-flex;}.table {  display: table;}.grid {  display: grid;}.hidden {  display: none;}.aspect-video {  aspect-ratio: 16 / 9;}.size-10 {  width: 2.5rem;  height: 2.5rem;}.size-12 {  width: 3rem;  height: 3rem;}.size-2 {  width: 0.5rem;  height: 0.5rem;}.size-28 {  width: 7rem;  height: 7rem;}.size-3\\.5 {  width: 0.875rem;  height: 0.875rem;}.size-36 {  width: 9rem;  height: 9rem;}.size-4 {  width: 1rem;  height: 1rem;}.size-5 {  width: 1.25rem;  height: 1.25rem;}.size-6 {  width: 1.5rem;  height: 1.5rem;}.size-8 {  width: 2rem;  height: 2rem;}.\\!h-6 {  height: 1.5rem !important;}.\\!h-60 {  height: 15rem !important;}.\\!h-full {  height: 100% !important;}.h-12 {  height: 3rem;}.h-14 {  height: 3.5rem;}.h-16 {  height: 4rem;}.h-18 {  height: 4.5rem;}.h-21 {  height: 5.25rem;}.h-3\\.5 {  height: 0.875rem;}.h-4 {  height: 1rem;}.h-4\\.5 {  height: 1.125rem;}.h-4\\/5 {  height: 80%;}.h-5 {  height: 1.25rem;}.h-5\\/6 {  height: 83.333333%;}.h-6 {  height: 1.5rem;}.h-60 {  height: 15rem;}.h-64 {  height: 16rem;}.h-7 {  height: 1.75rem;}.h-8 {  height: 2rem;}.h-9 {  height: 2.25rem;}.h-\\[166px\\] {  height: 166px;}.h-\\[204px\\] {  height: 204px;}.h-\\[210px\\] {  height: 210px;}.h-\\[23px\\] {  height: 23px;}.h-\\[250px\\] {  height: 250px;}.h-\\[292px\\] {  height: 292px;}.h-\\[50px\\] {  height: 50px;}.h-\\[60px\\] {  height: 60px;}.h-\\[72px\\] {  height: 72px;}.h-\\[84px\\] {  height: 84px;}.h-full {  height: 100%;}.h-max {  height: -moz-max-content;  height: max-content;}.h-px {  height: 1px;}.max-h-0 {  max-height: 0px;}.max-h-10 {  max-height: 2.5rem;}.max-h-4\\.5 {  max-height: 1.125rem;}.max-h-\\[512px\\] {  max-height: 512px;}.min-h-10 {  min-height: 2.5rem;}.min-h-21 {  min-height: 5.25rem;}.min-h-22 {  min-height: 5.5rem;}.min-h-\\[116px\\] {  min-height: 116px;}.min-h-\\[122px\\] {  min-height: 122px;}.min-h-\\[146px\\] {  min-height: 146px;}.min-h-\\[148px\\] {  min-height: 148px;}.min-h-\\[250px\\] {  min-height: 250px;}.min-h-\\[282px\\] {  min-height: 282px;}.min-h-\\[295px\\] {  min-height: 295px;}.min-h-\\[298px\\] {  min-height: 298px;}.min-h-\\[320px\\] {  min-height: 320px;}.min-h-\\[354px\\] {  min-height: 354px;}.min-h-\\[410px\\] {  min-height: 410px;}.min-h-\\[430px\\] {  min-height: 430px;}.min-h-\\[50px\\] {  min-height: 50px;}.min-h-\\[60px\\] {  min-height: 60px;}.\\!w-auto {  width: auto !important;}.\\!w-full {  width: 100% !important;}.w-12 {  width: 3rem;}.w-14 {  width: 3.5rem;}.w-16 {  width: 4rem;}.w-18 {  width: 4.5rem;}.w-28 {  width: 7rem;}.w-3\\.5 {  width: 0.875rem;}.w-4 {  width: 1rem;}.w-5 {  width: 1.25rem;}.w-6 {  width: 1.5rem;}.w-60 {  width: 15rem;}.w-8 {  width: 2rem;}.w-9 {  width: 2.25rem;}.w-9\\.5 {  width: 2.375rem;}.w-9\\/12 {  width: 75%;}.w-\\[120px\\] {  width: 120px;}.w-\\[1px\\] {  width: 1px;}.w-\\[200px\\] {  width: 200px;}.w-\\[246px\\] {  width: 246px;}.w-\\[367px\\] {  width: 367px;}.w-\\[50px\\] {  width: 50px;}.w-\\[90px\\] {  width: 90px;}.w-auto {  width: auto;}.w-fit {  width: -moz-fit-content;  width: fit-content;}.w-full {  width: 100%;}.w-max {  width: -moz-max-content;  width: max-content;}.w-px {  width: 1px;}.w-screen {  width: 100vw;}.min-w-80 {  min-width: 20rem;}.min-w-full {  min-width: 100%;}.\\!max-w-full {  max-width: 100% !important;}.max-w-2xl {  max-width: 42rem;}.max-w-4xl {  max-width: 56rem;}.max-w-5xl {  max-width: 64rem;}.max-w-7xl {  max-width: 80rem;}.max-w-8xl {  max-width: 82rem;}.max-w-9xl {  max-width: 83rem;}.max-w-\\[1102px\\] {  max-width: 1102px;}.max-w-\\[280px\\] {  max-width: 280px;}.max-w-\\[393px\\] {  max-width: 393px;}.max-w-\\[400px\\] {  max-width: 400px;}.max-w-\\[710px\\] {  max-width: 710px;}.max-w-full {  max-width: 100%;}.max-w-md {  max-width: 28rem;}.max-w-screen-lg {  max-width: 1024px;}.max-w-screen-xl {  max-width: 1280px;}.max-w-xl {  max-width: 36rem;}.flex-1 {  flex: 1 1 0%;}.flex-shrink-0 {  flex-shrink: 0;}.shrink-0 {  flex-shrink: 0;}.flex-grow {  flex-grow: 1;}.grow {  flex-grow: 1;}.basis-1\\/2 {  flex-basis: 50%;}.basis-1\\/4 {  flex-basis: 25%;}.basis-2\\/4 {  flex-basis: 50%;}.basis-3\\/4 {  flex-basis: 75%;}.basis-full {  flex-basis: 100%;}.table-auto {  table-layout: auto;}.border-collapse {  border-collapse: collapse;}.origin-\\[0\\] {  transform-origin: 0;}.origin-bottom-left {  transform-origin: bottom left;}.origin-center {  transform-origin: center;}.origin-top {  transform-origin: top;}.origin-top-left {  transform-origin: top left;}.-translate-x-1\\/2 {  --tw-translate-x: -50%;  transform: translate(var(--tw-translate-x), var(--tw-translate-y)) rotate(var(--tw-rotate)) skewX(var(--tw-skew-x)) skewY(var(--tw-skew-y)) scaleX(var(--tw-scale-x)) scaleY(var(--tw-scale-y));}.-translate-x-full {  --tw-translate-x: -100%;  transform: translate(var(--tw-translate-x), var(--tw-translate-y)) rotate(var(--tw-rotate)) skewX(var(--tw-skew-x)) skewY(var(--tw-skew-y)) scaleX(var(--tw-scale-x)) scaleY(var(--tw-scale-y));}.-translate-y-1\\/2 {  --tw-translate-y: -50%;  transform: translate(var(--tw-translate-x), var(--tw-translate-y)) rotate(var(--tw-rotate)) skewX(var(--tw-skew-x)) skewY(var(--tw-skew-y)) scaleX(var(--tw-scale-x)) scaleY(var(--tw-scale-y));}.-translate-y-2 {  --tw-translate-y: -0.5rem;  transform: translate(var(--tw-translate-x), var(--tw-translate-y)) rotate(var(--tw-rotate)) skewX(var(--tw-skew-x)) skewY(var(--tw-skew-y)) scaleX(var(--tw-scale-x)) scaleY(var(--tw-scale-y));}.-translate-y-7 {  --tw-translate-y: -1.75rem;  transform: translate(var(--tw-translate-x), var(--tw-translate-y)) rotate(var(--tw-rotate)) skewX(var(--tw-skew-x)) skewY(var(--tw-skew-y)) scaleX(var(--tw-scale-x)) scaleY(var(--tw-scale-y));}.-translate-y-\\[50\\%\\] {  --tw-translate-y: -50%;  transform: translate(var(--tw-translate-x), var(--tw-translate-y)) rotate(var(--tw-rotate)) skewX(var(--tw-skew-x)) skewY(var(--tw-skew-y)) scaleX(var(--tw-scale-x)) scaleY(var(--tw-scale-y));}.-translate-y-full {  --tw-translate-y: -100%;  transform: translate(var(--tw-translate-x), var(--tw-translate-y)) rotate(var(--tw-rotate)) skewX(var(--tw-skew-x)) skewY(var(--tw-skew-y)) scaleX(var(--tw-scale-x)) scaleY(var(--tw-scale-y));}.translate-x-0 {  --tw-translate-x: 0px;  transform: translate(var(--tw-translate-x), var(--tw-translate-y)) rotate(var(--tw-rotate)) skewX(var(--tw-skew-x)) skewY(var(--tw-skew-y)) scaleX(var(--tw-scale-x)) scaleY(var(--tw-scale-y));}.translate-x-10 {  --tw-translate-x: 2.5rem;  transform: translate(var(--tw-translate-x), var(--tw-translate-y)) rotate(var(--tw-rotate)) skewX(var(--tw-skew-x)) skewY(var(--tw-skew-y)) scaleX(var(--tw-scale-x)) scaleY(var(--tw-scale-y));}.translate-y-full {  --tw-translate-y: 100%;  transform: translate(var(--tw-translate-x), var(--tw-translate-y)) rotate(var(--tw-rotate)) skewX(var(--tw-skew-x)) skewY(var(--tw-skew-y)) scaleX(var(--tw-scale-x)) scaleY(var(--tw-scale-y));}.rotate-180 {  --tw-rotate: 180deg;  transform: translate(var(--tw-translate-x), var(--tw-translate-y)) rotate(var(--tw-rotate)) skewX(var(--tw-skew-x)) skewY(var(--tw-skew-y)) scaleX(var(--tw-scale-x)) scaleY(var(--tw-scale-y));}.transform {  transform: translate(var(--tw-translate-x), var(--tw-translate-y)) rotate(var(--tw-rotate)) skewX(var(--tw-skew-x)) skewY(var(--tw-skew-y)) scaleX(var(--tw-scale-x)) scaleY(var(--tw-scale-y));}.transform-gpu {  transform: translate3d(var(--tw-translate-x), var(--tw-translate-y), 0) rotate(var(--tw-rotate)) skewX(var(--tw-skew-x)) skewY(var(--tw-skew-y)) scaleX(var(--tw-scale-x)) scaleY(var(--tw-scale-y));}@keyframes fade {  0% {    opacity: 0;  }  100% {    opacity: 1;  }}.animate-fade {  animation: fade var(--tw-animate-duration, 1s) var(--tw-animate-easing, ease) var(--tw-animate-delay, 0s) var(--tw-animate-iteration, 1) var(--tw-animate-fill, both);}@keyframes ping {  75%, 100% {    transform: scale(2);    opacity: 0;  }}.animate-ping {  animation: ping var(--tw-animate-duration, 1s) var(--tw-animate-easing, cubic-bezier(0, 0, 0.2, 1)) var(--tw-animate-delay, 0s) var(--tw-animate-iteration, infinite) var(--tw-animate-fill, none);}@keyframes spin {  to {    transform: rotate(360deg);  }}.animate-spin {  animation: spin var(--tw-animate-duration, 1s) var(--tw-animate-easing, linear) var(--tw-animate-delay, 0s) var(--tw-animate-iteration, infinite) var(--tw-animate-fill, none);}.cursor-pointer {  cursor: pointer;}.resize {  resize: both;}.list-inside {  list-style-position: inside;}.list-disc {  list-style-type: disc;}.columns-2 {  -moz-columns: 2;       columns: 2;}.grid-flow-row {  grid-auto-flow: row;}.grid-cols-1 {  grid-template-columns: repeat(1, minmax(0, 1fr));}.grid-cols-\\[1fr_1fr_1fr_16px\\] {  grid-template-columns: 1fr 1fr 1fr 16px;}.grid-cols-\\[1fr_1fr_36px\\] {  grid-template-columns: 1fr 1fr 36px;}.grid-cols-\\[1fr_36px\\] {  grid-template-columns: 1fr 36px;}.grid-cols-\\[auto_1fr\\] {  grid-template-columns: auto 1fr;}.grid-cols-subgrid {  grid-template-columns: subgrid;}.flex-row {  flex-direction: row;}.flex-row-reverse {  flex-direction: row-reverse;}.flex-col {  flex-direction: column;}.flex-wrap {  flex-wrap: wrap;}.flex-nowrap {  flex-wrap: nowrap;}.items-start {  align-items: flex-start;}.items-center {  align-items: center;}.items-baseline {  align-items: baseline;}.items-stretch {  align-items: stretch;}.justify-start {  justify-content: flex-start;}.justify-end {  justify-content: flex-end;}.justify-center {  justify-content: center;}.justify-between {  justify-content: space-between;}.gap-1 {  gap: 0.25rem;}.gap-1\\.5 {  gap: 0.375rem;}.gap-2 {  gap: 0.5rem;}.gap-3 {  gap: 0.75rem;}.gap-4 {  gap: 1rem;}.gap-4\\.5 {  gap: 1.125rem;}.gap-5 {  gap: 1.25rem;}.gap-6 {  gap: 1.5rem;}.gap-8 {  gap: 2rem;}.gap-x-3 {  -moz-column-gap: 0.75rem;       column-gap: 0.75rem;}.gap-x-6 {  -moz-column-gap: 1.5rem;       column-gap: 1.5rem;}.gap-y-1 {  row-gap: 0.25rem;}.gap-y-3 {  row-gap: 0.75rem;}.space-x-2 > :not([hidden]) ~ :not([hidden]) {  --tw-space-x-reverse: 0;  margin-right: calc(0.5rem * var(--tw-space-x-reverse));  margin-left: calc(0.5rem * calc(1 - var(--tw-space-x-reverse)));}.space-x-4 > :not([hidden]) ~ :not([hidden]) {  --tw-space-x-reverse: 0;  margin-right: calc(1rem * var(--tw-space-x-reverse));  margin-left: calc(1rem * calc(1 - var(--tw-space-x-reverse)));}.space-y-2 > :not([hidden]) ~ :not([hidden]) {  --tw-space-y-reverse: 0;  margin-top: calc(0.5rem * calc(1 - var(--tw-space-y-reverse)));  margin-bottom: calc(0.5rem * var(--tw-space-y-reverse));}.space-y-3 > :not([hidden]) ~ :not([hidden]) {  --tw-space-y-reverse: 0;  margin-top: calc(0.75rem * calc(1 - var(--tw-space-y-reverse)));  margin-bottom: calc(0.75rem * var(--tw-space-y-reverse));}.space-y-4 > :not([hidden]) ~ :not([hidden]) {  --tw-space-y-reverse: 0;  margin-top: calc(1rem * calc(1 - var(--tw-space-y-reverse)));  margin-bottom: calc(1rem * var(--tw-space-y-reverse));}.space-y-6 > :not([hidden]) ~ :not([hidden]) {  --tw-space-y-reverse: 0;  margin-top: calc(1.5rem * calc(1 - var(--tw-space-y-reverse)));  margin-bottom: calc(1.5rem * var(--tw-space-y-reverse));}.divide-y > :not([hidden]) ~ :not([hidden]) {  --tw-divide-y-reverse: 0;  border-top-width: calc(1px * calc(1 - var(--tw-divide-y-reverse)));  border-bottom-width: calc(1px * var(--tw-divide-y-reverse));}.divide-gray-200 > :not([hidden]) ~ :not([hidden]) {  --tw-divide-opacity: 1;  border-color: rgb(229 231 235 / var(--tw-divide-opacity, 1));}.self-baseline {  align-self: baseline;}.justify-self-end {  justify-self: end;}.overflow-hidden {  overflow: hidden;}.overflow-x-auto {  overflow-x: auto;}.overflow-x-hidden {  overflow-x: hidden;}.overflow-y-hidden {  overflow-y: hidden;}.overflow-x-scroll {  overflow-x: scroll;}.overflow-y-scroll {  overflow-y: scroll;}.overscroll-auto {  overscroll-behavior: auto;}.scroll-smooth {  scroll-behavior: smooth;}.whitespace-normal {  white-space: normal;}.whitespace-nowrap {  white-space: nowrap;}.text-nowrap {  text-wrap: nowrap;}.rounded {  border-radius: 0.25rem;}.rounded-2xl {  border-radius: 1rem;}.rounded-full {  border-radius: 9999px;}.rounded-lg {  border-radius: 0.5rem;}.rounded-md {  border-radius: 0.375rem;}.rounded-sm {  border-radius: 0.125rem;}.rounded-xl {  border-radius: 0.75rem;}.rounded-e-lg {  border-start-end-radius: 0.5rem;  border-end-end-radius: 0.5rem;}.rounded-s-lg {  border-start-start-radius: 0.5rem;  border-end-start-radius: 0.5rem;}.rounded-t-lg {  border-top-left-radius: 0.5rem;  border-top-right-radius: 0.5rem;}.rounded-t-md {  border-top-left-radius: 0.375rem;  border-top-right-radius: 0.375rem;}.rounded-t-sm {  border-top-left-radius: 0.125rem;  border-top-right-radius: 0.125rem;}.rounded-tr-lg {  border-top-right-radius: 0.5rem;}.border {  border-width: 1px;}.border-0 {  border-width: 0px;}.border-8 {  border-width: 8px;}.border-x {  border-left-width: 1px;  border-right-width: 1px;}.border-y {  border-top-width: 1px;  border-bottom-width: 1px;}.\\!border-r {  border-right-width: 1px !important;}.border-b {  border-bottom-width: 1px;}.border-b-2 {  border-bottom-width: 2px;}.border-l {  border-left-width: 1px;}.border-l-4 {  border-left-width: 4px;}.border-r {  border-right-width: 1px;}.border-t {  border-top-width: 1px;}.border-dashed {  border-style: dashed;}.\\!border-wl-neutral-400 {  --tw-border-opacity: 1 !important;  border-color: rgb(136 136 136 / var(--tw-border-opacity, 1)) !important;}.border-blue-50 {  --tw-border-opacity: 1;  border-color: rgb(239 246 255 / var(--tw-border-opacity, 1));}.border-neutral-200 {  --tw-border-opacity: 1;  border-color: rgb(229 229 229 / var(--tw-border-opacity, 1));}.border-wl-action-link {  --tw-border-opacity: 1;  border-color: rgb(0 111 216 / var(--tw-border-opacity, 1));}.border-wl-neutral-0 {  --tw-border-opacity: 1;  border-color: rgb(255 255 255 / var(--tw-border-opacity, 1));}.border-wl-neutral-200 {  --tw-border-opacity: 1;  border-color: rgb(229 229 229 / var(--tw-border-opacity, 1));}.border-wl-neutral-400 {  --tw-border-opacity: 1;  border-color: rgb(136 136 136 / var(--tw-border-opacity, 1));}.border-wl-neutral-500 {  --tw-border-opacity: 1;  border-color: rgb(114 114 114 / var(--tw-border-opacity, 1));}.border-wl-neutral-600 {  --tw-border-opacity: 1;  border-color: rgb(82 82 82 / var(--tw-border-opacity, 1));}.border-wl-neutral-950 {  --tw-border-opacity: 1;  border-color: rgb(10 10 10 / var(--tw-border-opacity, 1));}.border-b-wl-neutral-200 {  --tw-border-opacity: 1;  border-bottom-color: rgb(229 229 229 / var(--tw-border-opacity, 1));}.border-t-wl-neutral-200 {  --tw-border-opacity: 1;  border-top-color: rgb(229 229 229 / var(--tw-border-opacity, 1));}.bg-\\[\\#ff0000\\] {  --tw-bg-opacity: 1;  background-color: rgb(255 0 0 / var(--tw-bg-opacity, 1));}.bg-black\\/70 {  background-color: rgb(0 0 0 / 0.7);}.bg-gray-50 {  --tw-bg-opacity: 1;  background-color: rgb(249 250 251 / var(--tw-bg-opacity, 1));}.bg-neutral-100 {  --tw-bg-opacity: 1;  background-color: rgb(245 245 245 / var(--tw-bg-opacity, 1));}.bg-neutral-50 {  --tw-bg-opacity: 1;  background-color: rgb(250 250 250 / var(--tw-bg-opacity, 1));}.bg-neutral-500 {  --tw-bg-opacity: 1;  background-color: rgb(115 115 115 / var(--tw-bg-opacity, 1));}.bg-neutral-600 {  --tw-bg-opacity: 1;  background-color: rgb(82 82 82 / var(--tw-bg-opacity, 1));}.bg-neutral-950\\/50 {  background-color: rgb(10 10 10 / 0.5);}.bg-stone-100 {  --tw-bg-opacity: 1;  background-color: rgb(245 245 244 / var(--tw-bg-opacity, 1));}.bg-transparent {  background-color: transparent;}.bg-white {  --tw-bg-opacity: 1;  background-color: rgb(255 255 255 / var(--tw-bg-opacity, 1));}.bg-wl-action-cta {  --tw-bg-opacity: 1;  background-color: rgb(255 79 0 / var(--tw-bg-opacity, 1));}.bg-wl-action-link {  --tw-bg-opacity: 1;  background-color: rgb(0 111 216 / var(--tw-bg-opacity, 1));}.bg-wl-advisor-background {  --tw-bg-opacity: 1;  background-color: rgb(253 247 227 / var(--tw-bg-opacity, 1));}.bg-wl-background {  --tw-bg-opacity: 1;  background-color: rgb(236 243 253 / var(--tw-bg-opacity, 1));}.bg-wl-business-background {  --tw-bg-opacity: 1;  background-color: rgb(236 253 245 / var(--tw-bg-opacity, 1));}.bg-wl-infoproduct {  --tw-bg-opacity: 1;  background-color: rgb(55 48 163 / var(--tw-bg-opacity, 1));}.bg-wl-live-content {  --tw-bg-opacity: 1;  background-color: rgb(185 28 28 / var(--tw-bg-opacity, 1));}.bg-wl-neutral-0 {  --tw-bg-opacity: 1;  background-color: rgb(255 255 255 / var(--tw-bg-opacity, 1));}.bg-wl-neutral-100 {  --tw-bg-opacity: 1;  background-color: rgb(238 238 238 / var(--tw-bg-opacity, 1));}.bg-wl-neutral-200 {  --tw-bg-opacity: 1;  background-color: rgb(229 229 229 / var(--tw-bg-opacity, 1));}.bg-wl-neutral-50 {  --tw-bg-opacity: 1;  background-color: rgb(250 250 250 / var(--tw-bg-opacity, 1));}.bg-wl-neutral-500 {  --tw-bg-opacity: 1;  background-color: rgb(114 114 114 / var(--tw-bg-opacity, 1));}.bg-wl-neutral-600 {  --tw-bg-opacity: 1;  background-color: rgb(82 82 82 / var(--tw-bg-opacity, 1));}.bg-wl-neutral-950 {  --tw-bg-opacity: 1;  background-color: rgb(10 10 10 / var(--tw-bg-opacity, 1));}.bg-wl-trader-background {  --tw-bg-opacity: 1;  background-color: rgb(239 247 255 / var(--tw-bg-opacity, 1));}.bg-gradient-to-b {  background-image: linear-gradient(to bottom, var(--tw-gradient-stops));}.from-transparent {  --tw-gradient-from: transparent var(--tw-gradient-from-position);  --tw-gradient-to: rgb(0 0 0 / 0) var(--tw-gradient-to-position);  --tw-gradient-stops: var(--tw-gradient-from), var(--tw-gradient-to);}.to-black\\/80 {  --tw-gradient-to: rgb(0 0 0 / 0.8) var(--tw-gradient-to-position);}.bg-cover {  background-size: cover;}.bg-center {  background-position: center;}.bg-no-repeat {  background-repeat: no-repeat;}.object-contain {  -o-object-fit: contain;     object-fit: contain;}.object-cover {  -o-object-fit: cover;     object-fit: cover;}.object-bottom {  -o-object-position: bottom;     object-position: bottom;}.object-center {  -o-object-position: center;     object-position: center;}.p-0\\.5 {  padding: 0.125rem;}.p-1 {  padding: 0.25rem;}.p-2 {  padding: 0.5rem;}.p-2\\.5 {  padding: 0.625rem;}.p-3\\.5 {  padding: 0.875rem;}.p-4 {  padding: 1rem;}.p-4\\.5 {  padding: 1.125rem;}.p-6 {  padding: 1.5rem;}.\\!px-2 {  padding-left: 0.5rem !important;  padding-right: 0.5rem !important;}.\\!px-3 {  padding-left: 0.75rem !important;  padding-right: 0.75rem !important;}.\\!px-4 {  padding-left: 1rem !important;  padding-right: 1rem !important;}.\\!px-6 {  padding-left: 1.5rem !important;  padding-right: 1.5rem !important;}.\\!py-2 {  padding-top: 0.5rem !important;  padding-bottom: 0.5rem !important;}.\\!py-3 {  padding-top: 0.75rem !important;  padding-bottom: 0.75rem !important;}.\\!py-4 {  padding-top: 1rem !important;  padding-bottom: 1rem !important;}.px-0 {  padding-left: 0px;  padding-right: 0px;}.px-0\\.5 {  padding-left: 0.125rem;  padding-right: 0.125rem;}.px-1 {  padding-left: 0.25rem;  padding-right: 0.25rem;}.px-14 {  padding-left: 3.5rem;  padding-right: 3.5rem;}.px-2 {  padding-left: 0.5rem;  padding-right: 0.5rem;}.px-3 {  padding-left: 0.75rem;  padding-right: 0.75rem;}.px-4 {  padding-left: 1rem;  padding-right: 1rem;}.px-6 {  padding-left: 1.5rem;  padding-right: 1.5rem;}.py-0 {  padding-top: 0px;  padding-bottom: 0px;}.py-0\\.5 {  padding-top: 0.125rem;  padding-bottom: 0.125rem;}.py-1 {  padding-top: 0.25rem;  padding-bottom: 0.25rem;}.py-16 {  padding-top: 4rem;  padding-bottom: 4rem;}.py-2 {  padding-top: 0.5rem;  padding-bottom: 0.5rem;}.py-2\\.5 {  padding-top: 0.625rem;  padding-bottom: 0.625rem;}.py-3 {  padding-top: 0.75rem;  padding-bottom: 0.75rem;}.py-3\\.5 {  padding-top: 0.875rem;  padding-bottom: 0.875rem;}.py-4 {  padding-top: 1rem;  padding-bottom: 1rem;}.py-5 {  padding-top: 1.25rem;  padding-bottom: 1.25rem;}.py-6 {  padding-top: 1.5rem;  padding-bottom: 1.5rem;}.py-8 {  padding-top: 2rem;  padding-bottom: 2rem;}.pb-0\\.5 {  padding-bottom: 0.125rem;}.pb-1 {  padding-bottom: 0.25rem;}.pb-2 {  padding-bottom: 0.5rem;}.pb-3 {  padding-bottom: 0.75rem;}.pb-4 {  padding-bottom: 1rem;}.pb-6 {  padding-bottom: 1.5rem;}.pb-8 {  padding-bottom: 2rem;}.pl-1 {  padding-left: 0.25rem;}.pl-2 {  padding-left: 0.5rem;}.pl-3 {  padding-left: 0.75rem;}.pl-4 {  padding-left: 1rem;}.pr-4 {  padding-right: 1rem;}.pr-9 {  padding-right: 2.25rem;}.pt-4 {  padding-top: 1rem;}.pt-5 {  padding-top: 1.25rem;}.pt-6 {  padding-top: 1.5rem;}.text-left {  text-align: left;}.text-center {  text-align: center;}.text-right {  text-align: right;}.text-justify {  text-align: justify;}.align-middle {  vertical-align: middle;}.font-im-sans {  font-family: 'Inter', sans-serif;}.font-im-serif {  font-family: 'Source Serif 4', serif;}.text-2xl {  font-size: 1.5rem;  line-height: 2rem;}.text-3\\.33xl {  font-size: 2rem;  line-height: 1.2em;}.text-3xl {  font-size: 1.875rem;  line-height: 2.25rem;}.text-base {  font-size: 1rem;  line-height: 1.5rem;}.text-lg {  font-size: 1.125rem;  line-height: 1.75rem;}.text-sm {  font-size: 0.875rem;  line-height: 1.25rem;}.text-xl {  font-size: 1.25rem;  line-height: 1.75rem;}.text-xs {  font-size: 0.75rem;  line-height: 1rem;}.text-xxs {  font-size: 0.5rem;}.font-bold {  font-weight: 700;}.font-extrabold {  font-weight: 800;}.font-medium {  font-weight: 500;}.font-normal {  font-weight: 400;}.font-semibold {  font-weight: 600;}.uppercase {  text-transform: uppercase;}.lowercase {  text-transform: lowercase;}.italic {  font-style: italic;}.leading-4 {  line-height: 1rem;}.leading-5 {  line-height: 1.25rem;}.leading-6 {  line-height: 1.5rem;}.leading-7 {  line-height: 1.75rem;}.leading-9 {  line-height: 2.25rem;}.leading-normal {  line-height: 1.5;}.leading-snug {  line-height: 1.375;}.leading-tight {  line-height: 1.25;}.-tracking-wider {  letter-spacing: -0.05em;}.tracking-\\[-0\\.025em\\] {  letter-spacing: -0.025em;}.tracking-\\[6px\\] {  letter-spacing: 6px;}.tracking-tight {  letter-spacing: -0.025em;}.tracking-tighter {  letter-spacing: -0.05em;}.tracking-wide {  letter-spacing: 0.025em;}.tracking-wider {  letter-spacing: 0.05em;}.text-gray-500 {  --tw-text-opacity: 1;  color: rgb(107 114 128 / var(--tw-text-opacity, 1));}.text-gray-700 {  --tw-text-opacity: 1;  color: rgb(55 65 81 / var(--tw-text-opacity, 1));}.text-neutral-500 {  --tw-text-opacity: 1;  color: rgb(115 115 115 / var(--tw-text-opacity, 1));}.text-neutral-950 {  --tw-text-opacity: 1;  color: rgb(10 10 10 / var(--tw-text-opacity, 1));}.text-sky-600 {  --tw-text-opacity: 1;  color: rgb(2 132 199 / var(--tw-text-opacity, 1));}.text-transparent {  color: transparent;}.text-white {  --tw-text-opacity: 1;  color: rgb(255 255 255 / var(--tw-text-opacity, 1));}.text-wl-action-link {  --tw-text-opacity: 1;  color: rgb(0 111 216 / var(--tw-text-opacity, 1));}.text-wl-action-link-hover {  --tw-text-opacity: 1;  color: rgb(23 99 170 / var(--tw-text-opacity, 1));}.text-wl-advisor {  --tw-text-opacity: 1;  color: rgb(97 77 9 / var(--tw-text-opacity, 1));}.text-wl-alert-error {  --tw-text-opacity: 1;  color: rgb(220 38 38 / var(--tw-text-opacity, 1));}.text-wl-alert-success {  --tw-text-opacity: 1;  color: rgb(21 128 61 / var(--tw-text-opacity, 1));}.text-wl-asset-down {  --tw-text-opacity: 1;  color: rgb(203 16 16 / var(--tw-text-opacity, 1));}.text-wl-asset-rise {  --tw-text-opacity: 1;  color: rgb(4 118 48 / var(--tw-text-opacity, 1));}.text-wl-branded {  --tw-text-opacity: 1;  color: rgb(209 70 0 / var(--tw-text-opacity, 1));}.text-wl-business {  --tw-text-opacity: 1;  color: rgb(21 128 61 / var(--tw-text-opacity, 1));}.text-wl-infoproduct {  --tw-text-opacity: 1;  color: rgb(55 48 163 / var(--tw-text-opacity, 1));}.text-wl-live-content {  --tw-text-opacity: 1;  color: rgb(185 28 28 / var(--tw-text-opacity, 1));}.text-wl-neutral-0 {  --tw-text-opacity: 1;  color: rgb(255 255 255 / var(--tw-text-opacity, 1));}.text-wl-neutral-200 {  --tw-text-opacity: 1;  color: rgb(229 229 229 / var(--tw-text-opacity, 1));}.text-wl-neutral-400 {  --tw-text-opacity: 1;  color: rgb(136 136 136 / var(--tw-text-opacity, 1));}.text-wl-neutral-50 {  --tw-text-opacity: 1;  color: rgb(250 250 250 / var(--tw-text-opacity, 1));}.text-wl-neutral-500 {  --tw-text-opacity: 1;  color: rgb(114 114 114 / var(--tw-text-opacity, 1));}.text-wl-neutral-600 {  --tw-text-opacity: 1;  color: rgb(82 82 82 / var(--tw-text-opacity, 1));}.text-wl-neutral-950 {  --tw-text-opacity: 1;  color: rgb(10 10 10 / var(--tw-text-opacity, 1));}.text-wl-trader {  --tw-text-opacity: 1;  color: rgb(29 78 216 / var(--tw-text-opacity, 1));}.text-wl-white {  --tw-text-opacity: 1;  color: rgb(255 255 255 / var(--tw-text-opacity, 1));}.underline {  text-decoration-line: underline;}.\\!no-underline {  text-decoration-line: none !important;}.no-underline {  text-decoration-line: none;}.decoration-neutral-600 {  text-decoration-color: #525252;}.decoration-white {  text-decoration-color: #fff;}.underline-offset-2 {  text-underline-offset: 2px;}.underline-offset-4 {  text-underline-offset: 4px;}.antialiased {  -webkit-font-smoothing: antialiased;  -moz-osx-font-smoothing: grayscale;}.opacity-0 {  opacity: 0;}.opacity-25 {  opacity: 0.25;}.opacity-75 {  opacity: 0.75;}.shadow-\\[1px_1px_0_0_theme\\(colors\\.wl-neutral-200\\)\\2c 0_1px_0_0_theme\\(colors\\.wl-neutral-200\\)_inset\\] {  --tw-shadow: 1px 1px 0 0 #E5E5E5,0 1px 0 0 #E5E5E5 inset;  --tw-shadow-colored: 1px 1px 0 0 var(--tw-shadow-color), inset 0 1px 0 0 var(--tw-shadow-color);  box-shadow: var(--tw-ring-offset-shadow, 0 0 #0000), var(--tw-ring-shadow, 0 0 #0000), var(--tw-shadow);}.shadow-inner {  --tw-shadow: inset 0 2px 4px 0 rgb(0 0 0 / 0.05);  --tw-shadow-colored: inset 0 2px 4px 0 var(--tw-shadow-color);  box-shadow: var(--tw-ring-offset-shadow, 0 0 #0000), var(--tw-ring-shadow, 0 0 #0000), var(--tw-shadow);}.shadow-inner-border {  --tw-shadow: inset 0px 0px 0px 1px rgba(0, 0, 0, 1);  --tw-shadow-colored: inset 0px 0px 0px 1px var(--tw-shadow-color);  box-shadow: var(--tw-ring-offset-shadow, 0 0 #0000), var(--tw-ring-shadow, 0 0 #0000), var(--tw-shadow);}.shadow-lg {  --tw-shadow:  0 10px 15px -3px rgba(0, 0, 0, 0.1), 0 4px 6px -4px rgba(0, 0, 0, 0.1);  --tw-shadow-colored: 0 10px 15px -3px var(--tw-shadow-color), 0 4px 6px -4px var(--tw-shadow-color);  box-shadow: var(--tw-ring-offset-shadow, 0 0 #0000), var(--tw-ring-shadow, 0 0 #0000), var(--tw-shadow);}.shadow-sm {  --tw-shadow: 0 1px 2px 0 rgb(0 0 0 / 0.05);  --tw-shadow-colored: 0 1px 2px 0 var(--tw-shadow-color);  box-shadow: var(--tw-ring-offset-shadow, 0 0 #0000), var(--tw-ring-shadow, 0 0 #0000), var(--tw-shadow);}.shadow-wl-neutral-0 {  --tw-shadow-color: #FFFFFF;  --tw-shadow: var(--tw-shadow-colored);}.shadow-wl-neutral-600 {  --tw-shadow-color: #525252;  --tw-shadow: var(--tw-shadow-colored);}.outline {  outline-style: solid;}.outline-1 {  outline-width: 1px;}.outline-2 {  outline-width: 2px;}.outline-4 {  outline-width: 4px;}.-outline-offset-1 {  outline-offset: -1px;}.outline-offset-4 {  outline-offset: 4px;}.outline-red-500 {  outline-color: #ef4444;}.outline-wl-action-link {  outline-color: #006FD8;}.outline-wl-neutral-200 {  outline-color: #E5E5E5;}.outline-wl-neutral-950 {  outline-color: #0A0A0A;}.drop-shadow-lg {  --tw-drop-shadow: drop-shadow(0 10px 8px rgb(0 0 0 / 0.04)) drop-shadow(0 4px 3px rgb(0 0 0 / 0.1));  filter: var(--tw-blur) var(--tw-brightness) var(--tw-contrast) var(--tw-grayscale) var(--tw-hue-rotate) var(--tw-invert) var(--tw-saturate) var(--tw-sepia) var(--tw-drop-shadow);}.grayscale {  --tw-grayscale: grayscale(100%);  filter: var(--tw-blur) var(--tw-brightness) var(--tw-contrast) var(--tw-grayscale) var(--tw-hue-rotate) var(--tw-invert) var(--tw-saturate) var(--tw-sepia) var(--tw-drop-shadow);}.filter {  filter: var(--tw-blur) var(--tw-brightness) var(--tw-contrast) var(--tw-grayscale) var(--tw-hue-rotate) var(--tw-invert) var(--tw-saturate) var(--tw-sepia) var(--tw-drop-shadow);}.transition {  transition-property: color, background-color, border-color, text-decoration-color, fill, stroke, opacity, box-shadow, transform, filter, -webkit-backdrop-filter;  transition-property: color, background-color, border-color, text-decoration-color, fill, stroke, opacity, box-shadow, transform, filter, backdrop-filter;  transition-property: color, background-color, border-color, text-decoration-color, fill, stroke, opacity, box-shadow, transform, filter, backdrop-filter, -webkit-backdrop-filter;  transition-timing-function: cubic-bezier(0.4, 0, 0.2, 1);  transition-duration: 150ms;}.transition-\\[max-height\\] {  transition-property: max-height;  transition-timing-function: cubic-bezier(0.4, 0, 0.2, 1);  transition-duration: 150ms;}.transition-all {  transition-property: all;  transition-timing-function: cubic-bezier(0.4, 0, 0.2, 1);  transition-duration: 150ms;}.transition-opacity {  transition-property: opacity;  transition-timing-function: cubic-bezier(0.4, 0, 0.2, 1);  transition-duration: 150ms;}.transition-transform {  transition-property: transform;  transition-timing-function: cubic-bezier(0.4, 0, 0.2, 1);  transition-duration: 150ms;}.duration-100 {  transition-duration: 100ms;}.duration-150 {  transition-duration: 150ms;}.duration-200 {  transition-duration: 200ms;}.duration-300 {  transition-duration: 300ms;}.ease-in-out {  transition-timing-function: cubic-bezier(0.4, 0, 0.2, 1);}.ease-linear {  transition-timing-function: linear;}.animate-delay-1000 {  --tw-animate-delay: 1000ms;  animation-delay: var(--tw-animate-delay);}.animate-normal {  --tw-animate-direction: normal;  animation-direction: var(--tw-animate-direction);}.animate-alternate {  --tw-animate-direction: alternate;  animation-direction: var(--tw-animate-direction);}.animate-duration-1000 {  --tw-animate-duration: 1000ms;  animation-duration: var(--tw-animate-duration);}.animate-duration-500 {  --tw-animate-duration: 500ms;  animation-duration: var(--tw-animate-duration);}.animate-fill-forwards {  --tw-animate-fill: forwards;  animation-fill-mode: var(--tw-animate-fill);}.animate-infinite {  --tw-animate-iteration: infinite;  animation-iteration-count: var(--tw-animate-iteration);}.animate-ease-in {  --tw-animate-easing: cubic-bezier(0.4, 0, 1, 1);  animation-timing-function: var(--tw-animate-easing);}.animate-ease-linear {  --tw-animate-easing: linear;  animation-timing-function: var(--tw-animate-easing);}.im-mob-core-heading-1 {  font-size: 1.875rem;  line-height: 2.25rem;  letter-spacing: -1.8px;  font-weight: 700;}.im-mob-core-heading-2 {  font-size: 1.5rem;  line-height: 2rem;  letter-spacing: -0.8px;  font-weight: 700;}.im-mob-core-heading-3 {  font-size: 1.25rem;  line-height: 1.75rem;  letter-spacing: -0.5px;  font-weight: 600;}.im-mob-core-subtitle {  font-size: 1.125rem;  line-height: 1.75rem;  letter-spacing: -0.45px;  font-weight: 500;}.im-mob-core-paragraph {  font-size: 1rem;  line-height: 1.5rem;  letter-spacing: -0.4px;  font-weight: 400;}.im-mob-core-bold-paragraph {  font-size: 1rem;  line-height: 1.5rem;  letter-spacing: 0.4px;  font-weight: 600;}.im-mob-core-bold-description {  font-size: 0.875rem;  line-height: 1.25rem;  font-weight: 600;}.im-mob-core-description {  font-size: 0.875rem;  line-height: 1.25rem;  font-weight: 400;}.im-mob-core-link-description {  font-size: 0.875rem;  line-height: 1.25rem;  font-weight: 600;  text-decoration: underline;}.im-mob-core-caption {  font-size: 0.75rem;  line-height: 1rem;  font-weight: 400;}.im-mob-core-link-caption {  font-size: 0.75rem;  line-height: 1rem;  font-weight: 600;  text-decoration: underline;}.im-web-core-heading-3 {  font-size: 1.5rem;  line-height: 2rem;  letter-spacing: -0.6px;  font-weight: 600;}.im-web-core-description {  font-size: 0.875rem;  line-height: 1.25rem;  font-weight: 400;}.clear-fix:after {  content: \"\";  display: table;  clear: both;}/* Util class for marquee*//* would need to be adjusted depending on time *//* 2 mins */@media only screen and (min-width: 600px) {  .marquee .marqueeone {    animation: marquee 120s linear infinite  }}@media only screen and (max-width: 590px) {  .marquee .marqueeone {    animation: marquee-mobile 60s linear infinite  }}/* add delay at the end of animation so you dont start while another div is going *//* 2 mins - a nossa base é no minimo 4 iterações a cada minuto   */@keyframes marquee {  0% {    left: 0%;  }  100% {    left: -242vw  }}@keyframes marquee-mobile {  0% {    left: 0%;  }  100% {    left: -484vw  }}.block-editor__container .wp-block-list-item>div {  display: inline;}.wp-embed-aspect-16-9 iframe,.embed-youtube iframe {  aspect-ratio: 16 / 9;  width: 100%;}.block-editor-block-list__block .block-list-appender {  position: static !important;  margin-left: auto !important;  margin-right: auto !important;  flex-basis: 25%;}html :where(.wp-block .wp-block) {  margin: 0px !important;  width: 100% !important;}.splide__slide>* {  height: 100%;}.splide__slide>*>* {  height: 100%;}.splide__pagination li {  display: flex;}/*Workaroud for prefixed svg class names by webpack*/.live-news-ping_svg__origin-center {  transform-origin: center;}@keyframes ping {  75%, 100% {    transform: scale(2);    opacity: 0;  }}.live-news-ping_svg__animate-ping {  animation: ping var(--tw-animate-duration, 1s) var(--tw-animate-easing, cubic-bezier(0, 0, 0.2, 1)) var(--tw-animate-delay, 0s) var(--tw-animate-iteration, infinite) var(--tw-animate-fill, none);}.live-news-ping_svg__animate-infinite {  --tw-animate-iteration: infinite;  animation-iteration-count: var(--tw-animate-iteration);}.live-news-ping_svg__animate-duration-1000 {  --tw-animate-duration: 1000ms;  animation-duration: var(--tw-animate-duration);}.live-news-ping_svg__animate-delay-1000 {  --tw-animate-delay: 1000ms;  animation-delay: var(--tw-animate-delay);}.live-news-ping_svg__animate-ease-linear {  --tw-animate-easing: linear;  animation-timing-function: var(--tw-animate-easing);}.live-news-ping_svg__animate-normal {  --tw-animate-direction: normal;  animation-direction: var(--tw-animate-direction);}.live-news-ping_svg__animate-fill-forwards {  --tw-animate-fill: forwards;  animation-fill-mode: var(--tw-animate-fill);}[id*='ac-chart-container-'] {  height: 100%;}.hide-scrollbars::-webkit-scrollbar {  background: transparent;  width: 0px;}.hide-scrollbars {  scrollbar-width: none;  -ms-overflow-style: none;}.ripple-in {  transform: scale(0);  animation: ripple 400ms linear forwards;}.ripple-out {  transform: scale(2);  animation: fade-out 255ms linear forwards;}@keyframes ripple {  to {    transform: scale(2);  }}@keyframes fade-out {  0% {    opacity: 1;  }  100% {    opacity: 0;  }}.visually-hidden {  border: 0;  clip: rect(1px, 1px, 1px, 1px);  clip-path: inset(0px 0px 99.9% 99.9%);  height: 1px;  overflow: hidden;  padding: 0;  position: absolute;  width: 1px;}.marker\\:text-sky-600 *::marker {  color: rgb(2 132 199 );}.marker\\:text-sky-600::marker {  color: rgb(2 132 199 );}.before\\:absolute::before {  content: var(--tw-content);  position: absolute;}.before\\:-top-6::before {  content: var(--tw-content);  top: -1.5rem;}.before\\:left-0::before {  content: var(--tw-content);  left: 0px;}.before\\:left-1\\/2::before {  content: var(--tw-content);  left: 50%;}.before\\:top-0::before {  content: var(--tw-content);  top: 0px;}.before\\:top-1\\/2::before {  content: var(--tw-content);  top: 50%;}.before\\:block::before {  content: var(--tw-content);  display: block;}.before\\:h-5::before {  content: var(--tw-content);  height: 1.25rem;}.before\\:h-6::before {  content: var(--tw-content);  height: 1.5rem;}.before\\:w-0\\.5::before {  content: var(--tw-content);  width: 0.125rem;}.before\\:w-1::before {  content: var(--tw-content);  width: 0.25rem;}.before\\:flex-shrink-0::before {  content: var(--tw-content);  flex-shrink: 0;}.before\\:-translate-x-1\\/2::before {  content: var(--tw-content);  --tw-translate-x: -50%;  transform: translate(var(--tw-translate-x), var(--tw-translate-y)) rotate(var(--tw-rotate)) skewX(var(--tw-skew-x)) skewY(var(--tw-skew-y)) scaleX(var(--tw-scale-x)) scaleY(var(--tw-scale-y));}.before\\:-translate-y-1\\/2::before {  content: var(--tw-content);  --tw-translate-y: -50%;  transform: translate(var(--tw-translate-x), var(--tw-translate-y)) rotate(var(--tw-rotate)) skewX(var(--tw-skew-x)) skewY(var(--tw-skew-y)) scaleX(var(--tw-scale-x)) scaleY(var(--tw-scale-y));}.before\\:self-stretch::before {  content: var(--tw-content);  align-self: stretch;}.before\\:rounded-full::before {  content: var(--tw-content);  border-radius: 9999px;}.before\\:border-b-\\[15px\\]::before {  content: var(--tw-content);  border-bottom-width: 15px;}.before\\:border-l-\\[26\\.0px\\]::before {  content: var(--tw-content);  border-left-width: 26.0px;}.before\\:border-r-\\[0\\]::before {  content: var(--tw-content);  border-right-width: 0;}.before\\:border-t-\\[15px\\]::before {  content: var(--tw-content);  border-top-width: 15px;}.before\\:border-solid::before {  content: var(--tw-content);  border-style: solid;}.before\\:border-b-transparent::before {  content: var(--tw-content);  border-bottom-color: transparent;}.before\\:border-l-white::before {  content: var(--tw-content);  --tw-border-opacity: 1;  border-left-color: rgb(255 255 255 / var(--tw-border-opacity, 1));}.before\\:border-r-transparent::before {  content: var(--tw-content);  border-right-color: transparent;}.before\\:border-t-transparent::before {  content: var(--tw-content);  border-top-color: transparent;}.before\\:bg-wl-action-link::before {  content: var(--tw-content);  --tw-bg-opacity: 1;  background-color: rgb(0 111 216 / var(--tw-bg-opacity, 1));}.before\\:bg-wl-branded::before {  content: var(--tw-content);  --tw-bg-opacity: 1;  background-color: rgb(209 70 0 / var(--tw-bg-opacity, 1));}.before\\:bg-wl-neutral-400::before {  content: var(--tw-content);  --tw-bg-opacity: 1;  background-color: rgb(136 136 136 / var(--tw-bg-opacity, 1));}.before\\:text-sm::before {  content: var(--tw-content);  font-size: 0.875rem;  line-height: 1.25rem;}.before\\:font-bold::before {  content: var(--tw-content);  font-weight: 700;}.before\\:text-red-500::before {  content: var(--tw-content);  --tw-text-opacity: 1;  color: rgb(239 68 68 / var(--tw-text-opacity, 1));}.before\\:content-\\[\\'\\'\\]::before {  --tw-content: '';  content: var(--tw-content);}.before\\:content-\\[attr\\(data-caption\\)\\]::before {  --tw-content: attr(data-caption);  content: var(--tw-content);}.before\\:content-\\[attr\\(data-error-message\\)\\]::before {  --tw-content: attr(data-error-message);  content: var(--tw-content);}.first\\:im-mob-core-bold-paragraph:first-child {  font-size: 1rem;  line-height: 1.5rem;  letter-spacing: 0.4px;  font-weight: 600;}.last\\:border-0:last-child {  border-width: 0px;}.hover\\:cursor-pointer:hover {  cursor: pointer;}.hover\\:rounded-lg:hover {  border-radius: 0.5rem;}.hover\\:border-wl-action-link-hover:hover {  --tw-border-opacity: 1;  border-color: rgb(23 99 170 / var(--tw-border-opacity, 1));}.hover\\:bg-neutral-200:hover {  --tw-bg-opacity: 1;  background-color: rgb(229 229 229 / var(--tw-bg-opacity, 1));}.hover\\:bg-transparent:hover {  background-color: transparent;}.hover\\:bg-wl-action-cta-hover:hover {  --tw-bg-opacity: 1;  background-color: rgb(205 64 1 / var(--tw-bg-opacity, 1));}.hover\\:bg-wl-action-link-hover:hover {  --tw-bg-opacity: 1;  background-color: rgb(23 99 170 / var(--tw-bg-opacity, 1));}.hover\\:bg-wl-neutral-100:hover {  --tw-bg-opacity: 1;  background-color: rgb(238 238 238 / var(--tw-bg-opacity, 1));}.hover\\:bg-wl-neutral-600:hover {  --tw-bg-opacity: 1;  background-color: rgb(82 82 82 / var(--tw-bg-opacity, 1));}.hover\\:\\!text-wl-action-link-hover:hover {  --tw-text-opacity: 1 !important;  color: rgb(23 99 170 / var(--tw-text-opacity, 1)) !important;}.hover\\:text-gray-700:hover {  --tw-text-opacity: 1;  color: rgb(55 65 81 / var(--tw-text-opacity, 1));}.hover\\:text-sky-800:hover {  --tw-text-opacity: 1;  color: rgb(7 89 133 / var(--tw-text-opacity, 1));}.hover\\:text-wl-action-link-hover:hover {  --tw-text-opacity: 1;  color: rgb(23 99 170 / var(--tw-text-opacity, 1));}.hover\\:text-wl-neutral-0:hover {  --tw-text-opacity: 1;  color: rgb(255 255 255 / var(--tw-text-opacity, 1));}.hover\\:text-wl-neutral-200:hover {  --tw-text-opacity: 1;  color: rgb(229 229 229 / var(--tw-text-opacity, 1));}.hover\\:text-wl-white:hover {  --tw-text-opacity: 1;  color: rgb(255 255 255 / var(--tw-text-opacity, 1));}.hover\\:underline:hover {  text-decoration-line: underline;}.hover\\:no-underline:hover {  text-decoration-line: none;}.focus\\:outline-none:focus {  outline: 2px solid transparent;  outline-offset: 2px;}.focus\\:outline-2:focus {  outline-width: 2px;}.focus\\:outline-wl-action-link:focus {  outline-color: #006FD8;}.disabled\\:bg-wl-neutral-200:disabled {  --tw-bg-opacity: 1;  background-color: rgb(229 229 229 / var(--tw-bg-opacity, 1));}.disabled\\:text-wl-neutral-400:disabled {  --tw-text-opacity: 1;  color: rgb(136 136 136 / var(--tw-text-opacity, 1));}.disabled\\:shadow-none:disabled {  --tw-shadow: 0 0 #0000;  --tw-shadow-colored: 0 0 #0000;  box-shadow: var(--tw-ring-offset-shadow, 0 0 #0000), var(--tw-ring-shadow, 0 0 #0000), var(--tw-shadow);}.group:hover .group-hover\\:scale-110 {  --tw-scale-x: 1.1;  --tw-scale-y: 1.1;  transform: translate(var(--tw-translate-x), var(--tw-translate-y)) rotate(var(--tw-rotate)) skewX(var(--tw-skew-x)) skewY(var(--tw-skew-y)) scaleX(var(--tw-scale-x)) scaleY(var(--tw-scale-y));}.group\\/news:hover .group-hover\\/news\\:underline {  text-decoration-line: underline;}.group:hover .group-hover\\:underline {  text-decoration-line: underline;}.peer:-moz-placeholder-shown ~ .peer-placeholder-shown\\:top-\\[13px\\] {  top: 13px;}.peer:placeholder-shown ~ .peer-placeholder-shown\\:top-\\[13px\\] {  top: 13px;}.peer:-moz-placeholder-shown ~ .peer-placeholder-shown\\:-translate-y-0 {  --tw-translate-y: -0px;  transform: translate(var(--tw-translate-x), var(--tw-translate-y)) rotate(var(--tw-rotate)) skewX(var(--tw-skew-x)) skewY(var(--tw-skew-y)) scaleX(var(--tw-scale-x)) scaleY(var(--tw-scale-y));}.peer:placeholder-shown ~ .peer-placeholder-shown\\:-translate-y-0 {  --tw-translate-y: -0px;  transform: translate(var(--tw-translate-x), var(--tw-translate-y)) rotate(var(--tw-rotate)) skewX(var(--tw-skew-x)) skewY(var(--tw-skew-y)) scaleX(var(--tw-scale-x)) scaleY(var(--tw-scale-y));}.peer:-moz-placeholder-shown ~ .peer-placeholder-shown\\:px-0 {  padding-left: 0px;  padding-right: 0px;}.peer:placeholder-shown ~ .peer-placeholder-shown\\:px-0 {  padding-left: 0px;  padding-right: 0px;}.peer:-moz-placeholder-shown ~ .peer-placeholder-shown\\:text-base {  font-size: 1rem;  line-height: 1.5rem;}.peer:placeholder-shown ~ .peer-placeholder-shown\\:text-base {  font-size: 1rem;  line-height: 1.5rem;}.peer:-moz-placeholder-shown ~ .peer-placeholder-shown\\:text-wl-neutral-400 {  --tw-text-opacity: 1;  color: rgb(136 136 136 / var(--tw-text-opacity, 1));}.peer:placeholder-shown ~ .peer-placeholder-shown\\:text-wl-neutral-400 {  --tw-text-opacity: 1;  color: rgb(136 136 136 / var(--tw-text-opacity, 1));}.peer:invalid ~ .peer-invalid\\:text-red-600 {  --tw-text-opacity: 1;  color: rgb(220 38 38 / var(--tw-text-opacity, 1));}.peer:focus ~ .peer-focus\\:top-0 {  top: 0px;}.peer:focus ~ .peer-focus\\:-translate-y-\\[50\\%\\] {  --tw-translate-y: -50%;  transform: translate(var(--tw-translate-x), var(--tw-translate-y)) rotate(var(--tw-rotate)) skewX(var(--tw-skew-x)) skewY(var(--tw-skew-y)) scaleX(var(--tw-scale-x)) scaleY(var(--tw-scale-y));}.peer:focus ~ .peer-focus\\:px-1 {  padding-left: 0.25rem;  padding-right: 0.25rem;}.peer:focus ~ .peer-focus\\:text-xs {  font-size: 0.75rem;  line-height: 1rem;}.peer:focus ~ .peer-focus\\:text-wl-action-link {  --tw-text-opacity: 1;  color: rgb(0 111 216 / var(--tw-text-opacity, 1));}.aria-selected\\:bg-wl-action-link[aria-selected=\"true\"] {  --tw-bg-opacity: 1;  background-color: rgb(0 111 216 / var(--tw-bg-opacity, 1));}.group[data-state=\"collapsed\"] .group-data-\\[state\\=collapsed\\]\\:hidden {  display: none;}.group[data-expanded=\"true\"] .group-data-\\[expanded\\=true\\]\\:max-h-screen {  max-height: 100vh;}.group[data-expanded=\"true\"] .group-data-\\[expanded\\=true\\]\\:-scale-100 {  --tw-scale-x: -1;  --tw-scale-y: -1;  transform: translate(var(--tw-translate-x), var(--tw-translate-y)) rotate(var(--tw-rotate)) skewX(var(--tw-skew-x)) skewY(var(--tw-skew-y)) scaleX(var(--tw-scale-x)) scaleY(var(--tw-scale-y));}.group[data-state=\"collapsed\"] .group-data-\\[state\\=collapsed\\]\\:scale-x-75 {  --tw-scale-x: .75;  transform: translate(var(--tw-translate-x), var(--tw-translate-y)) rotate(var(--tw-rotate)) skewX(var(--tw-skew-x)) skewY(var(--tw-skew-y)) scaleX(var(--tw-scale-x)) scaleY(var(--tw-scale-y));}.group[data-state=\"collapsed\"] .group-data-\\[state\\=collapsed\\]\\:scale-y-125 {  --tw-scale-y: 1.25;  transform: translate(var(--tw-translate-x), var(--tw-translate-y)) rotate(var(--tw-rotate)) skewX(var(--tw-skew-x)) skewY(var(--tw-skew-y)) scaleX(var(--tw-scale-x)) scaleY(var(--tw-scale-y));}.group[data-state=\"collapsed\"] .group-data-\\[state\\=collapsed\\]\\:scale-y-75 {  --tw-scale-y: .75;  transform: translate(var(--tw-translate-x), var(--tw-translate-y)) rotate(var(--tw-rotate)) skewX(var(--tw-skew-x)) skewY(var(--tw-skew-y)) scaleX(var(--tw-scale-x)) scaleY(var(--tw-scale-y));}.group[data-expanded=\"true\"] .group-data-\\[expanded\\=true\\]\\:bg-wl-neutral-100 {  --tw-bg-opacity: 1;  background-color: rgb(238 238 238 / var(--tw-bg-opacity, 1));}@media (min-width: 768px) {  .md\\:left-auto {    left: auto;  }  .md\\:right-10 {    right: 2.5rem;  }  .md\\:top-10 {    top: 2.5rem;  }  .md\\:order-1 {    order: 1;  }  .md\\:float-right {    float: right;  }  .md\\:my-4 {    margin-top: 1rem;    margin-bottom: 1rem;  }  .md\\:my-6 {    margin-top: 1.5rem;    margin-bottom: 1.5rem;  }  .md\\:my-8 {    margin-top: 2rem;    margin-bottom: 2rem;  }  .md\\:my-9 {    margin-top: 2.25rem;    margin-bottom: 2.25rem;  }  .md\\:mb-0 {    margin-bottom: 0px;  }  .md\\:mb-6 {    margin-bottom: 1.5rem;  }  .md\\:ml-auto {    margin-left: auto;  }  .md\\:mr-\\[calc\\(\\(100\\%-42rem\\)\\/2\\)\\] {    margin-right: calc((100% - 42rem) / 2);  }  .md\\:mt-3 {    margin-top: 0.75rem;  }  .md\\:mt-4 {    margin-top: 1rem;  }  .md\\:mt-6 {    margin-top: 1.5rem;  }  .md\\:mt-8 {    margin-top: 2rem;  }  .md\\:line-clamp-1 {    overflow: hidden;    display: -webkit-box;    -webkit-box-orient: vertical;    -webkit-line-clamp: 1;  }  .md\\:line-clamp-2 {    overflow: hidden;    display: -webkit-box;    -webkit-box-orient: vertical;    -webkit-line-clamp: 2;  }  .md\\:line-clamp-3 {    overflow: hidden;    display: -webkit-box;    -webkit-box-orient: vertical;    -webkit-line-clamp: 3;  }  .md\\:line-clamp-4 {    overflow: hidden;    display: -webkit-box;    -webkit-box-orient: vertical;    -webkit-line-clamp: 4;  }  .md\\:block {    display: block;  }  .md\\:flex {    display: flex;  }  .md\\:hidden {    display: none;  }  .md\\:size-auto {    width: auto;    height: auto;  }  .md\\:\\!h-\\[350px\\] {    height: 350px !important;  }  .md\\:h-18 {    height: 4.5rem;  }  .md\\:h-21 {    height: 5.25rem;  }  .md\\:h-32 {    height: 8rem;  }  .md\\:h-5 {    height: 1.25rem;  }  .md\\:h-72 {    height: 18rem;  }  .md\\:h-\\[134px\\] {    height: 134px;  }  .md\\:h-\\[202px\\] {    height: 202px;  }  .md\\:h-\\[204px\\] {    height: 204px;  }  .md\\:h-\\[228px\\] {    height: 228px;  }  .md\\:h-\\[25px\\] {    height: 25px;  }  .md\\:h-\\[28px\\] {    height: 28px;  }  .md\\:h-\\[296px\\] {    height: 296px;  }  .md\\:h-\\[350px\\] {    height: 350px;  }  .md\\:h-\\[430px\\] {    height: 430px;  }  .md\\:h-\\[initial\\] {    height: initial;  }  .md\\:min-h-\\[204px\\] {    min-height: 204px;  }  .md\\:min-h-\\[432px\\] {    min-height: 432px;  }  .md\\:w-52 {    width: 13rem;  }  .md\\:w-\\[235px\\] {    width: 235px;  }  .md\\:w-\\[364px\\] {    width: 364px;  }  .md\\:w-\\[415px\\] {    width: 415px;  }  .md\\:w-fit {    width: -moz-fit-content;    width: fit-content;  }  .md\\:w-px {    width: 1px;  }  .md\\:min-w-64 {    min-width: 16rem;  }  .md\\:max-w-\\[314px\\] {    max-width: 314px;  }  .md\\:transform {    transform: translate(var(--tw-translate-x), var(--tw-translate-y)) rotate(var(--tw-rotate)) skewX(var(--tw-skew-x)) skewY(var(--tw-skew-y)) scaleX(var(--tw-scale-x)) scaleY(var(--tw-scale-y));  }  .md\\:columns-1 {    -moz-columns: 1;         columns: 1;  }  .md\\:auto-cols-fr {    grid-auto-columns: minmax(0, 1fr);  }  .md\\:grid-flow-col {    grid-auto-flow: column;  }  .md\\:grid-cols-1 {    grid-template-columns: repeat(1, minmax(0, 1fr));  }  .md\\:grid-cols-2 {    grid-template-columns: repeat(2, minmax(0, 1fr));  }  .md\\:grid-cols-3 {    grid-template-columns: repeat(3, minmax(0, 1fr));  }  .md\\:grid-cols-4 {    grid-template-columns: repeat(4, minmax(0, 1fr));  }  .md\\:flex-row {    flex-direction: row;  }  .md\\:flex-col {    flex-direction: column;  }  .md\\:flex-wrap {    flex-wrap: wrap;  }  .md\\:flex-nowrap {    flex-wrap: nowrap;  }  .md\\:items-end {    align-items: flex-end;  }  .md\\:items-center {    align-items: center;  }  .md\\:justify-between {    justify-content: space-between;  }  .md\\:gap-11 {    gap: 2.75rem;  }  .md\\:gap-3 {    gap: 0.75rem;  }  .md\\:gap-4 {    gap: 1rem;  }  .md\\:gap-6 {    gap: 1.5rem;  }  .md\\:gap-7 {    gap: 1.75rem;  }  .md\\:gap-8 {    gap: 2rem;  }  .md\\:gap-y-10 {    row-gap: 2.5rem;  }  .md\\:rounded-lg {    border-radius: 0.5rem;  }  .md\\:rounded-t-xl {    border-top-left-radius: 0.75rem;    border-top-right-radius: 0.75rem;  }  .md\\:border-0 {    border-width: 0px;  }  .md\\:border-b {    border-bottom-width: 1px;  }  .md\\:border-r {    border-right-width: 1px;  }  .md\\:border-none {    border-style: none;  }  .md\\:border-white {    --tw-border-opacity: 1;    border-color: rgb(255 255 255 / var(--tw-border-opacity, 1));  }  .md\\:border-wl-neutral-500 {    --tw-border-opacity: 1;    border-color: rgb(114 114 114 / var(--tw-border-opacity, 1));  }  .md\\:bg-wl-neutral-0 {    --tw-bg-opacity: 1;    background-color: rgb(255 255 255 / var(--tw-bg-opacity, 1));  }  .md\\:p-3 {    padding: 0.75rem;  }  .md\\:p-6 {    padding: 1.5rem;  }  .md\\:p-8 {    padding: 2rem;  }  .md\\:\\!py-1 {    padding-top: 0.25rem !important;    padding-bottom: 0.25rem !important;  }  .md\\:\\!py-2 {    padding-top: 0.5rem !important;    padding-bottom: 0.5rem !important;  }  .md\\:\\!py-4 {    padding-top: 1rem !important;    padding-bottom: 1rem !important;  }  .md\\:px-0 {    padding-left: 0px;    padding-right: 0px;  }  .md\\:px-6 {    padding-left: 1.5rem;    padding-right: 1.5rem;  }  .md\\:py-1 {    padding-top: 0.25rem;    padding-bottom: 0.25rem;  }  .md\\:py-12 {    padding-top: 3rem;    padding-bottom: 3rem;  }  .md\\:py-2 {    padding-top: 0.5rem;    padding-bottom: 0.5rem;  }  .md\\:py-4 {    padding-top: 1rem;    padding-bottom: 1rem;  }  .md\\:pb-0 {    padding-bottom: 0px;  }  .md\\:pr-6 {    padding-right: 1.5rem;  }  .md\\:pr-8 {    padding-right: 2rem;  }  .md\\:pr-9 {    padding-right: 2.25rem;  }  .md\\:pt-6 {    padding-top: 1.5rem;  }  .md\\:text-2xl {    font-size: 1.5rem;    line-height: 2rem;  }  .md\\:text-4xl {    font-size: 2.25rem;    line-height: 2.5rem;  }  .md\\:text-5xl {    font-size: 3rem;    line-height: 1;  }  .md\\:text-lg {    font-size: 1.125rem;    line-height: 1.75rem;  }  .md\\:text-xl {    font-size: 1.25rem;    line-height: 1.75rem;  }  .md\\:leading-5 {    line-height: 1.25rem;  }  .md\\:leading-7 {    line-height: 1.75rem;  }  .md\\:leading-tight {    line-height: 1.25;  }  .md\\:tracking-normal {    letter-spacing: 0em;  }  .md\\:tracking-tight {    letter-spacing: -0.025em;  }  .md\\:tracking-tighter {    letter-spacing: -0.05em;  }  .md\\:transition-shadow {    transition-property: box-shadow;    transition-timing-function: cubic-bezier(0.4, 0, 0.2, 1);    transition-duration: 150ms;  }  .md\\:transition-transform {    transition-property: transform;    transition-timing-function: cubic-bezier(0.4, 0, 0.2, 1);    transition-duration: 150ms;  }  .md\\:duration-300 {    transition-duration: 300ms;  }  .md\\:im-web-core-heading-1 {    font-size: 3rem;    line-height: 3.75rem;    letter-spacing: -2.4px;    font-weight: 700;  }  .md\\:im-web-core-heading-2 {    font-size: 2.25rem;    line-height: 2.5rem;    letter-spacing: -0.9px;    font-weight: 700;  }  .md\\:im-web-core-paragraph {    font-size: 1.125rem;    line-height: 1.75rem;    font-weight: 400;  }  .md\\:im-web-core-description {    font-size: 0.875rem;    line-height: 1.25rem;    font-weight: 400;  }  .md\\:im-web-core-bold-description {    font-size: 0.875rem;    line-height: 1.25rem;    font-weight: 600;  }  .md\\:before\\:h-7::before {    content: var(--tw-content);    height: 1.75rem;  }  .md\\:hover\\:shadow-lg:hover {    --tw-shadow:  0 10px 15px -3px rgba(0, 0, 0, 0.1), 0 4px 6px -4px rgba(0, 0, 0, 0.1);    --tw-shadow-colored: 0 10px 15px -3px var(--tw-shadow-color), 0 4px 6px -4px var(--tw-shadow-color);    box-shadow: var(--tw-ring-offset-shadow, 0 0 #0000), var(--tw-ring-shadow, 0 0 #0000), var(--tw-shadow);  }  .group:hover .md\\:group-hover\\:scale-110 {    --tw-scale-x: 1.1;    --tw-scale-y: 1.1;    transform: translate(var(--tw-translate-x), var(--tw-translate-y)) rotate(var(--tw-rotate)) skewX(var(--tw-skew-x)) skewY(var(--tw-skew-y)) scaleX(var(--tw-scale-x)) scaleY(var(--tw-scale-y));  }  .peer:-moz-placeholder-shown ~ .md\\:peer-placeholder-shown\\:text-lg {    font-size: 1.125rem;    line-height: 1.75rem;  }  .peer:placeholder-shown ~ .md\\:peer-placeholder-shown\\:text-lg {    font-size: 1.125rem;    line-height: 1.75rem;  }  .peer:focus ~ .md\\:peer-focus\\:text-xs {    font-size: 0.75rem;    line-height: 1rem;  }}@media (min-width: 1024px) {  .lg\\:absolute {    position: absolute;  }  .lg\\:bottom-0 {    bottom: 0px;  }  .lg\\:right-0 {    right: 0px;  }  .lg\\:top-0 {    top: 0px;  }  .lg\\:top-2\\.5 {    top: 0.625rem;  }  .lg\\:order-1 {    order: 1;  }  .lg\\:order-2 {    order: 2;  }  .lg\\:col-auto {    grid-column: auto;  }  .lg\\:col-span-5 {    grid-column: span 5 / span 5;  }  .lg\\:col-start-5 {    grid-column-start: 5;  }  .lg\\:-mx-6 {    margin-left: -1.5rem;    margin-right: -1.5rem;  }  .lg\\:\\!mr-0 {    margin-right: 0px !important;  }  .lg\\:mb-0 {    margin-bottom: 0px;  }  .lg\\:ml-auto {    margin-left: auto;  }  .lg\\:mt-4 {    margin-top: 1rem;  }  .lg\\:block {    display: block;  }  .lg\\:flex {    display: flex;  }  .lg\\:hidden {    display: none;  }  .lg\\:size-44 {    width: 11rem;    height: 11rem;  }  .lg\\:h-5 {    height: 1.25rem;  }  .lg\\:h-6 {    height: 1.5rem;  }  .lg\\:h-7 {    height: 1.75rem;  }  .lg\\:h-9 {    height: 2.25rem;  }  .lg\\:h-\\[248px\\] {    height: 248px;  }  .lg\\:h-\\[432px\\] {    height: 432px;  }  .lg\\:max-h-6 {    max-height: 1.5rem;  }  .lg\\:max-h-\\[558px\\] {    max-height: 558px;  }  .lg\\:w-3\\/5 {    width: 60%;  }  .lg\\:w-5 {    width: 1.25rem;  }  .lg\\:w-\\[240px\\] {    width: 240px;  }  .lg\\:w-auto {    width: auto;  }  .lg\\:w-full {    width: 100%;  }  .lg\\:w-screen {    width: 100vw;  }  .lg\\:min-w-\\[300px\\] {    min-width: 300px;  }  .lg\\:max-w-\\[155px\\] {    max-width: 155px;  }  .lg\\:max-w-\\[297px\\] {    max-width: 297px;  }  .lg\\:max-w-\\[300px\\] {    max-width: 300px;  }  .lg\\:flex-auto {    flex: 1 1 auto;  }  .lg\\:translate-x-full {    --tw-translate-x: 100%;    transform: translate(var(--tw-translate-x), var(--tw-translate-y)) rotate(var(--tw-rotate)) skewX(var(--tw-skew-x)) skewY(var(--tw-skew-y)) scaleX(var(--tw-scale-x)) scaleY(var(--tw-scale-y));  }  .lg\\:grid-cols-\\[155px_1fr_1fr_1fr_68px\\] {    grid-template-columns: 155px 1fr 1fr 1fr 68px;  }  .lg\\:grid-cols-\\[232px_1fr_1fr_1fr_1fr_36px\\] {    grid-template-columns: 232px 1fr 1fr 1fr 1fr 36px;  }  .lg\\:grid-cols-\\[232px_1fr_1fr_1fr_36px\\] {    grid-template-columns: 232px 1fr 1fr 1fr 36px;  }  .lg\\:grid-cols-\\[232px_1fr_1fr_36px\\] {    grid-template-columns: 232px 1fr 1fr 36px;  }  .lg\\:grid-cols-\\[232px_1fr_36px\\] {    grid-template-columns: 232px 1fr 36px;  }  .lg\\:flex-row {    flex-direction: row;  }  .lg\\:flex-col {    flex-direction: column;  }  .lg\\:items-start {    align-items: flex-start;  }  .lg\\:items-end {    align-items: flex-end;  }  .lg\\:items-center {    align-items: center;  }  .lg\\:justify-start {    justify-content: flex-start;  }  .lg\\:justify-end {    justify-content: flex-end;  }  .lg\\:justify-center {    justify-content: center;  }  .lg\\:justify-between {    justify-content: space-between;  }  .lg\\:gap-0 {    gap: 0px;  }  .lg\\:gap-12 {    gap: 3rem;  }  .lg\\:gap-3 {    gap: 0.75rem;  }  .lg\\:gap-4 {    gap: 1rem;  }  .lg\\:gap-6 {    gap: 1.5rem;  }  .lg\\:gap-8 {    gap: 2rem;  }  .lg\\:overflow-x-auto {    overflow-x: auto;  }  .lg\\:border-b {    border-bottom-width: 1px;  }  .lg\\:border-l {    border-left-width: 1px;  }  .lg\\:border-none {    border-style: none;  }  .lg\\:\\!px-16 {    padding-left: 4rem !important;    padding-right: 4rem !important;  }  .lg\\:\\!py-3\\.5 {    padding-top: 0.875rem !important;    padding-bottom: 0.875rem !important;  }  .lg\\:px-0 {    padding-left: 0px;    padding-right: 0px;  }  .lg\\:px-1 {    padding-left: 0.25rem;    padding-right: 0.25rem;  }  .lg\\:px-14 {    padding-left: 3.5rem;    padding-right: 3.5rem;  }  .lg\\:px-16 {    padding-left: 4rem;    padding-right: 4rem;  }  .lg\\:px-4 {    padding-left: 1rem;    padding-right: 1rem;  }  .lg\\:px-6 {    padding-left: 1.5rem;    padding-right: 1.5rem;  }  .lg\\:py-0 {    padding-top: 0px;    padding-bottom: 0px;  }  .lg\\:py-0\\.5 {    padding-top: 0.125rem;    padding-bottom: 0.125rem;  }  .lg\\:py-2\\.5 {    padding-top: 0.625rem;    padding-bottom: 0.625rem;  }  .lg\\:py-3 {    padding-top: 0.75rem;    padding-bottom: 0.75rem;  }  .lg\\:py-3\\.5 {    padding-top: 0.875rem;    padding-bottom: 0.875rem;  }  .lg\\:py-5 {    padding-top: 1.25rem;    padding-bottom: 1.25rem;  }  .lg\\:py-6 {    padding-top: 1.5rem;    padding-bottom: 1.5rem;  }  .lg\\:py-8 {    padding-top: 2rem;    padding-bottom: 2rem;  }  .lg\\:pb-12 {    padding-bottom: 3rem;  }  .lg\\:pb-8 {    padding-bottom: 2rem;  }  .lg\\:pt-0 {    padding-top: 0px;  }  .lg\\:text-left {    text-align: left;  }  .lg\\:text-center {    text-align: center;  }  .lg\\:text-right {    text-align: right;  }  .lg\\:text-2xl {    font-size: 1.5rem;    line-height: 2rem;  }  .lg\\:text-3xl {    font-size: 1.875rem;    line-height: 2.25rem;  }  .lg\\:text-4xl {    font-size: 2.25rem;    line-height: 2.5rem;  }  .lg\\:text-5xl {    font-size: 3rem;    line-height: 1;  }  .lg\\:text-lg {    font-size: 1.125rem;    line-height: 1.75rem;  }  .lg\\:text-sm {    font-size: 0.875rem;    line-height: 1.25rem;  }  .lg\\:text-xs {    font-size: 0.75rem;    line-height: 1rem;  }  .lg\\:font-bold {    font-weight: 700;  }  .lg\\:leading-8 {    line-height: 2rem;  }  .lg\\:leading-9 {    line-height: 2.25rem;  }  .lg\\:im-web-core-heading-2 {    font-size: 2.25rem;    line-height: 2.5rem;    letter-spacing: -0.9px;    font-weight: 700;  }  .lg\\:im-web-core-heading-3 {    font-size: 1.5rem;    line-height: 2rem;    letter-spacing: -0.6px;    font-weight: 600;  }  .lg\\:im-web-core-subtitle {    font-size: 1.25rem;    line-height: 1.75rem;    letter-spacing: -0.5px;    font-weight: 500;  }  .lg\\:im-web-core-paragraph {    font-size: 1.125rem;    line-height: 1.75rem;    font-weight: 400;  }  .lg\\:im-web-core-bold-paragraph {    font-size: 1.125rem;    line-height: 1.75rem;    font-weight: 700;  }  .lg\\:im-web-core-description {    font-size: 0.875rem;    line-height: 1.25rem;    font-weight: 400;  }  .lg\\:im-web-core-bold-description {    font-size: 0.875rem;    line-height: 1.25rem;    font-weight: 600;  }  .lg\\:im-web-core-link-description {    font-size: 0.875rem;    line-height: 1.25rem;    font-weight: 400;    text-decoration: underline;  }  .lg\\:im-web-core-caption {    font-size: 0.75rem;    line-height: 1rem;    font-weight: 400;  }  .lg\\:im-web-core-link-caption {    font-size: 0.75rem;    line-height: 1rem;    font-weight: 600;    text-decoration: underline;  }  .first\\:lg\\:im-web-core-bold-paragraph:first-child {    font-size: 1.125rem;    line-height: 1.75rem;    font-weight: 700;  }  .lg\\:hover\\:bg-wl-neutral-100:hover {    --tw-bg-opacity: 1;    background-color: rgb(238 238 238 / var(--tw-bg-opacity, 1));  }  .lg\\:hover\\:drop-shadow-lg:hover {    --tw-drop-shadow: drop-shadow(0 10px 8px rgb(0 0 0 / 0.04)) drop-shadow(0 4px 3px rgb(0 0 0 / 0.1));    filter: var(--tw-blur) var(--tw-brightness) var(--tw-contrast) var(--tw-grayscale) var(--tw-hue-rotate) var(--tw-invert) var(--tw-saturate) var(--tw-sepia) var(--tw-drop-shadow);  }}@media (min-width: 1280px) {  .xl\\:block {    display: block;  }  .xl\\:px-0 {    padding-left: 0px;    padding-right: 0px;  }}.\\[\\&\\:not\\(\\:last-child\\)\\]\\:border-b-2:not(:last-child) {  border-bottom-width: 2px;}.invalid\\:\\[\\&\\:not\\(\\:-moz-placeholder-shown\\)\\:focus\\]\\:outline-red-600:not(:-moz-placeholder-shown):focus:invalid {  outline-color: #dc2626;}.invalid\\:\\[\\&\\:not\\(\\:placeholder-shown\\)\\:focus\\]\\:outline-red-600:not(:placeholder-shown):focus:invalid {  outline-color: #dc2626;}.invalid\\:\\[\\&\\:not\\(\\:-moz-placeholder-shown\\)\\:not\\(\\:focus\\)\\]\\:border-red-600:not(:-moz-placeholder-shown):not(:focus):invalid {  --tw-border-opacity: 1;  border-color: rgb(220 38 38 / var(--tw-border-opacity, 1));}.invalid\\:\\[\\&\\:not\\(\\:placeholder-shown\\)\\:not\\(\\:focus\\)\\]\\:border-red-600:not(:placeholder-shown):not(:focus):invalid {  --tw-border-opacity: 1;  border-color: rgb(220 38 38 / var(--tw-border-opacity, 1));}.peer:invalid ~ .peer-invalid\\:\\[\\&\\:not\\(\\:-moz-placeholder-shown\\)\\:not\\(\\:focus\\)\\]\\:text-red-600:not(:-moz-placeholder-shown):not(:focus) {  --tw-text-opacity: 1;  color: rgb(220 38 38 / var(--tw-text-opacity, 1));}.peer:invalid ~ .peer-invalid\\:\\[\\&\\:not\\(\\:placeholder-shown\\)\\:not\\(\\:focus\\)\\]\\:text-red-600:not(:placeholder-shown):not(:focus) {  --tw-text-opacity: 1;  color: rgb(220 38 38 / var(--tw-text-opacity, 1));}.\\[\\&\\>\\*\\:first-child\\]\\:pl-0>*:first-child {  padding-left: 0px;}.\\[\\&\\>\\*\\:last-child\\]\\:pr-0>*:last-child {  padding-right: 0px;}.\\[\\&\\>\\*\\]\\:shrink>* {  flex-shrink: 1;}.\\[\\&\\>\\*\\]\\:basis-1\\/3>* {  flex-basis: 33.333333%;}.\\[\\&\\>\\*\\]\\:basis-1\\/4>* {  flex-basis: 25%;}.\\[\\&\\>\\]\\:border-wl-neutral-200> {  --tw-border-opacity: 1;  border-color: rgb(229 229 229 / var(--tw-border-opacity, 1));}.\\[\\&\\>a\\]\\:text-wl-action-link>a {  --tw-text-opacity: 1;  color: rgb(0 111 216 / var(--tw-text-opacity, 1));}.\\[\\&\\>a\\]\\:underline>a {  text-decoration-line: underline;}.\\[\\&\\>a\\]\\:hover\\:text-wl-action-link-hover:hover>a {  --tw-text-opacity: 1;  color: rgb(23 99 170 / var(--tw-text-opacity, 1));}.\\[\\&\\>li\\]\\:flex>li {  display: flex;}.\\[\\&\\>svg\\]\\:h-full>svg {  height: 100%;}.\\[\\&\\>svg\\]\\:w-full>svg {  width: 100%;}.\\[\\&_\\+_p\\]\\:mt-4 + p {  margin-top: 1rem;}.\\[\\&_a\\]\\:pointer-events-none a {  pointer-events: none;}.\\[\\&_a\\]\\:text-wl-action-link a {  --tw-text-opacity: 1;  color: rgb(0 111 216 / var(--tw-text-opacity, 1));}.\\[\\&_a\\]\\:underline a {  text-decoration-line: underline;}.\\[\\&_a\\]\\:hover\\:text-wl-action-link-hover:hover a {  --tw-text-opacity: 1;  color: rgb(23 99 170 / var(--tw-text-opacity, 1));}.\\[\\&_iframe\\]\\:mx-auto iframe {  margin-left: auto;  margin-right: auto;}\n",
       "</style>\n",
       "<style id=\"wp-emoji-styles-inline-css\">\n",
       "\n",
       "\timg.wp-smiley, img.emoji {\n",
       "\t\tdisplay: inline !important;\n",
       "\t\tborder: none !important;\n",
       "\t\tbox-shadow: none !important;\n",
       "\t\theight: 1em !important;\n",
       "\t\twidth: 1em !important;\n",
       "\t\tmargin: 0 0.07em !important;\n",
       "\t\tvertical-align: -0.1em !important;\n",
       "\t\tbackground: none !important;\n",
       "\t\tpadding: 0 !important;\n",
       "\t}\n",
       "</style>\n",
       "<link href=\"https://www.infomoney.com.br/wp-includes/js/mediaelement/mediaelementplayer-legacy.min.css?ver=4.2.17\" id=\"mediaelement-css\" media=\"all\" rel=\"stylesheet\">\n",
       "<link href=\"https://www.infomoney.com.br/wp-includes/js/mediaelement/wp-mediaelement.min.css?ver=6.7.2\" id=\"wp-mediaelement-css\" media=\"all\" rel=\"stylesheet\">\n",
       "<style id=\"jetpack-sharing-buttons-style-inline-css\">\n",
       ".jetpack-sharing-buttons__services-list{display:flex;flex-direction:row;flex-wrap:wrap;gap:0;list-style-type:none;margin:5px;padding:0}.jetpack-sharing-buttons__services-list.has-small-icon-size{font-size:12px}.jetpack-sharing-buttons__services-list.has-normal-icon-size{font-size:16px}.jetpack-sharing-buttons__services-list.has-large-icon-size{font-size:24px}.jetpack-sharing-buttons__services-list.has-huge-icon-size{font-size:36px}@media print{.jetpack-sharing-buttons__services-list{display:none!important}}.editor-styles-wrapper .wp-block-jetpack-sharing-buttons{gap:0;padding-inline-start:0}ul.jetpack-sharing-buttons__services-list.has-background{padding:1.25em 2.375em}\n",
       "</style>\n",
       "<style id=\"elasticpress-facet-style-inline-css\">\n",
       ".widget_ep-facet input[type=search],.wp-block-elasticpress-facet input[type=search]{margin-bottom:1rem}.widget_ep-facet .searchable .inner,.wp-block-elasticpress-facet .searchable .inner{max-height:20em;overflow:scroll}.widget_ep-facet .term.hide,.wp-block-elasticpress-facet .term.hide{display:none}.widget_ep-facet .empty-term,.wp-block-elasticpress-facet .empty-term{opacity:.5;position:relative}.widget_ep-facet .empty-term:after,.wp-block-elasticpress-facet .empty-term:after{bottom:0;content:\" \";display:block;left:0;position:absolute;right:0;top:0;width:100%;z-index:2}.widget_ep-facet .level-1,.wp-block-elasticpress-facet .level-1{padding-left:20px}.widget_ep-facet .level-2,.wp-block-elasticpress-facet .level-2{padding-left:40px}.widget_ep-facet .level-3,.wp-block-elasticpress-facet .level-3{padding-left:60px}.widget_ep-facet .level-4,.wp-block-elasticpress-facet .level-4{padding-left:5pc}.widget_ep-facet .level-5,.wp-block-elasticpress-facet .level-5{padding-left:75pt}.widget_ep-facet input[disabled],.wp-block-elasticpress-facet input[disabled]{cursor:pointer;opacity:1}.widget_ep-facet .term a,.wp-block-elasticpress-facet .term a{-webkit-box-align:center;-ms-flex-align:center;align-items:center;display:-webkit-box;display:-ms-flexbox;display:flex;position:relative}.widget_ep-facet .term a:hover .ep-checkbox,.wp-block-elasticpress-facet .term a:hover .ep-checkbox{background-color:#ccc}.ep-checkbox{-webkit-box-align:center;-ms-flex-align:center;-ms-flex-negative:0;-webkit-box-pack:center;-ms-flex-pack:center;align-items:center;background-color:#eee;display:-webkit-box;display:-ms-flexbox;display:flex;flex-shrink:0;height:1em;justify-content:center;margin-right:.25em;width:1em}.ep-checkbox:after{border:solid #fff;border-width:0 .125em .125em 0;content:\"\";display:none;height:.5em;-webkit-transform:rotate(45deg);transform:rotate(45deg);width:.25em}.ep-checkbox.checked{background-color:#5e5e5e}.ep-checkbox.checked:after{display:block}\n",
       "\n",
       "</style>\n",
       "<link href=\"https://www.infomoney.com.br/wp-content/mu-plugins/search/elasticpress/dist/css/related-posts-block-styles.min.css?ver=4.2.2\" id=\"elasticpress-related-posts-block-css\" media=\"all\" rel=\"stylesheet\">\n",
       "<script id=\"react-js\" src=\"https://www.infomoney.com.br/wp-includes/js/dist/vendor/react.min.js?ver=18.3.1.1\"></script>\n",
       "<script id=\"react-dom-js\" src=\"https://www.infomoney.com.br/wp-includes/js/dist/vendor/react-dom.min.js?ver=18.3.1.1\"></script>\n",
       "<script id=\"wp-hooks-js\" src=\"https://www.infomoney.com.br/wp-includes/js/dist/hooks.min.js?ver=4d63a3d491d11ffd8ac6\"></script>\n",
       "<script id=\"wp-i18n-js\" src=\"https://www.infomoney.com.br/wp-includes/js/dist/i18n.min.js?ver=5e580eb46a90c2b997e6\"></script>\n",
       "<script id=\"wp-i18n-js-after\">\n",
       "wp.i18n.setLocaleData( { 'text direction\\u0004ltr': [ 'ltr' ] } );\n",
       "</script>\n",
       "<script id=\"wp-polyfill-js\" src=\"https://www.infomoney.com.br/wp-includes/js/dist/vendor/wp-polyfill.min.js?ver=3.15.0\"></script>\n",
       "<script id=\"wp-url-js\" src=\"https://www.infomoney.com.br/wp-includes/js/dist/url.min.js?ver=e87eb76272a3a08402d2\"></script>\n",
       "<script id=\"wp-api-fetch-js-translations\">\n",
       "( function( domain, translations ) {\n",
       "\tvar localeData = translations.locale_data[ domain ] || translations.locale_data.messages;\n",
       "\tlocaleData[\"\"].domain = domain;\n",
       "\twp.i18n.setLocaleData( localeData, domain );\n",
       "} )( \"default\", {\"translation-revision-date\":\"2021-09-08 17:30:20+0000\",\"generator\":\"GlotPress\\/3.0.0-alpha.2\",\"domain\":\"messages\",\"locale_data\":{\"messages\":{\"\":{\"domain\":\"messages\",\"plural-forms\":\"nplurals=2; plural=n > 1;\",\"lang\":\"pt_BR\"},\"You are probably offline.\":[\"Voc\\u00ea provavelmente est\\u00e1 offline.\"],\"Media upload failed. If this is a photo or a large image, please scale it down and try again.\":[\"Falha ao enviar a m\\u00eddia. Se for uma foto ou imagem grande, reduza o tamanho e tente novamente.\"],\"The response is not a valid JSON response.\":[\"A resposta n\\u00e3o \\u00e9 um JSON v\\u00e1lido.\"],\"An unknown error occurred.\":[\"Um erro desconhecido ocorreu.\"]}},\"comment\":{\"reference\":\"wp-includes\\/js\\/dist\\/api-fetch.js\"}} );\n",
       "</script>\n",
       "<script id=\"wp-api-fetch-js\" src=\"https://www.infomoney.com.br/wp-includes/js/dist/api-fetch.min.js?ver=d387b816bc1ed2042e28\"></script>\n",
       "<script id=\"wp-api-fetch-js-after\">\n",
       "wp.apiFetch.use( wp.apiFetch.createRootURLMiddleware( \"https://www.infomoney.com.br/wp-json/\" ) );\n",
       "wp.apiFetch.nonceMiddleware = wp.apiFetch.createNonceMiddleware( \"7c1e25d2d0\" );\n",
       "wp.apiFetch.use( wp.apiFetch.nonceMiddleware );\n",
       "wp.apiFetch.use( wp.apiFetch.mediaUploadMiddleware );\n",
       "wp.apiFetch.nonceEndpoint = \"https://www.infomoney.com.br/wp-admin/admin-ajax.php?action=rest-nonce\";\n",
       "</script>\n",
       "<script defer=\"\" id=\"single-defer-js\" src=\"https://www.infomoney.com.br/wp-content/themes/infomoney/v2/build/single-post.js?ver=cc1a806daab48180eb21\"></script>\n",
       "<script async=\"\" data-wp-strategy=\"async\" id=\"infomoney-googletagservices-async-js\" src=\"https://securepubads.g.doubleclick.net/tag/js/gpt.js?ver=cc1a806daab48180eb21\"></script>\n",
       "<script async=\"\" id=\"infomoney-prebid-async-js\" src=\"https://www.infomoney.com.br/wp-content/themes/infomoney/js/prebid7.54.0-min.js?ver=cc1a806daab48180eb21\"></script>\n",
       "<link href=\"https://www.infomoney.com.br/wp-json/\" rel=\"https://api.w.org/\"><link href=\"https://www.infomoney.com.br/wp-json/wp/v2/posts/1360794\" rel=\"alternate\" title=\"JSON\" type=\"application/json\"><link href=\"https://www.infomoney.com.br/xmlrpc.php?rsd\" rel=\"EditURI\" title=\"RSD\" type=\"application/rsd+xml\">\n",
       "<meta content=\"WordPress 6.7.2\" name=\"generator\"/>\n",
       "<link href=\"https://www.infomoney.com.br/?p=1360794\" rel=\"shortlink\"/>\n",
       "<link href=\"https://www.infomoney.com.br/wp-json/oembed/1.0/embed?url=https%3A%2F%2Fwww.infomoney.com.br%2Fpolitica%2F10-pontos-para-entender-a-mp-905-e-por-que-ela-pode-ser-contestada-judicialmente%2F\" rel=\"alternate\" title=\"oEmbed (JSON)\" type=\"application/json+oembed\"/>\n",
       "<link href=\"https://www.infomoney.com.br/wp-json/oembed/1.0/embed?url=https%3A%2F%2Fwww.infomoney.com.br%2Fpolitica%2F10-pontos-para-entender-a-mp-905-e-por-que-ela-pode-ser-contestada-judicialmente%2F&amp;format=xml\" rel=\"alternate\" title=\"oEmbed (XML)\" type=\"text/xml+oembed\"/>\n",
       "<style>img#wpstats{display:none}</style>\n",
       "<link href=\"https://www.infomoney.com.br/politica/10-pontos-para-entender-a-mp-905-e-por-que-ela-pode-ser-contestada-judicialmente/amp/\" rel=\"amphtml\"/><link href=\"https://www.infomoney.com.br/wp-content/uploads/2019/10/IM-Favicon.png?fit=32%2C32&amp;quality=70&amp;strip=all\" rel=\"icon\" sizes=\"32x32\">\n",
       "<link href=\"https://www.infomoney.com.br/wp-content/uploads/2019/10/IM-Favicon.png?fit=128%2C128&amp;quality=70&amp;strip=all\" rel=\"icon\" sizes=\"192x192\"/>\n",
       "<link href=\"https://www.infomoney.com.br/wp-content/uploads/2019/10/IM-Favicon.png?fit=128%2C128&amp;quality=70&amp;strip=all\" rel=\"apple-touch-icon\"/>\n",
       "<meta content=\"https://www.infomoney.com.br/wp-content/uploads/2019/10/IM-Favicon.png?fit=128%2C128&amp;quality=70&amp;strip=all\" name=\"msapplication-TileImage\"/>\n",
       "<script>\n",
       "            window = window || {};\n",
       "            window.googletag = {cmd: []};\n",
       "            window.baseDataAnalytics = {\"tagging_version\":\"v2\",\"page\":{\"page_location\":\"https:\\/\\/www.infomoney.com.br\\/politica\\/10-pontos-para-entender-a-mp-905-e-por-que-ela-pode-ser-contestada-judicialmente\\/\",\"page_title\":\"Reforma Trabalhista de Bolsonaro: entenda a MP 905 - e por que ela pode ser contestada judicialmente\",\"category_primary\":\"Pol\\u00edtica\",\"category_secondary\":\"Economia\",\"tags\":\"CLT,Governo,Medida Provis\\u00f3ria\",\"author\":\"Pablo Santana\",\"id_article\":\"1360794\",\"dt_create\":\"2019-11-14\",\"dt_update\":\"2020-03-04\",\"content_type\":\"post\",\"word_count\":\"1286\"},\"user\":{\"user_id\":\"undefined\"}};\n",
       "            window.pbjs = {};\n",
       "            window.InfoMoneyPage = {\"primaryCategory\":\"Pol\\u00edtica\",\"tags\":[\"CLT\",\"Governo\",\"Medida Provis\\u00f3ria\"],\"host_name\":\"infomoney.com.br\",\"environment_tag\":\"prd\",\"googletagmanager_id\":\"GTM-T8M3XX2\",\"segment_key\":\"8vaBEpSZwImjrkWkH4bIrH2e68A9SwSa\",\"chartbeat_key\":\"66259\",\"base_api_user_manager\":\"https:\\/\\/apis.xpi.com.br\\/usermanager\\/api\\/v1\\/\"};\n",
       "        </script>\n",
       "<script>\n",
       "            window = window || {};\n",
       "            window.LgpdProxy = {\"baseUrl\":\"https:\\/\\/api-infomoney.xpi.com.br\\/mkt-infomoney-lgpd-proxy-apim\\/v1\",\"subscriptionKey\":\"2fffc27e83b94e829f9f8a3c71a40c6f\"};\n",
       "        </script>\n",
       "</link></link></link></link></link></link></link></link></link></link></link></link></link></meta></meta></head>\n",
       "<body class=\"font-im-sans antialiased color-im-base-darker\">\n",
       "<div data-ads-type=\"OutOfPage\" data-component-type=\"ads\"></div>\n",
       "<header data-ds-component=\"header\" id=\"siteHeader\">\n",
       "<div class=\"font-im-sans antialiased bg-wl-neutral-950 w-full\">\n",
       "<div class=\"flex justify-between items-center bg-wl-neutral-950 text-wl-white !px-6 lg:!px-16 !py-4\" data-ds-element=\"header-main\">\n",
       "<div class=\"flex items-center\">\n",
       "<button aria-label=\"Menu\" class=\"!mr-4\" data-ds-element=\"menu-toggle\" tabindex=\"0\" type=\"button\">\n",
       "<span class=\"sr-only\">Menu</span>\n",
       "<div class=\"w-6 h-6 lg:w-5 lg:h-5\">\n",
       "<div data-ds-element=\"icon\">\n",
       "<div data-ds-element=\"menu-hamburger\" title=\"Menu\">\n",
       "<span class=\"w-full h-full [&amp;&gt;svg]:w-full [&amp;&gt;svg]:h-full\"><svg fill=\"currentColor\" height=\"24\" viewbox=\"0 0 24 24\" width=\"24\" xmlns=\"http://www.w3.org/2000/svg\">\n",
       "<path d=\"M3 17H21C21.5523 17 22 17.4477 22 18C22 18.5128 21.614 18.9355 21.1166 18.9933L21 19H3C2.44772 19 2 18.5523 2 18C2 17.4872 2.38604 17.0645 2.88338 17.0067L3 17H21H3ZM2.99988 11L20.9999 10.9978C21.5522 10.9978 22 11.4454 22 11.9977C22 12.5106 21.6141 12.9333 21.1167 12.9911L21.0001 12.9978L3.00012 13C2.44784 13.0001 2 12.5524 2 12.0001C2 11.4873 2.38594 11.0646 2.88326 11.0067L2.99988 11L20.9999 10.9978L2.99988 11ZM3 5H21C21.5523 5 22 5.44772 22 6C22 6.51284 21.614 6.93551 21.1166 6.99327L21 7H3C2.44772 7 2 6.55228 2 6C2 5.48716 2.38604 5.06449 2.88338 5.00673L3 5H21H3Z\" fill=\"currentColor\"></path>\n",
       "</svg>\n",
       "</span> </div>\n",
       "<div class=\"hidden\" data-ds-element=\"menu-close\">\n",
       "<span class=\"w-full h-full [&amp;&gt;svg]:w-full [&amp;&gt;svg]:h-full\"><svg fill=\"none\" height=\"24\" viewbox=\"0 0 24 24\" width=\"24\" xmlns=\"http://www.w3.org/2000/svg\">\n",
       "<g clip-path=\"url(#clip0_789_536)\">\n",
       "<g clip-path=\"url(#clip1_789_536)\">\n",
       "<path d=\"M4.39705 4.7751L4.46967 4.69098C4.73594 4.42472 5.1526 4.40051 5.44621 4.61837L5.53033 4.69098L12 11.1603L18.4697 4.69098C18.7626 4.39809 19.2374 4.39809 19.5303 4.69098C19.8232 4.98388 19.8232 5.45875 19.5303 5.75164L13.061 12.2213L19.5303 18.691C19.7966 18.9572 19.8208 19.3739 19.6029 19.6675L19.5303 19.7516C19.2641 20.0179 18.8474 20.0421 18.5538 19.8243L18.4697 19.7516L12 13.2823L5.53033 19.7516C5.23744 20.0445 4.76256 20.0445 4.46967 19.7516C4.17678 19.4588 4.17678 18.9839 4.46967 18.691L10.939 12.2213L4.46967 5.75164C4.2034 5.48538 4.1792 5.06871 4.39705 4.7751L4.46967 4.69098L4.39705 4.7751Z\" fill=\"currentColor\"></path>\n",
       "</g>\n",
       "</g>\n",
       "<defs>\n",
       "<clippath id=\"clip0_789_536\">\n",
       "<rect fill=\"currentColor\" height=\"24\" width=\"24\"></rect>\n",
       "</clippath>\n",
       "<clippath id=\"clip1_789_536\">\n",
       "<rect fill=\"currentColor\" height=\"24\" width=\"24\"></rect>\n",
       "</clippath>\n",
       "</defs>\n",
       "</svg>\n",
       "</span> </div>\n",
       "</div>\n",
       "</div>\n",
       "</button>\n",
       "</div>\n",
       "<div class=\"mr-auto lg:!mr-0\">\n",
       "<a aria-label=\"Home\" href=\"https://www.infomoney.com.br\" tabindex=\"0\">\n",
       "<div class=\"h-6 lg:h-9\">\n",
       "<svg class=\"h-full\" fill=\"none\" viewbox=\"0 0 431 100\" xmlns=\"http://www.w3.org/2000/svg\">\n",
       "<path clip-rule=\"evenodd\" d=\"M290.856 28.864h-10.354s-5.869 20.277-6.976 22.715c0 0-6.589-17.895-7.586-22.715h-10.631s5.094 17.562 13.289 33.02c-.665 1.662-1.772 3.047-3.267 3.989-.72.443-1.495.775-2.326 1.052-.83.222-1.716.277-2.602.277h-3.71v8.31h6.202a16.4 16.4 0 0 0 2.381-.332c3.377-.72 6.422-2.549 8.582-5.263 9.136-10.859 16.888-40.942 16.888-40.942M178.29 52.853c-1.218 1.718-2.99 2.604-5.26 2.604s-4.042-.886-5.26-2.604c-1.218-1.773-1.883-4.1-1.883-7.091s.609-5.319 1.883-7.036c1.218-1.718 2.99-2.549 5.26-2.549s3.987.831 5.26 2.549c1.218 1.717 1.827 4.044 1.827 7.036s-.609 5.318-1.827 7.091m7.198-20.055c-1.55-1.552-3.377-2.826-5.426-3.601-2.104-.831-4.43-1.275-6.977-1.275s-4.817.444-6.921 1.275c-2.049.83-3.931 2.05-5.482 3.6-1.55 1.552-2.713 3.436-3.599 5.652-.885 2.216-1.273 4.653-1.273 7.313 0 2.659.443 5.152 1.273 7.368.831 2.216 2.049 4.155 3.544 5.706 1.495 1.607 3.322 2.77 5.426 3.657 2.104.831 4.43 1.274 7.032 1.274s4.984-.443 7.088-1.33c2.048-.83 3.931-2.05 5.426-3.656 1.495-1.551 2.658-3.49 3.488-5.706s1.218-4.654 1.218-7.369-.443-5.097-1.273-7.313a16.4 16.4 0 0 0-3.544-5.65m34.108-.389c-1.163-1.44-2.769-2.493-4.762-3.324q-2.99-1.163-7.475-1.163c-2.99 0-5.814.221-8.472.61-2.713.443-4.872.886-6.588 1.384v33.906h10.021V36.676c.609-.111 1.329-.166 2.16-.222.83-.055 1.55-.11 2.27-.11 2.325 0 3.931.664 4.762 1.994s1.273 3.601 1.273 6.814v18.615h10.022V43.933c0-2.382-.277-4.598-.72-6.537-.498-1.939-1.329-3.657-2.491-5.041m-78.902-8.808a266 266 0 0 0-3.267 6.925c-1.107 2.493-2.27 4.986-3.377 7.59-1.108 2.604-2.16 5.041-3.101 7.313-.997-2.272-1.993-4.71-3.156-7.313-1.107-2.549-2.215-5.097-3.378-7.59-1.052-2.327-2.159-4.599-3.266-6.925-.886-1.829-1.772-3.601-2.769-5.374h-10.963v45.595h10.465V37.064l1.218 2.548c.997 2.216 1.938 4.488 2.879 6.704s1.883 4.377 2.769 6.426l2.27 5.208h7.253a332 332 0 0 1 2.27-5.208c.886-2.05 1.828-4.155 2.769-6.426.941-2.216 1.938-4.488 2.879-6.704.388-.886.775-1.717 1.107-2.548v26.703h10.465V18.172h-10.354s-1.772 3.324-2.768 5.374\" fill=\"#fff\" fill-rule=\"evenodd\"></path>\n",
       "<path clip-rule=\"evenodd\" d=\"M234.545 39.945c.277-.776.665-1.496 1.219-2.106.553-.61 1.162-1.108 1.937-1.44.776-.388 1.772-.554 2.824-.554s2.104.221 2.88.61A6.04 6.04 0 0 1 246.45 40c.221.776.387 1.607.443 2.382h-12.957c.111-.83.333-1.662.609-2.437m8.915 15.567c-2.824 0-5.039-.554-6.7-1.772-1.661-1.164-2.602-2.77-2.824-4.71h22.259c0-.554.111-1.108.111-1.773s.055-1.274.055-1.828c0-5.762-1.44-10.083-4.263-13.074-2.88-2.937-6.756-4.433-11.683-4.433-4.928 0-4.208.388-6.146 1.164-1.994.776-3.766 1.939-5.316 3.435s-2.768 3.38-3.71 5.65c-.941 2.272-1.384 4.931-1.384 7.923s.388 4.82 1.107 6.98c.665 2.106 1.828 3.99 3.378 5.596 1.495 1.607 3.433 2.826 5.703 3.712 2.326.887 5.039 1.385 8.139 1.385 3.101 0 2.437-.055 3.71-.221 1.274-.167 2.381-.277 3.433-.499a82 82 0 0 0 2.935-.665c.277-.055.498-.166.775-.277V53.74c-1.108.498-2.492.886-4.208 1.163s-3.489.499-5.316.499M42.081 32.355c-1.163-1.441-2.769-2.494-4.762-3.325-1.993-.775-4.485-1.163-7.53-1.163s-5.814.221-8.472.61c-2.713.443-4.872.886-6.589 1.384v33.906H24.75V36.676c.61-.111 1.33-.166 2.16-.222s1.55-.11 2.27-.11c2.325 0 3.931.664 4.761 1.994s1.274 3.601 1.274 6.814v18.615h10.022V43.933c0-2.382-.277-4.598-.72-6.537-.498-1.939-1.329-3.657-2.492-5.041m50.497 20.498c-1.218 1.718-2.99 2.604-5.26 2.604s-4.042-.886-5.26-2.604c-1.218-1.773-1.882-4.1-1.882-7.091s.609-5.319 1.882-7.036c1.274-1.718 2.99-2.549 5.26-2.549s4.042.831 5.26 2.549c1.219 1.717 1.828 4.044 1.828 7.036s-.61 5.318-1.828 7.091m7.143-20.055c-1.55-1.552-3.377-2.826-5.426-3.601-2.104-.831-4.43-1.275-6.977-1.275s-4.761.444-6.92 1.275c-2.05.83-3.932 2.05-5.482 3.6-1.55 1.552-2.713 3.436-3.6 5.652q-1.328 3.323-1.328 7.313c0 2.659.443 5.152 1.273 7.368s2.049 4.155 3.544 5.706c1.495 1.607 3.322 2.77 5.426 3.657 2.104.831 4.43 1.274 7.032 1.274q3.903 0 7.143-1.33a15.7 15.7 0 0 0 5.426-3.656c1.495-1.551 2.658-3.49 3.488-5.706s1.218-4.654 1.218-7.369-.443-5.097-1.273-7.313c-.831-2.216-1.993-4.1-3.544-5.65M0 63.766h9.856V18.172H0z\" fill=\"#fff\" fill-rule=\"evenodd\"></path>\n",
       "<path clip-rule=\"evenodd\" d=\"M59.578 29.03c0-1.33.83-2.548 1.993-3.102.055 0 .11-.056.166-.11.11-.056.277-.112.388-.167.83-.277 1.66-.222 2.547-.222h7.198v-8.2H61.35c-6.645 0-12.071 5.209-12.126 11.635v34.959h10.243V41.108h11.019v-8.089H59.467v-3.933z\" fill=\"#fff\" fill-rule=\"evenodd\"></path>\n",
       "<path d=\"m292.296 77.673-.83-2.216 20.985-20.83c10.631-10.472 14.23-17.674 14.23-24.433s-6.368-12.964-14.23-12.964c-7.863 0-13.123 3.435-16.666 9.363l-2.215-.831c3.71-13.961 17.386-22.77 32.557-22.77S351.21 11.8 351.21 20.499s-5.371 13.795-21.262 25.817L315.33 57.34h22.757c7.752 0 14.23-4.432 17.109-12.3h2.492l-7.198 32.577h-58.194zm69.378 5.374c0-5.817 4.263-10.36 9.911-10.36s9.634 2.88 10.354 10.637c.941 10.194 3.045 13.795 9.524 13.795s13.953-7.036 13.953-20.277c0-13.24-7.586-19.89-17.774-19.89s-12.015 2.217-15.614 6.095l-6.091-3.601 6.479-54.072h38.038c8.14 0 11.573-1.94 13.123-5.374h2.215l-5.537 25.817h-47.009l-1.938 17.507c6.478-4.71 14.341-7.867 25.083-7.867 19.6 0 34.052 12.3 34.052 30.194 0 17.895-17.497 34.349-39.423 34.349s-29.346-9.806-29.346-16.953\" fill=\"#FD5E04\"></path>\n",
       "</svg>\n",
       "</div>\n",
       "</a>\n",
       "</div>\n",
       "<div data-ds-element=\"cta\">\n",
       "<div class=\"lg:hidden\">\n",
       "<a aria-label=\"Planilha de FIIs\" class=\"flex items-center text-center gap-2 justify-center rounded-full shrink-0 text-white disabled:text-wl-neutral-400 bg-wl-action-link hover:bg-wl-action-link-hover disabled:bg-wl-neutral-200 px-6 py-2 text-sm font-medium\" data-ds-component=\"button\" data-ds-variant=\"primary\" href=\"https://xpg.redplatform.com.br/r/infomoney/planilha-viver-de-renda?utm_source=infomoney&amp;utm_medium=botao&amp;utm_campaign=pfi&amp;utm_term=hiperlink&amp;utm_content=header\" tabindex=\"0\" target=\"_blank\">\n",
       "            Planilha de FIIs                    </a>\n",
       "</div>\n",
       "<div class=\"hidden lg:block\">\n",
       "<a aria-label=\"Planilha de FIIs\" class=\"flex items-center text-center gap-2 justify-center rounded-full shrink-0 text-white disabled:text-wl-neutral-400 bg-wl-action-link hover:bg-wl-action-link-hover disabled:bg-wl-neutral-200 px-6 py-2 text-sm font-medium\" data-ds-component=\"button\" data-ds-variant=\"primary\" href=\"https://xpg.redplatform.com.br/r/infomoney/planilha-viver-de-renda?utm_source=infomoney&amp;utm_medium=botao&amp;utm_campaign=pfi&amp;utm_term=hiperlink&amp;utm_content=header\" tabindex=\"0\" target=\"_blank\">\n",
       "            Planilha de FIIs                    </a>\n",
       "</div>\n",
       "</div>\n",
       "</div>\n",
       "<div class=\"relative h-max text-base z-10 lg:text-lg\" data-ds-component=\"side-menu\">\n",
       "<div class=\"fixed overflow-x-hidden scrollbar-thin left-0 w-full max-w-[393px] transition-all overflow-y-scroll duration-200 transform -translate-x-full bg-white shadow-lg\" data-ds-element=\"menu-drawer\">\n",
       "<div class=\"flex transition-transform duration-200\" data-ds-element=\"menu-screens\">\n",
       "<div class=\"flex-grow shrink-0 basis-full\" data-ds-element=\"menu-top-level\">\n",
       "<nav>\n",
       "<ul class=\"border-b border-b-wl-neutral-200 p-6 space-y-6\">\n",
       "<li>\n",
       "<a aria-label=\"Fazer login\" class=\"group flex items-center text-wl-neutral-950 hover:no-underline\" href=\"https://www.infomoney.com.br/authentication/sign-in/\">\n",
       "<div class=\"w-6 h-6 mr-2\">\n",
       "<span class=\"w-full h-full [&amp;&gt;svg]:w-full [&amp;&gt;svg]:h-full\"><svg fill=\"none\" height=\"24\" viewbox=\"0 0 24 24\" width=\"24\" xmlns=\"http://www.w3.org/2000/svg\">\n",
       "<path d=\"M17.7542 13.9999C18.9962 13.9999 20.003 15.0068 20.003 16.2488V16.8242C20.003 17.7185 19.6835 18.5833 19.1019 19.2627C17.5326 21.0962 15.1454 22.0011 12 22.0011C8.85414 22.0011 6.46812 21.0959 4.90182 19.2617C4.32206 18.5828 4.00354 17.7193 4.00354 16.8265V16.2488C4.00354 15.0068 5.0104 13.9999 6.25242 13.9999H17.7542ZM17.7542 15.4999H6.25242C5.83882 15.4999 5.50354 15.8352 5.50354 16.2488V16.8265C5.50354 17.3622 5.69465 17.8802 6.04251 18.2876C7.29582 19.7553 9.26169 20.5011 12 20.5011C14.7383 20.5011 16.7059 19.7553 17.9624 18.2873C18.3113 17.8797 18.503 17.3608 18.503 16.8242V16.2488C18.503 15.8352 18.1678 15.4999 17.7542 15.4999ZM12 2.00464C14.7614 2.00464 17 4.24321 17 7.00464C17 9.76606 14.7614 12.0046 12 12.0046C9.23857 12.0046 7 9.76606 7 7.00464C7 4.24321 9.23857 2.00464 12 2.00464ZM12 3.50464C10.067 3.50464 8.5 5.07164 8.5 7.00464C8.5 8.93764 10.067 10.5046 12 10.5046C13.933 10.5046 15.5 8.93764 15.5 7.00464C15.5 5.07164 13.933 3.50464 12 3.50464Z\" fill=\"currentColor\"></path>\n",
       "</svg>\n",
       "</span> </div>\n",
       "<span class=\"font-semibold group-hover:underline underline-offset-4\">Fazer login</span>\n",
       "</a>\n",
       "</li>\n",
       "</ul>\n",
       "<ul class=\"border-b border-b-wl-neutral-200 p-6 space-y-6\" data-ds-element=\"hot-topics-menu\">\n",
       "<li>\n",
       "<a aria-label=\"Manual dos Dividendos\" class=\"text-wl-neutral-950 group flex items-center hover:no-underline\" href=\"https://www.google.com/url?q=https://lps.infomoney.com.br/manual-dividendos-guia-definitivo-inscricao/?utm_source%3Dinfomoney%26utm_medium%3Dhot-topic%26utm_campaign%3Dmdd%26utm_term%3Dhiperlink%26utm_content%3Dmenu&amp;sa=D&amp;source=editors&amp;ust=1742912709163079&amp;usg=AOvVaw2SBbthPzqhVVVkn7JAfssH\">\n",
       "<div class=\"w-6 h-6 mr-2\">\n",
       "<span class=\"w-full h-full [&amp;&gt;svg]:w-full [&amp;&gt;svg]:h-full\"><svg fill=\"none\" height=\"24\" viewbox=\"0 0 24 24\" width=\"24\" xmlns=\"http://www.w3.org/2000/svg\">\n",
       "<path d=\"M12.5383 4.29449C12.8615 4.05075 13.182 3.86356 13.4688 3.73169C13.5555 5.85881 14.5955 7.45829 15.5965 8.87109C15.6881 9.00031 15.779 9.12767 15.8688 9.25354C16.9522 10.7721 17.8801 12.0725 17.9813 13.794C18.0979 15.7759 17.6036 17.4514 16.6453 18.6176C15.6986 19.7696 14.2385 20.5 12.25 20.5C10.1887 20.5 8.6396 19.9712 7.55849 19.0843C6.48244 18.2015 5.79472 16.9026 5.56502 15.2123C5.33902 13.5492 5.74149 12.3672 6.17625 11.6092C6.26176 11.4601 6.34906 11.3266 6.43394 11.2084L6.74894 11.8066C7.29998 12.8532 8.57839 13.2789 9.64684 12.7716C10.9525 12.1516 11.2311 10.5595 10.8165 9.4416C10.5264 8.65954 10.3721 7.70456 10.7077 6.74841C11.084 5.67629 11.7985 4.85253 12.5383 4.29449ZM6.15636 9.3231L6.15395 9.32491L6.15 9.3279L6.13963 9.33586C6.13164 9.34204 6.12151 9.34999 6.10942 9.35973C6.08524 9.37919 6.05314 9.40581 6.01442 9.43966C5.93703 9.50732 5.83284 9.6042 5.71236 9.73104C5.47171 9.98437 5.16368 10.3598 4.8751 10.8629C4.29291 11.8779 3.80368 13.3906 4.07868 15.4142C4.34997 17.4107 5.18833 19.0801 6.60711 20.244C8.02084 21.4038 9.93533 22 12.25 22C14.6375 22 16.5425 21.1054 17.8042 19.5699C19.0544 18.0486 19.6122 15.9741 19.4787 13.706C19.3508 11.5302 18.1656 9.87945 17.1188 8.42123C17.0177 8.28043 16.9179 8.14142 16.8205 8.00391C15.6785 6.39222 14.7768 4.90657 14.9959 2.82863C15.0182 2.61721 14.9497 2.40625 14.8075 2.24824C14.6652 2.09023 14.4626 2 14.25 2C13.868 2 13.4309 2.11822 13.0077 2.29599C12.5715 2.47923 12.0984 2.74751 11.6351 3.09694C10.7104 3.79438 9.78589 4.84563 9.29236 6.25159C8.80006 7.65409 9.04947 8.99089 9.41008 9.9632C9.64689 10.6017 9.39005 11.233 9.00347 11.4165C8.66159 11.5789 8.25252 11.4427 8.07619 11.1078L7.26887 9.57452C7.16673 9.38052 6.98481 9.24093 6.77099 9.19248C6.55717 9.14403 6.33215 9.19209 6.15636 9.3231Z\" fill=\"currentColor\"></path>\n",
       "</svg>\n",
       "</span> </div>\n",
       "<span class=\"font-semibold group-hover:underline underline-offset-4\">\n",
       "                                                Manual dos Dividendos                                            </span>\n",
       "</a>\n",
       "</li>\n",
       "<li>\n",
       "<a aria-label=\"Onde Investir em Renda Fixa\" class=\"text-wl-neutral-950 group flex items-center hover:no-underline\" href=\"https://lps.infomoney.com.br/carteira-renda-fixa-inscricao?utm_source=infomoney&amp;utm_medium=hot-topic&amp;utm_campaign=crf&amp;utm_term=hiperlink&amp;utm_content=menu\">\n",
       "<div class=\"w-6 h-6 mr-2\">\n",
       "<span class=\"w-full h-full [&amp;&gt;svg]:w-full [&amp;&gt;svg]:h-full\"><svg fill=\"none\" height=\"24\" viewbox=\"0 0 24 24\" width=\"24\" xmlns=\"http://www.w3.org/2000/svg\">\n",
       "<path d=\"M12.5383 4.29449C12.8615 4.05075 13.182 3.86356 13.4688 3.73169C13.5555 5.85881 14.5955 7.45829 15.5965 8.87109C15.6881 9.00031 15.779 9.12767 15.8688 9.25354C16.9522 10.7721 17.8801 12.0725 17.9813 13.794C18.0979 15.7759 17.6036 17.4514 16.6453 18.6176C15.6986 19.7696 14.2385 20.5 12.25 20.5C10.1887 20.5 8.6396 19.9712 7.55849 19.0843C6.48244 18.2015 5.79472 16.9026 5.56502 15.2123C5.33902 13.5492 5.74149 12.3672 6.17625 11.6092C6.26176 11.4601 6.34906 11.3266 6.43394 11.2084L6.74894 11.8066C7.29998 12.8532 8.57839 13.2789 9.64684 12.7716C10.9525 12.1516 11.2311 10.5595 10.8165 9.4416C10.5264 8.65954 10.3721 7.70456 10.7077 6.74841C11.084 5.67629 11.7985 4.85253 12.5383 4.29449ZM6.15636 9.3231L6.15395 9.32491L6.15 9.3279L6.13963 9.33586C6.13164 9.34204 6.12151 9.34999 6.10942 9.35973C6.08524 9.37919 6.05314 9.40581 6.01442 9.43966C5.93703 9.50732 5.83284 9.6042 5.71236 9.73104C5.47171 9.98437 5.16368 10.3598 4.8751 10.8629C4.29291 11.8779 3.80368 13.3906 4.07868 15.4142C4.34997 17.4107 5.18833 19.0801 6.60711 20.244C8.02084 21.4038 9.93533 22 12.25 22C14.6375 22 16.5425 21.1054 17.8042 19.5699C19.0544 18.0486 19.6122 15.9741 19.4787 13.706C19.3508 11.5302 18.1656 9.87945 17.1188 8.42123C17.0177 8.28043 16.9179 8.14142 16.8205 8.00391C15.6785 6.39222 14.7768 4.90657 14.9959 2.82863C15.0182 2.61721 14.9497 2.40625 14.8075 2.24824C14.6652 2.09023 14.4626 2 14.25 2C13.868 2 13.4309 2.11822 13.0077 2.29599C12.5715 2.47923 12.0984 2.74751 11.6351 3.09694C10.7104 3.79438 9.78589 4.84563 9.29236 6.25159C8.80006 7.65409 9.04947 8.99089 9.41008 9.9632C9.64689 10.6017 9.39005 11.233 9.00347 11.4165C8.66159 11.5789 8.25252 11.4427 8.07619 11.1078L7.26887 9.57452C7.16673 9.38052 6.98481 9.24093 6.77099 9.19248C6.55717 9.14403 6.33215 9.19209 6.15636 9.3231Z\" fill=\"currentColor\"></path>\n",
       "</svg>\n",
       "</span> </div>\n",
       "<span class=\"font-semibold group-hover:underline underline-offset-4\">\n",
       "                                                Onde Investir em Renda Fixa                                            </span>\n",
       "</a>\n",
       "</li>\n",
       "<li>\n",
       "<a aria-label=\"Aceleradora X\" class=\"text-wl-neutral-950 group flex items-center hover:no-underline\" href=\"https://aceleradorax.xpeducacao.com.br/workshop?utm_source=infomoney&amp;utm_medium=hot-topic&amp;utm_campaign=cursos-livres_aceleradora-x&amp;utm_term=hiperlink&amp;utm_content=menu\">\n",
       "<div class=\"w-6 h-6 mr-2\">\n",
       "<span class=\"w-full h-full [&amp;&gt;svg]:w-full [&amp;&gt;svg]:h-full\"><svg fill=\"none\" height=\"24\" viewbox=\"0 0 24 24\" width=\"24\" xmlns=\"http://www.w3.org/2000/svg\">\n",
       "<path d=\"M12.5383 4.29449C12.8615 4.05075 13.182 3.86356 13.4688 3.73169C13.5555 5.85881 14.5955 7.45829 15.5965 8.87109C15.6881 9.00031 15.779 9.12767 15.8688 9.25354C16.9522 10.7721 17.8801 12.0725 17.9813 13.794C18.0979 15.7759 17.6036 17.4514 16.6453 18.6176C15.6986 19.7696 14.2385 20.5 12.25 20.5C10.1887 20.5 8.6396 19.9712 7.55849 19.0843C6.48244 18.2015 5.79472 16.9026 5.56502 15.2123C5.33902 13.5492 5.74149 12.3672 6.17625 11.6092C6.26176 11.4601 6.34906 11.3266 6.43394 11.2084L6.74894 11.8066C7.29998 12.8532 8.57839 13.2789 9.64684 12.7716C10.9525 12.1516 11.2311 10.5595 10.8165 9.4416C10.5264 8.65954 10.3721 7.70456 10.7077 6.74841C11.084 5.67629 11.7985 4.85253 12.5383 4.29449ZM6.15636 9.3231L6.15395 9.32491L6.15 9.3279L6.13963 9.33586C6.13164 9.34204 6.12151 9.34999 6.10942 9.35973C6.08524 9.37919 6.05314 9.40581 6.01442 9.43966C5.93703 9.50732 5.83284 9.6042 5.71236 9.73104C5.47171 9.98437 5.16368 10.3598 4.8751 10.8629C4.29291 11.8779 3.80368 13.3906 4.07868 15.4142C4.34997 17.4107 5.18833 19.0801 6.60711 20.244C8.02084 21.4038 9.93533 22 12.25 22C14.6375 22 16.5425 21.1054 17.8042 19.5699C19.0544 18.0486 19.6122 15.9741 19.4787 13.706C19.3508 11.5302 18.1656 9.87945 17.1188 8.42123C17.0177 8.28043 16.9179 8.14142 16.8205 8.00391C15.6785 6.39222 14.7768 4.90657 14.9959 2.82863C15.0182 2.61721 14.9497 2.40625 14.8075 2.24824C14.6652 2.09023 14.4626 2 14.25 2C13.868 2 13.4309 2.11822 13.0077 2.29599C12.5715 2.47923 12.0984 2.74751 11.6351 3.09694C10.7104 3.79438 9.78589 4.84563 9.29236 6.25159C8.80006 7.65409 9.04947 8.99089 9.41008 9.9632C9.64689 10.6017 9.39005 11.233 9.00347 11.4165C8.66159 11.5789 8.25252 11.4427 8.07619 11.1078L7.26887 9.57452C7.16673 9.38052 6.98481 9.24093 6.77099 9.19248C6.55717 9.14403 6.33215 9.19209 6.15636 9.3231Z\" fill=\"currentColor\"></path>\n",
       "</svg>\n",
       "</span> </div>\n",
       "<span class=\"font-semibold group-hover:underline underline-offset-4\">\n",
       "                                                Aceleradora X                                            </span>\n",
       "</a>\n",
       "</li>\n",
       "<li>\n",
       "<div data-ad-type=\"SideMenu\" data-ds-component=\"ad\">\n",
       "<div data-ads-type=\"SideMenu\" data-component-type=\"ads\"></div>\n",
       "</div>\n",
       "</li>\n",
       "</ul>\n",
       "<ul class=\"border-b border-b-wl-neutral-200 p-6 space-y-6\">\n",
       "<li>\n",
       "<a aria-label=\"Últimas Notícias\" class=\"text-wl-neutral-950 group flex items-center hover:no-underline\" href=\"https://www.infomoney.com.br/ultimas-noticias/\">\n",
       "<span class=\"font-semibold group-hover:underline underline-offset-4\">\n",
       "                                                Últimas Notícias                                            </span>\n",
       "</a>\n",
       "</li>\n",
       "<li>\n",
       "<a aria-label=\"Mercados\" class=\"text-wl-neutral-950 group flex items-center hover:no-underline\" href=\"https://www.infomoney.com.br/mercados/\">\n",
       "<span class=\"font-semibold group-hover:underline underline-offset-4\">\n",
       "                                                Mercados                                            </span>\n",
       "</a>\n",
       "</li>\n",
       "<li>\n",
       "<a aria-label=\"Onde Investir\" class=\"text-wl-neutral-950 group flex items-center hover:no-underline\" href=\"https://www.infomoney.com.br/onde-investir/\">\n",
       "<span class=\"font-semibold group-hover:underline underline-offset-4\">\n",
       "                                                Onde Investir                                            </span>\n",
       "</a>\n",
       "</li>\n",
       "<li>\n",
       "<a aria-label=\"Política\" class=\"text-wl-neutral-950 group flex items-center hover:no-underline\" href=\"https://www.infomoney.com.br/politica/\">\n",
       "<span class=\"font-semibold group-hover:underline underline-offset-4\">\n",
       "                                                Política                                            </span>\n",
       "</a>\n",
       "</li>\n",
       "<li>\n",
       "<a aria-label=\"Economia\" class=\"text-wl-neutral-950 group flex items-center hover:no-underline\" href=\"https://www.infomoney.com.br/economia/\">\n",
       "<span class=\"font-semibold group-hover:underline underline-offset-4\">\n",
       "                                                Economia                                            </span>\n",
       "</a>\n",
       "</li>\n",
       "<li>\n",
       "<a aria-label=\"Mundo\" class=\"text-wl-neutral-950 group flex items-center hover:no-underline\" href=\"https://www.infomoney.com.br/mundo/\">\n",
       "<span class=\"font-semibold group-hover:underline underline-offset-4\">\n",
       "                                                Mundo                                            </span>\n",
       "</a>\n",
       "</li>\n",
       "<li>\n",
       "<a aria-label=\"Business\" class=\"text-wl-neutral-950 group flex items-center hover:no-underline\" href=\"https://www.infomoney.com.br/business/\">\n",
       "<span class=\"font-semibold group-hover:underline underline-offset-4\">\n",
       "                                                Business                                            </span>\n",
       "</a>\n",
       "</li>\n",
       "<li>\n",
       "<a aria-label=\"Advisor\" class=\"text-wl-neutral-950 group flex items-center hover:no-underline\" href=\"https://www.infomoney.com.br/advisor/\">\n",
       "<span class=\"font-semibold group-hover:underline underline-offset-4\">\n",
       "                                                Advisor                                            </span>\n",
       "</a>\n",
       "</li>\n",
       "<li>\n",
       "<a aria-label=\"Trader\" class=\"text-wl-neutral-950 group flex items-center hover:no-underline\" href=\"https://www.infomoney.com.br/tudo-sobre/trader/\">\n",
       "<span class=\"font-semibold group-hover:underline underline-offset-4\">\n",
       "                                                Trader                                            </span>\n",
       "</a>\n",
       "</li>\n",
       "<li>\n",
       "<a aria-label=\"Minhas Finanças\" class=\"text-wl-neutral-950 group flex items-center hover:no-underline\" href=\"https://www.infomoney.com.br/minhas-financas/\">\n",
       "<span class=\"font-semibold group-hover:underline underline-offset-4\">\n",
       "                                                Minhas Finanças                                            </span>\n",
       "</a>\n",
       "</li>\n",
       "<li>\n",
       "<a aria-label=\"Consumo\" class=\"text-wl-neutral-950 group flex items-center hover:no-underline\" href=\"https://www.infomoney.com.br/consumo/\">\n",
       "<span class=\"font-semibold group-hover:underline underline-offset-4\">\n",
       "                                                Consumo                                            </span>\n",
       "</a>\n",
       "</li>\n",
       "<li>\n",
       "<a aria-label=\"Esportes\" class=\"text-wl-neutral-950 group flex items-center hover:no-underline\" href=\"https://www.infomoney.com.br/esportes/\">\n",
       "<span class=\"font-semibold group-hover:underline underline-offset-4\">\n",
       "                                                Esportes                                            </span>\n",
       "</a>\n",
       "</li>\n",
       "<li>\n",
       "<a aria-label=\"Carreira\" class=\"text-wl-neutral-950 group flex items-center hover:no-underline\" href=\"https://www.infomoney.com.br/carreira/\">\n",
       "<span class=\"font-semibold group-hover:underline underline-offset-4\">\n",
       "                                                Carreira                                            </span>\n",
       "</a>\n",
       "</li>\n",
       "<li>\n",
       "<a aria-label=\"Global\" class=\"text-wl-neutral-950 group flex items-center hover:no-underline\" href=\"https://www.infomoney.com.br/business/global/\">\n",
       "<span class=\"font-semibold group-hover:underline underline-offset-4\">\n",
       "                                                Global                                            </span>\n",
       "</a>\n",
       "</li>\n",
       "<li>\n",
       "<a aria-label=\"Brasil\" class=\"text-wl-neutral-950 group flex items-center hover:no-underline\" href=\"https://www.infomoney.com.br/brasil/\">\n",
       "<span class=\"font-semibold group-hover:underline underline-offset-4\">\n",
       "                                                Brasil                                            </span>\n",
       "</a>\n",
       "</li>\n",
       "<li>\n",
       "<a aria-label=\"Saúde\" class=\"text-wl-neutral-950 group flex items-center hover:no-underline\" href=\"https://www.infomoney.com.br/saude/\">\n",
       "<span class=\"font-semibold group-hover:underline underline-offset-4\">\n",
       "                                                Saúde                                            </span>\n",
       "</a>\n",
       "</li>\n",
       "</ul>\n",
       "<ul>\n",
       "<li class=\"shadow-[1px_1px_0_0_theme(colors.wl-neutral-200),0_1px_0_0_theme(colors.wl-neutral-200)_inset]\" data-has-children=\"true\">\n",
       "<a aria-label=\"Cotações e indicadores\" class=\"text-wl-neutral-950 group flex items-center p-6 hover:no-underline\" href=\"#\">\n",
       "<span class=\"flex-grow font-semibold group-hover:underline underline-offset-4\">\n",
       "                                                Cotações e indicadores                                            </span>\n",
       "<div class=\"w-6 h-6\">\n",
       "<span class=\"w-full h-full [&amp;&gt;svg]:w-full [&amp;&gt;svg]:h-full\"><svg fill=\"none\" height=\"24\" viewbox=\"0 0 24 24\" width=\"24\" xmlns=\"http://www.w3.org/2000/svg\">\n",
       "<path d=\"M8.29289 4.29289C7.90237 4.68342 7.90237 5.31658 8.29289 5.70711L14.5858 12L8.29289 18.2929C7.90237 18.6834 7.90237 19.3166 8.29289 19.7071C8.68342 20.0976 9.31658 20.0976 9.70711 19.7071L16.7071 12.7071C17.0976 12.3166 17.0976 11.6834 16.7071 11.2929L9.70711 4.29289C9.31658 3.90237 8.68342 3.90237 8.29289 4.29289Z\" fill=\"currentColor\"></path>\n",
       "</svg>\n",
       "</span> </div>\n",
       "</a>\n",
       "<ul class=\"sr-only p-6 space-y-6\" data-ds-element=\"submenu\">\n",
       "<li>\n",
       "<a aria-label=\"Ibovespa\" class=\"text-wl-neutral-950 flex items-center group hover:no-underline\" href=\"/cotacoes/b3/indice/ibovespa/\">\n",
       "<span class=\"mr-2 font-semibold group-hover:underline underline-offset-4\">\n",
       "                                                                Ibovespa                                                            </span>\n",
       "<div class=\"w-4 h-4\">\n",
       "<span class=\"w-full h-full [&amp;&gt;svg]:w-full [&amp;&gt;svg]:h-full\"><svg fill=\"none\" height=\"16\" viewbox=\"0 0 16 16\" width=\"16\" xmlns=\"http://www.w3.org/2000/svg\">\n",
       "<path d=\"M2 7.99997C2 7.58576 2.33579 7.24997 2.75 7.24997L11.537 7.24997L8.24991 4.30891C7.94122 4.03271 7.91488 3.55857 8.19107 3.24988C8.46727 2.94119 8.94141 2.91485 9.2501 3.19105L14.0001 7.44104C14.1591 7.58332 14.25 7.7866 14.25 7.99997C14.25 8.21335 14.1591 8.41663 14.0001 8.5589L9.2501 12.8089C8.94141 13.0851 8.46727 13.0588 8.19107 12.7501C7.91488 12.4414 7.94122 11.9672 8.24991 11.691L11.537 8.74997L2.75 8.74997C2.33579 8.74997 2 8.41419 2 7.99997Z\" fill=\"currentColor\"></path>\n",
       "</svg>\n",
       "</span> </div>\n",
       "</a>\n",
       "</li>\n",
       "<li>\n",
       "<a aria-label=\"Altas e Baixas\" class=\"text-wl-neutral-950 flex items-center group hover:no-underline\" href=\"/ferramentas/altas-e-baixas/\">\n",
       "<span class=\"mr-2 font-semibold group-hover:underline underline-offset-4\">\n",
       "                                                                Altas e Baixas                                                            </span>\n",
       "<div class=\"w-4 h-4\">\n",
       "<span class=\"w-full h-full [&amp;&gt;svg]:w-full [&amp;&gt;svg]:h-full\"><svg fill=\"none\" height=\"16\" viewbox=\"0 0 16 16\" width=\"16\" xmlns=\"http://www.w3.org/2000/svg\">\n",
       "<path d=\"M2 7.99997C2 7.58576 2.33579 7.24997 2.75 7.24997L11.537 7.24997L8.24991 4.30891C7.94122 4.03271 7.91488 3.55857 8.19107 3.24988C8.46727 2.94119 8.94141 2.91485 9.2501 3.19105L14.0001 7.44104C14.1591 7.58332 14.25 7.7866 14.25 7.99997C14.25 8.21335 14.1591 8.41663 14.0001 8.5589L9.2501 12.8089C8.94141 13.0851 8.46727 13.0588 8.19107 12.7501C7.91488 12.4414 7.94122 11.9672 8.24991 11.691L11.537 8.74997L2.75 8.74997C2.33579 8.74997 2 8.41419 2 7.99997Z\" fill=\"currentColor\"></path>\n",
       "</svg>\n",
       "</span> </div>\n",
       "</a>\n",
       "</li>\n",
       "<li>\n",
       "<a aria-label=\"Dólar e Moedas\" class=\"text-wl-neutral-950 flex items-center group hover:no-underline\" href=\"/ferramentas/cambio/\">\n",
       "<span class=\"mr-2 font-semibold group-hover:underline underline-offset-4\">\n",
       "                                                                Dólar e Moedas                                                            </span>\n",
       "<div class=\"w-4 h-4\">\n",
       "<span class=\"w-full h-full [&amp;&gt;svg]:w-full [&amp;&gt;svg]:h-full\"><svg fill=\"none\" height=\"16\" viewbox=\"0 0 16 16\" width=\"16\" xmlns=\"http://www.w3.org/2000/svg\">\n",
       "<path d=\"M2 7.99997C2 7.58576 2.33579 7.24997 2.75 7.24997L11.537 7.24997L8.24991 4.30891C7.94122 4.03271 7.91488 3.55857 8.19107 3.24988C8.46727 2.94119 8.94141 2.91485 9.2501 3.19105L14.0001 7.44104C14.1591 7.58332 14.25 7.7866 14.25 7.99997C14.25 8.21335 14.1591 8.41663 14.0001 8.5589L9.2501 12.8089C8.94141 13.0851 8.46727 13.0588 8.19107 12.7501C7.91488 12.4414 7.94122 11.9672 8.24991 11.691L11.537 8.74997L2.75 8.74997C2.33579 8.74997 2 8.41419 2 7.99997Z\" fill=\"currentColor\"></path>\n",
       "</svg>\n",
       "</span> </div>\n",
       "</a>\n",
       "</li>\n",
       "<li>\n",
       "<a aria-label=\"Criptos\" class=\"text-wl-neutral-950 flex items-center group hover:no-underline\" href=\"/cotacoes/cripto/\">\n",
       "<span class=\"mr-2 font-semibold group-hover:underline underline-offset-4\">\n",
       "                                                                Criptos                                                            </span>\n",
       "<div class=\"w-4 h-4\">\n",
       "<span class=\"w-full h-full [&amp;&gt;svg]:w-full [&amp;&gt;svg]:h-full\"><svg fill=\"none\" height=\"16\" viewbox=\"0 0 16 16\" width=\"16\" xmlns=\"http://www.w3.org/2000/svg\">\n",
       "<path d=\"M2 7.99997C2 7.58576 2.33579 7.24997 2.75 7.24997L11.537 7.24997L8.24991 4.30891C7.94122 4.03271 7.91488 3.55857 8.19107 3.24988C8.46727 2.94119 8.94141 2.91485 9.2501 3.19105L14.0001 7.44104C14.1591 7.58332 14.25 7.7866 14.25 7.99997C14.25 8.21335 14.1591 8.41663 14.0001 8.5589L9.2501 12.8089C8.94141 13.0851 8.46727 13.0588 8.19107 12.7501C7.91488 12.4414 7.94122 11.9672 8.24991 11.691L11.537 8.74997L2.75 8.74997C2.33579 8.74997 2 8.41419 2 7.99997Z\" fill=\"currentColor\"></path>\n",
       "</svg>\n",
       "</span> </div>\n",
       "</a>\n",
       "</li>\n",
       "<li>\n",
       "<a aria-label=\"BDRs\" class=\"text-wl-neutral-950 flex items-center group hover:no-underline\" href=\"/cotacoes/b3/bdr/\">\n",
       "<span class=\"mr-2 font-semibold group-hover:underline underline-offset-4\">\n",
       "                                                                BDRs                                                            </span>\n",
       "<div class=\"w-4 h-4\">\n",
       "<span class=\"w-full h-full [&amp;&gt;svg]:w-full [&amp;&gt;svg]:h-full\"><svg fill=\"none\" height=\"16\" viewbox=\"0 0 16 16\" width=\"16\" xmlns=\"http://www.w3.org/2000/svg\">\n",
       "<path d=\"M2 7.99997C2 7.58576 2.33579 7.24997 2.75 7.24997L11.537 7.24997L8.24991 4.30891C7.94122 4.03271 7.91488 3.55857 8.19107 3.24988C8.46727 2.94119 8.94141 2.91485 9.2501 3.19105L14.0001 7.44104C14.1591 7.58332 14.25 7.7866 14.25 7.99997C14.25 8.21335 14.1591 8.41663 14.0001 8.5589L9.2501 12.8089C8.94141 13.0851 8.46727 13.0588 8.19107 12.7501C7.91488 12.4414 7.94122 11.9672 8.24991 11.691L11.537 8.74997L2.75 8.74997C2.33579 8.74997 2 8.41419 2 7.99997Z\" fill=\"currentColor\"></path>\n",
       "</svg>\n",
       "</span> </div>\n",
       "</a>\n",
       "</li>\n",
       "<li>\n",
       "<a aria-label=\"ETFs\" class=\"text-wl-neutral-950 flex items-center group hover:no-underline\" href=\"/cotacoes/b3/etf/\">\n",
       "<span class=\"mr-2 font-semibold group-hover:underline underline-offset-4\">\n",
       "                                                                ETFs                                                            </span>\n",
       "<div class=\"w-4 h-4\">\n",
       "<span class=\"w-full h-full [&amp;&gt;svg]:w-full [&amp;&gt;svg]:h-full\"><svg fill=\"none\" height=\"16\" viewbox=\"0 0 16 16\" width=\"16\" xmlns=\"http://www.w3.org/2000/svg\">\n",
       "<path d=\"M2 7.99997C2 7.58576 2.33579 7.24997 2.75 7.24997L11.537 7.24997L8.24991 4.30891C7.94122 4.03271 7.91488 3.55857 8.19107 3.24988C8.46727 2.94119 8.94141 2.91485 9.2501 3.19105L14.0001 7.44104C14.1591 7.58332 14.25 7.7866 14.25 7.99997C14.25 8.21335 14.1591 8.41663 14.0001 8.5589L9.2501 12.8089C8.94141 13.0851 8.46727 13.0588 8.19107 12.7501C7.91488 12.4414 7.94122 11.9672 8.24991 11.691L11.537 8.74997L2.75 8.74997C2.33579 8.74997 2 8.41419 2 7.99997Z\" fill=\"currentColor\"></path>\n",
       "</svg>\n",
       "</span> </div>\n",
       "</a>\n",
       "</li>\n",
       "<li>\n",
       "<a aria-label=\"FIIs\" class=\"text-wl-neutral-950 flex items-center group hover:no-underline\" href=\"/cotacoes/b3/fii/\">\n",
       "<span class=\"mr-2 font-semibold group-hover:underline underline-offset-4\">\n",
       "                                                                FIIs                                                            </span>\n",
       "<div class=\"w-4 h-4\">\n",
       "<span class=\"w-full h-full [&amp;&gt;svg]:w-full [&amp;&gt;svg]:h-full\"><svg fill=\"none\" height=\"16\" viewbox=\"0 0 16 16\" width=\"16\" xmlns=\"http://www.w3.org/2000/svg\">\n",
       "<path d=\"M2 7.99997C2 7.58576 2.33579 7.24997 2.75 7.24997L11.537 7.24997L8.24991 4.30891C7.94122 4.03271 7.91488 3.55857 8.19107 3.24988C8.46727 2.94119 8.94141 2.91485 9.2501 3.19105L14.0001 7.44104C14.1591 7.58332 14.25 7.7866 14.25 7.99997C14.25 8.21335 14.1591 8.41663 14.0001 8.5589L9.2501 12.8089C8.94141 13.0851 8.46727 13.0588 8.19107 12.7501C7.91488 12.4414 7.94122 11.9672 8.24991 11.691L11.537 8.74997L2.75 8.74997C2.33579 8.74997 2 8.41419 2 7.99997Z\" fill=\"currentColor\"></path>\n",
       "</svg>\n",
       "</span> </div>\n",
       "</a>\n",
       "</li>\n",
       "<li>\n",
       "<a aria-label=\"Nasdaq\" class=\"text-wl-neutral-950 flex items-center group hover:no-underline\" href=\"/cotacoes/nasdaq/\">\n",
       "<span class=\"mr-2 font-semibold group-hover:underline underline-offset-4\">\n",
       "                                                                Nasdaq                                                            </span>\n",
       "<div class=\"w-4 h-4\">\n",
       "<span class=\"w-full h-full [&amp;&gt;svg]:w-full [&amp;&gt;svg]:h-full\"><svg fill=\"none\" height=\"16\" viewbox=\"0 0 16 16\" width=\"16\" xmlns=\"http://www.w3.org/2000/svg\">\n",
       "<path d=\"M2 7.99997C2 7.58576 2.33579 7.24997 2.75 7.24997L11.537 7.24997L8.24991 4.30891C7.94122 4.03271 7.91488 3.55857 8.19107 3.24988C8.46727 2.94119 8.94141 2.91485 9.2501 3.19105L14.0001 7.44104C14.1591 7.58332 14.25 7.7866 14.25 7.99997C14.25 8.21335 14.1591 8.41663 14.0001 8.5589L9.2501 12.8089C8.94141 13.0851 8.46727 13.0588 8.19107 12.7501C7.91488 12.4414 7.94122 11.9672 8.24991 11.691L11.537 8.74997L2.75 8.74997C2.33579 8.74997 2 8.41419 2 7.99997Z\" fill=\"currentColor\"></path>\n",
       "</svg>\n",
       "</span> </div>\n",
       "</a>\n",
       "</li>\n",
       "<li>\n",
       "<a aria-label=\"Nyse\" class=\"text-wl-neutral-950 flex items-center group hover:no-underline\" href=\"/cotacoes/nyse/\">\n",
       "<span class=\"mr-2 font-semibold group-hover:underline underline-offset-4\">\n",
       "                                                                Nyse                                                            </span>\n",
       "<div class=\"w-4 h-4\">\n",
       "<span class=\"w-full h-full [&amp;&gt;svg]:w-full [&amp;&gt;svg]:h-full\"><svg fill=\"none\" height=\"16\" viewbox=\"0 0 16 16\" width=\"16\" xmlns=\"http://www.w3.org/2000/svg\">\n",
       "<path d=\"M2 7.99997C2 7.58576 2.33579 7.24997 2.75 7.24997L11.537 7.24997L8.24991 4.30891C7.94122 4.03271 7.91488 3.55857 8.19107 3.24988C8.46727 2.94119 8.94141 2.91485 9.2501 3.19105L14.0001 7.44104C14.1591 7.58332 14.25 7.7866 14.25 7.99997C14.25 8.21335 14.1591 8.41663 14.0001 8.5589L9.2501 12.8089C8.94141 13.0851 8.46727 13.0588 8.19107 12.7501C7.91488 12.4414 7.94122 11.9672 8.24991 11.691L11.537 8.74997L2.75 8.74997C2.33579 8.74997 2 8.41419 2 7.99997Z\" fill=\"currentColor\"></path>\n",
       "</svg>\n",
       "</span> </div>\n",
       "</a>\n",
       "</li>\n",
       "<li>\n",
       "<a aria-label=\"Juros Futuros\" class=\"text-wl-neutral-950 flex items-center group hover:no-underline\" href=\"/ferramentas/juros-futuros-di/\">\n",
       "<span class=\"mr-2 font-semibold group-hover:underline underline-offset-4\">\n",
       "                                                                Juros Futuros                                                            </span>\n",
       "<div class=\"w-4 h-4\">\n",
       "<span class=\"w-full h-full [&amp;&gt;svg]:w-full [&amp;&gt;svg]:h-full\"><svg fill=\"none\" height=\"16\" viewbox=\"0 0 16 16\" width=\"16\" xmlns=\"http://www.w3.org/2000/svg\">\n",
       "<path d=\"M2 7.99997C2 7.58576 2.33579 7.24997 2.75 7.24997L11.537 7.24997L8.24991 4.30891C7.94122 4.03271 7.91488 3.55857 8.19107 3.24988C8.46727 2.94119 8.94141 2.91485 9.2501 3.19105L14.0001 7.44104C14.1591 7.58332 14.25 7.7866 14.25 7.99997C14.25 8.21335 14.1591 8.41663 14.0001 8.5589L9.2501 12.8089C8.94141 13.0851 8.46727 13.0588 8.19107 12.7501C7.91488 12.4414 7.94122 11.9672 8.24991 11.691L11.537 8.74997L2.75 8.74997C2.33579 8.74997 2 8.41419 2 7.99997Z\" fill=\"currentColor\"></path>\n",
       "</svg>\n",
       "</span> </div>\n",
       "</a>\n",
       "</li>\n",
       "<li>\n",
       "<a aria-label=\"Mini Contratos\" class=\"text-wl-neutral-950 flex items-center group hover:no-underline\" href=\"/ferramentas/mini-contratos/\">\n",
       "<span class=\"mr-2 font-semibold group-hover:underline underline-offset-4\">\n",
       "                                                                Mini Contratos                                                            </span>\n",
       "<div class=\"w-4 h-4\">\n",
       "<span class=\"w-full h-full [&amp;&gt;svg]:w-full [&amp;&gt;svg]:h-full\"><svg fill=\"none\" height=\"16\" viewbox=\"0 0 16 16\" width=\"16\" xmlns=\"http://www.w3.org/2000/svg\">\n",
       "<path d=\"M2 7.99997C2 7.58576 2.33579 7.24997 2.75 7.24997L11.537 7.24997L8.24991 4.30891C7.94122 4.03271 7.91488 3.55857 8.19107 3.24988C8.46727 2.94119 8.94141 2.91485 9.2501 3.19105L14.0001 7.44104C14.1591 7.58332 14.25 7.7866 14.25 7.99997C14.25 8.21335 14.1591 8.41663 14.0001 8.5589L9.2501 12.8089C8.94141 13.0851 8.46727 13.0588 8.19107 12.7501C7.91488 12.4414 7.94122 11.9672 8.24991 11.691L11.537 8.74997L2.75 8.74997C2.33579 8.74997 2 8.41419 2 7.99997Z\" fill=\"currentColor\"></path>\n",
       "</svg>\n",
       "</span> </div>\n",
       "</a>\n",
       "</li>\n",
       "<li>\n",
       "<a aria-label=\"Indicadores de Inflação\" class=\"text-wl-neutral-950 flex items-center group hover:no-underline\" href=\"/ferramentas/inflacao/\">\n",
       "<span class=\"mr-2 font-semibold group-hover:underline underline-offset-4\">\n",
       "                                                                Indicadores de Inflação                                                            </span>\n",
       "<div class=\"w-4 h-4\">\n",
       "<span class=\"w-full h-full [&amp;&gt;svg]:w-full [&amp;&gt;svg]:h-full\"><svg fill=\"none\" height=\"16\" viewbox=\"0 0 16 16\" width=\"16\" xmlns=\"http://www.w3.org/2000/svg\">\n",
       "<path d=\"M2 7.99997C2 7.58576 2.33579 7.24997 2.75 7.24997L11.537 7.24997L8.24991 4.30891C7.94122 4.03271 7.91488 3.55857 8.19107 3.24988C8.46727 2.94119 8.94141 2.91485 9.2501 3.19105L14.0001 7.44104C14.1591 7.58332 14.25 7.7866 14.25 7.99997C14.25 8.21335 14.1591 8.41663 14.0001 8.5589L9.2501 12.8089C8.94141 13.0851 8.46727 13.0588 8.19107 12.7501C7.91488 12.4414 7.94122 11.9672 8.24991 11.691L11.537 8.74997L2.75 8.74997C2.33579 8.74997 2 8.41419 2 7.99997Z\" fill=\"currentColor\"></path>\n",
       "</svg>\n",
       "</span> </div>\n",
       "</a>\n",
       "</li>\n",
       "<li>\n",
       "<a aria-label=\"Opções de Ações\" class=\"text-wl-neutral-950 flex items-center group hover:no-underline\" href=\"/ferramentas/cotacoes-opcoes-de-acoes/\">\n",
       "<span class=\"mr-2 font-semibold group-hover:underline underline-offset-4\">\n",
       "                                                                Opções de Ações                                                            </span>\n",
       "<div class=\"w-4 h-4\">\n",
       "<span class=\"w-full h-full [&amp;&gt;svg]:w-full [&amp;&gt;svg]:h-full\"><svg fill=\"none\" height=\"16\" viewbox=\"0 0 16 16\" width=\"16\" xmlns=\"http://www.w3.org/2000/svg\">\n",
       "<path d=\"M2 7.99997C2 7.58576 2.33579 7.24997 2.75 7.24997L11.537 7.24997L8.24991 4.30891C7.94122 4.03271 7.91488 3.55857 8.19107 3.24988C8.46727 2.94119 8.94141 2.91485 9.2501 3.19105L14.0001 7.44104C14.1591 7.58332 14.25 7.7866 14.25 7.99997C14.25 8.21335 14.1591 8.41663 14.0001 8.5589L9.2501 12.8089C8.94141 13.0851 8.46727 13.0588 8.19107 12.7501C7.91488 12.4414 7.94122 11.9672 8.24991 11.691L11.537 8.74997L2.75 8.74997C2.33579 8.74997 2 8.41419 2 7.99997Z\" fill=\"currentColor\"></path>\n",
       "</svg>\n",
       "</span> </div>\n",
       "</a>\n",
       "</li>\n",
       "</ul>\n",
       "</li>\n",
       "<li class=\"shadow-[1px_1px_0_0_theme(colors.wl-neutral-200),0_1px_0_0_theme(colors.wl-neutral-200)_inset]\" data-has-children=\"true\">\n",
       "<a aria-label=\"Ferramentas\" class=\"text-wl-neutral-950 group flex items-center p-6 hover:no-underline\" href=\"#\">\n",
       "<span class=\"flex-grow font-semibold group-hover:underline underline-offset-4\">\n",
       "                                                Ferramentas                                            </span>\n",
       "<div class=\"w-6 h-6\">\n",
       "<span class=\"w-full h-full [&amp;&gt;svg]:w-full [&amp;&gt;svg]:h-full\"><svg fill=\"none\" height=\"24\" viewbox=\"0 0 24 24\" width=\"24\" xmlns=\"http://www.w3.org/2000/svg\">\n",
       "<path d=\"M8.29289 4.29289C7.90237 4.68342 7.90237 5.31658 8.29289 5.70711L14.5858 12L8.29289 18.2929C7.90237 18.6834 7.90237 19.3166 8.29289 19.7071C8.68342 20.0976 9.31658 20.0976 9.70711 19.7071L16.7071 12.7071C17.0976 12.3166 17.0976 11.6834 16.7071 11.2929L9.70711 4.29289C9.31658 3.90237 8.68342 3.90237 8.29289 4.29289Z\" fill=\"currentColor\"></path>\n",
       "</svg>\n",
       "</span> </div>\n",
       "</a>\n",
       "<ul class=\"sr-only p-6 space-y-6\" data-ds-element=\"submenu\">\n",
       "<li>\n",
       "<a aria-label=\"Simulador de Investimentos\" class=\"text-wl-neutral-950 flex items-center group hover:no-underline\" href=\"/ferramentas/simulador-xp/\">\n",
       "<span class=\"mr-2 font-semibold group-hover:underline underline-offset-4\">\n",
       "                                                                Simulador de Investimentos                                                            </span>\n",
       "<div class=\"w-4 h-4\">\n",
       "<span class=\"w-full h-full [&amp;&gt;svg]:w-full [&amp;&gt;svg]:h-full\"><svg fill=\"none\" height=\"16\" viewbox=\"0 0 16 16\" width=\"16\" xmlns=\"http://www.w3.org/2000/svg\">\n",
       "<path d=\"M2 7.99997C2 7.58576 2.33579 7.24997 2.75 7.24997L11.537 7.24997L8.24991 4.30891C7.94122 4.03271 7.91488 3.55857 8.19107 3.24988C8.46727 2.94119 8.94141 2.91485 9.2501 3.19105L14.0001 7.44104C14.1591 7.58332 14.25 7.7866 14.25 7.99997C14.25 8.21335 14.1591 8.41663 14.0001 8.5589L9.2501 12.8089C8.94141 13.0851 8.46727 13.0588 8.19107 12.7501C7.91488 12.4414 7.94122 11.9672 8.24991 11.691L11.537 8.74997L2.75 8.74997C2.33579 8.74997 2 8.41419 2 7.99997Z\" fill=\"currentColor\"></path>\n",
       "</svg>\n",
       "</span> </div>\n",
       "</a>\n",
       "</li>\n",
       "<li>\n",
       "<a aria-label=\"Comparador de FIIs\" class=\"text-wl-neutral-950 flex items-center group hover:no-underline\" href=\"/ferramentas/comparador-de-fundos/\">\n",
       "<span class=\"mr-2 font-semibold group-hover:underline underline-offset-4\">\n",
       "                                                                Comparador de FIIs                                                            </span>\n",
       "<div class=\"w-4 h-4\">\n",
       "<span class=\"w-full h-full [&amp;&gt;svg]:w-full [&amp;&gt;svg]:h-full\"><svg fill=\"none\" height=\"16\" viewbox=\"0 0 16 16\" width=\"16\" xmlns=\"http://www.w3.org/2000/svg\">\n",
       "<path d=\"M2 7.99997C2 7.58576 2.33579 7.24997 2.75 7.24997L11.537 7.24997L8.24991 4.30891C7.94122 4.03271 7.91488 3.55857 8.19107 3.24988C8.46727 2.94119 8.94141 2.91485 9.2501 3.19105L14.0001 7.44104C14.1591 7.58332 14.25 7.7866 14.25 7.99997C14.25 8.21335 14.1591 8.41663 14.0001 8.5589L9.2501 12.8089C8.94141 13.0851 8.46727 13.0588 8.19107 12.7501C7.91488 12.4414 7.94122 11.9672 8.24991 11.691L11.537 8.74997L2.75 8.74997C2.33579 8.74997 2 8.41419 2 7.99997Z\" fill=\"currentColor\"></path>\n",
       "</svg>\n",
       "</span> </div>\n",
       "</a>\n",
       "</li>\n",
       "<li>\n",
       "<a aria-label=\"Comparador de Renda Fixa\" class=\"text-wl-neutral-950 flex items-center group hover:no-underline\" href=\"/ferramentas/comparador-renda-fixa/\">\n",
       "<span class=\"mr-2 font-semibold group-hover:underline underline-offset-4\">\n",
       "                                                                Comparador de Renda Fixa                                                            </span>\n",
       "<div class=\"w-4 h-4\">\n",
       "<span class=\"w-full h-full [&amp;&gt;svg]:w-full [&amp;&gt;svg]:h-full\"><svg fill=\"none\" height=\"16\" viewbox=\"0 0 16 16\" width=\"16\" xmlns=\"http://www.w3.org/2000/svg\">\n",
       "<path d=\"M2 7.99997C2 7.58576 2.33579 7.24997 2.75 7.24997L11.537 7.24997L8.24991 4.30891C7.94122 4.03271 7.91488 3.55857 8.19107 3.24988C8.46727 2.94119 8.94141 2.91485 9.2501 3.19105L14.0001 7.44104C14.1591 7.58332 14.25 7.7866 14.25 7.99997C14.25 8.21335 14.1591 8.41663 14.0001 8.5589L9.2501 12.8089C8.94141 13.0851 8.46727 13.0588 8.19107 12.7501C7.91488 12.4414 7.94122 11.9672 8.24991 11.691L11.537 8.74997L2.75 8.74997C2.33579 8.74997 2 8.41419 2 7.99997Z\" fill=\"currentColor\"></path>\n",
       "</svg>\n",
       "</span> </div>\n",
       "</a>\n",
       "</li>\n",
       "<li>\n",
       "<a aria-label=\"Comparador de Fundos\" class=\"text-wl-neutral-950 flex items-center group hover:no-underline\" href=\"/ferramentas/comparador-de-fundos/\">\n",
       "<span class=\"mr-2 font-semibold group-hover:underline underline-offset-4\">\n",
       "                                                                Comparador de Fundos                                                            </span>\n",
       "<div class=\"w-4 h-4\">\n",
       "<span class=\"w-full h-full [&amp;&gt;svg]:w-full [&amp;&gt;svg]:h-full\"><svg fill=\"none\" height=\"16\" viewbox=\"0 0 16 16\" width=\"16\" xmlns=\"http://www.w3.org/2000/svg\">\n",
       "<path d=\"M2 7.99997C2 7.58576 2.33579 7.24997 2.75 7.24997L11.537 7.24997L8.24991 4.30891C7.94122 4.03271 7.91488 3.55857 8.19107 3.24988C8.46727 2.94119 8.94141 2.91485 9.2501 3.19105L14.0001 7.44104C14.1591 7.58332 14.25 7.7866 14.25 7.99997C14.25 8.21335 14.1591 8.41663 14.0001 8.5589L9.2501 12.8089C8.94141 13.0851 8.46727 13.0588 8.19107 12.7501C7.91488 12.4414 7.94122 11.9672 8.24991 11.691L11.537 8.74997L2.75 8.74997C2.33579 8.74997 2 8.41419 2 7.99997Z\" fill=\"currentColor\"></path>\n",
       "</svg>\n",
       "</span> </div>\n",
       "</a>\n",
       "</li>\n",
       "<li>\n",
       "<a aria-label=\"Carteira de Acompanhamento\" class=\"text-wl-neutral-950 flex items-center group hover:no-underline\" href=\"/ferramentas/carteira-de-acompanhamento/\">\n",
       "<span class=\"mr-2 font-semibold group-hover:underline underline-offset-4\">\n",
       "                                                                Carteira de Acompanhamento                                                            </span>\n",
       "<div class=\"w-4 h-4\">\n",
       "<span class=\"w-full h-full [&amp;&gt;svg]:w-full [&amp;&gt;svg]:h-full\"><svg fill=\"none\" height=\"16\" viewbox=\"0 0 16 16\" width=\"16\" xmlns=\"http://www.w3.org/2000/svg\">\n",
       "<path d=\"M2 7.99997C2 7.58576 2.33579 7.24997 2.75 7.24997L11.537 7.24997L8.24991 4.30891C7.94122 4.03271 7.91488 3.55857 8.19107 3.24988C8.46727 2.94119 8.94141 2.91485 9.2501 3.19105L14.0001 7.44104C14.1591 7.58332 14.25 7.7866 14.25 7.99997C14.25 8.21335 14.1591 8.41663 14.0001 8.5589L9.2501 12.8089C8.94141 13.0851 8.46727 13.0588 8.19107 12.7501C7.91488 12.4414 7.94122 11.9672 8.24991 11.691L11.537 8.74997L2.75 8.74997C2.33579 8.74997 2 8.41419 2 7.99997Z\" fill=\"currentColor\"></path>\n",
       "</svg>\n",
       "</span> </div>\n",
       "</a>\n",
       "</li>\n",
       "<li>\n",
       "<a aria-label=\"Empresas B3\" class=\"text-wl-neutral-950 flex items-center group hover:no-underline\" href=\"/cotacoes/empresas-b3/\">\n",
       "<span class=\"mr-2 font-semibold group-hover:underline underline-offset-4\">\n",
       "                                                                Empresas B3                                                            </span>\n",
       "<div class=\"w-4 h-4\">\n",
       "<span class=\"w-full h-full [&amp;&gt;svg]:w-full [&amp;&gt;svg]:h-full\"><svg fill=\"none\" height=\"16\" viewbox=\"0 0 16 16\" width=\"16\" xmlns=\"http://www.w3.org/2000/svg\">\n",
       "<path d=\"M2 7.99997C2 7.58576 2.33579 7.24997 2.75 7.24997L11.537 7.24997L8.24991 4.30891C7.94122 4.03271 7.91488 3.55857 8.19107 3.24988C8.46727 2.94119 8.94141 2.91485 9.2501 3.19105L14.0001 7.44104C14.1591 7.58332 14.25 7.7866 14.25 7.99997C14.25 8.21335 14.1591 8.41663 14.0001 8.5589L9.2501 12.8089C8.94141 13.0851 8.46727 13.0588 8.19107 12.7501C7.91488 12.4414 7.94122 11.9672 8.24991 11.691L11.537 8.74997L2.75 8.74997C2.33579 8.74997 2 8.41419 2 7.99997Z\" fill=\"currentColor\"></path>\n",
       "</svg>\n",
       "</span> </div>\n",
       "</a>\n",
       "</li>\n",
       "</ul>\n",
       "</li>\n",
       "<li class=\"shadow-[1px_1px_0_0_theme(colors.wl-neutral-200),0_1px_0_0_theme(colors.wl-neutral-200)_inset]\" data-has-children=\"true\">\n",
       "<a aria-label=\"Aprenda\" class=\"text-wl-neutral-950 group flex items-center p-6 hover:no-underline\" href=\"#\">\n",
       "<span class=\"flex-grow font-semibold group-hover:underline underline-offset-4\">\n",
       "                                                Aprenda                                            </span>\n",
       "<div class=\"w-6 h-6\">\n",
       "<span class=\"w-full h-full [&amp;&gt;svg]:w-full [&amp;&gt;svg]:h-full\"><svg fill=\"none\" height=\"24\" viewbox=\"0 0 24 24\" width=\"24\" xmlns=\"http://www.w3.org/2000/svg\">\n",
       "<path d=\"M8.29289 4.29289C7.90237 4.68342 7.90237 5.31658 8.29289 5.70711L14.5858 12L8.29289 18.2929C7.90237 18.6834 7.90237 19.3166 8.29289 19.7071C8.68342 20.0976 9.31658 20.0976 9.70711 19.7071L16.7071 12.7071C17.0976 12.3166 17.0976 11.6834 16.7071 11.2929L9.70711 4.29289C9.31658 3.90237 8.68342 3.90237 8.29289 4.29289Z\" fill=\"currentColor\"></path>\n",
       "</svg>\n",
       "</span> </div>\n",
       "</a>\n",
       "<ul class=\"sr-only p-6 space-y-6\" data-ds-element=\"submenu\">\n",
       "<li>\n",
       "<a aria-label=\"Conteúdos\" class=\"text-wl-neutral-950 flex items-center group hover:no-underline\" href=\"/conteudos/\">\n",
       "<span class=\"mr-2 font-semibold group-hover:underline underline-offset-4\">\n",
       "                                                                Conteúdos                                                            </span>\n",
       "<div class=\"w-4 h-4\">\n",
       "<span class=\"w-full h-full [&amp;&gt;svg]:w-full [&amp;&gt;svg]:h-full\"><svg fill=\"none\" height=\"16\" viewbox=\"0 0 16 16\" width=\"16\" xmlns=\"http://www.w3.org/2000/svg\">\n",
       "<path d=\"M2 7.99997C2 7.58576 2.33579 7.24997 2.75 7.24997L11.537 7.24997L8.24991 4.30891C7.94122 4.03271 7.91488 3.55857 8.19107 3.24988C8.46727 2.94119 8.94141 2.91485 9.2501 3.19105L14.0001 7.44104C14.1591 7.58332 14.25 7.7866 14.25 7.99997C14.25 8.21335 14.1591 8.41663 14.0001 8.5589L9.2501 12.8089C8.94141 13.0851 8.46727 13.0588 8.19107 12.7501C7.91488 12.4414 7.94122 11.9672 8.24991 11.691L11.537 8.74997L2.75 8.74997C2.33579 8.74997 2 8.41419 2 7.99997Z\" fill=\"currentColor\"></path>\n",
       "</svg>\n",
       "</span> </div>\n",
       "</a>\n",
       "</li>\n",
       "<li>\n",
       "<a aria-label=\"Cursos\" class=\"text-wl-neutral-950 flex items-center group hover:no-underline\" href=\"/conteudos/cursos/\">\n",
       "<span class=\"mr-2 font-semibold group-hover:underline underline-offset-4\">\n",
       "                                                                Cursos                                                            </span>\n",
       "<div class=\"w-4 h-4\">\n",
       "<span class=\"w-full h-full [&amp;&gt;svg]:w-full [&amp;&gt;svg]:h-full\"><svg fill=\"none\" height=\"16\" viewbox=\"0 0 16 16\" width=\"16\" xmlns=\"http://www.w3.org/2000/svg\">\n",
       "<path d=\"M2 7.99997C2 7.58576 2.33579 7.24997 2.75 7.24997L11.537 7.24997L8.24991 4.30891C7.94122 4.03271 7.91488 3.55857 8.19107 3.24988C8.46727 2.94119 8.94141 2.91485 9.2501 3.19105L14.0001 7.44104C14.1591 7.58332 14.25 7.7866 14.25 7.99997C14.25 8.21335 14.1591 8.41663 14.0001 8.5589L9.2501 12.8089C8.94141 13.0851 8.46727 13.0588 8.19107 12.7501C7.91488 12.4414 7.94122 11.9672 8.24991 11.691L11.537 8.74997L2.75 8.74997C2.33579 8.74997 2 8.41419 2 7.99997Z\" fill=\"currentColor\"></path>\n",
       "</svg>\n",
       "</span> </div>\n",
       "</a>\n",
       "</li>\n",
       "<li>\n",
       "<a aria-label=\"Ebooks\" class=\"text-wl-neutral-950 flex items-center group hover:no-underline\" href=\"/conteudos/ebooks/\">\n",
       "<span class=\"mr-2 font-semibold group-hover:underline underline-offset-4\">\n",
       "                                                                Ebooks                                                            </span>\n",
       "<div class=\"w-4 h-4\">\n",
       "<span class=\"w-full h-full [&amp;&gt;svg]:w-full [&amp;&gt;svg]:h-full\"><svg fill=\"none\" height=\"16\" viewbox=\"0 0 16 16\" width=\"16\" xmlns=\"http://www.w3.org/2000/svg\">\n",
       "<path d=\"M2 7.99997C2 7.58576 2.33579 7.24997 2.75 7.24997L11.537 7.24997L8.24991 4.30891C7.94122 4.03271 7.91488 3.55857 8.19107 3.24988C8.46727 2.94119 8.94141 2.91485 9.2501 3.19105L14.0001 7.44104C14.1591 7.58332 14.25 7.7866 14.25 7.99997C14.25 8.21335 14.1591 8.41663 14.0001 8.5589L9.2501 12.8089C8.94141 13.0851 8.46727 13.0588 8.19107 12.7501C7.91488 12.4414 7.94122 11.9672 8.24991 11.691L11.537 8.74997L2.75 8.74997C2.33579 8.74997 2 8.41419 2 7.99997Z\" fill=\"currentColor\"></path>\n",
       "</svg>\n",
       "</span> </div>\n",
       "</a>\n",
       "</li>\n",
       "<li>\n",
       "<a aria-label=\"Planilhas\" class=\"text-wl-neutral-950 flex items-center group hover:no-underline\" href=\"/conteudos/planilhas/\">\n",
       "<span class=\"mr-2 font-semibold group-hover:underline underline-offset-4\">\n",
       "                                                                Planilhas                                                            </span>\n",
       "<div class=\"w-4 h-4\">\n",
       "<span class=\"w-full h-full [&amp;&gt;svg]:w-full [&amp;&gt;svg]:h-full\"><svg fill=\"none\" height=\"16\" viewbox=\"0 0 16 16\" width=\"16\" xmlns=\"http://www.w3.org/2000/svg\">\n",
       "<path d=\"M2 7.99997C2 7.58576 2.33579 7.24997 2.75 7.24997L11.537 7.24997L8.24991 4.30891C7.94122 4.03271 7.91488 3.55857 8.19107 3.24988C8.46727 2.94119 8.94141 2.91485 9.2501 3.19105L14.0001 7.44104C14.1591 7.58332 14.25 7.7866 14.25 7.99997C14.25 8.21335 14.1591 8.41663 14.0001 8.5589L9.2501 12.8089C8.94141 13.0851 8.46727 13.0588 8.19107 12.7501C7.91488 12.4414 7.94122 11.9672 8.24991 11.691L11.537 8.74997L2.75 8.74997C2.33579 8.74997 2 8.41419 2 7.99997Z\" fill=\"currentColor\"></path>\n",
       "</svg>\n",
       "</span> </div>\n",
       "</a>\n",
       "</li>\n",
       "<li>\n",
       "<a aria-label=\"Guias\" class=\"text-wl-neutral-950 flex items-center group hover:no-underline\" href=\"/guias/\">\n",
       "<span class=\"mr-2 font-semibold group-hover:underline underline-offset-4\">\n",
       "                                                                Guias                                                            </span>\n",
       "<div class=\"w-4 h-4\">\n",
       "<span class=\"w-full h-full [&amp;&gt;svg]:w-full [&amp;&gt;svg]:h-full\"><svg fill=\"none\" height=\"16\" viewbox=\"0 0 16 16\" width=\"16\" xmlns=\"http://www.w3.org/2000/svg\">\n",
       "<path d=\"M2 7.99997C2 7.58576 2.33579 7.24997 2.75 7.24997L11.537 7.24997L8.24991 4.30891C7.94122 4.03271 7.91488 3.55857 8.19107 3.24988C8.46727 2.94119 8.94141 2.91485 9.2501 3.19105L14.0001 7.44104C14.1591 7.58332 14.25 7.7866 14.25 7.99997C14.25 8.21335 14.1591 8.41663 14.0001 8.5589L9.2501 12.8089C8.94141 13.0851 8.46727 13.0588 8.19107 12.7501C7.91488 12.4414 7.94122 11.9672 8.24991 11.691L11.537 8.74997L2.75 8.74997C2.33579 8.74997 2 8.41419 2 7.99997Z\" fill=\"currentColor\"></path>\n",
       "</svg>\n",
       "</span> </div>\n",
       "</a>\n",
       "</li>\n",
       "<li>\n",
       "<a aria-label=\"Podcast\" class=\"text-wl-neutral-950 flex items-center group hover:no-underline\" href=\"/podcasts/\">\n",
       "<span class=\"mr-2 font-semibold group-hover:underline underline-offset-4\">\n",
       "                                                                Podcast                                                            </span>\n",
       "<div class=\"w-4 h-4\">\n",
       "<span class=\"w-full h-full [&amp;&gt;svg]:w-full [&amp;&gt;svg]:h-full\"><svg fill=\"none\" height=\"16\" viewbox=\"0 0 16 16\" width=\"16\" xmlns=\"http://www.w3.org/2000/svg\">\n",
       "<path d=\"M2 7.99997C2 7.58576 2.33579 7.24997 2.75 7.24997L11.537 7.24997L8.24991 4.30891C7.94122 4.03271 7.91488 3.55857 8.19107 3.24988C8.46727 2.94119 8.94141 2.91485 9.2501 3.19105L14.0001 7.44104C14.1591 7.58332 14.25 7.7866 14.25 7.99997C14.25 8.21335 14.1591 8.41663 14.0001 8.5589L9.2501 12.8089C8.94141 13.0851 8.46727 13.0588 8.19107 12.7501C7.91488 12.4414 7.94122 11.9672 8.24991 11.691L11.537 8.74997L2.75 8.74997C2.33579 8.74997 2 8.41419 2 7.99997Z\" fill=\"currentColor\"></path>\n",
       "</svg>\n",
       "</span> </div>\n",
       "</a>\n",
       "</li>\n",
       "<li>\n",
       "<a aria-label=\"Perfis\" class=\"text-wl-neutral-950 flex items-center group hover:no-underline\" href=\"/perfil/\">\n",
       "<span class=\"mr-2 font-semibold group-hover:underline underline-offset-4\">\n",
       "                                                                Perfis                                                            </span>\n",
       "<div class=\"w-4 h-4\">\n",
       "<span class=\"w-full h-full [&amp;&gt;svg]:w-full [&amp;&gt;svg]:h-full\"><svg fill=\"none\" height=\"16\" viewbox=\"0 0 16 16\" width=\"16\" xmlns=\"http://www.w3.org/2000/svg\">\n",
       "<path d=\"M2 7.99997C2 7.58576 2.33579 7.24997 2.75 7.24997L11.537 7.24997L8.24991 4.30891C7.94122 4.03271 7.91488 3.55857 8.19107 3.24988C8.46727 2.94119 8.94141 2.91485 9.2501 3.19105L14.0001 7.44104C14.1591 7.58332 14.25 7.7866 14.25 7.99997C14.25 8.21335 14.1591 8.41663 14.0001 8.5589L9.2501 12.8089C8.94141 13.0851 8.46727 13.0588 8.19107 12.7501C7.91488 12.4414 7.94122 11.9672 8.24991 11.691L11.537 8.74997L2.75 8.74997C2.33579 8.74997 2 8.41419 2 7.99997Z\" fill=\"currentColor\"></path>\n",
       "</svg>\n",
       "</span> </div>\n",
       "</a>\n",
       "</li>\n",
       "<li>\n",
       "<a aria-label=\"Vídeos\" class=\"text-wl-neutral-950 flex items-center group hover:no-underline\" href=\"https://www.youtube.com/channel/UCxm0tptjIc76-i26EKQ9NpA\">\n",
       "<span class=\"mr-2 font-semibold group-hover:underline underline-offset-4\">\n",
       "                                                                Vídeos                                                            </span>\n",
       "<div class=\"w-4 h-4\">\n",
       "<span class=\"w-full h-full [&amp;&gt;svg]:w-full [&amp;&gt;svg]:h-full\"><svg fill=\"none\" height=\"16\" viewbox=\"0 0 16 16\" width=\"16\" xmlns=\"http://www.w3.org/2000/svg\">\n",
       "<path d=\"M2 7.99997C2 7.58576 2.33579 7.24997 2.75 7.24997L11.537 7.24997L8.24991 4.30891C7.94122 4.03271 7.91488 3.55857 8.19107 3.24988C8.46727 2.94119 8.94141 2.91485 9.2501 3.19105L14.0001 7.44104C14.1591 7.58332 14.25 7.7866 14.25 7.99997C14.25 8.21335 14.1591 8.41663 14.0001 8.5589L9.2501 12.8089C8.94141 13.0851 8.46727 13.0588 8.19107 12.7501C7.91488 12.4414 7.94122 11.9672 8.24991 11.691L11.537 8.74997L2.75 8.74997C2.33579 8.74997 2 8.41419 2 7.99997Z\" fill=\"currentColor\"></path>\n",
       "</svg>\n",
       "</span> </div>\n",
       "</a>\n",
       "</li>\n",
       "</ul>\n",
       "</li>\n",
       "<li class=\"shadow-[1px_1px_0_0_theme(colors.wl-neutral-200),0_1px_0_0_theme(colors.wl-neutral-200)_inset]\" data-has-children=\"true\">\n",
       "<a aria-label=\"Parcerias\" class=\"text-wl-neutral-950 group flex items-center p-6 hover:no-underline\" href=\"#\">\n",
       "<span class=\"flex-grow font-semibold group-hover:underline underline-offset-4\">\n",
       "                                                Parcerias                                            </span>\n",
       "<div class=\"w-6 h-6\">\n",
       "<span class=\"w-full h-full [&amp;&gt;svg]:w-full [&amp;&gt;svg]:h-full\"><svg fill=\"none\" height=\"24\" viewbox=\"0 0 24 24\" width=\"24\" xmlns=\"http://www.w3.org/2000/svg\">\n",
       "<path d=\"M8.29289 4.29289C7.90237 4.68342 7.90237 5.31658 8.29289 5.70711L14.5858 12L8.29289 18.2929C7.90237 18.6834 7.90237 19.3166 8.29289 19.7071C8.68342 20.0976 9.31658 20.0976 9.70711 19.7071L16.7071 12.7071C17.0976 12.3166 17.0976 11.6834 16.7071 11.2929L9.70711 4.29289C9.31658 3.90237 8.68342 3.90237 8.29289 4.29289Z\" fill=\"currentColor\"></path>\n",
       "</svg>\n",
       "</span> </div>\n",
       "</a>\n",
       "<ul class=\"sr-only p-6 space-y-6\" data-ds-element=\"submenu\">\n",
       "<li>\n",
       "<a aria-label=\"Patrocinados\" class=\"text-wl-neutral-950 flex items-center group hover:no-underline\" href=\"/patrocinados/\">\n",
       "<span class=\"mr-2 font-semibold group-hover:underline underline-offset-4\">\n",
       "                                                                Patrocinados                                                            </span>\n",
       "<div class=\"w-4 h-4\">\n",
       "<span class=\"w-full h-full [&amp;&gt;svg]:w-full [&amp;&gt;svg]:h-full\"><svg fill=\"none\" height=\"16\" viewbox=\"0 0 16 16\" width=\"16\" xmlns=\"http://www.w3.org/2000/svg\">\n",
       "<path d=\"M2 7.99997C2 7.58576 2.33579 7.24997 2.75 7.24997L11.537 7.24997L8.24991 4.30891C7.94122 4.03271 7.91488 3.55857 8.19107 3.24988C8.46727 2.94119 8.94141 2.91485 9.2501 3.19105L14.0001 7.44104C14.1591 7.58332 14.25 7.7866 14.25 7.99997C14.25 8.21335 14.1591 8.41663 14.0001 8.5589L9.2501 12.8089C8.94141 13.0851 8.46727 13.0588 8.19107 12.7501C7.91488 12.4414 7.94122 11.9672 8.24991 11.691L11.537 8.74997L2.75 8.74997C2.33579 8.74997 2 8.41419 2 7.99997Z\" fill=\"currentColor\"></path>\n",
       "</svg>\n",
       "</span> </div>\n",
       "</a>\n",
       "</li>\n",
       "</ul>\n",
       "</li>\n",
       "<li class=\"\" data-has-children=\"false\">\n",
       "<a aria-label=\"Simule agora\" class=\"text-wl-neutral-950 group flex items-center p-6 hover:no-underline\" href=\"/ferramentas/simulador-xp/?utm_source=infomoney&amp;utm_medium=simulador-ticker&amp;utm_campaign=simulador-xp\">\n",
       "<span class=\"flex-grow font-semibold group-hover:underline underline-offset-4\">\n",
       "                                                Simule agora                                            </span>\n",
       "</a>\n",
       "</li>\n",
       "<li class=\"border-t border-t-wl-neutral-200\">\n",
       "<button aria-label=\"Pesquisar\" class=\"text-wl-neutral-950 group flex items-center py-6 px-6 hover:no-underline\" data-ds-element=\"menu-search\">\n",
       "<div class=\"w-6 h-6 mr-2\">\n",
       "<span class=\"w-full h-full [&amp;&gt;svg]:w-full [&amp;&gt;svg]:h-full\"><svg fill=\"none\" height=\"24\" viewbox=\"0 0 24 24\" width=\"24\" xmlns=\"http://www.w3.org/2000/svg\">\n",
       "<path d=\"M10 2.5C14.1421 2.5 17.5 5.85786 17.5 10C17.5 11.7101 16.9276 13.2866 15.964 14.5483L20.7071 19.2929C21.0976 19.6834 21.0976 20.3166 20.7071 20.7071C20.3466 21.0676 19.7794 21.0953 19.3871 20.7903L19.2929 20.7071L14.5483 15.964C13.2866 16.9276 11.7101 17.5 10 17.5C5.85786 17.5 2.5 14.1421 2.5 10C2.5 5.85786 5.85786 2.5 10 2.5ZM10 4.5C6.96243 4.5 4.5 6.96243 4.5 10C4.5 13.0376 6.96243 15.5 10 15.5C13.0376 15.5 15.5 13.0376 15.5 10C15.5 6.96243 13.0376 4.5 10 4.5Z\" fill=\"currentColor\"></path>\n",
       "</svg>\n",
       "</span> </div>\n",
       "<span class=\"font-semibold group-hover:underline underline-offset-4\">Pesquisar</span>\n",
       "</button>\n",
       "</li>\n",
       "</ul>\n",
       "</nav>\n",
       "</div>\n",
       "<div class=\"flex-grow shrink-0 basis-full transform -sr-only\" data-ds-element=\"menu-sub-level\">\n",
       "<nav>\n",
       "<button aria-label=\"Navegar dentro do menu\" class=\"flex w-full items-center !py-3 border-b border-b-wl-neutral-200 p-6\" data-ds-element=\"submenu-heading\">\n",
       "<div class=\"w-6 h-6 mr-2\">\n",
       "<span class=\"w-full h-full [&amp;&gt;svg]:w-full [&amp;&gt;svg]:h-full\"><svg fill=\"none\" height=\"24\" viewbox=\"0 0 24 24\" width=\"24\" xmlns=\"http://www.w3.org/2000/svg\">\n",
       "<path d=\"M15.7071 4.29289C16.0976 4.68342 16.0976 5.31658 15.7071 5.70711L9.41421 12L15.7071 18.2929C16.0976 18.6834 16.0976 19.3166 15.7071 19.7071C15.3166 20.0976 14.6834 20.0976 14.2929 19.7071L7.29289 12.7071C6.90237 12.3166 6.90237 11.6834 7.29289 11.2929L14.2929 4.29289C14.6834 3.90237 15.3166 3.90237 15.7071 4.29289Z\" fill=\"currentColor\"></path>\n",
       "</svg>\n",
       "</span> </div>\n",
       "<span data-ds-element=\"label\"></span>\n",
       "</button>\n",
       "<div data-ds-element=\"submenu-items\"></div>\n",
       "</nav>\n",
       "</div>\n",
       "</div>\n",
       "</div>\n",
       "</div>\n",
       "</div>\n",
       "<!-- Top Menu -->\n",
       "<div class=\"top-menu-header bg-wl-neutral-950\" data-ds-element=\"top-menu\">\n",
       "<nav class=\"overflow-x-scroll scrollbar-thin lg:overflow-x-auto\" data-ds-component=\"top-menu\">\n",
       "<ul class=\"px-6 lg:px-16 lg:flex lg:justify-center space-x-4 w-max lg:w-full\">\n",
       "<li class=\"!px-2 pb-0.5 inline-block flex-shrink-0 lg:block\" data-current=\"false\">\n",
       "<a aria-label=\"Início\" class=\"text-wl-neutral-400 hover:text-wl-white hover:no-underline\" href=\"https://www.infomoney.com.br/\">\n",
       "                            Início                        </a>\n",
       "</li>\n",
       "<li class=\"!px-2 pb-0.5 inline-block flex-shrink-0 lg:block\" data-current=\"false\">\n",
       "<a aria-label=\"Últimas Notícias\" class=\"text-wl-neutral-400 hover:text-wl-white hover:no-underline\" href=\"https://www.infomoney.com.br/ultimas-noticias/\">\n",
       "                            Últimas Notícias                        </a>\n",
       "</li>\n",
       "<li class=\"!px-2 pb-0.5 inline-block flex-shrink-0 lg:block\" data-current=\"false\">\n",
       "<a aria-label=\"Mercados\" class=\"text-wl-neutral-400 hover:text-wl-white hover:no-underline\" href=\"https://www.infomoney.com.br/mercados/\">\n",
       "                            Mercados                        </a>\n",
       "</li>\n",
       "<li class=\"!px-2 pb-0.5 inline-block flex-shrink-0 lg:block\" data-current=\"false\">\n",
       "<a aria-label=\"Onde Investir\" class=\"text-wl-neutral-400 hover:text-wl-white hover:no-underline\" href=\"https://www.infomoney.com.br/onde-investir/\">\n",
       "                            Onde Investir                        </a>\n",
       "</li>\n",
       "<li class=\"!px-2 pb-0.5 inline-block flex-shrink-0 lg:block border-b-2 border-b-wl-neutral-200\" data-current=\"true\">\n",
       "<a aria-label=\"Política\" class=\"text-wl-neutral-200 hover:no-underline\" href=\"https://www.infomoney.com.br/politica/\">\n",
       "                            Política                        </a>\n",
       "</li>\n",
       "<li class=\"!px-2 pb-0.5 inline-block flex-shrink-0 lg:block\" data-current=\"false\">\n",
       "<a aria-label=\"Economia\" class=\"text-wl-neutral-400 hover:text-wl-white hover:no-underline\" href=\"https://www.infomoney.com.br/economia/\">\n",
       "                            Economia                        </a>\n",
       "</li>\n",
       "<li class=\"!px-2 pb-0.5 inline-block flex-shrink-0 lg:block\" data-current=\"false\">\n",
       "<a aria-label=\"Mundo\" class=\"text-wl-neutral-400 hover:text-wl-white hover:no-underline\" href=\"https://www.infomoney.com.br/mundo/\">\n",
       "                            Mundo                        </a>\n",
       "</li>\n",
       "<li class=\"!px-2 pb-0.5 inline-block flex-shrink-0 lg:block\" data-current=\"false\">\n",
       "<a aria-label=\"Minhas Finanças\" class=\"text-wl-neutral-400 hover:text-wl-white hover:no-underline\" href=\"https://www.infomoney.com.br/minhas-financas/\">\n",
       "                            Minhas Finanças                        </a>\n",
       "</li>\n",
       "<li class=\"!px-2 pb-0.5 inline-block flex-shrink-0 lg:block\" data-current=\"false\">\n",
       "<a aria-label=\"Business\" class=\"text-wl-neutral-400 hover:text-wl-white hover:no-underline\" href=\"https://www.infomoney.com.br/business/\">\n",
       "                            Business                        </a>\n",
       "</li>\n",
       "<li class=\"!px-2 pb-0.5 inline-block flex-shrink-0 lg:block\" data-current=\"false\">\n",
       "<a aria-label=\"Esportes\" class=\"text-wl-neutral-400 hover:text-wl-white hover:no-underline\" href=\"https://www.infomoney.com.br/esportes/\">\n",
       "                            Esportes                        </a>\n",
       "</li>\n",
       "<li class=\"!px-2 pb-0.5 inline-block flex-shrink-0 lg:block\" data-current=\"false\">\n",
       "<a aria-label=\"Brasil\" class=\"text-wl-neutral-400 hover:text-wl-white hover:no-underline\" href=\"https://www.infomoney.com.br/brasil/\">\n",
       "                            Brasil                        </a>\n",
       "</li>\n",
       "<li class=\"!px-2 pb-0.5 inline-block flex-shrink-0 lg:block\" data-current=\"false\">\n",
       "<a aria-label=\"Trader\" class=\"text-wl-neutral-400 hover:text-wl-white hover:no-underline\" href=\"https://www.infomoney.com.br/tudo-sobre/trader/\">\n",
       "                            Trader                        </a>\n",
       "</li>\n",
       "<li class=\"!px-2 pb-0.5 inline-block flex-shrink-0 lg:block\" data-current=\"false\">\n",
       "<a aria-label=\"Advisor\" class=\"text-wl-neutral-400 hover:text-wl-white hover:no-underline\" href=\"https://www.infomoney.com.br/advisor/\">\n",
       "                            Advisor                        </a>\n",
       "</li>\n",
       "</ul>\n",
       "</nav>\n",
       "</div>\n",
       "<!-- New Ticker -->\n",
       "<div class=\"after-header\">\n",
       "<div class=\"ticker-container max-w-full overflow-y-hidden max-h-10\" data-ds-element=\"ticker-marquee\"></div>\n",
       "</div>\n",
       "<!-- After header react portal -->\n",
       "<div class=\"absolute left-0 right-0 transition-all transform-gpu\" data-ds-element=\"after-header-portal\"></div>\n",
       "</header>\n",
       "<main>\n",
       "<div class=\"px-6 py-4 mb-6 bg-wl-neutral-50 min-h-[122px] mt-4 md:mt-6 z-50\" data-ad-type=\"SUPER\" data-ds-component=\"ad\">\n",
       "<div class=\"flex justify-center\" data-ds-element=\"image\">\n",
       "<div data-ads-type=\"SUPER\" data-component-type=\"ads\"></div>\n",
       "</div>\n",
       "</div>\n",
       "<nav class=\"max-w-5xl mx-auto my-4 px-6 xl:px-0\" data-ds-component=\"breadcrumbs\">\n",
       "<ul class=\"flex items-center space-x-2\">\n",
       "<li>\n",
       "<a aria-label=\"Política\" class=\"text-sm font-semibold underline underline-offset-2 text-wl-action-link hover:text-wl-action-link-hover\" href=\"https://www.infomoney.com.br/politica/\">\n",
       "                                Política                            </a>\n",
       "</li>\n",
       "<div class=\"bg-neutral-500 w-[1px] h-3.5\"></div>\n",
       "<li>\n",
       "<span class=\"text-sm text-wl-neutral-600\">\n",
       "                                Mudanças na lei                            </span>\n",
       "</li>\n",
       "</ul>\n",
       "</nav>\n",
       "<div class=\"max-w-5xl my-4 mx-auto space-y-4 px-6 xl:px-0\" data-ds-component=\"article-title\">\n",
       "<h1 class=\"text-3xl md:text-5xl font-bold tracking-tighter text-wl-neutral-950\">\n",
       "                Reforma Trabalhista de Bolsonaro: entenda a MP 905 – e por que ela pode ser contestada judicialmente            </h1>\n",
       "<div class=\"text-lg md:text-xl font-medium tracking-tight text-wl-neutral-600\">\n",
       "                    Governo anuncia pacote que altera leis trabalhistas, mas princípio da isonomia pode ser ferido pela MP                </div>\n",
       "</div>\n",
       "<div class=\"lg:flex justify-between items-center max-w-screen-lg mx-auto pb-4 mb-6 px-6 xl:px-0 border-0 md:border-b\">\n",
       "<div class=\"mb-4 lg:mb-0\">\n",
       "<div class=\"lg:flex items-center\" data-ds-component=\"author-small\">\n",
       "<div class=\"lg:flex-auto\">\n",
       "<p class=\"flex flex-wrap items-center\">\n",
       "<a aria-label=\"Pablo Santana\" class=\"text-base md:text-lg font-semibold tracking-tight text-wl-action-link hover:text-wl-action-link-hover underline underline-offset-2\" href=\"https://www.infomoney.com.br/autor/pablo-santana/\">\n",
       "                                Pablo Santana                            </a>\n",
       "<p class=\"im-mob-core-description lg:im-web-core-description text-wl-neutral-600\">\n",
       "<time datetime=\"2019-11-14T15:26:14-03:00\">\n",
       "                        14/11/2019 15h26                    </time>\n",
       "                                            •\n",
       "                        <time datetime=\"2020-03-04T12:01:56-03:00\">\n",
       "                                Atualizado 5 anos atrás\n",
       "                        </time>\n",
       "</p>\n",
       "</p></div>\n",
       "</div>\n",
       "</div>\n",
       "<div class=\"relative flex justify-between w-full max-w-[280px]\" data-ds-component=\"social-share\">\n",
       "<a class=\"flex items-center text-center gap-2 justify-center shadow-inner-border shadow-wl-neutral-600 disabled:shadow-none rounded-full shrink-0 text-wl-neutral-600 hover:text-wl-neutral-0 disabled:text-wl-neutral-400 bg-transparent hover:bg-wl-neutral-600 disabled:bg-wl-neutral-200 p-2 w-9 h-9 text-sm font-medium\" data-ds-component=\"button\" data-ds-element=\"social-share-whatsapp\" data-ds-variant=\"outline\" href=\"https://wa.me/?text=Reforma%20Trabalhista%20de%20Bolsonaro%3A%20entenda%20a%20MP%20905%20%26%238211%3B%20e%20por%20que%20ela%20pode%20ser%20contestada%20judicialmente https%3A%2F%2Fwww.infomoney.com.br%2Fpolitica%2F10-pontos-para-entender-a-mp-905-e-por-que-ela-pode-ser-contestada-judicialmente%2F%3Futm_source%3Dwhatsapp%26utm_medium%3Dsocial\" target=\"_blank\" title=\"Compartilhar no whatsapp\">\n",
       "<div class=\"size-5\">\n",
       "<span class=\"w-full h-full [&amp;&gt;svg]:w-full [&amp;&gt;svg]:h-full\"><svg fill=\"none\" viewbox=\"0 0 18 18\" xmlns=\"http://www.w3.org/2000/svg\">\n",
       "<path clip-rule=\"evenodd\" d=\"M14.9943 2.97035C13.4041 1.37811 11.2892 0.500808 9.03575 0.5C4.39235 0.5 0.613316 4.27863 0.611701 8.92326C0.610893 10.408 0.999056 11.8573 1.7362 13.1345L0.541016 17.5L5.00671 16.3286C6.23702 17 7.62245 17.3534 9.03213 17.3538H9.03575C13.6784 17.3538 17.4578 13.5747 17.4594 8.93012C17.4602 6.67912 16.5849 4.56299 14.9943 2.97075V2.97035ZM9.03575 15.9312H9.03293C7.77674 15.9308 6.54442 15.5931 5.46921 14.9553L5.21352 14.8035L2.56342 15.4986L3.27068 12.9147L3.10426 12.6498C2.40347 11.535 2.03308 10.2465 2.03389 8.92368C2.0355 5.06344 5.17635 1.92259 9.03862 1.92259C10.9087 1.9234 12.6666 2.65247 13.9886 3.9761C15.3106 5.29933 16.038 7.0588 16.0373 8.92932C16.0356 12.79 12.8948 15.9308 9.03575 15.9308V15.9312ZM12.8762 10.6876C12.6657 10.5822 11.6309 10.0732 11.4378 10.0029C11.2448 9.93263 11.1046 9.89752 10.9645 10.1083C10.8243 10.3192 10.4208 10.7934 10.298 10.9335C10.1752 11.0741 10.0524 11.0915 9.84196 10.986C9.63156 10.8806 8.95337 10.6585 8.14918 9.94151C7.52353 9.3833 7.10099 8.69425 6.97824 8.48338C6.85544 8.27255 6.96531 8.15864 7.0703 8.05403C7.16481 7.95952 7.28075 7.80805 7.38616 7.68525C7.49162 7.56245 7.52635 7.47443 7.59661 7.33424C7.66691 7.19368 7.63176 7.07092 7.57926 6.96547C7.52672 6.86006 7.10588 5.82399 6.93016 5.40272C6.75928 4.99235 6.58564 5.04809 6.45677 5.04123C6.33397 5.03516 6.19383 5.03396 6.05327 5.03396C5.91271 5.03396 5.68487 5.08646 5.49181 5.29731C5.29876 5.50813 4.75507 6.01747 4.75507 7.05311C4.75507 8.08876 5.5092 9.09009 5.61461 9.23065C5.72002 9.37122 7.09897 11.497 9.21025 12.4091C9.71235 12.6259 10.1045 12.7556 10.4103 12.8526C10.9144 13.0129 11.3732 12.9903 11.7359 12.9362C12.1403 12.8756 12.9812 12.4268 13.1565 11.9353C13.3318 11.4437 13.3318 11.022 13.2793 10.9343C13.2268 10.8467 13.0863 10.7938 12.8758 10.6884L12.8762 10.6876Z\" fill=\"currentColor\" fill-rule=\"evenodd\"></path>\n",
       "</svg>\n",
       "</span> </div>\n",
       "</a>\n",
       "<a class=\"flex items-center text-center gap-2 justify-center shadow-inner-border shadow-wl-neutral-600 disabled:shadow-none rounded-full shrink-0 text-wl-neutral-600 hover:text-wl-neutral-0 disabled:text-wl-neutral-400 bg-transparent hover:bg-wl-neutral-600 disabled:bg-wl-neutral-200 p-2 w-9 h-9 text-sm font-medium\" data-ds-component=\"button\" data-ds-element=\"social-share-facebook\" data-ds-variant=\"outline\" href=\"https://facebook.com/sharer/sharer.php?u=https%3A%2F%2Fwww.infomoney.com.br%2Fpolitica%2F10-pontos-para-entender-a-mp-905-e-por-que-ela-pode-ser-contestada-judicialmente%2F%3Futm_source%3Dfacebook%26utm_medium%3Dsocial\" target=\"_blank\" title=\"Compartilhar no facebook\">\n",
       "<div class=\"size-5\">\n",
       "<span class=\"w-full h-full [&amp;&gt;svg]:w-full [&amp;&gt;svg]:h-full\"><svg fill=\"none\" viewbox=\"0 0 13 25\" xmlns=\"http://www.w3.org/2000/svg\">\n",
       "<path d=\"M11.9214 13.8981L12.5825 9.58738H8.4466V6.79126C8.4466 5.61194 9.02447 4.46117 10.8769 4.46117H12.7573V0.791262C12.7573 0.791262 11.0508 0.5 9.41913 0.5C6.01282 0.5 3.78641 2.56447 3.78641 6.30194V9.58738H0V13.8981H3.78641V24.3188C5.33042 24.5604 6.90259 24.5604 8.4466 24.3188V13.8981H11.9214Z\" fill=\"currentColor\"></path>\n",
       "</svg>\n",
       "</span> </div>\n",
       "</a>\n",
       "<a class=\"flex items-center text-center gap-2 justify-center shadow-inner-border shadow-wl-neutral-600 disabled:shadow-none rounded-full shrink-0 text-wl-neutral-600 hover:text-wl-neutral-0 disabled:text-wl-neutral-400 bg-transparent hover:bg-wl-neutral-600 disabled:bg-wl-neutral-200 p-2 w-9 h-9 text-sm font-medium\" data-ds-component=\"button\" data-ds-element=\"social-share-twitter\" data-ds-variant=\"outline\" href=\"https://twitter.com/intent/tweet?url=https%3A%2F%2Fwww.infomoney.com.br%2Fpolitica%2F10-pontos-para-entender-a-mp-905-e-por-que-ela-pode-ser-contestada-judicialmente%2F%3Futm_source%3Dtwitter%26utm_medium%3Dsocial&amp;text=Reforma Trabalhista de Bolsonaro: entenda a MP 905 – e por que ela pode ser contestada judicialmente&amp;via=InfoMoney\" target=\"_blank\" title=\"Compartilhar no twitter\">\n",
       "<div class=\"size-5\">\n",
       "<span class=\"w-full h-full [&amp;&gt;svg]:w-full [&amp;&gt;svg]:h-full\"><svg fill=\"none\" viewbox=\"0 0 24 22\" xmlns=\"http://www.w3.org/2000/svg\">\n",
       "<path clip-rule=\"evenodd\" d=\"M8.99079 11.9381L0 0.5H7.12135L12.6713 7.56951L18.6005 0.53183H22.5226L14.5676 9.98506L24 22H16.8999L10.8905 14.3548L4.47476 21.9788H0.531444L8.99079 11.9381ZM17.9348 19.8807L4.36657 2.61927H6.08565L19.6368 19.8807H17.9348Z\" fill=\"currentColor\" fill-rule=\"evenodd\"></path>\n",
       "</svg>\n",
       "</span> </div>\n",
       "</a>\n",
       "<a class=\"flex items-center text-center gap-2 justify-center shadow-inner-border shadow-wl-neutral-600 disabled:shadow-none rounded-full shrink-0 text-wl-neutral-600 hover:text-wl-neutral-0 disabled:text-wl-neutral-400 bg-transparent hover:bg-wl-neutral-600 disabled:bg-wl-neutral-200 p-2 w-9 h-9 text-sm font-medium\" data-ds-component=\"button\" data-ds-element=\"social-share-linkedin\" data-ds-variant=\"outline\" href=\"https://www.linkedin.com/shareArticle?mini=true&amp;url=https%3A%2F%2Fwww.infomoney.com.br%2Fpolitica%2F10-pontos-para-entender-a-mp-905-e-por-que-ela-pode-ser-contestada-judicialmente%2F%3Futm_source%3Dlinkedin%26utm_medium%3Dsocial&amp;title=Reforma%20Trabalhista%20de%20Bolsonaro%3A%20entenda%20a%20MP%20905%20%26%238211%3B%20e%20por%20que%20ela%20pode%20ser%20contestada%20judicialmente&amp;source=InfoMoney\" target=\"_blank\" title=\"Compartilhar no linkedin\">\n",
       "<div class=\"size-5\">\n",
       "<span class=\"w-full h-full [&amp;&gt;svg]:w-full [&amp;&gt;svg]:h-full\"><svg fill=\"none\" viewbox=\"0 0 24 25\" xmlns=\"http://www.w3.org/2000/svg\">\n",
       "<path d=\"M22.2283 0.5H1.77167C1.30179 0.5 0.851161 0.686657 0.518909 1.01891C0.186657 1.35116 0 1.80179 0 2.27167V22.7283C0 23.1982 0.186657 23.6488 0.518909 23.9811C0.851161 24.3133 1.30179 24.5 1.77167 24.5H22.2283C22.6982 24.5 23.1488 24.3133 23.4811 23.9811C23.8133 23.6488 24 23.1982 24 22.7283V2.27167C24 1.80179 23.8133 1.35116 23.4811 1.01891C23.1488 0.686657 22.6982 0.5 22.2283 0.5ZM7.15333 20.945H3.545V9.48333H7.15333V20.945ZM5.34667 7.895C4.93736 7.8927 4.53792 7.7692 4.19873 7.54009C3.85955 7.31098 3.59584 6.98653 3.44088 6.60769C3.28591 6.22885 3.24665 5.81259 3.32803 5.41145C3.40941 5.01032 3.6078 4.64228 3.89816 4.35378C4.18851 4.06529 4.55782 3.86927 4.95947 3.79046C5.36112 3.71165 5.77711 3.75359 6.15495 3.91099C6.53279 4.06838 6.85554 4.33417 7.08247 4.67481C7.30939 5.01546 7.43032 5.41569 7.43 5.825C7.43386 6.09903 7.38251 6.37104 7.27901 6.6248C7.17551 6.87857 7.02198 7.1089 6.82757 7.30207C6.63316 7.49523 6.40185 7.64728 6.14742 7.74915C5.893 7.85102 5.62067 7.90062 5.34667 7.895ZM20.4533 20.955H16.8467V14.6933C16.8467 12.8467 16.0617 12.2767 15.0483 12.2767C13.9783 12.2767 12.9283 13.0833 12.9283 14.74V20.955H9.32V9.49167H12.79V11.08H12.8367C13.185 10.375 14.405 9.17 16.2667 9.17C18.28 9.17 20.455 10.365 20.455 13.865L20.4533 20.955Z\" fill=\"currentColor\"></path>\n",
       "</svg>\n",
       "</span> </div>\n",
       "</a>\n",
       "<a class=\"flex items-center text-center gap-2 justify-center shadow-inner-border shadow-wl-neutral-600 disabled:shadow-none rounded-full shrink-0 text-wl-neutral-600 hover:text-wl-neutral-0 disabled:text-wl-neutral-400 bg-transparent hover:bg-wl-neutral-600 disabled:bg-wl-neutral-200 p-2 w-9 h-9 text-sm font-medium\" data-ds-component=\"button\" data-ds-element=\"social-share-telegram\" data-ds-variant=\"outline\" href=\"https://telegram.me/share/url?url=https%3A%2F%2Fwww.infomoney.com.br%2Fpolitica%2F10-pontos-para-entender-a-mp-905-e-por-que-ela-pode-ser-contestada-judicialmente%2F%3Futm_source%3Dtelegram%26utm_medium%3Dsocial&amp;text=Reforma%20Trabalhista%20de%20Bolsonaro%3A%20entenda%20a%20MP%20905%20%26%238211%3B%20e%20por%20que%20ela%20pode%20ser%20contestada%20judicialmente&amp;via=\" target=\"_blank\" title=\"Compartilhar no telegram\">\n",
       "<div class=\"size-5\">\n",
       "<span class=\"w-full h-full [&amp;&gt;svg]:w-full [&amp;&gt;svg]:h-full\"><svg fill=\"none\" viewbox=\"0 0 22 19\" xmlns=\"http://www.w3.org/2000/svg\">\n",
       "<path clip-rule=\"evenodd\" d=\"M1.51239 8.34877C7.41795 5.77581 11.3559 4.07955 13.3263 3.26001C18.9521 0.920042 20.1211 0.513565 20.883 0.500143C21.0506 0.497191 21.4253 0.538722 21.668 0.735667C21.873 0.901964 21.9294 1.12661 21.9563 1.28427C21.9833 1.44194 22.0169 1.80111 21.9902 2.08176C21.6854 5.28499 20.3662 13.0584 19.6951 16.6461C19.4111 18.1642 18.852 18.6732 18.3107 18.723C17.1343 18.8312 16.2409 17.9455 15.1015 17.1986C13.3186 16.0299 12.3113 15.3023 10.5807 14.1619C8.58058 12.8438 9.87715 12.1194 11.017 10.9355C11.3153 10.6257 16.4986 5.91112 16.5989 5.48343C16.6115 5.42994 16.6231 5.23056 16.5046 5.12528C16.3862 5.02 16.2114 5.056 16.0852 5.08463C15.9064 5.12522 13.0581 7.00783 7.54035 10.7325C6.73187 11.2876 5.99958 11.5581 5.34347 11.5439C4.62016 11.5283 3.2288 11.135 2.19447 10.7988C0.925826 10.3864 -0.0824703 10.1683 0.00532971 9.46798C0.0510613 9.10319 0.553413 8.73012 1.51239 8.34877Z\" fill=\"currentColor\" fill-rule=\"evenodd\"></path>\n",
       "</svg>\n",
       "</span> </div>\n",
       "</a>\n",
       "<button class=\"flex items-center text-center gap-2 justify-center shadow-inner-border shadow-wl-neutral-600 disabled:shadow-none rounded-full shrink-0 text-wl-neutral-600 hover:text-wl-neutral-0 disabled:text-wl-neutral-400 bg-transparent hover:bg-wl-neutral-600 disabled:bg-wl-neutral-200 p-2 w-9 h-9 text-sm font-medium\" data-ds-component=\"button\" data-ds-element=\"social-share-copy-link\" data-ds-variant=\"outline\" href=\"\" target=\"_blank\" title=\"Copiar link\">\n",
       "<div class=\"size-5\">\n",
       "<span class=\"w-full h-full [&amp;&gt;svg]:w-full [&amp;&gt;svg]:h-full\"><svg fill=\"none\" viewbox=\"0 0 22 17\" xmlns=\"http://www.w3.org/2000/svg\">\n",
       "<path d=\"M5.25 0.5C2.3505 0.5 0 2.85051 0 5.75C0 8.0533 1.48322 10.0101 3.54662 10.7175C3.60778 10.2077 3.72795 9.7161 3.90008 9.2497C2.49602 8.7077 1.5 7.3452 1.5 5.75C1.5 3.67893 3.17893 2 5.25 2H11.75C13.8211 2 15.5 3.67893 15.5 5.75C15.5 7.8211 13.8211 9.5 11.75 9.5H10.75C10.3358 9.5 10 9.8358 10 10.25C10 10.6642 10.3358 11 10.75 11H11.75C14.6495 11 17 8.6495 17 5.75C17 2.85051 14.6495 0.5 11.75 0.5H5.25ZM18.3907 6.696C18.2977 7.1963 18.1473 7.6765 17.9467 8.1295C19.4198 8.5424 20.5 9.8951 20.5 11.5C20.5 13.433 18.933 15 17 15H10C8.067 15 6.5 13.433 6.5 11.5C6.5 9.567 8.067 8 10 8H11.25C11.6642 8 12 7.6642 12 7.25C12 6.8358 11.6642 6.5 11.25 6.5H10C7.23858 6.5 5 8.7386 5 11.5C5 14.2614 7.23858 16.5 10 16.5H17C19.7614 16.5 22 14.2614 22 11.5C22 9.2212 20.4755 7.2984 18.3907 6.696Z\" fill=\"currentColor\"></path>\n",
       "</svg>\n",
       "</span> </div>\n",
       "</button>\n",
       "</div>\n",
       "</div>\n",
       "<div class=\"px-6 md:px-0\">\n",
       "<figure class=\"mx-auto my-6 mx-auto space-y-3 max-w-2xl\" data-ds-component=\"media\">\n",
       "<img alt=\"(Shutterstock)\" class=\"rounded-sm w-full\" src=\"https://www.infomoney.com.br/wp-content/uploads/2019/11/shutterstock_1300372189.jpg?fit=1000%2C716&amp;quality=70&amp;strip=all\" srcset=\"https://www.infomoney.com.br/wp-content/uploads/2019/11/shutterstock_1300372189.jpg?w=1000&amp;quality=70&amp;strip=all 1000w, https://www.infomoney.com.br/wp-content/uploads/2019/11/shutterstock_1300372189.jpg?w=300&amp;quality=70&amp;strip=all 300w, https://www.infomoney.com.br/wp-content/uploads/2019/11/shutterstock_1300372189.jpg?w=768&amp;quality=70&amp;strip=all 768w, https://www.infomoney.com.br/wp-content/uploads/2019/11/shutterstock_1300372189.jpg?w=150&amp;quality=70&amp;strip=all 150w\"/>\n",
       "<figcaption class=\"text-xs text-wl-neutral-500\">\n",
       "                    (Shutterstock)                </figcaption>\n",
       "</figure>\n",
       "</div>\n",
       "<article class=\"im-article clear-fix\" data-ds-component=\"article\">\n",
       "<div class=\"relative [&amp;_iframe]:mx-auto z-0 md:mr-[calc((100%-42rem)/2)] ml-6 mb-6 mt-2 md:float-right flex flex-col lg:min-w-[300px] lg:max-w-[300px] bg-wl-neutral-50 min-h-[282px]\" data-ad-type=\"RETANGULO_AF\" data-ds-component=\"ad\">\n",
       "<div data-ads-type=\"RETANGULO_AF\" data-component-type=\"ads\"></div>\n",
       "<p class=\"py-2 mt-auto text-wl-neutral-500 text-xs text-center\">Publicidade</p>\n",
       "</div>\n",
       "<p>SÃO PAULO – Instituída pelo presidente Jair Bolsonaro na última segunda-feira (11), a Medida Provisória 905/2019 altera pontos da legislação trabalhista e cria o Contrato de Trabalho <strong>Verde Amarelo</strong>, dando incentivos a empresas para contratar jovens entre 18 e 29 anos, sem experiência na carteira, pelo prazo determinado de dois anos.</p><p>Para bancar a iniciativa, o governo anunciou que irá <a href=\"https://www.infomoney.com.br/politica/governo-vai-taxar-seguro-desemprego-para-bancar-empregos-de-mais-jovens/\">taxar o seguro-desemprego. </a>A estimativa oficial é de 1,8 milhão de vagas de emprego em um prazo de três anos.</p><p>Entre as principais condições criadas para incentivar as contratações na modalidade estão: isenção das alíquotas do Sistema S, do salário-educação e da contribuição patronal de 20%  para o FGTS. As mudanças geram um corte de até 34% dos impostos pagos sobre a folha.</p><div class=\"cta-middle\">\n",
       "<div class=\"im-cta\">\n",
       "<div class=\"max-w-2xl mx-auto space-y-4 px-6 xl:px-0 my-10\">\n",
       "<section class=\"border-8 border-blue-50 rounded-lg pb-6\">\n",
       "<div class=\"px-6\">\n",
       "<div class=\"flex gap-4 max-w-md mx-auto\">\n",
       "</div>\n",
       "</div>\n",
       "<div>\n",
       "<img alt=\"\" class=\"w-full h-full object-cover\" src=\"https://www.infomoney.com.br/wp-content/uploads/2025/01/900-x-300-com-texto-na-imagem-3.png?fit=900%2C300&amp;quality=70&amp;strip=all\"/>\n",
       "</div>\n",
       "<div class=\"mt-6 px-6\">\n",
       "<div class=\"max-w-md mx-auto\">\n",
       "<div class=\"mt-4\">\n",
       "<a aria-label=\"QUERO MEU ACESSO\" class=\"flex items-center justify-center gap-2 text-white rounded-full bg-wl-action-link hover:bg-wl-action-link-hover text-lg py-3.5 px-6\" href=\"https://lps.infomoney.com.br/manual-dividendos-guia-definitivo-inscricao?utm_source=infomoney&amp;utm_medium=materia&amp;utm_campaign=mdd&amp;utm_term=hiperlink-imagem&amp;utm_content=internas\" target=\"_self\">\n",
       "            QUERO MEU ACESSO                            <div class=\"size-5\">\n",
       "<span class=\"w-full h-full [&amp;&gt;svg]:w-full [&amp;&gt;svg]:h-full\"><svg fill=\"none\" height=\"16\" viewbox=\"0 0 16 16\" width=\"16\" xmlns=\"http://www.w3.org/2000/svg\">\n",
       "<path d=\"M2 7.99997C2 7.58576 2.33579 7.24997 2.75 7.24997L11.537 7.24997L8.24991 4.30891C7.94122 4.03271 7.91488 3.55857 8.19107 3.24988C8.46727 2.94119 8.94141 2.91485 9.2501 3.19105L14.0001 7.44104C14.1591 7.58332 14.25 7.7866 14.25 7.99997C14.25 8.21335 14.1591 8.41663 14.0001 8.5589L9.2501 12.8089C8.94141 13.0851 8.46727 13.0588 8.19107 12.7501C7.91488 12.4414 7.94122 11.9672 8.24991 11.691L11.537 8.74997L2.75 8.74997C2.33579 8.74997 2 8.41419 2 7.99997Z\" fill=\"currentColor\"></path>\n",
       "</svg>\n",
       "</span> </div>\n",
       "</a>\n",
       "</div>\n",
       "</div>\n",
       "</div>\n",
       "</section>\n",
       "</div>\n",
       "</div>\n",
       "</div><p>A MP também prevê para o Contrato Verde Amarelo a redução de 8% para 2% do valor do salário na contribuição do empregado para o Fundo do Tempo de Serviço (FGTS) e da multa de 40% para 20% – podendo ser resgatado também em casos de demissão por justa causa.<br/>\n",
       "Outra iniciativa é a antecipação de pagamentos, como férias, 13º salário e saldo do FGTS, podendo ser mensalmente resgatados, caso acordado entre empregado e empregador.</p><p><strong>Leia também:<br/>\n",
       "</strong><strong><a href=\"https://www.infomoney.com.br/politica/camara-conclui-votacao-da-mp-do-fgts-com-saque-de-ate-r-998-texto-segue-para-o-senado/\">• Câmara conclui votação da MP do FGTS com saque de até R$ 998; texto segue para o Senado</a></strong></p><p>Segundo o advogado Nelson Guimarães, sócio do escritório Bosisio Advogados, a MP mexe com pontos importantes que podem estimular ajuizamento de Ações Diretas de Inconstitucionalidade contra o pacote.</p> <div class=\"max-w-2xl rounded bg-wl-neutral-50 text-xs leading-4 pb-8 text-center text-wl-neutral-500 mx-auto mb-6 px-6 xl:px-0\" data-ad-type=\"Video\" data-ds-component=\"ad\">\n",
       "<p class=\"py-2\">Continua depois da publicidade</p>\n",
       "<div class=\"flex justify-center\" data-ds-element=\"video\">\n",
       "<div data-ads-type=\"Video\" data-component-type=\"ads\"></div>\n",
       "</div>\n",
       "</div>\n",
       "<p>Um dos pontos sensíveis é a alteração da CLT para a inserção dos mecanismos do Contrato Verde Amarelo, que, segundo Guimarães, comprometem o princípio da isonomia. “Como o contrato cria uma categoria diferente de empregados, com alíquotas e regras diferenciadas, pode haver algum questionamento a respeito da constitucionalidade desses dispositivos”, explica o advogado.</p><p>Outro tópico frágil apontado pelo jurista é o Art. 15. da MP, que versa sobre seguro por exposição a acidentes.</p><p>O texto regulamenta que o empregador, mediante acordo com o trabalhador, pode contratar um seguro privado de acidentes pessoais e pagar 5% do adicional de periculosidade sobre o salário base do empregado, diferente dos 30% estabelecido pela lei para os trabalhadores do regime CLT.</p> <div class=\"max-w-2xl [&amp;_iframe]:mx-auto z-0 bg-wl-neutral-50 text-xs leading-4 py-4 px-14 text-center text-wl-neutral-500 mx-auto mb-6 xl:px-0 justify-center min-h-[320px]\" data-ad-type=\"RETANGULO_BF\" data-ds-component=\"ad\">\n",
       "<p class=\"py-2\">Continua depois da publicidade</p>\n",
       "<div data-ads-type=\"RETANGULO_BF\" data-component-type=\"ads\"></div>\n",
       "</div>\n",
       "<p>A medida ainda estabelece que o adicional só será pago quando houver exposição permanente do trabalhador por, no mínimo, 50% da jornada normal de trabalho. A questão exposta, de acordo com Guimarães, contraria uma jurisprudência consolidada do Tribunal Superior do Trabalho (TST) a respeito do tema e subverte o próprio conceito de periculosidade.</p><p>“Segundo as normas regulamentadoras, o fato do trabalhador estar exposto a risco já lhe dar o direito ao adicional de periculosidade, desde que essa exposição não seja eventual. Esse direito independe da quantidade de tempo, porque o risco não escolhe horário para acontecer. Ao estabelecer um critério de tempo, a MP abre brechas para contestações”, diz Guimarães.</p><p>Para a advogada Maria Lúcia Benhame, sócia-fundadora do escritório Benhame Sociedade de Advogados, o texto não estabelece o que é periculosidade, dificultando a sua interpretação.</p> <div class=\"max-w-2xl [&amp;_iframe]:mx-auto z-0 bg-wl-neutral-50 text-xs leading-4 py-4 px-14 text-center text-wl-neutral-500 mx-auto mb-6 xl:px-0 justify-center min-h-[320px]\" data-ad-type=\"RETANGULO_BF\" data-ds-component=\"ad\">\n",
       "<p class=\"py-2\">Continua depois da publicidade</p>\n",
       "<div data-ads-type=\"RETANGULO_BF\" data-component-type=\"ads\"></div>\n",
       "</div>\n",
       "<p>“A MP teria que definir melhor o que é condição perigosa nos seus termos para não gerar insegurança jurídica, porque você tem um ato jurídico que vai se prolongar além de uma possível validade que, eventualmente, possa ser cancelada ou alterada numa lei posterior”, explica a jurista.</p><p>Maria Lúcia observa que a medida pode contribuir com o objetivo do governo de gerar emprego, porque o empresário vai ter menos medo de contratar com os estímulos propostos. Mas pontua que o êxito do projeto parte da melhoria das condições econômicas.</p><p>“Do ponto de vista das empresas, a MP criou um ambiente em que é mais fácil e barato contratar e demitir, porque a multa do fundo está em 20% e o empresário recebeu outras contrapartidas. Então, caso a empresa esteja em um nicho de atividade econômica melhor, ela vai se sentir à vontade para contratar. Porém o que vai gerar emprego mesmo é o aquecimento da economia. Lei nenhuma cria emprego”, opina Benhame.</p> <div class=\"max-w-2xl [&amp;_iframe]:mx-auto z-0 bg-wl-neutral-50 text-xs leading-4 py-4 px-14 text-center text-wl-neutral-500 mx-auto mb-6 xl:px-0 justify-center min-h-[320px]\" data-ad-type=\"RETANGULO_BF\" data-ds-component=\"ad\">\n",
       "<p class=\"py-2\">Continua depois da publicidade</p>\n",
       "<div data-ads-type=\"RETANGULO_BF\" data-component-type=\"ads\"></div>\n",
       "</div>\n",
       "<p>O governo também aproveitou a criação do Contrato de Trabalho Verde Amarelo para realizar novas modificações nas regras trabalhistas. Foram incluídas mudanças que reorganiza o sistema de fiscalização do trabalho, altera a legislação sobre a participação nos lucros e prêmios e amplia a jornada de trabalho dos bancários.</p><h2><b>Entenda as principais mudanças da MP na legislação trabalhista </b></h2><h3><b>Alimentação </b></h3><p>O governo retirou do cálculo do salário o fornecimento de alimentação, seja in natura ou por meio de tickets, vales e cupons. Com a retirada da natureza salarial, o fornecimento passa a ser não tributável para efeito da contribuição previdenciária e dos demais tributos incidentes sobre a folha de salários, além de não integrar a base de cálculo do imposto de renda.</p><h3><b>Gorjeta </b></h3><p>As gorjetas destinadas aos trabalhadores farão parte da remuneração do empregado, sendo sua distribuição de rateio e custeio definidas em convenção ou acordo coletivo e o seu valor correspondente inseridos em nota fiscal.</p> <div class=\"max-w-2xl [&amp;_iframe]:mx-auto z-0 bg-wl-neutral-50 text-xs leading-4 py-4 px-14 text-center text-wl-neutral-500 mx-auto mb-6 xl:px-0 justify-center min-h-[320px]\" data-ad-type=\"RETANGULO_BF\" data-ds-component=\"ad\">\n",
       "<p class=\"py-2\">Continua depois da publicidade</p>\n",
       "<div data-ads-type=\"RETANGULO_BF\" data-component-type=\"ads\"></div>\n",
       "</div>\n",
       "<p>O texto também estabelece que o percentual recebido deve ser anotado na carteira de trabalho dos empregadores e não constitui receita própria dos empregadores.</p><h3><b>Lucros e prêmios                </b></h3><p>A MP permite que as partes definam quais políticas devem ser adotadas e determina que as regras que disciplinam o pagamento do prêmio devem permanecer arquivadas por qualquer meio, pelo prazo de seis anos, contado da data de pagamento.</p><h3><b>Armazenamento eletrônico</b></h3><p>Fica autorizado o armazenamento em meio eletrônico de documentos relativos a deveres e obrigações trabalhistas.</p><h3><b>FGTS </b></h3><p>Acaba com o adicional de 10% da multa rescisória sobre o FGTS pago pelas empresas em caso de demissão sem justa causa.</p><h3><b>Registro profissional</b></h3><p>O texto retira a exigência de registro de trabalho para profissões que não tenham conselhos ou ordens de classe, como jornalistas, arquivistas, publicitários e lavadores de carro. Além de revogar leis que regulamenta o exercício de profissões, entre elas: corretor de seguro e guardador e lavador de carros.</p><h3><b>Acordos</b></h3><p>Em execução desde a reforma trabalhista de Temer, o texto permite a execução de um acordo extrajudicial entre as partes, no encerramento do contrato.</p><h3><b>Bancários</b></h3><p>O governo estende até aos sábados o trabalho dos bancários, além de aumentar a carga horária de 6 para 8 horas diárias da categoria, exceto os trabalhadores que operam exclusivamente nos caixas em atendimento ao público.</p><h3><b>Trabalho aos domingos e feriados</b></h3><p>A MP retorna com a proposta do governo – retirada pelos senadores na MP da Liberdade Econômica, em agosto -, de autorizar o trabalho aos domingos e feriados para diversas categorias.</p><p>Para a indústria, a folga dominical deve acontecer uma vez no período máximo de sete semanas, enquanto o setor de comércios e serviços está garantido um domingo no período máximo de quatro semanas.</p><h3><b>Fiscalização</b></h3><p>O texto aumenta os valores das multas administrativas, aplicadas por auditores do trabalho, ordenando de acordo com gravidade da infração, porte da empresa e funcionários prejudicados.  O governo ainda implanta a dupla visita para situações de gradação leve. “Primeiro, o auditor-fiscal alerta para possíveis problemas, que só será convertida em multa em caso de reincidência”.</p><p><strong>Pense no seu futuro: invista. <em><a href=\"https://cadastro.xpi.com.br/passo/default/step1?utm_source=infomoney&amp;utm_campaign=materia-redacao&amp;utm_medium=link&amp;utm_content=pablo-santana&amp;utm_term=1360794\">Abra uma conta gratuita na XP.</a></em></strong></p> </article>\n",
       "<div class=\"px-6 md:px-0 my-6\">\n",
       "<div class=\"max-w-2xl mx-auto\">\n",
       "<div data-ds-component=\"related-topics\">\n",
       "<h2 class=\"text-2xl md:text-4xl font-bold tracking-tight text-wl-neutral-950 pb-6\">Tópicos relacionados</h2>\n",
       "<ul class=\"flex flex-wrap max-w-xl gap-x-3 gap-y-3\">\n",
       "<li>\n",
       "<a aria-label=\"Economia\" class=\"flex items-center text-base md:text-lg font-semibold tracking-tight text-wl-action-link hover:text-wl-action-link-hover underline underline-offset-2\" href=\"https://www.infomoney.com.br/economia/\">\n",
       "                            Economia                            <div class=\"ml-1 w-3.5 h-3.5 flex justify-center items-center\">\n",
       "<span class=\"w-full h-full [&amp;&gt;svg]:w-full [&amp;&gt;svg]:h-full\"><svg fill=\"none\" viewbox=\"0 0 12 12\" xmlns=\"http://www.w3.org/2000/svg\">\n",
       "<path d=\"M11.4688 1V9.125C11.4688 9.24932 11.4194 9.36855 11.3315 9.45646C11.2436 9.54436 11.1243 9.59375 11 9.59375C10.8757 9.59375 10.7565 9.54436 10.6686 9.45646C10.5807 9.36855 10.5313 9.24932 10.5313 9.125V2.13125L1.33128 11.3313C1.24242 11.4141 1.12489 11.4591 1.00345 11.457C0.882012 11.4548 0.766146 11.4056 0.680262 11.3198C0.594379 11.2339 0.545184 11.118 0.543042 10.9966C0.540899 10.8751 0.585976 10.7576 0.668776 10.6687L9.86878 1.46875H2.87503C2.75071 1.46875 2.63148 1.41936 2.54357 1.33146C2.45566 1.24355 2.40628 1.12432 2.40628 1C2.40628 0.87568 2.45566 0.756451 2.54357 0.668544C2.63148 0.580636 2.75071 0.53125 2.87503 0.53125H11C11.1243 0.53125 11.2436 0.580636 11.3315 0.668544C11.4194 0.756451 11.4688 0.87568 11.4688 1Z\" fill=\"currentColor\"></path>\n",
       "</svg>\n",
       "</span> </div>\n",
       "</a>\n",
       "</li>\n",
       "<li>\n",
       "<a aria-label=\"Política\" class=\"flex items-center text-base md:text-lg font-semibold tracking-tight text-wl-action-link hover:text-wl-action-link-hover underline underline-offset-2\" href=\"https://www.infomoney.com.br/politica/\">\n",
       "                            Política                            <div class=\"ml-1 w-3.5 h-3.5 flex justify-center items-center\">\n",
       "<span class=\"w-full h-full [&amp;&gt;svg]:w-full [&amp;&gt;svg]:h-full\"><svg fill=\"none\" viewbox=\"0 0 12 12\" xmlns=\"http://www.w3.org/2000/svg\">\n",
       "<path d=\"M11.4688 1V9.125C11.4688 9.24932 11.4194 9.36855 11.3315 9.45646C11.2436 9.54436 11.1243 9.59375 11 9.59375C10.8757 9.59375 10.7565 9.54436 10.6686 9.45646C10.5807 9.36855 10.5313 9.24932 10.5313 9.125V2.13125L1.33128 11.3313C1.24242 11.4141 1.12489 11.4591 1.00345 11.457C0.882012 11.4548 0.766146 11.4056 0.680262 11.3198C0.594379 11.2339 0.545184 11.118 0.543042 10.9966C0.540899 10.8751 0.585976 10.7576 0.668776 10.6687L9.86878 1.46875H2.87503C2.75071 1.46875 2.63148 1.41936 2.54357 1.33146C2.45566 1.24355 2.40628 1.12432 2.40628 1C2.40628 0.87568 2.45566 0.756451 2.54357 0.668544C2.63148 0.580636 2.75071 0.53125 2.87503 0.53125H11C11.1243 0.53125 11.2436 0.580636 11.3315 0.668544C11.4194 0.756451 11.4688 0.87568 11.4688 1Z\" fill=\"currentColor\"></path>\n",
       "</svg>\n",
       "</span> </div>\n",
       "</a>\n",
       "</li>\n",
       "<li>\n",
       "<a aria-label=\"CLT\" class=\"flex items-center text-base md:text-lg font-semibold tracking-tight text-wl-action-link hover:text-wl-action-link-hover underline underline-offset-2\" href=\"https://www.infomoney.com.br/tudo-sobre/clt/\">\n",
       "                            CLT                            <div class=\"ml-1 w-3.5 h-3.5 flex justify-center items-center\">\n",
       "<span class=\"w-full h-full [&amp;&gt;svg]:w-full [&amp;&gt;svg]:h-full\"><svg fill=\"none\" viewbox=\"0 0 12 12\" xmlns=\"http://www.w3.org/2000/svg\">\n",
       "<path d=\"M11.4688 1V9.125C11.4688 9.24932 11.4194 9.36855 11.3315 9.45646C11.2436 9.54436 11.1243 9.59375 11 9.59375C10.8757 9.59375 10.7565 9.54436 10.6686 9.45646C10.5807 9.36855 10.5313 9.24932 10.5313 9.125V2.13125L1.33128 11.3313C1.24242 11.4141 1.12489 11.4591 1.00345 11.457C0.882012 11.4548 0.766146 11.4056 0.680262 11.3198C0.594379 11.2339 0.545184 11.118 0.543042 10.9966C0.540899 10.8751 0.585976 10.7576 0.668776 10.6687L9.86878 1.46875H2.87503C2.75071 1.46875 2.63148 1.41936 2.54357 1.33146C2.45566 1.24355 2.40628 1.12432 2.40628 1C2.40628 0.87568 2.45566 0.756451 2.54357 0.668544C2.63148 0.580636 2.75071 0.53125 2.87503 0.53125H11C11.1243 0.53125 11.2436 0.580636 11.3315 0.668544C11.4194 0.756451 11.4688 0.87568 11.4688 1Z\" fill=\"currentColor\"></path>\n",
       "</svg>\n",
       "</span> </div>\n",
       "</a>\n",
       "</li>\n",
       "<li>\n",
       "<a aria-label=\"Governo\" class=\"flex items-center text-base md:text-lg font-semibold tracking-tight text-wl-action-link hover:text-wl-action-link-hover underline underline-offset-2\" href=\"https://www.infomoney.com.br/tudo-sobre/governo/\">\n",
       "                            Governo                            <div class=\"ml-1 w-3.5 h-3.5 flex justify-center items-center\">\n",
       "<span class=\"w-full h-full [&amp;&gt;svg]:w-full [&amp;&gt;svg]:h-full\"><svg fill=\"none\" viewbox=\"0 0 12 12\" xmlns=\"http://www.w3.org/2000/svg\">\n",
       "<path d=\"M11.4688 1V9.125C11.4688 9.24932 11.4194 9.36855 11.3315 9.45646C11.2436 9.54436 11.1243 9.59375 11 9.59375C10.8757 9.59375 10.7565 9.54436 10.6686 9.45646C10.5807 9.36855 10.5313 9.24932 10.5313 9.125V2.13125L1.33128 11.3313C1.24242 11.4141 1.12489 11.4591 1.00345 11.457C0.882012 11.4548 0.766146 11.4056 0.680262 11.3198C0.594379 11.2339 0.545184 11.118 0.543042 10.9966C0.540899 10.8751 0.585976 10.7576 0.668776 10.6687L9.86878 1.46875H2.87503C2.75071 1.46875 2.63148 1.41936 2.54357 1.33146C2.45566 1.24355 2.40628 1.12432 2.40628 1C2.40628 0.87568 2.45566 0.756451 2.54357 0.668544C2.63148 0.580636 2.75071 0.53125 2.87503 0.53125H11C11.1243 0.53125 11.2436 0.580636 11.3315 0.668544C11.4194 0.756451 11.4688 0.87568 11.4688 1Z\" fill=\"currentColor\"></path>\n",
       "</svg>\n",
       "</span> </div>\n",
       "</a>\n",
       "</li>\n",
       "<li>\n",
       "<a aria-label=\"Medida Provisória\" class=\"flex items-center text-base md:text-lg font-semibold tracking-tight text-wl-action-link hover:text-wl-action-link-hover underline underline-offset-2\" href=\"https://www.infomoney.com.br/tudo-sobre/medida-provisoria/\">\n",
       "                            Medida Provisória                            <div class=\"ml-1 w-3.5 h-3.5 flex justify-center items-center\">\n",
       "<span class=\"w-full h-full [&amp;&gt;svg]:w-full [&amp;&gt;svg]:h-full\"><svg fill=\"none\" viewbox=\"0 0 12 12\" xmlns=\"http://www.w3.org/2000/svg\">\n",
       "<path d=\"M11.4688 1V9.125C11.4688 9.24932 11.4194 9.36855 11.3315 9.45646C11.2436 9.54436 11.1243 9.59375 11 9.59375C10.8757 9.59375 10.7565 9.54436 10.6686 9.45646C10.5807 9.36855 10.5313 9.24932 10.5313 9.125V2.13125L1.33128 11.3313C1.24242 11.4141 1.12489 11.4591 1.00345 11.457C0.882012 11.4548 0.766146 11.4056 0.680262 11.3198C0.594379 11.2339 0.545184 11.118 0.543042 10.9966C0.540899 10.8751 0.585976 10.7576 0.668776 10.6687L9.86878 1.46875H2.87503C2.75071 1.46875 2.63148 1.41936 2.54357 1.33146C2.45566 1.24355 2.40628 1.12432 2.40628 1C2.40628 0.87568 2.45566 0.756451 2.54357 0.668544C2.63148 0.580636 2.75071 0.53125 2.87503 0.53125H11C11.1243 0.53125 11.2436 0.580636 11.3315 0.668544C11.4194 0.756451 11.4688 0.87568 11.4688 1Z\" fill=\"currentColor\"></path>\n",
       "</svg>\n",
       "</span> </div>\n",
       "</a>\n",
       "</li>\n",
       "</ul>\n",
       "</div>\n",
       "</div>\n",
       "</div>\n",
       "<div class=\"px-6 md:px-0 my-6\">\n",
       "<div class=\"max-w-2xl mx-auto border-t border-b border-neutral-200\">\n",
       "<div class=\"py-6\" data-ds-component=\"author-bio\">\n",
       "<p class=\"flex\">\n",
       "<a aria-label=\"Pablo Santana\" class=\"text-base md:text-lg font-semibold tracking-tight text-wl-action-link hover:text-wl-action-link-hover underline underline-offset-2\" href=\"https://www.infomoney.com.br/autor/pablo-santana/\">\n",
       "                    Pablo Santana                </a>\n",
       "</p>\n",
       "<p class=\"text-sm text-wl-neutral-600 mb-4\">\n",
       "                    Repórter do InfoMoney. Cobre tecnologia, finanças pessoais, carreiras e negócios                </p>\n",
       "<p class=\"text-im-sm flex space-x-2\">\n",
       "</p>\n",
       "</div>\n",
       "</div>\n",
       "</div>\n",
       "</main>\n",
       "<footer id=\"siteFooter\">\n",
       "<div class=\"font-im-sans antialiased bg-wl-neutral-600 relative z-40 text-wl-white leading-normal\">\n",
       "<div class=\"max-w-8xl mx-auto md:!py-2 md:flex md:flex-row md:justify-between md:border-b md:border-wl-neutral-500\">\n",
       "<ul class=\"px-6 !py-4 border-b border-wl-neutral-500 md:border-0\">\n",
       "<li>\n",
       "<a aria-label=\"InfoMoney\" class=\"!py-2 block text-xl text-wl-white md:text-2xl font-semibold traking-tighter md:tracking-tight hover:no-underline\" href=\"#\">\n",
       "                                        InfoMoney                                    </a>\n",
       "<ul class=\"columns-2 md:columns-1 text-wl-neutral-200 text-base md:text-lg font-bold\">\n",
       "<li>\n",
       "<a aria-label=\"Últimas Notícias\" class=\"!py-2 md:!py-1 block hover:underline hover:text-wl-neutral-200 underline-offset-4\" href=\"https://www.infomoney.com.br/ultimas-noticias/\">\n",
       "                                                        Últimas Notícias                                                    </a>\n",
       "</li>\n",
       "<li>\n",
       "<a aria-label=\"Mercados\" class=\"!py-2 md:!py-1 block hover:underline hover:text-wl-neutral-200 underline-offset-4\" href=\"https://www.infomoney.com.br/mercados/\">\n",
       "                                                        Mercados                                                    </a>\n",
       "</li>\n",
       "<li>\n",
       "<a aria-label=\"Onde Investir\" class=\"!py-2 md:!py-1 block hover:underline hover:text-wl-neutral-200 underline-offset-4\" href=\"https://www.infomoney.com.br/onde-investir/\">\n",
       "                                                        Onde Investir                                                    </a>\n",
       "</li>\n",
       "<li>\n",
       "<a aria-label=\"Política\" class=\"!py-2 md:!py-1 block hover:underline hover:text-wl-neutral-200 underline-offset-4\" href=\"https://www.infomoney.com.br/politica/\">\n",
       "                                                        Política                                                    </a>\n",
       "</li>\n",
       "<li>\n",
       "<a aria-label=\"Economia\" class=\"!py-2 md:!py-1 block hover:underline hover:text-wl-neutral-200 underline-offset-4\" href=\"https://www.infomoney.com.br/economia/\">\n",
       "                                                        Economia                                                    </a>\n",
       "</li>\n",
       "<li>\n",
       "<a aria-label=\"Mundo\" class=\"!py-2 md:!py-1 block hover:underline hover:text-wl-neutral-200 underline-offset-4\" href=\"https://www.infomoney.com.br/mundo/\">\n",
       "                                                        Mundo                                                    </a>\n",
       "</li>\n",
       "<li>\n",
       "<a aria-label=\"Business\" class=\"!py-2 md:!py-1 block hover:underline hover:text-wl-neutral-200 underline-offset-4\" href=\"https://www.infomoney.com.br/business/\">\n",
       "                                                        Business                                                    </a>\n",
       "</li>\n",
       "<li>\n",
       "<a aria-label=\"Advisor\" class=\"!py-2 md:!py-1 block hover:underline hover:text-wl-neutral-200 underline-offset-4\" href=\"https://www.infomoney.com.br/advisor/\">\n",
       "                                                        Advisor                                                    </a>\n",
       "</li>\n",
       "<li>\n",
       "<a aria-label=\"Trader\" class=\"!py-2 md:!py-1 block hover:underline hover:text-wl-neutral-200 underline-offset-4\" href=\"https://www.infomoney.com.br/tudo-sobre/trader\">\n",
       "                                                        Trader                                                    </a>\n",
       "</li>\n",
       "<li>\n",
       "<a aria-label=\"Minhas Finanças\" class=\"!py-2 md:!py-1 block hover:underline hover:text-wl-neutral-200 underline-offset-4\" href=\"https://www.infomoney.com.br/minhas-financas/\">\n",
       "                                                        Minhas Finanças                                                    </a>\n",
       "</li>\n",
       "<li>\n",
       "<a aria-label=\"Brasil\" class=\"!py-2 md:!py-1 block hover:underline hover:text-wl-neutral-200 underline-offset-4\" href=\"https://www.infomoney.com.br/brasil/\">\n",
       "                                                        Brasil                                                    </a>\n",
       "</li>\n",
       "<li>\n",
       "<a aria-label=\"Consumo\" class=\"!py-2 md:!py-1 block hover:underline hover:text-wl-neutral-200 underline-offset-4\" href=\"https://www.infomoney.com.br/consumo/\">\n",
       "                                                        Consumo                                                    </a>\n",
       "</li>\n",
       "<li>\n",
       "<a aria-label=\"Esportes\" class=\"!py-2 md:!py-1 block hover:underline hover:text-wl-neutral-200 underline-offset-4\" href=\"https://www.infomoney.com.br/esportes/\">\n",
       "                                                        Esportes                                                    </a>\n",
       "</li>\n",
       "<li>\n",
       "<a aria-label=\"Carreira\" class=\"!py-2 md:!py-1 block hover:underline hover:text-wl-neutral-200 underline-offset-4\" href=\"https://www.infomoney.com.br/carreira/\">\n",
       "                                                        Carreira                                                    </a>\n",
       "</li>\n",
       "<li>\n",
       "<a aria-label=\"Saúde\" class=\"!py-2 md:!py-1 block hover:underline hover:text-wl-neutral-200 underline-offset-4\" href=\"https://www.infomoney.com.br/saude/\">\n",
       "                                                        Saúde                                                    </a>\n",
       "</li>\n",
       "<li>\n",
       "<a aria-label=\"Colunistas\" class=\"!py-2 md:!py-1 block hover:underline hover:text-wl-neutral-200 underline-offset-4\" href=\"https://www.infomoney.com.br/colunistas/\">\n",
       "                                                        Colunistas                                                    </a>\n",
       "</li>\n",
       "</ul>\n",
       "</li>\n",
       "</ul>\n",
       "<ul class=\"px-6 !py-4 border-b border-wl-neutral-500 md:border-0\">\n",
       "<li>\n",
       "<a aria-label=\"Aprenda\" class=\"!py-2 block text-xl text-wl-white md:text-2xl font-semibold traking-tighter md:tracking-tight hover:no-underline\" href=\"#\">\n",
       "                                        Aprenda                                    </a>\n",
       "<ul class=\"columns-2 md:columns-1 text-wl-neutral-200 text-base md:text-lg font-bold\">\n",
       "<li>\n",
       "<a aria-label=\"Conteúdos\" class=\"!py-2 md:!py-1 block hover:underline hover:text-wl-neutral-200 underline-offset-4\" href=\"https://www.infomoney.com.br/conteudos/\">\n",
       "                                                        Conteúdos                                                    </a>\n",
       "</li>\n",
       "<li>\n",
       "<a aria-label=\"Planilhas e Calculadoras\" class=\"!py-2 md:!py-1 block hover:underline hover:text-wl-neutral-200 underline-offset-4\" href=\"https://www.infomoney.com.br/conteudos/planilhas/\">\n",
       "                                                        Planilhas e Calculadoras                                                    </a>\n",
       "</li>\n",
       "<li>\n",
       "<a aria-label=\"Cursos\" class=\"!py-2 md:!py-1 block hover:underline hover:text-wl-neutral-200 underline-offset-4\" href=\"https://www.infomoney.com.br/conteudos/cursos/\">\n",
       "                                                        Cursos                                                    </a>\n",
       "</li>\n",
       "<li>\n",
       "<a aria-label=\"Ebooks\" class=\"!py-2 md:!py-1 block hover:underline hover:text-wl-neutral-200 underline-offset-4\" href=\"https://www.infomoney.com.br/conteudos/ebooks/\">\n",
       "                                                        Ebooks                                                    </a>\n",
       "</li>\n",
       "<li>\n",
       "<a aria-label=\"Perfis\" class=\"!py-2 md:!py-1 block hover:underline hover:text-wl-neutral-200 underline-offset-4\" href=\"https://www.infomoney.com.br/perfil/\">\n",
       "                                                        Perfis                                                    </a>\n",
       "</li>\n",
       "</ul>\n",
       "</li>\n",
       "</ul>\n",
       "<ul class=\"px-6 !py-4 border-b border-wl-neutral-500 md:border-0\">\n",
       "<li>\n",
       "<a aria-label=\"Multimídia\" class=\"!py-2 block text-xl text-wl-white md:text-2xl font-semibold traking-tighter md:tracking-tight hover:no-underline\" href=\"#\">\n",
       "                                        Multimídia                                    </a>\n",
       "<ul class=\"columns-2 md:columns-1 text-wl-neutral-200 text-base md:text-lg font-bold\">\n",
       "<li>\n",
       "<a aria-label=\"WhatsApp\" class=\"!py-2 md:!py-1 block hover:underline hover:text-wl-neutral-200 underline-offset-4\" href=\"https://whatsapp.com/channel/0029VaHC3PWJpe8XVqUquy1f\">\n",
       "                                                        WhatsApp                                                    </a>\n",
       "</li>\n",
       "<li>\n",
       "<a aria-label=\"Vídeos\" class=\"!py-2 md:!py-1 block hover:underline hover:text-wl-neutral-200 underline-offset-4\" href=\"https://www.youtube.com/channel/UCxm0tptjIc76-i26EKQ9NpA\">\n",
       "                                                        Vídeos                                                    </a>\n",
       "</li>\n",
       "<li>\n",
       "<a aria-label=\"Podcasts\" class=\"!py-2 md:!py-1 block hover:underline hover:text-wl-neutral-200 underline-offset-4\" href=\"https://www.infomoney.com.br/podcasts/\">\n",
       "                                                        Podcasts                                                    </a>\n",
       "</li>\n",
       "<li>\n",
       "<a aria-label=\"Web Stories\" class=\"!py-2 md:!py-1 block hover:underline hover:text-wl-neutral-200 underline-offset-4\" href=\"https://www.infomoney.com.br/web-stories/\">\n",
       "                                                        Web Stories                                                    </a>\n",
       "</li>\n",
       "</ul>\n",
       "</li>\n",
       "</ul>\n",
       "<ul class=\"px-6 !py-4 border-b border-wl-neutral-500 md:border-0\">\n",
       "<li>\n",
       "<a aria-label=\"Veja mais\" class=\"!py-2 block text-xl text-wl-white md:text-2xl font-semibold traking-tighter md:tracking-tight hover:no-underline\" href=\"#\">\n",
       "                                        Veja mais                                    </a>\n",
       "<ul class=\"columns-2 md:columns-1 text-wl-neutral-200 text-base md:text-lg font-bold\">\n",
       "<li>\n",
       "<a aria-label=\"Fazer login\" class=\"!py-2 md:!py-1 block hover:underline hover:text-wl-neutral-200 underline-offset-4\" href=\"https://www.infomoney.com.br/authentication/sign-in/\">\n",
       "                                                        Fazer login                                                    </a>\n",
       "</li>\n",
       "<li>\n",
       "<a aria-label=\"Quem somos\" class=\"!py-2 md:!py-1 block hover:underline hover:text-wl-neutral-200 underline-offset-4\" href=\"https://www.infomoney.com.br/quem-somos/\">\n",
       "                                                        Quem somos                                                    </a>\n",
       "</li>\n",
       "<li>\n",
       "<a aria-label=\"Tabela de preços InfoMoney\" class=\"!py-2 md:!py-1 block hover:underline hover:text-wl-neutral-200 underline-offset-4\" href=\"https://www.infomoney.com.br/wp-content/uploads/2024/05/TabeladeValores-InfoMoney2024.pdf\">\n",
       "                                                        Tabela de preços InfoMoney                                                    </a>\n",
       "</li>\n",
       "<li>\n",
       "<a aria-label=\"Política de privacidade\" class=\"!py-2 md:!py-1 block hover:underline hover:text-wl-neutral-200 underline-offset-4\" href=\"https://www.infomoney.com.br/politica-de-privacidade/\">\n",
       "                                                        Política de privacidade                                                    </a>\n",
       "</li>\n",
       "<li>\n",
       "<a aria-label=\"Política de cookies\" class=\"!py-2 md:!py-1 block hover:underline hover:text-wl-neutral-200 underline-offset-4\" href=\"https://www.infomoney.com.br/politica-de-cookies/\">\n",
       "                                                        Política de cookies                                                    </a>\n",
       "</li>\n",
       "<li>\n",
       "<a aria-label=\"Preferências de Cookies\" class=\"!py-2 md:!py-1 block hover:underline hover:text-wl-neutral-200 underline-offset-4\" href=\"#siteFooter\">\n",
       "                                                        Preferências de Cookies                                                    </a>\n",
       "</li>\n",
       "<li>\n",
       "<a aria-label=\"Fale conosco\" class=\"!py-2 md:!py-1 block hover:underline hover:text-wl-neutral-200 underline-offset-4\" href=\"https://www.infomoney.com.br/fale-conosco/\">\n",
       "                                                        Fale conosco                                                    </a>\n",
       "</li>\n",
       "</ul>\n",
       "</li>\n",
       "</ul>\n",
       "</div>\n",
       "<div class=\"max-w-8xl mx-auto px-6 !py-3 md:!py-4\">\n",
       "<a aria-label=\"Home\" href=\"https://www.infomoney.com.br\" tabindex=\"0\">\n",
       "<div class=\"h-6.5\">\n",
       "<svg class=\"h-full\" fill=\"none\" viewbox=\"0 0 431 100\" xmlns=\"http://www.w3.org/2000/svg\">\n",
       "<path clip-rule=\"evenodd\" d=\"M290.856 28.864h-10.354s-5.869 20.277-6.976 22.715c0 0-6.589-17.895-7.586-22.715h-10.631s5.094 17.562 13.289 33.02c-.665 1.662-1.772 3.047-3.267 3.989-.72.443-1.495.775-2.326 1.052-.83.222-1.716.277-2.602.277h-3.71v8.31h6.202a16.4 16.4 0 0 0 2.381-.332c3.377-.72 6.422-2.549 8.582-5.263 9.136-10.859 16.888-40.942 16.888-40.942M178.29 52.853c-1.218 1.718-2.99 2.604-5.26 2.604s-4.042-.886-5.26-2.604c-1.218-1.773-1.883-4.1-1.883-7.091s.609-5.319 1.883-7.036c1.218-1.718 2.99-2.549 5.26-2.549s3.987.831 5.26 2.549c1.218 1.717 1.827 4.044 1.827 7.036s-.609 5.318-1.827 7.091m7.198-20.055c-1.55-1.552-3.377-2.826-5.426-3.601-2.104-.831-4.43-1.275-6.977-1.275s-4.817.444-6.921 1.275c-2.049.83-3.931 2.05-5.482 3.6-1.55 1.552-2.713 3.436-3.599 5.652-.885 2.216-1.273 4.653-1.273 7.313 0 2.659.443 5.152 1.273 7.368.831 2.216 2.049 4.155 3.544 5.706 1.495 1.607 3.322 2.77 5.426 3.657 2.104.831 4.43 1.274 7.032 1.274s4.984-.443 7.088-1.33c2.048-.83 3.931-2.05 5.426-3.656 1.495-1.551 2.658-3.49 3.488-5.706s1.218-4.654 1.218-7.369-.443-5.097-1.273-7.313a16.4 16.4 0 0 0-3.544-5.65m34.108-.389c-1.163-1.44-2.769-2.493-4.762-3.324q-2.99-1.163-7.475-1.163c-2.99 0-5.814.221-8.472.61-2.713.443-4.872.886-6.588 1.384v33.906h10.021V36.676c.609-.111 1.329-.166 2.16-.222.83-.055 1.55-.11 2.27-.11 2.325 0 3.931.664 4.762 1.994s1.273 3.601 1.273 6.814v18.615h10.022V43.933c0-2.382-.277-4.598-.72-6.537-.498-1.939-1.329-3.657-2.491-5.041m-78.902-8.808a266 266 0 0 0-3.267 6.925c-1.107 2.493-2.27 4.986-3.377 7.59-1.108 2.604-2.16 5.041-3.101 7.313-.997-2.272-1.993-4.71-3.156-7.313-1.107-2.549-2.215-5.097-3.378-7.59-1.052-2.327-2.159-4.599-3.266-6.925-.886-1.829-1.772-3.601-2.769-5.374h-10.963v45.595h10.465V37.064l1.218 2.548c.997 2.216 1.938 4.488 2.879 6.704s1.883 4.377 2.769 6.426l2.27 5.208h7.253a332 332 0 0 1 2.27-5.208c.886-2.05 1.828-4.155 2.769-6.426.941-2.216 1.938-4.488 2.879-6.704.388-.886.775-1.717 1.107-2.548v26.703h10.465V18.172h-10.354s-1.772 3.324-2.768 5.374\" fill=\"#fff\" fill-rule=\"evenodd\"></path>\n",
       "<path clip-rule=\"evenodd\" d=\"M234.545 39.945c.277-.776.665-1.496 1.219-2.106.553-.61 1.162-1.108 1.937-1.44.776-.388 1.772-.554 2.824-.554s2.104.221 2.88.61A6.04 6.04 0 0 1 246.45 40c.221.776.387 1.607.443 2.382h-12.957c.111-.83.333-1.662.609-2.437m8.915 15.567c-2.824 0-5.039-.554-6.7-1.772-1.661-1.164-2.602-2.77-2.824-4.71h22.259c0-.554.111-1.108.111-1.773s.055-1.274.055-1.828c0-5.762-1.44-10.083-4.263-13.074-2.88-2.937-6.756-4.433-11.683-4.433-4.928 0-4.208.388-6.146 1.164-1.994.776-3.766 1.939-5.316 3.435s-2.768 3.38-3.71 5.65c-.941 2.272-1.384 4.931-1.384 7.923s.388 4.82 1.107 6.98c.665 2.106 1.828 3.99 3.378 5.596 1.495 1.607 3.433 2.826 5.703 3.712 2.326.887 5.039 1.385 8.139 1.385 3.101 0 2.437-.055 3.71-.221 1.274-.167 2.381-.277 3.433-.499a82 82 0 0 0 2.935-.665c.277-.055.498-.166.775-.277V53.74c-1.108.498-2.492.886-4.208 1.163s-3.489.499-5.316.499M42.081 32.355c-1.163-1.441-2.769-2.494-4.762-3.325-1.993-.775-4.485-1.163-7.53-1.163s-5.814.221-8.472.61c-2.713.443-4.872.886-6.589 1.384v33.906H24.75V36.676c.61-.111 1.33-.166 2.16-.222s1.55-.11 2.27-.11c2.325 0 3.931.664 4.761 1.994s1.274 3.601 1.274 6.814v18.615h10.022V43.933c0-2.382-.277-4.598-.72-6.537-.498-1.939-1.329-3.657-2.492-5.041m50.497 20.498c-1.218 1.718-2.99 2.604-5.26 2.604s-4.042-.886-5.26-2.604c-1.218-1.773-1.882-4.1-1.882-7.091s.609-5.319 1.882-7.036c1.274-1.718 2.99-2.549 5.26-2.549s4.042.831 5.26 2.549c1.219 1.717 1.828 4.044 1.828 7.036s-.61 5.318-1.828 7.091m7.143-20.055c-1.55-1.552-3.377-2.826-5.426-3.601-2.104-.831-4.43-1.275-6.977-1.275s-4.761.444-6.92 1.275c-2.05.83-3.932 2.05-5.482 3.6-1.55 1.552-2.713 3.436-3.6 5.652q-1.328 3.323-1.328 7.313c0 2.659.443 5.152 1.273 7.368s2.049 4.155 3.544 5.706c1.495 1.607 3.322 2.77 5.426 3.657 2.104.831 4.43 1.274 7.032 1.274q3.903 0 7.143-1.33a15.7 15.7 0 0 0 5.426-3.656c1.495-1.551 2.658-3.49 3.488-5.706s1.218-4.654 1.218-7.369-.443-5.097-1.273-7.313c-.831-2.216-1.993-4.1-3.544-5.65M0 63.766h9.856V18.172H0z\" fill=\"#fff\" fill-rule=\"evenodd\"></path>\n",
       "<path clip-rule=\"evenodd\" d=\"M59.578 29.03c0-1.33.83-2.548 1.993-3.102.055 0 .11-.056.166-.11.11-.056.277-.112.388-.167.83-.277 1.66-.222 2.547-.222h7.198v-8.2H61.35c-6.645 0-12.071 5.209-12.126 11.635v34.959h10.243V41.108h11.019v-8.089H59.467v-3.933z\" fill=\"#fff\" fill-rule=\"evenodd\"></path>\n",
       "<path d=\"m292.296 77.673-.83-2.216 20.985-20.83c10.631-10.472 14.23-17.674 14.23-24.433s-6.368-12.964-14.23-12.964c-7.863 0-13.123 3.435-16.666 9.363l-2.215-.831c3.71-13.961 17.386-22.77 32.557-22.77S351.21 11.8 351.21 20.499s-5.371 13.795-21.262 25.817L315.33 57.34h22.757c7.752 0 14.23-4.432 17.109-12.3h2.492l-7.198 32.577h-58.194zm69.378 5.374c0-5.817 4.263-10.36 9.911-10.36s9.634 2.88 10.354 10.637c.941 10.194 3.045 13.795 9.524 13.795s13.953-7.036 13.953-20.277c0-13.24-7.586-19.89-17.774-19.89s-12.015 2.217-15.614 6.095l-6.091-3.601 6.479-54.072h38.038c8.14 0 11.573-1.94 13.123-5.374h2.215l-5.537 25.817h-47.009l-1.938 17.507c6.478-4.71 14.341-7.867 25.083-7.867 19.6 0 34.052 12.3 34.052 30.194 0 17.895-17.497 34.349-39.423 34.349s-29.346-9.806-29.346-16.953\" fill=\"#FD5E04\"></path>\n",
       "</svg>\n",
       "</div>\n",
       "</a>\n",
       "<div class=\"!py-3 md:!py-4\">\n",
       "<div class=\"relative flex flex-wrap space-x-2 justify-start\" data-ds-component=\"social-Links\">\n",
       "<a class=\"flex items-center text-center gap-2 justify-center shadow-inner-border shadow-wl-neutral-0 disabled:shadow-none rounded-full shrink-0 text-wl-neutral-600 hover:text-wl-neutral-0 disabled:text-wl-neutral-400 bg-wl-neutral-0 hover:bg-transparent disabled:bg-wl-neutral-200 p-2 w-9 h-9 text-sm font-medium\" data-ds-component=\"button\" data-ds-element=\"social-links-instagram\" data-ds-variant=\"tertiary\" href=\"https://www.instagram.com/infomoney/\" target=\"_blank\" title=\"Compartilhar no instagram\">\n",
       "<div class=\"size-5\">\n",
       "<span class=\"w-full h-full [&amp;&gt;svg]:w-full [&amp;&gt;svg]:h-full\"><svg fill=\"none\" viewbox=\"0 0 20 20\" xmlns=\"http://www.w3.org/2000/svg\">\n",
       "<path d=\"M9.99984 13.3334C10.8839 13.3334 11.7317 12.9822 12.3569 12.3571C12.982 11.732 13.3332 10.8841 13.3332 10.0001C13.3332 9.11603 12.982 8.26818 12.3569 7.64306C11.7317 7.01794 10.8839 6.66675 9.99984 6.66675C9.11578 6.66675 8.26794 7.01794 7.64281 7.64306C7.01769 8.26818 6.6665 9.11603 6.6665 10.0001C6.6665 10.8841 7.01769 11.732 7.64281 12.3571C8.26794 12.9822 9.11578 13.3334 9.99984 13.3334Z\" stroke=\"currentColor\" stroke-linecap=\"round\" stroke-linejoin=\"round\" stroke-width=\"1.5\"></path>\n",
       "<path d=\"M2.5 13.3333V6.66667C2.5 5.5616 2.93899 4.50179 3.72039 3.72039C4.50179 2.93899 5.5616 2.5 6.66667 2.5H13.3333C14.4384 2.5 15.4982 2.93899 16.2796 3.72039C17.061 4.50179 17.5 5.5616 17.5 6.66667V13.3333C17.5 14.4384 17.061 15.4982 16.2796 16.2796C15.4982 17.061 14.4384 17.5 13.3333 17.5H6.66667C5.5616 17.5 4.50179 17.061 3.72039 16.2796C2.93899 15.4982 2.5 14.4384 2.5 13.3333Z\" stroke=\"currentColor\" stroke-width=\"1.5\"></path>\n",
       "<path d=\"M14.5835 5.42494L14.5918 5.41577\" stroke=\"currentColor\" stroke-linecap=\"round\" stroke-linejoin=\"round\" stroke-width=\"1.5\"></path>\n",
       "</svg>\n",
       "</span> </div>\n",
       "</a>\n",
       "<a class=\"flex items-center text-center gap-2 justify-center shadow-inner-border shadow-wl-neutral-0 disabled:shadow-none rounded-full shrink-0 text-wl-neutral-600 hover:text-wl-neutral-0 disabled:text-wl-neutral-400 bg-wl-neutral-0 hover:bg-transparent disabled:bg-wl-neutral-200 p-2 w-9 h-9 text-sm font-medium\" data-ds-component=\"button\" data-ds-element=\"social-links-facebook\" data-ds-variant=\"tertiary\" href=\"https://www.facebook.com/InfoMoney\" target=\"_blank\" title=\"Compartilhar no facebook\">\n",
       "<div class=\"size-5\">\n",
       "<span class=\"w-full h-full [&amp;&gt;svg]:w-full [&amp;&gt;svg]:h-full\"><svg fill=\"none\" viewbox=\"0 0 13 25\" xmlns=\"http://www.w3.org/2000/svg\">\n",
       "<path d=\"M11.9214 13.8981L12.5825 9.58738H8.4466V6.79126C8.4466 5.61194 9.02447 4.46117 10.8769 4.46117H12.7573V0.791262C12.7573 0.791262 11.0508 0.5 9.41913 0.5C6.01282 0.5 3.78641 2.56447 3.78641 6.30194V9.58738H0V13.8981H3.78641V24.3188C5.33042 24.5604 6.90259 24.5604 8.4466 24.3188V13.8981H11.9214Z\" fill=\"currentColor\"></path>\n",
       "</svg>\n",
       "</span> </div>\n",
       "</a>\n",
       "<a class=\"flex items-center text-center gap-2 justify-center shadow-inner-border shadow-wl-neutral-0 disabled:shadow-none rounded-full shrink-0 text-wl-neutral-600 hover:text-wl-neutral-0 disabled:text-wl-neutral-400 bg-wl-neutral-0 hover:bg-transparent disabled:bg-wl-neutral-200 p-2 w-9 h-9 text-sm font-medium\" data-ds-component=\"button\" data-ds-element=\"social-links-twitter\" data-ds-variant=\"tertiary\" href=\"https://twitter.com/infomoney\" target=\"_blank\" title=\"Compartilhar no twitter\">\n",
       "<div class=\"size-5\">\n",
       "<span class=\"w-full h-full [&amp;&gt;svg]:w-full [&amp;&gt;svg]:h-full\"><svg fill=\"none\" viewbox=\"0 0 24 22\" xmlns=\"http://www.w3.org/2000/svg\">\n",
       "<path clip-rule=\"evenodd\" d=\"M8.99079 11.9381L0 0.5H7.12135L12.6713 7.56951L18.6005 0.53183H22.5226L14.5676 9.98506L24 22H16.8999L10.8905 14.3548L4.47476 21.9788H0.531444L8.99079 11.9381ZM17.9348 19.8807L4.36657 2.61927H6.08565L19.6368 19.8807H17.9348Z\" fill=\"currentColor\" fill-rule=\"evenodd\"></path>\n",
       "</svg>\n",
       "</span> </div>\n",
       "</a>\n",
       "<a class=\"flex items-center text-center gap-2 justify-center shadow-inner-border shadow-wl-neutral-0 disabled:shadow-none rounded-full shrink-0 text-wl-neutral-600 hover:text-wl-neutral-0 disabled:text-wl-neutral-400 bg-wl-neutral-0 hover:bg-transparent disabled:bg-wl-neutral-200 p-2 w-9 h-9 text-sm font-medium\" data-ds-component=\"button\" data-ds-element=\"social-links-linkedin\" data-ds-variant=\"tertiary\" href=\"https://www.linkedin.com/company/infomoney/\" target=\"_blank\" title=\"Compartilhar no linkedin\">\n",
       "<div class=\"size-5\">\n",
       "<span class=\"w-full h-full [&amp;&gt;svg]:w-full [&amp;&gt;svg]:h-full\"><svg fill=\"none\" viewbox=\"0 0 24 25\" xmlns=\"http://www.w3.org/2000/svg\">\n",
       "<path d=\"M22.2283 0.5H1.77167C1.30179 0.5 0.851161 0.686657 0.518909 1.01891C0.186657 1.35116 0 1.80179 0 2.27167V22.7283C0 23.1982 0.186657 23.6488 0.518909 23.9811C0.851161 24.3133 1.30179 24.5 1.77167 24.5H22.2283C22.6982 24.5 23.1488 24.3133 23.4811 23.9811C23.8133 23.6488 24 23.1982 24 22.7283V2.27167C24 1.80179 23.8133 1.35116 23.4811 1.01891C23.1488 0.686657 22.6982 0.5 22.2283 0.5ZM7.15333 20.945H3.545V9.48333H7.15333V20.945ZM5.34667 7.895C4.93736 7.8927 4.53792 7.7692 4.19873 7.54009C3.85955 7.31098 3.59584 6.98653 3.44088 6.60769C3.28591 6.22885 3.24665 5.81259 3.32803 5.41145C3.40941 5.01032 3.6078 4.64228 3.89816 4.35378C4.18851 4.06529 4.55782 3.86927 4.95947 3.79046C5.36112 3.71165 5.77711 3.75359 6.15495 3.91099C6.53279 4.06838 6.85554 4.33417 7.08247 4.67481C7.30939 5.01546 7.43032 5.41569 7.43 5.825C7.43386 6.09903 7.38251 6.37104 7.27901 6.6248C7.17551 6.87857 7.02198 7.1089 6.82757 7.30207C6.63316 7.49523 6.40185 7.64728 6.14742 7.74915C5.893 7.85102 5.62067 7.90062 5.34667 7.895ZM20.4533 20.955H16.8467V14.6933C16.8467 12.8467 16.0617 12.2767 15.0483 12.2767C13.9783 12.2767 12.9283 13.0833 12.9283 14.74V20.955H9.32V9.49167H12.79V11.08H12.8367C13.185 10.375 14.405 9.17 16.2667 9.17C18.28 9.17 20.455 10.365 20.455 13.865L20.4533 20.955Z\" fill=\"currentColor\"></path>\n",
       "</svg>\n",
       "</span> </div>\n",
       "</a>\n",
       "<a class=\"flex items-center text-center gap-2 justify-center shadow-inner-border shadow-wl-neutral-0 disabled:shadow-none rounded-full shrink-0 text-wl-neutral-600 hover:text-wl-neutral-0 disabled:text-wl-neutral-400 bg-wl-neutral-0 hover:bg-transparent disabled:bg-wl-neutral-200 p-2 w-9 h-9 text-sm font-medium\" data-ds-component=\"button\" data-ds-element=\"social-links-telegram\" data-ds-variant=\"tertiary\" href=\"https://t.me/infomoney_noticias\" target=\"_blank\" title=\"Compartilhar no telegram\">\n",
       "<div class=\"size-5\">\n",
       "<span class=\"w-full h-full [&amp;&gt;svg]:w-full [&amp;&gt;svg]:h-full\"><svg fill=\"none\" viewbox=\"0 0 22 19\" xmlns=\"http://www.w3.org/2000/svg\">\n",
       "<path clip-rule=\"evenodd\" d=\"M1.51239 8.34877C7.41795 5.77581 11.3559 4.07955 13.3263 3.26001C18.9521 0.920042 20.1211 0.513565 20.883 0.500143C21.0506 0.497191 21.4253 0.538722 21.668 0.735667C21.873 0.901964 21.9294 1.12661 21.9563 1.28427C21.9833 1.44194 22.0169 1.80111 21.9902 2.08176C21.6854 5.28499 20.3662 13.0584 19.6951 16.6461C19.4111 18.1642 18.852 18.6732 18.3107 18.723C17.1343 18.8312 16.2409 17.9455 15.1015 17.1986C13.3186 16.0299 12.3113 15.3023 10.5807 14.1619C8.58058 12.8438 9.87715 12.1194 11.017 10.9355C11.3153 10.6257 16.4986 5.91112 16.5989 5.48343C16.6115 5.42994 16.6231 5.23056 16.5046 5.12528C16.3862 5.02 16.2114 5.056 16.0852 5.08463C15.9064 5.12522 13.0581 7.00783 7.54035 10.7325C6.73187 11.2876 5.99958 11.5581 5.34347 11.5439C4.62016 11.5283 3.2288 11.135 2.19447 10.7988C0.925826 10.3864 -0.0824703 10.1683 0.00532971 9.46798C0.0510613 9.10319 0.553413 8.73012 1.51239 8.34877Z\" fill=\"currentColor\" fill-rule=\"evenodd\"></path>\n",
       "</svg>\n",
       "</span> </div>\n",
       "</a>\n",
       "<a class=\"flex items-center text-center gap-2 justify-center shadow-inner-border shadow-wl-neutral-0 disabled:shadow-none rounded-full shrink-0 text-wl-neutral-600 hover:text-wl-neutral-0 disabled:text-wl-neutral-400 bg-wl-neutral-0 hover:bg-transparent disabled:bg-wl-neutral-200 p-2 w-9 h-9 text-sm font-medium\" data-ds-component=\"button\" data-ds-element=\"social-links-tiktok\" data-ds-variant=\"tertiary\" href=\"https://www.tiktok.com/@infomoney\" target=\"_blank\" title=\"Compartilhar no tiktok\">\n",
       "<div class=\"size-5\">\n",
       "<span class=\"w-full h-full [&amp;&gt;svg]:w-full [&amp;&gt;svg]:h-full\"><svg fill=\"none\" height=\"24\" viewbox=\"0 0 24 24\" width=\"24\" xmlns=\"http://www.w3.org/2000/svg\">\n",
       "<path d=\"M22.606 5.873A5.872 5.872 0 0 1 16.734 0h-4.196v16.43a3.568 3.568 0 1 1-2.56-3.426v-4.08a7.572 7.572 0 1 0 6.56 7.505l.123-8.304a10.022 10.022 0 0 0 5.945 1.943V5.873Z\" fill=\"currentColor\"></path>\n",
       "</svg>\n",
       "</span> </div>\n",
       "</a>\n",
       "</div>\n",
       "</div>\n",
       "<div class=\"!py-3 md:!py-4 text-wl-neutral-200 text-xs text-justify\">\n",
       "                        © 2000-2025 InfoMoney. Todos os direitos reservados.\n",
       "                        <br>\n",
       "<br>\n",
       "                        O InfoMoney preza a qualidade da informação e atesta a apuração de todo o conteúdo produzido por sua\n",
       "                        equipe,\n",
       "                        ressaltando, no entanto, que não faz qualquer tipo de recomendação de investimento, não se\n",
       "                        responsabilizando\n",
       "                        por perdas, danos (diretos, indiretos e incidentais), custos e lucros cessantes.\n",
       "                        <br/>\n",
       "<br/>\n",
       "                        IMPORTANTE: O portal www.infomoney.com.br (o \"Portal\") é de propriedade da Infostocks Informações e\n",
       "                        Sistemas\n",
       "                        Ltda. (CNPJ/MF nº 03.082.929/0001-03) (\"Infostocks\"), sociedade controlada, indiretamente, pela XP\n",
       "                        Controle\n",
       "                        Participações S/A (CNPJ/MF nº 09.163.677/0001-15), sociedade holding que controla as empresas do XP Inc.\n",
       "                        O\n",
       "                        XP Inc tem em sua composição empresas que exercem atividades de: corretoras de valores mobiliários,\n",
       "                        banco,\n",
       "                        seguradora, corretora de seguros, análise de investimentos de valores mobiliários, gestoras de recursos\n",
       "                        de\n",
       "                        terceiros. Apesar de as Sociedades XP estarem sob controle comum, os executivos responsáveis pela\n",
       "                        Infostocks\n",
       "                        são totalmente independentes e as notícias, matérias e opiniões veiculadas no Portal não são, sob\n",
       "                        qualquer\n",
       "                        aspecto, direcionadas e/ou influenciadas por relatórios de análise produzidos por áreas técnicas das\n",
       "                        empresas do XP Inc, nem por decisões comerciais e de negócio de tais sociedades, sendo produzidos de\n",
       "                        acordo\n",
       "                        com o juízo de valor e as convicções próprias da equipe interna da Infostocks.\n",
       "                    </br></br></div>\n",
       "</div>\n",
       "</div>\n",
       "</footer>\n",
       "<script id=\"jetpack-stats-js-before\">\n",
       "_stq = window._stq || [];\n",
       "_stq.push([ \"view\", JSON.parse(\"{\\\"v\\\":\\\"ext\\\",\\\"blog\\\":\\\"161989173\\\",\\\"post\\\":\\\"1360794\\\",\\\"tz\\\":\\\"-3\\\",\\\"srv\\\":\\\"www.infomoney.com.br\\\",\\\"hp\\\":\\\"vip\\\",\\\"j\\\":\\\"1:14.4.1\\\"}\") ]);\n",
       "_stq.push([ \"clickTrackerInit\", \"161989173\", \"1360794\" ]);\n",
       "</script>\n",
       "<script data-wp-strategy=\"defer\" defer=\"\" id=\"jetpack-stats-js\" src=\"https://stats.wp.com/e-202513.js\"></script>\n",
       "</body>\n",
       "</html>"
      ]
     },
     "execution_count": 15,
     "metadata": {},
     "output_type": "execute_result"
    }
   ],
   "source": [
    "html"
   ]
  },
  {
   "cell_type": "markdown",
   "metadata": {},
   "source": [
    "### **5.2. Extraindo o necessário da Página Web**"
   ]
  },
  {
   "cell_type": "markdown",
   "metadata": {},
   "source": [
    "<h4 id='parte-3c1' style=\"color:green;\">5.2.1. Extraindo texto puro de uma Notícia</h4>"
   ]
  },
  {
   "cell_type": "markdown",
   "metadata": {},
   "source": [
    "<p><b>url</b> = <b style=\"color:blue;\">https://www.infomoney.com.br/politica/10-pontos-para-entender-a-mp-905-e-por-que-ela-pode-ser-contestada-judicialmente/</b></p>"
   ]
  },
  {
   "cell_type": "markdown",
   "metadata": {},
   "source": [
    "<p>Nessa etapa é importante entender de que página estamos extraindo a informação. É bem provável que as páginas de notícias do <b>InfoMoney</b> apresentem um padrão que pode ser diferente de outros portais de notícias. Por isso, como primeiro passo, devemos inspecionar a página e saber como está estruturado cada parte do HTML. Continuaremos com o mesmo link usado em <b style=\"color:blue;\">a.</b> e com <b>'html'</b> gerado em <b style=\"color:blue;\">b.</b></p>"
   ]
  },
  {
   "cell_type": "markdown",
   "metadata": {},
   "source": [
    "<img src = \"imagens/html5.png\"/>"
   ]
  },
  {
   "cell_type": "markdown",
   "metadata": {},
   "source": [
    "<p>Existem várias formas de chegar no resultado que queremos, uma delas seria:</p>"
   ]
  },
  {
   "cell_type": "markdown",
   "metadata": {},
   "source": [
    "<ul>\n",
    "    <li>O título, de tag <b>&lt;h1&gt;...&lt;/h1&gt;</b>, contém <b>class='text-3xl md:text-5xl font-bold tracking-tighter text-wl-neutral-950'</b>, ao que tudo indica ela é única, então não teremos informações a mais ao usarmos essa classe para extrair o título(Muitas vezes o próprio <b>&lt;h1&gt;...&lt;/h1&gt;</b> é utilizado apenas uma vez no código, mas vamos supor que este não é o caso aqui).</li>\n",
    "    <li>O subtítulo, de tag <b>&lt;div&gt;...&lt;/div&gt;</b>, contém <b>class='text-lg md:text-xl font-medium tracking-tight text-wl-neutral-600'</b>, que também parece ser única no código</li>\n",
    "    <li>O conteúdo da notícia está contido dentro do <b>&lt;article&gt;...&lt;/article&gt;</b> com <b>class='im-article clear-fix'</b>, contendo <b>['p']</b> dentro dele, onde estão os textos.</li>\n",
    "</ul>"
   ]
  },
  {
   "cell_type": "markdown",
   "metadata": {},
   "source": [
    "<p>Com essas três informações é possível extrair o Título, Subtítulo e texto da notícia."
   ]
  },
  {
   "cell_type": "markdown",
   "metadata": {},
   "source": [
    "##### **5.2.1.1. Título**"
   ]
  },
  {
   "cell_type": "code",
   "execution_count": 16,
   "metadata": {},
   "outputs": [
    {
     "data": {
      "text/plain": [
       "[<h1 class=\"text-3xl md:text-5xl font-bold tracking-tighter text-wl-neutral-950\">\n",
       "                 Reforma Trabalhista de Bolsonaro: entenda a MP 905 – e por que ela pode ser contestada judicialmente            </h1>]"
      ]
     },
     "execution_count": 16,
     "metadata": {},
     "output_type": "execute_result"
    }
   ],
   "source": [
    "# Buscando parte do código que contenha class específica\n",
    "titulo = html.find_all(attrs={\n",
    "    'class': 'text-3xl md:text-5xl font-bold tracking-tighter text-wl-neutral-950'\n",
    "    })\n",
    "\n",
    "titulo"
   ]
  },
  {
   "cell_type": "code",
   "execution_count": 17,
   "metadata": {},
   "outputs": [
    {
     "data": {
      "text/plain": [
       "'Reforma Trabalhista de Bolsonaro: entenda a MP 905 – e por que ela pode ser contestada judicialmente'"
      ]
     },
     "execution_count": 17,
     "metadata": {},
     "output_type": "execute_result"
    }
   ],
   "source": [
    "# Transformando o que achamos em string\n",
    "titulo = titulo[0].text\n",
    "\n",
    "# Removendo espaços em branco no início e no final da string\n",
    "titulo = titulo.strip()\n",
    "titulo"
   ]
  },
  {
   "cell_type": "markdown",
   "metadata": {},
   "source": [
    "##### **5.2.1.2. Subtítulo**"
   ]
  },
  {
   "cell_type": "code",
   "execution_count": 18,
   "metadata": {},
   "outputs": [
    {
     "data": {
      "text/plain": [
       "[<div class=\"text-lg md:text-xl font-medium tracking-tight text-wl-neutral-600\">\n",
       "                     Governo anuncia pacote que altera leis trabalhistas, mas princípio da isonomia pode ser ferido pela MP                </div>]"
      ]
     },
     "execution_count": 18,
     "metadata": {},
     "output_type": "execute_result"
    }
   ],
   "source": [
    "# Buscando parte do código que contenha class específica\n",
    "subtitulo = html.find_all(attrs={\n",
    "    'class': 'text-lg md:text-xl font-medium tracking-tight text-wl-neutral-600'\n",
    "    })\n",
    "\n",
    "subtitulo"
   ]
  },
  {
   "cell_type": "code",
   "execution_count": 19,
   "metadata": {},
   "outputs": [
    {
     "data": {
      "text/plain": [
       "'Governo anuncia pacote que altera leis trabalhistas, mas princípio da isonomia pode ser ferido pela MP'"
      ]
     },
     "execution_count": 19,
     "metadata": {},
     "output_type": "execute_result"
    }
   ],
   "source": [
    "# Transformando o que achamos em string\n",
    "subtitulo = subtitulo[0].text\n",
    "\n",
    "# Removendo espaços em branco no início e no final da string\n",
    "subtitulo = subtitulo.strip()\n",
    "\n",
    "subtitulo"
   ]
  },
  {
   "cell_type": "markdown",
   "metadata": {},
   "source": [
    "##### **5.2.1.3. Texto**"
   ]
  },
  {
   "cell_type": "markdown",
   "metadata": {},
   "source": [
    "<p>Nessa etapa devemos tomar cuidado com informações que não são importantes e que estão no meio do texto, como imagens e anúncios</p>"
   ]
  },
  {
   "cell_type": "code",
   "execution_count": 20,
   "metadata": {},
   "outputs": [],
   "source": [
    "# Buscando article\n",
    "content_article = html.findAll('article', attrs = {'class': 'im-article clear-fix'})"
   ]
  },
  {
   "cell_type": "code",
   "execution_count": 21,
   "metadata": {},
   "outputs": [],
   "source": [
    "# Pegando apenas os parágrafos do article\n",
    "paragraphs = content_article[0].findAll('p')"
   ]
  },
  {
   "cell_type": "code",
   "execution_count": 22,
   "metadata": {},
   "outputs": [
    {
     "data": {
      "text/plain": [
       "[<p>SÃO PAULO – Instituída pelo presidente Jair Bolsonaro na última segunda-feira (11), a Medida Provisória 905/2019 altera pontos da legislação trabalhista e cria o Contrato de Trabalho <strong>Verde Amarelo</strong>, dando incentivos a empresas para contratar jovens entre 18 e 29 anos, sem experiência na carteira, pelo prazo determinado de dois anos.</p>,\n",
       " <p>Para bancar a iniciativa, o governo anunciou que irá <a href=\"https://www.infomoney.com.br/politica/governo-vai-taxar-seguro-desemprego-para-bancar-empregos-de-mais-jovens/\">taxar o seguro-desemprego. </a>A estimativa oficial é de 1,8 milhão de vagas de emprego em um prazo de três anos.</p>,\n",
       " <p>Entre as principais condições criadas para incentivar as contratações na modalidade estão: isenção das alíquotas do Sistema S, do salário-educação e da contribuição patronal de 20%  para o FGTS. As mudanças geram um corte de até 34% dos impostos pagos sobre a folha.</p>,\n",
       " <p>A MP também prevê para o Contrato Verde Amarelo a redução de 8% para 2% do valor do salário na contribuição do empregado para o Fundo do Tempo de Serviço (FGTS) e da multa de 40% para 20% – podendo ser resgatado também em casos de demissão por justa causa.<br/>\n",
       " Outra iniciativa é a antecipação de pagamentos, como férias, 13º salário e saldo do FGTS, podendo ser mensalmente resgatados, caso acordado entre empregado e empregador.</p>,\n",
       " <p><strong>Leia também:<br/>\n",
       " </strong><strong><a href=\"https://www.infomoney.com.br/politica/camara-conclui-votacao-da-mp-do-fgts-com-saque-de-ate-r-998-texto-segue-para-o-senado/\">• Câmara conclui votação da MP do FGTS com saque de até R$ 998; texto segue para o Senado</a></strong></p>,\n",
       " <p>Segundo o advogado Nelson Guimarães, sócio do escritório Bosisio Advogados, a MP mexe com pontos importantes que podem estimular ajuizamento de Ações Diretas de Inconstitucionalidade contra o pacote.</p>,\n",
       " <p class=\"py-2\">Continua depois da publicidade</p>,\n",
       " <p>Um dos pontos sensíveis é a alteração da CLT para a inserção dos mecanismos do Contrato Verde Amarelo, que, segundo Guimarães, comprometem o princípio da isonomia. “Como o contrato cria uma categoria diferente de empregados, com alíquotas e regras diferenciadas, pode haver algum questionamento a respeito da constitucionalidade desses dispositivos”, explica o advogado.</p>,\n",
       " <p>Outro tópico frágil apontado pelo jurista é o Art. 15. da MP, que versa sobre seguro por exposição a acidentes.</p>,\n",
       " <p>O texto regulamenta que o empregador, mediante acordo com o trabalhador, pode contratar um seguro privado de acidentes pessoais e pagar 5% do adicional de periculosidade sobre o salário base do empregado, diferente dos 30% estabelecido pela lei para os trabalhadores do regime CLT.</p>,\n",
       " <p class=\"py-2\">Continua depois da publicidade</p>,\n",
       " <p>A medida ainda estabelece que o adicional só será pago quando houver exposição permanente do trabalhador por, no mínimo, 50% da jornada normal de trabalho. A questão exposta, de acordo com Guimarães, contraria uma jurisprudência consolidada do Tribunal Superior do Trabalho (TST) a respeito do tema e subverte o próprio conceito de periculosidade.</p>,\n",
       " <p>“Segundo as normas regulamentadoras, o fato do trabalhador estar exposto a risco já lhe dar o direito ao adicional de periculosidade, desde que essa exposição não seja eventual. Esse direito independe da quantidade de tempo, porque o risco não escolhe horário para acontecer. Ao estabelecer um critério de tempo, a MP abre brechas para contestações”, diz Guimarães.</p>,\n",
       " <p>Para a advogada Maria Lúcia Benhame, sócia-fundadora do escritório Benhame Sociedade de Advogados, o texto não estabelece o que é periculosidade, dificultando a sua interpretação.</p>,\n",
       " <p class=\"py-2\">Continua depois da publicidade</p>,\n",
       " <p>“A MP teria que definir melhor o que é condição perigosa nos seus termos para não gerar insegurança jurídica, porque você tem um ato jurídico que vai se prolongar além de uma possível validade que, eventualmente, possa ser cancelada ou alterada numa lei posterior”, explica a jurista.</p>,\n",
       " <p>Maria Lúcia observa que a medida pode contribuir com o objetivo do governo de gerar emprego, porque o empresário vai ter menos medo de contratar com os estímulos propostos. Mas pontua que o êxito do projeto parte da melhoria das condições econômicas.</p>,\n",
       " <p>“Do ponto de vista das empresas, a MP criou um ambiente em que é mais fácil e barato contratar e demitir, porque a multa do fundo está em 20% e o empresário recebeu outras contrapartidas. Então, caso a empresa esteja em um nicho de atividade econômica melhor, ela vai se sentir à vontade para contratar. Porém o que vai gerar emprego mesmo é o aquecimento da economia. Lei nenhuma cria emprego”, opina Benhame.</p>,\n",
       " <p class=\"py-2\">Continua depois da publicidade</p>,\n",
       " <p>O governo também aproveitou a criação do Contrato de Trabalho Verde Amarelo para realizar novas modificações nas regras trabalhistas. Foram incluídas mudanças que reorganiza o sistema de fiscalização do trabalho, altera a legislação sobre a participação nos lucros e prêmios e amplia a jornada de trabalho dos bancários.</p>,\n",
       " <p>O governo retirou do cálculo do salário o fornecimento de alimentação, seja in natura ou por meio de tickets, vales e cupons. Com a retirada da natureza salarial, o fornecimento passa a ser não tributável para efeito da contribuição previdenciária e dos demais tributos incidentes sobre a folha de salários, além de não integrar a base de cálculo do imposto de renda.</p>,\n",
       " <p>As gorjetas destinadas aos trabalhadores farão parte da remuneração do empregado, sendo sua distribuição de rateio e custeio definidas em convenção ou acordo coletivo e o seu valor correspondente inseridos em nota fiscal.</p>,\n",
       " <p class=\"py-2\">Continua depois da publicidade</p>,\n",
       " <p>O texto também estabelece que o percentual recebido deve ser anotado na carteira de trabalho dos empregadores e não constitui receita própria dos empregadores.</p>,\n",
       " <p>A MP permite que as partes definam quais políticas devem ser adotadas e determina que as regras que disciplinam o pagamento do prêmio devem permanecer arquivadas por qualquer meio, pelo prazo de seis anos, contado da data de pagamento.</p>,\n",
       " <p>Fica autorizado o armazenamento em meio eletrônico de documentos relativos a deveres e obrigações trabalhistas.</p>,\n",
       " <p>Acaba com o adicional de 10% da multa rescisória sobre o FGTS pago pelas empresas em caso de demissão sem justa causa.</p>,\n",
       " <p>O texto retira a exigência de registro de trabalho para profissões que não tenham conselhos ou ordens de classe, como jornalistas, arquivistas, publicitários e lavadores de carro. Além de revogar leis que regulamenta o exercício de profissões, entre elas: corretor de seguro e guardador e lavador de carros.</p>,\n",
       " <p>Em execução desde a reforma trabalhista de Temer, o texto permite a execução de um acordo extrajudicial entre as partes, no encerramento do contrato.</p>,\n",
       " <p>O governo estende até aos sábados o trabalho dos bancários, além de aumentar a carga horária de 6 para 8 horas diárias da categoria, exceto os trabalhadores que operam exclusivamente nos caixas em atendimento ao público.</p>,\n",
       " <p>A MP retorna com a proposta do governo – retirada pelos senadores na MP da Liberdade Econômica, em agosto -, de autorizar o trabalho aos domingos e feriados para diversas categorias.</p>,\n",
       " <p>Para a indústria, a folga dominical deve acontecer uma vez no período máximo de sete semanas, enquanto o setor de comércios e serviços está garantido um domingo no período máximo de quatro semanas.</p>,\n",
       " <p>O texto aumenta os valores das multas administrativas, aplicadas por auditores do trabalho, ordenando de acordo com gravidade da infração, porte da empresa e funcionários prejudicados.  O governo ainda implanta a dupla visita para situações de gradação leve. “Primeiro, o auditor-fiscal alerta para possíveis problemas, que só será convertida em multa em caso de reincidência”.</p>,\n",
       " <p><strong>Pense no seu futuro: invista. <em><a href=\"https://cadastro.xpi.com.br/passo/default/step1?utm_source=infomoney&amp;utm_campaign=materia-redacao&amp;utm_medium=link&amp;utm_content=pablo-santana&amp;utm_term=1360794\">Abra uma conta gratuita na XP.</a></em></strong></p>]"
      ]
     },
     "execution_count": 22,
     "metadata": {},
     "output_type": "execute_result"
    }
   ],
   "source": [
    "# Excluindo o primeiro parágrafo pois não é relevante\n",
    "paragraphs = paragraphs[1:]\n",
    "paragraphs"
   ]
  },
  {
   "cell_type": "code",
   "execution_count": 23,
   "metadata": {},
   "outputs": [],
   "source": [
    "# Extraindo o texto dos parágrafos\n",
    "text_all = [p.get_text(strip=True) for p in paragraphs]"
   ]
  },
  {
   "cell_type": "code",
   "execution_count": 24,
   "metadata": {},
   "outputs": [
    {
     "data": {
      "text/plain": [
       "['SÃO PAULO – Instituída pelo presidente Jair Bolsonaro na última segunda-feira (11), a Medida Provisória 905/2019 altera pontos da legislação trabalhista e cria o Contrato de TrabalhoVerde Amarelo, dando incentivos a empresas para contratar jovens entre 18 e 29 anos, sem experiência na carteira, pelo prazo determinado de dois anos.',\n",
       " 'Para bancar a iniciativa, o governo anunciou que irátaxar o seguro-desemprego.A estimativa oficial é de 1,8 milhão de vagas de emprego em um prazo de três anos.',\n",
       " 'Entre as principais condições criadas para incentivar as contratações na modalidade estão: isenção das alíquotas do Sistema S, do salário-educação e da contribuição patronal de 20%\\xa0 para o FGTS. As mudanças geram um corte de até 34% dos impostos pagos sobre a folha.',\n",
       " 'A MP também prevê para o Contrato Verde Amarelo a redução de 8% para 2% do valor do salário na contribuição do empregado para o Fundo do Tempo de Serviço (FGTS) e da multa de 40% para 20% – podendo ser resgatado também em casos de demissão por justa causa.Outra iniciativa é a antecipação de pagamentos, como férias, 13º salário e saldo do FGTS, podendo ser mensalmente resgatados, caso acordado entre empregado e empregador.',\n",
       " 'Leia também:• Câmara conclui votação da MP do FGTS com saque de até R$ 998; texto segue para o Senado',\n",
       " 'Segundo o advogado Nelson Guimarães, sócio do escritório Bosisio Advogados, a MP mexe com pontos importantes que podem estimular ajuizamento de Ações Diretas de Inconstitucionalidade contra o pacote.',\n",
       " 'Continua depois da publicidade',\n",
       " 'Um dos pontos sensíveis é a alteração da CLT para a inserção dos mecanismos do Contrato Verde Amarelo, que, segundo Guimarães, comprometem o princípio da isonomia. “Como o contrato cria uma categoria diferente de empregados, com alíquotas e regras diferenciadas, pode haver algum questionamento a respeito da constitucionalidade desses dispositivos”, explica o advogado.',\n",
       " 'Outro tópico frágil apontado pelo jurista é o Art. 15. da MP, que versa sobre seguro por exposição a acidentes.',\n",
       " 'O texto regulamenta que o empregador, mediante acordo com o trabalhador, pode contratar um seguro privado de acidentes pessoais e pagar 5% do adicional de periculosidade sobre o salário base do empregado, diferente dos 30% estabelecido pela lei para os trabalhadores do regime CLT.',\n",
       " 'Continua depois da publicidade',\n",
       " 'A medida ainda estabelece que o adicional só será pago quando houver exposição permanente do trabalhador por, no mínimo, 50% da jornada normal de trabalho. A questão exposta, de acordo com Guimarães, contraria uma jurisprudência consolidada do Tribunal Superior do Trabalho (TST) a respeito do tema e subverte o próprio conceito de periculosidade.',\n",
       " '“Segundo as normas regulamentadoras, o fato do trabalhador estar exposto a risco já lhe dar o direito ao adicional de periculosidade, desde que essa exposição não seja eventual. Esse direito independe da quantidade de tempo, porque o risco não escolhe horário para acontecer. Ao estabelecer um critério de tempo, a MP abre brechas para contestações”, diz Guimarães.',\n",
       " 'Para a advogada Maria Lúcia Benhame, sócia-fundadora do escritório Benhame Sociedade de Advogados, o texto não estabelece o que é periculosidade, dificultando a sua interpretação.',\n",
       " 'Continua depois da publicidade',\n",
       " '“A MP teria que definir melhor o que é condição perigosa nos seus termos para não gerar insegurança jurídica, porque você tem um ato jurídico que vai se prolongar além de uma possível validade que, eventualmente, possa ser cancelada ou alterada numa lei posterior”, explica a jurista.',\n",
       " 'Maria Lúcia observa que a medida pode contribuir com o objetivo do governo de gerar emprego, porque o empresário vai ter menos medo de contratar com os estímulos propostos. Mas pontua que o êxito do projeto parte da melhoria das condições econômicas.',\n",
       " '“Do ponto de vista das empresas, a MP criou um ambiente em que é mais fácil e barato contratar e demitir, porque a multa do fundo está em 20% e o empresário recebeu outras contrapartidas. Então, caso a empresa esteja em um nicho de atividade econômica melhor, ela vai se sentir à vontade para contratar. Porém o que vai gerar emprego mesmo é o aquecimento da economia. Lei nenhuma cria emprego”, opina Benhame.',\n",
       " 'Continua depois da publicidade',\n",
       " 'O governo também aproveitou a criação do Contrato de Trabalho Verde Amarelo para realizar novas modificações nas regras trabalhistas. Foram incluídas mudanças que reorganiza o sistema de fiscalização do trabalho, altera a legislação sobre a participação nos lucros e prêmios e amplia a jornada de trabalho dos bancários.',\n",
       " 'O governo retirou do cálculo do salário o fornecimento de alimentação, seja in natura ou por meio de tickets, vales e cupons. Com a retirada da natureza salarial, o fornecimento passa a ser não tributável para efeito da contribuição previdenciária e dos demais tributos incidentes sobre a folha de salários, além de não integrar a base de cálculo do imposto de renda.',\n",
       " 'As gorjetas destinadas aos trabalhadores farão parte da remuneração do empregado, sendo sua distribuição de rateio e custeio definidas em convenção ou acordo coletivo e o seu valor correspondente inseridos em nota fiscal.',\n",
       " 'Continua depois da publicidade',\n",
       " 'O texto também estabelece que o percentual recebido deve ser anotado na carteira de trabalho dos empregadores e não constitui receita própria dos empregadores.',\n",
       " 'A MP permite que as partes definam quais políticas devem ser adotadas e determina que as regras que disciplinam o pagamento do prêmio devem permanecer arquivadas por qualquer meio, pelo prazo de seis anos, contado da data de pagamento.',\n",
       " 'Fica autorizado o armazenamento em meio eletrônico de documentos relativos a deveres e obrigações trabalhistas.',\n",
       " 'Acaba com o adicional de 10% da multa rescisória sobre o FGTS pago pelas empresas em caso de demissão sem justa causa.',\n",
       " 'O texto retira a exigência de registro de trabalho para profissões que não tenham conselhos ou ordens de classe, como jornalistas, arquivistas, publicitários e lavadores de carro. Além de revogar leis que regulamenta o exercício de profissões, entre elas: corretor de seguro e guardador e lavador de carros.',\n",
       " 'Em execução desde a reforma trabalhista de Temer, o texto permite a execução de um acordo extrajudicial entre as partes, no encerramento do contrato.',\n",
       " 'O governo estende até aos sábados o trabalho dos bancários, além de aumentar a carga horária de 6 para 8 horas diárias da categoria, exceto os trabalhadores que operam exclusivamente nos caixas em atendimento ao público.',\n",
       " 'A MP retorna com a proposta do governo – retirada pelos senadores na MP da Liberdade Econômica, em agosto -, de autorizar o trabalho aos domingos e feriados para diversas categorias.',\n",
       " 'Para a indústria, a folga dominical deve acontecer uma vez no período máximo de sete semanas, enquanto o setor de comércios e serviços está garantido um domingo no período máximo de quatro semanas.',\n",
       " 'O texto aumenta os valores das multas administrativas, aplicadas por auditores do trabalho, ordenando de acordo com gravidade da infração, porte da empresa e funcionários prejudicados.\\xa0 O governo ainda implanta a dupla visita para situações de gradação leve. “Primeiro, o auditor-fiscal alerta para possíveis problemas, que só será convertida em multa em caso de reincidência”.',\n",
       " 'Pense no seu futuro: invista.Abra uma conta gratuita na XP.']"
      ]
     },
     "execution_count": 24,
     "metadata": {},
     "output_type": "execute_result"
    }
   ],
   "source": [
    "text_all"
   ]
  },
  {
   "cell_type": "markdown",
   "metadata": {},
   "source": [
    "<p>Anlisando diversar noticias do <b>InfoMoney</b>, podemos ver que a última linha sempre se refere a algum anúncio do próprio site e que acaba passando no nosso filtro, então podemos retira-lá manualmente</p>"
   ]
  },
  {
   "cell_type": "code",
   "execution_count": 25,
   "metadata": {},
   "outputs": [
    {
     "data": {
      "text/plain": [
       "['SÃO PAULO – Instituída pelo presidente Jair Bolsonaro na última segunda-feira (11), a Medida Provisória 905/2019 altera pontos da legislação trabalhista e cria o Contrato de TrabalhoVerde Amarelo, dando incentivos a empresas para contratar jovens entre 18 e 29 anos, sem experiência na carteira, pelo prazo determinado de dois anos.',\n",
       " 'Para bancar a iniciativa, o governo anunciou que irátaxar o seguro-desemprego.A estimativa oficial é de 1,8 milhão de vagas de emprego em um prazo de três anos.',\n",
       " 'Entre as principais condições criadas para incentivar as contratações na modalidade estão: isenção das alíquotas do Sistema S, do salário-educação e da contribuição patronal de 20%\\xa0 para o FGTS. As mudanças geram um corte de até 34% dos impostos pagos sobre a folha.',\n",
       " 'A MP também prevê para o Contrato Verde Amarelo a redução de 8% para 2% do valor do salário na contribuição do empregado para o Fundo do Tempo de Serviço (FGTS) e da multa de 40% para 20% – podendo ser resgatado também em casos de demissão por justa causa.Outra iniciativa é a antecipação de pagamentos, como férias, 13º salário e saldo do FGTS, podendo ser mensalmente resgatados, caso acordado entre empregado e empregador.',\n",
       " 'Leia também:• Câmara conclui votação da MP do FGTS com saque de até R$ 998; texto segue para o Senado',\n",
       " 'Segundo o advogado Nelson Guimarães, sócio do escritório Bosisio Advogados, a MP mexe com pontos importantes que podem estimular ajuizamento de Ações Diretas de Inconstitucionalidade contra o pacote.',\n",
       " 'Continua depois da publicidade',\n",
       " 'Um dos pontos sensíveis é a alteração da CLT para a inserção dos mecanismos do Contrato Verde Amarelo, que, segundo Guimarães, comprometem o princípio da isonomia. “Como o contrato cria uma categoria diferente de empregados, com alíquotas e regras diferenciadas, pode haver algum questionamento a respeito da constitucionalidade desses dispositivos”, explica o advogado.',\n",
       " 'Outro tópico frágil apontado pelo jurista é o Art. 15. da MP, que versa sobre seguro por exposição a acidentes.',\n",
       " 'O texto regulamenta que o empregador, mediante acordo com o trabalhador, pode contratar um seguro privado de acidentes pessoais e pagar 5% do adicional de periculosidade sobre o salário base do empregado, diferente dos 30% estabelecido pela lei para os trabalhadores do regime CLT.',\n",
       " 'Continua depois da publicidade',\n",
       " 'A medida ainda estabelece que o adicional só será pago quando houver exposição permanente do trabalhador por, no mínimo, 50% da jornada normal de trabalho. A questão exposta, de acordo com Guimarães, contraria uma jurisprudência consolidada do Tribunal Superior do Trabalho (TST) a respeito do tema e subverte o próprio conceito de periculosidade.',\n",
       " '“Segundo as normas regulamentadoras, o fato do trabalhador estar exposto a risco já lhe dar o direito ao adicional de periculosidade, desde que essa exposição não seja eventual. Esse direito independe da quantidade de tempo, porque o risco não escolhe horário para acontecer. Ao estabelecer um critério de tempo, a MP abre brechas para contestações”, diz Guimarães.',\n",
       " 'Para a advogada Maria Lúcia Benhame, sócia-fundadora do escritório Benhame Sociedade de Advogados, o texto não estabelece o que é periculosidade, dificultando a sua interpretação.',\n",
       " 'Continua depois da publicidade',\n",
       " '“A MP teria que definir melhor o que é condição perigosa nos seus termos para não gerar insegurança jurídica, porque você tem um ato jurídico que vai se prolongar além de uma possível validade que, eventualmente, possa ser cancelada ou alterada numa lei posterior”, explica a jurista.',\n",
       " 'Maria Lúcia observa que a medida pode contribuir com o objetivo do governo de gerar emprego, porque o empresário vai ter menos medo de contratar com os estímulos propostos. Mas pontua que o êxito do projeto parte da melhoria das condições econômicas.',\n",
       " '“Do ponto de vista das empresas, a MP criou um ambiente em que é mais fácil e barato contratar e demitir, porque a multa do fundo está em 20% e o empresário recebeu outras contrapartidas. Então, caso a empresa esteja em um nicho de atividade econômica melhor, ela vai se sentir à vontade para contratar. Porém o que vai gerar emprego mesmo é o aquecimento da economia. Lei nenhuma cria emprego”, opina Benhame.',\n",
       " 'Continua depois da publicidade',\n",
       " 'O governo também aproveitou a criação do Contrato de Trabalho Verde Amarelo para realizar novas modificações nas regras trabalhistas. Foram incluídas mudanças que reorganiza o sistema de fiscalização do trabalho, altera a legislação sobre a participação nos lucros e prêmios e amplia a jornada de trabalho dos bancários.',\n",
       " 'O governo retirou do cálculo do salário o fornecimento de alimentação, seja in natura ou por meio de tickets, vales e cupons. Com a retirada da natureza salarial, o fornecimento passa a ser não tributável para efeito da contribuição previdenciária e dos demais tributos incidentes sobre a folha de salários, além de não integrar a base de cálculo do imposto de renda.',\n",
       " 'As gorjetas destinadas aos trabalhadores farão parte da remuneração do empregado, sendo sua distribuição de rateio e custeio definidas em convenção ou acordo coletivo e o seu valor correspondente inseridos em nota fiscal.',\n",
       " 'Continua depois da publicidade',\n",
       " 'O texto também estabelece que o percentual recebido deve ser anotado na carteira de trabalho dos empregadores e não constitui receita própria dos empregadores.',\n",
       " 'A MP permite que as partes definam quais políticas devem ser adotadas e determina que as regras que disciplinam o pagamento do prêmio devem permanecer arquivadas por qualquer meio, pelo prazo de seis anos, contado da data de pagamento.',\n",
       " 'Fica autorizado o armazenamento em meio eletrônico de documentos relativos a deveres e obrigações trabalhistas.',\n",
       " 'Acaba com o adicional de 10% da multa rescisória sobre o FGTS pago pelas empresas em caso de demissão sem justa causa.',\n",
       " 'O texto retira a exigência de registro de trabalho para profissões que não tenham conselhos ou ordens de classe, como jornalistas, arquivistas, publicitários e lavadores de carro. Além de revogar leis que regulamenta o exercício de profissões, entre elas: corretor de seguro e guardador e lavador de carros.',\n",
       " 'Em execução desde a reforma trabalhista de Temer, o texto permite a execução de um acordo extrajudicial entre as partes, no encerramento do contrato.',\n",
       " 'O governo estende até aos sábados o trabalho dos bancários, além de aumentar a carga horária de 6 para 8 horas diárias da categoria, exceto os trabalhadores que operam exclusivamente nos caixas em atendimento ao público.',\n",
       " 'A MP retorna com a proposta do governo – retirada pelos senadores na MP da Liberdade Econômica, em agosto -, de autorizar o trabalho aos domingos e feriados para diversas categorias.',\n",
       " 'Para a indústria, a folga dominical deve acontecer uma vez no período máximo de sete semanas, enquanto o setor de comércios e serviços está garantido um domingo no período máximo de quatro semanas.',\n",
       " 'O texto aumenta os valores das multas administrativas, aplicadas por auditores do trabalho, ordenando de acordo com gravidade da infração, porte da empresa e funcionários prejudicados.\\xa0 O governo ainda implanta a dupla visita para situações de gradação leve. “Primeiro, o auditor-fiscal alerta para possíveis problemas, que só será convertida em multa em caso de reincidência”.']"
      ]
     },
     "execution_count": 25,
     "metadata": {},
     "output_type": "execute_result"
    }
   ],
   "source": [
    "text_all = text_all[:len(text_all)-1]\n",
    "text_all"
   ]
  },
  {
   "cell_type": "markdown",
   "metadata": {},
   "source": [
    "<p>Assim, conseguimos extrair o título, subtítulo e texto da página com poucas linhas de código. Podemos usar exatamente o mesmo código para extrair outra notícia do <b>InfoMoney</b>:</p>"
   ]
  },
  {
   "cell_type": "markdown",
   "metadata": {},
   "source": [
    "#### **5.2.2. Exemplo de outra notícia**"
   ]
  },
  {
   "cell_type": "markdown",
   "metadata": {},
   "source": [
    "<p><b>url</b> = <b style=\"color:blue;\">https://www.infomoney.com.br/mercados/com-producao-duplicada-taurus-quer-novos-mercados-para-as-suas-armas/</b></p>"
   ]
  },
  {
   "cell_type": "code",
   "execution_count": 26,
   "metadata": {},
   "outputs": [
    {
     "name": "stdout",
     "output_type": "stream",
     "text": [
      "Título:  Com produção duplicada, Taurus quer novos mercados para as suas armas\n",
      "Subtítulo:  De janeiro a setembro deste ano, a receita líquida da companhia alcançou R$ 727,4 milhões\n",
      "Texto:\n",
      "(Bloomberg) — A Taurus (TASA3;TASA4) terá sua capacidade produtiva duplicada das atuais 400 mil unidades por ano para 800 mil no início de 2020 com a nova fábrica que inaugura nos Estados Unidos no próximo mês. A planta atenderá o mercado americano — o maior do mundo em consumo de armas — e canadense, mas também permitirá à empresa expandir a presença em novas regiões.\n",
      "\n",
      "A companhia já exporta para mais de 100 países, embora os Estados Unidos respondam por 80% da receita. Essa fatia deve ser reduzida para entre 60% e 70%, mesmo com aumento do market share naquele país, disse Salesio Nuhs, presidente da Taurus, em entrevista por telefone.\n",
      "\n",
      "“Qualquer fabricante de armas do mundo terá sempre os EUA como maior mercado”, disse. Mas a Taurus quer ser “mais agressiva” no cenário global. Faz parte dos planos, inclusive, lançar o revólver de menor custo do mundo em 2020.\n",
      "\n",
      "Um dos novos mercados em estudo é a Índia, onde a Taurus negocia uma joint venture dentro de um programa do governo daquele país na área de defesa. O programa prevê que 51% do capital da joint venture seja propriedade de uma empresa indiana ainda não definida, que será responsável por implantar uma fábrica de armas naquele país. Os estudos devem ser concluídos no quarto trimestre, de acordo com Nuhs.\n",
      "\n",
      "No Brasil, onde os decretos para a posse de armas foram regulamentados nesta semana, o crescimento das vendas deve ser paulatino, segundo o executivo, por questões culturais. “O Brasil, pelas suas dimensões, vai ter um crescimento, mas não será uma escalada. Tem de haver um amadurecimento cultural”, disse.\n",
      "\n",
      "A fábrica brasileira da Taurus não tem ociosidade, segundo o Nuhs, e exporta cerca de 85% do volume produzido. Mas a demanda brasileira que surgir com os novos decretos “terá prioridade”, disse o presidente da empresa.\n",
      "\n",
      "Continua depois da publicidade\n",
      "\n",
      "De janeiro a setembro deste ano, a receita líquida da companhia alcançou R$ 727,4 milhões, uma alta de 17% em relação ao mesmo período do ano passado. A fabricante reverteu um prejuízo em 9 meses de 2018 para um lucro de R$ 21,3 milhões no acumulado deste ano.\n"
     ]
    }
   ],
   "source": [
    "# Request da página\n",
    "url = \"https://www.infomoney.com.br/mercados/com-producao-duplicada-taurus-quer-novos-mercados-para-as-suas-armas/\"\n",
    "response = requests.get(url)\n",
    "\n",
    "# HTML organizado pelo BeautifulSoup\n",
    "html = BeautifulSoup(response.text, \"html.parser\")\n",
    "\n",
    "# Extraindo o título\n",
    "titulo = html.find_all(attrs={\n",
    "    'class': 'text-3xl md:text-5xl font-bold tracking-tighter text-wl-neutral-950'\n",
    "    })\n",
    "titulo = titulo[0].text.strip()\n",
    "\n",
    "# Extraindo o subtítulo\n",
    "subtitulo = html.find_all(attrs={\n",
    "    'class': 'text-lg md:text-xl font-medium tracking-tight text-wl-neutral-600'\n",
    "    })\n",
    "subtitulo = subtitulo[0].text.strip()\n",
    "\n",
    "# Extraindo o texto\n",
    "content_article = html.findAll('article', attrs = {'class': 'im-article clear-fix'})\n",
    "paragraphs = content_article[0].findAll('p')\n",
    "paragraphs = paragraphs[1:]\n",
    "text_all = [p.get_text(strip=True) for p in paragraphs]\n",
    "text_all = text_all[:len(text_all)-1]\n",
    "\n",
    "# Resultado Final\n",
    "print('Título: ', titulo)\n",
    "print('Subtítulo: ', subtitulo)\n",
    "print('Texto:')\n",
    "print(\"\\n\\n\".join(text_all))\n"
   ]
  },
  {
   "cell_type": "markdown",
   "metadata": {},
   "source": [
    "### **5.3. Extraindo Listas**"
   ]
  },
  {
   "cell_type": "markdown",
   "metadata": {},
   "source": [
    "<p><b>url</b> = <b style=\"color:blue;\">https://www.infomoney.com.br/negocios/expert-estreia-em-sc-com-debate-sobre-investimentos-na-nova-realidade-de-juros-no-brasil/</b></p>"
   ]
  },
  {
   "cell_type": "markdown",
   "metadata": {},
   "source": [
    "<p>Assim como texto, não é difícil extrair listas, apenas é preciso saber onde ela se encontra na página. Como exemplo usaremos outra notícia do <b>InfoMoney</b>, mas iremos extrair apenas a lista contida nela</p>"
   ]
  },
  {
   "cell_type": "markdown",
   "metadata": {},
   "source": [
    "<img src = \"imagens/html6.png\"/>"
   ]
  },
  {
   "cell_type": "markdown",
   "metadata": {},
   "source": [
    "<p>Vamos usar as seguintes informações na nossa busca e extração:</p>\n",
    "\n",
    "<ul>\n",
    "    <li>A lista está contida em um <b>&lt;article&gt;...&lt;/article&gt;</b> com <b>class='im-article clear-fix';</b></li>\n",
    "    <li>Após extrairmos o <b>&lt;article&gt;...&lt;/article&gt;</b> desejado, queremos apenas o que está dentro de <b>&lt;ul&gt;...&lt;/ul&gt;</b> e, logo em seguida, o que está dentro de cada <b>&lt;li&gt;...&lt;/li&gt;</b>.</li>\n",
    "</ul>"
   ]
  },
  {
   "cell_type": "code",
   "execution_count": 27,
   "metadata": {},
   "outputs": [
    {
     "data": {
      "text/plain": [
       "['Guilherme Benchimol, CEO do XP Inc.',\n",
       " 'Gabriel Leal, sócio e diretor comercial da XP Investimentos',\n",
       " 'Ricardo Amorim, economista',\n",
       " 'Thiago Nigro, fundador do canal Primo Rico',\n",
       " 'Karel Luketic, head de análise da XP Investimentos',\n",
       " 'Zeina Latif, sócia e economista-chefe da XP Investimentos',\n",
       " 'Rogério Carvalho, sócio e responsável pelo B2B do XP Inc.',\n",
       " 'Thiago Salomão, analista de ações da Rico Investimentos',\n",
       " 'João Braga, sócio e gestor da XP Gestão',\n",
       " 'Amyr Klink, navegador brasileiro',\n",
       " 'Luiz Fux, ministro do Supremo Tribunal Federal (STF)',\n",
       " 'José Galló, Presidente do Conselho de Administração das Lojas Renner',\n",
       " 'Demétrio Magnoli, colunista e comentarista político',\n",
       " 'Luciano Hang, empresário e sócio fundador da loja Havan']"
      ]
     },
     "execution_count": 27,
     "metadata": {},
     "output_type": "execute_result"
    }
   ],
   "source": [
    "# Request da página\n",
    "url = 'https://www.infomoney.com.br/negocios/expert-estreia-em-sc-com-debate-sobre-investimentos-na-nova-realidade-de-juros-no-brasil/'\n",
    "response = requests.get(url)\n",
    "\n",
    "# HTML organizado pelo bs4\n",
    "html = BeautifulSoup(response.text, \"html.parser\")\n",
    "\n",
    "# Extração da Lista\n",
    "content_article = html.findAll('article', attrs = {'class': 'im-article clear-fix'})\n",
    "lista_ul = content_article[0].findAll('ul')\n",
    "lista = lista_ul[0].findAll('li')\n",
    "\n",
    "lista_all = []\n",
    "for l in lista:\n",
    "    lista_all.append(l.text.strip())\n",
    "\n",
    "lista_all"
   ]
  },
  {
   "cell_type": "markdown",
   "metadata": {},
   "source": [
    "### **5.4. Extraindo Tabelas**"
   ]
  },
  {
   "cell_type": "markdown",
   "metadata": {},
   "source": [
    "<p><b>url</b> = <b style=\"color:blue;\">https://www.infomoney.com.br/ferramentas/cambio/</b></p>"
   ]
  },
  {
   "cell_type": "markdown",
   "metadata": {},
   "source": [
    "<p>Para esse exemplo vamos usar a página de câmbio que está no <b>InfoMoney</b>:</p>"
   ]
  },
  {
   "cell_type": "code",
   "execution_count": 28,
   "metadata": {},
   "outputs": [],
   "source": [
    "# Request da página\n",
    "url = 'https://www.infomoney.com.br/ferramentas/cambio/'\n",
    "response = requests.get(url)\n",
    "\n",
    "# HTML organizado pelo bs4\n",
    "html = BeautifulSoup(response.text, \"html.parser\")"
   ]
  },
  {
   "cell_type": "markdown",
   "metadata": {},
   "source": [
    "<img src = \"imagens/html7.png\"/>"
   ]
  },
  {
   "cell_type": "markdown",
   "metadata": {},
   "source": [
    "<p>Vamos usar as seguintes informações na nossa busca e extração:</p>\n",
    "\n",
    "<ul>\n",
    "    <li>A tabela está contida em um <b>&lt;div&gt;...&lt;/div&gt;</b> com <b>id='container_table'</b>. Como <b>id</b>s são únicos, não corremos o risco de pegar informações erradas;</li>\n",
    "    <li>Após extrairmos o <b>&lt;div&gt;...&lt;/div&gt;</b> desejado, queremos apenas o que está dentro de <b>&lt;table&gt;...&lt;/table&gt;</b>.</li>\n",
    "</ul>"
   ]
  },
  {
   "cell_type": "code",
   "execution_count": 29,
   "metadata": {},
   "outputs": [
    {
     "data": {
      "text/plain": [
       "[<table class=\"default-table\">\n",
       " <thead>\n",
       " <tr>\n",
       " <th>Moeda</th>\n",
       " <th></th>\n",
       " <th>Compra</th>\n",
       " <th>Venda</th>\n",
       " <th>Var(%)</th>\n",
       " </tr>\n",
       " </thead>\n",
       " <tbody>\n",
       " <tr>\n",
       " <td>Peso Argentino</td>\n",
       " <td><img alt=\"Peso Argentino\" src=\"https://www.infomoney.com.br/wp-content/themes/infomoney/assets/img/ar.webp\"/></td>\n",
       " <td>0,0054</td>\n",
       " <td>0,0054</td>\n",
       " <td class=\"negative\">0</td>\n",
       " </tr>\n",
       " <tr>\n",
       " <td>Dólar Australiano</td>\n",
       " <td><img alt=\"Dólar Australiano\" src=\"https://www.infomoney.com.br/wp-content/themes/infomoney/assets/img/au.webp\"/></td>\n",
       " <td>3,623</td>\n",
       " <td>3,632</td>\n",
       " <td class=\"positive\">0,6512</td>\n",
       " </tr>\n",
       " <tr>\n",
       " <td>Dólar Canadense</td>\n",
       " <td><img alt=\"Dólar Canadense\" src=\"https://www.infomoney.com.br/wp-content/themes/infomoney/assets/img/ca.webp\"/></td>\n",
       " <td>4,016</td>\n",
       " <td>4,026</td>\n",
       " <td class=\"positive\">0,244</td>\n",
       " </tr>\n",
       " <tr>\n",
       " <td>Franco Suíço</td>\n",
       " <td><img alt=\"Franco Suíço\" src=\"https://www.infomoney.com.br/wp-content/themes/infomoney/assets/img/su.webp\"/></td>\n",
       " <td>0,4217</td>\n",
       " <td>0,4218</td>\n",
       " <td class=\"negative\">-87</td>\n",
       " </tr>\n",
       " <tr>\n",
       " <td>Dólar Comercial</td>\n",
       " <td><img alt=\"Dólar Comercial\" src=\"https://www.infomoney.com.br/wp-content/themes/infomoney/assets/img/us.webp\"/></td>\n",
       " <td>5,749</td>\n",
       " <td>5,751</td>\n",
       " <td class=\"positive\">0,349</td>\n",
       " </tr>\n",
       " <tr>\n",
       " <td>Dólar Turismo</td>\n",
       " <td><img alt=\"Dólar Turismo\" src=\"https://www.infomoney.com.br/wp-content/themes/infomoney/assets/img/us.webp\"/></td>\n",
       " <td>5,796</td>\n",
       " <td>5,976</td>\n",
       " <td class=\"positive\">0,3122</td>\n",
       " </tr>\n",
       " <tr>\n",
       " <td>Euro</td>\n",
       " <td><img alt=\"Euro\" src=\"https://www.infomoney.com.br/wp-content/themes/infomoney/assets/img/eu.webp\"/></td>\n",
       " <td>6,206</td>\n",
       " <td>6,207</td>\n",
       " <td class=\"positive\">0,7139</td>\n",
       " </tr>\n",
       " <tr>\n",
       " <td>Libra Esterlina</td>\n",
       " <td><img alt=\"Libra Esterlina\" src=\"https://www.infomoney.com.br/wp-content/themes/infomoney/assets/img/gb.webp\"/></td>\n",
       " <td>7,439</td>\n",
       " <td>7,439</td>\n",
       " <td class=\"positive\">0,6222</td>\n",
       " </tr>\n",
       " <tr>\n",
       " <td>Iene</td>\n",
       " <td><img alt=\"Iene\" src=\"https://www.infomoney.com.br/wp-content/themes/infomoney/assets/img/jp.webp\"/></td>\n",
       " <td>0,0478</td>\n",
       " <td>0,0478</td>\n",
       " <td class=\"positive\">0,8439</td>\n",
       " </tr>\n",
       " </tbody>\n",
       " </table>]"
      ]
     },
     "execution_count": 29,
     "metadata": {},
     "output_type": "execute_result"
    }
   ],
   "source": [
    "# Extração da tabela\n",
    "table_div = html.findAll(attrs = {'id': 'container_table'})\n",
    "table = table_div[0].findAll('table')\n",
    "\n",
    "table"
   ]
  },
  {
   "cell_type": "markdown",
   "metadata": {},
   "source": [
    "<p>Devemos utilizar o método <b>'.read_html()'</b> do Pandas para organizar a tabela em um DataFrame. Como a tabela está com <b>'vírgula'</b> devemos substituir por <b>'ponto'</b> usando o método <b>'.replace()'</b>. Por fim, podemos retirar a segunda coluna da base pelo próprio pandas, já que ela representa imagem de bandeiras no código HTML e não nos interessa no final.</p>"
   ]
  },
  {
   "cell_type": "markdown",
   "metadata": {},
   "source": [
    "***Atenção!***\n",
    "\n",
    "*Futuramente passar HTML diretamente para pd.read_html() sem envolver em um objeto StringIO será removido em versões futuras do Pandas.\n",
    "Para evitar esse problema, use io.StringIO do módulo io para converter a string HTML antes de passá-la para pd.read_html()*"
   ]
  },
  {
   "cell_type": "code",
   "execution_count": 30,
   "metadata": {},
   "outputs": [
    {
     "data": {
      "text/html": [
       "<div>\n",
       "<style scoped>\n",
       "    .dataframe tbody tr th:only-of-type {\n",
       "        vertical-align: middle;\n",
       "    }\n",
       "\n",
       "    .dataframe tbody tr th {\n",
       "        vertical-align: top;\n",
       "    }\n",
       "\n",
       "    .dataframe thead th {\n",
       "        text-align: right;\n",
       "    }\n",
       "</style>\n",
       "<table border=\"1\" class=\"dataframe\">\n",
       "  <thead>\n",
       "    <tr style=\"text-align: right;\">\n",
       "      <th></th>\n",
       "      <th>Moeda</th>\n",
       "      <th>Compra</th>\n",
       "      <th>Venda</th>\n",
       "      <th>Var(%)</th>\n",
       "    </tr>\n",
       "  </thead>\n",
       "  <tbody>\n",
       "    <tr>\n",
       "      <th>0</th>\n",
       "      <td>Peso Argentino</td>\n",
       "      <td>0.0054</td>\n",
       "      <td>0.0054</td>\n",
       "      <td>0.0000</td>\n",
       "    </tr>\n",
       "    <tr>\n",
       "      <th>1</th>\n",
       "      <td>Dólar Australiano</td>\n",
       "      <td>3.6230</td>\n",
       "      <td>3.6320</td>\n",
       "      <td>0.6512</td>\n",
       "    </tr>\n",
       "    <tr>\n",
       "      <th>2</th>\n",
       "      <td>Dólar Canadense</td>\n",
       "      <td>4.0160</td>\n",
       "      <td>4.0260</td>\n",
       "      <td>0.2440</td>\n",
       "    </tr>\n",
       "    <tr>\n",
       "      <th>3</th>\n",
       "      <td>Franco Suíço</td>\n",
       "      <td>0.4217</td>\n",
       "      <td>0.4218</td>\n",
       "      <td>-87.0000</td>\n",
       "    </tr>\n",
       "    <tr>\n",
       "      <th>4</th>\n",
       "      <td>Dólar Comercial</td>\n",
       "      <td>5.7490</td>\n",
       "      <td>5.7510</td>\n",
       "      <td>0.3490</td>\n",
       "    </tr>\n",
       "    <tr>\n",
       "      <th>5</th>\n",
       "      <td>Dólar Turismo</td>\n",
       "      <td>5.7960</td>\n",
       "      <td>5.9760</td>\n",
       "      <td>0.3122</td>\n",
       "    </tr>\n",
       "    <tr>\n",
       "      <th>6</th>\n",
       "      <td>Euro</td>\n",
       "      <td>6.2060</td>\n",
       "      <td>6.2070</td>\n",
       "      <td>0.7139</td>\n",
       "    </tr>\n",
       "    <tr>\n",
       "      <th>7</th>\n",
       "      <td>Libra Esterlina</td>\n",
       "      <td>7.4390</td>\n",
       "      <td>7.4390</td>\n",
       "      <td>0.6222</td>\n",
       "    </tr>\n",
       "    <tr>\n",
       "      <th>8</th>\n",
       "      <td>Iene</td>\n",
       "      <td>0.0478</td>\n",
       "      <td>0.0478</td>\n",
       "      <td>0.8439</td>\n",
       "    </tr>\n",
       "  </tbody>\n",
       "</table>\n",
       "</div>"
      ],
      "text/plain": [
       "               Moeda  Compra   Venda   Var(%)\n",
       "0     Peso Argentino  0.0054  0.0054   0.0000\n",
       "1  Dólar Australiano  3.6230  3.6320   0.6512\n",
       "2    Dólar Canadense  4.0160  4.0260   0.2440\n",
       "3       Franco Suíço  0.4217  0.4218 -87.0000\n",
       "4    Dólar Comercial  5.7490  5.7510   0.3490\n",
       "5      Dólar Turismo  5.7960  5.9760   0.3122\n",
       "6               Euro  6.2060  6.2070   0.7139\n",
       "7    Libra Esterlina  7.4390  7.4390   0.6222\n",
       "8               Iene  0.0478  0.0478   0.8439"
      ]
     },
     "execution_count": 30,
     "metadata": {},
     "output_type": "execute_result"
    }
   ],
   "source": [
    "# Convertendo a string HTML para StringIO\n",
    "html_content = str(table[0]).replace(',', '.')\n",
    "df = pd.read_html(io.StringIO(html_content))[0]\n",
    "\n",
    "# Removendo a segunda coluna\n",
    "df = df.drop(df.columns[1], axis=1)\n",
    "\n",
    "# Exibir o DataFrame\n",
    "df"
   ]
  },
  {
   "cell_type": "markdown",
   "metadata": {},
   "source": [
    "### **5.5. Extraindo Listas de Links**"
   ]
  },
  {
   "cell_type": "markdown",
   "metadata": {},
   "source": [
    "<p><b>url</b> = <b style=\"color:blue;\">https://www.infomoney.com.br/</b></p>"
   ]
  },
  {
   "cell_type": "markdown",
   "metadata": {},
   "source": [
    "<p>Muitas vezes precisamos extrair uma lista de links, tanto para automatizar o processo de extrair texto de diversas notícias, como para baixar documentos que estejam contidos na web(pdf, csv, etc...)</p>"
   ]
  },
  {
   "cell_type": "markdown",
   "metadata": {},
   "source": [
    "<p> Como explicado anteriormente, esses links são armazenados em tags usando o atributo <b>'href'</b>, então o que precisamos fazer é apenas encontrar o atributo dentro do nosso código HTML para poder extrair a lista de links desejada</p>"
   ]
  },
  {
   "cell_type": "markdown",
   "metadata": {},
   "source": [
    "<p>Como exemplo, pegaremos a página inicial do <b>InfoMoney</b> e iremos extrair o link e o título de todas as notícias da página principal:</p>"
   ]
  },
  {
   "cell_type": "code",
   "execution_count": 31,
   "metadata": {},
   "outputs": [],
   "source": [
    "# Request da página\n",
    "url = 'https://www.infomoney.com.br/'\n",
    "response = requests.get(url)\n",
    "\n",
    "# HTML organizado pelo bs4\n",
    "html = BeautifulSoup(response.text, \"html.parser\")\n"
   ]
  },
  {
   "cell_type": "markdown",
   "metadata": {},
   "source": [
    "<p>Inspecionando o código fonte, podemos ver que todas as notícias possuem <p><b>class='related-link relative before:absolute before:top-0 before:left-0 before:h-6 md:before:h-7 before:w-0.5 before:flex-shrink-0 before:bg-wl-neutral-400 pl-2 text-wl-neutral-950 text-base md:text-lg leading-6 md:leading-7 hover:underline'</b></p> na tag <b>&lt;div&gt;...&lt;/div&gt;</b>. Então é só buscarmos por classes que contenham pelo menos <b>'related-link'</b>. Essa é outra característica da busca, não precisamos colocar o nome inteiro da classe:<p>"
   ]
  },
  {
   "cell_type": "code",
   "execution_count": 32,
   "metadata": {},
   "outputs": [
    {
     "data": {
      "text/plain": [
       "<div class=\"related-link relative before:absolute before:top-0 before:left-0 before:h-6 md:before:h-7 before:w-0.5 before:flex-shrink-0 before:bg-wl-neutral-400 pl-2 text-wl-neutral-950 text-base md:text-lg leading-6 md:leading-7 hover:underline\"><a aria-label=\"Carregar ou vender: o que fazer se o título de renda fixa perdeu valor?\" href=\"https://www.infomoney.com.br/onde-investir/carregar-ou-vender-o-que-fazer-se-o-titulo-de-renda-fixa-perdeu-valor/\">Carregar ou vender: o que fazer se o título de renda fixa perdeu valor?</a></div>"
      ]
     },
     "execution_count": 32,
     "metadata": {},
     "output_type": "execute_result"
    }
   ],
   "source": [
    "# Extraindo o span de todas as notícias\n",
    "div = html.find_all(attrs={'class': ['related-link']})\n",
    "\n",
    "# Exemplo de notícia\n",
    "div[0]"
   ]
  },
  {
   "cell_type": "markdown",
   "metadata": {},
   "source": [
    "<p>Veja que no exemplo do <b>'links[0]'</b>, há a tag <b>&lt;a...&gt;</b> com os atributos <b>href</b>, exatamente o que queremos extrair</p>"
   ]
  },
  {
   "cell_type": "markdown",
   "metadata": {},
   "source": [
    "<p>Em seguida, rodamos um loop por cada <b>&lt;idv&gt;...&lt;/div&gt;</b> encontrado, extraímos a tag <b>&lt;a&gt;...&lt;/a&gt;</b> usando o método <b>'.find()'</b> e, por fim, extraímos o <b>href</b>(link) e o título da notícia usando o método <b>'.get()'</b>:</p>"
   ]
  },
  {
   "cell_type": "code",
   "execution_count": 33,
   "metadata": {},
   "outputs": [],
   "source": [
    "titulos = []\n",
    "links = []\n",
    "for d in div:\n",
    "    # Em cada span, extraimos a tag 'a'\n",
    "    a_tag = d.find('a')\n",
    "    links.append(a_tag.get('href'))\n",
    "    titulos.append(a_tag.text.strip())"
   ]
  },
  {
   "cell_type": "markdown",
   "metadata": {},
   "source": [
    "<p>Organizando num DataFrame, teremos:</p>"
   ]
  },
  {
   "cell_type": "code",
   "execution_count": 34,
   "metadata": {},
   "outputs": [],
   "source": [
    "df = pd.DataFrame({'Titulo': titulos, 'Link': links})"
   ]
  },
  {
   "cell_type": "code",
   "execution_count": 35,
   "metadata": {},
   "outputs": [
    {
     "data": {
      "text/html": [
       "<div>\n",
       "<style scoped>\n",
       "    .dataframe tbody tr th:only-of-type {\n",
       "        vertical-align: middle;\n",
       "    }\n",
       "\n",
       "    .dataframe tbody tr th {\n",
       "        vertical-align: top;\n",
       "    }\n",
       "\n",
       "    .dataframe thead th {\n",
       "        text-align: right;\n",
       "    }\n",
       "</style>\n",
       "<table border=\"1\" class=\"dataframe\">\n",
       "  <thead>\n",
       "    <tr style=\"text-align: right;\">\n",
       "      <th></th>\n",
       "      <th>Titulo</th>\n",
       "      <th>Link</th>\n",
       "    </tr>\n",
       "  </thead>\n",
       "  <tbody>\n",
       "    <tr>\n",
       "      <th>0</th>\n",
       "      <td>Carregar ou vender: o que fazer se o título de renda fixa perdeu valor?</td>\n",
       "      <td>https://www.infomoney.com.br/onde-investir/carregar-ou-vender-o-que-fazer-se-o-titulo-de-renda-fixa-perdeu-valor/</td>\n",
       "    </tr>\n",
       "    <tr>\n",
       "      <th>1</th>\n",
       "      <td>Nesta 6ª: Inflação PCE nos EUA; Caged e taxa de desemprego no Brasil</td>\n",
       "      <td>https://www.infomoney.com.br/mercados/inflacao-pce-nos-eua-caged-e-taxa-de-desemprego-no-brasil-os-destaques-desta-6a/</td>\n",
       "    </tr>\n",
       "    <tr>\n",
       "      <th>2</th>\n",
       "      <td>Novas regras: Fundos de pensão não poderão investir em criptoativos</td>\n",
       "      <td>https://www.infomoney.com.br/economia/fundos-de-pensao-nao-poderao-investir-em-criptoativos/</td>\n",
       "    </tr>\n",
       "    <tr>\n",
       "      <th>3</th>\n",
       "      <td>Banco Bmg aprova R$ 58,3 mi em JCP</td>\n",
       "      <td>https://www.infomoney.com.br/mercados/banco-bmg-aprova-r-583-mi-em-jcp/</td>\n",
       "    </tr>\n",
       "    <tr>\n",
       "      <th>4</th>\n",
       "      <td>Argentina: atividade econômica cresce no maior ritmo desde 2022</td>\n",
       "      <td>https://www.infomoney.com.br/mundo/atividade-economica-da-argentina-cresce-no-ritmo-mais-rapido-desde-2022/</td>\n",
       "    </tr>\n",
       "    <tr>\n",
       "      <th>5</th>\n",
       "      <td>Justiça espanhola absolve Daniel Alves em caso de agressão sexual</td>\n",
       "      <td>https://www.infomoney.com.br/mundo/justica-espanhola-absolve-daniel-alves-em-caso-de-agressao-sexual/</td>\n",
       "    </tr>\n",
       "    <tr>\n",
       "      <th>6</th>\n",
       "      <td>ChatGPT: Novo gerador de imagens sai da versão gratuita após viralizar</td>\n",
       "      <td>https://www.infomoney.com.br/consumo/novo-gerador-de-imagens-do-chatgpt-sai-da-versao-gratuita-apos-viralizar-no-brasil/</td>\n",
       "    </tr>\n",
       "    <tr>\n",
       "      <th>7</th>\n",
       "      <td>Mudança de CEO na Tupy gera divisões e preocupa mercado</td>\n",
       "      <td>https://www.infomoney.com.br/mercados/mudanca-de-ceo-na-tupy-gera-divisoes-entre-investidores-e-preocupa-mercado/</td>\n",
       "    </tr>\n",
       "    <tr>\n",
       "      <th>8</th>\n",
       "      <td>Hypera ataca Sanchez, da EMS, em petição ao Cade: ‘quer interferir’</td>\n",
       "      <td>https://www.infomoney.com.br/mercados/hypera-ataca-sanchez-da-ems-em-peticao-ao-cade-quer-interferir-na-administracao/</td>\n",
       "    </tr>\n",
       "    <tr>\n",
       "      <th>9</th>\n",
       "      <td>Receita de anúncios do X deve ter 1º alta anual desde compra por Musk</td>\n",
       "      <td>https://www.infomoney.com.br/business/receita-de-anuncios-do-x-deve-registrar-1o-alta-anual-desde-aquisicao-por-musk/</td>\n",
       "    </tr>\n",
       "    <tr>\n",
       "      <th>10</th>\n",
       "      <td>Futuro de Bitcoin: Confira os pontos de suporte e resistência para hoje</td>\n",
       "      <td>https://www.infomoney.com.br/mercados/futuro-bitcoin-bith25-analise-tecnica-28032025/</td>\n",
       "    </tr>\n",
       "    <tr>\n",
       "      <th>11</th>\n",
       "      <td>Empreender não é criar produto, mas resolver o problema do cliente</td>\n",
       "      <td>https://www.infomoney.com.br/mercados/segundo-marcelo-toledo-eu-nao-aguento-mais-gatilho-para-transformacao/</td>\n",
       "    </tr>\n",
       "    <tr>\n",
       "      <th>12</th>\n",
       "      <td>Bitcoin: Trader vê poucas chances do valor retomar US$ 100 mil agora</td>\n",
       "      <td>https://www.infomoney.com.br/mercados/trader-ve-poucas-chances-do-bitcoin-retomar-o-valor-de-us-100-mil-no-curto-prazo/</td>\n",
       "    </tr>\n",
       "  </tbody>\n",
       "</table>\n",
       "</div>"
      ],
      "text/plain": [
       "                                                                     Titulo  \\\n",
       "0   Carregar ou vender: o que fazer se o título de renda fixa perdeu valor?   \n",
       "1      Nesta 6ª: Inflação PCE nos EUA; Caged e taxa de desemprego no Brasil   \n",
       "2       Novas regras: Fundos de pensão não poderão investir em criptoativos   \n",
       "3                                        Banco Bmg aprova R$ 58,3 mi em JCP   \n",
       "4           Argentina: atividade econômica cresce no maior ritmo desde 2022   \n",
       "5         Justiça espanhola absolve Daniel Alves em caso de agressão sexual   \n",
       "6    ChatGPT: Novo gerador de imagens sai da versão gratuita após viralizar   \n",
       "7                   Mudança de CEO na Tupy gera divisões e preocupa mercado   \n",
       "8       Hypera ataca Sanchez, da EMS, em petição ao Cade: ‘quer interferir’   \n",
       "9     Receita de anúncios do X deve ter 1º alta anual desde compra por Musk   \n",
       "10  Futuro de Bitcoin: Confira os pontos de suporte e resistência para hoje   \n",
       "11       Empreender não é criar produto, mas resolver o problema do cliente   \n",
       "12     Bitcoin: Trader vê poucas chances do valor retomar US$ 100 mil agora   \n",
       "\n",
       "                                                                                                                        Link  \n",
       "0          https://www.infomoney.com.br/onde-investir/carregar-ou-vender-o-que-fazer-se-o-titulo-de-renda-fixa-perdeu-valor/  \n",
       "1     https://www.infomoney.com.br/mercados/inflacao-pce-nos-eua-caged-e-taxa-de-desemprego-no-brasil-os-destaques-desta-6a/  \n",
       "2                               https://www.infomoney.com.br/economia/fundos-de-pensao-nao-poderao-investir-em-criptoativos/  \n",
       "3                                                    https://www.infomoney.com.br/mercados/banco-bmg-aprova-r-583-mi-em-jcp/  \n",
       "4                https://www.infomoney.com.br/mundo/atividade-economica-da-argentina-cresce-no-ritmo-mais-rapido-desde-2022/  \n",
       "5                      https://www.infomoney.com.br/mundo/justica-espanhola-absolve-daniel-alves-em-caso-de-agressao-sexual/  \n",
       "6   https://www.infomoney.com.br/consumo/novo-gerador-de-imagens-do-chatgpt-sai-da-versao-gratuita-apos-viralizar-no-brasil/  \n",
       "7          https://www.infomoney.com.br/mercados/mudanca-de-ceo-na-tupy-gera-divisoes-entre-investidores-e-preocupa-mercado/  \n",
       "8     https://www.infomoney.com.br/mercados/hypera-ataca-sanchez-da-ems-em-peticao-ao-cade-quer-interferir-na-administracao/  \n",
       "9      https://www.infomoney.com.br/business/receita-de-anuncios-do-x-deve-registrar-1o-alta-anual-desde-aquisicao-por-musk/  \n",
       "10                                     https://www.infomoney.com.br/mercados/futuro-bitcoin-bith25-analise-tecnica-28032025/  \n",
       "11              https://www.infomoney.com.br/mercados/segundo-marcelo-toledo-eu-nao-aguento-mais-gatilho-para-transformacao/  \n",
       "12   https://www.infomoney.com.br/mercados/trader-ve-poucas-chances-do-bitcoin-retomar-o-valor-de-us-100-mil-no-curto-prazo/  "
      ]
     },
     "execution_count": 35,
     "metadata": {},
     "output_type": "execute_result"
    }
   ],
   "source": [
    "pd.options.display.max_rows\n",
    "pd.set_option('display.max_colwidth', None)\n",
    "\n",
    "df"
   ]
  },
  {
   "cell_type": "markdown",
   "metadata": {},
   "source": [
    "### **5.6. Parte II - Extração de Dados de uma Página Web**"
   ]
  },
  {
   "cell_type": "markdown",
   "metadata": {},
   "source": [
    "<h4 id='parte-3a' style=\"color:green;\">5.6.1. Extraindo uma lista de links do google</h4>"
   ]
  },
  {
   "cell_type": "markdown",
   "metadata": {},
   "source": [
    "<p>Vamos tentar extrair uma lista de notícias do <b>InfoMoney</b> através de uma busca do google na área <b>news</b>, usando como filtros o assunto <b>'itaú'</b> e um intervalo de tempo <b>[01/09/2019, 01/11/2019]</b>. Para isso devemos analisar como o link se comporta de acordo com a nossa pesquisa:</p>"
   ]
  },
  {
   "cell_type": "markdown",
   "metadata": {},
   "source": [
    "<ul><li><b>url</b> = <b style=\"color:blue;\">https://www.google.com.br/search?q=<b style=\"color:red;\">%22ita%C3%BA%22+infomoney</b>&tbs=cdr:1,<b style=\"color:red;\">cd_min:9/1/2019,cd_max:11/1/2019</b>&source=lnms&tbm=nws&sa=X&ved=2ahUKEwjin7bEyf7lAhWss1kKHRkwAuw4ChD8BSgBegQICxAD&biw=1920&bih=944</b></li></ul>"
   ]
  },
  {
   "cell_type": "markdown",
   "metadata": {},
   "source": [
    "<p>A primeira parte <b style=\"color:red;\">%22ita%C3%BA%22+infomoney</b> representa nossa pesquisa. Como um link não pode conter <b>aspas(%22)</b> ou letras com acento <b>(ú : %C3%BA)</b>, o link é encodado para um navegador conseguir interpretar o que está sendo passado. A segunda parte <b style=\"color:red;\">cd_min:9/1/2019,cd_max:11/1/2019</b> indica o intervalo de tempo em que estamos fazendo a busca.</p>"
   ]
  },
  {
   "cell_type": "markdown",
   "metadata": {},
   "source": [
    "<p>Ao mudarmos para a segunda página, vemos que um novo parâmetro aparece dentro do link:</p>"
   ]
  },
  {
   "cell_type": "markdown",
   "metadata": {},
   "source": [
    "<ul><li><b>url</b> = <b style=\"color:blue;\">https://www.google.com.br/search?q=<b style=\"color:red;\">%22ita%C3%BA%22+infomoney</b>&tbs=cdr:1,<b style=\"color:red;\">cd_min:9/1/2019,cd_max:11/1/2019</b>&tbm=nws&ei=aj_YXeiwGcbZ5gLut4noDw&<b style=\"color:red;\">start=10</b>&sa=N&ved=0ahUKEwjojZbtzv7lAhXGrFkKHe5bAv0Q8tMDCFM&biw=1920&bih=944&dpr=1</b></li></ul>"
   ]
  },
  {
   "cell_type": "markdown",
   "metadata": {},
   "source": [
    "<p>A parte <b style=\"color:red;\">start=10</b> indica o número da primeira notícia a ser mostrada na página. Cada página apresenta <b>10</b> notícias no total, então a segunda página apresenta as notícias de <b>10 a 19</b>, a terceira <b>20 a 29</b>, etc. Então para facilitar nossa extração de notícias dentro do python, apenas temos que usar links mudando o parâmetro <b style=\"color:red;\">start=0,10,20,30....</b></p>"
   ]
  },
  {
   "cell_type": "markdown",
   "metadata": {},
   "source": [
    "<h5 id='parte-1a1' style=\"color:green;\">5.6.1.1. Fazendo um GET na busca e procurando pelos links</h5>"
   ]
  },
  {
   "cell_type": "markdown",
   "metadata": {},
   "source": [
    "<p><b>Request</b> no link com parâmetro <b style=\"color:red;\">start=0</b>(primeira página):</p>"
   ]
  },
  {
   "cell_type": "code",
   "execution_count": 36,
   "metadata": {},
   "outputs": [
    {
     "data": {
      "text/plain": [
       "200"
      ]
     },
     "execution_count": 36,
     "metadata": {},
     "output_type": "execute_result"
    }
   ],
   "source": [
    "url = 'https://www.google.com.br/search?q=%22ita%C3%BA%22+infomoney&tbs=cdr:1,cd_min:9/1/2019,cd_max:11/1/2019&tbm=nws&ei=aj_YXeiwGcbZ5gLut4noDw&start=0&sa=N&ved=0ahUKEwjojZbtzv7lAhXGrFkKHe5bAv0Q8tMDCFM&biw=1920&bih=944&dpr=1'\n",
    "response = requests.get(url)\n",
    "\n",
    "response.status_code"
   ]
  },
  {
   "cell_type": "markdown",
   "metadata": {},
   "source": [
    "<p>Organizando a reposta com <b>bs4</b>:</p>"
   ]
  },
  {
   "cell_type": "code",
   "execution_count": 37,
   "metadata": {},
   "outputs": [],
   "source": [
    "html = BeautifulSoup(response.text, \"html.parser\")"
   ]
  },
  {
   "cell_type": "markdown",
   "metadata": {},
   "source": [
    "<p>Para extrair os links de uma página, devemos procurar pelos atributos <b>'href'</b> no código. Inspecionando a página, vemos que ela está dentro de um <b>&lt;div&gt;...&lt;/div&gt;</b> com <b>'class=s6JM6d ufC5Cb'</b>, então precisamos passar isso para o <b>'.find_all()'</b></p>"
   ]
  },
  {
   "cell_type": "code",
   "execution_count": 38,
   "metadata": {},
   "outputs": [
    {
     "data": {
      "text/plain": [
       "[]"
      ]
     },
     "execution_count": 38,
     "metadata": {},
     "output_type": "execute_result"
    }
   ],
   "source": [
    "div_search = html.find_all('div', attrs={'class':'s6JM6d ufC5Cb'})\n",
    "\n",
    "div_search"
   ]
  },
  {
   "cell_type": "markdown",
   "metadata": {},
   "source": [
    "<p>Encontramos um problema, nosso código retornou um vetor vazio, não encontramos o que procurávamos, mesmo inspecionando e sabendo que ele está na página. Mas existe um motivo para isso. Acima do <b>&lt;div&gt;...&lt;/div&gt;</b> há um <b>&lt;script&gt;</b> que diz quando algumas partes da página devem ser geradas ou não. No caso o que queriamos procurar só é gerado depois que o script é acionado, porém com <b>requests.get</b> isso não é possível. Nós apenas estamos pegando o código puro da página usando o <b>GET</b>, então o <b>script</b> nunca é acionado no nosso caso, isso mostrando as limitações do <b>Web Scraping</b>. Em capítulos mais a frente iremos aprender sobre <b>Web Crawling</b> e como contornar essa limitação.</p>"
   ]
  },
  {
   "cell_type": "markdown",
   "metadata": {},
   "source": [
    "![](imagens/html8.png)"
   ]
  },
  {
   "cell_type": "markdown",
   "metadata": {},
   "source": [
    "<p>Por agora vamos continuar usando as mesmas ferramentas para extrair o que queremos, só teremos um pouco mais de trabalho para isso. Mesmo o <b>&lt;script&gt;</b> não sendo ativado, ainda assim conseguiremos achar os links que queremos(mas não tão organizado como antes).</p>"
   ]
  },
  {
   "cell_type": "markdown",
   "metadata": {},
   "source": [
    "<p>Vamos procurar então diretamente pela tag <b>&lt;a&gt;...&lt;/a&gt;</b> dentro de todo o código e depois limpamos o que não nos importar:</p>"
   ]
  },
  {
   "cell_type": "code",
   "execution_count": 39,
   "metadata": {},
   "outputs": [
    {
     "data": {
      "text/plain": [
       "[<a href=\"/?sa=X&amp;ved=0ahUKEwjF6fDc1KyMAxVHlJUCHYqJLhEQOwgC\"><span class=\"V6gwVd\">G</span><span class=\"iWkuvd\">o</span><span class=\"cDrQ7\">o</span><span class=\"V6gwVd\">g</span><span class=\"ntlR9\">l</span><span class=\"iWkuvd tJ3Myc\">e</span></a>,\n",
       " <a href=\"/search?q=%22ita%C3%BA%22+infomoney&amp;sa=N&amp;sca_esv=5eebd3867fc39738&amp;biw=1920&amp;bih=944&amp;ie=UTF-8&amp;tbm=nws&amp;gbv=1&amp;sei=nobmZ8WiD8eo1sQPipO6iQE\">aqui</a>,\n",
       " <a class=\"eZt8xd\" href=\"/search?q=%22ita%C3%BA%22+infomoney&amp;sca_esv=5eebd3867fc39738&amp;biw=1920&amp;bih=944&amp;ie=UTF-8&amp;source=lnms&amp;sa=X&amp;ved=0ahUKEwjF6fDc1KyMAxVHlJUCHYqJLhEQ_AUIBSgA\">Todas</a>,\n",
       " <a class=\"eZt8xd\" href=\"/search?q=%22ita%C3%BA%22+infomoney&amp;sca_esv=5eebd3867fc39738&amp;biw=1920&amp;bih=944&amp;ie=UTF-8&amp;tbm=isch&amp;source=lnms&amp;sa=X&amp;ved=0ahUKEwjF6fDc1KyMAxVHlJUCHYqJLhEQ_AUIBygC\">Imagens</a>,\n",
       " <a class=\"eZt8xd\" href=\"/search?q=%22ita%C3%BA%22+infomoney&amp;sca_esv=5eebd3867fc39738&amp;biw=1920&amp;bih=944&amp;ie=UTF-8&amp;tbm=vid&amp;source=lnms&amp;sa=X&amp;ved=0ahUKEwjF6fDc1KyMAxVHlJUCHYqJLhEQ_AUICCgD\">Vídeos</a>,\n",
       " <a href=\"/url?q=https://maps.google.com.br/maps%3Fq%3D%2522ita%25C3%25BA%2522%2Binfomoney%26biw%3D1920%26bih%3D944%26dpr%3D1%26um%3D1%26ie%3DUTF-8%26ved%3D1t:200713%26ictx%3D111&amp;opi=89978449&amp;sa=U&amp;ved=0ahUKEwjF6fDc1KyMAxVHlJUCHYqJLhEQiaAMCAkoBA&amp;usg=AOvVaw0HpSrzG8Kgw-pprO22Buw5\">Maps</a>,\n",
       " <a href=\"/url?q=/search%3Fq%3D%2522ita%25C3%25BA%2522%2Binfomoney%26sca_esv%3D5eebd3867fc39738%26biw%3D1920%26bih%3D944%26ie%3DUTF-8%26tbm%3Dshop%26source%3Dlnms%26ved%3D1t:200713%26ictx%3D111&amp;opi=89978449&amp;sa=U&amp;ved=0ahUKEwjF6fDc1KyMAxVHlJUCHYqJLhEQiaAMCAooBQ&amp;usg=AOvVaw0qrWh-GgzcXRnXcSzH1YES\">Shopping</a>,\n",
       " <a href=\"/search?q=%22ita%C3%BA%22+infomoney&amp;sca_esv=5eebd3867fc39738&amp;biw=1920&amp;bih=944&amp;ie=UTF-8&amp;udm=36&amp;source=lnms&amp;sa=X&amp;ved=0ahUKEwjF6fDc1KyMAxVHlJUCHYqJLhEQ_AUICygG\">Livros</a>,\n",
       " <a href=\"/advanced_search\" id=\"st-toggle\" role=\"button\" style=\"white-space:nowrap\">Ferramentas de pesquisa</a>,\n",
       " <a href=\"/search?q=%22ita%C3%BA%22+infomoney&amp;sca_esv=5eebd3867fc39738&amp;biw=1920&amp;bih=944&amp;ie=UTF-8&amp;tbm=nws&amp;source=lnt&amp;tbs=lr:lang_1pt&amp;lr=lang_pt&amp;sa=X&amp;ved=0ahUKEwjF6fDc1KyMAxVHlJUCHYqJLhEQpwUIDQ\">Páginas em português</a>,\n",
       " <a href=\"/search?q=%22ita%C3%BA%22+infomoney&amp;sca_esv=5eebd3867fc39738&amp;biw=1920&amp;bih=944&amp;ie=UTF-8&amp;tbm=nws&amp;source=lnt&amp;tbs=ctr:countryBR&amp;cr=countryBR&amp;sa=X&amp;ved=0ahUKEwjF6fDc1KyMAxVHlJUCHYqJLhEQpwUIDg\">País: Brasil</a>,\n",
       " <a href=\"/search?q=%22ita%C3%BA%22+infomoney&amp;sca_esv=5eebd3867fc39738&amp;biw=1920&amp;bih=944&amp;ie=UTF-8&amp;tbm=nws&amp;source=lnt&amp;tbs=qdr:h&amp;sa=X&amp;ved=0ahUKEwjF6fDc1KyMAxVHlJUCHYqJLhEQpwUIEA\"> Na última hora</a>,\n",
       " <a href=\"/search?q=%22ita%C3%BA%22+infomoney&amp;sca_esv=5eebd3867fc39738&amp;biw=1920&amp;bih=944&amp;ie=UTF-8&amp;tbm=nws&amp;source=lnt&amp;tbs=qdr:d&amp;sa=X&amp;ved=0ahUKEwjF6fDc1KyMAxVHlJUCHYqJLhEQpwUIEQ\"> Nas últimas 24 horas</a>,\n",
       " <a href=\"/search?q=%22ita%C3%BA%22+infomoney&amp;sca_esv=5eebd3867fc39738&amp;biw=1920&amp;bih=944&amp;ie=UTF-8&amp;tbm=nws&amp;source=lnt&amp;tbs=qdr:w&amp;sa=X&amp;ved=0ahUKEwjF6fDc1KyMAxVHlJUCHYqJLhEQpwUIEg\"> Na última semana</a>,\n",
       " <a href=\"/search?q=%22ita%C3%BA%22+infomoney&amp;sca_esv=5eebd3867fc39738&amp;biw=1920&amp;bih=944&amp;ie=UTF-8&amp;tbm=nws&amp;source=lnt&amp;tbs=qdr:m&amp;sa=X&amp;ved=0ahUKEwjF6fDc1KyMAxVHlJUCHYqJLhEQpwUIEw\"> No último mês</a>,\n",
       " <a href=\"/search?q=%22ita%C3%BA%22+infomoney&amp;sca_esv=5eebd3867fc39738&amp;biw=1920&amp;bih=944&amp;ie=UTF-8&amp;tbm=nws&amp;source=lnt&amp;tbs=qdr:y&amp;sa=X&amp;ved=0ahUKEwjF6fDc1KyMAxVHlJUCHYqJLhEQpwUIFA\"> No último ano</a>,\n",
       " <a href=\"/search?q=%22ita%C3%BA%22+infomoney&amp;sca_esv=5eebd3867fc39738&amp;biw=1920&amp;bih=944&amp;ie=UTF-8&amp;tbm=nws&amp;source=lnt&amp;tbs=ar:1&amp;sa=X&amp;ved=0ahUKEwjF6fDc1KyMAxVHlJUCHYqJLhEQpwUIFQ\">Arquivos</a>,\n",
       " <a href=\"/search?q=%22ita%C3%BA%22+infomoney&amp;sca_esv=5eebd3867fc39738&amp;biw=1920&amp;bih=944&amp;ie=UTF-8&amp;tbm=nws&amp;source=lnt&amp;tbs=sbd:1&amp;sa=X&amp;ved=0ahUKEwjF6fDc1KyMAxVHlJUCHYqJLhEQpwUIFw\">Classificados por data</a>,\n",
       " <a data-ved=\"2ahUKEwjF6fDc1KyMAxVHlJUCHYqJLhEQxfQBegQIARAC\" href=\"/url?q=https://www.infomoney.com.br/mercados/itau-itub4-e-mais-17-acoes-que-atingiram-maximas-historicas-em-marco-veja-lista/&amp;sa=U&amp;ved=2ahUKEwjF6fDc1KyMAxVHlJUCHYqJLhEQxfQBegQIARAC&amp;usg=AOvVaw3LdFXJctq0qgqPP-Xp1SId\"><div class=\"egMi0 kCrYT\"><div class=\"DnJfK\"><div class=\"j039Wc\"><h3 class=\"zBAuLc l97dzf\"><div class=\"BNeawe vvjwJb AP7Wnd\">Itaú (ITUB4) e mais 17 ações que atingiram máximas históricas em março; veja lista</div></h3></div><div class=\"sCuL3\"><div class=\"BNeawe UPmit AP7Wnd lRVwie\">InfoMoney</div></div></div></div><div class=\"kCrYT\"><div class=\"lcJF1d Q6Xouf G6SP0b\"><div style=\"width:120px;height:66px;position:static\"><img alt=\"\" class=\"h1hFNe\" data-deferred=\"1\" id=\"dimg_nobmZ8WiD8eo1sQPipO6iQE_7\" src=\"data:image/gif;base64,R0lGODlhAQABAIAAAP///////yH5BAEKAAEALAAAAAABAAEAAAICTAEAOw==\" style=\"width:120px;height:66px\"/></div></div><div><div class=\"BNeawe s3v9rd AP7Wnd\"><div><div class=\"BNeawe s3v9rd AP7Wnd\">O Itaú Unibanco (ITUB4) alcançou um marco histórico no pregão de 25 de março de 2025, ao fechar cotado a R$ 32,44, seu maior preço ajustado...<br/><span class=\"r0bn4c rQMQod\">1 dia atrás</span></div></div></div></div><div class=\"rl7ilb\"></div></div></a>,\n",
       " <a data-ved=\"2ahUKEwjF6fDc1KyMAxVHlJUCHYqJLhEQxfQBegQIChAC\" href=\"/url?q=https://www.infomoney.com.br/mercados/itausa-itsa4-genial-elege-holding-como-preferida-de-olho-no-fim-da-ineficiencia-tributaria/&amp;sa=U&amp;ved=2ahUKEwjF6fDc1KyMAxVHlJUCHYqJLhEQxfQBegQIChAC&amp;usg=AOvVaw1zVOJPe2jU8eh7AuDPPOup\"><div class=\"egMi0 kCrYT\"><div class=\"DnJfK\"><div class=\"j039Wc\"><h3 class=\"zBAuLc l97dzf\"><div class=\"BNeawe vvjwJb AP7Wnd\">Itaúsa: Genial elege holding como preferida de olho no fim da ineficiência tributária</div></h3></div><div class=\"sCuL3\"><div class=\"BNeawe UPmit AP7Wnd lRVwie\">InfoMoney</div></div></div></div><div class=\"kCrYT\"><div class=\"lcJF1d Q6Xouf G6SP0b\"><div style=\"width:120px;height:66px;position:static\"><img alt=\"\" class=\"h1hFNe\" data-deferred=\"1\" id=\"dimg_nobmZ8WiD8eo1sQPipO6iQE_19\" src=\"data:image/gif;base64,R0lGODlhAQABAIAAAP///////yH5BAEKAAEALAAAAAABAAEAAAICTAEAOw==\" style=\"width:120px;height:66px\"/></div></div><div><div class=\"BNeawe s3v9rd AP7Wnd\"><div><div class=\"BNeawe s3v9rd AP7Wnd\">Com um dividend yield 21% superior ao do próprio Itaú, a Genial acredita que o desconto entre entre seu valor de mercado e o valor justo da...<br/><span class=\"r0bn4c rQMQod\">há 18 horas</span></div></div></div></div><div class=\"rl7ilb\"></div></div></a>,\n",
       " <a data-ved=\"2ahUKEwjF6fDc1KyMAxVHlJUCHYqJLhEQxfQBegQICRAC\" href=\"/url?q=https://www.infomoney.com.br/mercados/itau-unibanco-itub4-dispara-2055-em-2025-mas-ainda-vale-comprar-a-acao/&amp;sa=U&amp;ved=2ahUKEwjF6fDc1KyMAxVHlJUCHYqJLhEQxfQBegQICRAC&amp;usg=AOvVaw3OXmbS9teFu6XaF3d--m7g\"><div class=\"egMi0 kCrYT\"><div class=\"DnJfK\"><div class=\"j039Wc\"><h3 class=\"zBAuLc l97dzf\"><div class=\"BNeawe vvjwJb AP7Wnd\">Itaú Unibanco (ITUB4) dispara 20,55% em 2025; mas ainda vale comprar a ação?</div></h3></div><div class=\"sCuL3\"><div class=\"BNeawe UPmit AP7Wnd lRVwie\">InfoMoney</div></div></div></div><div class=\"kCrYT\"><div class=\"lcJF1d Q6Xouf G6SP0b\"><div style=\"width:120px;height:66px;position:static\"><img alt=\"\" class=\"h1hFNe\" data-deferred=\"1\" id=\"dimg_nobmZ8WiD8eo1sQPipO6iQE_16\" src=\"data:image/gif;base64,R0lGODlhAQABAIAAAP///////yH5BAEKAAEALAAAAAABAAEAAAICTAEAOw==\" style=\"width:120px;height:66px\"/></div></div><div><div class=\"BNeawe s3v9rd AP7Wnd\"><div><div class=\"BNeawe s3v9rd AP7Wnd\">As ações do Itaú Unibanco (ITUB4) seguem demonstrando força compradora em 2025, com uma valorização expressiva de 20,55% no ano e 10,78%...<br/><span class=\"r0bn4c rQMQod\">4 dias atrás</span></div></div></div></div><div class=\"rl7ilb\"></div></div></a>,\n",
       " <a data-ved=\"2ahUKEwjF6fDc1KyMAxVHlJUCHYqJLhEQxfQBegQIAxAC\" href=\"/url?q=https://www.infomoney.com.br/onde-investir/itau-na-lideranca-as-6-acoes-mais-recomendadas-para-marco/&amp;sa=U&amp;ved=2ahUKEwjF6fDc1KyMAxVHlJUCHYqJLhEQxfQBegQIAxAC&amp;usg=AOvVaw1as6rHJAQcGzvbEPdjvnSy\"><div class=\"egMi0 kCrYT\"><div class=\"DnJfK\"><div class=\"j039Wc\"><h3 class=\"zBAuLc l97dzf\"><div class=\"BNeawe vvjwJb AP7Wnd\">Itaú na liderança: as 6 ações mais recomendadas para março</div></h3></div><div class=\"sCuL3\"><div class=\"BNeawe UPmit AP7Wnd lRVwie\">InfoMoney</div></div></div></div><div class=\"kCrYT\"><div class=\"lcJF1d Q6Xouf G6SP0b\"><div style=\"width:120px;height:66px;position:static\"><img alt=\"\" class=\"h1hFNe\" data-deferred=\"1\" id=\"dimg_nobmZ8WiD8eo1sQPipO6iQE_11\" src=\"data:image/gif;base64,R0lGODlhAQABAIAAAP///////yH5BAEKAAEALAAAAAABAAEAAAICTAEAOw==\" style=\"width:120px;height:66px\"/></div></div><div><div class=\"BNeawe s3v9rd AP7Wnd\"><div><div class=\"BNeawe s3v9rd AP7Wnd\">Lista de preferidas das corretoras teve duas mudanças após queda do Ibovespa em fevereiro.<br/><span class=\"r0bn4c rQMQod\">3 semanas atrás</span></div></div></div></div><div class=\"rl7ilb\"></div></div></a>,\n",
       " <a data-ved=\"2ahUKEwjF6fDc1KyMAxVHlJUCHYqJLhEQxfQBegQIBxAC\" href=\"/url?q=https://www.infomoney.com.br/mercados/empresas-aumentam-recompra-de-acoes-e-acumulam-r-89-bilhoes-em-programas-no-brasil/&amp;sa=U&amp;ved=2ahUKEwjF6fDc1KyMAxVHlJUCHYqJLhEQxfQBegQIBxAC&amp;usg=AOvVaw10ubmNIBl10Amqvo-ifdg6\"><div class=\"egMi0 kCrYT\"><div class=\"DnJfK\"><div class=\"j039Wc\"><h3 class=\"zBAuLc l97dzf\"><div class=\"BNeawe vvjwJb AP7Wnd\">Empresas aumentam recompra de ações e acumulam R$ 89 bilhões em programas no Brasil</div></h3></div><div class=\"sCuL3\"><div class=\"BNeawe UPmit AP7Wnd lRVwie\">InfoMoney</div></div></div></div><div class=\"kCrYT\"><div class=\"lcJF1d Q6Xouf G6SP0b\"><div style=\"width:120px;height:79px;position:static\"><img alt=\"\" class=\"h1hFNe\" data-deferred=\"1\" id=\"dimg_nobmZ8WiD8eo1sQPipO6iQE_13\" src=\"data:image/gif;base64,R0lGODlhAQABAIAAAP///////yH5BAEKAAEALAAAAAABAAEAAAICTAEAOw==\" style=\"width:120px;height:79px\"/></div></div><div><div class=\"BNeawe s3v9rd AP7Wnd\"><div><div class=\"BNeawe s3v9rd AP7Wnd\">Volume segue alto, com utilidades, energia e consumo discricionário entre os setores mais ativos; Itaú BBA aponta estabilidade nas aberturas...<br/><span class=\"r0bn4c rQMQod\">6 dias atrás</span></div></div></div></div><div class=\"rl7ilb\"></div></div></a>,\n",
       " <a data-ved=\"2ahUKEwjF6fDc1KyMAxVHlJUCHYqJLhEQxfQBegQIAhAC\" href=\"/url?q=https://www.infomoney.com.br/mercados/bmob3-muito-melhor-que-petroleo-bemobi-anima-com-balanco-e-dividendo-de-16-e-acao-salta/&amp;sa=U&amp;ved=2ahUKEwjF6fDc1KyMAxVHlJUCHYqJLhEQxfQBegQIAhAC&amp;usg=AOvVaw3G-6uItvRc2KUy6uTDjJB8\"><div class=\"egMi0 kCrYT\"><div class=\"DnJfK\"><div class=\"j039Wc\"><h3 class=\"zBAuLc l97dzf\"><div class=\"BNeawe vvjwJb AP7Wnd\">“Muito melhor que petróleo”: Bemobi anima com balanço e dividendo de 16% e ação salta</div></h3></div><div class=\"sCuL3\"><div class=\"BNeawe UPmit AP7Wnd lRVwie\">InfoMoney</div></div></div></div><div class=\"kCrYT\"><div class=\"lcJF1d Q6Xouf G6SP0b\"><div style=\"width:120px;height:66px;position:static\"><img alt=\"\" class=\"h1hFNe\" data-deferred=\"1\" id=\"dimg_nobmZ8WiD8eo1sQPipO6iQE_2\" src=\"data:image/gif;base64,R0lGODlhAQABAIAAAP///////yH5BAEKAAEALAAAAAABAAEAAAICTAEAOw==\" style=\"width:120px;height:66px\"/></div></div><div><div class=\"BNeawe s3v9rd AP7Wnd\"><div><div class=\"BNeawe s3v9rd AP7Wnd\">Na visão dos analistas do Itaú BBA, os resultados da Bemobi mostraram um desempenho sólido, superando as suas estimativas em todos os...<br/><span class=\"r0bn4c rQMQod\">6 dias atrás</span></div></div></div></div><div class=\"rl7ilb\"></div></div></a>,\n",
       " <a data-ved=\"2ahUKEwjF6fDc1KyMAxVHlJUCHYqJLhEQxfQBegQIBBAC\" href=\"/url?q=https://www.infomoney.com.br/mercados/itau-dado-forte-e-dividendo-bilionario-mas-por-que-4t-nao-brilhou-olho-do-mercado/&amp;sa=U&amp;ved=2ahUKEwjF6fDc1KyMAxVHlJUCHYqJLhEQxfQBegQIBBAC&amp;usg=AOvVaw13wR8chzokkPw3ydXp3Ope\"><div class=\"egMi0 kCrYT\"><div class=\"DnJfK\"><div class=\"j039Wc\"><h3 class=\"zBAuLc l97dzf\"><div class=\"BNeawe vvjwJb AP7Wnd\">Itaú: por que a ação ficou no zero, se houve balanço forte e dividendos bilionários?</div></h3></div><div class=\"sCuL3\"><div class=\"BNeawe UPmit AP7Wnd lRVwie\">InfoMoney</div></div></div></div><div class=\"kCrYT\"><div class=\"lcJF1d Q6Xouf G6SP0b\"><div style=\"width:120px;height:66px;position:static\"><img alt=\"\" class=\"h1hFNe\" data-deferred=\"1\" id=\"dimg_nobmZ8WiD8eo1sQPipO6iQE_3\" src=\"data:image/gif;base64,R0lGODlhAQABAIAAAP///////yH5BAEKAAEALAAAAAABAAEAAAICTAEAOw==\" style=\"width:120px;height:66px\"/></div></div><div><div class=\"BNeawe s3v9rd AP7Wnd\"><div><div class=\"BNeawe s3v9rd AP7Wnd\">Analistas seguem destacando Itaú como ação preferida entre bancões, mas apontam números em linha e guidance conservador.<br/><span class=\"r0bn4c rQMQod\"> 1 mês atrás</span></div></div></div></div><div class=\"rl7ilb\"></div></div></a>,\n",
       " <a data-ved=\"2ahUKEwjF6fDc1KyMAxVHlJUCHYqJLhEQxfQBegQIBhAC\" href=\"/url?q=https://www.infomoney.com.br/mercados/itau-unibanco-itub4-emite-letras-financeiras-perpetuas-no-valor-de-r-44-bi/&amp;sa=U&amp;ved=2ahUKEwjF6fDc1KyMAxVHlJUCHYqJLhEQxfQBegQIBhAC&amp;usg=AOvVaw3UlDS5eDF3tY3TqVb2dZ57\"><div class=\"egMi0 kCrYT\"><div class=\"DnJfK\"><div class=\"j039Wc\"><h3 class=\"zBAuLc l97dzf\"><div class=\"BNeawe vvjwJb AP7Wnd\">Itaú Unibanco (ITUB4) emite Letras Financeiras Perpétuas no valor de R$ 4,4 bi</div></h3></div><div class=\"sCuL3\"><div class=\"BNeawe UPmit AP7Wnd lRVwie\">InfoMoney</div></div></div></div><div class=\"kCrYT\"><div class=\"lcJF1d Q6Xouf G6SP0b\"><div style=\"width:120px;height:66px;position:static\"><img alt=\"\" class=\"h1hFNe\" data-deferred=\"1\" id=\"dimg_nobmZ8WiD8eo1sQPipO6iQE_9\" src=\"data:image/gif;base64,R0lGODlhAQABAIAAAP///////yH5BAEKAAEALAAAAAABAAEAAAICTAEAOw==\" style=\"width:120px;height:66px\"/></div></div><div><div class=\"BNeawe s3v9rd AP7Wnd\"><div><div class=\"BNeawe s3v9rd AP7Wnd\">O Itaú Unibanco (ITUB4) realizou emissões de Letras Financeiras Subordinadas Perpétuas, no montante total de R$ 4,4 bilhões, em negociações...<br/><span class=\"r0bn4c rQMQod\">2 semanas atrás</span></div></div></div></div><div class=\"rl7ilb\"></div></div></a>,\n",
       " <a data-ved=\"2ahUKEwjF6fDc1KyMAxVHlJUCHYqJLhEQxfQBegQIBRAC\" href=\"/url?q=https://www.infomoney.com.br/mercados/caixa-seguridade-petrobras-carrefour-itau-e-mais-acoes-para-acompahar-nesta-2a/&amp;sa=U&amp;ved=2ahUKEwjF6fDc1KyMAxVHlJUCHYqJLhEQxfQBegQIBRAC&amp;usg=AOvVaw3_mdT41deju_QQgGGxjw-W\"><div class=\"egMi0 kCrYT\"><div class=\"DnJfK\"><div class=\"j039Wc\"><h3 class=\"zBAuLc l97dzf\"><div class=\"BNeawe vvjwJb AP7Wnd\">Caixa Seguridade, Petrobras, Carrefour, Itaú e mais ações para acompanhar nesta 2ª</div></h3></div><div class=\"sCuL3\"><div class=\"BNeawe UPmit AP7Wnd lRVwie\">InfoMoney</div></div></div></div><div class=\"kCrYT\"><div class=\"lcJF1d Q6Xouf G6SP0b\"><div style=\"width:120px;height:66px;position:static\"><img alt=\"\" class=\"h1hFNe\" data-deferred=\"1\" id=\"dimg_nobmZ8WiD8eo1sQPipO6iQE_1\" src=\"data:image/gif;base64,R0lGODlhAQABAIAAAP///////yH5BAEKAAEALAAAAAABAAEAAAICTAEAOw==\" style=\"width:120px;height:66px\"/></div></div><div><div class=\"BNeawe s3v9rd AP7Wnd\"><div><div class=\"BNeawe s3v9rd AP7Wnd\">O radar corporativo desta segunda-feira (10) tem como destaque o fim do litígio da Petrobras (PETR4) com EIG Energy nos EUA.<br/><span class=\"r0bn4c rQMQod\">2 semanas atrás</span></div></div></div></div><div class=\"rl7ilb\"></div></div></a>,\n",
       " <a data-ved=\"2ahUKEwjF6fDc1KyMAxVHlJUCHYqJLhEQxfQBegQICBAC\" href=\"/url?q=https://www.infomoney.com.br/mercados/xpbr31-itau-bba-inicia-cobertura-acoes-xp-inc-com-recomendacao-de-compra-e-destaca-resiliencia/&amp;sa=U&amp;ved=2ahUKEwjF6fDc1KyMAxVHlJUCHYqJLhEQxfQBegQICBAC&amp;usg=AOvVaw0FojbqTHcPG2_auDazr-e5\"><div class=\"egMi0 kCrYT\"><div class=\"DnJfK\"><div class=\"j039Wc\"><h3 class=\"zBAuLc l97dzf\"><div class=\"BNeawe vvjwJb AP7Wnd\">Itaú BBA inicia cobertura de XP Inc. com recomendação de compra e destaca resiliência</div></h3></div><div class=\"sCuL3\"><div class=\"BNeawe UPmit AP7Wnd lRVwie\">InfoMoney</div></div></div></div><div class=\"kCrYT\"><div class=\"lcJF1d Q6Xouf G6SP0b\"><div style=\"width:120px;height:66px;position:static\"><img alt=\"\" class=\"h1hFNe\" data-deferred=\"1\" id=\"dimg_nobmZ8WiD8eo1sQPipO6iQE_15\" src=\"data:image/gif;base64,R0lGODlhAQABAIAAAP///////yH5BAEKAAEALAAAAAABAAEAAAICTAEAOw==\" style=\"width:120px;height:66px\"/></div></div><div><div class=\"BNeawe s3v9rd AP7Wnd\"><div><div class=\"BNeawe s3v9rd AP7Wnd\">O Itaú BBA iniciou a cobertura para as ações da XP Inc. (BDR: XPBR31) negociadas na Nasdaq com recomendação outperform (desempenho acima da...<br/><span class=\"r0bn4c rQMQod\">1 semana atrás</span></div></div></div></div><div class=\"rl7ilb\"></div></div></a>,\n",
       " <a aria-label=\"Próxima página\" class=\"nBDE1b G5eFlf\" href=\"/search?q=%22ita%C3%BA%22+infomoney&amp;sca_esv=5eebd3867fc39738&amp;biw=1920&amp;bih=944&amp;ie=UTF-8&amp;tbm=nws&amp;ei=nobmZ8WiD8eo1sQPipO6iQE&amp;start=10&amp;sa=N\">Mais &gt;</a>,\n",
       " <a aria-label=\"Saiba mais sobre esse local\" class=\"IffyKc\" href=\"/url?q=https://support.google.com/websearch%3Fp%3Dws_settings_location%26hl%3Dpt-BR&amp;opi=89978449&amp;sa=U&amp;ved=0ahUKEwjF6fDc1KyMAxVHlJUCHYqJLhEQty4IVg&amp;usg=AOvVaw2GlR_7uzyRavBW7OADD-uC\" tabindex=\"0\">Saiba mais</a>,\n",
       " <a href=\"/url?q=https://accounts.google.com/ServiceLogin%3Fcontinue%3Dhttps://www.google.com.br/search%253Fq%253D%252522ita%2525C3%2525BA%252522%252Binfomoney%2526tbs%253Dcdr:1,cd_min:9/1/2019,cd_max:11/1/2019%2526tbm%253Dnws%2526ei%253Daj_YXeiwGcbZ5gLut4noDw%2526start%253D0%2526sa%253DN%2526ved%253D0ahUKEwjojZbtzv7lAhXGrFkKHe5bAv0Q8tMDCFM%2526biw%253D1920%2526bih%253D944%2526dpr%253D1%26hl%3Dpt-BR&amp;opi=89978449&amp;sa=U&amp;ved=0ahUKEwjF6fDc1KyMAxVHlJUCHYqJLhEQxs8CCFc&amp;usg=AOvVaw1Aq31ck6j1KQEDmJiJ_oTJ\">Fazer login</a>,\n",
       " <a class=\"xeDNfc\" href=\"https://www.google.com.br/preferences?hl=pt-BR&amp;fg=1&amp;sa=X&amp;ved=0ahUKEwjF6fDc1KyMAxVHlJUCHYqJLhEQ5fUCCFg\">Configurações</a>,\n",
       " <a class=\"xeDNfc\" href=\"https://policies.google.com/privacy?hl=pt-BR&amp;fg=1\">Privacidade</a>,\n",
       " <a class=\"xeDNfc\" href=\"https://policies.google.com/terms?hl=pt-BR&amp;fg=1\">Termos</a>,\n",
       " <a class=\"xeDNfc\" href=\"/setprefs?hl=pt-BR&amp;prev=https://www.google.com.br/search?q%3D%2522ita%25C3%25BA%2522%2Binfomoney%26tbs%3Dcdr:1,cd_min:9/1/2019,cd_max:11/1/2019%26tbm%3Dnws%26ei%3Daj_YXeiwGcbZ5gLut4noDw%26start%3D0%26sa%3DN%26ved%3D0ahUKEwjojZbtzv7lAhXGrFkKHe5bAv0Q8tMDCFM%26biw%3D1920%26bih%3D944%26dpr%3D1%26pccc%3D1&amp;sig=0_mOVsXmrd3Ip_vYmDl-tPcpKCfG4%3D&amp;cs=2&amp;sa=X&amp;ved=0ahUKEwjF6fDc1KyMAxVHlJUCHYqJLhEQjcAJCFk\">Tema escuro: desativado</a>]"
      ]
     },
     "execution_count": 39,
     "metadata": {},
     "output_type": "execute_result"
    }
   ],
   "source": [
    "a_search = html.find_all('a')\n",
    "\n",
    "a_search"
   ]
  },
  {
   "cell_type": "markdown",
   "metadata": {},
   "source": [
    "<p>Agora para cada <b>&lt;a&gt;...&lt;/a&gt;</b> vamos extrair os <b>'href'</b>:"
   ]
  },
  {
   "cell_type": "code",
   "execution_count": 40,
   "metadata": {},
   "outputs": [
    {
     "data": {
      "text/plain": [
       "['/?sa=X&ved=0ahUKEwjF6fDc1KyMAxVHlJUCHYqJLhEQOwgC',\n",
       " '/search?q=%22ita%C3%BA%22+infomoney&sa=N&sca_esv=5eebd3867fc39738&biw=1920&bih=944&ie=UTF-8&tbm=nws&gbv=1&sei=nobmZ8WiD8eo1sQPipO6iQE',\n",
       " '/search?q=%22ita%C3%BA%22+infomoney&sca_esv=5eebd3867fc39738&biw=1920&bih=944&ie=UTF-8&source=lnms&sa=X&ved=0ahUKEwjF6fDc1KyMAxVHlJUCHYqJLhEQ_AUIBSgA',\n",
       " '/search?q=%22ita%C3%BA%22+infomoney&sca_esv=5eebd3867fc39738&biw=1920&bih=944&ie=UTF-8&tbm=isch&source=lnms&sa=X&ved=0ahUKEwjF6fDc1KyMAxVHlJUCHYqJLhEQ_AUIBygC',\n",
       " '/search?q=%22ita%C3%BA%22+infomoney&sca_esv=5eebd3867fc39738&biw=1920&bih=944&ie=UTF-8&tbm=vid&source=lnms&sa=X&ved=0ahUKEwjF6fDc1KyMAxVHlJUCHYqJLhEQ_AUICCgD',\n",
       " '/url?q=https://maps.google.com.br/maps%3Fq%3D%2522ita%25C3%25BA%2522%2Binfomoney%26biw%3D1920%26bih%3D944%26dpr%3D1%26um%3D1%26ie%3DUTF-8%26ved%3D1t:200713%26ictx%3D111&opi=89978449&sa=U&ved=0ahUKEwjF6fDc1KyMAxVHlJUCHYqJLhEQiaAMCAkoBA&usg=AOvVaw0HpSrzG8Kgw-pprO22Buw5',\n",
       " '/url?q=/search%3Fq%3D%2522ita%25C3%25BA%2522%2Binfomoney%26sca_esv%3D5eebd3867fc39738%26biw%3D1920%26bih%3D944%26ie%3DUTF-8%26tbm%3Dshop%26source%3Dlnms%26ved%3D1t:200713%26ictx%3D111&opi=89978449&sa=U&ved=0ahUKEwjF6fDc1KyMAxVHlJUCHYqJLhEQiaAMCAooBQ&usg=AOvVaw0qrWh-GgzcXRnXcSzH1YES',\n",
       " '/search?q=%22ita%C3%BA%22+infomoney&sca_esv=5eebd3867fc39738&biw=1920&bih=944&ie=UTF-8&udm=36&source=lnms&sa=X&ved=0ahUKEwjF6fDc1KyMAxVHlJUCHYqJLhEQ_AUICygG',\n",
       " '/advanced_search',\n",
       " '/search?q=%22ita%C3%BA%22+infomoney&sca_esv=5eebd3867fc39738&biw=1920&bih=944&ie=UTF-8&tbm=nws&source=lnt&tbs=lr:lang_1pt&lr=lang_pt&sa=X&ved=0ahUKEwjF6fDc1KyMAxVHlJUCHYqJLhEQpwUIDQ',\n",
       " '/search?q=%22ita%C3%BA%22+infomoney&sca_esv=5eebd3867fc39738&biw=1920&bih=944&ie=UTF-8&tbm=nws&source=lnt&tbs=ctr:countryBR&cr=countryBR&sa=X&ved=0ahUKEwjF6fDc1KyMAxVHlJUCHYqJLhEQpwUIDg',\n",
       " '/search?q=%22ita%C3%BA%22+infomoney&sca_esv=5eebd3867fc39738&biw=1920&bih=944&ie=UTF-8&tbm=nws&source=lnt&tbs=qdr:h&sa=X&ved=0ahUKEwjF6fDc1KyMAxVHlJUCHYqJLhEQpwUIEA',\n",
       " '/search?q=%22ita%C3%BA%22+infomoney&sca_esv=5eebd3867fc39738&biw=1920&bih=944&ie=UTF-8&tbm=nws&source=lnt&tbs=qdr:d&sa=X&ved=0ahUKEwjF6fDc1KyMAxVHlJUCHYqJLhEQpwUIEQ',\n",
       " '/search?q=%22ita%C3%BA%22+infomoney&sca_esv=5eebd3867fc39738&biw=1920&bih=944&ie=UTF-8&tbm=nws&source=lnt&tbs=qdr:w&sa=X&ved=0ahUKEwjF6fDc1KyMAxVHlJUCHYqJLhEQpwUIEg',\n",
       " '/search?q=%22ita%C3%BA%22+infomoney&sca_esv=5eebd3867fc39738&biw=1920&bih=944&ie=UTF-8&tbm=nws&source=lnt&tbs=qdr:m&sa=X&ved=0ahUKEwjF6fDc1KyMAxVHlJUCHYqJLhEQpwUIEw',\n",
       " '/search?q=%22ita%C3%BA%22+infomoney&sca_esv=5eebd3867fc39738&biw=1920&bih=944&ie=UTF-8&tbm=nws&source=lnt&tbs=qdr:y&sa=X&ved=0ahUKEwjF6fDc1KyMAxVHlJUCHYqJLhEQpwUIFA',\n",
       " '/search?q=%22ita%C3%BA%22+infomoney&sca_esv=5eebd3867fc39738&biw=1920&bih=944&ie=UTF-8&tbm=nws&source=lnt&tbs=ar:1&sa=X&ved=0ahUKEwjF6fDc1KyMAxVHlJUCHYqJLhEQpwUIFQ',\n",
       " '/search?q=%22ita%C3%BA%22+infomoney&sca_esv=5eebd3867fc39738&biw=1920&bih=944&ie=UTF-8&tbm=nws&source=lnt&tbs=sbd:1&sa=X&ved=0ahUKEwjF6fDc1KyMAxVHlJUCHYqJLhEQpwUIFw',\n",
       " '/url?q=https://www.infomoney.com.br/mercados/itau-itub4-e-mais-17-acoes-que-atingiram-maximas-historicas-em-marco-veja-lista/&sa=U&ved=2ahUKEwjF6fDc1KyMAxVHlJUCHYqJLhEQxfQBegQIARAC&usg=AOvVaw3LdFXJctq0qgqPP-Xp1SId',\n",
       " '/url?q=https://www.infomoney.com.br/mercados/itausa-itsa4-genial-elege-holding-como-preferida-de-olho-no-fim-da-ineficiencia-tributaria/&sa=U&ved=2ahUKEwjF6fDc1KyMAxVHlJUCHYqJLhEQxfQBegQIChAC&usg=AOvVaw1zVOJPe2jU8eh7AuDPPOup',\n",
       " '/url?q=https://www.infomoney.com.br/mercados/itau-unibanco-itub4-dispara-2055-em-2025-mas-ainda-vale-comprar-a-acao/&sa=U&ved=2ahUKEwjF6fDc1KyMAxVHlJUCHYqJLhEQxfQBegQICRAC&usg=AOvVaw3OXmbS9teFu6XaF3d--m7g',\n",
       " '/url?q=https://www.infomoney.com.br/onde-investir/itau-na-lideranca-as-6-acoes-mais-recomendadas-para-marco/&sa=U&ved=2ahUKEwjF6fDc1KyMAxVHlJUCHYqJLhEQxfQBegQIAxAC&usg=AOvVaw1as6rHJAQcGzvbEPdjvnSy',\n",
       " '/url?q=https://www.infomoney.com.br/mercados/empresas-aumentam-recompra-de-acoes-e-acumulam-r-89-bilhoes-em-programas-no-brasil/&sa=U&ved=2ahUKEwjF6fDc1KyMAxVHlJUCHYqJLhEQxfQBegQIBxAC&usg=AOvVaw10ubmNIBl10Amqvo-ifdg6',\n",
       " '/url?q=https://www.infomoney.com.br/mercados/bmob3-muito-melhor-que-petroleo-bemobi-anima-com-balanco-e-dividendo-de-16-e-acao-salta/&sa=U&ved=2ahUKEwjF6fDc1KyMAxVHlJUCHYqJLhEQxfQBegQIAhAC&usg=AOvVaw3G-6uItvRc2KUy6uTDjJB8',\n",
       " '/url?q=https://www.infomoney.com.br/mercados/itau-dado-forte-e-dividendo-bilionario-mas-por-que-4t-nao-brilhou-olho-do-mercado/&sa=U&ved=2ahUKEwjF6fDc1KyMAxVHlJUCHYqJLhEQxfQBegQIBBAC&usg=AOvVaw13wR8chzokkPw3ydXp3Ope',\n",
       " '/url?q=https://www.infomoney.com.br/mercados/itau-unibanco-itub4-emite-letras-financeiras-perpetuas-no-valor-de-r-44-bi/&sa=U&ved=2ahUKEwjF6fDc1KyMAxVHlJUCHYqJLhEQxfQBegQIBhAC&usg=AOvVaw3UlDS5eDF3tY3TqVb2dZ57',\n",
       " '/url?q=https://www.infomoney.com.br/mercados/caixa-seguridade-petrobras-carrefour-itau-e-mais-acoes-para-acompahar-nesta-2a/&sa=U&ved=2ahUKEwjF6fDc1KyMAxVHlJUCHYqJLhEQxfQBegQIBRAC&usg=AOvVaw3_mdT41deju_QQgGGxjw-W',\n",
       " '/url?q=https://www.infomoney.com.br/mercados/xpbr31-itau-bba-inicia-cobertura-acoes-xp-inc-com-recomendacao-de-compra-e-destaca-resiliencia/&sa=U&ved=2ahUKEwjF6fDc1KyMAxVHlJUCHYqJLhEQxfQBegQICBAC&usg=AOvVaw0FojbqTHcPG2_auDazr-e5',\n",
       " '/search?q=%22ita%C3%BA%22+infomoney&sca_esv=5eebd3867fc39738&biw=1920&bih=944&ie=UTF-8&tbm=nws&ei=nobmZ8WiD8eo1sQPipO6iQE&start=10&sa=N',\n",
       " '/url?q=https://support.google.com/websearch%3Fp%3Dws_settings_location%26hl%3Dpt-BR&opi=89978449&sa=U&ved=0ahUKEwjF6fDc1KyMAxVHlJUCHYqJLhEQty4IVg&usg=AOvVaw2GlR_7uzyRavBW7OADD-uC',\n",
       " '/url?q=https://accounts.google.com/ServiceLogin%3Fcontinue%3Dhttps://www.google.com.br/search%253Fq%253D%252522ita%2525C3%2525BA%252522%252Binfomoney%2526tbs%253Dcdr:1,cd_min:9/1/2019,cd_max:11/1/2019%2526tbm%253Dnws%2526ei%253Daj_YXeiwGcbZ5gLut4noDw%2526start%253D0%2526sa%253DN%2526ved%253D0ahUKEwjojZbtzv7lAhXGrFkKHe5bAv0Q8tMDCFM%2526biw%253D1920%2526bih%253D944%2526dpr%253D1%26hl%3Dpt-BR&opi=89978449&sa=U&ved=0ahUKEwjF6fDc1KyMAxVHlJUCHYqJLhEQxs8CCFc&usg=AOvVaw1Aq31ck6j1KQEDmJiJ_oTJ',\n",
       " 'https://www.google.com.br/preferences?hl=pt-BR&fg=1&sa=X&ved=0ahUKEwjF6fDc1KyMAxVHlJUCHYqJLhEQ5fUCCFg',\n",
       " 'https://policies.google.com/privacy?hl=pt-BR&fg=1',\n",
       " 'https://policies.google.com/terms?hl=pt-BR&fg=1',\n",
       " '/setprefs?hl=pt-BR&prev=https://www.google.com.br/search?q%3D%2522ita%25C3%25BA%2522%2Binfomoney%26tbs%3Dcdr:1,cd_min:9/1/2019,cd_max:11/1/2019%26tbm%3Dnws%26ei%3Daj_YXeiwGcbZ5gLut4noDw%26start%3D0%26sa%3DN%26ved%3D0ahUKEwjojZbtzv7lAhXGrFkKHe5bAv0Q8tMDCFM%26biw%3D1920%26bih%3D944%26dpr%3D1%26pccc%3D1&sig=0_mOVsXmrd3Ip_vYmDl-tPcpKCfG4%3D&cs=2&sa=X&ved=0ahUKEwjF6fDc1KyMAxVHlJUCHYqJLhEQjcAJCFk']"
      ]
     },
     "execution_count": 40,
     "metadata": {},
     "output_type": "execute_result"
    }
   ],
   "source": [
    "links = []\n",
    "for a in a_search:\n",
    "    link = a.get('href')\n",
    "    links.append(link)\n",
    "\n",
    "links"
   ]
  },
  {
   "cell_type": "markdown",
   "metadata": {},
   "source": [
    "<h5 id='parte-1a1' style=\"color:green;\">5.6.1.2. Limpando o vetor de links encontrado</h5>"
   ]
  },
  {
   "cell_type": "markdown",
   "metadata": {},
   "source": [
    "<p>Conseguimos extrair os links, mas coletamos mais do que queremos. Devemos então analisar as strings e buscar por padrões dentro do que estão nos links de notícia do <b>InfoMoney</b>. Faremos uma seleção e limpeza no vetor de links procurando por strings com <b>'infomoney'</b> e <b>'/url?q'</b> e que não contenham <b>'accounts.google'</b>. Logo em seguida utilizaremos <b>'.replace()'</b> e <b>'.split()'</b> para limpar o que não faz parte do link das notícias e <b>'set()'</b> para remover qualquer link duplicado.</p>"
   ]
  },
  {
   "cell_type": "markdown",
   "metadata": {},
   "source": [
    "<p>Exemplo da <b>string</b> que queremos selecionar, em vermelho o que nos interessa nela. Devemos retirar <b style=\"color:blue;\">'/url?q'</b> e tudo o que estiver depois de <b style=\"color:blue;\">'&sa='</b> da string, para assim formar o link:</p>\n",
    "<p><b style=\"color:blue;\">'/url?q=<b style=\"color:red;\">https://www.infomoney.com.br/mercados/petrobras-corta-preco-do-diesel-em-3-e-itau-compra-startup-por-r-575-mi-4-balancos-e-mais-destaques/</b>&sa=U&ved=2ahUKEwiZjZ-y0_7lAhVu7HMBHTUsCzQQxfQBMAV6BAgGEAE&usg=AOvVaw2LQIjB7DGKFpTp4u0FMw8j'</b></p>"
   ]
  },
  {
   "cell_type": "code",
   "execution_count": 41,
   "metadata": {},
   "outputs": [
    {
     "data": {
      "text/plain": [
       "['https://www.infomoney.com.br/onde-investir/itau-na-lideranca-as-6-acoes-mais-recomendadas-para-marco/',\n",
       " 'https://www.infomoney.com.br/mercados/bmob3-muito-melhor-que-petroleo-bemobi-anima-com-balanco-e-dividendo-de-16-e-acao-salta/',\n",
       " 'https://www.infomoney.com.br/mercados/itau-itub4-e-mais-17-acoes-que-atingiram-maximas-historicas-em-marco-veja-lista/',\n",
       " 'https://www.infomoney.com.br/mercados/xpbr31-itau-bba-inicia-cobertura-acoes-xp-inc-com-recomendacao-de-compra-e-destaca-resiliencia/',\n",
       " 'https://www.infomoney.com.br/mercados/empresas-aumentam-recompra-de-acoes-e-acumulam-r-89-bilhoes-em-programas-no-brasil/',\n",
       " 'https://www.infomoney.com.br/mercados/itau-dado-forte-e-dividendo-bilionario-mas-por-que-4t-nao-brilhou-olho-do-mercado/',\n",
       " '/search%3Fq%3D%2522ita%25C3%25BA%2522%2Binfomoney%26sca_esv%3D5eebd3867fc39738%26biw%3D1920%26bih%3D944%26ie%3DUTF-8%26tbm%3Dshop%26source%3Dlnms%26ved%3D1t:200713%26ictx%3D111&opi=89978449',\n",
       " 'https://maps.google.com.br/maps%3Fq%3D%2522ita%25C3%25BA%2522%2Binfomoney%26biw%3D1920%26bih%3D944%26dpr%3D1%26um%3D1%26ie%3DUTF-8%26ved%3D1t:200713%26ictx%3D111&opi=89978449',\n",
       " 'https://www.infomoney.com.br/mercados/itau-unibanco-itub4-emite-letras-financeiras-perpetuas-no-valor-de-r-44-bi/',\n",
       " 'https://www.infomoney.com.br/mercados/caixa-seguridade-petrobras-carrefour-itau-e-mais-acoes-para-acompahar-nesta-2a/',\n",
       " 'https://www.infomoney.com.br/mercados/itausa-itsa4-genial-elege-holding-como-preferida-de-olho-no-fim-da-ineficiencia-tributaria/']"
      ]
     },
     "execution_count": 41,
     "metadata": {},
     "output_type": "execute_result"
    }
   ],
   "source": [
    "links_im = []\n",
    "for i in range(len(links)):\n",
    "    if ('infomoney' in links[i]) and ('/url?q' in links[i]) and ('accounts.google' not in links[i]):\n",
    "        links_im.append(links[i].replace('/url?q=', '').split('&sa=')[0])\n",
    "        \n",
    "links_im = list(set(links_im))[:-1]\n",
    "\n",
    "links_im"
   ]
  },
  {
   "cell_type": "markdown",
   "metadata": {},
   "source": [
    "<h5 id='parte-1a1' style=\"color:green;\">5.6.1.3. Extraindo links de várias páginas</h5>"
   ]
  },
  {
   "cell_type": "markdown",
   "metadata": {},
   "source": [
    "<p>Em <b style=\"color:green\";>a.2.</b> conseguimos extrair todos os links da primeira página da nossa busca do google. Podemos estender nosso código para pegar <b>n</b> páginas. Faremos como exemplo <b>n = 4</b>, ou seja, iremos até a página 4 usando como parâmetro <b>[0, 10, 20, 30]</b> no link, com apenas um detalhe a mais: Iremos retirar links <b>/patrocinados/</b> da nossa busca."
   ]
  },
  {
   "cell_type": "code",
   "execution_count": 42,
   "metadata": {},
   "outputs": [
    {
     "data": {
      "text/plain": [
       "['https://www.infomoney.com.br/business/mp-sp-abre-investigacao-contra-ex-cfo-do-itau-acusado-de-fraude/',\n",
       " 'https://www.infomoney.com.br/mercados/itau-bba-aponta-7-acoes-com-momentum-favoravel-no-brasil/',\n",
       " 'https://www.infomoney.com.br/mercados/vale-itau-ecorodovias-ultrapar-e-mais-acoes-para-acompanhar-nesta-6a/',\n",
       " 'https://www.infomoney.com.br/mercados/alta-da-ambev-abev3-tem-folego-itau-bba-mantem-cautela-com-as-acoes/',\n",
       " 'https://www.infomoney.com.br/mercados/itau-dado-forte-e-dividendo-bilionario-mas-por-que-4t-nao-brilhou-olho-do-mercado/',\n",
       " 'https://www.infomoney.com.br/mercados/credito-consignado-privado-vai-decolar-veja-quais-bancos-podem-se-destacar/',\n",
       " 'https://www.infomoney.com.br/mercados/itau-desacelera-credito-com-possivel-alta-da-inadimplencia-no-ano-diz-analista-da-xp/',\n",
       " 'https://www.infomoney.com.br/mercados/goldman-ve-itau-posicionado-para-elevar-rentabilidade-e-reforca-acao-como-preferida/',\n",
       " 'https://www.infomoney.com.br/mercados/xpbr31-itau-bba-inicia-cobertura-acoes-xp-inc-com-recomendacao-de-compra-e-destaca-resiliencia/',\n",
       " 'https://www.infomoney.com.br/mercados/itausa-itsa4-genial-elege-holding-como-preferida-de-olho-no-fim-da-ineficiencia-tributaria/',\n",
       " 'https://www.infomoney.com.br/mercados/rdor3-por-que-o-itau-bba-destaca-a-rede-dor-como-preferida-no-setor-de-saude/',\n",
       " 'https://www.infomoney.com.br/onde-investir/itau-na-lideranca-as-6-acoes-mais-recomendadas-para-marco/',\n",
       " 'https://www.infomoney.com.br/mercados/o-que-dizem-o-ex-diretor-do-itau-e-seu-socio-acusados-de-conflito-de-interesse/',\n",
       " 'https://www.infomoney.com.br/mercados/ibovespa-hoje-bolsa-de-valores-ao-vivo-18022025/',\n",
       " 'https://www.infomoney.com.br/mercados/ibovespa-itau-bba-corta-projecao-para-145-mil-pontos-em-2025-e-cita-acoes-preferidas/',\n",
       " 'https://maps.google.com.br/maps%3Fq%3D%2522ita%25C3%25BA%2522%2Binfomoney%26biw%3D1920%26bih%3D944%26dpr%3D1%26um%3D1%26ie%3DUTF-8%26ved%3D1t:200713%26ictx%3D111&opi=89978449',\n",
       " 'https://www.infomoney.com.br/business/regua-etica-e-a-mesma-para-todos-diz-ceo-do-itau-sobre-punicao-a-executivos/',\n",
       " 'https://www.infomoney.com.br/mercados/caixa-seguridade-petrobras-carrefour-itau-e-mais-acoes-para-acompahar-nesta-2a/',\n",
       " 'https://www.infomoney.com.br/mercados/ubs-bb-eleva-recomendacao-de-itau-itub4-para-compra/',\n",
       " 'https://www.infomoney.com.br/mercados/bmob3-muito-melhor-que-petroleo-bemobi-anima-com-balanco-e-dividendo-de-16-e-acao-salta/',\n",
       " 'https://www.infomoney.com.br/mercados/itau-itub4-e-mais-17-acoes-que-atingiram-maximas-historicas-em-marco-veja-lista/',\n",
       " 'https://www.infomoney.com.br/mercados/itau-unibanco-itub4-deve-ter-dividendo-extraordinario-diz-presidente/',\n",
       " 'https://www.infomoney.com.br/mercados/empresas-aumentam-recompra-de-acoes-e-acumulam-r-89-bilhoes-em-programas-no-brasil/',\n",
       " 'https://www.infomoney.com.br/onde-investir/r-10-mil-investidos-nos-bancoes-renderiam-quanto-em-dividendos-em-2025/',\n",
       " 'https://www.infomoney.com.br/mercados/itau-esta-confortavel-com-previsoes-para-2025-mas-pode-reagir-se-cenario-melhorar/',\n",
       " 'https://www.infomoney.com.br/economia/itau-eleva-projecao-para-selic-em-2025-a-1575-e-nao-preve-cortes-ate-2026/',\n",
       " 'https://www.infomoney.com.br/mercados/itau-santander-e-bradesco-abrem-temporada-de-balancos-confira-divulgacoes-da-semana/',\n",
       " 'https://www.infomoney.com.br/business/ex-cfo-do-itau-acusado-de-fraude-tem-casa-apreendida-em-sao-paulo/',\n",
       " 'https://www.infomoney.com.br/mercados/ibovespa-hoje-bolsa-de-valores-ao-vivo-20012025/',\n",
       " 'https://www.infomoney.com.br/minhas-financas/itau-registra-aumento-de-242-nas-transacoes-durante-black-friday/',\n",
       " 'https://www.infomoney.com.br/mercados/itau-itub4-resultados-quarto-trimestre-2024/',\n",
       " 'https://www.infomoney.com.br/mercados/itau-quando-voce-teria-se-tivesse-investido-r-100-mil-em-itub4-ha-15-anos/',\n",
       " 'https://www.infomoney.com.br/mercados/ibovespa-hoje-bolsa-de-valores-ao-vivo-06022025/',\n",
       " 'https://www.infomoney.com.br/mercados/gerdau-ggbr4-itau-bba-corta-preco-alvo-mas-reitera-compra-entenda-por-que/',\n",
       " 'https://www.infomoney.com.br/mercados/itausa-itsa4-resultados-quarto-trimestre-2024/',\n",
       " 'https://www.infomoney.com.br/mercados/itau-itub4-anuncia-r-15-bilhoes-em-dividendos-e-jcp/',\n",
       " 'https://www.infomoney.com.br/mercados/itau-itub4-tem-novo-resultado-impressionante-e-analistas-veem-espaco-para-mais-dividendos-desempenho-acoes/',\n",
       " 'https://www.infomoney.com.br/mercados/itau-unibanco-itub4-emite-letras-financeiras-perpetuas-no-valor-de-r-44-bi/',\n",
       " 'https://www.infomoney.com.br/mercados/itau-acusa-ex-diretor-financeiro-de-violar-normas-e-aciona-banco-central/',\n",
       " 'https://www.infomoney.com.br/mercados/itau-unibanco-itub4-dispara-2055-em-2025-mas-ainda-vale-comprar-a-acao/',\n",
       " 'https://www.infomoney.com.br/mercados/itau-ve-indicios-de-crime-e-estuda-acao-civil-contra-ex-diretor-financeiro/']"
      ]
     },
     "execution_count": 42,
     "metadata": {},
     "output_type": "execute_result"
    }
   ],
   "source": [
    "# Parâmetros da nossa busca\n",
    "pag = [0, 10, 20, 30]\n",
    "busca = '%22ita%C3%BA%22+infomoney'\n",
    "per = 'cd_min:9/1/2019,cd_max:11/1/2019'\n",
    "\n",
    "# Vetor para armazenar os links do InfoMoney\n",
    "links_im = []\n",
    "\n",
    "# Loop entre as páginas de 1 a 4\n",
    "for n in pag:\n",
    "    # Request da página\n",
    "    url = f'https://www.google.com.br/search?q={busca}&tbs=cdr:1,{per}&tbm=nws&ei=aj_YXeiwGcbZ5gLut4noDw&start={n}&sa=N&ved=0ahUKEwjojZbtzv7lAhXGrFkKHe5bAv0Q8tMDCFM&biw=1920&bih=944&dpr=1'\n",
    "    response = requests.get(url)\n",
    "    \n",
    "    # HTML organizado pelo bs4\n",
    "    html = BeautifulSoup(response.text, \"html.parser\")\n",
    "    \n",
    "    # Extração de todos os <a>...</a>\n",
    "    a_search = html.find_all('a')\n",
    "    \n",
    "    # Retirando os 'href'\n",
    "    links = []\n",
    "    for a in a_search:\n",
    "        link = a.get('href')\n",
    "        links.append(link)\n",
    "    \n",
    "    # Selecionando os links de notícias do InfoMoney\n",
    "    for i in range(len(links)):\n",
    "        if ('infomoney' in links[i]) and ('/url?q' in links[i]) and ('accounts.google' not in links[i]) and ('patrocinados' not in links[i]):\n",
    "            links_im.append(links[i].replace('/url?q=', '').split('&sa=')[0])\n",
    "\n",
    "# Retirando links duplicados\n",
    "links_im = list(set(links_im))\n",
    "\n",
    "# Tirando da lista o que não for link:\n",
    "links_im = [l for l in links_im if l.startswith('http')]\n",
    "links_im"
   ]
  },
  {
   "cell_type": "markdown",
   "metadata": {},
   "source": [
    "## **6. Webcrawling na Prática**"
   ]
  },
  {
   "cell_type": "markdown",
   "metadata": {},
   "source": [
    "***Atenção!***\n",
    "\n",
    "*Abaixo está a atualização do código com o novo Selenium 4*"
   ]
  },
  {
   "cell_type": "markdown",
   "metadata": {},
   "source": [
    "Com a versão atual do Selenium (v4.6.0 ou superior), você **não precisa mais baixar manualmente o ChromeDriver**! 🎉\n",
    "\n",
    "O Selenium agora vem com o recurso chamado Selenium Manager, que gerencia o driver automaticamente pra você.\n",
    "\n",
    "Usaremos bibliotecas novas para gerenciar o driver."
   ]
  },
  {
   "cell_type": "markdown",
   "metadata": {},
   "source": [
    "### **6.1. Teste do Driver**"
   ]
  },
  {
   "cell_type": "code",
   "execution_count": 43,
   "metadata": {},
   "outputs": [],
   "source": [
    "# não há mais necessidade de baixar o chromedriver e nem definir o caminho dele\n",
    "driver = webdriver.Chrome()\n",
    "\n",
    "driver.get('https://www.google.com/')\n",
    "\n",
    "# Espere 5 segundos\n",
    "time.sleep(5)\n",
    "\n",
    "# Atualização aqui\n",
    "# Agora vamos tentar passar um comando de pesquisa\n",
    "from selenium.webdriver.common.by import By    # Importando o módulo By\n",
    "\n",
    "search_box = driver.find_element(By.NAME, \"q\")\n",
    "search_box.send_keys('Chromedriver')\n",
    "search_box.submit()\n",
    "\n",
    "# Espere mais 5 segundos\n",
    "time.sleep(5)\n",
    "\n",
    "driver.quit()"
   ]
  },
  {
   "cell_type": "markdown",
   "metadata": {},
   "source": [
    "### **6.2. Breve Revisão de Classes**"
   ]
  },
  {
   "cell_type": "code",
   "execution_count": 44,
   "metadata": {},
   "outputs": [],
   "source": [
    "class Multiplicapor2:\n",
    "    def __init__(self, x):\n",
    "        self.x = x\n",
    "\n",
    "    def multplica(self):\n",
    "        print(\"O seu número multiplicado por 2 é: \", 2*self.x)"
   ]
  },
  {
   "cell_type": "code",
   "execution_count": 45,
   "metadata": {},
   "outputs": [],
   "source": [
    "a = Multiplicapor2(10)"
   ]
  },
  {
   "cell_type": "code",
   "execution_count": 46,
   "metadata": {},
   "outputs": [
    {
     "data": {
      "text/plain": [
       "__main__.Multiplicapor2"
      ]
     },
     "execution_count": 46,
     "metadata": {},
     "output_type": "execute_result"
    }
   ],
   "source": [
    "type(a)"
   ]
  },
  {
   "cell_type": "code",
   "execution_count": 47,
   "metadata": {},
   "outputs": [
    {
     "name": "stdout",
     "output_type": "stream",
     "text": [
      "O seu número multiplicado por 2 é:  20\n"
     ]
    }
   ],
   "source": [
    "a.multplica()"
   ]
  },
  {
   "cell_type": "code",
   "execution_count": 48,
   "metadata": {},
   "outputs": [],
   "source": [
    "class MultiplicaporN:\n",
    "    def __init__(self, x, y):\n",
    "        self.x = x\n",
    "        self.y = y\n",
    "\n",
    "    def multplicaN(self):\n",
    "        print(\"O seu número multiplicado por \", str(self.y), \"é\", self.y*self.x)"
   ]
  },
  {
   "cell_type": "code",
   "execution_count": 49,
   "metadata": {},
   "outputs": [],
   "source": [
    "b = MultiplicaporN(2,25)"
   ]
  },
  {
   "cell_type": "code",
   "execution_count": 50,
   "metadata": {},
   "outputs": [
    {
     "data": {
      "text/plain": [
       "<__main__.MultiplicaporN at 0x2bd57ab2ed0>"
      ]
     },
     "execution_count": 50,
     "metadata": {},
     "output_type": "execute_result"
    }
   ],
   "source": [
    "b"
   ]
  },
  {
   "cell_type": "code",
   "execution_count": 51,
   "metadata": {},
   "outputs": [
    {
     "data": {
      "text/plain": [
       "__main__.MultiplicaporN"
      ]
     },
     "execution_count": 51,
     "metadata": {},
     "output_type": "execute_result"
    }
   ],
   "source": [
    "type(b)"
   ]
  },
  {
   "cell_type": "code",
   "execution_count": 52,
   "metadata": {},
   "outputs": [
    {
     "data": {
      "text/plain": [
       "2"
      ]
     },
     "execution_count": 52,
     "metadata": {},
     "output_type": "execute_result"
    }
   ],
   "source": [
    "b.x"
   ]
  },
  {
   "cell_type": "code",
   "execution_count": 53,
   "metadata": {},
   "outputs": [
    {
     "data": {
      "text/plain": [
       "25"
      ]
     },
     "execution_count": 53,
     "metadata": {},
     "output_type": "execute_result"
    }
   ],
   "source": [
    "b.y"
   ]
  },
  {
   "cell_type": "code",
   "execution_count": 54,
   "metadata": {},
   "outputs": [
    {
     "name": "stdout",
     "output_type": "stream",
     "text": [
      "O seu número multiplicado por  25 é 50\n"
     ]
    }
   ],
   "source": [
    "b.multplicaN()"
   ]
  },
  {
   "cell_type": "markdown",
   "metadata": {},
   "source": [
    "### **6.3. Webscraping da CVM**"
   ]
  },
  {
   "cell_type": "markdown",
   "metadata": {},
   "source": [
    "Esse robô será feito com as seguintes etapas:\n",
    "\n",
    "1. Função init\n",
    "\n",
    "\n",
    "2. Função webscraping\n",
    "\n",
    "    a. Verificação do diretório de destino e limpeza, caso seja necessário\n",
    "    \n",
    "    b. Acionar o nosso webdriver\n",
    "    \n",
    "    c. Determinar o intervalo de tempo que queremos baixar os arquivos\n",
    "    \n",
    "    d. Solicitar que o webdriver baixe os arquivos\n",
    "    \n",
    "    e. Vamos retirar os arquivos .csv de dentro das pastas zipadas e vamos apagar as pastas zipadas\n",
    "    \n",
    "    \n",
    "3. Função importação\n",
    "\n",
    "    a. Determinar quais arquivos serão abertos\n",
    "    \n",
    "    b. Concatenar tudo num data frame só\n",
    "    \n",
    "    c. Fazer adaptações necessárias e retornar o data frame final\n",
    "    \n",
    "    \n"
   ]
  },
  {
   "cell_type": "markdown",
   "metadata": {},
   "source": [
    "#### **6.3.1. Função de Webscraping**"
   ]
  },
  {
   "cell_type": "markdown",
   "metadata": {},
   "source": [
    "##### **6.3.1.1. Verificação do Diretório**"
   ]
  },
  {
   "cell_type": "code",
   "execution_count": 55,
   "metadata": {},
   "outputs": [
    {
     "data": {
      "text/plain": [
       "'d:\\\\current_projects\\\\material_PMF_2.0\\\\modulo_10\\\\files'"
      ]
     },
     "execution_count": 55,
     "metadata": {},
     "output_type": "execute_result"
    }
   ],
   "source": [
    "# Caminho atual do seu jupyter notebook\n",
    "current_path = os.getcwd()\n",
    "current_path\n",
    "\n",
    "# Caminho onde os arquivos serão salvos\n",
    "path = os.path.join(current_path, 'files')\n",
    "\n",
    "# ou\n",
    "\n",
    "path = os.path.join(os.getcwd(), 'files')\n",
    "\n",
    "path\n",
    "\n",
    "# É melhor usar o 'join' para juntar os caminhos, pois ele já faz a verificação \n",
    "# de qual sistema operacional você está usando e ajusta o caminho de acordo"
   ]
  },
  {
   "cell_type": "code",
   "execution_count": 56,
   "metadata": {},
   "outputs": [
    {
     "name": "stdout",
     "output_type": "stream",
     "text": [
      "Diretório Existe\n"
     ]
    }
   ],
   "source": [
    "if os.path.isdir(path): #Verificamos se o diretório existe\n",
    "    print(\"Diretório Existe\")\n",
    "\n",
    "    # Caso o diretório exista, vamos limpá-lo se houver arquivos\n",
    "    if(len(os.listdir(path))>0): # Há arquivos nesse diretório?\n",
    "\n",
    "        for i in os.listdir(path):\n",
    "            print(\"Removendo arquivo \", i)\n",
    "            os.remove(f'{path}/{i}')\n",
    "\n",
    "else:\n",
    "    print(\"Diretório não existe\")\n",
    "\n",
    "    # Cria diretório que não existia\n",
    "    os.mkdir(path)"
   ]
  },
  {
   "cell_type": "markdown",
   "metadata": {},
   "source": [
    "##### **6.3.1.2. Acionar o nosso Webdriver**"
   ]
  },
  {
   "cell_type": "markdown",
   "metadata": {},
   "source": [
    "Código Antigo\n",
    "\n",
    "```python\t\n",
    "driver = current_path + '\\\\webdriver\\\\chromedriver.exe'\n",
    "url = 'http://dados.cvm.gov.br/dados/CIA_ABERTA/DOC/ITR/DADOS/'\n",
    "\n",
    "chrome_options= webdriver.ChromeOptions()\n",
    "\n",
    "prefs = {'download.default_directory':path}\n",
    "chrome_options.add_experimental_option('prefs', prefs)\n",
    "\n",
    "prefs = {'download.default_directory':path}\n",
    "chrome_options.add_experimental_option('prefs', prefs)\n",
    "```"
   ]
  },
  {
   "cell_type": "markdown",
   "metadata": {},
   "source": [
    "Código Atualizado"
   ]
  },
  {
   "cell_type": "code",
   "execution_count": null,
   "metadata": {},
   "outputs": [],
   "source": [
    "# URL alvo\n",
    "url = 'http://dados.cvm.gov.br/dados/CIA_ABERTA/DOC/ITR/DADOS/'\n",
    "\n",
    "# Configuração de opções do Chrome\n",
    "chrome_options = Options()\n",
    "prefs = {'download.default_directory': path}\n",
    "chrome_options.add_experimental_option('prefs', prefs)\n",
    "\n",
    "# Inicia o driver com Selenium Manager (sem precisar do caminho do ChromeDriver)\n",
    "browser = webdriver.Chrome(options=chrome_options)\n",
    "\n",
    "# Abre a URL\n",
    "browser.get(url)\n"
   ]
  },
  {
   "cell_type": "markdown",
   "metadata": {},
   "source": [
    "##### **6.3.1.3. Determinar o Intervalo de Tempo**"
   ]
  },
  {
   "cell_type": "code",
   "execution_count": 58,
   "metadata": {},
   "outputs": [],
   "source": [
    "ini = '01/01/2018'\n",
    "fim = '01/01/2021'"
   ]
  },
  {
   "cell_type": "code",
   "execution_count": 59,
   "metadata": {},
   "outputs": [
    {
     "data": {
      "text/plain": [
       "'2018'"
      ]
     },
     "execution_count": 59,
     "metadata": {},
     "output_type": "execute_result"
    }
   ],
   "source": [
    "ini[-4:]"
   ]
  },
  {
   "cell_type": "code",
   "execution_count": 60,
   "metadata": {},
   "outputs": [
    {
     "data": {
      "text/plain": [
       "'2021'"
      ]
     },
     "execution_count": 60,
     "metadata": {},
     "output_type": "execute_result"
    }
   ],
   "source": [
    "fim[-4:]"
   ]
  },
  {
   "cell_type": "code",
   "execution_count": 61,
   "metadata": {},
   "outputs": [],
   "source": [
    "ano_ini = int(ini[-4:])"
   ]
  },
  {
   "cell_type": "code",
   "execution_count": 62,
   "metadata": {},
   "outputs": [],
   "source": [
    "ano_fim = int(fim[-4:])"
   ]
  },
  {
   "cell_type": "code",
   "execution_count": 63,
   "metadata": {},
   "outputs": [
    {
     "data": {
      "text/plain": [
       "2021"
      ]
     },
     "execution_count": 63,
     "metadata": {},
     "output_type": "execute_result"
    }
   ],
   "source": [
    "ano_fim"
   ]
  },
  {
   "cell_type": "markdown",
   "metadata": {},
   "source": [
    "Código antigo\n",
    "\n",
    "```python\n",
    "# Não há mais necessidade de mudar o ano, pois o link mudou a forma de apresentar os arquivos\n",
    "c = 4 + (ano_ini - 2011)\n",
    "c\n",
    "\n",
    "cf = 4 + (ano_fim - 2011)\n",
    "cf\n",
    "```"
   ]
  },
  {
   "cell_type": "markdown",
   "metadata": {},
   "source": [
    "##### **6.3.1.4. Solicitar que o Webdriver Baixe os Arquivos**"
   ]
  },
  {
   "cell_type": "code",
   "execution_count": 64,
   "metadata": {},
   "outputs": [],
   "source": [
    "while True:\n",
    "\n",
    "    try:\n",
    "        # browser.find_element_by_xpath(f'//*[@id=\"indexlist\"]/tbody/tr[{c}]').click()\n",
    "        browser.find_element(By.XPATH, f\"//a[contains(text(), '{ano}')]\").click()\n",
    "        time.sleep(5)\n",
    "        c += 1\n",
    "\n",
    "        if c == cf:\n",
    "            break\n",
    "\n",
    "    except:\n",
    "        break"
   ]
  },
  {
   "cell_type": "markdown",
   "metadata": {},
   "source": [
    "##### **6.3.1.5. Retirar os Arquivos .csv de Dentro das Pastas Zipadas**"
   ]
  },
  {
   "cell_type": "code",
   "execution_count": 65,
   "metadata": {},
   "outputs": [
    {
     "name": "stdout",
     "output_type": "stream",
     "text": [
      "Passo 2 de 4 - Download dos arquivos concluído\n",
      "Passo 3 de 4 - Iniciando processo de Unzip das pastas\n",
      "Passo 4 de 4 - Todos os arquivos .csv foram unzipados\n"
     ]
    }
   ],
   "source": [
    "while True:\n",
    "    if len([x for x in os.listdir(path) if('.zip.crdownload' in x)]) > 0:\n",
    "        pass\n",
    "    else:\n",
    "        break\n",
    "\n",
    "print('Passo 2 de 4 - Download dos arquivos concluído')\n",
    "print('Passo 3 de 4 - Iniciando processo de Unzip das pastas')\n",
    "\n",
    "extension = '.zip'\n",
    "\n",
    "for item in os.listdir(path): # Loop para percorrer todos os arquivos que estão na pasta \"files\"\n",
    "    if item.endswith(extension): # Verifica se o arquivo é .zip\n",
    "        path = os.path.abspath(path)\n",
    "        zipref = zipfile.ZipFile(path + '\\\\' + item) # Criando objeto zipfile\n",
    "        zipref.extractall(path) # Extraindo arquivo para diretório\n",
    "        zipref.close() # Fecha o arquivo zipado\n",
    "        os.remove(path + '\\\\' + item) # Deleta cada um dos zips\n",
    "\n",
    "print('Passo 4 de 4 - Todos os arquivos .csv foram unzipados')"
   ]
  },
  {
   "cell_type": "markdown",
   "metadata": {},
   "source": [
    "#### **6.3.2. Função Importação**"
   ]
  },
  {
   "cell_type": "markdown",
   "metadata": {},
   "source": [
    "##### **6.3.2.1. Determinar quais arquivos serão abertos**"
   ]
  },
  {
   "cell_type": "code",
   "execution_count": 66,
   "metadata": {},
   "outputs": [],
   "source": [
    "ext = 1"
   ]
  },
  {
   "cell_type": "markdown",
   "metadata": {},
   "source": [
    "Se o usuário especificar ext como 0, o scraping não será feito, apenas a importação para o Python.\n",
    "\n",
    "Se o usuário colocar ext = 1, toda a rotina será executada"
   ]
  },
  {
   "cell_type": "code",
   "execution_count": 67,
   "metadata": {},
   "outputs": [
    {
     "ename": "NameError",
     "evalue": "name 'cvm' is not defined",
     "output_type": "error",
     "traceback": [
      "\u001b[1;31m---------------------------------------------------------------------------\u001b[0m",
      "\u001b[1;31mNameError\u001b[0m                                 Traceback (most recent call last)",
      "Cell \u001b[1;32mIn[67], line 2\u001b[0m\n\u001b[0;32m      1\u001b[0m \u001b[38;5;28;01mif\u001b[39;00m ext \u001b[38;5;241m==\u001b[39m\u001b[38;5;241m1\u001b[39m:\n\u001b[1;32m----> 2\u001b[0m     \u001b[43mcvm\u001b[49m\u001b[38;5;241m.\u001b[39mscraping_df()\n\u001b[0;32m      3\u001b[0m \u001b[38;5;28;01melif\u001b[39;00m ext \u001b[38;5;241m==\u001b[39m\u001b[38;5;241m0\u001b[39m:\n\u001b[0;32m      4\u001b[0m     \u001b[38;5;28;01mpass\u001b[39;00m\n",
      "\u001b[1;31mNameError\u001b[0m: name 'cvm' is not defined"
     ]
    }
   ],
   "source": [
    "if ext ==1:\n",
    "    cvm.scraping_df()\n",
    "elif ext ==0:\n",
    "    pass"
   ]
  },
  {
   "cell_type": "code",
   "execution_count": null,
   "metadata": {},
   "outputs": [],
   "source": [
    "filename = []\n",
    "\n",
    "ini = '01/01/2018'\n",
    "fim = '01/01/2021'\n",
    "\n",
    "ano_ini = ini[-4:]\n",
    "ano_fim = fim[-4:]\n",
    "\n",
    "dfp = ['DRE', 'BPA']\n",
    "\n",
    "if ano_ini == ano_fim:\n",
    "    periodo = [ano_ini, None]\n",
    "else:\n",
    "    periodo = [ano_ini, ano_fim]\n",
    "    lista_anos = list(range(int(periodo[0]), int(periodo[1])+1))\n",
    "\n",
    "\n",
    "for d in dfp:\n",
    "    for p in lista_anos:\n",
    "        filename += [x for x in os.listdir(path) if (d in x) and (str(p) in x)]"
   ]
  },
  {
   "cell_type": "markdown",
   "metadata": {},
   "source": [
    "##### **6.3.2.2. Concatenar tudo num data frame só**"
   ]
  },
  {
   "cell_type": "code",
   "execution_count": null,
   "metadata": {},
   "outputs": [
    {
     "data": {
      "text/plain": [
       "['itr_cia_aberta_DRE_con_2018.csv',\n",
       " 'itr_cia_aberta_DRE_ind_2018.csv',\n",
       " 'itr_cia_aberta_DRE_con_2019.csv',\n",
       " 'itr_cia_aberta_DRE_ind_2019.csv',\n",
       " 'itr_cia_aberta_DRE_con_2020.csv',\n",
       " 'itr_cia_aberta_DRE_ind_2020.csv',\n",
       " 'itr_cia_aberta_BPA_con_2018.csv',\n",
       " 'itr_cia_aberta_BPA_ind_2018.csv',\n",
       " 'itr_cia_aberta_BPA_con_2019.csv',\n",
       " 'itr_cia_aberta_BPA_ind_2019.csv',\n",
       " 'itr_cia_aberta_BPA_con_2020.csv',\n",
       " 'itr_cia_aberta_BPA_ind_2020.csv']"
      ]
     },
     "execution_count": 92,
     "metadata": {},
     "output_type": "execute_result"
    }
   ],
   "source": [
    "filename"
   ]
  },
  {
   "cell_type": "code",
   "execution_count": null,
   "metadata": {},
   "outputs": [
    {
     "data": {
      "text/plain": [
       "'d:\\\\current_projects\\\\material_PMF_2.0\\\\modulo_10\\\\files\\\\itr_cia_aberta_DRE_ind_2018.csv'"
      ]
     },
     "execution_count": 95,
     "metadata": {},
     "output_type": "execute_result"
    }
   ],
   "source": [
    "path + \"\\\\\" + filename[1]"
   ]
  },
  {
   "cell_type": "code",
   "execution_count": null,
   "metadata": {},
   "outputs": [
    {
     "data": {
      "text/plain": [
       "'d:\\\\current_projects\\\\material_PMF_2.0\\\\modulo_10\\\\files\\\\itr_cia_aberta_DRE_ind_2018.csv'"
      ]
     },
     "execution_count": 96,
     "metadata": {},
     "output_type": "execute_result"
    }
   ],
   "source": [
    "f\"{path}\\\\{filename[1]}\""
   ]
  },
  {
   "cell_type": "code",
   "execution_count": null,
   "metadata": {},
   "outputs": [
    {
     "data": {
      "text/plain": [
       "'d:\\\\current_projects\\\\material_PMF_2.0\\\\modulo_10\\\\files\\\\itr_cia_aberta_DRE_ind_2018.csv'"
      ]
     },
     "execution_count": 97,
     "metadata": {},
     "output_type": "execute_result"
    }
   ],
   "source": [
    "os.path.join(path, filename[1])"
   ]
  },
  {
   "cell_type": "code",
   "execution_count": null,
   "metadata": {},
   "outputs": [],
   "source": [
    "for i in filename:\n",
    "    df = pd.read_csv(os.path.join(path, i), sep = ';', encoding = 'cp1252')\n",
    "    try:\n",
    "        df_concat = pd.concat([df_concat,df], ignore_index = True)\n",
    "    except:\n",
    "        df_concat = df"
   ]
  },
  {
   "cell_type": "code",
   "execution_count": null,
   "metadata": {},
   "outputs": [
    {
     "data": {
      "text/plain": [
       "(2089946, 15)"
      ]
     },
     "execution_count": 99,
     "metadata": {},
     "output_type": "execute_result"
    }
   ],
   "source": [
    "df_concat.shape"
   ]
  },
  {
   "cell_type": "code",
   "execution_count": null,
   "metadata": {},
   "outputs": [
    {
     "data": {
      "text/html": [
       "<div>\n",
       "<style scoped>\n",
       "    .dataframe tbody tr th:only-of-type {\n",
       "        vertical-align: middle;\n",
       "    }\n",
       "\n",
       "    .dataframe tbody tr th {\n",
       "        vertical-align: top;\n",
       "    }\n",
       "\n",
       "    .dataframe thead th {\n",
       "        text-align: right;\n",
       "    }\n",
       "</style>\n",
       "<table border=\"1\" class=\"dataframe\">\n",
       "  <thead>\n",
       "    <tr style=\"text-align: right;\">\n",
       "      <th></th>\n",
       "      <th>CNPJ_CIA</th>\n",
       "      <th>DT_REFER</th>\n",
       "      <th>VERSAO</th>\n",
       "      <th>DENOM_CIA</th>\n",
       "      <th>CD_CVM</th>\n",
       "      <th>GRUPO_DFP</th>\n",
       "      <th>MOEDA</th>\n",
       "      <th>ESCALA_MOEDA</th>\n",
       "      <th>ORDEM_EXERC</th>\n",
       "      <th>DT_INI_EXERC</th>\n",
       "      <th>DT_FIM_EXERC</th>\n",
       "      <th>CD_CONTA</th>\n",
       "      <th>DS_CONTA</th>\n",
       "      <th>VL_CONTA</th>\n",
       "      <th>ST_CONTA_FIXA</th>\n",
       "    </tr>\n",
       "  </thead>\n",
       "  <tbody>\n",
       "    <tr>\n",
       "      <th>0</th>\n",
       "      <td>00.001.180/0001-26</td>\n",
       "      <td>2018-03-31</td>\n",
       "      <td>1</td>\n",
       "      <td>CENTRAIS ELET BRAS S.A. - ELETROBRAS</td>\n",
       "      <td>2437</td>\n",
       "      <td>DF Consolidado - Demonstração do Resultado</td>\n",
       "      <td>REAL</td>\n",
       "      <td>MIL</td>\n",
       "      <td>PENÚLTIMO</td>\n",
       "      <td>2017-01-01</td>\n",
       "      <td>2017-03-31</td>\n",
       "      <td>3.01</td>\n",
       "      <td>Receita de Venda de Bens e/ou Serviços</td>\n",
       "      <td>8862044.0</td>\n",
       "      <td>S</td>\n",
       "    </tr>\n",
       "    <tr>\n",
       "      <th>1</th>\n",
       "      <td>00.001.180/0001-26</td>\n",
       "      <td>2018-03-31</td>\n",
       "      <td>1</td>\n",
       "      <td>CENTRAIS ELET BRAS S.A. - ELETROBRAS</td>\n",
       "      <td>2437</td>\n",
       "      <td>DF Consolidado - Demonstração do Resultado</td>\n",
       "      <td>REAL</td>\n",
       "      <td>MIL</td>\n",
       "      <td>ÚLTIMO</td>\n",
       "      <td>2018-01-01</td>\n",
       "      <td>2018-03-31</td>\n",
       "      <td>3.01</td>\n",
       "      <td>Receita de Venda de Bens e/ou Serviços</td>\n",
       "      <td>8592581.0</td>\n",
       "      <td>S</td>\n",
       "    </tr>\n",
       "    <tr>\n",
       "      <th>2</th>\n",
       "      <td>00.001.180/0001-26</td>\n",
       "      <td>2018-03-31</td>\n",
       "      <td>1</td>\n",
       "      <td>CENTRAIS ELET BRAS S.A. - ELETROBRAS</td>\n",
       "      <td>2437</td>\n",
       "      <td>DF Consolidado - Demonstração do Resultado</td>\n",
       "      <td>REAL</td>\n",
       "      <td>MIL</td>\n",
       "      <td>PENÚLTIMO</td>\n",
       "      <td>2017-01-01</td>\n",
       "      <td>2017-03-31</td>\n",
       "      <td>3.02</td>\n",
       "      <td>Custo dos Bens e/ou Serviços Vendidos</td>\n",
       "      <td>-3417264.0</td>\n",
       "      <td>S</td>\n",
       "    </tr>\n",
       "    <tr>\n",
       "      <th>3</th>\n",
       "      <td>00.001.180/0001-26</td>\n",
       "      <td>2018-03-31</td>\n",
       "      <td>1</td>\n",
       "      <td>CENTRAIS ELET BRAS S.A. - ELETROBRAS</td>\n",
       "      <td>2437</td>\n",
       "      <td>DF Consolidado - Demonstração do Resultado</td>\n",
       "      <td>REAL</td>\n",
       "      <td>MIL</td>\n",
       "      <td>ÚLTIMO</td>\n",
       "      <td>2018-01-01</td>\n",
       "      <td>2018-03-31</td>\n",
       "      <td>3.02</td>\n",
       "      <td>Custo dos Bens e/ou Serviços Vendidos</td>\n",
       "      <td>-3750040.0</td>\n",
       "      <td>S</td>\n",
       "    </tr>\n",
       "    <tr>\n",
       "      <th>4</th>\n",
       "      <td>00.001.180/0001-26</td>\n",
       "      <td>2018-03-31</td>\n",
       "      <td>1</td>\n",
       "      <td>CENTRAIS ELET BRAS S.A. - ELETROBRAS</td>\n",
       "      <td>2437</td>\n",
       "      <td>DF Consolidado - Demonstração do Resultado</td>\n",
       "      <td>REAL</td>\n",
       "      <td>MIL</td>\n",
       "      <td>PENÚLTIMO</td>\n",
       "      <td>2017-01-01</td>\n",
       "      <td>2017-03-31</td>\n",
       "      <td>3.02.01</td>\n",
       "      <td>Energia comprada para revenda</td>\n",
       "      <td>-2602297.0</td>\n",
       "      <td>N</td>\n",
       "    </tr>\n",
       "  </tbody>\n",
       "</table>\n",
       "</div>"
      ],
      "text/plain": [
       "             CNPJ_CIA    DT_REFER  VERSAO  \\\n",
       "0  00.001.180/0001-26  2018-03-31       1   \n",
       "1  00.001.180/0001-26  2018-03-31       1   \n",
       "2  00.001.180/0001-26  2018-03-31       1   \n",
       "3  00.001.180/0001-26  2018-03-31       1   \n",
       "4  00.001.180/0001-26  2018-03-31       1   \n",
       "\n",
       "                              DENOM_CIA  CD_CVM  \\\n",
       "0  CENTRAIS ELET BRAS S.A. - ELETROBRAS    2437   \n",
       "1  CENTRAIS ELET BRAS S.A. - ELETROBRAS    2437   \n",
       "2  CENTRAIS ELET BRAS S.A. - ELETROBRAS    2437   \n",
       "3  CENTRAIS ELET BRAS S.A. - ELETROBRAS    2437   \n",
       "4  CENTRAIS ELET BRAS S.A. - ELETROBRAS    2437   \n",
       "\n",
       "                                    GRUPO_DFP MOEDA ESCALA_MOEDA ORDEM_EXERC  \\\n",
       "0  DF Consolidado - Demonstração do Resultado  REAL          MIL   PENÚLTIMO   \n",
       "1  DF Consolidado - Demonstração do Resultado  REAL          MIL      ÚLTIMO   \n",
       "2  DF Consolidado - Demonstração do Resultado  REAL          MIL   PENÚLTIMO   \n",
       "3  DF Consolidado - Demonstração do Resultado  REAL          MIL      ÚLTIMO   \n",
       "4  DF Consolidado - Demonstração do Resultado  REAL          MIL   PENÚLTIMO   \n",
       "\n",
       "  DT_INI_EXERC DT_FIM_EXERC CD_CONTA                                DS_CONTA  \\\n",
       "0   2017-01-01   2017-03-31     3.01  Receita de Venda de Bens e/ou Serviços   \n",
       "1   2018-01-01   2018-03-31     3.01  Receita de Venda de Bens e/ou Serviços   \n",
       "2   2017-01-01   2017-03-31     3.02   Custo dos Bens e/ou Serviços Vendidos   \n",
       "3   2018-01-01   2018-03-31     3.02   Custo dos Bens e/ou Serviços Vendidos   \n",
       "4   2017-01-01   2017-03-31  3.02.01           Energia comprada para revenda   \n",
       "\n",
       "    VL_CONTA ST_CONTA_FIXA  \n",
       "0  8862044.0             S  \n",
       "1  8592581.0             S  \n",
       "2 -3417264.0             S  \n",
       "3 -3750040.0             S  \n",
       "4 -2602297.0             N  "
      ]
     },
     "execution_count": 100,
     "metadata": {},
     "output_type": "execute_result"
    }
   ],
   "source": [
    "df_concat.head()"
   ]
  },
  {
   "cell_type": "markdown",
   "metadata": {},
   "source": [
    "##### **6.3.2.3. Fazer Adaptações Necessárias e Retornar o Data Frame Final**"
   ]
  },
  {
   "cell_type": "code",
   "execution_count": null,
   "metadata": {},
   "outputs": [
    {
     "data": {
      "text/plain": [
       "CNPJ_CIA          object\n",
       "DT_REFER          object\n",
       "VERSAO             int64\n",
       "DENOM_CIA         object\n",
       "CD_CVM             int64\n",
       "GRUPO_DFP         object\n",
       "MOEDA             object\n",
       "ESCALA_MOEDA      object\n",
       "ORDEM_EXERC       object\n",
       "DT_INI_EXERC      object\n",
       "DT_FIM_EXERC      object\n",
       "CD_CONTA          object\n",
       "DS_CONTA          object\n",
       "VL_CONTA         float64\n",
       "ST_CONTA_FIXA     object\n",
       "dtype: object"
      ]
     },
     "execution_count": 101,
     "metadata": {},
     "output_type": "execute_result"
    }
   ],
   "source": [
    "df_concat.dtypes"
   ]
  },
  {
   "cell_type": "code",
   "execution_count": null,
   "metadata": {},
   "outputs": [],
   "source": [
    "df_concat['DT_INI_EXERC'] = pd.to_datetime(df_concat['DT_INI_EXERC'], format = ('%Y-%m-%d'))\n",
    "df_concat['DT_FIM_EXERC'] = pd.to_datetime(df_concat['DT_FIM_EXERC'], format = ('%Y-%m-%d'))"
   ]
  },
  {
   "cell_type": "code",
   "execution_count": null,
   "metadata": {},
   "outputs": [
    {
     "data": {
      "text/plain": [
       "CNPJ_CIA                 object\n",
       "DT_REFER                 object\n",
       "VERSAO                    int64\n",
       "DENOM_CIA                object\n",
       "CD_CVM                    int64\n",
       "GRUPO_DFP                object\n",
       "MOEDA                    object\n",
       "ESCALA_MOEDA             object\n",
       "ORDEM_EXERC              object\n",
       "DT_INI_EXERC     datetime64[ns]\n",
       "DT_FIM_EXERC     datetime64[ns]\n",
       "CD_CONTA                 object\n",
       "DS_CONTA                 object\n",
       "VL_CONTA                float64\n",
       "ST_CONTA_FIXA            object\n",
       "dtype: object"
      ]
     },
     "execution_count": 103,
     "metadata": {},
     "output_type": "execute_result"
    }
   ],
   "source": [
    "df_concat.dtypes"
   ]
  },
  {
   "cell_type": "code",
   "execution_count": null,
   "metadata": {},
   "outputs": [
    {
     "data": {
      "text/plain": [
       "'01/01/2018'"
      ]
     },
     "execution_count": 104,
     "metadata": {},
     "output_type": "execute_result"
    }
   ],
   "source": [
    "ini"
   ]
  },
  {
   "cell_type": "code",
   "execution_count": null,
   "metadata": {},
   "outputs": [
    {
     "data": {
      "text/plain": [
       "'01/01/2021'"
      ]
     },
     "execution_count": 105,
     "metadata": {},
     "output_type": "execute_result"
    }
   ],
   "source": [
    "fim"
   ]
  },
  {
   "cell_type": "code",
   "execution_count": null,
   "metadata": {},
   "outputs": [
    {
     "data": {
      "text/plain": [
       "'2018'"
      ]
     },
     "execution_count": 106,
     "metadata": {},
     "output_type": "execute_result"
    }
   ],
   "source": [
    "ini[-4:]"
   ]
  },
  {
   "cell_type": "code",
   "execution_count": null,
   "metadata": {},
   "outputs": [
    {
     "data": {
      "text/plain": [
       "'01'"
      ]
     },
     "execution_count": 107,
     "metadata": {},
     "output_type": "execute_result"
    }
   ],
   "source": [
    "ini[3:5]"
   ]
  },
  {
   "cell_type": "code",
   "execution_count": null,
   "metadata": {},
   "outputs": [
    {
     "data": {
      "text/plain": [
       "'01'"
      ]
     },
     "execution_count": 108,
     "metadata": {},
     "output_type": "execute_result"
    }
   ],
   "source": [
    "ini[0:2]"
   ]
  },
  {
   "cell_type": "code",
   "execution_count": null,
   "metadata": {},
   "outputs": [],
   "source": [
    "df_concat['DT_INI_EXERC'] = pd.to_datetime(df_concat['DT_INI_EXERC'], format = ('%Y-%m-%d'))\n",
    "df_concat['DT_FIM_EXERC'] = pd.to_datetime(df_concat['DT_FIM_EXERC'], format = ('%Y-%m-%d'))\n",
    "\n",
    "ini_log =  f'{ini[-4:]}-{ini[3:5]}-{ini[0:2]}'\n",
    "fim_log =  f'{fim[-4:]}-{fim[3:5]}-{fim[0:2]}'\n",
    "\n",
    "df_final = df_concat.loc[(df_concat['DT_FIM_EXERC'] >= ini_log) & (df_concat['DT_FIM_EXERC'] <= fim_log)]"
   ]
  },
  {
   "cell_type": "code",
   "execution_count": null,
   "metadata": {},
   "outputs": [
    {
     "data": {
      "text/plain": [
       "'2021-01-01'"
      ]
     },
     "execution_count": 110,
     "metadata": {},
     "output_type": "execute_result"
    }
   ],
   "source": [
    "fim_log"
   ]
  },
  {
   "cell_type": "code",
   "execution_count": null,
   "metadata": {},
   "outputs": [
    {
     "data": {
      "text/plain": [
       "(1754718, 15)"
      ]
     },
     "execution_count": 112,
     "metadata": {},
     "output_type": "execute_result"
    }
   ],
   "source": [
    "df_final.shape"
   ]
  },
  {
   "cell_type": "markdown",
   "metadata": {},
   "source": [
    "#### **6.3.3. Classe Final**"
   ]
  },
  {
   "cell_type": "code",
   "execution_count": null,
   "metadata": {},
   "outputs": [],
   "source": [
    "class CVM_Extractor():\n",
    "    \n",
    "    def __init__(self, ext, ini, fim):\n",
    "        self.dir_download = os.path.join(os.getcwd(), 'files')\n",
    "        self.url = 'http://dados.cvm.gov.br/dados/CIA_ABERTA/DOC/ITR/DADOS/'\n",
    "        self.ini = ini\n",
    "        self.fim = fim\n",
    "        self.ext = ext\n",
    "        \n",
    "    def scraping_df(self):\n",
    "        if os.path.isdir(self.dir_download): #Verificamos se o diretório existe\n",
    "            print(\"Diretório Existe\")\n",
    "            if(len(os.listdir(self.dir_download))>0):\n",
    "                for i in os.listdir(self.dir_download):\n",
    "                    print(\"Removendo arquivo \", i)\n",
    "                    os.remove(f'{self.dir_download}/{i}')\n",
    "\n",
    "        else:\n",
    "            print(\"Diretório não existe\")\n",
    "            os.mkdir(self.dir_download)\n",
    "\n",
    "        print('Passo 1 de 4 - Extração dos arquivos zipados da CVM')\n",
    "        \n",
    "        # Configurando o driver\n",
    "        chrome_options = Options()\n",
    "        prefs = {'download.default_directory': self.dir_download}\n",
    "        chrome_options.add_experimental_option('prefs', prefs)\n",
    "\n",
    "        # Cria o driver com Selenium Manager\n",
    "        browser = webdriver.Chrome(options=chrome_options)\n",
    "        browser.get(self.url)\n",
    "\n",
    "        ano_ini = int(self.ini[-4:])\n",
    "        ano_fim = int(self.fim[-4:])\n",
    "\n",
    "        while True:\n",
    "\n",
    "            try:\n",
    "                browser.find_element(By.XPATH, f\"//a[contains(text(), '{ano_ini}.zip')]\").click()\n",
    "                time.sleep(5)\n",
    "                ano_ini += 1\n",
    "\n",
    "                if ano_ini == ano_fim:\n",
    "                    break\n",
    "\n",
    "            except:\n",
    "                break\n",
    "\n",
    "        while True:\n",
    "            if len([x for x in os.listdir(self.dir_download) if('.zip.crdownload' in x)]) > 0:\n",
    "                pass\n",
    "            else:\n",
    "                break\n",
    "\n",
    "        print('Passo 2 de 4 - Download dos arquivos concluído')\n",
    "        print('Passo 3 de 4 - Iniciando processo de Unzip das pastas')\n",
    "\n",
    "        extension = '.zip'\n",
    "\n",
    "        for item in os.listdir(self.dir_download): # Loop para percorrer todos os arquivos que estão na pasta \"files\"\n",
    "            if item.endswith(extension): # Verifica se o arquivo é .zip\n",
    "                self.dir_download = os.path.abspath(self.dir_download)\n",
    "                zipref = zipfile.ZipFile(self.dir_download + '\\\\' + item) # Criando objeto zipfile\n",
    "                zipref.extractall(self.dir_download) # Extraindo arquivo para diretório\n",
    "                zipref.close() # Fecha o arquivo zipado\n",
    "                os.remove(self.dir_download + '\\\\' + item) # Deleta cada um dos zips\n",
    "\n",
    "        print('Passo 4 de 4 - Todos os arquivos .csv foram unzipados')\n",
    "        driver.quit()\n",
    "        \n",
    "    def import_df(self, dfp):\n",
    "        if self.ext ==1:\n",
    "            self.scraping_df()\n",
    "        elif self.ext ==0:\n",
    "            pass\n",
    "\n",
    "        filename = []\n",
    "\n",
    "        ini = self.ini\n",
    "        fim = self.fim\n",
    "\n",
    "        ano_ini = ini[-4:]\n",
    "        ano_fim = fim[-4:]\n",
    "\n",
    "        if ano_ini == ano_fim:\n",
    "            periodo = [ano_ini, None]\n",
    "        else:\n",
    "            periodo = [ano_ini, ano_fim]\n",
    "            lista_anos = list(range(int(periodo[0]), int(periodo[1])+1))\n",
    "\n",
    "\n",
    "        for d in dfp:\n",
    "            for p in lista_anos:\n",
    "                filename += [x for x in os.listdir(self.dir_download) if (d in x) and (str(p) in x)]\n",
    "\n",
    "\n",
    "        for i in filename:\n",
    "            df = pd.read_csv(f\"{path}\\\\{i}\", sep = ';', encoding = 'cp1252')\n",
    "            try:\n",
    "                df_concat = pd.concat([df_concat,df], ignore_index = True)\n",
    "            except:\n",
    "                df_concat = df\n",
    "                \n",
    "        \n",
    "        df_concat['DT_INI_EXERC'] = pd.to_datetime(df_concat['DT_INI_EXERC'], format = ('%Y-%m-%d'))\n",
    "        df_concat['DT_FIM_EXERC'] = pd.to_datetime(df_concat['DT_FIM_EXERC'], format = ('%Y-%m-%d'))\n",
    "\n",
    "        ini_log =  f'{ini[-4:]}-{ini[3:5]}-{ini[0:2]}'\n",
    "        fim_log =  f'{fim[-4:]}-{fim[3:5]}-{fim[0:2]}'\n",
    "\n",
    "        df_final = df_concat.loc[(df_concat['DT_FIM_EXERC'] >= ini_log) & (df_concat['DT_FIM_EXERC'] <= fim_log)]\n",
    "\n",
    "        return df_final\n",
    "        \n",
    "        "
   ]
  },
  {
   "cell_type": "code",
   "execution_count": null,
   "metadata": {},
   "outputs": [
    {
     "data": {
      "text/plain": [
       "<__main__.CVM_Extractor at 0x233c495f9d0>"
      ]
     },
     "execution_count": 120,
     "metadata": {},
     "output_type": "execute_result"
    }
   ],
   "source": [
    "a = CVM_Extractor(1, 2, 3)\n",
    "a"
   ]
  },
  {
   "cell_type": "code",
   "execution_count": null,
   "metadata": {},
   "outputs": [
    {
     "data": {
      "text/plain": [
       "<__main__.CVM_Extractor at 0x257e09a3490>"
      ]
     },
     "execution_count": 89,
     "metadata": {},
     "output_type": "execute_result"
    }
   ],
   "source": [
    "cvm = CVM_Extractor(0, '01/01/2018','01/01/2021')\n",
    "cvm"
   ]
  },
  {
   "cell_type": "code",
   "execution_count": null,
   "metadata": {},
   "outputs": [
    {
     "name": "stdout",
     "output_type": "stream",
     "text": [
      "Diretório Existe\n",
      "Passo 1 de 4 - Extração dos arquivos zipados da CVM\n",
      "Passo 2 de 4 - Download dos arquivos concluído\n",
      "Passo 3 de 4 - Iniciando processo de Unzip das pastas\n",
      "Passo 4 de 4 - Todos os arquivos .csv foram unzipados\n"
     ]
    }
   ],
   "source": [
    "cvm.scraping_df()"
   ]
  },
  {
   "cell_type": "code",
   "execution_count": null,
   "metadata": {},
   "outputs": [],
   "source": [
    "df_dre = cvm.import_df(['DRE'])"
   ]
  },
  {
   "cell_type": "markdown",
   "metadata": {},
   "source": [
    "## **7. Webscraping Derivativos B3**"
   ]
  },
  {
   "cell_type": "markdown",
   "metadata": {},
   "source": [
    "### **7.1. Webscraping básico**"
   ]
  },
  {
   "cell_type": "code",
   "execution_count": 69,
   "metadata": {},
   "outputs": [],
   "source": [
    "url = \"http://www.b3.com.br/pt_br/market-data-e-indices/servicos-de-dados/market-data/historico/derivativos/ajustes-do-pregao/\""
   ]
  },
  {
   "cell_type": "markdown",
   "metadata": {},
   "source": [
    "Código Antigo:\n",
    "\n",
    "```python\n",
    "# Não funciona mais porque a página mudou\n",
    "response = requests.get(url)\n",
    "```"
   ]
  },
  {
   "cell_type": "markdown",
   "metadata": {},
   "source": [
    "### **7.2. Usar BeatifulSoup**"
   ]
  },
  {
   "cell_type": "code",
   "execution_count": 70,
   "metadata": {},
   "outputs": [],
   "source": [
    "response = requests.get(url)\n",
    "html = BeautifulSoup(response.text, \"html.parser\")"
   ]
  },
  {
   "cell_type": "code",
   "execution_count": null,
   "metadata": {},
   "outputs": [],
   "source": [
    "html"
   ]
  },
  {
   "cell_type": "code",
   "execution_count": 71,
   "metadata": {},
   "outputs": [
    {
     "data": {
      "text/plain": [
       "[]"
      ]
     },
     "execution_count": 71,
     "metadata": {},
     "output_type": "execute_result"
    }
   ],
   "source": [
    "html.find_all('table')"
   ]
  },
  {
   "cell_type": "markdown",
   "metadata": {},
   "source": [
    "### **7.3. Opções possíveis para Webscraping de Ajuste de Derivativos da B3**"
   ]
  },
  {
   "cell_type": "markdown",
   "metadata": {},
   "source": [
    "- Extração simples via requests\n",
    "\n",
    "- Extração direcionada via BeautifulSoup\n",
    "\n",
    "- Extração complexa via Selenium"
   ]
  },
  {
   "cell_type": "markdown",
   "metadata": {},
   "source": [
    "***Atenção!***\n",
    "\n",
    "*Alguns códigos abaixo não funcionam mais com requests. Isso porque o site da B3 mudou o jeito que é carregado. O servidor interrompe a conexão antes de te dar o HTML (ele provavelmente depende de cookies, headers ou execução de JavaScript). Assim é necessário simular o navegador para ele renderizar a página e daí poder fazer a extração.*"
   ]
  },
  {
   "cell_type": "markdown",
   "metadata": {},
   "source": [
    "#### **7.3.1. Extração Simples via Requests**"
   ]
  },
  {
   "cell_type": "markdown",
   "metadata": {},
   "source": [
    "Código Antigo:\n",
    "    \n",
    "```python\t\n",
    "# Não é possível extrair tabelas com request diretamente de páginas que utilizam JavaScript\n",
    "url = \"http://www2.bmf.com.br/pages/portal/bmfbovespa/lumis/lum-ajustes-do-pregao-ptBR.asp\"\n",
    "\n",
    "response = requests.get(url)\n",
    "\n",
    "tables = pd.read_html(response.text)\n",
    "\n",
    "tables[0]\n",
    "```"
   ]
  },
  {
   "cell_type": "markdown",
   "metadata": {},
   "source": [
    "#### **7.3.2. Extração Direcionada via BeautifulSoup**"
   ]
  },
  {
   "cell_type": "markdown",
   "metadata": {},
   "source": [
    "Código Antigo:\n",
    "```python\n",
    "\n",
    "# Não é possível extrair tabelas com request diretamente de páginas que utilizam JavaScript\t\n",
    "url = \"http://www2.bmf.com.br/pages/portal/bmfbovespa/lumis/lum-ajustes-do-pregao-ptBR.asp\"\n",
    "\n",
    "response = requests.get(url)\n",
    "\n",
    "html = BeautifulSoup(response.text, \"html.parser\")\n",
    "\n",
    "tabelas2 = html.find_all('table', id = \"tblDadosAjustes\")\n",
    "\n",
    "type(tabelas2[0])\n",
    "\n",
    "tabelas_str = str(tabelas2)\n",
    "\n",
    "pd.read_html(tabelas_str)[0]\n",
    "\n",
    "display_html(tabelas_str, raw = True)\n",
    "```"
   ]
  },
  {
   "cell_type": "markdown",
   "metadata": {},
   "source": [
    "#### **7.3.3. Extração Complexa via Selenium**"
   ]
  },
  {
   "cell_type": "markdown",
   "metadata": {},
   "source": [
    "Código Antigo:\n",
    "```python\n",
    "# Não é mais necessário baixar o chromedriver e nem definir o caminho dele\n",
    "path = os.getcwd()\n",
    "driver = path + '\\\\Robo_CVM\\\\webdriver\\\\chromedriver.exe'\n",
    "url\n",
    "chromeoptions = webdriver.ChromeOptions()\n",
    "```"
   ]
  },
  {
   "cell_type": "code",
   "execution_count": 88,
   "metadata": {},
   "outputs": [],
   "source": [
    "browser = webdriver.Chrome(options=Options())\n",
    "browser.get(url)"
   ]
  },
  {
   "cell_type": "code",
   "execution_count": 89,
   "metadata": {},
   "outputs": [
    {
     "data": {
      "text/plain": [
       "<selenium.webdriver.remote.webelement.WebElement (session=\"02c989d2363d6b1e1168513b9e8517db\", element=\"f.7C1401051F5FE444F9F4384A2FC1FE08.d.89E293A0D29594CFC5BBA45CDE651071.e.221\")>"
      ]
     },
     "execution_count": 89,
     "metadata": {},
     "output_type": "execute_result"
    }
   ],
   "source": [
    "# Código Antigo\n",
    "# browser.find_element_by_xpath('//*[@id=\"tblDadosAjustes\"]')\n",
    "\n",
    "# Código Novo\n",
    "browser.find_element(By.XPATH, '//*[@id=\"tblDadosAjustes\"]')"
   ]
  },
  {
   "cell_type": "code",
   "execution_count": 92,
   "metadata": {},
   "outputs": [],
   "source": [
    "# Código Antigo\n",
    "# tbl_out = browser.find_element_by_xpath('//*[@id=\"tblDadosAjustes\"]').get_attribute('outerHTML')\n",
    "\n",
    "# Código Novo\n",
    "tbl_out = browser.find_element(By.XPATH, '//*[@id=\"tblDadosAjustes\"]').get_attribute('outerHTML')"
   ]
  },
  {
   "cell_type": "code",
   "execution_count": 93,
   "metadata": {},
   "outputs": [
    {
     "data": {
      "text/plain": [
       "str"
      ]
     },
     "execution_count": 93,
     "metadata": {},
     "output_type": "execute_result"
    }
   ],
   "source": [
    "type(tbl_out)"
   ]
  },
  {
   "cell_type": "code",
   "execution_count": 99,
   "metadata": {},
   "outputs": [],
   "source": [
    "# Código Antigo\n",
    "# df = pd.read_html(tbl_out)\n",
    "\n",
    "# Código Novo\n",
    "df = pd.read_html(StringIO(tbl_out))"
   ]
  },
  {
   "cell_type": "code",
   "execution_count": 98,
   "metadata": {},
   "outputs": [
    {
     "data": {
      "text/plain": [
       "[                                  Mercadoria Vencimento  \\\n",
       " 0           ABEVO - Contrato Futuro de ABEV3        J25   \n",
       " 1           ABEVO - Contrato Futuro de ABEV3        K25   \n",
       " 2      AFS - Rande da África do Sul (em USD)        J25   \n",
       " 3      AFS - Rande da África do Sul (em USD)        K25   \n",
       " 4      AFS - Rande da África do Sul (em USD)        M25   \n",
       " ..                                       ...        ...   \n",
       " 639  ZAR - Rande da África do Sul (em Reais)        J25   \n",
       " 640  ZAR - Rande da África do Sul (em Reais)        K25   \n",
       " 641  ZAR - Rande da África do Sul (em Reais)        M25   \n",
       " 642  ZAR - Rande da África do Sul (em Reais)        N25   \n",
       " 643  ZAR - Rande da África do Sul (em Reais)        Q25   \n",
       " \n",
       "     Preço de ajuste anterior Preço de ajuste Atual Variação  \\\n",
       " 0                       1348                  1354      006   \n",
       " 1                       1359                  1364      005   \n",
       " 2                 18.284,000            18.241,900   -42100   \n",
       " 3                 18.333,900            18.287,300   -46600   \n",
       " 4                 18.380,700            18.334,900   -45800   \n",
       " ..                       ...                   ...      ...   \n",
       " 639               3.139,3980            3.155,2620   158640   \n",
       " 640               3.148,1740            3.164,6820   165080   \n",
       " 641               3.162,4030            3.178,6130   162100   \n",
       " 642               3.175,4880            3.192,3740   168860   \n",
       " 643               3.192,5550            3.209,2180   166630   \n",
       " \n",
       "     Valor do ajuste por contrato (R$)  \n",
       " 0                                 006  \n",
       " 1                                 005  \n",
       " 2                               13264  \n",
       " 3                               14682  \n",
       " 4                               14430  \n",
       " ..                                ...  \n",
       " 639                             55524  \n",
       " 640                             57778  \n",
       " 641                             56735  \n",
       " 642                             59101  \n",
       " 643                             58320  \n",
       " \n",
       " [644 rows x 6 columns]]"
      ]
     },
     "execution_count": 98,
     "metadata": {},
     "output_type": "execute_result"
    }
   ],
   "source": [
    "df"
   ]
  },
  {
   "cell_type": "code",
   "execution_count": 100,
   "metadata": {},
   "outputs": [
    {
     "data": {
      "text/html": [
       "<div>\n",
       "<style scoped>\n",
       "    .dataframe tbody tr th:only-of-type {\n",
       "        vertical-align: middle;\n",
       "    }\n",
       "\n",
       "    .dataframe tbody tr th {\n",
       "        vertical-align: top;\n",
       "    }\n",
       "\n",
       "    .dataframe thead th {\n",
       "        text-align: right;\n",
       "    }\n",
       "</style>\n",
       "<table border=\"1\" class=\"dataframe\">\n",
       "  <thead>\n",
       "    <tr style=\"text-align: right;\">\n",
       "      <th></th>\n",
       "      <th>Mercadoria</th>\n",
       "      <th>Vencimento</th>\n",
       "      <th>Preço de ajuste anterior</th>\n",
       "      <th>Preço de ajuste Atual</th>\n",
       "      <th>Variação</th>\n",
       "      <th>Valor do ajuste por contrato (R$)</th>\n",
       "    </tr>\n",
       "  </thead>\n",
       "  <tbody>\n",
       "    <tr>\n",
       "      <th>0</th>\n",
       "      <td>ABEVO - Contrato Futuro de ABEV3</td>\n",
       "      <td>J25</td>\n",
       "      <td>1348</td>\n",
       "      <td>1354</td>\n",
       "      <td>006</td>\n",
       "      <td>006</td>\n",
       "    </tr>\n",
       "    <tr>\n",
       "      <th>1</th>\n",
       "      <td>ABEVO - Contrato Futuro de ABEV3</td>\n",
       "      <td>K25</td>\n",
       "      <td>1359</td>\n",
       "      <td>1364</td>\n",
       "      <td>005</td>\n",
       "      <td>005</td>\n",
       "    </tr>\n",
       "    <tr>\n",
       "      <th>2</th>\n",
       "      <td>AFS - Rande da África do Sul (em USD)</td>\n",
       "      <td>J25</td>\n",
       "      <td>18.284,000</td>\n",
       "      <td>18.241,900</td>\n",
       "      <td>-42100</td>\n",
       "      <td>13264</td>\n",
       "    </tr>\n",
       "    <tr>\n",
       "      <th>3</th>\n",
       "      <td>AFS - Rande da África do Sul (em USD)</td>\n",
       "      <td>K25</td>\n",
       "      <td>18.333,900</td>\n",
       "      <td>18.287,300</td>\n",
       "      <td>-46600</td>\n",
       "      <td>14682</td>\n",
       "    </tr>\n",
       "    <tr>\n",
       "      <th>4</th>\n",
       "      <td>AFS - Rande da África do Sul (em USD)</td>\n",
       "      <td>M25</td>\n",
       "      <td>18.380,700</td>\n",
       "      <td>18.334,900</td>\n",
       "      <td>-45800</td>\n",
       "      <td>14430</td>\n",
       "    </tr>\n",
       "    <tr>\n",
       "      <th>...</th>\n",
       "      <td>...</td>\n",
       "      <td>...</td>\n",
       "      <td>...</td>\n",
       "      <td>...</td>\n",
       "      <td>...</td>\n",
       "      <td>...</td>\n",
       "    </tr>\n",
       "    <tr>\n",
       "      <th>639</th>\n",
       "      <td>ZAR - Rande da África do Sul (em Reais)</td>\n",
       "      <td>J25</td>\n",
       "      <td>3.139,3980</td>\n",
       "      <td>3.155,2620</td>\n",
       "      <td>158640</td>\n",
       "      <td>55524</td>\n",
       "    </tr>\n",
       "    <tr>\n",
       "      <th>640</th>\n",
       "      <td>ZAR - Rande da África do Sul (em Reais)</td>\n",
       "      <td>K25</td>\n",
       "      <td>3.148,1740</td>\n",
       "      <td>3.164,6820</td>\n",
       "      <td>165080</td>\n",
       "      <td>57778</td>\n",
       "    </tr>\n",
       "    <tr>\n",
       "      <th>641</th>\n",
       "      <td>ZAR - Rande da África do Sul (em Reais)</td>\n",
       "      <td>M25</td>\n",
       "      <td>3.162,4030</td>\n",
       "      <td>3.178,6130</td>\n",
       "      <td>162100</td>\n",
       "      <td>56735</td>\n",
       "    </tr>\n",
       "    <tr>\n",
       "      <th>642</th>\n",
       "      <td>ZAR - Rande da África do Sul (em Reais)</td>\n",
       "      <td>N25</td>\n",
       "      <td>3.175,4880</td>\n",
       "      <td>3.192,3740</td>\n",
       "      <td>168860</td>\n",
       "      <td>59101</td>\n",
       "    </tr>\n",
       "    <tr>\n",
       "      <th>643</th>\n",
       "      <td>ZAR - Rande da África do Sul (em Reais)</td>\n",
       "      <td>Q25</td>\n",
       "      <td>3.192,5550</td>\n",
       "      <td>3.209,2180</td>\n",
       "      <td>166630</td>\n",
       "      <td>58320</td>\n",
       "    </tr>\n",
       "  </tbody>\n",
       "</table>\n",
       "<p>644 rows × 6 columns</p>\n",
       "</div>"
      ],
      "text/plain": [
       "                                  Mercadoria Vencimento  \\\n",
       "0           ABEVO - Contrato Futuro de ABEV3        J25   \n",
       "1           ABEVO - Contrato Futuro de ABEV3        K25   \n",
       "2      AFS - Rande da África do Sul (em USD)        J25   \n",
       "3      AFS - Rande da África do Sul (em USD)        K25   \n",
       "4      AFS - Rande da África do Sul (em USD)        M25   \n",
       "..                                       ...        ...   \n",
       "639  ZAR - Rande da África do Sul (em Reais)        J25   \n",
       "640  ZAR - Rande da África do Sul (em Reais)        K25   \n",
       "641  ZAR - Rande da África do Sul (em Reais)        M25   \n",
       "642  ZAR - Rande da África do Sul (em Reais)        N25   \n",
       "643  ZAR - Rande da África do Sul (em Reais)        Q25   \n",
       "\n",
       "    Preço de ajuste anterior Preço de ajuste Atual Variação  \\\n",
       "0                       1348                  1354      006   \n",
       "1                       1359                  1364      005   \n",
       "2                 18.284,000            18.241,900   -42100   \n",
       "3                 18.333,900            18.287,300   -46600   \n",
       "4                 18.380,700            18.334,900   -45800   \n",
       "..                       ...                   ...      ...   \n",
       "639               3.139,3980            3.155,2620   158640   \n",
       "640               3.148,1740            3.164,6820   165080   \n",
       "641               3.162,4030            3.178,6130   162100   \n",
       "642               3.175,4880            3.192,3740   168860   \n",
       "643               3.192,5550            3.209,2180   166630   \n",
       "\n",
       "    Valor do ajuste por contrato (R$)  \n",
       "0                                 006  \n",
       "1                                 005  \n",
       "2                               13264  \n",
       "3                               14682  \n",
       "4                               14430  \n",
       "..                                ...  \n",
       "639                             55524  \n",
       "640                             57778  \n",
       "641                             56735  \n",
       "642                             59101  \n",
       "643                             58320  \n",
       "\n",
       "[644 rows x 6 columns]"
      ]
     },
     "execution_count": 100,
     "metadata": {},
     "output_type": "execute_result"
    }
   ],
   "source": [
    "df[0]"
   ]
  },
  {
   "cell_type": "markdown",
   "metadata": {},
   "source": [
    "## **8. Extração de Altas e Baixas do Infomoney**"
   ]
  },
  {
   "cell_type": "markdown",
   "metadata": {},
   "source": [
    "***Atenção!***\n",
    "\n",
    "*A página do InfoMoney é renderizado por JavaScript, assim é necessário usar Selenium para simular o navegador e daí renderizar a página para poder fazer a extração. Para fins didáticos usaremos Selenium e BeautifulSoup juntos, mas poderia ser apenas com Selenium.*"
   ]
  },
  {
   "cell_type": "markdown",
   "metadata": {},
   "source": [
    "#### **8.1. Código Antigo**"
   ]
  },
  {
   "cell_type": "markdown",
   "metadata": {},
   "source": [
    "```python\n",
    "url = 'https://www.infomoney.com.br/'\n",
    "response = requests.get(url)\n",
    "html = BeautifulSoup(response.text, \"html.parser\")\n",
    "html.find_all('table')\n",
    "low = html.find('table', id = \"low\")\n",
    "pd.DataFrame(low)\n",
    "\n",
    "### Segunda tentativa de webscraping\n",
    "url2 = 'https://www.infomoney.com.br/ferramentas/altas-e-baixas/'\n",
    "response2 = requests.get(url2)\n",
    "\n",
    "html2 = BeautifulSoup(response2.text, \"html.parser\")\n",
    "html2.find_all('table')\n",
    "\n",
    "### Terceira tentativa de webscraping\n",
    "url = 'https://www.infomoney.com.br/ferramentas/altas-e-baixas/'\n",
    "path = os.getcwd()\n",
    "path\n",
    "## Esse é o caminho do chromedriver na sua máquina:\n",
    "driver = path + '\\\\webdriver\\\\chromedriver.exe'\n",
    "browser = webdriver.Chrome(driver)\n",
    "# Para mais informações, acesse: https://chromedriver.chromium.org/\n",
    "browser.get(url)\n",
    "\n",
    "# 1. Identificar tabela\n",
    "browser.find_element_by_xpath('//*[@id=\"altas_e_baixas\"]')\n",
    "\n",
    "# 2. Clicar na coluna variação diária\n",
    "\n",
    "#Esse é o XPATH para mudar a orientação da coluna //*[@id=\"altas_e_baixas\"]/thead/tr/th[4]\n",
    "\n",
    "browser.find_element_by_xpath('//*[@id=\"altas_e_baixas\"]/thead/tr/th[4]').click()\n",
    "\n",
    "# 3. Extração da tabela para o python\n",
    "tb_din = browser.find_element_by_xpath('//*[@id=\"altas_e_baixas\"]').get_attribute('outerHTML')\n",
    "\n",
    "df = pd.read_html(tb_din, decimal = ',', thousands = '.')\n",
    "\n",
    "df[0]\n",
    "\n",
    "type(df)\n",
    "```"
   ]
  },
  {
   "cell_type": "markdown",
   "metadata": {},
   "source": [
    "#### **8.2. Extração das Maiores Altas e Menores Baixas**"
   ]
  },
  {
   "cell_type": "code",
   "execution_count": 130,
   "metadata": {},
   "outputs": [
    {
     "data": {
      "text/plain": [
       "[<table class=\"border-collapse table-auto w-full\"><thead class=\"text-wl-neutral-500 text-xs\"><tr class=\"[&amp;&gt;*:first-child]:pl-0 [&amp;&gt;*:last-child]:pr-0\"><th class=\"font-normal pb-1 text-left\" scope=\"col\"></th><th class=\"font-normal pb-1 text-right\" scope=\"col\"></th><th class=\"font-normal pb-1 text-right\" scope=\"col\"></th></tr></thead><tbody><tr class=\"[&amp;&gt;*:first-child]:pl-0 [&amp;&gt;*:last-child]:pr-0\"><td class=\"py-1 md:py-2\" scope=\"col\"><a class=\"text-wl-action-link hover:text-wl-action-link-hover hover:underline font-semibold grow\" href=\"/BRKM5\">BRKM5</a></td><td class=\"py-1 md:py-2\" scope=\"col\"><div class=\"text-wl-asset-rise text-nowrap text-right\">+2.65%</div></td><td class=\"py-1 md:py-2\" scope=\"col\"><div class=\"text-sm text-wl-neutral-950 text-nowrap text-right\"><span class=\"text-xs text-wl-neutral-600\">R$</span> 12,03</div></td></tr><tr class=\"[&amp;&gt;*:first-child]:pl-0 [&amp;&gt;*:last-child]:pr-0\"><td class=\"py-1 md:py-2\" scope=\"col\"><a class=\"text-wl-action-link hover:text-wl-action-link-hover hover:underline font-semibold grow\" href=\"/SUZB3\">SUZB3</a></td><td class=\"py-1 md:py-2\" scope=\"col\"><div class=\"text-wl-asset-rise text-nowrap text-right\">+1.00%</div></td><td class=\"py-1 md:py-2\" scope=\"col\"><div class=\"text-sm text-wl-neutral-950 text-nowrap text-right\"><span class=\"text-xs text-wl-neutral-600\">R$</span> 54,44</div></td></tr><tr class=\"[&amp;&gt;*:first-child]:pl-0 [&amp;&gt;*:last-child]:pr-0\"><td class=\"py-1 md:py-2\" scope=\"col\"><a class=\"text-wl-action-link hover:text-wl-action-link-hover hover:underline font-semibold grow\" href=\"/KLBN11\">KLBN11</a></td><td class=\"py-1 md:py-2\" scope=\"col\"><div class=\"text-wl-asset-rise text-nowrap text-right\">+0.99%</div></td><td class=\"py-1 md:py-2\" scope=\"col\"><div class=\"text-sm text-wl-neutral-950 text-nowrap text-right\"><span class=\"text-xs text-wl-neutral-600\">R$</span> 19,38</div></td></tr><tr class=\"[&amp;&gt;*:first-child]:pl-0 [&amp;&gt;*:last-child]:pr-0\"><td class=\"py-1 md:py-2\" scope=\"col\"><a class=\"text-wl-action-link hover:text-wl-action-link-hover hover:underline font-semibold grow\" href=\"/SANB11\">SANB11</a></td><td class=\"py-1 md:py-2\" scope=\"col\"><div class=\"text-wl-asset-rise text-nowrap text-right\">+0.91%</div></td><td class=\"py-1 md:py-2\" scope=\"col\"><div class=\"text-sm text-wl-neutral-950 text-nowrap text-right\"><span class=\"text-xs text-wl-neutral-600\">R$</span> 27,67</div></td></tr><tr class=\"[&amp;&gt;*:first-child]:pl-0 [&amp;&gt;*:last-child]:pr-0\"><td class=\"py-1 md:py-2\" scope=\"col\"><a class=\"text-wl-action-link hover:text-wl-action-link-hover hover:underline font-semibold grow\" href=\"/BEEF3\">BEEF3</a></td><td class=\"py-1 md:py-2\" scope=\"col\"><div class=\"text-wl-asset-rise text-nowrap text-right\">+0.66%</div></td><td class=\"py-1 md:py-2\" scope=\"col\"><div class=\"text-sm text-wl-neutral-950 text-nowrap text-right\"><span class=\"text-xs text-wl-neutral-600\">R$</span> 6,11</div></td></tr></tbody></table>,\n",
       " <table class=\"border-collapse table-auto w-full\"><thead class=\"text-wl-neutral-500 text-xs\"><tr class=\"[&amp;&gt;*:first-child]:pl-0 [&amp;&gt;*:last-child]:pr-0\"><th class=\"font-normal pb-1 text-left\" scope=\"col\"></th><th class=\"font-normal pb-1 text-right\" scope=\"col\"></th><th class=\"font-normal pb-1 text-right\" scope=\"col\"></th></tr></thead><tbody><tr class=\"[&amp;&gt;*:first-child]:pl-0 [&amp;&gt;*:last-child]:pr-0\"><td class=\"py-1 md:py-2\" scope=\"col\"><a class=\"text-wl-action-link hover:text-wl-action-link-hover hover:underline font-semibold grow\" href=\"/VAMO3\">VAMO3</a></td><td class=\"py-1 md:py-2\" scope=\"col\"><div class=\"text-wl-asset-down text-nowrap text-right\">-4.27%</div></td><td class=\"py-1 md:py-2\" scope=\"col\"><div class=\"text-sm text-wl-neutral-950 text-nowrap text-right\"><span class=\"text-xs text-wl-neutral-600\">R$</span> 4,93</div></td></tr><tr class=\"[&amp;&gt;*:first-child]:pl-0 [&amp;&gt;*:last-child]:pr-0\"><td class=\"py-1 md:py-2\" scope=\"col\"><a class=\"text-wl-action-link hover:text-wl-action-link-hover hover:underline font-semibold grow\" href=\"/HAPV3\">HAPV3</a></td><td class=\"py-1 md:py-2\" scope=\"col\"><div class=\"text-wl-asset-down text-nowrap text-right\">-2.98%</div></td><td class=\"py-1 md:py-2\" scope=\"col\"><div class=\"text-sm text-wl-neutral-950 text-nowrap text-right\"><span class=\"text-xs text-wl-neutral-600\">R$</span> 2,28</div></td></tr><tr class=\"[&amp;&gt;*:first-child]:pl-0 [&amp;&gt;*:last-child]:pr-0\"><td class=\"py-1 md:py-2\" scope=\"col\"><a class=\"text-wl-action-link hover:text-wl-action-link-hover hover:underline font-semibold grow\" href=\"/AZZA3\">AZZA3</a></td><td class=\"py-1 md:py-2\" scope=\"col\"><div class=\"text-wl-asset-down text-nowrap text-right\">-2.40%</div></td><td class=\"py-1 md:py-2\" scope=\"col\"><div class=\"text-sm text-wl-neutral-950 text-nowrap text-right\"><span class=\"text-xs text-wl-neutral-600\">R$</span> 24,40</div></td></tr><tr class=\"[&amp;&gt;*:first-child]:pl-0 [&amp;&gt;*:last-child]:pr-0\"><td class=\"py-1 md:py-2\" scope=\"col\"><a class=\"text-wl-action-link hover:text-wl-action-link-hover hover:underline font-semibold grow\" href=\"/MGLU3\">MGLU3</a></td><td class=\"py-1 md:py-2\" scope=\"col\"><div class=\"text-wl-asset-down text-nowrap text-right\">-2.39%</div></td><td class=\"py-1 md:py-2\" scope=\"col\"><div class=\"text-sm text-wl-neutral-950 text-nowrap text-right\"><span class=\"text-xs text-wl-neutral-600\">R$</span> 10,61</div></td></tr><tr class=\"[&amp;&gt;*:first-child]:pl-0 [&amp;&gt;*:last-child]:pr-0\"><td class=\"py-1 md:py-2\" scope=\"col\"><a class=\"text-wl-action-link hover:text-wl-action-link-hover hover:underline font-semibold grow\" href=\"/ELET6\">ELET6</a></td><td class=\"py-1 md:py-2\" scope=\"col\"><div class=\"text-wl-asset-down text-nowrap text-right\">-1.86%</div></td><td class=\"py-1 md:py-2\" scope=\"col\"><div class=\"text-sm text-wl-neutral-950 text-nowrap text-right\"><span class=\"text-xs text-wl-neutral-600\">R$</span> 44,37</div></td></tr></tbody></table>,\n",
       " <table class=\"border-collapse table-auto w-full\"><thead class=\"text-wl-neutral-500 text-xs\"><tr class=\"[&amp;&gt;*:first-child]:pl-0 [&amp;&gt;*:last-child]:pr-0\"><th class=\"font-normal pb-1 text-left\" scope=\"col\">Moeda</th><th class=\"font-normal pb-1 text-right\" scope=\"col\">Compra</th><th class=\"font-normal pb-1 text-right\" scope=\"col\">Venda</th></tr></thead><tbody><tr class=\"[&amp;&gt;*:first-child]:pl-0 [&amp;&gt;*:last-child]:pr-0\"><td class=\"py-1 md:py-1\" scope=\"col\"><a class=\"text-wl-action-link hover:text-wl-action-link-hover hover:underline font-semibold grow\" href=\"/cotacoes/cambio/moeda/dolar/\">Dólar Comercial</a></td><td class=\"py-1 md:py-1\" scope=\"col\"><div class=\"text-sm text-wl-neutral-950 text-nowrap text-right\"><span class=\"text-xs text-wl-neutral-600\">R$</span> 5,761</div></td><td class=\"py-1 md:py-1\" scope=\"col\"><div class=\"text-sm text-wl-neutral-950 text-nowrap text-right\"><span class=\"text-xs text-wl-neutral-600\">R$</span> 5,763</div></td></tr><tr class=\"[&amp;&gt;*:first-child]:pl-0 [&amp;&gt;*:last-child]:pr-0\"><td class=\"py-1 md:py-1\" scope=\"col\"><a class=\"text-wl-action-link hover:text-wl-action-link-hover hover:underline font-semibold grow\" href=\"/cotacoes/cambio/moeda/dolar/\">Dólar Turismo</a></td><td class=\"py-1 md:py-1\" scope=\"col\"><div class=\"text-sm text-wl-neutral-950 text-nowrap text-right\"><span class=\"text-xs text-wl-neutral-600\">R$</span> 5,814</div></td><td class=\"py-1 md:py-1\" scope=\"col\"><div class=\"text-sm text-wl-neutral-950 text-nowrap text-right\"><span class=\"text-xs text-wl-neutral-600\">R$</span> 5,994</div></td></tr><tr class=\"[&amp;&gt;*:first-child]:pl-0 [&amp;&gt;*:last-child]:pr-0\"><td class=\"py-1 md:py-1\" scope=\"col\"><a class=\"text-wl-action-link hover:text-wl-action-link-hover hover:underline font-semibold grow\" href=\"/ferramentas/cambio/\">Euro</a></td><td class=\"py-1 md:py-1\" scope=\"col\"><div class=\"text-sm text-wl-neutral-950 text-nowrap text-right\"><span class=\"text-xs text-wl-neutral-600\">R$</span> 6,227</div></td><td class=\"py-1 md:py-1\" scope=\"col\"><div class=\"text-sm text-wl-neutral-950 text-nowrap text-right\"><span class=\"text-xs text-wl-neutral-600\">R$</span> 6,228</div></td></tr></tbody></table>,\n",
       " <table class=\"border-collapse table-auto w-full\"><thead class=\"text-wl-neutral-500 text-xs\"><tr class=\"[&amp;&gt;*:first-child]:pl-0 [&amp;&gt;*:last-child]:pr-0\"><th class=\"font-normal pb-1 text-left\" scope=\"col\"></th><th class=\"font-normal pb-1 text-right\" scope=\"col\"></th><th class=\"font-normal pb-1 text-right\" scope=\"col\"></th></tr></thead><tbody><tr class=\"[&amp;&gt;*:first-child]:pl-0 [&amp;&gt;*:last-child]:pr-0\"><td class=\"py-1 md:py-1\" scope=\"col\"><a class=\"text-wl-action-link hover:text-wl-action-link-hover hover:underline font-semibold grow\" href=\"/BTC\">Bitcoin</a></td><td class=\"py-1 md:py-1\" scope=\"col\"><div class=\"text-wl-asset-down text-nowrap text-right\">-1.19%</div></td><td class=\"py-1 md:py-1\" scope=\"col\"><div class=\"text-sm text-wl-neutral-950 text-nowrap text-right\"><span class=\"text-xs text-wl-neutral-600\">R$</span> 492.002,00</div></td></tr><tr class=\"[&amp;&gt;*:first-child]:pl-0 [&amp;&gt;*:last-child]:pr-0\"><td class=\"py-1 md:py-1\" scope=\"col\"><a class=\"text-wl-action-link hover:text-wl-action-link-hover hover:underline font-semibold grow\" href=\"/ETH\">Ethereum</a></td><td class=\"py-1 md:py-1\" scope=\"col\"><div class=\"text-wl-asset-down text-nowrap text-right\">-5.61%</div></td><td class=\"py-1 md:py-1\" scope=\"col\"><div class=\"text-sm text-wl-neutral-950 text-nowrap text-right\"><span class=\"text-xs text-wl-neutral-600\">R$</span> 10.924,01</div></td></tr></tbody></table>]"
      ]
     },
     "execution_count": 130,
     "metadata": {},
     "output_type": "execute_result"
    }
   ],
   "source": [
    "url = 'https://www.infomoney.com.br/'\n",
    "\n",
    "options = Options()\n",
    "\n",
    "browser = webdriver.Chrome(options=options)\n",
    "browser.get(url)\n",
    "\n",
    "# Esperar a página carregar (para carregar mais rápido role a página para baixo)\n",
    "time.sleep(5)\n",
    "\n",
    "# Pegar o HTML da página renderizada\n",
    "html = browser.page_source\n",
    "soup = BeautifulSoup(html, \"html.parser\")\n",
    "\n",
    "# Encontrar tabelas\n",
    "soup.find_all('table')"
   ]
  },
  {
   "cell_type": "code",
   "execution_count": 114,
   "metadata": {},
   "outputs": [
    {
     "data": {
      "text/plain": [
       "[  Unnamed: 0 Unnamed: 1 Unnamed: 2\n",
       " 0      JBSS3     +5.83%   R$ 41,95\n",
       " 1      HAPV3     +5.38%    R$ 2,35\n",
       " 2      COGN3     +5.15%    R$ 2,04\n",
       " 3      YDUQ3     +4.93%   R$ 12,14\n",
       " 4      BEEF3     +4.84%    R$ 6,07]"
      ]
     },
     "execution_count": 114,
     "metadata": {},
     "output_type": "execute_result"
    }
   ],
   "source": [
    "# Código Antigo\n",
    "# low = soup.find('table', id = \"low\")\n",
    "\n",
    "# Podemos observar que o id \"low\" não existe no HTML da página, apenas o class\n",
    "class_table = soup.find('table', class_='border-collapse table-auto w-full')\n",
    "\n",
    "html_table = str(class_table)\n",
    "df = pd.read_html(StringIO(html_table))\n",
    "df"
   ]
  },
  {
   "cell_type": "code",
   "execution_count": 128,
   "metadata": {},
   "outputs": [
    {
     "name": "stdout",
     "output_type": "stream",
     "text": [
      "Maiores Altas\n",
      "0   BEEF3  +1.15%   R$ 6,14\n",
      "0   SUZB3  +0.83%  R$ 54,35\n",
      "1   EMBR3  +0.64%  R$ 68,76\n",
      "2  KLBN11  +0.63%  R$ 19,31\n",
      "3  SANB11  +0.62%  R$ 27,59\n",
      "--------------------------------------------------\n",
      "Menores Baixas\n",
      "0  AMOB3  -3.85%   R$ 0,25\n",
      "0  VAMO3  -2.52%   R$ 5,02\n",
      "1  HAPV3  -2.13%   R$ 2,30\n",
      "2  AZZA3  -2.00%  R$ 24,50\n",
      "3  MGLU3  -1.47%  R$ 10,71\n",
      "--------------------------------------------------\n",
      "Moedas\n",
      "             Moeda    Compra     Venda\n",
      "0  Dólar Comercial  R$ 5,768  R$ 5,769\n",
      "1    Dólar Turismo  R$ 5,797  R$ 5,977\n",
      "2             Euro  R$ 6,232  R$ 6,233\n",
      "--------------------------------------------------\n",
      "Criptoativos\n",
      "0   Bitcoin  -2.04% R$ 490.029,00\n",
      "0  Ethereum  -6.69%  R$ 10.865,80\n",
      "--------------------------------------------------\n"
     ]
    }
   ],
   "source": [
    "# Pegando todas as tabelas\n",
    "tables = soup.find_all('table')\n",
    "\n",
    "tables_name = ['Maiores Altas', 'Menores Baixas', 'Moedas', 'Criptoativos']\n",
    "\n",
    "# Loop para pegar o conteúdo de cada título e tabela das tabelas\n",
    "for i, table in enumerate(tables):\n",
    "    html_table = str(table)\n",
    "    df = (pd.read_html(StringIO(html_table)))[0]\n",
    "    \n",
    "    # Configurando dataframe para não exibir o cabeçalho caso ele seja Unnamed\n",
    "    if all(col.startswith('Unnamed') for col in df.columns):\n",
    "        df.columns = df.iloc[0]      # Pega a primeira linha como cabeçalho\n",
    "        df = df.drop(df.index[0])    # Remove a linha do DataFrame\n",
    "        df = df.reset_index(drop=True)\n",
    "    print(tables_name[i])\n",
    "    print(df)\n",
    "    print('-'*50)"
   ]
  },
  {
   "cell_type": "markdown",
   "metadata": {},
   "source": [
    "#### **8.1. Extração da Tabela Completa**"
   ]
  },
  {
   "cell_type": "markdown",
   "metadata": {},
   "source": [
    "Identificação da tag da tabela:\n",
    "\n",
    "![Tabela](imagens/html9.png)"
   ]
  },
  {
   "cell_type": "code",
   "execution_count": 132,
   "metadata": {},
   "outputs": [
    {
     "data": {
      "text/html": [
       "<div>\n",
       "<style scoped>\n",
       "    .dataframe tbody tr th:only-of-type {\n",
       "        vertical-align: middle;\n",
       "    }\n",
       "\n",
       "    .dataframe tbody tr th {\n",
       "        vertical-align: top;\n",
       "    }\n",
       "\n",
       "    .dataframe thead th {\n",
       "        text-align: right;\n",
       "    }\n",
       "</style>\n",
       "<table border=\"1\" class=\"dataframe\">\n",
       "  <thead>\n",
       "    <tr style=\"text-align: right;\">\n",
       "      <th></th>\n",
       "      <th>Ativo</th>\n",
       "      <th>Data</th>\n",
       "      <th>Último (R$)</th>\n",
       "      <th>Var. Dia (%)</th>\n",
       "      <th>Var. Sem. (%)</th>\n",
       "      <th>Var. Mês (%)</th>\n",
       "      <th>Var. Ano (%)</th>\n",
       "      <th>Var. 12M (%)</th>\n",
       "      <th>Val. Mín</th>\n",
       "      <th>Val. Máx</th>\n",
       "      <th>Volume</th>\n",
       "    </tr>\n",
       "  </thead>\n",
       "  <tbody>\n",
       "    <tr>\n",
       "      <th>0</th>\n",
       "      <td>BRKM5</td>\n",
       "      <td>10h20</td>\n",
       "      <td>1205</td>\n",
       "      <td>282</td>\n",
       "      <td>1035</td>\n",
       "      <td>985</td>\n",
       "      <td>406</td>\n",
       "      <td>-5436.0</td>\n",
       "      <td>1165</td>\n",
       "      <td>1219</td>\n",
       "      <td>7,24 M</td>\n",
       "    </tr>\n",
       "    <tr>\n",
       "      <th>1</th>\n",
       "      <td>SUZB3</td>\n",
       "      <td>10h20</td>\n",
       "      <td>5426</td>\n",
       "      <td>67</td>\n",
       "      <td>-17</td>\n",
       "      <td>-364</td>\n",
       "      <td>-1217</td>\n",
       "      <td>-1286.0</td>\n",
       "      <td>5422</td>\n",
       "      <td>5468</td>\n",
       "      <td>413,97 M</td>\n",
       "    </tr>\n",
       "    <tr>\n",
       "      <th>2</th>\n",
       "      <td>BEEF3</td>\n",
       "      <td>10h20</td>\n",
       "      <td>611</td>\n",
       "      <td>66</td>\n",
       "      <td>304</td>\n",
       "      <td>3824</td>\n",
       "      <td>2004</td>\n",
       "      <td>-948.0</td>\n",
       "      <td>603</td>\n",
       "      <td>616</td>\n",
       "      <td>83,2 M</td>\n",
       "    </tr>\n",
       "    <tr>\n",
       "      <th>3</th>\n",
       "      <td>MRFG3</td>\n",
       "      <td>10h21</td>\n",
       "      <td>1794</td>\n",
       "      <td>62</td>\n",
       "      <td>-148</td>\n",
       "      <td>3162</td>\n",
       "      <td>534</td>\n",
       "      <td>10301.0</td>\n",
       "      <td>1774</td>\n",
       "      <td>1799</td>\n",
       "      <td>110,49 M</td>\n",
       "    </tr>\n",
       "    <tr>\n",
       "      <th>4</th>\n",
       "      <td>VBBR3</td>\n",
       "      <td>10h21</td>\n",
       "      <td>1822</td>\n",
       "      <td>55</td>\n",
       "      <td>423</td>\n",
       "      <td>870</td>\n",
       "      <td>371</td>\n",
       "      <td>-2103.0</td>\n",
       "      <td>1801</td>\n",
       "      <td>1823</td>\n",
       "      <td>179,12 M</td>\n",
       "    </tr>\n",
       "    <tr>\n",
       "      <th>...</th>\n",
       "      <td>...</td>\n",
       "      <td>...</td>\n",
       "      <td>...</td>\n",
       "      <td>...</td>\n",
       "      <td>...</td>\n",
       "      <td>...</td>\n",
       "      <td>...</td>\n",
       "      <td>...</td>\n",
       "      <td>...</td>\n",
       "      <td>...</td>\n",
       "      <td>...</td>\n",
       "    </tr>\n",
       "    <tr>\n",
       "      <th>76</th>\n",
       "      <td>ELET3</td>\n",
       "      <td>10h20</td>\n",
       "      <td>4092</td>\n",
       "      <td>-180</td>\n",
       "      <td>-241</td>\n",
       "      <td>706</td>\n",
       "      <td>1989</td>\n",
       "      <td>168.0</td>\n",
       "      <td>4089</td>\n",
       "      <td>4135</td>\n",
       "      <td>356,83 M</td>\n",
       "    </tr>\n",
       "    <tr>\n",
       "      <th>77</th>\n",
       "      <td>MGLU3</td>\n",
       "      <td>10h20</td>\n",
       "      <td>1067</td>\n",
       "      <td>-184</td>\n",
       "      <td>564</td>\n",
       "      <td>4923</td>\n",
       "      <td>6415</td>\n",
       "      <td>-4072.0</td>\n",
       "      <td>1048</td>\n",
       "      <td>1084</td>\n",
       "      <td>459,99 M</td>\n",
       "    </tr>\n",
       "    <tr>\n",
       "      <th>78</th>\n",
       "      <td>AZZA3</td>\n",
       "      <td>10h20</td>\n",
       "      <td>2447</td>\n",
       "      <td>-212</td>\n",
       "      <td>196</td>\n",
       "      <td>-588</td>\n",
       "      <td>-1728</td>\n",
       "      <td>-6098.0</td>\n",
       "      <td>2434</td>\n",
       "      <td>2479</td>\n",
       "      <td>50,54 M</td>\n",
       "    </tr>\n",
       "    <tr>\n",
       "      <th>79</th>\n",
       "      <td>HAPV3</td>\n",
       "      <td>10h20</td>\n",
       "      <td>230</td>\n",
       "      <td>-213</td>\n",
       "      <td>599</td>\n",
       "      <td>900</td>\n",
       "      <td>314</td>\n",
       "      <td>-3784.0</td>\n",
       "      <td>228</td>\n",
       "      <td>233</td>\n",
       "      <td>208,73 M</td>\n",
       "    </tr>\n",
       "    <tr>\n",
       "      <th>80</th>\n",
       "      <td>VAMO3</td>\n",
       "      <td>10h20</td>\n",
       "      <td>493</td>\n",
       "      <td>-427</td>\n",
       "      <td>1281</td>\n",
       "      <td>2940</td>\n",
       "      <td>379</td>\n",
       "      <td>-3636.0</td>\n",
       "      <td>490</td>\n",
       "      <td>510</td>\n",
       "      <td>61,89 M</td>\n",
       "    </tr>\n",
       "  </tbody>\n",
       "</table>\n",
       "<p>81 rows × 11 columns</p>\n",
       "</div>"
      ],
      "text/plain": [
       "    Ativo   Data  Último (R$)  Var. Dia (%)  Var. Sem. (%)  Var. Mês (%)  \\\n",
       "0   BRKM5  10h20         1205           282           1035           985   \n",
       "1   SUZB3  10h20         5426            67            -17          -364   \n",
       "2   BEEF3  10h20          611            66            304          3824   \n",
       "3   MRFG3  10h21         1794            62           -148          3162   \n",
       "4   VBBR3  10h21         1822            55            423           870   \n",
       "..    ...    ...          ...           ...            ...           ...   \n",
       "76  ELET3  10h20         4092          -180           -241           706   \n",
       "77  MGLU3  10h20         1067          -184            564          4923   \n",
       "78  AZZA3  10h20         2447          -212            196          -588   \n",
       "79  HAPV3  10h20          230          -213            599           900   \n",
       "80  VAMO3  10h20          493          -427           1281          2940   \n",
       "\n",
       "    Var. Ano (%)  Var. 12M (%)  Val. Mín  Val. Máx    Volume  \n",
       "0            406       -5436.0      1165      1219    7,24 M  \n",
       "1          -1217       -1286.0      5422      5468  413,97 M  \n",
       "2           2004        -948.0       603       616    83,2 M  \n",
       "3            534       10301.0      1774      1799  110,49 M  \n",
       "4            371       -2103.0      1801      1823  179,12 M  \n",
       "..           ...           ...       ...       ...       ...  \n",
       "76          1989         168.0      4089      4135  356,83 M  \n",
       "77          6415       -4072.0      1048      1084  459,99 M  \n",
       "78         -1728       -6098.0      2434      2479   50,54 M  \n",
       "79           314       -3784.0       228       233  208,73 M  \n",
       "80           379       -3636.0       490       510   61,89 M  \n",
       "\n",
       "[81 rows x 11 columns]"
      ]
     },
     "execution_count": 132,
     "metadata": {},
     "output_type": "execute_result"
    }
   ],
   "source": [
    "url = 'https://www.infomoney.com.br/ferramentas/altas-e-baixas/'\n",
    "\n",
    "options = Options()\n",
    "\n",
    "browser = webdriver.Chrome(options=options)\n",
    "browser.get(url)\n",
    "\n",
    "# Esperar a página carregar (para carregar mais rápido role a página para baixo)\n",
    "time.sleep(3)\n",
    "\n",
    "# Identificando a tabela que está na tag div com o id \"container_table\"\n",
    "html = browser.page_source\n",
    "soup = BeautifulSoup(html, \"html.parser\")\n",
    "table_div = soup.find('div', id = 'container_table')\n",
    "\n",
    "# Pegando o HTML da tabela\n",
    "html_table = str(table_div)\n",
    "\n",
    "# Lendo a tabela com o pandas\n",
    "df = pd.read_html(StringIO(html_table))[0]\n",
    "df\n"
   ]
  },
  {
   "cell_type": "code",
   "execution_count": 133,
   "metadata": {},
   "outputs": [
    {
     "data": {
      "text/plain": [
       "pandas.core.frame.DataFrame"
      ]
     },
     "execution_count": 133,
     "metadata": {},
     "output_type": "execute_result"
    }
   ],
   "source": [
    "type(df)"
   ]
  },
  {
   "cell_type": "markdown",
   "metadata": {},
   "source": [
    "## **9. Pytrends**"
   ]
  },
  {
   "cell_type": "markdown",
   "metadata": {},
   "source": [
    "#### **9.1. Dados alternativos podem gerar algum alpha?**"
   ]
  },
  {
   "cell_type": "markdown",
   "metadata": {},
   "source": [
    "##### *Um pequeno estudo usando a biblioteca pytrends*\n",
    "\n",
    "![Pytrends](imagens/trends1.png)"
   ]
  },
  {
   "cell_type": "markdown",
   "metadata": {},
   "source": [
    "Os nossos objetivos nesta aula serão os seguintes:\n",
    "\n",
    "1. Conhecer a lib PyTrends, entender como funciona e como captura os dados do Google Trends\n",
    "2. Entender as principais funções e métodos da biblioteca e entender sua sintaxe\n",
    "3. Desenvolver formas de como utilizar essas informações no mercado financeiro"
   ]
  },
  {
   "cell_type": "markdown",
   "metadata": {},
   "source": [
    "### **9.2. O que é Google Trends**"
   ]
  },
  {
   "cell_type": "markdown",
   "metadata": {},
   "source": [
    "<img src=\"https://github.com/victorncg/financas_quantitativas/blob/main/GOOGLE%20TRENDS.png?raw=true\" width=\"1000\" align=\"left\"/>"
   ]
  },
  {
   "cell_type": "markdown",
   "metadata": {},
   "source": [
    "Link: https://trends.google.com/trends"
   ]
  },
  {
   "cell_type": "markdown",
   "metadata": {},
   "source": [
    "### **9.3. Pytrends**"
   ]
  },
  {
   "cell_type": "markdown",
   "metadata": {},
   "source": [
    "***Atenção!***\n",
    "\n",
    "*O Pytrends não está funcionando no momento. Mas o criador voltará a dar manutenção à biblioteca segundo anúncio dele pelo github https://github.com/GeneralMills/pytrends/issues/636*"
   ]
  },
  {
   "cell_type": "markdown",
   "metadata": {},
   "source": [
    "Perceba que o Google Trends NÃO possui uma API de fato.\n",
    "\n",
    "O que a Pytrends faz é acessar a página do Google Trends por trás como se fosse uma API, fazendo os requests de acordo com os pedidos do usuário\n",
    "\n",
    "Isso fica ainda mais claro quando você verifica a documentação.\n",
    "\n",
    "Para você usar como referência:\n",
    "\n",
    "Documentação no PyPi: https://pypi.org/project/pytrends/\n",
    "\n",
    "Código-fonte no Github: https://github.com/GeneralMills/pytrends\n",
    "\n",
    "Como a lib faz os requests: https://github.com/GeneralMills/pytrends/blob/master/pytrends/request.py\n",
    "\n",
    "FAQ e maior detalhamento dos métodos\n",
    "\n",
    "https://lazarinastoy.com/the-ultimate-guide-to-pytrends-google-trends-api-with-python/"
   ]
  },
  {
   "cell_type": "markdown",
   "metadata": {},
   "source": [
    "#### **9.3.1. Entendendo a Biblioteca**"
   ]
  },
  {
   "cell_type": "markdown",
   "metadata": {},
   "source": [
    "##### **9.3.1.1. Exploração Inicial**"
   ]
  },
  {
   "cell_type": "markdown",
   "metadata": {},
   "source": [
    "Na primeira seção da nossa aula, vamos fazer uma obtenção básica de dados do Google Trends e tentar tirar algumas conclusões.\n",
    "\n",
    "A nossa primeira tarefa é setar os parâmetros básicos da nossa requisição.\n",
    "\n",
    "Faremos isso com a função \"TrendReq\""
   ]
  },
  {
   "cell_type": "code",
   "execution_count": 11,
   "metadata": {},
   "outputs": [],
   "source": [
    "pytrends = TrendReq(hl = 'en-US', tz = 360)"
   ]
  },
  {
   "cell_type": "markdown",
   "metadata": {},
   "source": [
    "Aparentemente podemos fazer as requisições tanto em inglês quanto português."
   ]
  },
  {
   "cell_type": "code",
   "execution_count": 12,
   "metadata": {},
   "outputs": [],
   "source": [
    "termos = ['petrobras', 'dólar']"
   ]
  },
  {
   "cell_type": "code",
   "execution_count": 13,
   "metadata": {},
   "outputs": [],
   "source": [
    "termos = ['petrobras', 'dólar']"
   ]
  },
  {
   "cell_type": "code",
   "execution_count": 14,
   "metadata": {},
   "outputs": [
    {
     "ename": "TooManyRequestsError",
     "evalue": "The request failed: Google returned a response with code 429",
     "output_type": "error",
     "traceback": [
      "\u001b[1;31m---------------------------------------------------------------------------\u001b[0m",
      "\u001b[1;31mTooManyRequestsError\u001b[0m                      Traceback (most recent call last)",
      "Cell \u001b[1;32mIn[14], line 1\u001b[0m\n\u001b[1;32m----> 1\u001b[0m \u001b[43mpytrends\u001b[49m\u001b[38;5;241;43m.\u001b[39;49m\u001b[43mbuild_payload\u001b[49m\u001b[43m(\u001b[49m\u001b[43mtermos\u001b[49m\u001b[43m,\u001b[49m\u001b[43m \u001b[49m\u001b[43mcat\u001b[49m\u001b[43m \u001b[49m\u001b[38;5;241;43m=\u001b[39;49m\u001b[43m \u001b[49m\u001b[38;5;241;43m0\u001b[39;49m\u001b[43m,\u001b[49m\u001b[43m \u001b[49m\u001b[43mtimeframe\u001b[49m\u001b[43m \u001b[49m\u001b[38;5;241;43m=\u001b[39;49m\u001b[43m \u001b[49m\u001b[38;5;124;43m'\u001b[39;49m\u001b[38;5;124;43mall\u001b[39;49m\u001b[38;5;124;43m'\u001b[39;49m\u001b[43m,\u001b[49m\u001b[43m \u001b[49m\u001b[43mgprop\u001b[49m\u001b[43m \u001b[49m\u001b[38;5;241;43m=\u001b[39;49m\u001b[43m \u001b[49m\u001b[38;5;124;43m'\u001b[39;49m\u001b[38;5;124;43m'\u001b[39;49m\u001b[43m)\u001b[49m\n\u001b[0;32m      2\u001b[0m busca \u001b[38;5;241m=\u001b[39m pytrends\u001b[38;5;241m.\u001b[39minterest_over_time()\n",
      "File \u001b[1;32md:\\current_projects\\material_PMF_2.0\\.venv\\Lib\\site-packages\\pytrends\\request.py:189\u001b[0m, in \u001b[0;36mTrendReq.build_payload\u001b[1;34m(self, kw_list, cat, timeframe, geo, gprop)\u001b[0m\n\u001b[0;32m    187\u001b[0m \u001b[38;5;28mself\u001b[39m\u001b[38;5;241m.\u001b[39mtoken_payload[\u001b[38;5;124m'\u001b[39m\u001b[38;5;124mreq\u001b[39m\u001b[38;5;124m'\u001b[39m] \u001b[38;5;241m=\u001b[39m json\u001b[38;5;241m.\u001b[39mdumps(\u001b[38;5;28mself\u001b[39m\u001b[38;5;241m.\u001b[39mtoken_payload[\u001b[38;5;124m'\u001b[39m\u001b[38;5;124mreq\u001b[39m\u001b[38;5;124m'\u001b[39m])\n\u001b[0;32m    188\u001b[0m \u001b[38;5;66;03m# get tokens\u001b[39;00m\n\u001b[1;32m--> 189\u001b[0m \u001b[38;5;28;43mself\u001b[39;49m\u001b[38;5;241;43m.\u001b[39;49m\u001b[43m_tokens\u001b[49m\u001b[43m(\u001b[49m\u001b[43m)\u001b[49m\n\u001b[0;32m    190\u001b[0m \u001b[38;5;28;01mreturn\u001b[39;00m\n",
      "File \u001b[1;32md:\\current_projects\\material_PMF_2.0\\.venv\\Lib\\site-packages\\pytrends\\request.py:195\u001b[0m, in \u001b[0;36mTrendReq._tokens\u001b[1;34m(self)\u001b[0m\n\u001b[0;32m    193\u001b[0m \u001b[38;5;250m\u001b[39m\u001b[38;5;124;03m\"\"\"Makes request to Google to get API tokens for interest over time, interest by region and related queries\"\"\"\u001b[39;00m\n\u001b[0;32m    194\u001b[0m \u001b[38;5;66;03m# make the request and parse the returned json\u001b[39;00m\n\u001b[1;32m--> 195\u001b[0m widget_dicts \u001b[38;5;241m=\u001b[39m \u001b[38;5;28;43mself\u001b[39;49m\u001b[38;5;241;43m.\u001b[39;49m\u001b[43m_get_data\u001b[49m\u001b[43m(\u001b[49m\n\u001b[0;32m    196\u001b[0m \u001b[43m    \u001b[49m\u001b[43murl\u001b[49m\u001b[38;5;241;43m=\u001b[39;49m\u001b[43mTrendReq\u001b[49m\u001b[38;5;241;43m.\u001b[39;49m\u001b[43mGENERAL_URL\u001b[49m\u001b[43m,\u001b[49m\n\u001b[0;32m    197\u001b[0m \u001b[43m    \u001b[49m\u001b[43mmethod\u001b[49m\u001b[38;5;241;43m=\u001b[39;49m\u001b[43mTrendReq\u001b[49m\u001b[38;5;241;43m.\u001b[39;49m\u001b[43mPOST_METHOD\u001b[49m\u001b[43m,\u001b[49m\n\u001b[0;32m    198\u001b[0m \u001b[43m    \u001b[49m\u001b[43mparams\u001b[49m\u001b[38;5;241;43m=\u001b[39;49m\u001b[38;5;28;43mself\u001b[39;49m\u001b[38;5;241;43m.\u001b[39;49m\u001b[43mtoken_payload\u001b[49m\u001b[43m,\u001b[49m\n\u001b[0;32m    199\u001b[0m \u001b[43m    \u001b[49m\u001b[43mtrim_chars\u001b[49m\u001b[38;5;241;43m=\u001b[39;49m\u001b[38;5;241;43m4\u001b[39;49m\u001b[43m,\u001b[49m\n\u001b[0;32m    200\u001b[0m \u001b[43m\u001b[49m\u001b[43m)\u001b[49m[\u001b[38;5;124m'\u001b[39m\u001b[38;5;124mwidgets\u001b[39m\u001b[38;5;124m'\u001b[39m]\n\u001b[0;32m    201\u001b[0m \u001b[38;5;66;03m# order of the json matters...\u001b[39;00m\n\u001b[0;32m    202\u001b[0m first_region_token \u001b[38;5;241m=\u001b[39m \u001b[38;5;28;01mTrue\u001b[39;00m\n",
      "File \u001b[1;32md:\\current_projects\\material_PMF_2.0\\.venv\\Lib\\site-packages\\pytrends\\request.py:159\u001b[0m, in \u001b[0;36mTrendReq._get_data\u001b[1;34m(self, url, method, trim_chars, **kwargs)\u001b[0m\n\u001b[0;32m    157\u001b[0m \u001b[38;5;28;01melse\u001b[39;00m:\n\u001b[0;32m    158\u001b[0m     \u001b[38;5;28;01mif\u001b[39;00m response\u001b[38;5;241m.\u001b[39mstatus_code \u001b[38;5;241m==\u001b[39m status_codes\u001b[38;5;241m.\u001b[39mcodes\u001b[38;5;241m.\u001b[39mtoo_many_requests:\n\u001b[1;32m--> 159\u001b[0m         \u001b[38;5;28;01mraise\u001b[39;00m exceptions\u001b[38;5;241m.\u001b[39mTooManyRequestsError\u001b[38;5;241m.\u001b[39mfrom_response(response)\n\u001b[0;32m    160\u001b[0m     \u001b[38;5;28;01mraise\u001b[39;00m exceptions\u001b[38;5;241m.\u001b[39mResponseError\u001b[38;5;241m.\u001b[39mfrom_response(response)\n",
      "\u001b[1;31mTooManyRequestsError\u001b[0m: The request failed: Google returned a response with code 429"
     ]
    }
   ],
   "source": [
    "pytrends.build_payload(termos, cat = 0, timeframe = 'all', gprop = '')\n",
    "busca = pytrends.interest_over_time()"
   ]
  },
  {
   "cell_type": "markdown",
   "metadata": {},
   "source": [
    "Valores possívels para o argumento 'timeframe':\n",
    "\n",
    "* Defaults to last 5yrs, 'today 5-y'.\n",
    "\n",
    "* Everything 'all'\n",
    "\n",
    "* Specific dates, 'YYYY-MM-DD YYYY-MM-DD' example '2016-12-14 2017-01-25'\n",
    "\n",
    "* Specific datetimes, 'YYYY-MM-DDTHH YYYY-MM-DDTHH' example '2017-02-06T10 2017-02-12T07'\n",
    "Note Time component is based off UTC\n",
    "\n",
    "* Current Time Minus Time Pattern:\n",
    "\n",
    "* By Month: 'today #-m' where # is the number of months from that date to pull data for\n",
    "\n",
    "For example: 'today 3-m' would get data from today to 3months ago\n",
    "NOTE Google uses UTC date as 'today'\n",
    "Works for 1, 3, 12 months only!\n",
    "Daily: 'now #-d' where # is the number of days from that date to pull data for\n",
    "\n",
    "For example: 'now 7-d' would get data from the last week\n",
    "Works for 1, 7 days only!\n",
    "Hourly: 'now #-H' where # is the number of hours from that date to pull data for\n",
    "\n",
    "For example: 'now 1-H' would get data from the last hour\n",
    "Works for 1, 4 hours only!"
   ]
  },
  {
   "cell_type": "markdown",
   "metadata": {},
   "source": [
    "Vamos verificar a periodicidade do dado"
   ]
  },
  {
   "cell_type": "code",
   "execution_count": null,
   "metadata": {},
   "outputs": [],
   "source": [
    "busca.head()"
   ]
  },
  {
   "cell_type": "code",
   "execution_count": null,
   "metadata": {},
   "outputs": [],
   "source": [
    "busca[['petrobras', 'dólar']].plot();\n",
    "#busca[['dólar']].plot();"
   ]
  },
  {
   "cell_type": "markdown",
   "metadata": {},
   "source": [
    "Vamos desenvolver uma rotina que faz tudo isso de uma só vez, e tem como output o gráfico que mostramos acima."
   ]
  },
  {
   "cell_type": "code",
   "execution_count": null,
   "metadata": {},
   "outputs": [],
   "source": [
    "pytrends = TrendReq(hl = 'pt-BR', tz = 360)\n",
    "lista_termos = ['petrobras', 'dólar', 'PETR4', 'VALE3', 'bitcoin']\n",
    "pytrends.build_payload(lista_termos, cat = 0, timeframe = '2008-12-14 2023-06-14', geo = 'BR', gprop = '')\n",
    "busca = pytrends.interest_over_time()\n",
    "busca[lista_termos].plot(figsize = (10,6));"
   ]
  },
  {
   "cell_type": "markdown",
   "metadata": {},
   "source": [
    "### **9.4. Cruzamento das informações do Google Trends com Mercado Financeiro**"
   ]
  },
  {
   "cell_type": "markdown",
   "metadata": {},
   "source": [
    "#### **9.4.1. Pré-processamento do dado**"
   ]
  },
  {
   "cell_type": "code",
   "execution_count": null,
   "metadata": {},
   "outputs": [],
   "source": [
    "busca.index.name = 'Date'"
   ]
  },
  {
   "cell_type": "code",
   "execution_count": null,
   "metadata": {},
   "outputs": [],
   "source": [
    "busca.head()"
   ]
  },
  {
   "cell_type": "code",
   "execution_count": null,
   "metadata": {},
   "outputs": [],
   "source": [
    "busca.shape"
   ]
  },
  {
   "cell_type": "code",
   "execution_count": null,
   "metadata": {},
   "outputs": [],
   "source": [
    "busca.index = pd.to_datetime(busca.index)"
   ]
  },
  {
   "cell_type": "code",
   "execution_count": null,
   "metadata": {},
   "outputs": [],
   "source": [
    "busca.index[0].strftime(\"%Y-%m-%d\")"
   ]
  },
  {
   "cell_type": "code",
   "execution_count": null,
   "metadata": {},
   "outputs": [],
   "source": [
    "dolar = yf.download('USDBRL=X', start = busca.index[0].strftime(\"%Y-%m-%d\"), auto_adjust = True, multi_level_index = 0)"
   ]
  },
  {
   "cell_type": "code",
   "execution_count": null,
   "metadata": {},
   "outputs": [],
   "source": [
    "dolar.index = pd.to_datetime(dolar.index)"
   ]
  },
  {
   "cell_type": "code",
   "execution_count": null,
   "metadata": {},
   "outputs": [],
   "source": [
    "dolar.head()"
   ]
  },
  {
   "cell_type": "code",
   "execution_count": null,
   "metadata": {},
   "outputs": [],
   "source": [
    "total = pd.merge(busca, dolar, how = 'inner', on = 'Date')[['dólar', 'Close']]"
   ]
  },
  {
   "cell_type": "code",
   "execution_count": null,
   "metadata": {},
   "outputs": [],
   "source": [
    "total.sort_values(by='Date', inplace = True)"
   ]
  },
  {
   "cell_type": "code",
   "execution_count": null,
   "metadata": {},
   "outputs": [],
   "source": [
    "total.head()"
   ]
  },
  {
   "cell_type": "code",
   "execution_count": null,
   "metadata": {},
   "outputs": [],
   "source": [
    "dolar.dtypes"
   ]
  },
  {
   "cell_type": "markdown",
   "metadata": {},
   "source": [
    "#### **9.4.2. Plotagem da informação**"
   ]
  },
  {
   "cell_type": "code",
   "execution_count": null,
   "metadata": {},
   "outputs": [],
   "source": [
    "fig, ax1 = plt.subplots(figsize = (10,8))\n",
    "\n",
    "color = 'tab:red'\n",
    "ax1.set_xlabel('Date')\n",
    "ax1.set_ylabel('Buscas por Dólar', color=color)\n",
    "ax1.plot(busca.index,busca['dólar'], color=color)\n",
    "ax1.tick_params(axis='y', labelcolor=color)\n",
    "\n",
    "ax2 = ax1.twinx() # Configurar um outro eixo vertical que compartilha o mesmo eixo X\n",
    "\n",
    "color = 'tab:blue'\n",
    "ax2.set_ylabel('Cotação do Dólar', color=color)\n",
    "ax2.plot(dolar.index,dolar['Close'], color=color)\n",
    "ax2.tick_params(axis='y', labelcolor=color)\n",
    "\n",
    "plt.show();"
   ]
  },
  {
   "cell_type": "code",
   "execution_count": null,
   "metadata": {},
   "outputs": [],
   "source": [
    "fig, ax1 = plt.subplots(figsize = (10,8))\n",
    "\n",
    "color = 'tab:red'\n",
    "ax1.set_xlabel('Date')\n",
    "ax1.set_ylabel('Buscas por Dólar', color=color)\n",
    "ax1.plot(total['dólar'], color=color)\n",
    "ax1.tick_params(axis='y', labelcolor=color)\n",
    "\n",
    "ax2 = ax1.twinx() # Configurar um outro eixo vertical que compartilha o mesmo eixo X\n",
    "\n",
    "color = 'tab:blue'\n",
    "ax2.set_ylabel('Cotação do Dólar', color=color)\n",
    "ax2.plot(total['Close'], color=color)\n",
    "ax2.tick_params(axis='y', labelcolor=color)\n",
    "\n",
    "plt.show()"
   ]
  },
  {
   "cell_type": "markdown",
   "metadata": {},
   "source": [
    "**Obs**: Modifique o período de busca e verifique como os gráficos mudam"
   ]
  },
  {
   "cell_type": "code",
   "execution_count": null,
   "metadata": {},
   "outputs": [],
   "source": [
    "# Create figure with secondary y-axis\n",
    "fig = make_subplots(specs=[[{\"secondary_y\": True}]])\n",
    "\n",
    "# Add traces\n",
    "fig.add_trace(\n",
    "    go.Scatter(x = busca.index, y = busca['dólar'], name=\"yaxis data\"),\n",
    "    secondary_y=True,\n",
    ")\n",
    "\n",
    "fig.add_trace(\n",
    "    go.Scatter(x = dolar.index, y = dolar['Adj Close'], name=\"yaxis2 data\"),\n",
    "    secondary_y=False,\n",
    ")\n",
    "\n",
    "# Add figure title\n",
    "fig.update_layout(\n",
    "    title_text=\"Double Y Axis Example\"\n",
    ")\n",
    "\n",
    "# Set x-axis title\n",
    "fig.update_xaxes(title_text=\"xaxis title\")\n",
    "\n",
    "# Set y-axes titles\n",
    "fig.update_yaxes(title_text=\"<b>primary</b> yaxis title\", secondary_y=False)\n",
    "fig.update_yaxes(title_text=\"<b>secondary</b> yaxis title\", secondary_y=True)\n",
    "\n",
    "fig.show()"
   ]
  },
  {
   "cell_type": "markdown",
   "metadata": {},
   "source": [
    "#### **9.4.3. Comparativo de ações**"
   ]
  },
  {
   "cell_type": "markdown",
   "metadata": {},
   "source": [
    "E como ficam as buscas por temáticas do mercado financeiro? Qual papel é pesquisado mais? Vamos fazer uma exploração."
   ]
  },
  {
   "cell_type": "code",
   "execution_count": null,
   "metadata": {},
   "outputs": [],
   "source": [
    "pytrends = TrendReq(hl = 'en-US', tz = 360)\n",
    "\n",
    "#acoes = ['PETR4', 'MGLU3','ITUB4','WEGE3', 'VALE3']\n",
    "#acoes = ['MGLU3','ITUB4','WEGE3', 'VALE3']\n",
    "acoes = ['AMER3','ITUB4','WEGE3', 'VALE3']\n",
    "\n",
    "pytrends.build_payload(acoes, cat = 0, timeframe = '2018-06-01 2023-06-14', geo = 'BR', gprop = '')\n",
    "busca_acoes = pytrends.interest_over_time()"
   ]
  },
  {
   "cell_type": "code",
   "execution_count": null,
   "metadata": {},
   "outputs": [],
   "source": [
    "busca_acoes[acoes].plot(figsize = (10,6));"
   ]
  },
  {
   "cell_type": "markdown",
   "metadata": {},
   "source": [
    "Utilizando o que aprendemos até aqui, vamos ver o movimento das buscas por petrobrás com o preço da ação"
   ]
  },
  {
   "cell_type": "markdown",
   "metadata": {},
   "source": [
    "#### **9.4.4. Petrobras vs. PETR4**"
   ]
  },
  {
   "cell_type": "code",
   "execution_count": null,
   "metadata": {},
   "outputs": [],
   "source": [
    "pytrends = TrendReq(hl = 'pt-BR', tz = 360)\n",
    "lista_termos = ['petrobras', 'PETR4']\n",
    "pytrends.build_payload(lista_termos, cat = 0, timeframe = 'today 5-y', geo = 'BR', gprop = '')\n",
    "busca_petro = pytrends.interest_over_time()"
   ]
  },
  {
   "cell_type": "code",
   "execution_count": null,
   "metadata": {},
   "outputs": [],
   "source": [
    "busca_petro['Date'] = busca_petro.index"
   ]
  },
  {
   "cell_type": "code",
   "execution_count": null,
   "metadata": {},
   "outputs": [],
   "source": [
    "busca_petro.shape"
   ]
  },
  {
   "cell_type": "code",
   "execution_count": null,
   "metadata": {},
   "outputs": [],
   "source": [
    "busca_petro.index = busca_petro['Date']"
   ]
  },
  {
   "cell_type": "code",
   "execution_count": null,
   "metadata": {},
   "outputs": [],
   "source": [
    "busca_petro.index = pd.to_datetime(busca_petro.index)"
   ]
  },
  {
   "cell_type": "code",
   "execution_count": null,
   "metadata": {},
   "outputs": [],
   "source": [
    "busca_petro.drop(['Date'], axis = 1, inplace = True)"
   ]
  },
  {
   "cell_type": "code",
   "execution_count": null,
   "metadata": {},
   "outputs": [],
   "source": [
    "busca_petro['Total'] = busca_petro['petrobras'] + busca_petro['PETR4']"
   ]
  },
  {
   "cell_type": "code",
   "execution_count": null,
   "metadata": {},
   "outputs": [],
   "source": [
    "busca_petro.head()"
   ]
  },
  {
   "cell_type": "code",
   "execution_count": null,
   "metadata": {},
   "outputs": [],
   "source": [
    "busca_petro.index[0].strftime(\"%Y-%m-%d\")"
   ]
  },
  {
   "cell_type": "code",
   "execution_count": null,
   "metadata": {},
   "outputs": [],
   "source": [
    "petro = pd.DataFrame(yf.download('PETR4.SA', start = busca_petro.index[0].strftime(\"%Y-%m-%d\"), auto_adjust = True, multi_level_index = 0))"
   ]
  },
  {
   "cell_type": "code",
   "execution_count": null,
   "metadata": {},
   "outputs": [],
   "source": [
    "petro.index = pd.to_datetime(petro.index)"
   ]
  },
  {
   "cell_type": "code",
   "execution_count": null,
   "metadata": {},
   "outputs": [],
   "source": [
    "petro['Close'].plot();"
   ]
  },
  {
   "cell_type": "code",
   "execution_count": null,
   "metadata": {},
   "outputs": [],
   "source": [
    "# Create figure with secondary y-axis\n",
    "fig = make_subplots(specs=[[{\"secondary_y\": True}]])\n",
    "\n",
    "# Add traces\n",
    "fig.add_trace(\n",
    "    go.Scatter(x = busca_petro.index, y = busca_petro['petrobras'], name=\"Buscas por Petrobras\"),\n",
    "    secondary_y=False,\n",
    ")\n",
    "\n",
    "fig.add_trace(\n",
    "    go.Scatter(x = busca_petro.index, y = busca_petro['PETR4'], name=\"Buscas por PETR4\"),\n",
    "    secondary_y=False,\n",
    ")\n",
    "\n",
    "fig.add_trace(\n",
    "    go.Scatter(x = petro.index, y = petro['Adj Close'], name=\"Cotação de PETR4\"),\n",
    "    secondary_y=True,\n",
    ")\n",
    "\n",
    "# Add figure title\n",
    "fig.update_layout(\n",
    "    title_text=\"Cotação de PETR4 vs. buscas no Google\"\n",
    ")\n",
    "\n",
    "# Set x-axis title\n",
    "fig.update_xaxes(title_text=\"Data\")\n",
    "\n",
    "# Set y-axes titles\n",
    "fig.update_yaxes(title_text=\"<b>primary</b> Intensidade das buscas\", secondary_y=False)\n",
    "fig.update_yaxes(title_text=\"<b>secondary</b> Preço de PETR4\", secondary_y=True)\n",
    "\n",
    "fig.show()"
   ]
  },
  {
   "cell_type": "code",
   "execution_count": null,
   "metadata": {},
   "outputs": [],
   "source": [
    "# Create figure with secondary y-axis\n",
    "fig = make_subplots(specs=[[{\"secondary_y\": True}]])\n",
    "\n",
    "# Add traces\n",
    "fig.add_trace(\n",
    "    go.Scatter(x = busca_petro.index, y = busca_petro['Total'], name=\"Buscas por Petrobras\"),\n",
    "    secondary_y=False,\n",
    ")\n",
    "\n",
    "fig.add_trace(\n",
    "    go.Scatter(x = petro.index, y = petro['Adj Close'], name=\"Cotação de PETR4\"),\n",
    "    secondary_y=True,\n",
    ")\n",
    "\n",
    "# Add figure title\n",
    "fig.update_layout(\n",
    "    title_text=\"Cotação de PETR4 vs. buscas no Google\"\n",
    ")\n",
    "\n",
    "# Set x-axis title\n",
    "fig.update_xaxes(title_text=\"Data\")\n",
    "\n",
    "# Set y-axes titles\n",
    "fig.update_yaxes(title_text=\"<b>Eixo 01</b> Intensidade das buscas\", secondary_y=False)\n",
    "fig.update_yaxes(title_text=\"<b>Eixo 02</b> Preço de PETR4\", secondary_y=True)\n",
    "\n",
    "fig.show()"
   ]
  },
  {
   "cell_type": "markdown",
   "metadata": {},
   "source": [
    "### **9.5. Explorando as Funcionalidades da Biblioteca**"
   ]
  },
  {
   "cell_type": "markdown",
   "metadata": {},
   "source": [
    "Nesta seção, nós vamos mergulhar nos outros métodos e funções da biblioteca Pytrends e exibir todo o seu potencial."
   ]
  },
  {
   "cell_type": "markdown",
   "metadata": {},
   "source": [
    "#### **9.5.1. Problemas com a função \"get_historical_interest\"**"
   ]
  },
  {
   "cell_type": "markdown",
   "metadata": {},
   "source": [
    "Desta vez, vamos usar uma função ligeiramente diferente."
   ]
  },
  {
   "cell_type": "code",
   "execution_count": 5,
   "metadata": {},
   "outputs": [],
   "source": [
    "pytrends = TrendReq(hl = 'en-US', tz = 360)"
   ]
  },
  {
   "cell_type": "code",
   "execution_count": 6,
   "metadata": {},
   "outputs": [],
   "source": [
    "kw_list = ['petrobras', 'dólar']"
   ]
  },
  {
   "cell_type": "code",
   "execution_count": 7,
   "metadata": {},
   "outputs": [
    {
     "ename": "NotImplementedError",
     "evalue": "This method has been removed for incorrectness. It will be removed completely in v5.\nIf you'd like similar functionality, please try implementing it yourself and consider submitting a pull request to add it to pytrends.\n          \nThere is discussion at:\nhttps://github.com/GeneralMills/pytrends/pull/542",
     "output_type": "error",
     "traceback": [
      "\u001b[1;31m---------------------------------------------------------------------------\u001b[0m",
      "\u001b[1;31mNotImplementedError\u001b[0m                       Traceback (most recent call last)",
      "Cell \u001b[1;32mIn[7], line 1\u001b[0m\n\u001b[1;32m----> 1\u001b[0m \u001b[43mpytrends\u001b[49m\u001b[38;5;241;43m.\u001b[39;49m\u001b[43mget_historical_interest\u001b[49m\u001b[43m(\u001b[49m\u001b[43mkw_list\u001b[49m\u001b[43m,\u001b[49m\u001b[43m \u001b[49m\u001b[43myear_start\u001b[49m\u001b[43m \u001b[49m\u001b[38;5;241;43m=\u001b[39;49m\u001b[43m \u001b[49m\u001b[38;5;241;43m2019\u001b[39;49m\u001b[43m,\u001b[49m\u001b[43m \u001b[49m\u001b[43mmonth_start\u001b[49m\u001b[43m \u001b[49m\u001b[38;5;241;43m=\u001b[39;49m\u001b[43m \u001b[49m\u001b[38;5;241;43m11\u001b[39;49m\u001b[43m,\u001b[49m\u001b[43m \u001b[49m\u001b[43mday_start\u001b[49m\u001b[43m \u001b[49m\u001b[38;5;241;43m=\u001b[39;49m\u001b[43m \u001b[49m\u001b[38;5;241;43m27\u001b[39;49m\u001b[43m,\u001b[49m\u001b[43m \u001b[49m\u001b[43mhour_start\u001b[49m\u001b[43m \u001b[49m\u001b[38;5;241;43m=\u001b[39;49m\u001b[43m \u001b[49m\u001b[38;5;241;43m0\u001b[39;49m\u001b[43m,\u001b[49m\u001b[43m \u001b[49m\u001b[43myear_end\u001b[49m\u001b[43m \u001b[49m\u001b[38;5;241;43m=\u001b[39;49m\u001b[43m \u001b[49m\u001b[38;5;241;43m2022\u001b[39;49m\u001b[43m,\u001b[49m\u001b[43m \u001b[49m\u001b[43mmonth_end\u001b[49m\u001b[43m \u001b[49m\u001b[38;5;241;43m=\u001b[39;49m\u001b[43m \u001b[49m\u001b[38;5;241;43m11\u001b[39;49m\u001b[43m,\u001b[49m\u001b[43m \u001b[49m\u001b[43mday_end\u001b[49m\u001b[43m \u001b[49m\u001b[38;5;241;43m=\u001b[39;49m\u001b[43m \u001b[49m\u001b[38;5;241;43m29\u001b[39;49m\u001b[43m,\u001b[49m\u001b[43m \u001b[49m\u001b[43mhour_end\u001b[49m\u001b[43m \u001b[49m\u001b[38;5;241;43m=\u001b[39;49m\u001b[43m \u001b[49m\u001b[38;5;241;43m0\u001b[39;49m\u001b[43m,\u001b[49m\u001b[43m \u001b[49m\u001b[43mcat\u001b[49m\u001b[43m \u001b[49m\u001b[38;5;241;43m=\u001b[39;49m\u001b[43m \u001b[49m\u001b[38;5;241;43m0\u001b[39;49m\u001b[43m,\u001b[49m\u001b[43m \u001b[49m\u001b[43mgeo\u001b[49m\u001b[43m \u001b[49m\u001b[38;5;241;43m=\u001b[39;49m\u001b[43m \u001b[49m\u001b[38;5;124;43m'\u001b[39;49m\u001b[38;5;124;43mBR\u001b[39;49m\u001b[38;5;124;43m'\u001b[39;49m\u001b[43m,\u001b[49m\u001b[43m \u001b[49m\u001b[43mgprop\u001b[49m\u001b[43m \u001b[49m\u001b[38;5;241;43m=\u001b[39;49m\u001b[43m \u001b[49m\u001b[38;5;124;43m'\u001b[39;49m\u001b[38;5;124;43m'\u001b[39;49m\u001b[43m,\u001b[49m\u001b[43m \u001b[49m\u001b[43msleep\u001b[49m\u001b[43m \u001b[49m\u001b[38;5;241;43m=\u001b[39;49m\u001b[43m \u001b[49m\u001b[38;5;241;43m0\u001b[39;49m\u001b[43m)\u001b[49m\n",
      "File \u001b[1;32md:\\current_projects\\material_PMF_2.0\\.venv\\Lib\\site-packages\\pytrends\\request.py:588\u001b[0m, in \u001b[0;36mTrendReq.get_historical_interest\u001b[1;34m(self, *args, **kwargs)\u001b[0m\n\u001b[0;32m    587\u001b[0m     \u001b[38;5;28;01mdef\u001b[39;00m\u001b[38;5;250m \u001b[39m\u001b[38;5;21mget_historical_interest\u001b[39m(\u001b[38;5;28mself\u001b[39m, \u001b[38;5;241m*\u001b[39margs, \u001b[38;5;241m*\u001b[39m\u001b[38;5;241m*\u001b[39mkwargs):\n\u001b[1;32m--> 588\u001b[0m         \u001b[38;5;28;01mraise\u001b[39;00m \u001b[38;5;167;01mNotImplementedError\u001b[39;00m(\n\u001b[0;32m    589\u001b[0m \u001b[38;5;250m            \u001b[39m\u001b[38;5;124;03m\"\"\"This method has been removed for incorrectness. It will be removed completely in v5.\u001b[39;00m\n\u001b[0;32m    590\u001b[0m \u001b[38;5;124;03mIf you'd like similar functionality, please try implementing it yourself and consider submitting a pull request to add it to pytrends.\u001b[39;00m\n\u001b[0;32m    591\u001b[0m \u001b[38;5;124;03m          \u001b[39;00m\n\u001b[0;32m    592\u001b[0m \u001b[38;5;124;03mThere is discussion at:\u001b[39;00m\n\u001b[0;32m    593\u001b[0m \u001b[38;5;124;03mhttps://github.com/GeneralMills/pytrends/pull/542\"\"\"\u001b[39;00m\n\u001b[0;32m    594\u001b[0m         )\n",
      "\u001b[1;31mNotImplementedError\u001b[0m: This method has been removed for incorrectness. It will be removed completely in v5.\nIf you'd like similar functionality, please try implementing it yourself and consider submitting a pull request to add it to pytrends.\n          \nThere is discussion at:\nhttps://github.com/GeneralMills/pytrends/pull/542"
     ]
    }
   ],
   "source": [
    "pytrends.get_historical_interest(kw_list, year_start = 2019, month_start = 11, day_start = 27, hour_start = 0, year_end = 2022, month_end = 11, day_end = 29, hour_end = 0, cat = 0, geo = 'BR', gprop = '', sleep = 0)"
   ]
  },
  {
   "cell_type": "markdown",
   "metadata": {},
   "source": [
    "PROBLEMAS\n",
    "\n",
    "Recentemente, a função \"get_historical_interest\" caiu. Era uma das principais funções para obter os dados com uma granularidade maior, no nível de dias e horas. Para saber mais, acesse:\n",
    "\n",
    "https://github.com/GeneralMills/pytrends/pull/542"
   ]
  },
  {
   "cell_type": "markdown",
   "metadata": {},
   "source": [
    "#### **9.5.2. Função \"multirange_interest_over_time\"**"
   ]
  },
  {
   "cell_type": "code",
   "execution_count": null,
   "metadata": {},
   "outputs": [],
   "source": [
    "pytrends.build_payload(kw_list=['pizza', 'bagel'], timeframe=['2019-09-04 2022-09-10', '2019-09-18 2022-09-24'])\n",
    "data = pytrends.multirange_interest_over_time()"
   ]
  },
  {
   "cell_type": "code",
   "execution_count": null,
   "metadata": {},
   "outputs": [],
   "source": [
    "pytrends.build_payload(kw_list=['pizza', 'bagel'], timeframe=['2022-09-04 2022-09-10', '2022-09-04 2022-09-11'])\n",
    "data = pytrends.multirange_interest_over_time()"
   ]
  },
  {
   "cell_type": "code",
   "execution_count": null,
   "metadata": {},
   "outputs": [],
   "source": [
    "data.shape"
   ]
  },
  {
   "cell_type": "code",
   "execution_count": null,
   "metadata": {},
   "outputs": [],
   "source": [
    "data"
   ]
  },
  {
   "cell_type": "code",
   "execution_count": null,
   "metadata": {},
   "outputs": [],
   "source": [
    "data.drop([0], axis = 0, inplace = True)"
   ]
  },
  {
   "cell_type": "code",
   "execution_count": null,
   "metadata": {},
   "outputs": [],
   "source": [
    "data.columns"
   ]
  },
  {
   "cell_type": "code",
   "execution_count": null,
   "metadata": {},
   "outputs": [],
   "source": [
    "data[['[0] pizza value', '[1] bagel value']].plot();"
   ]
  },
  {
   "cell_type": "markdown",
   "metadata": {},
   "source": [
    "#### **9.5.3. Métodos Gerais**"
   ]
  },
  {
   "cell_type": "code",
   "execution_count": null,
   "metadata": {},
   "outputs": [],
   "source": [
    "pytrend = TrendReq(geo = 'BR')\n",
    "\n",
    "# Outros parâmetros\n",
    "# pytrend = TrendReq(hl = 'pt-BR', tz  = 180, geo = 'BR')"
   ]
  },
  {
   "cell_type": "code",
   "execution_count": null,
   "metadata": {},
   "outputs": [],
   "source": [
    "pytrend.trending_searches(pn = 'brazil')"
   ]
  },
  {
   "cell_type": "code",
   "execution_count": null,
   "metadata": {},
   "outputs": [],
   "source": [
    "# Trends anuais\n",
    "\n",
    "pytrend.top_charts(2022, hl = 'pt-BR', geo = 'BR')"
   ]
  },
  {
   "cell_type": "markdown",
   "metadata": {},
   "source": [
    "### **9.6. Backtesting Bitcoin: Trends x Preço**"
   ]
  },
  {
   "cell_type": "markdown",
   "metadata": {},
   "source": [
    "#### **9.6.1. Coletando os dados**"
   ]
  },
  {
   "cell_type": "code",
   "execution_count": null,
   "metadata": {},
   "outputs": [],
   "source": [
    "pytrend = TrendReq()\n",
    "\n",
    "kw_list=['Bitcoin']\n",
    "\n",
    "pytrend.build_payload(kw_list, timeframe='2019-01-01 2023-06-15', cat=7, geo='')\n",
    "\n",
    "dados_weekly_trends = pytrend.interest_over_time()\n",
    "\n",
    "dados_weekly_trends.plot();"
   ]
  },
  {
   "cell_type": "code",
   "execution_count": null,
   "metadata": {},
   "outputs": [],
   "source": [
    "price_BTC = yf.download('BTC-USD', start='2019-01-01', end='2023-06-15')[['Close']]\n",
    "price_BTC"
   ]
  },
  {
   "cell_type": "code",
   "execution_count": null,
   "metadata": {},
   "outputs": [],
   "source": [
    "# Uma diferença é visivel entre os dois dataframes: o formato do índice\n",
    "# Antes de juntar os dataframes, vamos criar uma coluna que seja comum entre eles\n",
    "\n",
    "price_BTC['Data'] = price_BTC.index.date\n",
    "dados_weekly_trends['Data'] = dados_weekly_trends.index.date\n",
    "price_BTC"
   ]
  },
  {
   "cell_type": "markdown",
   "metadata": {},
   "source": [
    "#### **9.6.2. Visualização de dados**"
   ]
  },
  {
   "cell_type": "code",
   "execution_count": null,
   "metadata": {},
   "outputs": [],
   "source": [
    "fig, ax1 = plt.subplots(figsize = (12,6))\n",
    "\n",
    "color = 'tab:red'\n",
    "ax1.set_xlabel('Date')\n",
    "ax1.set_ylabel('Preço BTC', color=color)\n",
    "ax1.plot(price_BTC.index,price_BTC['Close'], color=color)\n",
    "ax1.tick_params(axis='y', labelcolor=color)\n",
    "\n",
    "ax2 = ax1.twinx() # Configurar um outro eixo vertical que compartilha o mesmo eixo X\n",
    "\n",
    "color = 'tab:blue'\n",
    "ax2.set_ylabel('Pesquisas por Bitcoin', color=color)\n",
    "ax2.plot(dados_weekly_trends.index,dados_weekly_trends['Bitcoin'], color=color)\n",
    "ax2.tick_params(axis='y', labelcolor=color)\n",
    "\n",
    "plt.show();"
   ]
  },
  {
   "cell_type": "code",
   "execution_count": null,
   "metadata": {},
   "outputs": [],
   "source": [
    "# Usar o merge para manter apenas os preços de fechamento de Bitcoin semanais (existiriam outras formas mais \"elegantes\" de fazer, como usando o resample)\n",
    "\n",
    "df_close_trends = pd.merge(price_BTC, dados_weekly_trends[['Bitcoin', 'Data']], left_on='Data', right_on='Data', how='inner')\n",
    "df_close_trends"
   ]
  },
  {
   "cell_type": "code",
   "execution_count": null,
   "metadata": {},
   "outputs": [],
   "source": [
    "# Agora, voltaremos o index do df para datetime usando a coluna Data, ao mesmo tempo q a excluímos\n",
    "\n",
    "df_close_trends.index = pd.to_datetime(df_close_trends.Data, infer_datetime_format=True)\n",
    "df_close_trends.drop('Data', axis=1, inplace=True)\n",
    "df_close_trends"
   ]
  },
  {
   "cell_type": "code",
   "execution_count": null,
   "metadata": {},
   "outputs": [],
   "source": [
    "# Vamos normalizar os dados de preço e trends para que fiquem em uma unidade comparável\n",
    "\n",
    "df_close_trends_norm = df_close_trends/df_close_trends.iloc[0]\n",
    "df_close_trends_norm"
   ]
  },
  {
   "cell_type": "code",
   "execution_count": null,
   "metadata": {},
   "outputs": [],
   "source": [
    "df_close_trends_norm.vbt.plot().update_layout(template='simple_white', width=800, height=400,\n",
    "                                              title_text='<b>Bitcoin: preço x trends',\n",
    "                                              xaxis_title=\"<b>Data\", yaxis_title=\"<b>Valor normalizado\").show()"
   ]
  },
  {
   "cell_type": "markdown",
   "metadata": {},
   "source": [
    "Ao olhar pro gráfico acima, fica bem sugestivo que as duas variáveis estão caminhando juntas."
   ]
  },
  {
   "cell_type": "markdown",
   "metadata": {},
   "source": [
    "#### **9.6.3. Criação e Backtest da Estratégia**"
   ]
  },
  {
   "cell_type": "markdown",
   "metadata": {},
   "source": [
    "Para backtestar nossa teoria, poderíamos pensar em uma estratégia de comprar o ativo nos momentos onde houve aumento das pesquisas em relação aos períodos anteriores\n",
    "\n",
    "Nesse sentido, o desvio padrão pode ser uma ferramenta interessante para ver quanto as pesquisas estão divergindo da média\n",
    "\n",
    "As bandas de bollinger podem nos ajudar nessa tarefa. Elas são representadas por 3 linhas, onde:\n",
    "\n",
    "* A linha central é a média de n períods atrás (vamos definir n como 10, ou seja, média dos últimos 10 dias)\n",
    "* A linha superior = média + x desvios (aqui vamos definir x como 1)\n",
    "* A linha inferior = média - x desvios (aqui vamos definir x como 1)\n",
    "\n",
    "OBS: Tradicionalmente as Bandas de Bollinger são o preço de 20 períodos +- 2 desvios"
   ]
  },
  {
   "cell_type": "code",
   "execution_count": null,
   "metadata": {},
   "outputs": [],
   "source": [
    "# Observação: a legenda da figura traz \"Close\", mas ela representa o número de pesquisas\n",
    "\n",
    "vbt.BBANDS.run(df_close_trends['Bitcoin'], 10, alpha=1).\\\n",
    "plot(template='simple_white', width=800, height=400).show()"
   ]
  },
  {
   "cell_type": "markdown",
   "metadata": {},
   "source": [
    "Agora extraímos os valores das bandas superior e inferior para usar nos sinais de entrada"
   ]
  },
  {
   "cell_type": "code",
   "execution_count": null,
   "metadata": {},
   "outputs": [],
   "source": [
    "BBand_sup_1std = vbt.BBANDS.run(df_close_trends['Bitcoin'], 10, alpha=1).upper\n",
    "BBand_inf_1std = vbt.BBANDS.run(df_close_trends['Bitcoin'], 10, alpha=1).lower"
   ]
  },
  {
   "cell_type": "markdown",
   "metadata": {},
   "source": [
    "Criamos uma estrutura booleana, se o número de pesquisas cruzar para cima a banda superior, compramos (entradas). Quando procurar ficarem abaixo da banda inferior, venderemos (exits)"
   ]
  },
  {
   "cell_type": "code",
   "execution_count": 8,
   "metadata": {},
   "outputs": [
    {
     "ename": "NameError",
     "evalue": "name 'df_close_trends' is not defined",
     "output_type": "error",
     "traceback": [
      "\u001b[1;31m---------------------------------------------------------------------------\u001b[0m",
      "\u001b[1;31mNameError\u001b[0m                                 Traceback (most recent call last)",
      "Cell \u001b[1;32mIn[8], line 1\u001b[0m\n\u001b[1;32m----> 1\u001b[0m entradas \u001b[38;5;241m=\u001b[39m \u001b[43mdf_close_trends\u001b[49m[\u001b[38;5;124m'\u001b[39m\u001b[38;5;124mBitcoin\u001b[39m\u001b[38;5;124m'\u001b[39m]\u001b[38;5;241m.\u001b[39mvbt\u001b[38;5;241m.\u001b[39mcrossed_above(BBand_sup_1std)\n\u001b[0;32m      2\u001b[0m saidas \u001b[38;5;241m=\u001b[39m df_close_trends[\u001b[38;5;124m'\u001b[39m\u001b[38;5;124mBitcoin\u001b[39m\u001b[38;5;124m'\u001b[39m]\u001b[38;5;241m.\u001b[39mvbt\u001b[38;5;241m.\u001b[39mcrossed_below(BBand_inf_1std)\n",
      "\u001b[1;31mNameError\u001b[0m: name 'df_close_trends' is not defined"
     ]
    }
   ],
   "source": [
    "entradas = df_close_trends['Bitcoin'].vbt.crossed_above(BBand_sup_1std)\n",
    "saidas = df_close_trends['Bitcoin'].vbt.crossed_below(BBand_inf_1std)"
   ]
  },
  {
   "cell_type": "markdown",
   "metadata": {},
   "source": [
    "Usando a vectorbt, criamos nosso backtesting, informando as variações no preço, nossas entradas e saidas, a frequencia para plotagem (W, weekly) além de outros parâmetros.\n",
    "\n",
    "Para fins de simplificação, mostraremos apenas a ponta compradora (longonly) e não exploraremos os diversos parâmetros da biblioteca para otimizar o backtest e as estrategias"
   ]
  },
  {
   "cell_type": "code",
   "execution_count": null,
   "metadata": {},
   "outputs": [],
   "source": [
    "setup_sentim_BTC = vbt.Portfolio.from_signals(df_close_trends['Close'], entradas, saidas, direction='longonly', freq='W')"
   ]
  },
  {
   "cell_type": "code",
   "execution_count": null,
   "metadata": {},
   "outputs": [],
   "source": [
    "setup_sentim_BTC.plot().show()"
   ]
  },
  {
   "cell_type": "code",
   "execution_count": null,
   "metadata": {},
   "outputs": [],
   "source": [
    "setup_sentim_BTC.stats()"
   ]
  },
  {
   "cell_type": "markdown",
   "metadata": {},
   "source": [
    "### **9.7. Estrutura de comparação: pesquisas no Google vs. cotação do ativo**"
   ]
  },
  {
   "cell_type": "code",
   "execution_count": null,
   "metadata": {},
   "outputs": [],
   "source": [
    "pytrends = TrendReq(hl = 'pt-BR', tz = 360)\n",
    "lista_termos = ['arroz','soja','milho','petroleo']\n",
    "pytrends.build_payload(lista_termos, cat = 0, timeframe = '2020-06-01 2023-06-14', geo = 'BR', gprop = '')\n",
    "busca = pytrends.interest_over_time()"
   ]
  },
  {
   "cell_type": "code",
   "execution_count": null,
   "metadata": {},
   "outputs": [],
   "source": [
    "busca.plot();"
   ]
  },
  {
   "cell_type": "code",
   "execution_count": null,
   "metadata": {},
   "outputs": [],
   "source": [
    "busca_petro['Date'] = busca_petro.index"
   ]
  },
  {
   "cell_type": "code",
   "execution_count": null,
   "metadata": {},
   "outputs": [],
   "source": [
    "busca_petro.index = busca_petro['Date']"
   ]
  },
  {
   "cell_type": "code",
   "execution_count": null,
   "metadata": {},
   "outputs": [],
   "source": [
    "busca_petro.index = pd.to_datetime(busca_petro.index)"
   ]
  },
  {
   "cell_type": "code",
   "execution_count": null,
   "metadata": {},
   "outputs": [],
   "source": [
    "busca_petro.drop(['Date'], axis = 1, inplace = True)"
   ]
  },
  {
   "cell_type": "code",
   "execution_count": null,
   "metadata": {},
   "outputs": [],
   "source": [
    "busca_petro['Total'] = busca_petro['petrobras'] + busca_petro['PETR4']"
   ]
  },
  {
   "cell_type": "code",
   "execution_count": null,
   "metadata": {},
   "outputs": [],
   "source": [
    "busca_petro.head()"
   ]
  },
  {
   "cell_type": "code",
   "execution_count": null,
   "metadata": {},
   "outputs": [],
   "source": [
    "busca_petro.index[0].strftime(\"%Y-%m-%d\")"
   ]
  },
  {
   "cell_type": "code",
   "execution_count": null,
   "metadata": {},
   "outputs": [],
   "source": [
    "petro = pd.DataFrame(yf.download('PETR4.SA', start = busca_petro.index[0].strftime(\"%Y-%m-%d\"), auto_adjust = True, multi_level_index = 0))"
   ]
  },
  {
   "cell_type": "code",
   "execution_count": null,
   "metadata": {},
   "outputs": [],
   "source": [
    "petro.index = pd.to_datetime(petro.index)"
   ]
  },
  {
   "cell_type": "code",
   "execution_count": null,
   "metadata": {},
   "outputs": [],
   "source": [
    "petro['Close'].plot();"
   ]
  },
  {
   "cell_type": "code",
   "execution_count": null,
   "metadata": {},
   "outputs": [],
   "source": [
    "# Create figure with secondary y-axis\n",
    "fig = make_subplots(specs=[[{\"secondary_y\": True}]])\n",
    "\n",
    "# Add traces\n",
    "fig.add_trace(\n",
    "    go.Scatter(x = busca_petro.index, y = busca_petro['petrobras'], name=\"Buscas por Petrobras\"),\n",
    "    secondary_y=False,\n",
    ")\n",
    "\n",
    "fig.add_trace(\n",
    "    go.Scatter(x = busca_petro.index, y = busca_petro['PETR4'], name=\"Buscas por PETR4\"),\n",
    "    secondary_y=False,\n",
    ")\n",
    "\n",
    "fig.add_trace(\n",
    "    go.Scatter(x = petro.index, y = petro['Adj Close'], name=\"Cotação de PETR4\"),\n",
    "    secondary_y=True,\n",
    ")\n",
    "\n",
    "# Add figure title\n",
    "fig.update_layout(\n",
    "    title_text=\"Cotação de PETR4 vs. buscas no Google\"\n",
    ")\n",
    "\n",
    "# Set x-axis title\n",
    "fig.update_xaxes(title_text=\"Data\")\n",
    "\n",
    "# Set y-axes titles\n",
    "fig.update_yaxes(title_text=\"<b>primary</b> Intensidade das buscas\", secondary_y=False)\n",
    "fig.update_yaxes(title_text=\"<b>secondary</b> Preço de PETR4\", secondary_y=True)\n",
    "\n",
    "fig.show()"
   ]
  }
 ],
 "metadata": {
  "kernelspec": {
   "display_name": ".venv",
   "language": "python",
   "name": "python3"
  },
  "language_info": {
   "codemirror_mode": {
    "name": "ipython",
    "version": 3
   },
   "file_extension": ".py",
   "mimetype": "text/x-python",
   "name": "python",
   "nbconvert_exporter": "python",
   "pygments_lexer": "ipython3",
   "version": "3.11.9"
  }
 },
 "nbformat": 4,
 "nbformat_minor": 2
}
