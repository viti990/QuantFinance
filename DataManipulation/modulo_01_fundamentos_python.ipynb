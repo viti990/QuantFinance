{
 "cells": [
  {
   "cell_type": "markdown",
   "id": "84a753eb",
   "metadata": {},
   "source": [
    "\n",
    "\n",
    "\n",
    "\n",
    "\n",
    "\n",
    "\n",
    "\n",
    "\n",
    "\n",
    "\n",
    "\n",
    "\n",
    "\n",
    "\n",
    "\n",
    "\n",
    "\n",
    "\n",
    "\n",
    "\n",
    "\n",
    "\n",
    "\n",
    "\n",
    "\n",
    "\n",
    "\n",
    "\n",
    "\n",
    "\n",
    "\n",
    "\n",
    "\n",
    "\n",
    "\n",
    "\n",
    "\n",
    "\n",
    "\n",
    "\n",
    "\n",
    "\n",
    "\n",
    "\n",
    "\n",
    "\n",
    "\n",
    "\n",
    "+ppppppppppppppppppppppp**Atenção!**\n",
    "\n",
    "*Todo material usado no Módulo 01 está aqui.*\n",
    "\n",
    "*Alguns códigos foram alterados devido atualização para o uso da versão Python (3.11) mais recente e segura.*"
   ]
  },
  {
   "cell_type": "markdown",
   "id": "ddb018c3d58f7658",
   "metadata": {},
   "source": [
    "<center><img src=\"https://github.com/Trading-com-Dados/pmf/blob/main/logotipo-trading-com-dados.svg?raw=true\" width=\"300\">"
   ]
  },
  {
   "cell_type": "markdown",
   "id": "1b2f30e250a15d78",
   "metadata": {},
   "source": [
    "<center><img src=\"https://github.com/Trading-com-Dados/pmf/blob/main/PMF%20002.png?raw=true\" width=\"700\">"
   ]
  },
  {
   "cell_type": "markdown",
   "id": "e6e3d8f05c2853e5",
   "metadata": {},
   "source": [
    "# **Python para Mercado Financeiro**"
   ]
  },
  {
   "cell_type": "markdown",
   "id": "42af66b683c8bf44",
   "metadata": {},
   "source": [
    "No formato de notebook, nós alternamos entre código e markdown (texto, imagens)\n"
   ]
  },
  {
   "cell_type": "markdown",
   "id": "2768ff10145320fb",
   "metadata": {},
   "source": [
    "# Módulo 01 - Introdução ao Python"
   ]
  },
  {
   "cell_type": "markdown",
   "id": "bee983ec3a5fca18",
   "metadata": {},
   "source": [
    "## 0. Hello World!"
   ]
  },
  {
   "cell_type": "markdown",
   "id": "4714504edcce446f",
   "metadata": {},
   "source": [
    "Tradicionalmente no ensino de programação, inicia-se com o comando clássico \"Hello World!\""
   ]
  },
  {
   "cell_type": "code",
   "execution_count": 1,
   "id": "5fa7ae66a48721a9",
   "metadata": {
    "ExecuteTime": {
     "end_time": "2025-01-09T21:12:27.635079Z",
     "start_time": "2025-01-09T21:12:27.630492Z"
    }
   },
   "outputs": [
    {
     "name": "stdout",
     "output_type": "stream",
     "text": [
      "Hello World!\n"
     ]
    }
   ],
   "source": [
    "print(\"Hello World!\")"
   ]
  },
  {
   "cell_type": "markdown",
   "id": "8cefea58d537df30",
   "metadata": {},
   "source": [
    "Sintaxe\n",
    "\n",
    "A sintaxe da linguagem de programação Python é o conjunto de regras que definem como um programa em Python será escrito e interpretado (tanto pelo sistema de tempo de execução como pelo ser humano).\n",
    "\n",
    "Fonte: https://pt.wikipedia.org/wiki/Sintaxe_e_sem%C3%A2ntica_de_Python"
   ]
  },
  {
   "cell_type": "markdown",
   "id": "15323a143988cc95",
   "metadata": {},
   "source": [
    "<center><img src = \"https://upload.wikimedia.org/wikipedia/commons/1/1f/Python_logo_01.svg\" width = \"200\">"
   ]
  },
  {
   "cell_type": "markdown",
   "id": "f7b182808ee741f8",
   "metadata": {},
   "source": [
    "## 1. Variáveis e Objetos"
   ]
  },
  {
   "cell_type": "markdown",
   "id": "2b58e33117393e1d",
   "metadata": {},
   "source": [
    "1.1. Diferença entre variáveis e objetos"
   ]
  },
  {
   "cell_type": "code",
   "execution_count": 178,
   "id": "5367a3db290ae7b0",
   "metadata": {
    "ExecuteTime": {
     "end_time": "2025-01-09T21:12:29.357278Z",
     "start_time": "2025-01-09T21:12:29.350346Z"
    }
   },
   "outputs": [
    {
     "data": {
      "text/plain": [
       "9"
      ]
     },
     "execution_count": 178,
     "metadata": {},
     "output_type": "execute_result"
    }
   ],
   "source": [
    "9"
   ]
  },
  {
   "cell_type": "code",
   "execution_count": 179,
   "id": "8a4ffe5ebf84cb7c",
   "metadata": {
    "ExecuteTime": {
     "end_time": "2025-01-09T21:12:29.407943Z",
     "start_time": "2025-01-09T21:12:29.404909Z"
    }
   },
   "outputs": [],
   "source": [
    "a = 9"
   ]
  },
  {
   "cell_type": "code",
   "execution_count": 180,
   "id": "6df5934d5d085aaf",
   "metadata": {
    "ExecuteTime": {
     "end_time": "2025-01-09T21:12:29.551094Z",
     "start_time": "2025-01-09T21:12:29.546190Z"
    }
   },
   "outputs": [
    {
     "data": {
      "text/plain": [
       "9"
      ]
     },
     "execution_count": 180,
     "metadata": {},
     "output_type": "execute_result"
    }
   ],
   "source": [
    "a"
   ]
  },
  {
   "cell_type": "code",
   "execution_count": 181,
   "id": "da9f1841501cf566",
   "metadata": {
    "ExecuteTime": {
     "end_time": "2025-01-09T21:12:29.631047Z",
     "start_time": "2025-01-09T21:12:29.626604Z"
    }
   },
   "outputs": [
    {
     "name": "stdout",
     "output_type": "stream",
     "text": [
      "9\n"
     ]
    }
   ],
   "source": [
    "print(a)"
   ]
  },
  {
   "cell_type": "code",
   "execution_count": 182,
   "id": "49055a2d39f9a91",
   "metadata": {
    "ExecuteTime": {
     "end_time": "2025-01-09T21:12:29.729250Z",
     "start_time": "2025-01-09T21:12:29.724254Z"
    }
   },
   "outputs": [],
   "source": [
    "b = 30.78"
   ]
  },
  {
   "cell_type": "code",
   "execution_count": 183,
   "id": "eabd0abf60a95648",
   "metadata": {
    "ExecuteTime": {
     "end_time": "2025-01-09T21:12:29.833941Z",
     "start_time": "2025-01-09T21:12:29.827234Z"
    }
   },
   "outputs": [
    {
     "data": {
      "text/plain": [
       "30.78"
      ]
     },
     "execution_count": 183,
     "metadata": {},
     "output_type": "execute_result"
    }
   ],
   "source": [
    "b"
   ]
  },
  {
   "cell_type": "markdown",
   "id": "7a1434c634906d33",
   "metadata": {},
   "source": [
    "Chamando a função type( )"
   ]
  },
  {
   "cell_type": "code",
   "execution_count": 184,
   "id": "1fdda9f7b3447873",
   "metadata": {
    "ExecuteTime": {
     "end_time": "2025-01-09T21:12:29.967168Z",
     "start_time": "2025-01-09T21:12:29.961605Z"
    }
   },
   "outputs": [
    {
     "data": {
      "text/plain": [
       "int"
      ]
     },
     "execution_count": 184,
     "metadata": {},
     "output_type": "execute_result"
    }
   ],
   "source": [
    "type(a)"
   ]
  },
  {
   "cell_type": "code",
   "execution_count": 185,
   "id": "6c209d0fdd8bda60",
   "metadata": {
    "ExecuteTime": {
     "end_time": "2025-01-09T21:12:30.036177Z",
     "start_time": "2025-01-09T21:12:30.030238Z"
    }
   },
   "outputs": [
    {
     "data": {
      "text/plain": [
       "float"
      ]
     },
     "execution_count": 185,
     "metadata": {},
     "output_type": "execute_result"
    }
   ],
   "source": [
    "type(b)"
   ]
  },
  {
   "cell_type": "code",
   "execution_count": 186,
   "id": "85796da2605077c6",
   "metadata": {
    "ExecuteTime": {
     "end_time": "2025-01-09T21:12:30.192045Z",
     "start_time": "2025-01-09T21:12:30.187607Z"
    }
   },
   "outputs": [
    {
     "data": {
      "text/plain": [
       "22.26"
      ]
     },
     "execution_count": 186,
     "metadata": {},
     "output_type": "execute_result"
    }
   ],
   "source": [
    "22.26"
   ]
  },
  {
   "cell_type": "markdown",
   "id": "73552a485297d7de",
   "metadata": {},
   "source": [
    "**Tipos das variáveis**\n",
    "\n",
    "* **Integer (inteiro)**\n",
    "1. número de ações compradas: 100 ações de VALE3\n",
    "2. número de ordens enviadas: 2 ordens de compra\n",
    "3. quantidade de papéis analisados: hoje analisamos 2 papéis: PETR4 e VALE3\n",
    "4. número de estratégias criadas ou modelos avaliados\n",
    "\n",
    "* **Float**\n",
    "1. preço de um ativo: hoje a PETR4 está cotada a R\\$ 22,26\n",
    "2. valor financeiro do investimento: comprei R$ 2226,00 em ações da PETR4\n",
    "3. métricas quantitativas, como volatilidade, sharpe, sortino, drawdown, dentre outras\n",
    "\n",
    "\n",
    "* **String (str)**\n",
    "1. Uma manchete de notícia: \"VALE3 foi o papel que mais subiu hoje\"\n",
    "2. Redes sociais: \"Vou comprar PETR4 porque o preço está muito atrativo\"\n",
    "\n",
    "\n",
    "* **boolean (bool): True ou False**\n",
    "1. verificação de execução de ordem - foi comprado ou não?\n",
    "2. se uma regra fundamentalista foi obedecida para escolher os ativos, ex: ações com P/L acima de 0.5, e dividend yield acima de 10%"
   ]
  },
  {
   "cell_type": "code",
   "execution_count": 187,
   "id": "569b2f4eb0c00c6c",
   "metadata": {
    "ExecuteTime": {
     "end_time": "2025-01-09T21:12:30.263783Z",
     "start_time": "2025-01-09T21:12:30.259591Z"
    }
   },
   "outputs": [],
   "source": [
    "num_vale3 = 100"
   ]
  },
  {
   "cell_type": "code",
   "execution_count": 188,
   "id": "38ebe5fa7f1de4ee",
   "metadata": {
    "ExecuteTime": {
     "end_time": "2025-01-09T21:12:30.408470Z",
     "start_time": "2025-01-09T21:12:30.402444Z"
    }
   },
   "outputs": [
    {
     "data": {
      "text/plain": [
       "100"
      ]
     },
     "execution_count": 188,
     "metadata": {},
     "output_type": "execute_result"
    }
   ],
   "source": [
    "num_vale3"
   ]
  },
  {
   "cell_type": "code",
   "execution_count": 189,
   "id": "40d015a977b88c8b",
   "metadata": {
    "ExecuteTime": {
     "end_time": "2025-01-09T21:12:30.498485Z",
     "start_time": "2025-01-09T21:12:30.494943Z"
    }
   },
   "outputs": [],
   "source": [
    "num_vale3_02 = 300"
   ]
  },
  {
   "cell_type": "code",
   "execution_count": 190,
   "id": "488a68b258561c7d",
   "metadata": {
    "ExecuteTime": {
     "end_time": "2025-01-09T21:12:30.612078Z",
     "start_time": "2025-01-09T21:12:30.606900Z"
    }
   },
   "outputs": [
    {
     "data": {
      "text/plain": [
       "400"
      ]
     },
     "execution_count": 190,
     "metadata": {},
     "output_type": "execute_result"
    }
   ],
   "source": [
    "num_vale3 + num_vale3_02"
   ]
  },
  {
   "cell_type": "code",
   "execution_count": 191,
   "id": "a80074a18f3c47b5",
   "metadata": {
    "ExecuteTime": {
     "end_time": "2025-01-09T21:12:30.689946Z",
     "start_time": "2025-01-09T21:12:30.684332Z"
    }
   },
   "outputs": [
    {
     "data": {
      "text/plain": [
       "int"
      ]
     },
     "execution_count": 191,
     "metadata": {},
     "output_type": "execute_result"
    }
   ],
   "source": [
    "type(num_vale3 + num_vale3_02)"
   ]
  },
  {
   "cell_type": "markdown",
   "id": "d6cadd441d064719",
   "metadata": {},
   "source": [
    "Vamos fazer um exemplo com Strings"
   ]
  },
  {
   "cell_type": "code",
   "execution_count": 192,
   "id": "fbf8b93b07777ed8",
   "metadata": {
    "ExecuteTime": {
     "end_time": "2025-01-09T21:12:30.776921Z",
     "start_time": "2025-01-09T21:12:30.772396Z"
    }
   },
   "outputs": [],
   "source": [
    "manchete = \"VALE3 foi o papel que mais subiu hoje\""
   ]
  },
  {
   "cell_type": "code",
   "execution_count": 193,
   "id": "4a7fcc080310fd7",
   "metadata": {
    "ExecuteTime": {
     "end_time": "2025-01-09T21:12:30.855100Z",
     "start_time": "2025-01-09T21:12:30.849824Z"
    }
   },
   "outputs": [
    {
     "data": {
      "text/plain": [
       "'VALE3 foi o papel que mais subiu hoje'"
      ]
     },
     "execution_count": 193,
     "metadata": {},
     "output_type": "execute_result"
    }
   ],
   "source": [
    "manchete"
   ]
  },
  {
   "cell_type": "code",
   "execution_count": 194,
   "id": "dd36a2b8859ad83b",
   "metadata": {
    "ExecuteTime": {
     "end_time": "2025-01-09T21:12:30.980757Z",
     "start_time": "2025-01-09T21:12:30.974732Z"
    }
   },
   "outputs": [
    {
     "data": {
      "text/plain": [
       "'VALE3 foi o papel que mais subiu hoje'"
      ]
     },
     "execution_count": 194,
     "metadata": {},
     "output_type": "execute_result"
    }
   ],
   "source": [
    "'VALE3 foi o papel que mais subiu hoje'"
   ]
  },
  {
   "cell_type": "code",
   "execution_count": 195,
   "id": "b70afab029b1f90e",
   "metadata": {
    "ExecuteTime": {
     "end_time": "2025-01-09T21:12:31.055768Z",
     "start_time": "2025-01-09T21:12:31.051366Z"
    }
   },
   "outputs": [],
   "source": [
    "manchete = 'VALE3 foi o papel que mais subiu hoje'"
   ]
  },
  {
   "cell_type": "code",
   "execution_count": 196,
   "id": "e809a43c985a2e64",
   "metadata": {
    "ExecuteTime": {
     "end_time": "2025-01-09T21:12:31.182795Z",
     "start_time": "2025-01-09T21:12:31.178917Z"
    }
   },
   "outputs": [],
   "source": [
    "qualquer_coisa = '83927428bj foehrcn eorehe uq`{:Ç^Ç>`^'"
   ]
  },
  {
   "cell_type": "code",
   "execution_count": 197,
   "id": "ceebefa4b4befb7c",
   "metadata": {
    "ExecuteTime": {
     "end_time": "2025-01-09T21:12:31.250940Z",
     "start_time": "2025-01-09T21:12:31.245336Z"
    }
   },
   "outputs": [
    {
     "data": {
      "text/plain": [
       "'83927428bj foehrcn eorehe uq`{:Ç^Ç>`^'"
      ]
     },
     "execution_count": 197,
     "metadata": {},
     "output_type": "execute_result"
    }
   ],
   "source": [
    "qualquer_coisa"
   ]
  },
  {
   "cell_type": "code",
   "execution_count": 198,
   "id": "de622f59bf2444ec",
   "metadata": {
    "ExecuteTime": {
     "end_time": "2025-01-09T21:12:31.350602Z",
     "start_time": "2025-01-09T21:12:31.345651Z"
    }
   },
   "outputs": [],
   "source": [
    "ativo = 'LREN3'"
   ]
  },
  {
   "cell_type": "code",
   "execution_count": 199,
   "id": "2f99c6ad0acfaee8",
   "metadata": {
    "ExecuteTime": {
     "end_time": "2025-01-09T21:12:31.410457Z",
     "start_time": "2025-01-09T21:12:31.404202Z"
    }
   },
   "outputs": [
    {
     "data": {
      "text/plain": [
       "'LREN3'"
      ]
     },
     "execution_count": 199,
     "metadata": {},
     "output_type": "execute_result"
    }
   ],
   "source": [
    "ativo"
   ]
  },
  {
   "cell_type": "markdown",
   "id": "c18c4fa2a285d725",
   "metadata": {},
   "source": [
    "Como os booleanos funcionam na prática?"
   ]
  },
  {
   "cell_type": "code",
   "execution_count": 200,
   "id": "e4ae2225b7857e41",
   "metadata": {
    "ExecuteTime": {
     "end_time": "2025-01-09T21:12:31.539996Z",
     "start_time": "2025-01-09T21:12:31.535002Z"
    }
   },
   "outputs": [
    {
     "data": {
      "text/plain": [
       "True"
      ]
     },
     "execution_count": 200,
     "metadata": {},
     "output_type": "execute_result"
    }
   ],
   "source": [
    "True"
   ]
  },
  {
   "cell_type": "code",
   "execution_count": 201,
   "id": "8f3cbaa7130ae1a7",
   "metadata": {
    "ExecuteTime": {
     "end_time": "2025-01-09T21:12:31.610235Z",
     "start_time": "2025-01-09T21:12:31.604083Z"
    }
   },
   "outputs": [
    {
     "data": {
      "text/plain": [
       "False"
      ]
     },
     "execution_count": 201,
     "metadata": {},
     "output_type": "execute_result"
    }
   ],
   "source": [
    "False"
   ]
  },
  {
   "cell_type": "code",
   "execution_count": 202,
   "id": "bb2bf1520da77183",
   "metadata": {
    "ExecuteTime": {
     "end_time": "2025-01-09T21:12:31.743306Z",
     "start_time": "2025-01-09T21:12:31.738534Z"
    }
   },
   "outputs": [
    {
     "data": {
      "text/plain": [
       "9"
      ]
     },
     "execution_count": 202,
     "metadata": {},
     "output_type": "execute_result"
    }
   ],
   "source": [
    "a"
   ]
  },
  {
   "cell_type": "code",
   "execution_count": 203,
   "id": "3cc2c8806e767acd",
   "metadata": {
    "ExecuteTime": {
     "end_time": "2025-01-09T21:12:31.815522Z",
     "start_time": "2025-01-09T21:12:31.810512Z"
    }
   },
   "outputs": [
    {
     "data": {
      "text/plain": [
       "30.78"
      ]
     },
     "execution_count": 203,
     "metadata": {},
     "output_type": "execute_result"
    }
   ],
   "source": [
    "b"
   ]
  },
  {
   "cell_type": "code",
   "execution_count": 204,
   "id": "87fa9772ae2db814",
   "metadata": {
    "ExecuteTime": {
     "end_time": "2025-01-09T21:12:31.923113Z",
     "start_time": "2025-01-09T21:12:31.919226Z"
    }
   },
   "outputs": [],
   "source": [
    "c = 70"
   ]
  },
  {
   "cell_type": "code",
   "execution_count": 205,
   "id": "e44d7eb13a6dc052",
   "metadata": {
    "ExecuteTime": {
     "end_time": "2025-01-09T21:12:32.015095Z",
     "start_time": "2025-01-09T21:12:32.009091Z"
    }
   },
   "outputs": [
    {
     "data": {
      "text/plain": [
       "False"
      ]
     },
     "execution_count": 205,
     "metadata": {},
     "output_type": "execute_result"
    }
   ],
   "source": [
    "a == b"
   ]
  },
  {
   "cell_type": "code",
   "execution_count": 206,
   "id": "923b70b6282261a5",
   "metadata": {
    "ExecuteTime": {
     "end_time": "2025-01-09T21:12:32.145552Z",
     "start_time": "2025-01-09T21:12:32.141297Z"
    }
   },
   "outputs": [],
   "source": [
    "a = b"
   ]
  },
  {
   "cell_type": "code",
   "execution_count": 207,
   "id": "b3a2a4f87b76aa67",
   "metadata": {
    "ExecuteTime": {
     "end_time": "2025-01-09T21:12:32.263324Z",
     "start_time": "2025-01-09T21:12:32.258044Z"
    }
   },
   "outputs": [
    {
     "data": {
      "text/plain": [
       "30.78"
      ]
     },
     "execution_count": 207,
     "metadata": {},
     "output_type": "execute_result"
    }
   ],
   "source": [
    "a"
   ]
  },
  {
   "cell_type": "code",
   "execution_count": 208,
   "id": "2ac03101c08f60e5",
   "metadata": {
    "ExecuteTime": {
     "end_time": "2025-01-09T21:12:32.405132Z",
     "start_time": "2025-01-09T21:12:32.400081Z"
    }
   },
   "outputs": [
    {
     "data": {
      "text/plain": [
       "True"
      ]
     },
     "execution_count": 208,
     "metadata": {},
     "output_type": "execute_result"
    }
   ],
   "source": [
    "a == b"
   ]
  },
  {
   "cell_type": "code",
   "execution_count": 209,
   "id": "f0129792d7618b2c",
   "metadata": {
    "ExecuteTime": {
     "end_time": "2025-01-09T21:12:32.468972Z",
     "start_time": "2025-01-09T21:12:32.466163Z"
    }
   },
   "outputs": [],
   "source": [
    "condicao = a == b"
   ]
  },
  {
   "cell_type": "code",
   "execution_count": 210,
   "id": "ec8ed4e7bdebecf9",
   "metadata": {
    "ExecuteTime": {
     "end_time": "2025-01-09T21:12:32.589038Z",
     "start_time": "2025-01-09T21:12:32.582738Z"
    }
   },
   "outputs": [
    {
     "data": {
      "text/plain": [
       "True"
      ]
     },
     "execution_count": 210,
     "metadata": {},
     "output_type": "execute_result"
    }
   ],
   "source": [
    "condicao"
   ]
  },
  {
   "cell_type": "markdown",
   "id": "f81e8d23",
   "metadata": {},
   "source": [
    "### Exercício 1: Trabalhando com Tipos de Variáveis\n",
    "\n",
    "Crie variáveis em Python conforme os exemplos abaixo:\n",
    "\n",
    "- Uma variável inteira (int) que armazene o número de ações compradas (exemplo: 150).\n",
    "- Uma variável de ponto flutuante (float) que armazene o preço de um ativo (exemplo: R$ 35,75).\n",
    "- Uma variável de texto (str) que armazene uma manchete de notícia sobre um ativo.\n",
    "- Uma variável booleana (bool) que indique se uma ordem foi executada (True ou False)."
   ]
  },
  {
   "cell_type": "code",
   "execution_count": 211,
   "id": "6cac6f56",
   "metadata": {},
   "outputs": [],
   "source": [
    "# Resolução ao final do próximo item\n",
    "\n",
    "# Code aqui"
   ]
  },
  {
   "cell_type": "markdown",
   "id": "e3c180cb8160586a",
   "metadata": {},
   "source": [
    "## 2. Operadores Aritméticos"
   ]
  },
  {
   "cell_type": "markdown",
   "id": "d31514a0a6de829a",
   "metadata": {},
   "source": [
    "* Soma +\n",
    "* Subtração -\n",
    "* Multiplicação *\n",
    "* Divisão /\n",
    "* Divisão // (parte inteira)\n",
    "* Resto das divisões %\n",
    "* Potência **  "
   ]
  },
  {
   "cell_type": "markdown",
   "id": "f0d10e37f97d67c6",
   "metadata": {},
   "source": [
    "Aprendendo com exercícios"
   ]
  },
  {
   "cell_type": "markdown",
   "id": "a11a9ca051125f7e",
   "metadata": {},
   "source": [
    "No momento, as ações da PETR4 estão cotadas a 23.07 e as da VALE3 a 85.75. No mesmo dia, você fez duas aquisições: 100 de PETR4 e mais 200 de VALE3. Qual o valor que você investiu neste dia?"
   ]
  },
  {
   "cell_type": "code",
   "execution_count": 212,
   "id": "8399353518c529db",
   "metadata": {
    "ExecuteTime": {
     "end_time": "2025-01-09T21:12:32.672750Z",
     "start_time": "2025-01-09T21:12:32.667129Z"
    }
   },
   "outputs": [
    {
     "data": {
      "text/plain": [
       "2307.0"
      ]
     },
     "execution_count": 212,
     "metadata": {},
     "output_type": "execute_result"
    }
   ],
   "source": [
    "100*23.07"
   ]
  },
  {
   "cell_type": "code",
   "execution_count": 213,
   "id": "fc2152b3976fb746",
   "metadata": {
    "ExecuteTime": {
     "end_time": "2025-01-09T21:12:32.793195Z",
     "start_time": "2025-01-09T21:12:32.788041Z"
    }
   },
   "outputs": [
    {
     "data": {
      "text/plain": [
       "17150.0"
      ]
     },
     "execution_count": 213,
     "metadata": {},
     "output_type": "execute_result"
    }
   ],
   "source": [
    "200*85.75"
   ]
  },
  {
   "cell_type": "code",
   "execution_count": 214,
   "id": "4c23021b5bbab830",
   "metadata": {
    "ExecuteTime": {
     "end_time": "2025-01-09T21:12:32.880086Z",
     "start_time": "2025-01-09T21:12:32.875141Z"
    }
   },
   "outputs": [
    {
     "data": {
      "text/plain": [
       "19457.0"
      ]
     },
     "execution_count": 214,
     "metadata": {},
     "output_type": "execute_result"
    }
   ],
   "source": [
    "2307.0 + 17150.0"
   ]
  },
  {
   "cell_type": "code",
   "execution_count": 215,
   "id": "2afb8d3550010464",
   "metadata": {
    "ExecuteTime": {
     "end_time": "2025-01-09T21:12:32.988121Z",
     "start_time": "2025-01-09T21:12:32.984881Z"
    }
   },
   "outputs": [],
   "source": [
    "preco_petr4 = 23.07\n",
    "preco_vale3 = 85.75"
   ]
  },
  {
   "cell_type": "code",
   "execution_count": 216,
   "id": "e61a1c1757f0f422",
   "metadata": {
    "ExecuteTime": {
     "end_time": "2025-01-09T21:12:33.059753Z",
     "start_time": "2025-01-09T21:12:33.056449Z"
    }
   },
   "outputs": [],
   "source": [
    "num_petr4 = 100\n",
    "num_vale3 = 200"
   ]
  },
  {
   "cell_type": "code",
   "execution_count": 217,
   "id": "8cf489fd329dde45",
   "metadata": {
    "ExecuteTime": {
     "end_time": "2025-01-09T21:12:33.186833Z",
     "start_time": "2025-01-09T21:12:33.183655Z"
    }
   },
   "outputs": [],
   "source": [
    "valor_petr4 = preco_petr4 * num_petr4\n",
    "valor_vale3 = preco_vale3 * num_vale3"
   ]
  },
  {
   "cell_type": "code",
   "execution_count": 218,
   "id": "23ef41a2cc56c73c",
   "metadata": {
    "ExecuteTime": {
     "end_time": "2025-01-09T21:12:33.250547Z",
     "start_time": "2025-01-09T21:12:33.246242Z"
    }
   },
   "outputs": [],
   "source": [
    "investimento_total = valor_petr4 + valor_vale3"
   ]
  },
  {
   "cell_type": "code",
   "execution_count": 219,
   "id": "18ba8a3eb237ac3a",
   "metadata": {
    "ExecuteTime": {
     "end_time": "2025-01-09T21:12:33.337539Z",
     "start_time": "2025-01-09T21:12:33.332543Z"
    }
   },
   "outputs": [
    {
     "data": {
      "text/plain": [
       "19457.0"
      ]
     },
     "execution_count": 219,
     "metadata": {},
     "output_type": "execute_result"
    }
   ],
   "source": [
    "investimento_total"
   ]
  },
  {
   "cell_type": "markdown",
   "id": "276bff862a57c635",
   "metadata": {},
   "source": [
    "Algumas outras possibilidades"
   ]
  },
  {
   "cell_type": "markdown",
   "id": "41db34c86bd6cfdd",
   "metadata": {},
   "source": [
    "Sabendo o valor total investido, e o valor da compra de VALE3, quanto foi investido em PETR4?"
   ]
  },
  {
   "cell_type": "code",
   "execution_count": 220,
   "id": "2fcbbba1d3bc0d12",
   "metadata": {
    "ExecuteTime": {
     "end_time": "2025-01-09T21:12:33.404456Z",
     "start_time": "2025-01-09T21:12:33.398525Z"
    }
   },
   "outputs": [
    {
     "data": {
      "text/plain": [
       "2307.0"
      ]
     },
     "execution_count": 220,
     "metadata": {},
     "output_type": "execute_result"
    }
   ],
   "source": [
    "investimento_total - valor_vale3"
   ]
  },
  {
   "cell_type": "markdown",
   "id": "840611f1dbeedc9c",
   "metadata": {},
   "source": [
    "Sabendo o valor investido em PETR4 e o número de ações compradas, qual era a cotação de PETR4 no momento da compra?"
   ]
  },
  {
   "cell_type": "code",
   "execution_count": 221,
   "id": "1a431efca8fe73e5",
   "metadata": {
    "ExecuteTime": {
     "end_time": "2025-01-09T21:12:33.528828Z",
     "start_time": "2025-01-09T21:12:33.521372Z"
    }
   },
   "outputs": [
    {
     "data": {
      "text/plain": [
       "23.07"
      ]
     },
     "execution_count": 221,
     "metadata": {},
     "output_type": "execute_result"
    }
   ],
   "source": [
    "valor_petr4 / num_petr4"
   ]
  },
  {
   "cell_type": "markdown",
   "id": "c57be0ecdcb02bce",
   "metadata": {},
   "source": [
    "Suponha que eu tenho R$ 4000 na carteira. Quantas ações de VALE3 eu consigo comprar?"
   ]
  },
  {
   "cell_type": "code",
   "execution_count": 222,
   "id": "f59fdd3e037993eb",
   "metadata": {
    "ExecuteTime": {
     "end_time": "2025-01-09T21:12:33.594844Z",
     "start_time": "2025-01-09T21:12:33.590864Z"
    }
   },
   "outputs": [],
   "source": [
    "carteira = 4000"
   ]
  },
  {
   "cell_type": "code",
   "execution_count": 223,
   "id": "cec38a235a0521b5",
   "metadata": {
    "ExecuteTime": {
     "end_time": "2025-01-09T21:12:33.751292Z",
     "start_time": "2025-01-09T21:12:33.746131Z"
    }
   },
   "outputs": [
    {
     "data": {
      "text/plain": [
       "85.75"
      ]
     },
     "execution_count": 223,
     "metadata": {},
     "output_type": "execute_result"
    }
   ],
   "source": [
    "preco_vale3"
   ]
  },
  {
   "cell_type": "code",
   "execution_count": 224,
   "id": "7eb91038b4909034",
   "metadata": {
    "ExecuteTime": {
     "end_time": "2025-01-09T21:12:33.838637Z",
     "start_time": "2025-01-09T21:12:33.833896Z"
    }
   },
   "outputs": [
    {
     "data": {
      "text/plain": [
       "46.647230320699705"
      ]
     },
     "execution_count": 224,
     "metadata": {},
     "output_type": "execute_result"
    }
   ],
   "source": [
    "carteira / preco_vale3"
   ]
  },
  {
   "cell_type": "markdown",
   "id": "cb31d85d2e4fbba0",
   "metadata": {},
   "source": [
    "É aí que entra o operador da divisão da parte inteira"
   ]
  },
  {
   "cell_type": "code",
   "execution_count": 225,
   "id": "680eb312d059cb82",
   "metadata": {
    "ExecuteTime": {
     "end_time": "2025-01-09T21:12:33.929469Z",
     "start_time": "2025-01-09T21:12:33.924121Z"
    }
   },
   "outputs": [
    {
     "data": {
      "text/plain": [
       "46.0"
      ]
     },
     "execution_count": 225,
     "metadata": {},
     "output_type": "execute_result"
    }
   ],
   "source": [
    "carteira // preco_vale3"
   ]
  },
  {
   "cell_type": "code",
   "execution_count": 226,
   "id": "fc71743911334383",
   "metadata": {
    "ExecuteTime": {
     "end_time": "2025-01-09T21:12:34.002533Z",
     "start_time": "2025-01-09T21:12:33.997022Z"
    }
   },
   "outputs": [
    {
     "data": {
      "text/plain": [
       "2"
      ]
     },
     "execution_count": 226,
     "metadata": {},
     "output_type": "execute_result"
    }
   ],
   "source": [
    "10 // 4"
   ]
  },
  {
   "cell_type": "code",
   "execution_count": 227,
   "id": "c1793ddf0d4a24ab",
   "metadata": {
    "ExecuteTime": {
     "end_time": "2025-01-09T21:12:34.165359Z",
     "start_time": "2025-01-09T21:12:34.158229Z"
    }
   },
   "outputs": [
    {
     "data": {
      "text/plain": [
       "3"
      ]
     },
     "execution_count": 227,
     "metadata": {},
     "output_type": "execute_result"
    }
   ],
   "source": [
    "10 // 3"
   ]
  },
  {
   "cell_type": "markdown",
   "id": "c58eda7888cebfc0",
   "metadata": {},
   "source": [
    "Resto das divisões"
   ]
  },
  {
   "cell_type": "code",
   "execution_count": 228,
   "id": "da7a07218a78f42c",
   "metadata": {
    "ExecuteTime": {
     "end_time": "2025-01-09T21:12:34.284809Z",
     "start_time": "2025-01-09T21:12:34.278813Z"
    }
   },
   "outputs": [
    {
     "data": {
      "text/plain": [
       "5.0"
      ]
     },
     "execution_count": 228,
     "metadata": {},
     "output_type": "execute_result"
    }
   ],
   "source": [
    "10 / 2"
   ]
  },
  {
   "cell_type": "code",
   "execution_count": 229,
   "id": "8ace1bfd5be68572",
   "metadata": {
    "ExecuteTime": {
     "end_time": "2025-01-09T21:12:34.436034Z",
     "start_time": "2025-01-09T21:12:34.431078Z"
    }
   },
   "outputs": [
    {
     "data": {
      "text/plain": [
       "0"
      ]
     },
     "execution_count": 229,
     "metadata": {},
     "output_type": "execute_result"
    }
   ],
   "source": [
    "10 % 2"
   ]
  },
  {
   "cell_type": "code",
   "execution_count": 230,
   "id": "b55b47884ef3b88d",
   "metadata": {
    "ExecuteTime": {
     "end_time": "2025-01-09T21:12:34.502832Z",
     "start_time": "2025-01-09T21:12:34.498247Z"
    }
   },
   "outputs": [
    {
     "data": {
      "text/plain": [
       "0"
      ]
     },
     "execution_count": 230,
     "metadata": {},
     "output_type": "execute_result"
    }
   ],
   "source": [
    "10 % 2"
   ]
  },
  {
   "cell_type": "code",
   "execution_count": 231,
   "id": "40a66d75d53c0e67",
   "metadata": {
    "ExecuteTime": {
     "end_time": "2025-01-09T21:12:34.622272Z",
     "start_time": "2025-01-09T21:12:34.617351Z"
    }
   },
   "outputs": [
    {
     "data": {
      "text/plain": [
       "3.3333333333333335"
      ]
     },
     "execution_count": 231,
     "metadata": {},
     "output_type": "execute_result"
    }
   ],
   "source": [
    "10 / 3"
   ]
  },
  {
   "cell_type": "code",
   "execution_count": 232,
   "id": "235b3fdb0d73b1cd",
   "metadata": {
    "ExecuteTime": {
     "end_time": "2025-01-09T21:12:34.692361Z",
     "start_time": "2025-01-09T21:12:34.686126Z"
    }
   },
   "outputs": [
    {
     "data": {
      "text/plain": [
       "1"
      ]
     },
     "execution_count": 232,
     "metadata": {},
     "output_type": "execute_result"
    }
   ],
   "source": [
    "10 % 3"
   ]
  },
  {
   "cell_type": "markdown",
   "id": "cae9e9618f14122",
   "metadata": {},
   "source": [
    "Vamos utilizar os R$ 4000 da nossa conta de investimentos para aplicar em sua maioria em papéis da VALE3.\n",
    "\n",
    "Vamos utilizar o que sobrar para comprar algum outro papel mais barato.\n",
    "\n",
    "Quantas ações de MGLU3 nós conseguimos comprar?"
   ]
  },
  {
   "cell_type": "code",
   "execution_count": 233,
   "id": "3281d2c9cd920ca5",
   "metadata": {
    "ExecuteTime": {
     "end_time": "2025-01-09T21:12:34.829831Z",
     "start_time": "2025-01-09T21:12:34.825766Z"
    }
   },
   "outputs": [],
   "source": [
    "preco_mglu3 = 2.82"
   ]
  },
  {
   "cell_type": "markdown",
   "id": "a03d913177cf7fb4",
   "metadata": {},
   "source": [
    "1.Quantos ações de VALE3 nós conseguimos comprar?"
   ]
  },
  {
   "cell_type": "code",
   "execution_count": 234,
   "id": "d6dededa5960beee",
   "metadata": {
    "ExecuteTime": {
     "end_time": "2025-01-09T21:12:34.901635Z",
     "start_time": "2025-01-09T21:12:34.896575Z"
    }
   },
   "outputs": [
    {
     "data": {
      "text/plain": [
       "46.0"
      ]
     },
     "execution_count": 234,
     "metadata": {},
     "output_type": "execute_result"
    }
   ],
   "source": [
    "4000//preco_vale3"
   ]
  },
  {
   "cell_type": "code",
   "execution_count": 235,
   "id": "44624fba270bfd0c",
   "metadata": {
    "ExecuteTime": {
     "end_time": "2025-01-09T21:12:35.022742Z",
     "start_time": "2025-01-09T21:12:35.016952Z"
    }
   },
   "outputs": [
    {
     "data": {
      "text/plain": [
       "3944.5"
      ]
     },
     "execution_count": 235,
     "metadata": {},
     "output_type": "execute_result"
    }
   ],
   "source": [
    "preco_vale3*46"
   ]
  },
  {
   "cell_type": "code",
   "execution_count": 236,
   "id": "c74c304d9514c54",
   "metadata": {
    "ExecuteTime": {
     "end_time": "2025-01-09T21:12:35.099212Z",
     "start_time": "2025-01-09T21:12:35.094791Z"
    }
   },
   "outputs": [],
   "source": [
    "investimento_vale3 = preco_vale3*46"
   ]
  },
  {
   "cell_type": "code",
   "execution_count": 237,
   "id": "b566049bb51b92a4",
   "metadata": {
    "ExecuteTime": {
     "end_time": "2025-01-09T21:12:35.207849Z",
     "start_time": "2025-01-09T21:12:35.203853Z"
    }
   },
   "outputs": [],
   "source": [
    "sobra = 4000 - investimento_vale3"
   ]
  },
  {
   "cell_type": "code",
   "execution_count": 238,
   "id": "d521b921852cae5f",
   "metadata": {
    "ExecuteTime": {
     "end_time": "2025-01-09T21:12:35.257796Z",
     "start_time": "2025-01-09T21:12:35.252757Z"
    }
   },
   "outputs": [
    {
     "data": {
      "text/plain": [
       "55.5"
      ]
     },
     "execution_count": 238,
     "metadata": {},
     "output_type": "execute_result"
    }
   ],
   "source": [
    "sobra"
   ]
  },
  {
   "cell_type": "code",
   "execution_count": 239,
   "id": "2f9f8202ff9e47dc",
   "metadata": {
    "ExecuteTime": {
     "end_time": "2025-01-09T21:12:35.394352Z",
     "start_time": "2025-01-09T21:12:35.389312Z"
    }
   },
   "outputs": [
    {
     "data": {
      "text/plain": [
       "19.0"
      ]
     },
     "execution_count": 239,
     "metadata": {},
     "output_type": "execute_result"
    }
   ],
   "source": [
    "sobra // preco_mglu3"
   ]
  },
  {
   "cell_type": "markdown",
   "id": "defdb7066b49597e",
   "metadata": {},
   "source": [
    "Toda essa operação poderia ter sido feita de uma forma mais simples"
   ]
  },
  {
   "cell_type": "code",
   "execution_count": 240,
   "id": "e3420030da15714b",
   "metadata": {
    "ExecuteTime": {
     "end_time": "2025-01-09T21:12:35.445Z",
     "start_time": "2025-01-09T21:12:35.441478Z"
    }
   },
   "outputs": [],
   "source": [
    "resto_divisao = 4000 % preco_vale3"
   ]
  },
  {
   "cell_type": "code",
   "execution_count": 241,
   "id": "24882003f543553e",
   "metadata": {
    "ExecuteTime": {
     "end_time": "2025-01-09T21:12:35.598452Z",
     "start_time": "2025-01-09T21:12:35.592459Z"
    }
   },
   "outputs": [
    {
     "data": {
      "text/plain": [
       "19.0"
      ]
     },
     "execution_count": 241,
     "metadata": {},
     "output_type": "execute_result"
    }
   ],
   "source": [
    "resto_divisao // preco_mglu3"
   ]
  },
  {
   "cell_type": "markdown",
   "id": "e49acc62c1d2e104",
   "metadata": {},
   "source": [
    "Potenciação"
   ]
  },
  {
   "cell_type": "code",
   "execution_count": 242,
   "id": "6f61c4075bbb79ff",
   "metadata": {
    "ExecuteTime": {
     "end_time": "2025-01-09T21:12:35.646834Z",
     "start_time": "2025-01-09T21:12:35.641837Z"
    }
   },
   "outputs": [
    {
     "data": {
      "text/plain": [
       "4"
      ]
     },
     "execution_count": 242,
     "metadata": {},
     "output_type": "execute_result"
    }
   ],
   "source": [
    "2**2"
   ]
  },
  {
   "cell_type": "code",
   "execution_count": 243,
   "id": "cfdd6fd732384054",
   "metadata": {
    "ExecuteTime": {
     "end_time": "2025-01-09T21:12:35.790090Z",
     "start_time": "2025-01-09T21:12:35.785038Z"
    }
   },
   "outputs": [
    {
     "data": {
      "text/plain": [
       "8"
      ]
     },
     "execution_count": 243,
     "metadata": {},
     "output_type": "execute_result"
    }
   ],
   "source": [
    "2**3"
   ]
  },
  {
   "cell_type": "code",
   "execution_count": 244,
   "id": "2acfd806b30dc77f",
   "metadata": {
    "ExecuteTime": {
     "end_time": "2025-01-09T21:12:35.856407Z",
     "start_time": "2025-01-09T21:12:35.847567Z"
    }
   },
   "outputs": [
    {
     "data": {
      "text/plain": [
       "16"
      ]
     },
     "execution_count": 244,
     "metadata": {},
     "output_type": "execute_result"
    }
   ],
   "source": [
    "2**4"
   ]
  },
  {
   "cell_type": "markdown",
   "id": "6911beb1",
   "metadata": {},
   "source": [
    "### Exercício 2: Quantas Ações de VALE3 Você Pode Comprar\n",
    "\n",
    "Suponha que você tenha R$ 4.000 na carteira e que o preço de cada ação de VALE3 seja R$ 85,75. Calcule:\n",
    "- Quantas ações inteiras de VALE3 você pode comprar.\n",
    "- Qual será o valor total investido nessas ações.\n",
    "- Quanto sobra após a compra."
   ]
  },
  {
   "cell_type": "code",
   "execution_count": 245,
   "id": "282b4375",
   "metadata": {},
   "outputs": [],
   "source": [
    "# Solução ao final do próximo item\n",
    "\n",
    "# Code aqui"
   ]
  },
  {
   "cell_type": "markdown",
   "id": "41dcf145",
   "metadata": {},
   "source": [
    "### Resolução do Exercício 1\n",
    "\n",
    "Trabalhando com Tipos de Variáveis\n",
    "Crie variáveis em Python conforme os exemplos abaixo:\n",
    "\n",
    "- Uma variável inteira (int) que armazene o número de ações compradas (exemplo: 150).\n",
    "- Uma variável de ponto flutuante (float) que armazene o preço de um ativo (exemplo: R$ 35,75).\n",
    "- Uma variável de texto (str) que armazene uma manchete de notícia sobre um ativo.\n",
    "- Uma variável booleana (bool) que indique se uma ordem foi executada (True ou False)."
   ]
  },
  {
   "cell_type": "code",
   "execution_count": 246,
   "id": "2ed748f8",
   "metadata": {},
   "outputs": [
    {
     "name": "stdout",
     "output_type": "stream",
     "text": [
      "<class 'int'>\n",
      "<class 'float'>\n",
      "<class 'str'>\n",
      "<class 'bool'>\n"
     ]
    }
   ],
   "source": [
    "# Solução do Exercício Anterior\n",
    "\"\"\"\n",
    "Exercício 1: Trabalhando com Tipos de Variáveis\n",
    "Crie variáveis em Python conforme os exemplos abaixo:\n",
    "\n",
    "Uma variável inteira (int) que armazene o número de ações compradas (exemplo: 150).\n",
    "Uma variável de ponto flutuante (float) que armazene o preço de um ativo (exemplo: R$ 35,75).\n",
    "Uma variável de texto (str) que armazene uma manchete de notícia sobre um ativo.\n",
    "Uma variável booleana (bool) que indique se uma ordem foi executada (True ou False).\n",
    "\"\"\"\n",
    "\n",
    "# Variáveis criadas\n",
    "num_acoes = 150  # int\n",
    "preco_ativo = 35.75  # float\n",
    "manchete_noticia = \"Ações da VALE3 fecharam em alta hoje.\"  # str\n",
    "ordem_executada = True  # bool\n",
    "\n",
    "# Verificando os tipos\n",
    "print(type(num_acoes))  # Saída: <class 'int'>\n",
    "print(type(preco_ativo))  # Saída: <class 'float'>\n",
    "print(type(manchete_noticia))  # Saída: <class 'str'>\n",
    "print(type(ordem_executada))  # Saída: <class 'bool'>"
   ]
  },
  {
   "cell_type": "markdown",
   "id": "ec6e91158f279b9e",
   "metadata": {},
   "source": [
    "## 3. Operadores Lógicos"
   ]
  },
  {
   "cell_type": "markdown",
   "id": "667cabda645984b7",
   "metadata": {},
   "source": [
    "### 3.1. Operadores comparativos"
   ]
  },
  {
   "cell_type": "markdown",
   "id": "c979148b303b1efa",
   "metadata": {},
   "source": [
    "* Igualdade ==\n",
    "* Diferença !=\n",
    "* Menor <\n",
    "* Maior >\n",
    "* Menor ou igual <=\n",
    "* Maior ou igual >="
   ]
  },
  {
   "cell_type": "markdown",
   "id": "10816d630d50d249",
   "metadata": {},
   "source": [
    "Exemplo: vamos testar se o investimento feito em PETR4 foi igual ao investimento feito em VALE3."
   ]
  },
  {
   "cell_type": "markdown",
   "id": "b6751548c397e868",
   "metadata": {},
   "source": []
  },
  {
   "cell_type": "code",
   "execution_count": 247,
   "id": "38cc68f26eaccd4a",
   "metadata": {
    "ExecuteTime": {
     "end_time": "2025-01-09T21:12:36.070597Z",
     "start_time": "2025-01-09T21:12:36.065079Z"
    }
   },
   "outputs": [
    {
     "data": {
      "text/plain": [
       "2307.0"
      ]
     },
     "execution_count": 247,
     "metadata": {},
     "output_type": "execute_result"
    }
   ],
   "source": [
    "valor_petr4"
   ]
  },
  {
   "cell_type": "code",
   "execution_count": 248,
   "id": "fedf83ab8382c2e3",
   "metadata": {
    "ExecuteTime": {
     "end_time": "2025-01-09T21:12:36.159351Z",
     "start_time": "2025-01-09T21:12:36.153632Z"
    }
   },
   "outputs": [
    {
     "data": {
      "text/plain": [
       "17150.0"
      ]
     },
     "execution_count": 248,
     "metadata": {},
     "output_type": "execute_result"
    }
   ],
   "source": [
    "valor_vale3"
   ]
  },
  {
   "cell_type": "code",
   "execution_count": 249,
   "id": "e18a14f6916c5714",
   "metadata": {
    "ExecuteTime": {
     "end_time": "2025-01-09T21:12:36.311417Z",
     "start_time": "2025-01-09T21:12:36.305460Z"
    }
   },
   "outputs": [
    {
     "data": {
      "text/plain": [
       "False"
      ]
     },
     "execution_count": 249,
     "metadata": {},
     "output_type": "execute_result"
    }
   ],
   "source": [
    "valor_petr4 == valor_vale3"
   ]
  },
  {
   "cell_type": "code",
   "execution_count": 250,
   "id": "4727914ab81005c5",
   "metadata": {
    "ExecuteTime": {
     "end_time": "2025-01-09T21:12:36.377035Z",
     "start_time": "2025-01-09T21:12:36.373818Z"
    }
   },
   "outputs": [],
   "source": [
    "novo_investimento_petr4 = valor_vale3"
   ]
  },
  {
   "cell_type": "code",
   "execution_count": 251,
   "id": "72e6ebbb991d2815",
   "metadata": {
    "ExecuteTime": {
     "end_time": "2025-01-09T21:12:36.528889Z",
     "start_time": "2025-01-09T21:12:36.522632Z"
    }
   },
   "outputs": [
    {
     "data": {
      "text/plain": [
       "False"
      ]
     },
     "execution_count": 251,
     "metadata": {},
     "output_type": "execute_result"
    }
   ],
   "source": [
    "novo_investimento_petr4 == valor_petr4"
   ]
  },
  {
   "cell_type": "code",
   "execution_count": 252,
   "id": "216e1480efeaeaf4",
   "metadata": {
    "ExecuteTime": {
     "end_time": "2025-01-09T21:12:36.593149Z",
     "start_time": "2025-01-09T21:12:36.588078Z"
    }
   },
   "outputs": [
    {
     "data": {
      "text/plain": [
       "True"
      ]
     },
     "execution_count": 252,
     "metadata": {},
     "output_type": "execute_result"
    }
   ],
   "source": [
    "novo_investimento_petr4 == valor_vale3"
   ]
  },
  {
   "cell_type": "markdown",
   "id": "95f16614fad7640d",
   "metadata": {},
   "source": [
    "Para o operador de diferença, usamos o mesmo raciocínio."
   ]
  },
  {
   "cell_type": "code",
   "execution_count": 253,
   "id": "2e4e0a26bb5f1c94",
   "metadata": {
    "ExecuteTime": {
     "end_time": "2025-01-09T21:12:36.720879Z",
     "start_time": "2025-01-09T21:12:36.715965Z"
    }
   },
   "outputs": [
    {
     "data": {
      "text/plain": [
       "True"
      ]
     },
     "execution_count": 253,
     "metadata": {},
     "output_type": "execute_result"
    }
   ],
   "source": [
    "valor_petr4 != valor_vale3"
   ]
  },
  {
   "cell_type": "code",
   "execution_count": 254,
   "id": "4c01bfdd4f9e26ba",
   "metadata": {
    "ExecuteTime": {
     "end_time": "2025-01-09T21:12:36.759249Z",
     "start_time": "2025-01-09T21:12:36.753473Z"
    }
   },
   "outputs": [
    {
     "data": {
      "text/plain": [
       "False"
      ]
     },
     "execution_count": 254,
     "metadata": {},
     "output_type": "execute_result"
    }
   ],
   "source": [
    "novo_investimento_petr4 != valor_vale3"
   ]
  },
  {
   "cell_type": "markdown",
   "id": "c41491cc88e5efc3",
   "metadata": {},
   "source": [
    "Vamos fazer alguns exemplos com os operadores menor e maior."
   ]
  },
  {
   "cell_type": "code",
   "execution_count": 255,
   "id": "2d71b134d730045f",
   "metadata": {
    "ExecuteTime": {
     "end_time": "2025-01-09T21:12:36.909949Z",
     "start_time": "2025-01-09T21:12:36.904721Z"
    }
   },
   "outputs": [
    {
     "data": {
      "text/plain": [
       "False"
      ]
     },
     "execution_count": 255,
     "metadata": {},
     "output_type": "execute_result"
    }
   ],
   "source": [
    "valor_petr4 > valor_vale3"
   ]
  },
  {
   "cell_type": "code",
   "execution_count": 256,
   "id": "2376f1f928f76934",
   "metadata": {
    "ExecuteTime": {
     "end_time": "2025-01-09T21:12:36.966279Z",
     "start_time": "2025-01-09T21:12:36.961575Z"
    }
   },
   "outputs": [
    {
     "data": {
      "text/plain": [
       "17150.0"
      ]
     },
     "execution_count": 256,
     "metadata": {},
     "output_type": "execute_result"
    }
   ],
   "source": [
    "novo_investimento_petr4"
   ]
  },
  {
   "cell_type": "code",
   "execution_count": 257,
   "id": "a92e3641073c6c8f",
   "metadata": {
    "ExecuteTime": {
     "end_time": "2025-01-09T21:12:37.124182Z",
     "start_time": "2025-01-09T21:12:37.119139Z"
    }
   },
   "outputs": [
    {
     "data": {
      "text/plain": [
       "True"
      ]
     },
     "execution_count": 257,
     "metadata": {},
     "output_type": "execute_result"
    }
   ],
   "source": [
    "novo_investimento_petr4 <= valor_vale3"
   ]
  },
  {
   "cell_type": "markdown",
   "id": "1e15d82fdfa6e312",
   "metadata": {},
   "source": [
    "Vamos testar algumas dessas condições com textos (strings)"
   ]
  },
  {
   "cell_type": "code",
   "execution_count": 258,
   "id": "37a851f23cd07db7",
   "metadata": {
    "ExecuteTime": {
     "end_time": "2025-01-09T21:12:37.170276Z",
     "start_time": "2025-01-09T21:12:37.165927Z"
    }
   },
   "outputs": [],
   "source": [
    "papel01 = 'MGLU3'\n",
    "papel02 = 'LREN3'"
   ]
  },
  {
   "cell_type": "code",
   "execution_count": 259,
   "id": "d15a1959a69dab45",
   "metadata": {
    "ExecuteTime": {
     "end_time": "2025-01-09T21:12:37.320919Z",
     "start_time": "2025-01-09T21:12:37.315329Z"
    }
   },
   "outputs": [
    {
     "data": {
      "text/plain": [
       "'MGLU3'"
      ]
     },
     "execution_count": 259,
     "metadata": {},
     "output_type": "execute_result"
    }
   ],
   "source": [
    "papel01"
   ]
  },
  {
   "cell_type": "code",
   "execution_count": 260,
   "id": "c9a6cd20f3b9fb9c",
   "metadata": {
    "ExecuteTime": {
     "end_time": "2025-01-09T21:12:37.381723Z",
     "start_time": "2025-01-09T21:12:37.376494Z"
    }
   },
   "outputs": [
    {
     "data": {
      "text/plain": [
       "'LREN3'"
      ]
     },
     "execution_count": 260,
     "metadata": {},
     "output_type": "execute_result"
    }
   ],
   "source": [
    "papel02"
   ]
  },
  {
   "cell_type": "code",
   "execution_count": 261,
   "id": "6c89dcc56e2a3029",
   "metadata": {
    "ExecuteTime": {
     "end_time": "2025-01-09T21:12:37.514715Z",
     "start_time": "2025-01-09T21:12:37.509716Z"
    }
   },
   "outputs": [
    {
     "data": {
      "text/plain": [
       "False"
      ]
     },
     "execution_count": 261,
     "metadata": {},
     "output_type": "execute_result"
    }
   ],
   "source": [
    "papel01 == papel02"
   ]
  },
  {
   "cell_type": "code",
   "execution_count": 262,
   "id": "8b19ec6793c25e1c",
   "metadata": {
    "ExecuteTime": {
     "end_time": "2025-01-09T21:12:37.561130Z",
     "start_time": "2025-01-09T21:12:37.556649Z"
    }
   },
   "outputs": [
    {
     "data": {
      "text/plain": [
       "True"
      ]
     },
     "execution_count": 262,
     "metadata": {},
     "output_type": "execute_result"
    }
   ],
   "source": [
    "papel01 != papel02"
   ]
  },
  {
   "cell_type": "markdown",
   "id": "e27873b4599a9119",
   "metadata": {},
   "source": [
    "### 3.2. Operadores condicionais"
   ]
  },
  {
   "cell_type": "markdown",
   "id": "2dd3f39a63072456",
   "metadata": {},
   "source": [
    "* and (e)\n",
    "* or (ou)\n",
    "* not"
   ]
  },
  {
   "cell_type": "code",
   "execution_count": 263,
   "id": "3ff293368aa427ad",
   "metadata": {
    "ExecuteTime": {
     "end_time": "2025-01-09T21:12:37.700175Z",
     "start_time": "2025-01-09T21:12:37.695333Z"
    }
   },
   "outputs": [
    {
     "data": {
      "text/plain": [
       "100"
      ]
     },
     "execution_count": 263,
     "metadata": {},
     "output_type": "execute_result"
    }
   ],
   "source": [
    "num_petr4"
   ]
  },
  {
   "cell_type": "code",
   "execution_count": 264,
   "id": "aa78aabce52c5ae0",
   "metadata": {
    "ExecuteTime": {
     "end_time": "2025-01-09T21:12:37.790581Z",
     "start_time": "2025-01-09T21:12:37.785287Z"
    }
   },
   "outputs": [
    {
     "data": {
      "text/plain": [
       "200"
      ]
     },
     "execution_count": 264,
     "metadata": {},
     "output_type": "execute_result"
    }
   ],
   "source": [
    "num_vale3"
   ]
  },
  {
   "cell_type": "code",
   "execution_count": 265,
   "id": "adcf44ddc06d749f",
   "metadata": {
    "ExecuteTime": {
     "end_time": "2025-01-09T21:12:37.923425Z",
     "start_time": "2025-01-09T21:12:37.918372Z"
    }
   },
   "outputs": [
    {
     "data": {
      "text/plain": [
       "True"
      ]
     },
     "execution_count": 265,
     "metadata": {},
     "output_type": "execute_result"
    }
   ],
   "source": [
    "num_vale3 > num_petr4"
   ]
  },
  {
   "cell_type": "code",
   "execution_count": 266,
   "id": "1c7bd934d9c90fe0",
   "metadata": {
    "ExecuteTime": {
     "end_time": "2025-01-09T21:12:37.967475Z",
     "start_time": "2025-01-09T21:12:37.964Z"
    }
   },
   "outputs": [],
   "source": [
    "num_mglu3 = 100\n",
    "num_lren3 = 50\n",
    "num_bbas3 = 200"
   ]
  },
  {
   "cell_type": "markdown",
   "id": "f62adeb479b92bbd",
   "metadata": {},
   "source": [
    "Utilizando o operador 'and'"
   ]
  },
  {
   "cell_type": "code",
   "execution_count": 267,
   "id": "a06013440b0730a8",
   "metadata": {
    "ExecuteTime": {
     "end_time": "2025-01-09T21:12:38.108578Z",
     "start_time": "2025-01-09T21:12:38.101716Z"
    }
   },
   "outputs": [
    {
     "data": {
      "text/plain": [
       "True"
      ]
     },
     "execution_count": 267,
     "metadata": {},
     "output_type": "execute_result"
    }
   ],
   "source": [
    "num_vale3 > num_petr4 and num_mglu3 > num_lren3"
   ]
  },
  {
   "cell_type": "code",
   "execution_count": 268,
   "id": "419e9b3683431e36",
   "metadata": {
    "ExecuteTime": {
     "end_time": "2025-01-09T21:12:38.168961Z",
     "start_time": "2025-01-09T21:12:38.163539Z"
    }
   },
   "outputs": [
    {
     "data": {
      "text/plain": [
       "False"
      ]
     },
     "execution_count": 268,
     "metadata": {},
     "output_type": "execute_result"
    }
   ],
   "source": [
    "num_vale3 > num_petr4 and num_mglu3 > num_bbas3"
   ]
  },
  {
   "cell_type": "code",
   "execution_count": 269,
   "id": "cf542d1c7505dd43",
   "metadata": {
    "ExecuteTime": {
     "end_time": "2025-01-09T21:12:38.349212Z",
     "start_time": "2025-01-09T21:12:38.344276Z"
    }
   },
   "outputs": [
    {
     "data": {
      "text/plain": [
       "False"
      ]
     },
     "execution_count": 269,
     "metadata": {},
     "output_type": "execute_result"
    }
   ],
   "source": [
    "(num_vale3 > num_petr4) and (num_mglu3 > num_bbas3)"
   ]
  },
  {
   "cell_type": "code",
   "execution_count": 270,
   "id": "74a80d409ffdd57a",
   "metadata": {
    "ExecuteTime": {
     "end_time": "2025-01-09T21:12:38.465829Z",
     "start_time": "2025-01-09T21:12:38.459095Z"
    }
   },
   "outputs": [
    {
     "data": {
      "text/plain": [
       "True"
      ]
     },
     "execution_count": 270,
     "metadata": {},
     "output_type": "execute_result"
    }
   ],
   "source": [
    "num_vale3 > num_petr4 and num_mglu3 > num_lren3 and num_vale3 > num_lren3"
   ]
  },
  {
   "cell_type": "code",
   "execution_count": 271,
   "id": "e107b0244128c9e",
   "metadata": {
    "ExecuteTime": {
     "end_time": "2025-01-09T21:12:38.692332Z",
     "start_time": "2025-01-09T21:12:38.686322Z"
    }
   },
   "outputs": [
    {
     "data": {
      "text/plain": [
       "True"
      ]
     },
     "execution_count": 271,
     "metadata": {},
     "output_type": "execute_result"
    }
   ],
   "source": [
    "(num_vale3 > num_petr4) and (num_mglu3 > num_lren3) and (num_vale3 > num_lren3)"
   ]
  },
  {
   "cell_type": "code",
   "execution_count": 272,
   "id": "cd5af2af85d2c04f",
   "metadata": {
    "ExecuteTime": {
     "end_time": "2025-01-09T21:12:38.777148Z",
     "start_time": "2025-01-09T21:12:38.770016Z"
    }
   },
   "outputs": [
    {
     "data": {
      "text/plain": [
       "True"
      ]
     },
     "execution_count": 272,
     "metadata": {},
     "output_type": "execute_result"
    }
   ],
   "source": [
    "(num_vale3 > num_petr4) & (num_mglu3 > num_lren3) & (num_vale3 > num_lren3)"
   ]
  },
  {
   "cell_type": "code",
   "execution_count": 273,
   "id": "6e47caf840e30f5b",
   "metadata": {
    "ExecuteTime": {
     "end_time": "2025-01-09T21:12:38.919661Z",
     "start_time": "2025-01-09T21:12:38.913382Z"
    }
   },
   "outputs": [
    {
     "data": {
      "text/plain": [
       "False"
      ]
     },
     "execution_count": 273,
     "metadata": {},
     "output_type": "execute_result"
    }
   ],
   "source": [
    "(num_vale3 > num_petr4) & (num_mglu3 > num_bbas3)"
   ]
  },
  {
   "cell_type": "markdown",
   "id": "600bcd6d9381b003",
   "metadata": {},
   "source": [
    "Utilizando o operador 'or'"
   ]
  },
  {
   "cell_type": "code",
   "execution_count": 274,
   "id": "6553f067984cb11",
   "metadata": {
    "ExecuteTime": {
     "end_time": "2025-01-09T21:12:39.010079Z",
     "start_time": "2025-01-09T21:12:39.004992Z"
    }
   },
   "outputs": [
    {
     "data": {
      "text/plain": [
       "True"
      ]
     },
     "execution_count": 274,
     "metadata": {},
     "output_type": "execute_result"
    }
   ],
   "source": [
    "num_vale3 > num_petr4 or num_mglu3 > num_lren3"
   ]
  },
  {
   "cell_type": "code",
   "execution_count": 275,
   "id": "b0c3ffec41d59b38",
   "metadata": {
    "ExecuteTime": {
     "end_time": "2025-01-09T21:12:39.166990Z",
     "start_time": "2025-01-09T21:12:39.160607Z"
    }
   },
   "outputs": [
    {
     "data": {
      "text/plain": [
       "True"
      ]
     },
     "execution_count": 275,
     "metadata": {},
     "output_type": "execute_result"
    }
   ],
   "source": [
    "num_vale3 > num_petr4 or num_mglu3 > num_bbas3"
   ]
  },
  {
   "cell_type": "code",
   "execution_count": 276,
   "id": "c6caac68891f890e",
   "metadata": {
    "ExecuteTime": {
     "end_time": "2025-01-09T21:12:39.378360Z",
     "start_time": "2025-01-09T21:12:39.372265Z"
    }
   },
   "outputs": [
    {
     "data": {
      "text/plain": [
       "False"
      ]
     },
     "execution_count": 276,
     "metadata": {},
     "output_type": "execute_result"
    }
   ],
   "source": [
    "num_vale3 == num_petr4 or num_mglu3 > num_bbas3"
   ]
  },
  {
   "cell_type": "code",
   "execution_count": 277,
   "id": "b7867984d49942",
   "metadata": {
    "ExecuteTime": {
     "end_time": "2025-01-09T21:12:39.574727Z",
     "start_time": "2025-01-09T21:12:39.568834Z"
    }
   },
   "outputs": [
    {
     "data": {
      "text/plain": [
       "True"
      ]
     },
     "execution_count": 277,
     "metadata": {},
     "output_type": "execute_result"
    }
   ],
   "source": [
    "num_vale3 == num_petr4 or num_mglu3 != num_bbas3"
   ]
  },
  {
   "cell_type": "code",
   "execution_count": 278,
   "id": "2416b40f823ae5d",
   "metadata": {
    "ExecuteTime": {
     "end_time": "2025-01-09T21:12:39.677850Z",
     "start_time": "2025-01-09T21:12:39.672393Z"
    }
   },
   "outputs": [
    {
     "data": {
      "text/plain": [
       "True"
      ]
     },
     "execution_count": 278,
     "metadata": {},
     "output_type": "execute_result"
    }
   ],
   "source": [
    "(num_vale3 == num_petr4 ) | (num_mglu3 != num_bbas3)"
   ]
  },
  {
   "cell_type": "code",
   "execution_count": 279,
   "id": "e118967dedc97968",
   "metadata": {
    "ExecuteTime": {
     "end_time": "2025-01-09T21:12:39.816836Z",
     "start_time": "2025-01-09T21:12:39.811664Z"
    }
   },
   "outputs": [
    {
     "data": {
      "text/plain": [
       "False"
      ]
     },
     "execution_count": 279,
     "metadata": {},
     "output_type": "execute_result"
    }
   ],
   "source": [
    "(num_vale3 == num_petr4 ) | (num_mglu3 > num_bbas3)"
   ]
  },
  {
   "cell_type": "markdown",
   "id": "beae7047e8a233c",
   "metadata": {},
   "source": [
    "Utilizando o operador 'not'"
   ]
  },
  {
   "cell_type": "code",
   "execution_count": 280,
   "id": "6b0b9f1b2d3e608",
   "metadata": {
    "ExecuteTime": {
     "end_time": "2025-01-09T21:12:39.915878Z",
     "start_time": "2025-01-09T21:12:39.910580Z"
    }
   },
   "outputs": [
    {
     "data": {
      "text/plain": [
       "True"
      ]
     },
     "execution_count": 280,
     "metadata": {},
     "output_type": "execute_result"
    }
   ],
   "source": [
    "(num_vale3 > num_petr4) or (num_mglu3 > num_lren3)"
   ]
  },
  {
   "cell_type": "code",
   "execution_count": 281,
   "id": "80ad324a45110f68",
   "metadata": {
    "ExecuteTime": {
     "end_time": "2025-01-09T21:12:40.062329Z",
     "start_time": "2025-01-09T21:12:40.056843Z"
    }
   },
   "outputs": [
    {
     "data": {
      "text/plain": [
       "False"
      ]
     },
     "execution_count": 281,
     "metadata": {},
     "output_type": "execute_result"
    }
   ],
   "source": [
    "not((num_vale3 > num_petr4) or (num_mglu3 > num_lren3))"
   ]
  },
  {
   "cell_type": "markdown",
   "id": "449c4014762ef815",
   "metadata": {},
   "source": [
    "Operadores de identidade"
   ]
  },
  {
   "cell_type": "code",
   "execution_count": 282,
   "id": "b3d44642ee866f66",
   "metadata": {
    "ExecuteTime": {
     "end_time": "2025-01-09T21:12:40.150546Z",
     "start_time": "2025-01-09T21:12:40.145548Z"
    }
   },
   "outputs": [
    {
     "data": {
      "text/plain": [
       "200"
      ]
     },
     "execution_count": 282,
     "metadata": {},
     "output_type": "execute_result"
    }
   ],
   "source": [
    "num_vale3"
   ]
  },
  {
   "cell_type": "code",
   "execution_count": 283,
   "id": "d277e4649bda3834",
   "metadata": {
    "ExecuteTime": {
     "end_time": "2025-01-09T21:12:40.325183Z",
     "start_time": "2025-01-09T21:12:40.319707Z"
    }
   },
   "outputs": [
    {
     "data": {
      "text/plain": [
       "False"
      ]
     },
     "execution_count": 283,
     "metadata": {},
     "output_type": "execute_result"
    }
   ],
   "source": [
    "num_vale3 is num_petr4"
   ]
  },
  {
   "cell_type": "code",
   "execution_count": 284,
   "id": "e72f17bcb935097a",
   "metadata": {
    "ExecuteTime": {
     "end_time": "2025-01-09T21:12:40.411853Z",
     "start_time": "2025-01-09T21:12:40.406705Z"
    }
   },
   "outputs": [
    {
     "data": {
      "text/plain": [
       "True"
      ]
     },
     "execution_count": 284,
     "metadata": {},
     "output_type": "execute_result"
    }
   ],
   "source": [
    "num_vale3 is not num_petr4"
   ]
  },
  {
   "cell_type": "markdown",
   "id": "411afc4c",
   "metadata": {},
   "source": [
    "### Exercício 3: Comparações e Condicionais\n",
    "\n",
    "Sabendo que:\n",
    "\n",
    "- O valor investido em PETR4 foi R$ 2.307,00.\n",
    "- O valor investido em VALE3 foi R$ 17.150,00.\n",
    "- Você comprou 200 ações de VALE3 e 100 ações de PETR4.\n",
    "\n",
    "Faça as seguintes verificações:\n",
    "\n",
    "- Verifique se o valor investido em PETR4 é menor do que o valor investido em VALE3.\n",
    "- Verifique se o número de ações compradas de VALE3 é maior do que o de PETR4.\n",
    "- Combine ambas as condições utilizando o operador and.\n",
    "- Inverta a última condição utilizando o operador not."
   ]
  },
  {
   "cell_type": "code",
   "execution_count": 285,
   "id": "e509f8d1",
   "metadata": {},
   "outputs": [],
   "source": [
    "# Resolução ao final do próximo item\n",
    "\n",
    "# Code aqui"
   ]
  },
  {
   "cell_type": "markdown",
   "id": "6d79bfd5",
   "metadata": {},
   "source": [
    "### Resolução do Exercício 2\n",
    "\n",
    "Quantas Ações de VALE3 Você Pode Comprar\n",
    "\n",
    "Suponha que você tenha R$ 4.000 na carteira e que o preço de cada ação de VALE3 seja R$ 85,75. Calcule:\n",
    "- Quantas ações inteiras de VALE3 você pode comprar.\n",
    "- Qual será o valor total investido nessas ações.\n",
    "- Quanto sobra após a compra.\n"
   ]
  },
  {
   "cell_type": "code",
   "execution_count": 286,
   "id": "8dfed804",
   "metadata": {},
   "outputs": [
    {
     "name": "stdout",
     "output_type": "stream",
     "text": [
      "Quantidade de ações de VALE3 compradas: 46.0\n",
      "Valor total investido: 3944.5\n",
      "Valor restante na carteira: 55.5\n"
     ]
    }
   ],
   "source": [
    "# Valores conhecidos\n",
    "carteira = 4000.0\n",
    "preco_vale3 = 85.75\n",
    "\n",
    "# Cálculos\n",
    "quantidade_vale3 = carteira // preco_vale3\n",
    "investimento_vale3 = quantidade_vale3 * preco_vale3\n",
    "sobra = carteira - investimento_vale3\n",
    "\n",
    "# Resultados\n",
    "print(\"Quantidade de ações de VALE3 compradas:\", quantidade_vale3)\n",
    "print(\"Valor total investido:\", investimento_vale3)\n",
    "print(\"Valor restante na carteira:\", sobra)"
   ]
  },
  {
   "cell_type": "markdown",
   "id": "3eb5edf5",
   "metadata": {},
   "source": [
    "## 4. Strings"
   ]
  },
  {
   "cell_type": "markdown",
   "id": "21a37663",
   "metadata": {},
   "source": [
    "### 4.1. Noções básicas"
   ]
  },
  {
   "cell_type": "markdown",
   "id": "50425bba",
   "metadata": {},
   "source": [
    "Antes de tudo, é importante prestar atenção na diferença de significado de uma variável numérica (int ou float) e uma variável de texto (ou string, str)"
   ]
  },
  {
   "cell_type": "code",
   "execution_count": 287,
   "id": "76b1f985",
   "metadata": {},
   "outputs": [
    {
     "data": {
      "text/plain": [
       "int"
      ]
     },
     "execution_count": 287,
     "metadata": {},
     "output_type": "execute_result"
    }
   ],
   "source": [
    "type(12)"
   ]
  },
  {
   "cell_type": "code",
   "execution_count": 288,
   "id": "97097d8b",
   "metadata": {},
   "outputs": [
    {
     "data": {
      "text/plain": [
       "str"
      ]
     },
     "execution_count": 288,
     "metadata": {},
     "output_type": "execute_result"
    }
   ],
   "source": [
    "type('12')"
   ]
  },
  {
   "cell_type": "code",
   "execution_count": 289,
   "id": "2887a99e",
   "metadata": {},
   "outputs": [],
   "source": [
    "num_string = \"20\""
   ]
  },
  {
   "cell_type": "code",
   "execution_count": 290,
   "id": "e15730c6",
   "metadata": {},
   "outputs": [],
   "source": [
    "num = 20"
   ]
  },
  {
   "cell_type": "code",
   "execution_count": 291,
   "id": "e5b50087",
   "metadata": {},
   "outputs": [
    {
     "data": {
      "text/plain": [
       "False"
      ]
     },
     "execution_count": 291,
     "metadata": {},
     "output_type": "execute_result"
    }
   ],
   "source": [
    "num == num_string"
   ]
  },
  {
   "cell_type": "code",
   "execution_count": 292,
   "id": "cd867661",
   "metadata": {},
   "outputs": [
    {
     "data": {
      "text/plain": [
       "10.0"
      ]
     },
     "execution_count": 292,
     "metadata": {},
     "output_type": "execute_result"
    }
   ],
   "source": [
    "num/2"
   ]
  },
  {
   "cell_type": "code",
   "execution_count": 293,
   "id": "c69ee613",
   "metadata": {},
   "outputs": [
    {
     "data": {
      "text/plain": [
       "30"
      ]
     },
     "execution_count": 293,
     "metadata": {},
     "output_type": "execute_result"
    }
   ],
   "source": [
    "num + 10"
   ]
  },
  {
   "cell_type": "code",
   "execution_count": 294,
   "id": "db995eaf",
   "metadata": {},
   "outputs": [
    {
     "ename": "TypeError",
     "evalue": "unsupported operand type(s) for /: 'str' and 'int'",
     "output_type": "error",
     "traceback": [
      "\u001B[1;31m---------------------------------------------------------------------------\u001B[0m",
      "\u001B[1;31mTypeError\u001B[0m                                 Traceback (most recent call last)",
      "Cell \u001B[1;32mIn[294], line 1\u001B[0m\n\u001B[1;32m----> 1\u001B[0m \u001B[43mnum_string\u001B[49m\u001B[38;5;241;43m/\u001B[39;49m\u001B[38;5;241;43m2\u001B[39;49m\n",
      "\u001B[1;31mTypeError\u001B[0m: unsupported operand type(s) for /: 'str' and 'int'"
     ]
    }
   ],
   "source": [
    "num_string/2"
   ]
  },
  {
   "cell_type": "code",
   "execution_count": 114,
   "id": "e90e2dbd",
   "metadata": {},
   "outputs": [
    {
     "ename": "TypeError",
     "evalue": "can only concatenate str (not \"int\") to str",
     "output_type": "error",
     "traceback": [
      "\u001B[1;31m---------------------------------------------------------------------------\u001B[0m",
      "\u001B[1;31mTypeError\u001B[0m                                 Traceback (most recent call last)",
      "Cell \u001B[1;32mIn[114], line 1\u001B[0m\n\u001B[1;32m----> 1\u001B[0m \u001B[43mnum_string\u001B[49m\u001B[43m \u001B[49m\u001B[38;5;241;43m+\u001B[39;49m\u001B[43m \u001B[49m\u001B[38;5;241;43m5\u001B[39;49m\n",
      "\u001B[1;31mTypeError\u001B[0m: can only concatenate str (not \"int\") to str"
     ]
    }
   ],
   "source": [
    "num_string + 5"
   ]
  },
  {
   "cell_type": "code",
   "execution_count": 295,
   "id": "5bcb3d73",
   "metadata": {},
   "outputs": [
    {
     "data": {
      "text/plain": [
       "'205'"
      ]
     },
     "execution_count": 295,
     "metadata": {},
     "output_type": "execute_result"
    }
   ],
   "source": [
    "num_string + '5'"
   ]
  },
  {
   "cell_type": "code",
   "execution_count": 296,
   "id": "fb4e3ede",
   "metadata": {},
   "outputs": [],
   "source": [
    "pi = 3.14"
   ]
  },
  {
   "cell_type": "code",
   "execution_count": 297,
   "id": "364a32b2",
   "metadata": {},
   "outputs": [],
   "source": [
    "pi_str = '3.14'"
   ]
  },
  {
   "cell_type": "code",
   "execution_count": 298,
   "id": "3c675285",
   "metadata": {},
   "outputs": [
    {
     "data": {
      "text/plain": [
       "float"
      ]
     },
     "execution_count": 298,
     "metadata": {},
     "output_type": "execute_result"
    }
   ],
   "source": [
    "type(pi)"
   ]
  },
  {
   "cell_type": "code",
   "execution_count": 299,
   "id": "5879fe52",
   "metadata": {},
   "outputs": [
    {
     "data": {
      "text/plain": [
       "str"
      ]
     },
     "execution_count": 299,
     "metadata": {},
     "output_type": "execute_result"
    }
   ],
   "source": [
    "type(pi_str)"
   ]
  },
  {
   "cell_type": "markdown",
   "id": "6959f631",
   "metadata": {},
   "source": [
    "### 4.2. Operações de indexação (indexing) e fatiamento (slicing)"
   ]
  },
  {
   "cell_type": "markdown",
   "id": "f604ee23",
   "metadata": {},
   "source": [
    "Suponha que você viu a seguinte manchete em um site de notícias:"
   ]
  },
  {
   "cell_type": "code",
   "execution_count": 120,
   "id": "529ff596",
   "metadata": {},
   "outputs": [],
   "source": [
    "manchete = \"Itaú BBA corta preço-alvo da JBS (JBSS3) e recomenda compra de Vittia (VITT3); Marcopolo (POMO4) é top pick do Bradesco BBI\""
   ]
  },
  {
   "cell_type": "code",
   "execution_count": 121,
   "id": "55757570",
   "metadata": {},
   "outputs": [
    {
     "data": {
      "text/plain": [
       "str"
      ]
     },
     "execution_count": 121,
     "metadata": {},
     "output_type": "execute_result"
    }
   ],
   "source": [
    "type(manchete)"
   ]
  },
  {
   "cell_type": "code",
   "execution_count": 122,
   "id": "17d43bb0",
   "metadata": {},
   "outputs": [
    {
     "name": "stdout",
     "output_type": "stream",
     "text": [
      "Itaú BBA corta preço-alvo da JBS (JBSS3) e recomenda compra de Vittia (VITT3); Marcopolo (POMO4) é top pick do Bradesco BBI\n"
     ]
    }
   ],
   "source": [
    "print(manchete)"
   ]
  },
  {
   "cell_type": "code",
   "execution_count": 123,
   "id": "61b1d92c",
   "metadata": {},
   "outputs": [
    {
     "data": {
      "text/plain": [
       "'Itaú BBA corta preço-alvo da JBS (JBSS3) e recomenda compra de Vittia (VITT3); Marcopolo (POMO4) é top pick do Bradesco BBI'"
      ]
     },
     "execution_count": 123,
     "metadata": {},
     "output_type": "execute_result"
    }
   ],
   "source": [
    "manchete"
   ]
  },
  {
   "cell_type": "code",
   "execution_count": 124,
   "id": "708274b1",
   "metadata": {},
   "outputs": [
    {
     "data": {
      "text/plain": [
       "123"
      ]
     },
     "execution_count": 124,
     "metadata": {},
     "output_type": "execute_result"
    }
   ],
   "source": [
    "len(manchete)"
   ]
  },
  {
   "cell_type": "code",
   "execution_count": 125,
   "id": "6d70eee6",
   "metadata": {},
   "outputs": [
    {
     "data": {
      "text/plain": [
       "'I'"
      ]
     },
     "execution_count": 125,
     "metadata": {},
     "output_type": "execute_result"
    }
   ],
   "source": [
    "manchete[0]"
   ]
  },
  {
   "cell_type": "code",
   "execution_count": 126,
   "id": "0ba701ef",
   "metadata": {},
   "outputs": [
    {
     "data": {
      "text/plain": [
       "'t'"
      ]
     },
     "execution_count": 126,
     "metadata": {},
     "output_type": "execute_result"
    }
   ],
   "source": [
    "manchete[1]"
   ]
  },
  {
   "cell_type": "code",
   "execution_count": 127,
   "id": "fe1a7446",
   "metadata": {},
   "outputs": [
    {
     "data": {
      "text/plain": [
       "'B'"
      ]
     },
     "execution_count": 127,
     "metadata": {},
     "output_type": "execute_result"
    }
   ],
   "source": [
    "manchete[5]"
   ]
  },
  {
   "cell_type": "code",
   "execution_count": 128,
   "id": "9ca01b7b",
   "metadata": {},
   "outputs": [
    {
     "data": {
      "text/plain": [
       "'I'"
      ]
     },
     "execution_count": 128,
     "metadata": {},
     "output_type": "execute_result"
    }
   ],
   "source": [
    "manchete[122]"
   ]
  },
  {
   "cell_type": "code",
   "execution_count": 129,
   "id": "386b9be9",
   "metadata": {},
   "outputs": [
    {
     "ename": "IndexError",
     "evalue": "string index out of range",
     "output_type": "error",
     "traceback": [
      "\u001B[1;31m---------------------------------------------------------------------------\u001B[0m",
      "\u001B[1;31mIndexError\u001B[0m                                Traceback (most recent call last)",
      "Cell \u001B[1;32mIn[129], line 1\u001B[0m\n\u001B[1;32m----> 1\u001B[0m \u001B[43mmanchete\u001B[49m\u001B[43m[\u001B[49m\u001B[38;5;241;43m123\u001B[39;49m\u001B[43m]\u001B[49m\n",
      "\u001B[1;31mIndexError\u001B[0m: string index out of range"
     ]
    }
   ],
   "source": [
    "manchete[123]"
   ]
  },
  {
   "cell_type": "markdown",
   "id": "7e662b00",
   "metadata": {},
   "source": [
    "Também é possível específicar um começo e um fim nas nossas operações de filtro (slicing)"
   ]
  },
  {
   "cell_type": "markdown",
   "id": "eeabb498",
   "metadata": {},
   "source": [
    "Vamos extrair Itaú"
   ]
  },
  {
   "cell_type": "code",
   "execution_count": null,
   "id": "9789d21a",
   "metadata": {},
   "outputs": [],
   "source": [
    "manchete[0:4]"
   ]
  },
  {
   "cell_type": "code",
   "execution_count": null,
   "id": "174488e0",
   "metadata": {},
   "outputs": [],
   "source": [
    "manchete[0:3]"
   ]
  },
  {
   "cell_type": "code",
   "execution_count": null,
   "id": "6b7a0ddf",
   "metadata": {},
   "outputs": [],
   "source": [
    "manchete[34:39]"
   ]
  },
  {
   "cell_type": "markdown",
   "id": "4206e0a9",
   "metadata": {},
   "source": [
    "Manipulações com as strings"
   ]
  },
  {
   "cell_type": "markdown",
   "id": "9ee02465",
   "metadata": {},
   "source": [
    "Do início até o caractere 5"
   ]
  },
  {
   "cell_type": "code",
   "execution_count": null,
   "id": "046eed98",
   "metadata": {},
   "outputs": [],
   "source": [
    "manchete[:5]"
   ]
  },
  {
   "cell_type": "code",
   "execution_count": null,
   "id": "34d9f268",
   "metadata": {},
   "outputs": [],
   "source": [
    "manchete[:30]"
   ]
  },
  {
   "cell_type": "markdown",
   "id": "bd97c7f2",
   "metadata": {},
   "source": [
    "*Do* caractere 5 até o fim"
   ]
  },
  {
   "cell_type": "code",
   "execution_count": null,
   "id": "8d02a188",
   "metadata": {},
   "outputs": [],
   "source": [
    "manchete[5:]"
   ]
  },
  {
   "cell_type": "code",
   "execution_count": null,
   "id": "fc1fb032",
   "metadata": {},
   "outputs": [],
   "source": [
    "manchete[8:]"
   ]
  },
  {
   "cell_type": "code",
   "execution_count": null,
   "id": "55b3d712",
   "metadata": {},
   "outputs": [],
   "source": [
    "'BTG' + manchete[8:]"
   ]
  },
  {
   "cell_type": "code",
   "execution_count": null,
   "id": "de9e537c",
   "metadata": {},
   "outputs": [],
   "source": [
    "manchete[:]"
   ]
  },
  {
   "cell_type": "markdown",
   "id": "8bf33c26",
   "metadata": {},
   "source": [
    "Também conseguimos observar as strings partindo do fim (de trás pra frente)"
   ]
  },
  {
   "cell_type": "code",
   "execution_count": null,
   "id": "aef7fa62",
   "metadata": {},
   "outputs": [],
   "source": [
    "manchete[-1]"
   ]
  },
  {
   "cell_type": "code",
   "execution_count": null,
   "id": "9add5370",
   "metadata": {},
   "outputs": [],
   "source": [
    "manchete[-2]"
   ]
  },
  {
   "cell_type": "markdown",
   "id": "27e1c205",
   "metadata": {},
   "source": [
    "A operação de indexação (e também de slicing) também pode começar 'de trás pra frente'.\n",
    "\n",
    "Basta utilizar os índices negativos."
   ]
  },
  {
   "cell_type": "code",
   "execution_count": null,
   "id": "b8e3d9bf",
   "metadata": {},
   "outputs": [],
   "source": [
    "manchete[:-1]"
   ]
  },
  {
   "cell_type": "code",
   "execution_count": null,
   "id": "3c80801c",
   "metadata": {},
   "outputs": [],
   "source": [
    "manchete[0:-1]"
   ]
  },
  {
   "cell_type": "code",
   "execution_count": null,
   "id": "6b688737",
   "metadata": {},
   "outputs": [],
   "source": [
    "manchete[0:-8]"
   ]
  },
  {
   "cell_type": "code",
   "execution_count": null,
   "id": "cdb680c7",
   "metadata": {},
   "outputs": [],
   "source": [
    "manchete[0:-12]"
   ]
  },
  {
   "cell_type": "code",
   "execution_count": null,
   "id": "f768b3f6",
   "metadata": {},
   "outputs": [],
   "source": [
    "manchete[9:-12]"
   ]
  },
  {
   "cell_type": "markdown",
   "id": "f240ea92",
   "metadata": {},
   "source": [
    "Mais um sinal de \":\"\n",
    "\n",
    "Vamos utilizá-lo para especificar de quantos em quantos caracteres devemos percorrer o intervalo."
   ]
  },
  {
   "cell_type": "code",
   "execution_count": null,
   "id": "1df0ebc1",
   "metadata": {},
   "outputs": [],
   "source": [
    "manchete[0:-12:1]"
   ]
  },
  {
   "cell_type": "code",
   "execution_count": null,
   "id": "b17b397d",
   "metadata": {},
   "outputs": [],
   "source": [
    "manchete[0:-12:2]"
   ]
  },
  {
   "cell_type": "code",
   "execution_count": null,
   "id": "bcb2df1b",
   "metadata": {},
   "outputs": [],
   "source": [
    "manchete[0:-12:3]"
   ]
  },
  {
   "cell_type": "code",
   "execution_count": null,
   "id": "cd3d1550",
   "metadata": {},
   "outputs": [],
   "source": [
    "manchete[::1]"
   ]
  },
  {
   "cell_type": "code",
   "execution_count": null,
   "id": "1ef4b4a5",
   "metadata": {},
   "outputs": [],
   "source": [
    "manchete[::2]"
   ]
  },
  {
   "cell_type": "code",
   "execution_count": null,
   "id": "c209c5ff",
   "metadata": {},
   "outputs": [],
   "source": [
    "manchete[::-1]"
   ]
  },
  {
   "cell_type": "markdown",
   "id": "d51e6f94",
   "metadata": {},
   "source": [
    "Resumindo as operações de slicing\n",
    "\n",
    "string[a:b:c]\n",
    "\n",
    "Uma forma de definirmos as notações string[a:b:c] seria algo como: Execute um comando de fatiamento da string em intervalos de ‘c’, a partir de ‘a’ (incluso) até ‘b’ (não incluso). Se ‘c’ for negativo, contamos de trás para frente. Quando ‘c’ não está presente no código, o padrão é 1 (i.e., fatiar de 1 em 1 caractere). Se ‘a’ não está presente, então você começa o mais distante possível na direção que você está contando (i.e., se ‘c’ é positivo, começa no primeiro caractere. Se ‘c’ é negativo, começa no último caractere). Se ‘b’ não está presente, então você termina o mais distante possível na direção que está contando (i.e., se ‘c’ é positivo, termina no último caractere. Se ‘c’ é negativo, termina no primeiro caractere)."
   ]
  },
  {
   "cell_type": "markdown",
   "id": "5f642267",
   "metadata": {},
   "source": [
    "### 4.3. Propriedades das strings"
   ]
  },
  {
   "cell_type": "markdown",
   "id": "10d54de6",
   "metadata": {},
   "source": [
    "* Imutabilidade\n",
    "* Adição\n",
    "* Modificação de upper e lower case"
   ]
  },
  {
   "cell_type": "code",
   "execution_count": 130,
   "id": "201d706f",
   "metadata": {},
   "outputs": [
    {
     "data": {
      "text/plain": [
       "'Itaú BBA corta preço-alvo da JBS (JBSS3) e recomenda compra de Vittia (VITT3); Marcopolo (POMO4) é top pick do Bradesco BBI'"
      ]
     },
     "execution_count": 130,
     "metadata": {},
     "output_type": "execute_result"
    }
   ],
   "source": [
    "manchete"
   ]
  },
  {
   "cell_type": "code",
   "execution_count": 131,
   "id": "aa1305f2",
   "metadata": {},
   "outputs": [
    {
     "data": {
      "text/plain": [
       "'I'"
      ]
     },
     "execution_count": 131,
     "metadata": {},
     "output_type": "execute_result"
    }
   ],
   "source": [
    "manchete[0]"
   ]
  },
  {
   "cell_type": "code",
   "execution_count": 132,
   "id": "fb849876",
   "metadata": {},
   "outputs": [
    {
     "data": {
      "text/plain": [
       "'orta '"
      ]
     },
     "execution_count": 132,
     "metadata": {},
     "output_type": "execute_result"
    }
   ],
   "source": [
    "manchete[10:15]"
   ]
  },
  {
   "cell_type": "markdown",
   "id": "ff1e74c3",
   "metadata": {},
   "source": [
    "Visualizando a propriedade da imutabilidade"
   ]
  },
  {
   "cell_type": "code",
   "execution_count": 133,
   "id": "baa8bc83",
   "metadata": {},
   "outputs": [
    {
     "data": {
      "text/plain": [
       "'JBSS3'"
      ]
     },
     "execution_count": 133,
     "metadata": {},
     "output_type": "execute_result"
    }
   ],
   "source": [
    "manchete[34:39]"
   ]
  },
  {
   "cell_type": "markdown",
   "id": "005f77f4",
   "metadata": {},
   "source": [
    "O seguinte comando resultará em erro"
   ]
  },
  {
   "cell_type": "code",
   "execution_count": 134,
   "id": "d4876466",
   "metadata": {},
   "outputs": [
    {
     "ename": "TypeError",
     "evalue": "'str' object does not support item assignment",
     "output_type": "error",
     "traceback": [
      "\u001B[1;31m---------------------------------------------------------------------------\u001B[0m",
      "\u001B[1;31mTypeError\u001B[0m                                 Traceback (most recent call last)",
      "Cell \u001B[1;32mIn[134], line 1\u001B[0m\n\u001B[1;32m----> 1\u001B[0m \u001B[43mmanchete\u001B[49m\u001B[43m[\u001B[49m\u001B[38;5;241;43m34\u001B[39;49m\u001B[43m:\u001B[49m\u001B[38;5;241;43m39\u001B[39;49m\u001B[43m]\u001B[49m \u001B[38;5;241m=\u001B[39m \u001B[38;5;124m'\u001B[39m\u001B[38;5;124mWEGE3\u001B[39m\u001B[38;5;124m'\u001B[39m\n",
      "\u001B[1;31mTypeError\u001B[0m: 'str' object does not support item assignment"
     ]
    }
   ],
   "source": [
    "manchete[34:39] = 'WEGE3'"
   ]
  },
  {
   "cell_type": "code",
   "execution_count": null,
   "id": "0bb672dd",
   "metadata": {},
   "outputs": [],
   "source": [
    "manchete[9:]"
   ]
  },
  {
   "cell_type": "code",
   "execution_count": null,
   "id": "cc38bbc9",
   "metadata": {},
   "outputs": [],
   "source": [
    "restodafrase = manchete[9:]"
   ]
  },
  {
   "cell_type": "code",
   "execution_count": null,
   "id": "9ee243c1",
   "metadata": {},
   "outputs": [],
   "source": [
    "novaempresa = 'Santander'"
   ]
  },
  {
   "cell_type": "markdown",
   "id": "fd86fa6d",
   "metadata": {},
   "source": [
    "Visualizando a propriedade da adição"
   ]
  },
  {
   "cell_type": "code",
   "execution_count": null,
   "id": "14d2fcb8",
   "metadata": {},
   "outputs": [],
   "source": [
    "novaempresa + ' ' + restodafrase"
   ]
  },
  {
   "cell_type": "markdown",
   "id": "b25c11e1",
   "metadata": {},
   "source": [
    "O seguinte comando resultará em erro"
   ]
  },
  {
   "cell_type": "code",
   "execution_count": null,
   "id": "858c9b21",
   "metadata": {},
   "outputs": [],
   "source": [
    "restodafrase - 'JBSS3'"
   ]
  },
  {
   "cell_type": "markdown",
   "id": "0bcedebd",
   "metadata": {},
   "source": [
    "Vamos ver agora a transformação em upper case e lower case"
   ]
  },
  {
   "cell_type": "code",
   "execution_count": null,
   "id": "ebce87b5",
   "metadata": {},
   "outputs": [],
   "source": [
    "frase_completa = novaempresa + ' ' + restodafrase"
   ]
  },
  {
   "cell_type": "code",
   "execution_count": null,
   "id": "dbe4308c",
   "metadata": {},
   "outputs": [],
   "source": [
    "frase_completa.lower()"
   ]
  },
  {
   "cell_type": "code",
   "execution_count": null,
   "id": "042f53b5",
   "metadata": {},
   "outputs": [],
   "source": [
    "frase_completa.upper()"
   ]
  },
  {
   "cell_type": "markdown",
   "id": "8bdc611d",
   "metadata": {},
   "source": [
    "Para terminar, um operador importante: \"split\""
   ]
  },
  {
   "cell_type": "code",
   "execution_count": null,
   "id": "d2795ede",
   "metadata": {},
   "outputs": [],
   "source": [
    "frase_completa.split()"
   ]
  },
  {
   "cell_type": "code",
   "execution_count": null,
   "id": "2987a094",
   "metadata": {},
   "outputs": [],
   "source": [
    "frase_separada = frase_completa.split()"
   ]
  },
  {
   "cell_type": "code",
   "execution_count": null,
   "id": "f6b8b7d4",
   "metadata": {},
   "outputs": [],
   "source": [
    "frase_separada[0]"
   ]
  },
  {
   "cell_type": "code",
   "execution_count": null,
   "id": "dafe6774",
   "metadata": {},
   "outputs": [],
   "source": [
    "frase_separada[1]"
   ]
  },
  {
   "cell_type": "code",
   "execution_count": null,
   "id": "768ed6de",
   "metadata": {},
   "outputs": [],
   "source": [
    "frase_completa"
   ]
  },
  {
   "cell_type": "code",
   "execution_count": null,
   "id": "b987301a",
   "metadata": {},
   "outputs": [],
   "source": [
    "frase_completa.split(\"(\")"
   ]
  },
  {
   "cell_type": "code",
   "execution_count": null,
   "id": "d3840349",
   "metadata": {},
   "outputs": [],
   "source": [
    "frase_completa.split()"
   ]
  },
  {
   "cell_type": "code",
   "execution_count": null,
   "id": "445fc0b9",
   "metadata": {},
   "outputs": [],
   "source": [
    "frase_completa.split(' ')"
   ]
  },
  {
   "cell_type": "markdown",
   "id": "3cbb5d73",
   "metadata": {},
   "source": [
    "### Exercício 4: Fatiamento e Manipulação de Strings\n",
    "Dada a seguinte manchete:\n",
    "\n",
    "***Itaú BBA corta preço-alvo da JBS (JBSS3) e recomenda compra de Vittia (VITT3); Marcopolo (POMO4) é top pick do Bradesco BBI***\n",
    "\n",
    "- Extraia apenas o nome \"Itaú\" da manchete usando slicing.\n",
    "- Extraia o nome da empresa \"JBS\" e seu código \"(JBSS3)\".\n",
    "- Inverta a string inteira utilizando slicing.\n",
    "- Transforme a manchete completa em letras maiúsculas e, em seguida, em letras minúsculas.\n",
    "- Divida a manchete em palavras, separando por espaço, e exiba a lista resultante."
   ]
  },
  {
   "cell_type": "code",
   "execution_count": null,
   "id": "a9868af1",
   "metadata": {},
   "outputs": [],
   "source": [
    "# Resolução ao final do próximo item\n",
    "\n",
    "manchete = \"Itaú BBA corta preço-alvo da JBS (JBSS3) e recomenda compra de Vittia (VITT3); Marcopolo (POMO4) é top pick do Bradesco BBI\"\n",
    "\n",
    "# Code aqui"
   ]
  },
  {
   "cell_type": "markdown",
   "id": "c37c6b30",
   "metadata": {},
   "source": [
    "### Resolução Exercício 3\n",
    "\n",
    "Sabendo que:\n",
    "\n",
    "- O valor investido em PETR4 foi R$ 2.307,00.\n",
    "- O valor investido em VALE3 foi R$ 17.150,00.\n",
    "- Você comprou 200 ações de VALE3 e 100 ações de PETR4.\n",
    "\n",
    "Faça as seguintes verificações:\n",
    "\n",
    "- Verifique se o valor investido em PETR4 é menor do que o valor investido em VALE3.\n",
    "- Verifique se o número de ações compradas de VALE3 é maior do que o de PETR4.\n",
    "- Combine ambas as condições utilizando o operador and.\n",
    "- Inverta a última condição utilizando o operador not."
   ]
  },
  {
   "cell_type": "code",
   "execution_count": 162,
   "id": "ebb5ab3f",
   "metadata": {},
   "outputs": [
    {
     "name": "stdout",
     "output_type": "stream",
     "text": [
      "Valor investido em PETR4 é menor do que em VALE3: True\n",
      "Número de ações de VALE3 é maior do que de PETR4: True\n",
      "Ambas as condições são verdadeiras: True\n",
      "Inversão da condição combinada: False\n"
     ]
    }
   ],
   "source": [
    "# Valores conhecidos\n",
    "valor_petr4 = 2307.0\n",
    "valor_vale3 = 17150.0\n",
    "num_petr4 = 100\n",
    "num_vale3 = 200\n",
    "\n",
    "# Comparações\n",
    "cond1 = valor_petr4 < valor_vale3\n",
    "cond2 = num_vale3 > num_petr4\n",
    "\n",
    "# Combinação das condições\n",
    "cond_and = cond1 and cond2\n",
    "\n",
    "# Inversão da condição combinada\n",
    "cond_not = not cond_and\n",
    "\n",
    "# Resultados\n",
    "print(\"Valor investido em PETR4 é menor do que em VALE3:\", cond1)\n",
    "print(\"Número de ações de VALE3 é maior do que de PETR4:\", cond2)\n",
    "print(\"Ambas as condições são verdadeiras:\", cond_and)\n",
    "print(\"Inversão da condição combinada:\", cond_not)"
   ]
  },
  {
   "cell_type": "markdown",
   "id": "b7bd3518",
   "metadata": {},
   "source": [
    "## 5. Listas"
   ]
  },
  {
   "cell_type": "code",
   "execution_count": 300,
   "id": "a975d620",
   "metadata": {},
   "outputs": [],
   "source": [
    "numeros = [1, 2, 3]"
   ]
  },
  {
   "cell_type": "code",
   "execution_count": 301,
   "id": "da8252ea",
   "metadata": {},
   "outputs": [
    {
     "data": {
      "text/plain": [
       "[1, 2, 3]"
      ]
     },
     "execution_count": 301,
     "metadata": {},
     "output_type": "execute_result"
    }
   ],
   "source": [
    "numeros"
   ]
  },
  {
   "cell_type": "code",
   "execution_count": 302,
   "id": "82bd7b19",
   "metadata": {},
   "outputs": [
    {
     "data": {
      "text/plain": [
       "list"
      ]
     },
     "execution_count": 302,
     "metadata": {},
     "output_type": "execute_result"
    }
   ],
   "source": [
    "type(numeros)"
   ]
  },
  {
   "cell_type": "code",
   "execution_count": 303,
   "id": "edd3b640",
   "metadata": {},
   "outputs": [
    {
     "data": {
      "text/plain": [
       "[1, 2, 3]"
      ]
     },
     "execution_count": 303,
     "metadata": {},
     "output_type": "execute_result"
    }
   ],
   "source": [
    "[1,2,3]"
   ]
  },
  {
   "cell_type": "code",
   "execution_count": 304,
   "id": "93360fce",
   "metadata": {},
   "outputs": [
    {
     "data": {
      "text/plain": [
       "[1, 2, 3]"
      ]
     },
     "execution_count": 304,
     "metadata": {},
     "output_type": "execute_result"
    }
   ],
   "source": [
    "list([1,2,3])"
   ]
  },
  {
   "cell_type": "code",
   "execution_count": 305,
   "id": "6f85d7e1",
   "metadata": {},
   "outputs": [],
   "source": [
    "mix = [1, 2, 3.14, 'IBOV', True, False]"
   ]
  },
  {
   "cell_type": "code",
   "execution_count": 306,
   "id": "502fb524",
   "metadata": {},
   "outputs": [
    {
     "data": {
      "text/plain": [
       "[1, 2, 3.14, 'IBOV', True, False]"
      ]
     },
     "execution_count": 306,
     "metadata": {},
     "output_type": "execute_result"
    }
   ],
   "source": [
    "mix"
   ]
  },
  {
   "cell_type": "code",
   "execution_count": 307,
   "id": "b3ce8d02",
   "metadata": {},
   "outputs": [],
   "source": [
    "acoes = ['VALE3', 'PETR4', 'WEGE3', 'MGLU3', 'ITUB4']"
   ]
  },
  {
   "cell_type": "code",
   "execution_count": 308,
   "id": "845b5974",
   "metadata": {},
   "outputs": [
    {
     "data": {
      "text/plain": [
       "['VALE3', 'PETR4', 'WEGE3', 'MGLU3', 'ITUB4']"
      ]
     },
     "execution_count": 308,
     "metadata": {},
     "output_type": "execute_result"
    }
   ],
   "source": [
    "acoes"
   ]
  },
  {
   "cell_type": "markdown",
   "id": "38ccf7e2",
   "metadata": {},
   "source": [
    "Nas listas, também podemos realizar o **indexing**"
   ]
  },
  {
   "cell_type": "code",
   "execution_count": 309,
   "id": "74846eb9",
   "metadata": {},
   "outputs": [
    {
     "data": {
      "text/plain": [
       "'VALE3'"
      ]
     },
     "execution_count": 309,
     "metadata": {},
     "output_type": "execute_result"
    }
   ],
   "source": [
    "acoes[0]"
   ]
  },
  {
   "cell_type": "code",
   "execution_count": 310,
   "id": "6b703d3b",
   "metadata": {},
   "outputs": [
    {
     "data": {
      "text/plain": [
       "'PETR4'"
      ]
     },
     "execution_count": 310,
     "metadata": {},
     "output_type": "execute_result"
    }
   ],
   "source": [
    "acoes[1]"
   ]
  },
  {
   "cell_type": "code",
   "execution_count": 311,
   "id": "00cc14e0",
   "metadata": {},
   "outputs": [
    {
     "data": {
      "text/plain": [
       "'ITUB4'"
      ]
     },
     "execution_count": 311,
     "metadata": {},
     "output_type": "execute_result"
    }
   ],
   "source": [
    "acoes[-1]"
   ]
  },
  {
   "cell_type": "code",
   "execution_count": 312,
   "id": "f3081faa",
   "metadata": {},
   "outputs": [
    {
     "data": {
      "text/plain": [
       "str"
      ]
     },
     "execution_count": 312,
     "metadata": {},
     "output_type": "execute_result"
    }
   ],
   "source": [
    "type(acoes[-1])"
   ]
  },
  {
   "cell_type": "markdown",
   "id": "ead85b52",
   "metadata": {},
   "source": [
    "Crie uma frase contendo as ações nas posições 2 e 3 acoes\n",
    "\n",
    "\"Hoje, eu comprei para a minha carteira, as ações \""
   ]
  },
  {
   "cell_type": "code",
   "execution_count": 313,
   "id": "9bd70604",
   "metadata": {},
   "outputs": [
    {
     "data": {
      "text/plain": [
       "'Hoje, eu comprei para a minha carteira, as ações WEGE3 e MGLU3'"
      ]
     },
     "execution_count": 313,
     "metadata": {},
     "output_type": "execute_result"
    }
   ],
   "source": [
    "\"Hoje, eu comprei para a minha carteira, as ações \" + acoes[2] + \" e \" + acoes[3]"
   ]
  },
  {
   "cell_type": "code",
   "execution_count": 314,
   "id": "e785f737",
   "metadata": {},
   "outputs": [],
   "source": [
    "precos = [30.84, 23.45, 38.83, 2.67, 89.78]"
   ]
  },
  {
   "cell_type": "markdown",
   "id": "2bd42d1e",
   "metadata": {},
   "source": [
    "O comando a seguir resultará em erro, pois estamos tentando concatenar \"str\" com \"float\""
   ]
  },
  {
   "cell_type": "code",
   "execution_count": 315,
   "id": "5ad6feb9",
   "metadata": {},
   "outputs": [
    {
     "ename": "TypeError",
     "evalue": "can only concatenate str (not \"float\") to str",
     "output_type": "error",
     "traceback": [
      "\u001B[1;31m---------------------------------------------------------------------------\u001B[0m",
      "\u001B[1;31mTypeError\u001B[0m                                 Traceback (most recent call last)",
      "Cell \u001B[1;32mIn[315], line 1\u001B[0m\n\u001B[1;32m----> 1\u001B[0m \u001B[38;5;124;43m\"\u001B[39;49m\u001B[38;5;124;43mHoje, eu comprei para a minha carteira, as ações \u001B[39;49m\u001B[38;5;124;43m\"\u001B[39;49m\u001B[43m \u001B[49m\u001B[38;5;241;43m+\u001B[39;49m\u001B[43m \u001B[49m\u001B[43macoes\u001B[49m\u001B[43m[\u001B[49m\u001B[38;5;241;43m2\u001B[39;49m\u001B[43m]\u001B[49m\u001B[43m \u001B[49m\u001B[38;5;241;43m+\u001B[39;49m\u001B[43m \u001B[49m\u001B[38;5;124;43m\"\u001B[39;49m\u001B[38;5;124;43m e \u001B[39;49m\u001B[38;5;124;43m\"\u001B[39;49m\u001B[43m \u001B[49m\u001B[38;5;241;43m+\u001B[39;49m\u001B[43m \u001B[49m\u001B[43macoes\u001B[49m\u001B[43m[\u001B[49m\u001B[38;5;241;43m3\u001B[39;49m\u001B[43m]\u001B[49m\u001B[43m \u001B[49m\u001B[38;5;241;43m+\u001B[39;49m\u001B[43m \u001B[49m\u001B[38;5;124;43m\"\u001B[39;49m\u001B[38;5;124;43m, cujos preços no momento da compra eram \u001B[39;49m\u001B[38;5;124;43m\"\u001B[39;49m\u001B[43m \u001B[49m\u001B[38;5;241;43m+\u001B[39;49m\u001B[43m \u001B[49m\u001B[43mprecos\u001B[49m\u001B[43m[\u001B[49m\u001B[38;5;241;43m2\u001B[39;49m\u001B[43m]\u001B[49m \u001B[38;5;241m+\u001B[39m \u001B[38;5;124m\"\u001B[39m\u001B[38;5;124m e \u001B[39m\u001B[38;5;124m\"\u001B[39m \u001B[38;5;241m+\u001B[39m precos[\u001B[38;5;241m3\u001B[39m] \u001B[38;5;241m+\u001B[39m\u001B[38;5;124m\"\u001B[39m\u001B[38;5;124m, respectivamente.\u001B[39m\u001B[38;5;124m\"\u001B[39m\n",
      "\u001B[1;31mTypeError\u001B[0m: can only concatenate str (not \"float\") to str"
     ]
    }
   ],
   "source": [
    "\"Hoje, eu comprei para a minha carteira, as ações \" + acoes[2] + \" e \" + acoes[3] + \", cujos preços no momento da compra eram \" + precos[2] + \" e \" + precos[3] +\", respectivamente.\""
   ]
  },
  {
   "cell_type": "markdown",
   "id": "3e2631ba",
   "metadata": {},
   "source": [
    "Podemos resolver este problema de duas maneiras:"
   ]
  },
  {
   "cell_type": "markdown",
   "id": "f3052cff",
   "metadata": {},
   "source": [
    "1. Passando todos os elementos para o formato str"
   ]
  },
  {
   "cell_type": "code",
   "execution_count": 316,
   "id": "5fe41c9a",
   "metadata": {},
   "outputs": [],
   "source": [
    "precos_str = ['30.84', '23.45', '38.83', '2.67', '89.78']"
   ]
  },
  {
   "cell_type": "code",
   "execution_count": 317,
   "id": "cec00368",
   "metadata": {},
   "outputs": [
    {
     "data": {
      "text/plain": [
       "'Hoje, eu comprei para a minha carteira, as ações WEGE3 e MGLU3, cujos preços no momento da compra eram 38.83 e 2.67, respectivamente.'"
      ]
     },
     "execution_count": 317,
     "metadata": {},
     "output_type": "execute_result"
    }
   ],
   "source": [
    "\"Hoje, eu comprei para a minha carteira, as ações \" + acoes[2] + \" e \" + acoes[3] + \", cujos preços no momento da compra eram \" + precos_str[2] + \" e \" + precos_str[3] +\", respectivamente.\""
   ]
  },
  {
   "cell_type": "code",
   "execution_count": 318,
   "id": "a0cbd15d",
   "metadata": {},
   "outputs": [
    {
     "data": {
      "text/plain": [
       "'9'"
      ]
     },
     "execution_count": 318,
     "metadata": {},
     "output_type": "execute_result"
    }
   ],
   "source": [
    "str(9)"
   ]
  },
  {
   "cell_type": "markdown",
   "id": "38aa4bc9",
   "metadata": {},
   "source": [
    "2. Utilizando a função str( ) para realizar a conversão dentro da própria operação de concatenação"
   ]
  },
  {
   "cell_type": "code",
   "execution_count": 319,
   "id": "408864ce",
   "metadata": {},
   "outputs": [
    {
     "data": {
      "text/plain": [
       "'Hoje, eu comprei para a minha carteira, as ações WEGE3 e MGLU3, cujos preços no momento da compra eram 38.83 e 2.67, respectivamente.'"
      ]
     },
     "execution_count": 319,
     "metadata": {},
     "output_type": "execute_result"
    }
   ],
   "source": [
    "\"Hoje, eu comprei para a minha carteira, as ações \" + acoes[2] + \" e \" + acoes[3] + \", cujos preços no momento da compra eram \" + str(precos[2]) + \" e \" + str(precos[3]) +\", respectivamente.\""
   ]
  },
  {
   "cell_type": "markdown",
   "id": "688e0c0c",
   "metadata": {},
   "source": [
    "Propriedades das listas"
   ]
  },
  {
   "cell_type": "markdown",
   "id": "ec90c5cc",
   "metadata": {},
   "source": [
    "As listas, ao contrário das strings, são mutáveis"
   ]
  },
  {
   "cell_type": "code",
   "execution_count": 320,
   "id": "55caa606",
   "metadata": {},
   "outputs": [
    {
     "data": {
      "text/plain": [
       "[30.84, 23.45, 38.83, 2.67, 89.78]"
      ]
     },
     "execution_count": 320,
     "metadata": {},
     "output_type": "execute_result"
    }
   ],
   "source": [
    "precos"
   ]
  },
  {
   "cell_type": "code",
   "execution_count": 321,
   "id": "d0f8d983",
   "metadata": {},
   "outputs": [
    {
     "data": {
      "text/plain": [
       "2.67"
      ]
     },
     "execution_count": 321,
     "metadata": {},
     "output_type": "execute_result"
    }
   ],
   "source": [
    "precos[3]"
   ]
  },
  {
   "cell_type": "code",
   "execution_count": 322,
   "id": "986204e1",
   "metadata": {},
   "outputs": [],
   "source": [
    "precos[3] = '2.47'"
   ]
  },
  {
   "cell_type": "code",
   "execution_count": 323,
   "id": "b7a7bec1",
   "metadata": {},
   "outputs": [
    {
     "data": {
      "text/plain": [
       "'2.47'"
      ]
     },
     "execution_count": 323,
     "metadata": {},
     "output_type": "execute_result"
    }
   ],
   "source": [
    "precos[3]"
   ]
  },
  {
   "cell_type": "code",
   "execution_count": 324,
   "id": "917a64c9",
   "metadata": {},
   "outputs": [
    {
     "data": {
      "text/plain": [
       "'Hoje, eu comprei para a minha carteira, as ações WEGE3 e MGLU3, cujos preços no momento da compra eram 38.83 e 2.47, respectivamente.'"
      ]
     },
     "execution_count": 324,
     "metadata": {},
     "output_type": "execute_result"
    }
   ],
   "source": [
    "\"Hoje, eu comprei para a minha carteira, as ações \" + acoes[2] + \" e \" + acoes[3] + \", cujos preços no momento da compra eram \" + str(precos[2]) + \" e \" + str(precos[3]) +\", respectivamente.\""
   ]
  },
  {
   "cell_type": "markdown",
   "id": "d98ffe80",
   "metadata": {},
   "source": [
    "As listas são também aditivas"
   ]
  },
  {
   "cell_type": "code",
   "execution_count": 325,
   "id": "13f022e7",
   "metadata": {},
   "outputs": [
    {
     "data": {
      "text/plain": [
       "['VALE3', 'PETR4', 'WEGE3', 'MGLU3', 'ITUB4']"
      ]
     },
     "execution_count": 325,
     "metadata": {},
     "output_type": "execute_result"
    }
   ],
   "source": [
    "acoes"
   ]
  },
  {
   "cell_type": "code",
   "execution_count": 326,
   "id": "b9b908b1",
   "metadata": {},
   "outputs": [],
   "source": [
    "novos_papeis = ['LREN3', 'PRIO3', 'BBDC4']"
   ]
  },
  {
   "cell_type": "code",
   "execution_count": 327,
   "id": "e63b0cc2",
   "metadata": {},
   "outputs": [
    {
     "data": {
      "text/plain": [
       "['LREN3', 'PRIO3', 'BBDC4']"
      ]
     },
     "execution_count": 327,
     "metadata": {},
     "output_type": "execute_result"
    }
   ],
   "source": [
    "novos_papeis"
   ]
  },
  {
   "cell_type": "code",
   "execution_count": 328,
   "id": "b3990c88",
   "metadata": {},
   "outputs": [],
   "source": [
    "lista_total = acoes + novos_papeis"
   ]
  },
  {
   "cell_type": "code",
   "execution_count": 329,
   "id": "80f522c5",
   "metadata": {},
   "outputs": [
    {
     "data": {
      "text/plain": [
       "['VALE3', 'PETR4', 'WEGE3', 'MGLU3', 'ITUB4', 'LREN3', 'PRIO3', 'BBDC4']"
      ]
     },
     "execution_count": 329,
     "metadata": {},
     "output_type": "execute_result"
    }
   ],
   "source": [
    "lista_total"
   ]
  },
  {
   "cell_type": "code",
   "execution_count": 330,
   "id": "d45c1f67",
   "metadata": {},
   "outputs": [
    {
     "data": {
      "text/plain": [
       "['VALE3',\n",
       " 'PETR4',\n",
       " 'WEGE3',\n",
       " 'MGLU3',\n",
       " 'ITUB4',\n",
       " 'LREN3',\n",
       " 'PRIO3',\n",
       " 'BBDC4',\n",
       " 'VALE3',\n",
       " 'PETR4',\n",
       " 'WEGE3',\n",
       " 'MGLU3',\n",
       " 'ITUB4',\n",
       " 'LREN3',\n",
       " 'PRIO3',\n",
       " 'BBDC4']"
      ]
     },
     "execution_count": 330,
     "metadata": {},
     "output_type": "execute_result"
    }
   ],
   "source": [
    "lista_total*2"
   ]
  },
  {
   "cell_type": "markdown",
   "id": "7d0a5bbc",
   "metadata": {},
   "source": [
    "Alguns métodos para a manipulação de listas"
   ]
  },
  {
   "cell_type": "markdown",
   "id": "b9a01f15",
   "metadata": {},
   "source": [
    "append()\n",
    "\n",
    "Este método adiciona novos elementos à lista."
   ]
  },
  {
   "cell_type": "code",
   "execution_count": 331,
   "id": "e7cae40a",
   "metadata": {},
   "outputs": [
    {
     "data": {
      "text/plain": [
       "list"
      ]
     },
     "execution_count": 331,
     "metadata": {},
     "output_type": "execute_result"
    }
   ],
   "source": [
    "type(lista_total)"
   ]
  },
  {
   "cell_type": "code",
   "execution_count": 332,
   "id": "a13b62e5",
   "metadata": {},
   "outputs": [],
   "source": [
    "lista_total.append('BBAS3')"
   ]
  },
  {
   "cell_type": "code",
   "execution_count": 333,
   "id": "043c8aa5",
   "metadata": {},
   "outputs": [
    {
     "data": {
      "text/plain": [
       "['VALE3',\n",
       " 'PETR4',\n",
       " 'WEGE3',\n",
       " 'MGLU3',\n",
       " 'ITUB4',\n",
       " 'LREN3',\n",
       " 'PRIO3',\n",
       " 'BBDC4',\n",
       " 'BBAS3']"
      ]
     },
     "execution_count": 333,
     "metadata": {},
     "output_type": "execute_result"
    }
   ],
   "source": [
    "lista_total"
   ]
  },
  {
   "cell_type": "code",
   "execution_count": 334,
   "id": "15338f70",
   "metadata": {},
   "outputs": [],
   "source": [
    "lista_total.append(17.89)"
   ]
  },
  {
   "cell_type": "code",
   "execution_count": 335,
   "id": "6b55a405",
   "metadata": {},
   "outputs": [
    {
     "data": {
      "text/plain": [
       "['VALE3',\n",
       " 'PETR4',\n",
       " 'WEGE3',\n",
       " 'MGLU3',\n",
       " 'ITUB4',\n",
       " 'LREN3',\n",
       " 'PRIO3',\n",
       " 'BBDC4',\n",
       " 'BBAS3',\n",
       " 17.89]"
      ]
     },
     "execution_count": 335,
     "metadata": {},
     "output_type": "execute_result"
    }
   ],
   "source": [
    "lista_total"
   ]
  },
  {
   "cell_type": "markdown",
   "id": "2ec9f155",
   "metadata": {},
   "source": [
    "pop( )\n",
    "\n",
    "Este método remove o último item"
   ]
  },
  {
   "cell_type": "code",
   "execution_count": 336,
   "id": "f62ca533",
   "metadata": {},
   "outputs": [
    {
     "data": {
      "text/plain": [
       "['VALE3',\n",
       " 'PETR4',\n",
       " 'WEGE3',\n",
       " 'MGLU3',\n",
       " 'ITUB4',\n",
       " 'LREN3',\n",
       " 'PRIO3',\n",
       " 'BBDC4',\n",
       " 'BBAS3',\n",
       " 17.89]"
      ]
     },
     "execution_count": 336,
     "metadata": {},
     "output_type": "execute_result"
    }
   ],
   "source": [
    "lista_total"
   ]
  },
  {
   "cell_type": "code",
   "execution_count": 337,
   "id": "4832cc05",
   "metadata": {},
   "outputs": [
    {
     "data": {
      "text/plain": [
       "17.89"
      ]
     },
     "execution_count": 337,
     "metadata": {},
     "output_type": "execute_result"
    }
   ],
   "source": [
    "lista_total.pop()"
   ]
  },
  {
   "cell_type": "code",
   "execution_count": 338,
   "id": "1a79d28d",
   "metadata": {},
   "outputs": [
    {
     "data": {
      "text/plain": [
       "['VALE3',\n",
       " 'PETR4',\n",
       " 'WEGE3',\n",
       " 'MGLU3',\n",
       " 'ITUB4',\n",
       " 'LREN3',\n",
       " 'PRIO3',\n",
       " 'BBDC4',\n",
       " 'BBAS3']"
      ]
     },
     "execution_count": 338,
     "metadata": {},
     "output_type": "execute_result"
    }
   ],
   "source": [
    "lista_total"
   ]
  },
  {
   "cell_type": "code",
   "execution_count": 339,
   "id": "08942200",
   "metadata": {},
   "outputs": [
    {
     "data": {
      "text/plain": [
       "'BBAS3'"
      ]
     },
     "execution_count": 339,
     "metadata": {},
     "output_type": "execute_result"
    }
   ],
   "source": [
    "lista_total.pop()"
   ]
  },
  {
   "cell_type": "code",
   "execution_count": 340,
   "id": "c932999e",
   "metadata": {},
   "outputs": [
    {
     "data": {
      "text/plain": [
       "'BBDC4'"
      ]
     },
     "execution_count": 340,
     "metadata": {},
     "output_type": "execute_result"
    }
   ],
   "source": [
    "lista_total.pop()"
   ]
  },
  {
   "cell_type": "code",
   "execution_count": 341,
   "id": "4e389ab9",
   "metadata": {},
   "outputs": [
    {
     "data": {
      "text/plain": [
       "'PRIO3'"
      ]
     },
     "execution_count": 341,
     "metadata": {},
     "output_type": "execute_result"
    }
   ],
   "source": [
    "lista_total.pop()"
   ]
  },
  {
   "cell_type": "code",
   "execution_count": 342,
   "id": "e8066119",
   "metadata": {},
   "outputs": [
    {
     "data": {
      "text/plain": [
       "['VALE3', 'PETR4', 'WEGE3', 'MGLU3', 'ITUB4', 'LREN3']"
      ]
     },
     "execution_count": 342,
     "metadata": {},
     "output_type": "execute_result"
    }
   ],
   "source": [
    "lista_total"
   ]
  },
  {
   "cell_type": "markdown",
   "id": "be559661",
   "metadata": {},
   "source": [
    "Vamos trabalhar com a ordem dos elementos que compõem a lista"
   ]
  },
  {
   "cell_type": "markdown",
   "id": "0a6447c3",
   "metadata": {},
   "source": [
    "Método sort() classifica por ordem crescente"
   ]
  },
  {
   "cell_type": "code",
   "execution_count": 343,
   "id": "73cd1f8f",
   "metadata": {},
   "outputs": [
    {
     "data": {
      "text/plain": [
       "[30.84, 23.45, 38.83, '2.47', 89.78]"
      ]
     },
     "execution_count": 343,
     "metadata": {},
     "output_type": "execute_result"
    }
   ],
   "source": [
    "precos"
   ]
  },
  {
   "cell_type": "code",
   "execution_count": 345,
   "id": "a2945bd3",
   "metadata": {},
   "outputs": [
    {
     "ename": "TypeError",
     "evalue": "'<' not supported between instances of 'str' and 'float'",
     "output_type": "error",
     "traceback": [
      "\u001B[1;31m---------------------------------------------------------------------------\u001B[0m",
      "\u001B[1;31mTypeError\u001B[0m                                 Traceback (most recent call last)",
      "Cell \u001B[1;32mIn[345], line 1\u001B[0m\n\u001B[1;32m----> 1\u001B[0m \u001B[43mprecos\u001B[49m\u001B[38;5;241;43m.\u001B[39;49m\u001B[43msort\u001B[49m\u001B[43m(\u001B[49m\u001B[43m)\u001B[49m\n",
      "\u001B[1;31mTypeError\u001B[0m: '<' not supported between instances of 'str' and 'float'"
     ]
    }
   ],
   "source": [
    "precos.sort()"
   ]
  },
  {
   "cell_type": "code",
   "execution_count": 346,
   "id": "5af43bca",
   "metadata": {},
   "outputs": [],
   "source": [
    "precos[3] = 2.47"
   ]
  },
  {
   "cell_type": "code",
   "execution_count": 347,
   "id": "c29182bf",
   "metadata": {},
   "outputs": [],
   "source": [
    "precos.sort()"
   ]
  },
  {
   "cell_type": "code",
   "execution_count": 348,
   "id": "08ed4cc5",
   "metadata": {},
   "outputs": [
    {
     "data": {
      "text/plain": [
       "[2.47, 23.45, 30.84, 38.83, 89.78]"
      ]
     },
     "execution_count": 348,
     "metadata": {},
     "output_type": "execute_result"
    }
   ],
   "source": [
    "precos"
   ]
  },
  {
   "cell_type": "markdown",
   "id": "f069b451",
   "metadata": {},
   "source": [
    "Para classificar em ordem descrescente, usamos o método reverse()"
   ]
  },
  {
   "cell_type": "code",
   "execution_count": 349,
   "id": "c9a3a880",
   "metadata": {},
   "outputs": [],
   "source": [
    "precos.reverse()"
   ]
  },
  {
   "cell_type": "code",
   "execution_count": 350,
   "id": "ea5bc33f",
   "metadata": {},
   "outputs": [
    {
     "data": {
      "text/plain": [
       "[89.78, 38.83, 30.84, 23.45, 2.47]"
      ]
     },
     "execution_count": 350,
     "metadata": {},
     "output_type": "execute_result"
    }
   ],
   "source": [
    "precos"
   ]
  },
  {
   "cell_type": "markdown",
   "id": "e486a3b3",
   "metadata": {},
   "source": [
    "Também podemos criar listas compostas de outras listas"
   ]
  },
  {
   "cell_type": "code",
   "execution_count": 351,
   "id": "921b6d23",
   "metadata": {},
   "outputs": [],
   "source": [
    "cliente01 = ['PETR4', 'VALE3', 'ABEV3']\n",
    "cliente02 = ['GOAU4', 'MGLU3', 'LREN3']\n",
    "cliente03 = ['ITUB4', 'PRIO3', 'WEGE3']"
   ]
  },
  {
   "cell_type": "code",
   "execution_count": 352,
   "id": "0bbc4f09",
   "metadata": {},
   "outputs": [],
   "source": [
    "clientes = [cliente01, cliente02, cliente03]"
   ]
  },
  {
   "cell_type": "code",
   "execution_count": 353,
   "id": "fa50e9be",
   "metadata": {},
   "outputs": [
    {
     "data": {
      "text/plain": [
       "[['PETR4', 'VALE3', 'ABEV3'],\n",
       " ['GOAU4', 'MGLU3', 'LREN3'],\n",
       " ['ITUB4', 'PRIO3', 'WEGE3']]"
      ]
     },
     "execution_count": 353,
     "metadata": {},
     "output_type": "execute_result"
    }
   ],
   "source": [
    "clientes"
   ]
  },
  {
   "cell_type": "markdown",
   "id": "8c35ccf6",
   "metadata": {},
   "source": [
    "Apenas para o cliente 01"
   ]
  },
  {
   "cell_type": "code",
   "execution_count": 354,
   "id": "8f1b8f56",
   "metadata": {},
   "outputs": [
    {
     "data": {
      "text/plain": [
       "['PETR4', 'VALE3', 'ABEV3']"
      ]
     },
     "execution_count": 354,
     "metadata": {},
     "output_type": "execute_result"
    }
   ],
   "source": [
    "clientes[0]"
   ]
  },
  {
   "cell_type": "markdown",
   "id": "87465373",
   "metadata": {},
   "source": [
    "Para o cliente 02"
   ]
  },
  {
   "cell_type": "code",
   "execution_count": 355,
   "id": "a696d835",
   "metadata": {},
   "outputs": [
    {
     "data": {
      "text/plain": [
       "['GOAU4', 'MGLU3', 'LREN3']"
      ]
     },
     "execution_count": 355,
     "metadata": {},
     "output_type": "execute_result"
    }
   ],
   "source": [
    "clientes[1]"
   ]
  },
  {
   "cell_type": "markdown",
   "id": "8859d932",
   "metadata": {},
   "source": [
    "Para o cliente 03"
   ]
  },
  {
   "cell_type": "code",
   "execution_count": 356,
   "id": "cb8810de",
   "metadata": {},
   "outputs": [
    {
     "data": {
      "text/plain": [
       "['ITUB4', 'PRIO3', 'WEGE3']"
      ]
     },
     "execution_count": 356,
     "metadata": {},
     "output_type": "execute_result"
    }
   ],
   "source": [
    "clientes[2]"
   ]
  },
  {
   "cell_type": "markdown",
   "id": "218f8962",
   "metadata": {},
   "source": [
    "Qual é o segundo ativo investido pelo cliente 03?"
   ]
  },
  {
   "cell_type": "code",
   "execution_count": 357,
   "id": "8c29c6e4",
   "metadata": {},
   "outputs": [
    {
     "data": {
      "text/plain": [
       "'PRIO3'"
      ]
     },
     "execution_count": 357,
     "metadata": {},
     "output_type": "execute_result"
    }
   ],
   "source": [
    "clientes[2][1]"
   ]
  },
  {
   "cell_type": "markdown",
   "id": "0a8ff915",
   "metadata": {},
   "source": [
    "Se a gente quiser descobrir a primeira ação investida pelo cliente 01"
   ]
  },
  {
   "cell_type": "code",
   "execution_count": 358,
   "id": "40f44522",
   "metadata": {},
   "outputs": [
    {
     "data": {
      "text/plain": [
       "'PETR4'"
      ]
     },
     "execution_count": 358,
     "metadata": {},
     "output_type": "execute_result"
    }
   ],
   "source": [
    "clientes[0][0]"
   ]
  },
  {
   "cell_type": "markdown",
   "id": "b8ff8aae",
   "metadata": {},
   "source": [
    "Operador 'in'"
   ]
  },
  {
   "cell_type": "code",
   "execution_count": 359,
   "id": "062bbe48",
   "metadata": {},
   "outputs": [
    {
     "data": {
      "text/plain": [
       "['VALE3', 'PETR4', 'WEGE3', 'MGLU3', 'ITUB4']"
      ]
     },
     "execution_count": 359,
     "metadata": {},
     "output_type": "execute_result"
    }
   ],
   "source": [
    "acoes"
   ]
  },
  {
   "cell_type": "code",
   "execution_count": 360,
   "id": "e474e0e2",
   "metadata": {},
   "outputs": [
    {
     "data": {
      "text/plain": [
       "True"
      ]
     },
     "execution_count": 360,
     "metadata": {},
     "output_type": "execute_result"
    }
   ],
   "source": [
    "'VALE3' in acoes"
   ]
  },
  {
   "cell_type": "code",
   "execution_count": 361,
   "id": "512665eb",
   "metadata": {},
   "outputs": [
    {
     "data": {
      "text/plain": [
       "True"
      ]
     },
     "execution_count": 361,
     "metadata": {},
     "output_type": "execute_result"
    }
   ],
   "source": [
    "'WEGE3' in acoes"
   ]
  },
  {
   "cell_type": "code",
   "execution_count": 362,
   "id": "071e7116",
   "metadata": {},
   "outputs": [
    {
     "data": {
      "text/plain": [
       "False"
      ]
     },
     "execution_count": 362,
     "metadata": {},
     "output_type": "execute_result"
    }
   ],
   "source": [
    "'TAEE11' in acoes"
   ]
  },
  {
   "cell_type": "markdown",
   "id": "0fb234e9",
   "metadata": {},
   "source": [
    "### Exercício 5: Listas\n",
    "\n",
    "Dadas as listas abaixo:\n",
    "\n",
    "- Crie uma lista chamada resultado que contenha strings formatadas com o nome da ação e seu preço, no formato:\n",
    "\n",
    "    'Ação: VALE3, Preço: 30.84'\n",
    "    \n",
    "    'Ação: PETR4, Preço: 23.45'\n",
    "    \n",
    "... e assim por diante para todas as ações e seus preços."
   ]
  },
  {
   "cell_type": "code",
   "execution_count": 363,
   "id": "98bb957a",
   "metadata": {},
   "outputs": [],
   "source": [
    "# Resolução ao final do próximo item\n",
    "\n",
    "# Informações:\n",
    "acoes = ['VALE3', 'PETR4', 'WEGE3', 'MGLU3', 'ITUB4']\n",
    "precos = [30.84, 23.45, 38.83, 2.67, 89.78]\n",
    "\n",
    "# Code aqui"
   ]
  },
  {
   "cell_type": "markdown",
   "id": "0bba70d3",
   "metadata": {},
   "source": [
    "### Resolução Exercício 4\n",
    "Dada a seguinte manchete:\n",
    "\n",
    "***Itaú BBA corta preço-alvo da JBS (JBSS3) e recomenda compra de Vittia (VITT3); Marcopolo (POMO4) é top pick do Bradesco BBI***\n",
    "\n",
    "- Extraia apenas o nome \"Itaú\" da manchete usando slicing.\n",
    "- Extraia o nome da empresa \"JBS\" e seu código \"(JBSS3)\".\n",
    "- Inverta a string inteira utilizando slicing.\n",
    "- Transforme a manchete completa em letras maiúsculas e, em seguida, em letras minúsculas.\n",
    "- Divida a manchete em palavras, separando por espaço, e exiba a lista resultante."
   ]
  },
  {
   "cell_type": "code",
   "execution_count": 364,
   "id": "23136e76",
   "metadata": {},
   "outputs": [
    {
     "name": "stdout",
     "output_type": "stream",
     "text": [
      "Nome extraído: Itaú\n",
      "Nome e código extraídos: JBSS3) e \n",
      "Manchete invertida: IBB ocsedarB od kcip pot é )4OMOP( olopocraM ;)3TTIV( aittiV ed arpmoc adnemocer e )3SSBJ( SBJ ad ovla-oçerp atroc ABB úatI\n",
      "Manchete em maiúsculas: ITAÚ BBA CORTA PREÇO-ALVO DA JBS (JBSS3) E RECOMENDA COMPRA DE VITTIA (VITT3); MARCOPOLO (POMO4) É TOP PICK DO BRADESCO BBI\n",
      "Manchete em minúsculas: itaú bba corta preço-alvo da jbs (jbss3) e recomenda compra de vittia (vitt3); marcopolo (pomo4) é top pick do bradesco bbi\n",
      "Manchete dividida em palavras: ['Itaú', 'BBA', 'corta', 'preço-alvo', 'da', 'JBS', '(JBSS3)', 'e', 'recomenda', 'compra', 'de', 'Vittia', '(VITT3);', 'Marcopolo', '(POMO4)', 'é', 'top', 'pick', 'do', 'Bradesco', 'BBI']\n"
     ]
    }
   ],
   "source": [
    "# Dada a manchete\n",
    "manchete = \"Itaú BBA corta preço-alvo da JBS (JBSS3) e recomenda compra de Vittia (VITT3); Marcopolo (POMO4) é top pick do Bradesco BBI\"\n",
    "\n",
    "# 1. Extraindo \"Itaú\"\n",
    "nome_itau = manchete[0:4]\n",
    "print(\"Nome extraído:\", nome_itau)\n",
    "\n",
    "# 2. Extraindo \"JBS (JBSS3)\"\n",
    "nome_jbs = manchete[34:43]\n",
    "print(\"Nome e código extraídos:\", nome_jbs)\n",
    "\n",
    "# 3. Invertendo a string\n",
    "manchete_invertida = manchete[::-1]\n",
    "print(\"Manchete invertida:\", manchete_invertida)\n",
    "\n",
    "# 4. Transformando em maiúsculas e minúsculas\n",
    "manchete_maiuscula = manchete.upper()\n",
    "manchete_minuscula = manchete.lower()\n",
    "print(\"Manchete em maiúsculas:\", manchete_maiuscula)\n",
    "print(\"Manchete em minúsculas:\", manchete_minuscula)\n",
    "\n",
    "# 5. Dividindo a string em palavras\n",
    "manchete_dividida = manchete.split(' ')\n",
    "print(\"Manchete dividida em palavras:\", manchete_dividida)"
   ]
  },
  {
   "cell_type": "markdown",
   "id": "8d5e2671",
   "metadata": {},
   "source": [
    "## 6. Dicionários"
   ]
  },
  {
   "cell_type": "markdown",
   "id": "b59515fa",
   "metadata": {},
   "source": [
    "Os dicionários representam uma estrutura de dados mais complexos que as listas, capazes de relacionar pares de dados (um dado que pode representar outro dado). Ao invés de colchetes, como as listas, são definidos pelas chaves. Em outras linguagens, poderia ser relacionado às \"arrays associativas\". A estrutura básica dos dicionários é \"{key: value}\""
   ]
  },
  {
   "cell_type": "code",
   "execution_count": 365,
   "id": "ec2d41c1",
   "metadata": {},
   "outputs": [],
   "source": [
    "precos = {'PETR4':24.89,\n",
    " 'MGLU3':2.68,\n",
    " 'BBDC4':15.14}"
   ]
  },
  {
   "cell_type": "code",
   "execution_count": 366,
   "id": "5a199249",
   "metadata": {},
   "outputs": [
    {
     "data": {
      "text/plain": [
       "{'PETR4': 24.89, 'MGLU3': 2.68, 'BBDC4': 15.14}"
      ]
     },
     "execution_count": 366,
     "metadata": {},
     "output_type": "execute_result"
    }
   ],
   "source": [
    "precos"
   ]
  },
  {
   "cell_type": "code",
   "execution_count": 367,
   "id": "6351c8a4",
   "metadata": {},
   "outputs": [
    {
     "data": {
      "text/plain": [
       "dict"
      ]
     },
     "execution_count": 367,
     "metadata": {},
     "output_type": "execute_result"
    }
   ],
   "source": [
    "type(precos)"
   ]
  },
  {
   "cell_type": "markdown",
   "id": "f1236b0f",
   "metadata": {},
   "source": [
    "Vamos ver as chaves (keys) do dicionário"
   ]
  },
  {
   "cell_type": "code",
   "execution_count": 368,
   "id": "01dc1cbb",
   "metadata": {},
   "outputs": [
    {
     "data": {
      "text/plain": [
       "dict_keys(['PETR4', 'MGLU3', 'BBDC4'])"
      ]
     },
     "execution_count": 368,
     "metadata": {},
     "output_type": "execute_result"
    }
   ],
   "source": [
    "precos.keys()"
   ]
  },
  {
   "cell_type": "code",
   "execution_count": 369,
   "id": "b66ec76f",
   "metadata": {},
   "outputs": [],
   "source": [
    "lista_papeis = list(precos.keys())"
   ]
  },
  {
   "cell_type": "code",
   "execution_count": 370,
   "id": "080eb705",
   "metadata": {},
   "outputs": [
    {
     "data": {
      "text/plain": [
       "'PETR4'"
      ]
     },
     "execution_count": 370,
     "metadata": {},
     "output_type": "execute_result"
    }
   ],
   "source": [
    "lista_papeis[0]"
   ]
  },
  {
   "cell_type": "markdown",
   "id": "b2321595",
   "metadata": {},
   "source": [
    "Podemos ver também os valores (values) do dicionário"
   ]
  },
  {
   "cell_type": "code",
   "execution_count": 371,
   "id": "0d8a4864",
   "metadata": {},
   "outputs": [
    {
     "data": {
      "text/plain": [
       "dict_values([24.89, 2.68, 15.14])"
      ]
     },
     "execution_count": 371,
     "metadata": {},
     "output_type": "execute_result"
    }
   ],
   "source": [
    "precos.values()"
   ]
  },
  {
   "cell_type": "markdown",
   "id": "a3a11390",
   "metadata": {},
   "source": [
    "Quais são os pares que o dicionário carrega?"
   ]
  },
  {
   "cell_type": "code",
   "execution_count": 372,
   "id": "53323415",
   "metadata": {},
   "outputs": [
    {
     "data": {
      "text/plain": [
       "dict_items([('PETR4', 24.89), ('MGLU3', 2.68), ('BBDC4', 15.14)])"
      ]
     },
     "execution_count": 372,
     "metadata": {},
     "output_type": "execute_result"
    }
   ],
   "source": [
    "precos.items()"
   ]
  },
  {
   "cell_type": "code",
   "execution_count": 373,
   "id": "050663e2",
   "metadata": {},
   "outputs": [],
   "source": [
    "pares = list(precos.items())"
   ]
  },
  {
   "cell_type": "code",
   "execution_count": 374,
   "id": "6184ba35",
   "metadata": {},
   "outputs": [
    {
     "data": {
      "text/plain": [
       "[('PETR4', 24.89), ('MGLU3', 2.68), ('BBDC4', 15.14)]"
      ]
     },
     "execution_count": 374,
     "metadata": {},
     "output_type": "execute_result"
    }
   ],
   "source": [
    "pares"
   ]
  },
  {
   "cell_type": "code",
   "execution_count": 375,
   "id": "06381bb4",
   "metadata": {},
   "outputs": [
    {
     "data": {
      "text/plain": [
       "('PETR4', 24.89)"
      ]
     },
     "execution_count": 375,
     "metadata": {},
     "output_type": "execute_result"
    }
   ],
   "source": [
    "pares[0]"
   ]
  },
  {
   "cell_type": "code",
   "execution_count": 376,
   "id": "8a04fcb7",
   "metadata": {},
   "outputs": [
    {
     "data": {
      "text/plain": [
       "('MGLU3', 2.68)"
      ]
     },
     "execution_count": 376,
     "metadata": {},
     "output_type": "execute_result"
    }
   ],
   "source": [
    "pares[1]"
   ]
  },
  {
   "cell_type": "markdown",
   "id": "afae9b31",
   "metadata": {},
   "source": [
    "Nos dicionários, nós realizamos filtros com o valor das próprias chaves"
   ]
  },
  {
   "cell_type": "code",
   "execution_count": 377,
   "id": "74c9b1c8",
   "metadata": {},
   "outputs": [
    {
     "data": {
      "text/plain": [
       "{'PETR4': 24.89, 'MGLU3': 2.68, 'BBDC4': 15.14}"
      ]
     },
     "execution_count": 377,
     "metadata": {},
     "output_type": "execute_result"
    }
   ],
   "source": [
    "precos"
   ]
  },
  {
   "cell_type": "code",
   "execution_count": 378,
   "id": "c63fd62c",
   "metadata": {},
   "outputs": [
    {
     "data": {
      "text/plain": [
       "15.14"
      ]
     },
     "execution_count": 378,
     "metadata": {},
     "output_type": "execute_result"
    }
   ],
   "source": [
    "precos['BBDC4']"
   ]
  },
  {
   "cell_type": "code",
   "execution_count": 379,
   "id": "9739612d",
   "metadata": {},
   "outputs": [
    {
     "data": {
      "text/plain": [
       "2.68"
      ]
     },
     "execution_count": 379,
     "metadata": {},
     "output_type": "execute_result"
    }
   ],
   "source": [
    "precos['MGLU3']"
   ]
  },
  {
   "cell_type": "markdown",
   "id": "daecb973",
   "metadata": {},
   "source": [
    "Os dicionários também são bastante flexíveis com relação ao tipo de \"values\""
   ]
  },
  {
   "cell_type": "code",
   "execution_count": 380,
   "id": "cf6b6069",
   "metadata": {},
   "outputs": [],
   "source": [
    "aleatorio = {'PETR4': \"27.67\", 10: 'VALE3', 'WEGE3': [35.68, 37.89, 38.67]}"
   ]
  },
  {
   "cell_type": "code",
   "execution_count": 381,
   "id": "fec4fcc1",
   "metadata": {},
   "outputs": [
    {
     "data": {
      "text/plain": [
       "{'PETR4': '27.67', 10: 'VALE3', 'WEGE3': [35.68, 37.89, 38.67]}"
      ]
     },
     "execution_count": 381,
     "metadata": {},
     "output_type": "execute_result"
    }
   ],
   "source": [
    "aleatorio"
   ]
  },
  {
   "cell_type": "code",
   "execution_count": 382,
   "id": "02873353",
   "metadata": {},
   "outputs": [
    {
     "data": {
      "text/plain": [
       "'VALE3'"
      ]
     },
     "execution_count": 382,
     "metadata": {},
     "output_type": "execute_result"
    }
   ],
   "source": [
    "aleatorio[10]"
   ]
  },
  {
   "cell_type": "code",
   "execution_count": 383,
   "id": "710f8053",
   "metadata": {},
   "outputs": [
    {
     "data": {
      "text/plain": [
       "'27.67'"
      ]
     },
     "execution_count": 383,
     "metadata": {},
     "output_type": "execute_result"
    }
   ],
   "source": [
    "aleatorio['PETR4']"
   ]
  },
  {
   "cell_type": "code",
   "execution_count": 384,
   "id": "a679f5f5",
   "metadata": {},
   "outputs": [
    {
     "data": {
      "text/plain": [
       "[35.68, 37.89, 38.67]"
      ]
     },
     "execution_count": 384,
     "metadata": {},
     "output_type": "execute_result"
    }
   ],
   "source": [
    "aleatorio['WEGE3']"
   ]
  },
  {
   "cell_type": "markdown",
   "id": "e818a05e",
   "metadata": {},
   "source": [
    "Propriedade da mutabilidade"
   ]
  },
  {
   "cell_type": "code",
   "execution_count": 385,
   "id": "d558193e",
   "metadata": {},
   "outputs": [],
   "source": [
    "precos['WEGE3'] = 39.86"
   ]
  },
  {
   "cell_type": "code",
   "execution_count": 386,
   "id": "71f25389",
   "metadata": {},
   "outputs": [
    {
     "data": {
      "text/plain": [
       "{'PETR4': 24.89, 'MGLU3': 2.68, 'BBDC4': 15.14, 'WEGE3': 39.86}"
      ]
     },
     "execution_count": 386,
     "metadata": {},
     "output_type": "execute_result"
    }
   ],
   "source": [
    "precos"
   ]
  },
  {
   "cell_type": "markdown",
   "id": "be21dfce",
   "metadata": {},
   "source": [
    "Propriedade da adição"
   ]
  },
  {
   "cell_type": "code",
   "execution_count": 387,
   "id": "dc8f59bb",
   "metadata": {},
   "outputs": [],
   "source": [
    "precos['PRIO3'] = 34.56"
   ]
  },
  {
   "cell_type": "code",
   "execution_count": 388,
   "id": "558ce1d3",
   "metadata": {},
   "outputs": [
    {
     "data": {
      "text/plain": [
       "{'PETR4': 24.89, 'MGLU3': 2.68, 'BBDC4': 15.14, 'WEGE3': 39.86, 'PRIO3': 34.56}"
      ]
     },
     "execution_count": 388,
     "metadata": {},
     "output_type": "execute_result"
    }
   ],
   "source": [
    "precos"
   ]
  },
  {
   "cell_type": "markdown",
   "id": "7d7e9002",
   "metadata": {},
   "source": [
    "### Exercício 6: Dicionários\n",
    "\n",
    "Considere o dicionário abaixo que representa o preço de algumas ações na bolsa:\n",
    "\n",
    "- Crie uma nova variável chamada primeiro_papel que contenha uma string no formato \n",
    "\n",
    "    \"Ação: *nome*, Preço: *valor*\", \n",
    "\n",
    "onde *nome* e *valor* devem ser substituídos pela primeira chave e valor do dicionário.\n",
    "\n",
    "- Faça o mesmo para a segunda e a terceira chave, criando as variáveis segundo_papel e terceiro_papel."
   ]
  },
  {
   "cell_type": "code",
   "execution_count": 390,
   "id": "aeda02f5",
   "metadata": {},
   "outputs": [],
   "source": [
    "# Resolução ao final do próximo item\n",
    "\n",
    "precos = {\n",
    "    'PETR4': 24.89,\n",
    "    'MGLU3': 2.68,\n",
    "    'BBDC4': 15.14\n",
    "}\n",
    "\n",
    "# Código aqui"
   ]
  },
  {
   "cell_type": "markdown",
   "id": "62062240",
   "metadata": {},
   "source": [
    "### Resolução Exercício 5\n",
    "\n",
    "Dadas as listas abaixo:\n",
    "\n",
    "- Crie uma lista chamada resultado que contenha strings formatadas com o nome da ação e seu preço, no formato:\n",
    "\n",
    "    'Ação: VALE3, Preço: 30.84'\n",
    "    \n",
    "    'Ação: PETR4, Preço: 23.45'\n",
    "    \n",
    "... e assim por diante para todas as ações e seus preços."
   ]
  },
  {
   "cell_type": "code",
   "execution_count": 389,
   "id": "3d5c1894",
   "metadata": {},
   "outputs": [
    {
     "name": "stdout",
     "output_type": "stream",
     "text": [
      "Ação: VALE3, Preço: 30.84\n",
      "Ação: PETR4, Preço: 23.45\n",
      "Ação: WEGE3, Preço: 38.83\n",
      "Ação: MGLU3, Preço: 2.67\n",
      "Ação: ITUB4, Preço: 89.78\n"
     ]
    }
   ],
   "source": [
    "# Listas fornecidas\n",
    "acoes = ['VALE3', 'PETR4', 'WEGE3', 'MGLU3', 'ITUB4']\n",
    "precos = [30.84, 23.45, 38.83, 2.67, 89.78]\n",
    "\n",
    "# Criando a lista de resultados\n",
    "resultado = [\n",
    "    \"Ação: \" + acoes[0] + \", Preço: \" + str(precos[0]),\n",
    "    \"Ação: \" + acoes[1] + \", Preço: \" + str(precos[1]),\n",
    "    \"Ação: \" + acoes[2] + \", Preço: \" + str(precos[2]),\n",
    "    \"Ação: \" + acoes[3] + \", Preço: \" + str(precos[3]),\n",
    "    \"Ação: \" + acoes[4] + \", Preço: \" + str(precos[4])\n",
    "]\n",
    "\n",
    "# Verificando o resultado\n",
    "print(*resultado, sep='\\n')\n"
   ]
  },
  {
   "cell_type": "markdown",
   "id": "5216e4e9",
   "metadata": {},
   "source": [
    "## 7. Tuplas"
   ]
  },
  {
   "cell_type": "markdown",
   "id": "b29b071b",
   "metadata": {},
   "source": [
    "As tuplas são criadas utilizando parênteses. Indexação e slicing similares aos de strings e listas. Estão entre as estruturas de dados mais simples (ex., são imutáveis e nao permitem adições), porém com pouca flexibilidade."
   ]
  },
  {
   "cell_type": "code",
   "execution_count": 391,
   "id": "4bfa971c",
   "metadata": {},
   "outputs": [],
   "source": [
    "tupla = ()"
   ]
  },
  {
   "cell_type": "code",
   "execution_count": 392,
   "id": "e070917a",
   "metadata": {},
   "outputs": [
    {
     "data": {
      "text/plain": [
       "()"
      ]
     },
     "execution_count": 392,
     "metadata": {},
     "output_type": "execute_result"
    }
   ],
   "source": [
    "tupla"
   ]
  },
  {
   "cell_type": "code",
   "execution_count": 393,
   "id": "fd63fdc5",
   "metadata": {},
   "outputs": [
    {
     "data": {
      "text/plain": [
       "tuple"
      ]
     },
     "execution_count": 393,
     "metadata": {},
     "output_type": "execute_result"
    }
   ],
   "source": [
    "type(tupla)"
   ]
  },
  {
   "cell_type": "code",
   "execution_count": 394,
   "id": "7dd68ac3",
   "metadata": {},
   "outputs": [],
   "source": [
    "lista = [1,2,3]"
   ]
  },
  {
   "cell_type": "code",
   "execution_count": 395,
   "id": "97006714",
   "metadata": {},
   "outputs": [
    {
     "data": {
      "text/plain": [
       "list"
      ]
     },
     "execution_count": 395,
     "metadata": {},
     "output_type": "execute_result"
    }
   ],
   "source": [
    "type(lista)"
   ]
  },
  {
   "cell_type": "code",
   "execution_count": 396,
   "id": "73598075",
   "metadata": {},
   "outputs": [
    {
     "data": {
      "text/plain": [
       "(1, 2, 3)"
      ]
     },
     "execution_count": 396,
     "metadata": {},
     "output_type": "execute_result"
    }
   ],
   "source": [
    "tuple(lista)"
   ]
  },
  {
   "cell_type": "code",
   "execution_count": 397,
   "id": "381017df",
   "metadata": {},
   "outputs": [],
   "source": [
    "tupla_acoes = ('PETR4', 'MGLU3', 'VALE3')"
   ]
  },
  {
   "cell_type": "markdown",
   "id": "96587278",
   "metadata": {},
   "source": [
    "Nós conseguimos também fazer slicing e indexing"
   ]
  },
  {
   "cell_type": "code",
   "execution_count": 398,
   "id": "5b08ab16",
   "metadata": {},
   "outputs": [
    {
     "data": {
      "text/plain": [
       "'PETR4'"
      ]
     },
     "execution_count": 398,
     "metadata": {},
     "output_type": "execute_result"
    }
   ],
   "source": [
    "tupla_acoes[0]"
   ]
  },
  {
   "cell_type": "code",
   "execution_count": 399,
   "id": "36b3e2b5",
   "metadata": {},
   "outputs": [
    {
     "data": {
      "text/plain": [
       "'MGLU3'"
      ]
     },
     "execution_count": 399,
     "metadata": {},
     "output_type": "execute_result"
    }
   ],
   "source": [
    "tupla_acoes[1]"
   ]
  },
  {
   "cell_type": "code",
   "execution_count": 400,
   "id": "70f26afc",
   "metadata": {},
   "outputs": [
    {
     "data": {
      "text/plain": [
       "3"
      ]
     },
     "execution_count": 400,
     "metadata": {},
     "output_type": "execute_result"
    }
   ],
   "source": [
    "len(tupla_acoes)"
   ]
  },
  {
   "cell_type": "code",
   "execution_count": 401,
   "id": "4b9b0f9e",
   "metadata": {},
   "outputs": [
    {
     "data": {
      "text/plain": [
       "('PETR4', 'MGLU3')"
      ]
     },
     "execution_count": 401,
     "metadata": {},
     "output_type": "execute_result"
    }
   ],
   "source": [
    "tupla_acoes[0:2]"
   ]
  },
  {
   "cell_type": "markdown",
   "id": "cae06bec",
   "metadata": {},
   "source": [
    "A tupla permite valores repetidos"
   ]
  },
  {
   "cell_type": "code",
   "execution_count": 402,
   "id": "5a76079c",
   "metadata": {},
   "outputs": [],
   "source": [
    "tupla01 = (1,1,1,1,1,1,1,1,2,3,4,5)"
   ]
  },
  {
   "cell_type": "code",
   "execution_count": 403,
   "id": "ac9a9661",
   "metadata": {},
   "outputs": [
    {
     "data": {
      "text/plain": [
       "(1, 1, 1, 1, 1, 1, 1, 1, 2, 3, 4, 5)"
      ]
     },
     "execution_count": 403,
     "metadata": {},
     "output_type": "execute_result"
    }
   ],
   "source": [
    "tupla01"
   ]
  },
  {
   "cell_type": "markdown",
   "id": "8aed880d",
   "metadata": {},
   "source": [
    "Alguns outros métodos"
   ]
  },
  {
   "cell_type": "code",
   "execution_count": 404,
   "id": "b2fa9c0c",
   "metadata": {},
   "outputs": [],
   "source": [
    "tupla_ibov = ('RRRP3', 'ALPA4', 'ABEV3', 'AMER3', 'ARZZ3', 'ASAI3', 'AZUL4', 'B3SA3', 'BPAN4', 'BBSE3', 'BRML3', 'BBDC3', 'BBDC4', 'BRAP4', 'BBAS3', 'BRKM5', 'BRFS3')"
   ]
  },
  {
   "cell_type": "code",
   "execution_count": 405,
   "id": "7227330e",
   "metadata": {},
   "outputs": [
    {
     "data": {
      "text/plain": [
       "8"
      ]
     },
     "execution_count": 405,
     "metadata": {},
     "output_type": "execute_result"
    }
   ],
   "source": [
    "tupla_ibov.index('BPAN4')"
   ]
  },
  {
   "cell_type": "code",
   "execution_count": 406,
   "id": "85dd312b",
   "metadata": {},
   "outputs": [
    {
     "data": {
      "text/plain": [
       "6"
      ]
     },
     "execution_count": 406,
     "metadata": {},
     "output_type": "execute_result"
    }
   ],
   "source": [
    "tupla_ibov.index('AZUL4')"
   ]
  },
  {
   "cell_type": "markdown",
   "id": "778bdf50",
   "metadata": {},
   "source": [
    "Método para contar elementos (itens) iguais"
   ]
  },
  {
   "cell_type": "code",
   "execution_count": 407,
   "id": "8e04615c",
   "metadata": {},
   "outputs": [
    {
     "data": {
      "text/plain": [
       "1"
      ]
     },
     "execution_count": 407,
     "metadata": {},
     "output_type": "execute_result"
    }
   ],
   "source": [
    "tupla_ibov.count('BBSE3')"
   ]
  },
  {
   "cell_type": "markdown",
   "id": "5af35796",
   "metadata": {},
   "source": [
    "Imutabilidade"
   ]
  },
  {
   "cell_type": "code",
   "execution_count": 408,
   "id": "c36c21d8",
   "metadata": {},
   "outputs": [
    {
     "data": {
      "text/plain": [
       "'RRRP3'"
      ]
     },
     "execution_count": 408,
     "metadata": {},
     "output_type": "execute_result"
    }
   ],
   "source": [
    "tupla_ibov[0]"
   ]
  },
  {
   "cell_type": "markdown",
   "id": "5d0553dc",
   "metadata": {},
   "source": [
    "Este comando vai resultar em erro"
   ]
  },
  {
   "cell_type": "code",
   "execution_count": 409,
   "id": "82b2a0ac",
   "metadata": {},
   "outputs": [
    {
     "ename": "TypeError",
     "evalue": "'tuple' object does not support item assignment",
     "output_type": "error",
     "traceback": [
      "\u001B[1;31m---------------------------------------------------------------------------\u001B[0m",
      "\u001B[1;31mTypeError\u001B[0m                                 Traceback (most recent call last)",
      "Cell \u001B[1;32mIn[409], line 1\u001B[0m\n\u001B[1;32m----> 1\u001B[0m \u001B[43mtupla_ibov\u001B[49m\u001B[43m[\u001B[49m\u001B[38;5;241;43m0\u001B[39;49m\u001B[43m]\u001B[49m \u001B[38;5;241m=\u001B[39m \u001B[38;5;124m'\u001B[39m\u001B[38;5;124mLREN3\u001B[39m\u001B[38;5;124m'\u001B[39m\n",
      "\u001B[1;31mTypeError\u001B[0m: 'tuple' object does not support item assignment"
     ]
    }
   ],
   "source": [
    "tupla_ibov[0] = 'LREN3'"
   ]
  },
  {
   "cell_type": "markdown",
   "id": "117a3137",
   "metadata": {},
   "source": [
    "### Exercício 7: Tuplas\n",
    "\n",
    "Considere a seguinte tupla que representa ações listadas no índice IBOVESPA.\n",
    "\n",
    "- Crie uma variável chamada primeira_acao que contenha uma string no formato \"Primeira ação: *nome*\", onde *nome* seja a primeira ação da tupla.\n",
    "- Crie uma variável chamada ultima_acao com uma string no formato \"Última ação: *nome*\", onde *nome* seja a última ação da tupla.\n",
    "- Crie uma variável chamada acoes_meio que contenha uma tupla com as ações da terceira até a sexta posição (inclusive)."
   ]
  },
  {
   "cell_type": "code",
   "execution_count": 452,
   "id": "0a33800a",
   "metadata": {},
   "outputs": [],
   "source": [
    "# Resolução ao final do próximo item\n",
    "\n",
    "tupla_ibov = ('RRRP3', 'ALPA4', 'ABEV3', 'AMER3', 'ARZZ3', 'ASAI3', 'AZUL4', 'B3SA3', 'BPAN4', 'BBSE3', 'BRML3', 'BBDC3', 'BBDC4', 'BRAP4', 'BBAS3', 'BRKM5', 'BRFS3')\n",
    "\n",
    "# Código aqui"
   ]
  },
  {
   "cell_type": "markdown",
   "id": "e1649257",
   "metadata": {},
   "source": [
    "### Resolução Exercício 6\n",
    "\n",
    "Considere o dicionário abaixo que representa o preço de algumas ações na bolsa:\n",
    "\n",
    "- Crie uma nova variável chamada primeiro_papel que contenha uma string no formato \n",
    "\n",
    "    \"Ação: *nome*, Preço: *valor*\", \n",
    "\n",
    "onde *nome* e *valor* devem ser substituídos pela primeira chave e valor do dicionário.\n",
    "\n",
    "- Faça o mesmo para a segunda e a terceira chave, criando as variáveis segundo_papel e terceiro_papel."
   ]
  },
  {
   "cell_type": "code",
   "execution_count": 451,
   "id": "a3604d7a",
   "metadata": {},
   "outputs": [
    {
     "name": "stdout",
     "output_type": "stream",
     "text": [
      "Ação: PETR4, Preço: 24.89\n",
      "Ação: MGLU3, Preço: 2.68\n",
      "Ação: BBDC4, Preço: 15.14\n"
     ]
    }
   ],
   "source": [
    "# Dicionário fornecido\n",
    "precos = {\n",
    "    'PETR4': 24.89,\n",
    "    'MGLU3': 2.68,\n",
    "    'BBDC4': 15.14\n",
    "}\n",
    "\n",
    "# Criando strings para cada papel\n",
    "primeiro_papel = \"Ação: \" + list(precos.keys())[0] + \", Preço: \" + str(list(precos.values())[0])\n",
    "segundo_papel = \"Ação: \" + list(precos.keys())[1] + \", Preço: \" + str(list(precos.values())[1])\n",
    "terceiro_papel = \"Ação: \" + list(precos.keys())[2] + \", Preço: \" + str(list(precos.values())[2])\n",
    "\n",
    "# Resultado\n",
    "print(primeiro_papel)\n",
    "print(segundo_papel)\n",
    "print(terceiro_papel) "
   ]
  },
  {
   "cell_type": "markdown",
   "id": "3e4ad4bf",
   "metadata": {},
   "source": [
    "## 8. Conjuntos"
   ]
  },
  {
   "cell_type": "markdown",
   "id": "1148adbf",
   "metadata": {},
   "source": [
    "Um conjunto (set), assim como a tupla, é criado utilizando chaves ou parênteses com a função set( ). Não existe indexação ou slicing, ou seja, não seguem uma ordem (nesse caso mais similares aos dicionários). Permitem adições mas não permitem itens repetidos."
   ]
  },
  {
   "cell_type": "markdown",
   "id": "93bc4511",
   "metadata": {},
   "source": [
    "Existem basicamente duas formas:\n",
    "\n",
    "1. Utilizando as chaves\n",
    "2. Utilizando a função set()"
   ]
  },
  {
   "cell_type": "code",
   "execution_count": null,
   "id": "0aadc40c",
   "metadata": {},
   "outputs": [
    {
     "data": {
      "text/plain": [
       "{1, 2, 3}"
      ]
     },
     "metadata": {},
     "output_type": "display_data"
    }
   ],
   "source": [
    "{1, 2, 3}"
   ]
  },
  {
   "cell_type": "code",
   "execution_count": null,
   "id": "5c521511",
   "metadata": {},
   "outputs": [
    {
     "data": {
      "text/plain": [
       "set"
      ]
     },
     "metadata": {},
     "output_type": "display_data"
    }
   ],
   "source": [
    "type({1, 2, 3})"
   ]
  },
  {
   "cell_type": "code",
   "execution_count": null,
   "id": "9e5eb7f0",
   "metadata": {},
   "outputs": [
    {
     "data": {
      "text/plain": [
       "set()"
      ]
     },
     "metadata": {},
     "output_type": "display_data"
    }
   ],
   "source": [
    "set()"
   ]
  },
  {
   "cell_type": "code",
   "execution_count": null,
   "id": "14fce27b",
   "metadata": {},
   "outputs": [
    {
     "ename": "TypeError",
     "evalue": "ignored",
     "output_type": "error",
     "traceback": [
      "\u001B[0;31m---------------------------------------------------------------------------\u001B[0m\n",
      "\n",
      "\u001B[0;31mTypeError\u001B[0m                                 Traceback (most recent call last)\n",
      "\n",
      "\u001B[0;32m<ipython-input-10-35c708cc93ca>\u001B[0m in \u001B[0;36m<module>\u001B[0;34m\u001B[0m\n",
      "\n",
      "\u001B[0;32m----> 1\u001B[0;31m \u001B[0mset\u001B[0m\u001B[0;34m(\u001B[0m\u001B[0;36m1\u001B[0m\u001B[0;34m,\u001B[0m\u001B[0;36m2\u001B[0m\u001B[0;34m,\u001B[0m\u001B[0;36m3\u001B[0m\u001B[0;34m)\u001B[0m\u001B[0;34m\u001B[0m\u001B[0;34m\u001B[0m\u001B[0m\n",
      "\n",
      "\u001B[0m\n",
      "\n",
      "\u001B[0;31mTypeError\u001B[0m: set expected at most 1 argument, got 3"
     ]
    }
   ],
   "source": [
    "set(1,2,3)"
   ]
  },
  {
   "cell_type": "code",
   "execution_count": null,
   "id": "fe1ceaa4",
   "metadata": {},
   "outputs": [
    {
     "data": {
      "text/plain": [
       "{1, 2, 3}"
      ]
     },
     "metadata": {},
     "output_type": "display_data"
    }
   ],
   "source": [
    "set([1,2,3])"
   ]
  },
  {
   "cell_type": "code",
   "execution_count": null,
   "id": "eb712cb3",
   "metadata": {},
   "outputs": [],
   "source": [
    "tupla = (10,11,12)"
   ]
  },
  {
   "cell_type": "code",
   "execution_count": null,
   "id": "39f93347",
   "metadata": {},
   "outputs": [],
   "source": [
    "conjunto1 = set(tupla)"
   ]
  },
  {
   "cell_type": "code",
   "execution_count": null,
   "id": "5c13f4e7",
   "metadata": {},
   "outputs": [
    {
     "data": {
      "text/plain": [
       "{10, 11, 12}"
      ]
     },
     "metadata": {},
     "output_type": "display_data"
    }
   ],
   "source": [
    "conjunto1"
   ]
  },
  {
   "cell_type": "markdown",
   "id": "abed9673",
   "metadata": {},
   "source": [
    "Vamos usar um exemplo do MF"
   ]
  },
  {
   "cell_type": "code",
   "execution_count": null,
   "id": "6c1f3b01",
   "metadata": {},
   "outputs": [],
   "source": [
    "acoes = {'PETR4', 'PETR4', 'LREN3', 'MGLU3', 'WEGE3', 'PRIO3'}"
   ]
  },
  {
   "cell_type": "code",
   "execution_count": null,
   "id": "017fe2ca",
   "metadata": {},
   "outputs": [
    {
     "data": {
      "text/plain": [
       "{'LREN3', 'MGLU3', 'PETR4', 'PRIO3', 'WEGE3'}"
      ]
     },
     "metadata": {},
     "output_type": "display_data"
    }
   ],
   "source": [
    "acoes"
   ]
  },
  {
   "cell_type": "code",
   "execution_count": null,
   "id": "e7fb2c60",
   "metadata": {},
   "outputs": [],
   "source": [
    "tupla_inicial = (1,1,1,1,1,1,1,1,1,5,6,7)"
   ]
  },
  {
   "cell_type": "code",
   "execution_count": null,
   "id": "d7cc5d6c",
   "metadata": {},
   "outputs": [],
   "source": [
    "conjunto2 = set(tupla_inicial)"
   ]
  },
  {
   "cell_type": "code",
   "execution_count": null,
   "id": "0cc3ec87",
   "metadata": {},
   "outputs": [
    {
     "data": {
      "text/plain": [
       "{1, 5, 6, 7}"
      ]
     },
     "metadata": {},
     "output_type": "display_data"
    }
   ],
   "source": [
    "conjunto2"
   ]
  },
  {
   "cell_type": "markdown",
   "id": "452608bb",
   "metadata": {},
   "source": [
    "Métodos importantes"
   ]
  },
  {
   "cell_type": "markdown",
   "id": "3434d525",
   "metadata": {},
   "source": [
    "add( )"
   ]
  },
  {
   "cell_type": "code",
   "execution_count": null,
   "id": "e23f2a08",
   "metadata": {},
   "outputs": [],
   "source": [
    "conjunto2.add(2)"
   ]
  },
  {
   "cell_type": "code",
   "execution_count": null,
   "id": "4d29519a",
   "metadata": {},
   "outputs": [
    {
     "data": {
      "text/plain": [
       "{1, 2, 5, 6, 7}"
      ]
     },
     "metadata": {},
     "output_type": "display_data"
    }
   ],
   "source": [
    "conjunto2"
   ]
  },
  {
   "cell_type": "code",
   "execution_count": null,
   "id": "3e218f41",
   "metadata": {},
   "outputs": [],
   "source": [
    "conjunto2.add(3)\n",
    "conjunto2.add(4)\n",
    "conjunto2.add(4)\n",
    "conjunto2.add(4)\n",
    "conjunto2.add(4)\n",
    "conjunto2.add(4)\n",
    "conjunto2.add(4)\n",
    "conjunto2.add(4)\n",
    "conjunto2.add('VALE3')"
   ]
  },
  {
   "cell_type": "code",
   "execution_count": null,
   "id": "013c6d76",
   "metadata": {},
   "outputs": [
    {
     "data": {
      "text/plain": [
       "{1, 2, 3, 4, 5, 6, 7, 'VALE3'}"
      ]
     },
     "metadata": {},
     "output_type": "display_data"
    }
   ],
   "source": [
    "conjunto2"
   ]
  },
  {
   "cell_type": "markdown",
   "id": "390d33c9",
   "metadata": {},
   "source": [
    "Retomar o nosso conjunto (set) de ações"
   ]
  },
  {
   "cell_type": "code",
   "execution_count": null,
   "id": "c819f025",
   "metadata": {},
   "outputs": [
    {
     "data": {
      "text/plain": [
       "{'LREN3', 'MGLU3', 'PETR4', 'PRIO3', 'WEGE3'}"
      ]
     },
     "metadata": {},
     "output_type": "display_data"
    }
   ],
   "source": [
    "acoes"
   ]
  },
  {
   "cell_type": "code",
   "execution_count": null,
   "id": "f8c30eb4",
   "metadata": {},
   "outputs": [],
   "source": [
    "acoes.add('VALE3')"
   ]
  },
  {
   "cell_type": "code",
   "execution_count": null,
   "id": "f5037c0e",
   "metadata": {},
   "outputs": [
    {
     "data": {
      "text/plain": [
       "{'LREN3', 'MGLU3', 'PETR4', 'PRIO3', 'VALE3', 'WEGE3'}"
      ]
     },
     "metadata": {},
     "output_type": "display_data"
    }
   ],
   "source": [
    "acoes"
   ]
  },
  {
   "cell_type": "markdown",
   "id": "33b8d80c",
   "metadata": {},
   "source": [
    "Atualizar o set inteiro"
   ]
  },
  {
   "cell_type": "code",
   "execution_count": null,
   "id": "2a206380",
   "metadata": {},
   "outputs": [],
   "source": [
    "acoes.update(['LREN3', 'MGLU3', 'PETR4', 'PRIO3', 'VALE3', 'WEGE3', 'ITUB4'])"
   ]
  },
  {
   "cell_type": "code",
   "execution_count": null,
   "id": "bb226784",
   "metadata": {},
   "outputs": [
    {
     "data": {
      "text/plain": [
       "{'ITUB4', 'LREN3', 'MGLU3', 'PETR4', 'PRIO3', 'VALE3', 'WEGE3'}"
      ]
     },
     "metadata": {},
     "output_type": "display_data"
    }
   ],
   "source": [
    "acoes"
   ]
  },
  {
   "cell_type": "markdown",
   "id": "78ee4878",
   "metadata": {},
   "source": [
    "Métodos discard e remove"
   ]
  },
  {
   "cell_type": "code",
   "execution_count": null,
   "id": "0e26cfcc",
   "metadata": {},
   "outputs": [],
   "source": [
    "acoes.discard('PRIO3')"
   ]
  },
  {
   "cell_type": "code",
   "execution_count": null,
   "id": "4b090070",
   "metadata": {},
   "outputs": [
    {
     "data": {
      "text/plain": [
       "{'ITUB4', 'LREN3', 'MGLU3', 'PETR4', 'VALE3', 'WEGE3'}"
      ]
     },
     "metadata": {},
     "output_type": "display_data"
    }
   ],
   "source": [
    "acoes"
   ]
  },
  {
   "cell_type": "code",
   "execution_count": null,
   "id": "9034ec62",
   "metadata": {},
   "outputs": [],
   "source": [
    "acoes.remove('MGLU3')"
   ]
  },
  {
   "cell_type": "code",
   "execution_count": null,
   "id": "f208bbfb",
   "metadata": {},
   "outputs": [
    {
     "data": {
      "text/plain": [
       "{'ITUB4', 'LREN3', 'PETR4', 'VALE3', 'WEGE3'}"
      ]
     },
     "metadata": {},
     "output_type": "display_data"
    }
   ],
   "source": [
    "acoes"
   ]
  },
  {
   "cell_type": "markdown",
   "id": "9a586a02",
   "metadata": {},
   "source": [
    "Diferença entre os dois métodos"
   ]
  },
  {
   "cell_type": "code",
   "execution_count": null,
   "id": "e41c08f0",
   "metadata": {},
   "outputs": [],
   "source": [
    "acoes.discard('PRIO3')"
   ]
  },
  {
   "cell_type": "code",
   "execution_count": null,
   "id": "aff06e2d",
   "metadata": {},
   "outputs": [
    {
     "data": {
      "text/plain": [
       "{'ITUB4', 'LREN3', 'PETR4', 'VALE3', 'WEGE3'}"
      ]
     },
     "metadata": {},
     "output_type": "display_data"
    }
   ],
   "source": [
    "acoes"
   ]
  },
  {
   "cell_type": "code",
   "execution_count": null,
   "id": "1be9fd6a",
   "metadata": {},
   "outputs": [
    {
     "ename": "KeyError",
     "evalue": "ignored",
     "output_type": "error",
     "traceback": [
      "\u001B[0;31m---------------------------------------------------------------------------\u001B[0m\n",
      "\n",
      "\u001B[0;31mKeyError\u001B[0m                                  Traceback (most recent call last)\n",
      "\n",
      "\u001B[0;32m<ipython-input-36-0e6321cdc55f>\u001B[0m in \u001B[0;36m<module>\u001B[0;34m\u001B[0m\n",
      "\n",
      "\u001B[0;32m----> 1\u001B[0;31m \u001B[0macoes\u001B[0m\u001B[0;34m.\u001B[0m\u001B[0mremove\u001B[0m\u001B[0;34m(\u001B[0m\u001B[0;34m'PRIO3'\u001B[0m\u001B[0;34m)\u001B[0m\u001B[0;34m\u001B[0m\u001B[0;34m\u001B[0m\u001B[0m\n",
      "\n",
      "\u001B[0m\n",
      "\n",
      "\u001B[0;31mKeyError\u001B[0m: 'PRIO3'"
     ]
    }
   ],
   "source": [
    "acoes.remove('PRIO3')"
   ]
  },
  {
   "cell_type": "markdown",
   "id": "83970a65",
   "metadata": {},
   "source": [
    "Ou seja, o método 'remove' retorna erro com elementos que não existem no set()"
   ]
  },
  {
   "cell_type": "markdown",
   "id": "8c41f745",
   "metadata": {},
   "source": [
    "Comprimento do conjunto"
   ]
  },
  {
   "cell_type": "code",
   "execution_count": null,
   "id": "2af962b2",
   "metadata": {},
   "outputs": [
    {
     "data": {
      "text/plain": [
       "5"
      ]
     },
     "metadata": {},
     "output_type": "display_data"
    }
   ],
   "source": [
    "len(acoes)"
   ]
  },
  {
   "cell_type": "markdown",
   "id": "37f050f9",
   "metadata": {},
   "source": [
    "Não são indexáveis"
   ]
  },
  {
   "cell_type": "markdown",
   "id": "f81a3185",
   "metadata": {},
   "source": [
    "Este comando resultará em erro"
   ]
  },
  {
   "cell_type": "code",
   "execution_count": null,
   "id": "19543707",
   "metadata": {},
   "outputs": [
    {
     "ename": "TypeError",
     "evalue": "ignored",
     "output_type": "error",
     "traceback": [
      "\u001B[0;31m---------------------------------------------------------------------------\u001B[0m\n",
      "\n",
      "\u001B[0;31mTypeError\u001B[0m                                 Traceback (most recent call last)\n",
      "\n",
      "\u001B[0;32m<ipython-input-38-22add8ff31f1>\u001B[0m in \u001B[0;36m<module>\u001B[0;34m\u001B[0m\n",
      "\n",
      "\u001B[0;32m----> 1\u001B[0;31m \u001B[0macoes\u001B[0m\u001B[0;34m[\u001B[0m\u001B[0;36m0\u001B[0m\u001B[0;34m]\u001B[0m\u001B[0;34m\u001B[0m\u001B[0;34m\u001B[0m\u001B[0m\n",
      "\n",
      "\u001B[0m\n",
      "\n",
      "\u001B[0;31mTypeError\u001B[0m: 'set' object is not subscriptable"
     ]
    }
   ],
   "source": [
    "acoes[0]"
   ]
  },
  {
   "cell_type": "markdown",
   "id": "5c5bdb87",
   "metadata": {},
   "source": [
    "Aspectos importantes\n",
    "\n",
    "Se você utilizar uma string, cada letra vai virar um elemento no set"
   ]
  },
  {
   "cell_type": "code",
   "execution_count": null,
   "id": "87c262bb",
   "metadata": {},
   "outputs": [],
   "source": [
    "b3 = {'Bolsa de Valores'}"
   ]
  },
  {
   "cell_type": "code",
   "execution_count": null,
   "id": "68b55b63",
   "metadata": {},
   "outputs": [
    {
     "data": {
      "text/plain": [
       "{'Bolsa de Valores'}"
      ]
     },
     "metadata": {},
     "output_type": "display_data"
    }
   ],
   "source": [
    "b3"
   ]
  },
  {
   "cell_type": "code",
   "execution_count": null,
   "id": "d34f070c",
   "metadata": {},
   "outputs": [],
   "source": [
    "b3 = set('Bolsa de Valores')"
   ]
  },
  {
   "cell_type": "code",
   "execution_count": null,
   "id": "5bd94605",
   "metadata": {},
   "outputs": [
    {
     "data": {
      "text/plain": [
       "{' ', 'B', 'V', 'a', 'd', 'e', 'l', 'o', 'r', 's'}"
      ]
     },
     "metadata": {},
     "output_type": "display_data"
    }
   ],
   "source": [
    "b3"
   ]
  },
  {
   "cell_type": "code",
   "execution_count": null,
   "id": "e7e0c6a7",
   "metadata": {},
   "outputs": [],
   "source": [
    "b3 = set(('Bolsa de Valores'))"
   ]
  },
  {
   "cell_type": "code",
   "execution_count": null,
   "id": "f0a24723",
   "metadata": {},
   "outputs": [
    {
     "data": {
      "text/plain": [
       "{' ', 'B', 'V', 'a', 'd', 'e', 'l', 'o', 'r', 's'}"
      ]
     },
     "metadata": {},
     "output_type": "display_data"
    }
   ],
   "source": [
    "b3"
   ]
  },
  {
   "cell_type": "markdown",
   "id": "f84d2898",
   "metadata": {},
   "source": [
    "Remoção de elementos aleatórios"
   ]
  },
  {
   "cell_type": "code",
   "execution_count": null,
   "id": "fc394068",
   "metadata": {},
   "outputs": [
    {
     "data": {
      "application/vnd.google.colaboratory.intrinsic+json": {
       "type": "string"
      },
      "text/plain": [
       "'s'"
      ]
     },
     "metadata": {},
     "output_type": "display_data"
    }
   ],
   "source": [
    "b3.pop()"
   ]
  },
  {
   "cell_type": "code",
   "execution_count": null,
   "id": "fc192344",
   "metadata": {},
   "outputs": [
    {
     "data": {
      "text/plain": [
       "{' ', 'B', 'V', 'a', 'd', 'e', 'l', 'o', 'r'}"
      ]
     },
     "metadata": {},
     "output_type": "display_data"
    }
   ],
   "source": [
    "b3"
   ]
  },
  {
   "cell_type": "code",
   "execution_count": null,
   "id": "a746d13f",
   "metadata": {},
   "outputs": [
    {
     "data": {
      "application/vnd.google.colaboratory.intrinsic+json": {
       "type": "string"
      },
      "text/plain": [
       "'l'"
      ]
     },
     "metadata": {},
     "output_type": "display_data"
    }
   ],
   "source": [
    "b3.pop()"
   ]
  },
  {
   "cell_type": "code",
   "execution_count": null,
   "id": "ef72b57b",
   "metadata": {},
   "outputs": [
    {
     "data": {
      "text/plain": [
       "{' ', 'B', 'V', 'a', 'd', 'e', 'o', 'r'}"
      ]
     },
     "metadata": {},
     "output_type": "display_data"
    }
   ],
   "source": [
    "b3"
   ]
  },
  {
   "cell_type": "markdown",
   "id": "e6372003",
   "metadata": {},
   "source": [
    "**Operações com conjuntos**"
   ]
  },
  {
   "cell_type": "markdown",
   "id": "f13566c8",
   "metadata": {},
   "source": [
    "<center><img src = \"https://www.learnbyexample.org/wp-content/uploads/python/Python-Set-Operatioons.png\" width = \"500\">\n"
   ]
  },
  {
   "cell_type": "code",
   "execution_count": null,
   "id": "4e5d9403",
   "metadata": {},
   "outputs": [],
   "source": [
    "novas_acoes = {'VALE3', 'AMER3', 'PETR4', 'WEGE3', 'GOAU4'}"
   ]
  },
  {
   "cell_type": "code",
   "execution_count": null,
   "id": "e586b5bd",
   "metadata": {},
   "outputs": [
    {
     "data": {
      "text/plain": [
       "{'ITUB4', 'LREN3', 'PETR4', 'VALE3', 'WEGE3'}"
      ]
     },
     "metadata": {},
     "output_type": "display_data"
    }
   ],
   "source": [
    "acoes"
   ]
  },
  {
   "cell_type": "code",
   "execution_count": null,
   "id": "77f198e2",
   "metadata": {},
   "outputs": [
    {
     "name": "stdout",
     "output_type": "stream",
     "text": [
      "{'PETR4', 'WEGE3', 'VALE3', 'ITUB4', 'LREN3'} {'PETR4', 'WEGE3', 'AMER3', 'VALE3', 'GOAU4'}\n"
     ]
    }
   ],
   "source": [
    "print(acoes, novas_acoes)"
   ]
  },
  {
   "cell_type": "code",
   "execution_count": null,
   "id": "7544f926",
   "metadata": {},
   "outputs": [
    {
     "data": {
      "text/plain": [
       "{'AMER3', 'GOAU4', 'ITUB4', 'LREN3', 'PETR4', 'VALE3', 'WEGE3'}"
      ]
     },
     "metadata": {},
     "output_type": "display_data"
    }
   ],
   "source": [
    "acoes | novas_acoes"
   ]
  },
  {
   "cell_type": "code",
   "execution_count": null,
   "id": "daed054b",
   "metadata": {},
   "outputs": [
    {
     "data": {
      "text/plain": [
       "{'PETR4', 'VALE3', 'WEGE3'}"
      ]
     },
     "metadata": {},
     "output_type": "display_data"
    }
   ],
   "source": [
    "acoes & novas_acoes"
   ]
  },
  {
   "cell_type": "markdown",
   "id": "8599cfd3",
   "metadata": {},
   "source": [
    "Intersection"
   ]
  },
  {
   "cell_type": "code",
   "execution_count": null,
   "id": "13b84991",
   "metadata": {},
   "outputs": [
    {
     "data": {
      "text/plain": [
       "{'ITUB4', 'LREN3', 'PETR4', 'VALE3', 'WEGE3'}"
      ]
     },
     "metadata": {},
     "output_type": "display_data"
    }
   ],
   "source": [
    "acoes.intersection()"
   ]
  },
  {
   "cell_type": "code",
   "execution_count": null,
   "id": "f29ef40d",
   "metadata": {},
   "outputs": [
    {
     "data": {
      "text/plain": [
       "{'PETR4', 'VALE3', 'WEGE3'}"
      ]
     },
     "metadata": {},
     "output_type": "display_data"
    }
   ],
   "source": [
    "acoes.intersection(novas_acoes)"
   ]
  },
  {
   "cell_type": "code",
   "execution_count": null,
   "id": "52ad0685",
   "metadata": {},
   "outputs": [
    {
     "data": {
      "text/plain": [
       "{'PETR4', 'VALE3', 'WEGE3'}"
      ]
     },
     "metadata": {},
     "output_type": "display_data"
    }
   ],
   "source": [
    "novas_acoes.intersection(acoes)"
   ]
  },
  {
   "cell_type": "markdown",
   "id": "aa2aa3f1",
   "metadata": {},
   "source": [
    "Difference"
   ]
  },
  {
   "cell_type": "code",
   "execution_count": null,
   "id": "475174ce",
   "metadata": {},
   "outputs": [
    {
     "data": {
      "text/plain": [
       "{'ITUB4', 'LREN3'}"
      ]
     },
     "metadata": {},
     "output_type": "display_data"
    }
   ],
   "source": [
    "acoes.difference(novas_acoes)"
   ]
  },
  {
   "cell_type": "code",
   "execution_count": null,
   "id": "51939a25",
   "metadata": {},
   "outputs": [
    {
     "data": {
      "text/plain": [
       "{'AMER3', 'GOAU4'}"
      ]
     },
     "metadata": {},
     "output_type": "display_data"
    }
   ],
   "source": [
    "novas_acoes.difference(acoes)"
   ]
  },
  {
   "cell_type": "markdown",
   "id": "c3602907",
   "metadata": {},
   "source": [
    "Symmetric Difference"
   ]
  },
  {
   "cell_type": "code",
   "execution_count": null,
   "id": "fba80dea",
   "metadata": {},
   "outputs": [
    {
     "data": {
      "text/plain": [
       "{'AMER3', 'GOAU4', 'ITUB4', 'LREN3'}"
      ]
     },
     "metadata": {},
     "output_type": "display_data"
    }
   ],
   "source": [
    "acoes.symmetric_difference(novas_acoes)"
   ]
  },
  {
   "cell_type": "code",
   "execution_count": null,
   "id": "550736df",
   "metadata": {},
   "outputs": [
    {
     "data": {
      "text/plain": [
       "{'AMER3', 'GOAU4', 'ITUB4', 'LREN3'}"
      ]
     },
     "metadata": {},
     "output_type": "display_data"
    }
   ],
   "source": [
    "novas_acoes.symmetric_difference(acoes)"
   ]
  },
  {
   "cell_type": "markdown",
   "id": "57b95b95",
   "metadata": {},
   "source": [
    "Verificações lógicas"
   ]
  },
  {
   "cell_type": "code",
   "execution_count": null,
   "id": "77997b72",
   "metadata": {},
   "outputs": [
    {
     "data": {
      "text/plain": [
       "False"
      ]
     },
     "metadata": {},
     "output_type": "display_data"
    }
   ],
   "source": [
    "'NTCO3' in acoes"
   ]
  },
  {
   "cell_type": "code",
   "execution_count": null,
   "id": "60da6d8e",
   "metadata": {},
   "outputs": [
    {
     "data": {
      "text/plain": [
       "False"
      ]
     },
     "metadata": {},
     "output_type": "display_data"
    }
   ],
   "source": [
    "'NTCO3' in novas_acoes"
   ]
  },
  {
   "cell_type": "markdown",
   "id": "6eda61ca",
   "metadata": {},
   "source": [
    "### Exercício 8: Conjunto\n",
    "\n",
    "Considere os seguintes conjuntos de ações:\n",
    "\n",
    "- Crie uma variável chamada acoes_uniao que contenha a união dos dois conjuntos.\n",
    "- Crie uma variável chamada acoes_intersecao que contenha a interseção dos dois conjuntos.\n",
    "- Crie uma variável chamada acoes_unicas que contenha a diferença simétrica entre os dois conjuntos."
   ]
  },
  {
   "cell_type": "code",
   "execution_count": 454,
   "id": "4bbe8ee5",
   "metadata": {},
   "outputs": [],
   "source": [
    "# Resolução ao final do próximo item\n",
    "\n",
    "acoes = {'PETR4', 'LREN3', 'MGLU3', 'WEGE3', 'PRIO3'}\n",
    "novas_acoes = {'VALE3', 'AMER3', 'PETR4', 'WEGE3', 'GOAU4'}\n",
    "\n",
    "# Código aqui"
   ]
  },
  {
   "cell_type": "markdown",
   "id": "cb0c8b15",
   "metadata": {},
   "source": [
    "### Resolução Exercício 7\n",
    "\n",
    "Considere a seguinte tupla que representa ações listadas no índice IBOVESPA.\n",
    "\n",
    "- Crie uma variável chamada primeira_acao que contenha uma string no formato \"Primeira ação: *nome*\", onde *nome* seja a primeira ação da tupla.\n",
    "- Crie uma variável chamada ultima_acao com uma string no formato \"Última ação: *nome*\", onde *nome* seja a última ação da tupla.\n",
    "- Crie uma variável chamada acoes_meio que contenha uma tupla com as ações da terceira até a sexta posição (inclusive)."
   ]
  },
  {
   "cell_type": "code",
   "execution_count": 453,
   "id": "189cccea",
   "metadata": {},
   "outputs": [
    {
     "name": "stdout",
     "output_type": "stream",
     "text": [
      "Primeira ação: RRRP3\n",
      "Última ação: BRFS3\n",
      "('ABEV3', 'AMER3', 'ARZZ3', 'ASAI3')\n"
     ]
    }
   ],
   "source": [
    "# Tupla fornecida\n",
    "tupla_ibov = ('RRRP3', 'ALPA4', 'ABEV3', 'AMER3', 'ARZZ3', 'ASAI3', 'AZUL4', 'B3SA3', 'BPAN4', 'BBSE3', 'BRML3', 'BBDC3', 'BBDC4', 'BRAP4', 'BBAS3', 'BRKM5', 'BRFS3')\n",
    "\n",
    "# 1. Obtendo a primeira ação\n",
    "primeira_acao = \"Primeira ação: \" + tupla_ibov[0]\n",
    "\n",
    "# 2. Obtendo a última ação\n",
    "ultima_acao = \"Última ação: \" + tupla_ibov[-1]\n",
    "\n",
    "# 3. Obtendo as ações do meio (terceira até a sexta)\n",
    "acoes_meio = tupla_ibov[2:6]\n",
    "\n",
    "# Resultado\n",
    "print(primeira_acao)\n",
    "print(ultima_acao)\n",
    "print(acoes_meio) "
   ]
  },
  {
   "cell_type": "markdown",
   "id": "3cc35763",
   "metadata": {},
   "source": [
    "## 9. Declarações Condicionais"
   ]
  },
  {
   "cell_type": "markdown",
   "id": "ed0f8c3c",
   "metadata": {},
   "source": [
    "Em linguagens de programação, frequentemente devemos criar estruturas e comandos para atuar de acordo com condições específicas, ou seja, apenas se alguma condição for satisfeita."
   ]
  },
  {
   "cell_type": "code",
   "execution_count": 455,
   "id": "e38ef0b8",
   "metadata": {},
   "outputs": [],
   "source": [
    "preco_atual = 35.95"
   ]
  },
  {
   "cell_type": "code",
   "execution_count": 456,
   "id": "c30150d9",
   "metadata": {},
   "outputs": [],
   "source": [
    "if preco_atual < 28:\n",
    "  print('O preço está baixo, compre!')"
   ]
  },
  {
   "cell_type": "code",
   "execution_count": 457,
   "id": "792ef44a",
   "metadata": {},
   "outputs": [
    {
     "name": "stdout",
     "output_type": "stream",
     "text": [
      "Preço está muito caro, fique de fora deste papel.\n"
     ]
    }
   ],
   "source": [
    "if preco_atual > 30:\n",
    "  print('Preço está muito caro, fique de fora deste papel.')"
   ]
  },
  {
   "cell_type": "markdown",
   "id": "03512cb7",
   "metadata": {},
   "source": [
    "Declarações condicionais diferentes na mesma estrutura:"
   ]
  },
  {
   "cell_type": "code",
   "execution_count": 458,
   "id": "1ad49d98",
   "metadata": {},
   "outputs": [
    {
     "name": "stdout",
     "output_type": "stream",
     "text": [
      "O preço ainda não chegou no patamar desejado\n",
      "Aguarde até o preço cair abaixo de 28\n"
     ]
    }
   ],
   "source": [
    "if preco_atual < 28:\n",
    "  print('O preço está baixo, compre!')\n",
    "  print('Preço está abaixo de 28')\n",
    "else:\n",
    "  print('O preço ainda não chegou no patamar desejado')\n",
    "  print('Aguarde até o preço cair abaixo de 28')"
   ]
  },
  {
   "cell_type": "markdown",
   "id": "a01d4f2c",
   "metadata": {},
   "source": [
    "Vamos atualizar o preço"
   ]
  },
  {
   "cell_type": "code",
   "execution_count": 459,
   "id": "12667577",
   "metadata": {},
   "outputs": [],
   "source": [
    "preco_atual = 25.95"
   ]
  },
  {
   "cell_type": "code",
   "execution_count": 460,
   "id": "f5f5f916",
   "metadata": {},
   "outputs": [
    {
     "name": "stdout",
     "output_type": "stream",
     "text": [
      "O preço está baixo, compre!\n",
      "Preço está abaixo de 28\n"
     ]
    }
   ],
   "source": [
    "if preco_atual < 28:\n",
    "  print('O preço está baixo, compre!')\n",
    "  print('Preço está abaixo de 28')\n",
    "else:\n",
    "  print('O preço ainda não chegou no patamar desejado')\n",
    "  print('Aguarde até o preço cair abaixo de 28')"
   ]
  },
  {
   "cell_type": "markdown",
   "id": "7cc75528",
   "metadata": {},
   "source": [
    "Implementação do 'elif'\n",
    "\n"
   ]
  },
  {
   "cell_type": "markdown",
   "id": "6c765f3b",
   "metadata": {},
   "source": [
    "Exemplo: Determinar o momento da compra"
   ]
  },
  {
   "cell_type": "code",
   "execution_count": 461,
   "id": "172c2e0f",
   "metadata": {},
   "outputs": [],
   "source": [
    "preco_weg = 35.72\n",
    "preco_alvo = 31.00"
   ]
  },
  {
   "cell_type": "code",
   "execution_count": 462,
   "id": "9fd4148a",
   "metadata": {},
   "outputs": [
    {
     "name": "stdout",
     "output_type": "stream",
     "text": [
      "WEGE3 ainda não iniciou uma tendência de queda. Aguarde!\n"
     ]
    }
   ],
   "source": [
    "if preco_weg < 31:\n",
    "  print(\"O preço está baixo, compre!\")\n",
    "elif preco_weg < 33:\n",
    "  print('O preço está em queda, continue esperando.')\n",
    "elif preco_weg < 35:\n",
    "  print('Detectamos um início do processo de queda de WEGE3')\n",
    "else:\n",
    "  print('WEGE3 ainda não iniciou uma tendência de queda. Aguarde!')"
   ]
  },
  {
   "cell_type": "code",
   "execution_count": 463,
   "id": "d4cdc3a2",
   "metadata": {},
   "outputs": [],
   "source": [
    "preco_weg = 33.42\n",
    "preco_alvo = 31.00"
   ]
  },
  {
   "cell_type": "code",
   "execution_count": 464,
   "id": "b251ec45",
   "metadata": {},
   "outputs": [
    {
     "name": "stdout",
     "output_type": "stream",
     "text": [
      "Detectamos um início do processo de queda de WEGE3\n"
     ]
    }
   ],
   "source": [
    "if preco_weg < 31:\n",
    "  print(\"O preço está baixo, compre!\")\n",
    "elif preco_weg < 33:\n",
    "  print('O preço está em queda, continue esperando.')\n",
    "elif preco_weg < 35:\n",
    "  print('Detectamos um início do processo de queda de WEGE3')\n",
    "else:\n",
    "  print('WEGE3 ainda não iniciou uma tendência de queda. Aguarde!')"
   ]
  },
  {
   "cell_type": "markdown",
   "id": "9f92b862",
   "metadata": {},
   "source": [
    "Vamos utilizar a variável preco_alvo"
   ]
  },
  {
   "cell_type": "code",
   "execution_count": 465,
   "id": "869a7079",
   "metadata": {},
   "outputs": [],
   "source": [
    "preco_weg = 27.42"
   ]
  },
  {
   "cell_type": "code",
   "execution_count": 466,
   "id": "e1e46783",
   "metadata": {},
   "outputs": [
    {
     "name": "stdout",
     "output_type": "stream",
     "text": [
      "O preço está baixo, compre!\n"
     ]
    }
   ],
   "source": [
    "if preco_weg < preco_alvo:\n",
    "  print(\"O preço está baixo, compre!\")\n",
    "elif preco_weg < (preco_alvo+2):\n",
    "  print('O preço está em queda, continue esperando.')\n",
    "elif preco_weg < (preco_alvo + 4):\n",
    "  print('Detectamos um início do processo de queda de WEGE3')\n",
    "else:\n",
    "  print('WEGE3 ainda não iniciou uma tendência de queda. Aguarde!')"
   ]
  },
  {
   "cell_type": "markdown",
   "id": "98c1ad97",
   "metadata": {},
   "source": [
    "Importante observar que as condições vão sendo checadas pela ordem em que foram declaradas.\n",
    "\n",
    "Assim que uma delas é satisfeita, as demais não são executadas mais."
   ]
  },
  {
   "cell_type": "markdown",
   "id": "df2aee99",
   "metadata": {},
   "source": [
    "Trocando a ordem das declarações. Note que assim que atendeu a primeira, as demais são ignoradas"
   ]
  },
  {
   "cell_type": "code",
   "execution_count": 467,
   "id": "f67c55d5",
   "metadata": {},
   "outputs": [
    {
     "name": "stdout",
     "output_type": "stream",
     "text": [
      "O preço está em queda, continue esperando.\n"
     ]
    }
   ],
   "source": [
    "if preco_weg < 33:\n",
    "  print('O preço está em queda, continue esperando.')\n",
    "elif preco_weg < 31:\n",
    "  print(\"O preço está baixo, compre!\")\n",
    "elif preco_weg < 35:\n",
    "  print('Detectamos um início do processo de queda de WEGE3')\n",
    "else:\n",
    "  print('WEGE3 ainda não iniciou uma tendência de queda. Aguarde!')"
   ]
  },
  {
   "cell_type": "markdown",
   "id": "73f75dae",
   "metadata": {},
   "source": [
    "Criar uma declaração condicional que usa o operador de igualdade."
   ]
  },
  {
   "cell_type": "code",
   "execution_count": 468,
   "id": "fed2af6c",
   "metadata": {},
   "outputs": [],
   "source": [
    "interesse_cliente = 'PETR4'"
   ]
  },
  {
   "cell_type": "code",
   "execution_count": 469,
   "id": "d947ac27",
   "metadata": {},
   "outputs": [
    {
     "name": "stdout",
     "output_type": "stream",
     "text": [
      "O cliente seguiu minha recomendação e comprou PETR4.\n"
     ]
    }
   ],
   "source": [
    "if interesse_cliente == 'PETR4':\n",
    "  print(\"O cliente seguiu minha recomendação e comprou PETR4.\")\n",
    "else:\n",
    "  print('O cliente comprou ações de', interesse_cliente)"
   ]
  },
  {
   "cell_type": "markdown",
   "id": "98da41a0",
   "metadata": {},
   "source": [
    "### Exercício 9: Condicionais\n",
    "\n",
    "Considere as variáveis abaixo.\n",
    "\n",
    "Crie uma estrutura condicional que atenda às seguintes condições:\n",
    "\n",
    "- Se o preço atual (preco_atual) for menor que o preço alvo (preco_alvo), imprima: \"O preço está abaixo do alvo, considere comprar!\".\n",
    "- Se o preço atual for igual ao preço alvo, imprima: \"O preço atingiu o alvo, pode ser uma boa oportunidade de venda!\".\n",
    "- Caso contrário, imprima: \"O preço está acima do alvo, avalie antes de comprar.\".\n",
    "- Além disso, verifique se o cliente está interessado em comprar ações da \"PETR4\". Se sim, imprima: \"O cliente quer comprar PETR4.\". Caso contrário, imprima: \"O cliente está interessado em comprar ações de *nome_da_ação*\"."
   ]
  },
  {
   "cell_type": "code",
   "execution_count": 471,
   "id": "96cd5c9c",
   "metadata": {},
   "outputs": [],
   "source": [
    "# Solução ao final do próximo item\n",
    "\n",
    "preco_atual = 29.50\n",
    "preco_alvo = 30.00\n",
    "interesse_cliente = 'MGLU3'\n",
    "\n",
    "# Código aqui"
   ]
  },
  {
   "cell_type": "markdown",
   "id": "9e19b1f9",
   "metadata": {},
   "source": [
    "### Resolução do Exercício 8\n",
    "\n",
    "Considere os seguintes conjuntos de ações:\n",
    "\n",
    "- Crie uma variável chamada acoes_uniao que contenha a união dos dois conjuntos.\n",
    "- Crie uma variável chamada acoes_intersecao que contenha a interseção dos dois conjuntos.\n",
    "- Crie uma variável chamada acoes_unicas que contenha a diferença simétrica entre os dois conjuntos."
   ]
  },
  {
   "cell_type": "code",
   "execution_count": 470,
   "id": "7ecfd648",
   "metadata": {},
   "outputs": [
    {
     "name": "stdout",
     "output_type": "stream",
     "text": [
      "União dos conjuntos: {'PRIO3', 'MGLU3', 'VALE3', 'PETR4', 'LREN3', 'GOAU4', 'AMER3', 'WEGE3'}\n",
      "Interseção dos conjuntos: {'PETR4', 'WEGE3'}\n",
      "Diferença simétrica: {'MGLU3', 'PRIO3', 'GOAU4', 'AMER3', 'VALE3', 'LREN3'}\n"
     ]
    }
   ],
   "source": [
    "# Conjuntos fornecidos\n",
    "acoes = {'PETR4', 'LREN3', 'MGLU3', 'WEGE3', 'PRIO3'}\n",
    "novas_acoes = {'VALE3', 'AMER3', 'PETR4', 'WEGE3', 'GOAU4'}\n",
    "\n",
    "# 1. União dos conjuntos\n",
    "acoes_uniao = acoes | novas_acoes  # ou acoes.union(novas_acoes)\n",
    "\n",
    "# 2. Interseção dos conjuntos\n",
    "acoes_intersecao = acoes & novas_acoes  # ou acoes.intersection(novas_acoes)\n",
    "\n",
    "# 3. Diferença simétrica entre os conjuntos\n",
    "acoes_unicas = acoes ^ novas_acoes  # ou acoes.symmetric_difference(novas_acoes)\n",
    "\n",
    "# Resultados\n",
    "print(\"União dos conjuntos:\", acoes_uniao)\n",
    "\n",
    "print(\"Interseção dos conjuntos:\", acoes_intersecao)\n",
    "\n",
    "print(\"Diferença simétrica:\", acoes_unicas)"
   ]
  },
  {
   "cell_type": "markdown",
   "id": "3d6898b9",
   "metadata": {},
   "source": [
    "## 10. Estruturas de repetição"
   ]
  },
  {
   "cell_type": "markdown",
   "id": "91da0476",
   "metadata": {},
   "source": [
    "Nesta seção trataremos das estruturas de repetição: for e while"
   ]
  },
  {
   "cell_type": "markdown",
   "id": "076a2bd7",
   "metadata": {},
   "source": [
    "### 10.1. For"
   ]
  },
  {
   "cell_type": "code",
   "execution_count": null,
   "id": "e9cb11d0",
   "metadata": {},
   "outputs": [],
   "source": [
    "lista = [1, 2, 3]"
   ]
  },
  {
   "cell_type": "markdown",
   "id": "287f6440",
   "metadata": {},
   "source": [
    "**loop**\n",
    "\n",
    "Vamos criar um pseudocódigo de um loop:\n",
    "\n",
    "para cada elemento dentro da lista:\n",
    "\n",
    "> imprima (elemento)\n",
    "\n",
    "\n",
    "\n",
    "\n"
   ]
  },
  {
   "cell_type": "code",
   "execution_count": null,
   "id": "2c70b2c6",
   "metadata": {},
   "outputs": [
    {
     "name": "stdout",
     "output_type": "stream",
     "text": [
      "1\n",
      "2\n",
      "3\n"
     ]
    }
   ],
   "source": [
    "for elemento in lista:\n",
    "  print(elemento)"
   ]
  },
  {
   "cell_type": "code",
   "execution_count": null,
   "id": "2b777b6a",
   "metadata": {},
   "outputs": [
    {
     "name": "stdout",
     "output_type": "stream",
     "text": [
      "1\n",
      "2\n",
      "3\n"
     ]
    }
   ],
   "source": [
    "for veiculo in lista:\n",
    "  print(veiculo)"
   ]
  },
  {
   "cell_type": "code",
   "execution_count": null,
   "id": "5e472107",
   "metadata": {},
   "outputs": [],
   "source": [
    "acoes = [\"BPAN4\", \"BBSE3\", \"BRFS3\", \"ECOR3\", \"ENGI11\", \"RAIL3\", \"SULA11\", \"VALE3\", \"WEGE3\"]"
   ]
  },
  {
   "cell_type": "code",
   "execution_count": null,
   "id": "561c828e",
   "metadata": {},
   "outputs": [
    {
     "name": "stdout",
     "output_type": "stream",
     "text": [
      "BPAN4\n",
      "BBSE3\n",
      "BRFS3\n",
      "ECOR3\n",
      "ENGI11\n",
      "RAIL3\n",
      "SULA11\n",
      "VALE3\n",
      "WEGE3\n"
     ]
    }
   ],
   "source": [
    "for i in acoes:\n",
    "  print(i)"
   ]
  },
  {
   "cell_type": "code",
   "execution_count": null,
   "id": "768d8580",
   "metadata": {},
   "outputs": [
    {
     "name": "stdout",
     "output_type": "stream",
     "text": [
      "BPAN4\n",
      "BBSE3\n",
      "BRFS3\n",
      "ECOR3\n",
      "ENGI11\n",
      "RAIL3\n",
      "SULA11\n",
      "VALE3\n",
      "WEGE3\n"
     ]
    }
   ],
   "source": [
    "for acao in acoes:\n",
    "  print(acao)"
   ]
  },
  {
   "cell_type": "markdown",
   "id": "9333edc5",
   "metadata": {},
   "source": [
    "Nós podemos utilizar qualquer variável dentro do nosso loop desde que a lista onde o loop está iterando seja mantida."
   ]
  },
  {
   "cell_type": "markdown",
   "id": "5385c210",
   "metadata": {},
   "source": [
    "Exercício: Coloque um \".SA\" no final do ticker de cada papel acima."
   ]
  },
  {
   "cell_type": "markdown",
   "id": "ed2c50f2",
   "metadata": {},
   "source": [
    "Já aprendemos aqui como concatenar strings"
   ]
  },
  {
   "cell_type": "code",
   "execution_count": null,
   "id": "34846cdc",
   "metadata": {},
   "outputs": [
    {
     "data": {
      "application/vnd.google.colaboratory.intrinsic+json": {
       "type": "string"
      },
      "text/plain": [
       "'VALE3.SA'"
      ]
     },
     "metadata": {},
     "output_type": "display_data"
    }
   ],
   "source": [
    "'VALE3' + '.SA'"
   ]
  },
  {
   "cell_type": "code",
   "execution_count": null,
   "id": "39b5a836",
   "metadata": {},
   "outputs": [
    {
     "name": "stdout",
     "output_type": "stream",
     "text": [
      "BPAN4.SA\n",
      "BBSE3.SA\n",
      "BRFS3.SA\n",
      "ECOR3.SA\n",
      "ENGI11.SA\n",
      "RAIL3.SA\n",
      "SULA11.SA\n",
      "VALE3.SA\n",
      "WEGE3.SA\n"
     ]
    }
   ],
   "source": [
    "for papel in acoes:\n",
    "  print(papel + '.SA')"
   ]
  },
  {
   "cell_type": "code",
   "execution_count": null,
   "id": "0d2fb5c1",
   "metadata": {},
   "outputs": [
    {
     "data": {
      "application/vnd.google.colaboratory.intrinsic+json": {
       "type": "string"
      },
      "text/plain": [
       "'BPAN4.SA'"
      ]
     },
     "metadata": {},
     "output_type": "display_data"
    },
    {
     "data": {
      "application/vnd.google.colaboratory.intrinsic+json": {
       "type": "string"
      },
      "text/plain": [
       "'BBSE3.SA'"
      ]
     },
     "metadata": {},
     "output_type": "display_data"
    },
    {
     "data": {
      "application/vnd.google.colaboratory.intrinsic+json": {
       "type": "string"
      },
      "text/plain": [
       "'BRFS3.SA'"
      ]
     },
     "metadata": {},
     "output_type": "display_data"
    },
    {
     "data": {
      "application/vnd.google.colaboratory.intrinsic+json": {
       "type": "string"
      },
      "text/plain": [
       "'ECOR3.SA'"
      ]
     },
     "metadata": {},
     "output_type": "display_data"
    },
    {
     "data": {
      "application/vnd.google.colaboratory.intrinsic+json": {
       "type": "string"
      },
      "text/plain": [
       "'ENGI11.SA'"
      ]
     },
     "metadata": {},
     "output_type": "display_data"
    },
    {
     "data": {
      "application/vnd.google.colaboratory.intrinsic+json": {
       "type": "string"
      },
      "text/plain": [
       "'RAIL3.SA'"
      ]
     },
     "metadata": {},
     "output_type": "display_data"
    },
    {
     "data": {
      "application/vnd.google.colaboratory.intrinsic+json": {
       "type": "string"
      },
      "text/plain": [
       "'SULA11.SA'"
      ]
     },
     "metadata": {},
     "output_type": "display_data"
    },
    {
     "data": {
      "application/vnd.google.colaboratory.intrinsic+json": {
       "type": "string"
      },
      "text/plain": [
       "'VALE3.SA'"
      ]
     },
     "metadata": {},
     "output_type": "display_data"
    },
    {
     "data": {
      "application/vnd.google.colaboratory.intrinsic+json": {
       "type": "string"
      },
      "text/plain": [
       "'WEGE3.SA'"
      ]
     },
     "metadata": {},
     "output_type": "display_data"
    }
   ],
   "source": [
    "for papel in acoes:\n",
    "  display(papel + '.SA')"
   ]
  },
  {
   "cell_type": "markdown",
   "id": "e0410a79",
   "metadata": {},
   "source": [
    "Exercício: crie uma nova lista que recebe o ticker das ações modificados, contendo o .SA no final."
   ]
  },
  {
   "cell_type": "code",
   "execution_count": null,
   "id": "17416cc7",
   "metadata": {},
   "outputs": [
    {
     "data": {
      "text/plain": [
       "['BPAN4',\n",
       " 'BBSE3',\n",
       " 'BRFS3',\n",
       " 'ECOR3',\n",
       " 'ENGI11',\n",
       " 'RAIL3',\n",
       " 'SULA11',\n",
       " 'VALE3',\n",
       " 'WEGE3']"
      ]
     },
     "metadata": {},
     "output_type": "display_data"
    }
   ],
   "source": [
    "acoes"
   ]
  },
  {
   "cell_type": "code",
   "execution_count": null,
   "id": "8429f1f9",
   "metadata": {},
   "outputs": [],
   "source": [
    "acoes.append('SUZB3')"
   ]
  },
  {
   "cell_type": "code",
   "execution_count": null,
   "id": "7390930d",
   "metadata": {},
   "outputs": [
    {
     "data": {
      "text/plain": [
       "['BPAN4',\n",
       " 'BBSE3',\n",
       " 'BRFS3',\n",
       " 'ECOR3',\n",
       " 'ENGI11',\n",
       " 'RAIL3',\n",
       " 'SULA11',\n",
       " 'VALE3',\n",
       " 'WEGE3',\n",
       " 'SUZB3']"
      ]
     },
     "metadata": {},
     "output_type": "display_data"
    }
   ],
   "source": [
    "acoes"
   ]
  },
  {
   "cell_type": "markdown",
   "id": "3e9dcb23",
   "metadata": {},
   "source": [
    "Nós podemos inicialmente criar uma lista vazia."
   ]
  },
  {
   "cell_type": "code",
   "execution_count": null,
   "id": "ec29abf4",
   "metadata": {},
   "outputs": [],
   "source": [
    "acoes_modificadas = []"
   ]
  },
  {
   "cell_type": "code",
   "execution_count": null,
   "id": "6571411f",
   "metadata": {},
   "outputs": [
    {
     "data": {
      "text/plain": [
       "[]"
      ]
     },
     "metadata": {},
     "output_type": "display_data"
    }
   ],
   "source": [
    "acoes_modificadas"
   ]
  },
  {
   "cell_type": "code",
   "execution_count": null,
   "id": "4da1b966",
   "metadata": {},
   "outputs": [],
   "source": [
    "for j in acoes:\n",
    "  acoes_modificadas.append(j + '.SA')"
   ]
  },
  {
   "cell_type": "code",
   "execution_count": null,
   "id": "f1ae59fa",
   "metadata": {},
   "outputs": [
    {
     "data": {
      "text/plain": [
       "['BPAN4.SA',\n",
       " 'BBSE3.SA',\n",
       " 'BRFS3.SA',\n",
       " 'ECOR3.SA',\n",
       " 'ENGI11.SA',\n",
       " 'RAIL3.SA',\n",
       " 'SULA11.SA',\n",
       " 'VALE3.SA',\n",
       " 'WEGE3.SA',\n",
       " 'SUZB3.SA']"
      ]
     },
     "metadata": {},
     "output_type": "display_data"
    }
   ],
   "source": [
    "acoes_modificadas"
   ]
  },
  {
   "cell_type": "markdown",
   "id": "33f0511d",
   "metadata": {},
   "source": [
    "Você pode ainda definir uma variável intermediária"
   ]
  },
  {
   "cell_type": "code",
   "execution_count": null,
   "id": "9e79c36c",
   "metadata": {},
   "outputs": [],
   "source": [
    "for j in acoes:\n",
    "  modificacao = j + '.SA'\n",
    "  acoes_modificadas.append(modificacao)"
   ]
  },
  {
   "cell_type": "code",
   "execution_count": null,
   "id": "8078de9a",
   "metadata": {},
   "outputs": [
    {
     "data": {
      "text/plain": [
       "['BPAN4.SA',\n",
       " 'BBSE3.SA',\n",
       " 'BRFS3.SA',\n",
       " 'ECOR3.SA',\n",
       " 'ENGI11.SA',\n",
       " 'RAIL3.SA',\n",
       " 'SULA11.SA',\n",
       " 'VALE3.SA',\n",
       " 'WEGE3.SA',\n",
       " 'SUZB3.SA',\n",
       " 'BPAN4.SA',\n",
       " 'BBSE3.SA',\n",
       " 'BRFS3.SA',\n",
       " 'ECOR3.SA',\n",
       " 'ENGI11.SA',\n",
       " 'RAIL3.SA',\n",
       " 'SULA11.SA',\n",
       " 'VALE3.SA',\n",
       " 'WEGE3.SA',\n",
       " 'SUZB3.SA']"
      ]
     },
     "metadata": {},
     "output_type": "display_data"
    }
   ],
   "source": [
    "acoes_modificadas"
   ]
  },
  {
   "cell_type": "markdown",
   "id": "a7409a6b",
   "metadata": {},
   "source": [
    "##### Para cada ativo, eu desejo exibir uma mensagem:"
   ]
  },
  {
   "cell_type": "code",
   "execution_count": null,
   "id": "f006a5e8",
   "metadata": {},
   "outputs": [
    {
     "data": {
      "text/plain": [
       "['BPAN4',\n",
       " 'BBSE3',\n",
       " 'BRFS3',\n",
       " 'ECOR3',\n",
       " 'ENGI11',\n",
       " 'RAIL3',\n",
       " 'SULA11',\n",
       " 'VALE3',\n",
       " 'WEGE3',\n",
       " 'SUZB3']"
      ]
     },
     "metadata": {},
     "output_type": "display_data"
    }
   ],
   "source": [
    "acoes"
   ]
  },
  {
   "cell_type": "code",
   "execution_count": null,
   "id": "8747b81a",
   "metadata": {},
   "outputs": [],
   "source": [
    "mensagem = \"é um papel do Ibov\""
   ]
  },
  {
   "cell_type": "code",
   "execution_count": null,
   "id": "dddad439",
   "metadata": {},
   "outputs": [
    {
     "name": "stdout",
     "output_type": "stream",
     "text": [
      "BPAN4 é um papel do Ibov\n",
      "BBSE3 é um papel do Ibov\n",
      "BRFS3 é um papel do Ibov\n",
      "ECOR3 é um papel do Ibov\n",
      "ENGI11 é um papel do Ibov\n",
      "RAIL3 é um papel do Ibov\n",
      "SULA11 é um papel do Ibov\n",
      "VALE3 é um papel do Ibov\n",
      "WEGE3 é um papel do Ibov\n",
      "SUZB3 é um papel do Ibov\n"
     ]
    }
   ],
   "source": [
    "for acao in acoes:\n",
    "  print(acao, mensagem)"
   ]
  },
  {
   "cell_type": "code",
   "execution_count": null,
   "id": "db99dadc",
   "metadata": {},
   "outputs": [
    {
     "data": {
      "text/plain": [
       "['BPAN4',\n",
       " 'BBSE3',\n",
       " 'BRFS3',\n",
       " 'ECOR3',\n",
       " 'ENGI11',\n",
       " 'RAIL3',\n",
       " 'SULA11',\n",
       " 'VALE3',\n",
       " 'WEGE3',\n",
       " 'SUZB3']"
      ]
     },
     "metadata": {},
     "output_type": "display_data"
    }
   ],
   "source": [
    "acoes"
   ]
  },
  {
   "cell_type": "code",
   "execution_count": null,
   "id": "a228defe",
   "metadata": {},
   "outputs": [],
   "source": [
    "acoes.append('HCTR11')"
   ]
  },
  {
   "cell_type": "code",
   "execution_count": null,
   "id": "774262ac",
   "metadata": {},
   "outputs": [],
   "source": [
    "acoes.append('IVVB11')"
   ]
  },
  {
   "cell_type": "code",
   "execution_count": null,
   "id": "e6bf8634",
   "metadata": {},
   "outputs": [],
   "source": [
    "acoes.append('COCA34')"
   ]
  },
  {
   "cell_type": "code",
   "execution_count": null,
   "id": "3ba1ee61",
   "metadata": {},
   "outputs": [
    {
     "data": {
      "text/plain": [
       "['BPAN4',\n",
       " 'BBSE3',\n",
       " 'BRFS3',\n",
       " 'ECOR3',\n",
       " 'ENGI11',\n",
       " 'RAIL3',\n",
       " 'SULA11',\n",
       " 'VALE3',\n",
       " 'WEGE3',\n",
       " 'SUZB3',\n",
       " 'HCTR11',\n",
       " 'IVVB11',\n",
       " 'COCA34']"
      ]
     },
     "metadata": {},
     "output_type": "display_data"
    }
   ],
   "source": [
    "acoes"
   ]
  },
  {
   "cell_type": "markdown",
   "id": "8137eafe",
   "metadata": {},
   "source": [
    "Automação usando a função break para interromper o loop assim que uma condição for satisfeita (integrando 'for' e 'if').\n",
    "\n",
    "Atenção à indentação correta."
   ]
  },
  {
   "cell_type": "code",
   "execution_count": null,
   "id": "d86a06fd",
   "metadata": {},
   "outputs": [
    {
     "name": "stdout",
     "output_type": "stream",
     "text": [
      "BPAN4 é um papel do Ibov\n",
      "BBSE3 é um papel do Ibov\n",
      "BRFS3 é um papel do Ibov\n",
      "ECOR3 é um papel do Ibov\n",
      "ENGI11 é um papel do Ibov\n",
      "RAIL3 é um papel do Ibov\n",
      "SULA11 é um papel do Ibov\n",
      "VALE3 é um papel do Ibov\n",
      "WEGE3 é um papel do Ibov\n",
      "SUZB3 é um papel do Ibov\n"
     ]
    }
   ],
   "source": [
    "for acao in acoes:\n",
    "  print(acao, mensagem)\n",
    "  if acao == 'SUZB3':\n",
    "    break"
   ]
  },
  {
   "cell_type": "markdown",
   "id": "203a365d",
   "metadata": {},
   "source": [
    "Vamos lembrar dos dicionários"
   ]
  },
  {
   "cell_type": "code",
   "execution_count": null,
   "id": "7e028813",
   "metadata": {},
   "outputs": [],
   "source": [
    "precos = {'PETR4':30,\n",
    "          'VALE3': 102,\n",
    "          'WEGE3': 34}"
   ]
  },
  {
   "cell_type": "code",
   "execution_count": null,
   "id": "07995270",
   "metadata": {},
   "outputs": [
    {
     "data": {
      "text/plain": [
       "dict_keys(['PETR4', 'VALE3', 'WEGE3'])"
      ]
     },
     "metadata": {},
     "output_type": "display_data"
    }
   ],
   "source": [
    "precos.keys()"
   ]
  },
  {
   "cell_type": "code",
   "execution_count": null,
   "id": "71e98bed",
   "metadata": {},
   "outputs": [
    {
     "data": {
      "text/plain": [
       "dict_values([30, 102, 34])"
      ]
     },
     "metadata": {},
     "output_type": "display_data"
    }
   ],
   "source": [
    "precos.values()"
   ]
  },
  {
   "cell_type": "code",
   "execution_count": null,
   "id": "fabe0cca",
   "metadata": {},
   "outputs": [
    {
     "data": {
      "text/plain": [
       "['PETR4', 'VALE3', 'WEGE3']"
      ]
     },
     "metadata": {},
     "output_type": "display_data"
    }
   ],
   "source": [
    "list(precos.keys())"
   ]
  },
  {
   "cell_type": "markdown",
   "id": "8eb19785",
   "metadata": {},
   "source": [
    "Se isso é uma lista, pode ser indexada."
   ]
  },
  {
   "cell_type": "code",
   "execution_count": null,
   "id": "cf6d2c9b",
   "metadata": {},
   "outputs": [
    {
     "data": {
      "application/vnd.google.colaboratory.intrinsic+json": {
       "type": "string"
      },
      "text/plain": [
       "'WEGE3'"
      ]
     },
     "metadata": {},
     "output_type": "display_data"
    }
   ],
   "source": [
    "list(precos.keys())[2]"
   ]
  },
  {
   "cell_type": "code",
   "execution_count": null,
   "id": "d54797d4",
   "metadata": {},
   "outputs": [
    {
     "data": {
      "application/vnd.google.colaboratory.intrinsic+json": {
       "type": "string"
      },
      "text/plain": [
       "'A ação XXXX está com o preço de YY,YY neste momento'"
      ]
     },
     "metadata": {},
     "output_type": "display_data"
    }
   ],
   "source": [
    "\"A ação XXXX está com o preço de YY,YY neste momento\""
   ]
  },
  {
   "cell_type": "code",
   "execution_count": null,
   "id": "0ccbe923",
   "metadata": {},
   "outputs": [
    {
     "data": {
      "text/plain": [
       "[30, 102, 34]"
      ]
     },
     "metadata": {},
     "output_type": "display_data"
    }
   ],
   "source": [
    "list(precos.values())"
   ]
  },
  {
   "cell_type": "code",
   "execution_count": null,
   "id": "f4e3bd15",
   "metadata": {},
   "outputs": [
    {
     "data": {
      "text/plain": [
       "34"
      ]
     },
     "metadata": {},
     "output_type": "display_data"
    }
   ],
   "source": [
    "list(precos.values())[2]"
   ]
  },
  {
   "cell_type": "code",
   "execution_count": null,
   "id": "efc47027",
   "metadata": {},
   "outputs": [
    {
     "data": {
      "application/vnd.google.colaboratory.intrinsic+json": {
       "type": "string"
      },
      "text/plain": [
       "'A ação WEGE3 está com o preço de 34 neste momento'"
      ]
     },
     "metadata": {},
     "output_type": "display_data"
    }
   ],
   "source": [
    "\"A ação \" + list(precos.keys())[2] +  \" está com o preço de \" + str(list(precos.values())[2]) +  \" neste momento\""
   ]
  },
  {
   "cell_type": "code",
   "execution_count": null,
   "id": "507654ea",
   "metadata": {},
   "outputs": [
    {
     "name": "stdout",
     "output_type": "stream",
     "text": [
      "A ação WEGE3 está com o preço de 34 neste momento\n"
     ]
    }
   ],
   "source": [
    "print(\"A ação\", list(precos.keys())[2],\"está com o preço de\",list(precos.values())[2],\"neste momento\")"
   ]
  },
  {
   "cell_type": "markdown",
   "id": "453d8d53",
   "metadata": {},
   "source": [
    "Vamos pensar na estrutura deste novo for"
   ]
  },
  {
   "cell_type": "code",
   "execution_count": null,
   "id": "6c281f61",
   "metadata": {},
   "outputs": [
    {
     "name": "stdout",
     "output_type": "stream",
     "text": [
      "A ação PETR4 está com o preço de 30 neste momento\n"
     ]
    }
   ],
   "source": [
    "print(\"A ação\", list(precos.keys())[0],\"está com o preço de\",list(precos.values())[0],\"neste momento\")"
   ]
  },
  {
   "cell_type": "code",
   "execution_count": null,
   "id": "c60b5c58",
   "metadata": {},
   "outputs": [
    {
     "name": "stdout",
     "output_type": "stream",
     "text": [
      "A ação VALE3 está com o preço de 102 neste momento\n"
     ]
    }
   ],
   "source": [
    "print(\"A ação\", list(precos.keys())[1],\"está com o preço de\",list(precos.values())[1],\"neste momento\")"
   ]
  },
  {
   "cell_type": "markdown",
   "id": "85949b42",
   "metadata": {},
   "source": [
    "Vamos lembrar do operador len (comprimento)"
   ]
  },
  {
   "cell_type": "code",
   "execution_count": null,
   "id": "b19f75c9",
   "metadata": {},
   "outputs": [
    {
     "data": {
      "text/plain": [
       "3"
      ]
     },
     "metadata": {},
     "output_type": "display_data"
    }
   ],
   "source": [
    "len(precos)"
   ]
  },
  {
   "cell_type": "markdown",
   "id": "932a63c6",
   "metadata": {},
   "source": [
    "O operador range é para obter os elementos contidos dentro de um intervalo"
   ]
  },
  {
   "cell_type": "code",
   "execution_count": null,
   "id": "309ea878",
   "metadata": {},
   "outputs": [
    {
     "data": {
      "text/plain": [
       "range(0, 3)"
      ]
     },
     "metadata": {},
     "output_type": "display_data"
    }
   ],
   "source": [
    "range(0, len(precos))"
   ]
  },
  {
   "cell_type": "code",
   "execution_count": null,
   "id": "88f96f30",
   "metadata": {},
   "outputs": [
    {
     "data": {
      "text/plain": [
       "[0, 1, 2]"
      ]
     },
     "metadata": {},
     "output_type": "display_data"
    }
   ],
   "source": [
    "list(range(0, len(precos)))"
   ]
  },
  {
   "cell_type": "code",
   "execution_count": null,
   "id": "c00a610b",
   "metadata": {},
   "outputs": [
    {
     "name": "stdout",
     "output_type": "stream",
     "text": [
      "0\n",
      "1\n",
      "2\n"
     ]
    }
   ],
   "source": [
    "for i in range(0, len(precos)):\n",
    "  print(i)"
   ]
  },
  {
   "cell_type": "code",
   "execution_count": null,
   "id": "d79b639a",
   "metadata": {},
   "outputs": [
    {
     "name": "stdout",
     "output_type": "stream",
     "text": [
      "A ação PETR4 está com o preço de 30 neste momento\n",
      "A ação VALE3 está com o preço de 102 neste momento\n",
      "A ação WEGE3 está com o preço de 34 neste momento\n"
     ]
    }
   ],
   "source": [
    "for i in range(0, len(precos)):\n",
    "  print(\"A ação\", list(precos.keys())[i],\"está com o preço de\",list(precos.values())[i],\"neste momento\")"
   ]
  },
  {
   "cell_type": "markdown",
   "id": "c45e0126",
   "metadata": {},
   "source": [
    "### 10.2. While"
   ]
  },
  {
   "cell_type": "markdown",
   "id": "2978e29e",
   "metadata": {},
   "source": [
    "A estrutura do while (enquanto, em português) se refere a outra repetição (loop) que ocorrerá enquanto a condição for verdadeira. Poderia ser pensada de uma maneira análoga ao uso do 'for' e 'if' integrados."
   ]
  },
  {
   "cell_type": "code",
   "execution_count": null,
   "id": "a26f373d",
   "metadata": {},
   "outputs": [],
   "source": [
    "preco_vale = 70"
   ]
  },
  {
   "cell_type": "markdown",
   "id": "46bda499",
   "metadata": {},
   "source": [
    "Vamos criar um loop do tipo 'While' que roda eternamente"
   ]
  },
  {
   "cell_type": "code",
   "execution_count": null,
   "id": "362bec51",
   "metadata": {},
   "outputs": [],
   "source": [
    "while preco_vale < 100:\n",
    "  print('O preço de VALE3 está abaixo de R$ 100')"
   ]
  },
  {
   "cell_type": "markdown",
   "id": "a1b69425",
   "metadata": {},
   "source": [
    "Vamos criar uma condição para VALE3 aumentar o preço"
   ]
  },
  {
   "cell_type": "code",
   "execution_count": null,
   "id": "b71bb030",
   "metadata": {},
   "outputs": [],
   "source": [
    "preco_vale = preco_vale*1.01"
   ]
  },
  {
   "cell_type": "code",
   "execution_count": null,
   "id": "f9ad97aa",
   "metadata": {},
   "outputs": [
    {
     "data": {
      "text/plain": [
       "70.7"
      ]
     },
     "metadata": {},
     "output_type": "display_data"
    }
   ],
   "source": [
    "preco_vale"
   ]
  },
  {
   "cell_type": "markdown",
   "id": "4140ec59",
   "metadata": {},
   "source": [
    "Enquanto o preço for menor que R$ 100, imprima a seguinte frase:\n",
    "\n",
    "\"Ainda não atingiu o preço ideal para venda. Espere!\""
   ]
  },
  {
   "cell_type": "markdown",
   "id": "745c07ed",
   "metadata": {},
   "source": [
    "Caso a condição seja verdadeira (preco_vale >= R$ 100), imprima esta outra frase:\n",
    "\n",
    "\"Preço alvo foi atingido. Hora de vender!\""
   ]
  },
  {
   "cell_type": "code",
   "execution_count": null,
   "id": "a88d3712",
   "metadata": {},
   "outputs": [],
   "source": [
    "preco_vale = 70"
   ]
  },
  {
   "cell_type": "code",
   "execution_count": null,
   "id": "ab8d3943",
   "metadata": {},
   "outputs": [
    {
     "data": {
      "text/plain": [
       "70.89"
      ]
     },
     "metadata": {},
     "output_type": "display_data"
    }
   ],
   "source": [
    "round(70.894038423908, 2)"
   ]
  },
  {
   "cell_type": "code",
   "execution_count": null,
   "id": "a7c99b95",
   "metadata": {},
   "outputs": [
    {
     "name": "stdout",
     "output_type": "stream",
     "text": [
      "Ainda não atingiu o preço ideal para venda. Espere! O preço atual é:  70\n",
      "Ainda não atingiu o preço ideal para venda. Espere! O preço atual é:  70.7\n",
      "Ainda não atingiu o preço ideal para venda. Espere! O preço atual é:  71.41\n",
      "Ainda não atingiu o preço ideal para venda. Espere! O preço atual é:  72.12\n",
      "Ainda não atingiu o preço ideal para venda. Espere! O preço atual é:  72.84\n",
      "Ainda não atingiu o preço ideal para venda. Espere! O preço atual é:  73.57\n",
      "Ainda não atingiu o preço ideal para venda. Espere! O preço atual é:  74.31\n",
      "Ainda não atingiu o preço ideal para venda. Espere! O preço atual é:  75.05\n",
      "Ainda não atingiu o preço ideal para venda. Espere! O preço atual é:  75.8\n",
      "Ainda não atingiu o preço ideal para venda. Espere! O preço atual é:  76.56\n",
      "Ainda não atingiu o preço ideal para venda. Espere! O preço atual é:  77.32\n",
      "Ainda não atingiu o preço ideal para venda. Espere! O preço atual é:  78.1\n",
      "Ainda não atingiu o preço ideal para venda. Espere! O preço atual é:  78.88\n",
      "Ainda não atingiu o preço ideal para venda. Espere! O preço atual é:  79.67\n",
      "Ainda não atingiu o preço ideal para venda. Espere! O preço atual é:  80.46\n",
      "Ainda não atingiu o preço ideal para venda. Espere! O preço atual é:  81.27\n",
      "Ainda não atingiu o preço ideal para venda. Espere! O preço atual é:  82.08\n",
      "Ainda não atingiu o preço ideal para venda. Espere! O preço atual é:  82.9\n",
      "Ainda não atingiu o preço ideal para venda. Espere! O preço atual é:  83.73\n",
      "Ainda não atingiu o preço ideal para venda. Espere! O preço atual é:  84.57\n",
      "Ainda não atingiu o preço ideal para venda. Espere! O preço atual é:  85.41\n",
      "Ainda não atingiu o preço ideal para venda. Espere! O preço atual é:  86.27\n",
      "Ainda não atingiu o preço ideal para venda. Espere! O preço atual é:  87.13\n",
      "Ainda não atingiu o preço ideal para venda. Espere! O preço atual é:  88.0\n",
      "Ainda não atingiu o preço ideal para venda. Espere! O preço atual é:  88.88\n",
      "Ainda não atingiu o preço ideal para venda. Espere! O preço atual é:  89.77\n",
      "Ainda não atingiu o preço ideal para venda. Espere! O preço atual é:  90.67\n",
      "Ainda não atingiu o preço ideal para venda. Espere! O preço atual é:  91.57\n",
      "Ainda não atingiu o preço ideal para venda. Espere! O preço atual é:  92.49\n",
      "Ainda não atingiu o preço ideal para venda. Espere! O preço atual é:  93.42\n",
      "Ainda não atingiu o preço ideal para venda. Espere! O preço atual é:  94.35\n",
      "Ainda não atingiu o preço ideal para venda. Espere! O preço atual é:  95.29\n",
      "Ainda não atingiu o preço ideal para venda. Espere! O preço atual é:  96.25\n",
      "Ainda não atingiu o preço ideal para venda. Espere! O preço atual é:  97.21\n",
      "Ainda não atingiu o preço ideal para venda. Espere! O preço atual é:  98.18\n",
      "Ainda não atingiu o preço ideal para venda. Espere! O preço atual é:  99.16\n",
      "Preço alvo foi atingido. Hora de vender! 100.15\n"
     ]
    }
   ],
   "source": [
    "while preco_vale < 100:\n",
    "  print(\"Ainda não atingiu o preço ideal para venda. Espere! O preço atual é: \", round(preco_vale, 2))\n",
    "  preco_vale = preco_vale*1.01\n",
    "\n",
    "else:\n",
    "  print(\"Preço alvo foi atingido. Hora de vender!\", round(preco_vale, 2))"
   ]
  },
  {
   "cell_type": "markdown",
   "id": "96ddf15a",
   "metadata": {},
   "source": [
    "Nesse exercío, vamos precisar do input do usuário"
   ]
  },
  {
   "cell_type": "code",
   "execution_count": null,
   "id": "c98a8933",
   "metadata": {},
   "outputs": [
    {
     "name": "stdout",
     "output_type": "stream",
     "text": [
      "Qualquer coisa\n"
     ]
    },
    {
     "data": {
      "application/vnd.google.colaboratory.intrinsic+json": {
       "type": "string"
      },
      "text/plain": [
       "'Qualquer coisa'"
      ]
     },
     "metadata": {},
     "output_type": "display_data"
    }
   ],
   "source": [
    "input()"
   ]
  },
  {
   "cell_type": "markdown",
   "id": "ffb218a2",
   "metadata": {},
   "source": [
    "Tudo o que colocarmos dentro da função input() vai virar uma string."
   ]
  },
  {
   "cell_type": "code",
   "execution_count": null,
   "id": "57481aba",
   "metadata": {},
   "outputs": [
    {
     "name": "stdout",
     "output_type": "stream",
     "text": [
      "MGLU3\n"
     ]
    }
   ],
   "source": [
    "investimento = input()"
   ]
  },
  {
   "cell_type": "code",
   "execution_count": null,
   "id": "035af663",
   "metadata": {},
   "outputs": [
    {
     "data": {
      "application/vnd.google.colaboratory.intrinsic+json": {
       "type": "string"
      },
      "text/plain": [
       "'MGLU3'"
      ]
     },
     "metadata": {},
     "output_type": "display_data"
    }
   ],
   "source": [
    "investimento"
   ]
  },
  {
   "cell_type": "code",
   "execution_count": null,
   "id": "36bcf0ab",
   "metadata": {},
   "outputs": [
    {
     "name": "stdout",
     "output_type": "stream",
     "text": [
      "Insira o papel que você deseja investir: ITUB4\n"
     ]
    }
   ],
   "source": [
    "investimento = input('Insira o papel que você deseja investir: ')"
   ]
  },
  {
   "cell_type": "code",
   "execution_count": null,
   "id": "eab576c6",
   "metadata": {},
   "outputs": [
    {
     "data": {
      "application/vnd.google.colaboratory.intrinsic+json": {
       "type": "string"
      },
      "text/plain": [
       "'ITUB4'"
      ]
     },
     "metadata": {},
     "output_type": "display_data"
    }
   ],
   "source": [
    "investimento"
   ]
  },
  {
   "cell_type": "markdown",
   "id": "0d7d6be6",
   "metadata": {},
   "source": [
    "Como converter o input de string para número"
   ]
  },
  {
   "cell_type": "code",
   "execution_count": null,
   "id": "4c57c34c",
   "metadata": {},
   "outputs": [
    {
     "name": "stdout",
     "output_type": "stream",
     "text": [
      "Quantos papéis você comprou? 200\n"
     ]
    }
   ],
   "source": [
    "num_acoes = input('Quantos papéis você comprou? ')"
   ]
  },
  {
   "cell_type": "code",
   "execution_count": null,
   "id": "6630c4a3",
   "metadata": {},
   "outputs": [
    {
     "data": {
      "application/vnd.google.colaboratory.intrinsic+json": {
       "type": "string"
      },
      "text/plain": [
       "'200'"
      ]
     },
     "metadata": {},
     "output_type": "display_data"
    }
   ],
   "source": [
    "num_acoes"
   ]
  },
  {
   "cell_type": "code",
   "execution_count": null,
   "id": "7495bc7e",
   "metadata": {},
   "outputs": [
    {
     "data": {
      "text/plain": [
       "str"
      ]
     },
     "metadata": {},
     "output_type": "display_data"
    }
   ],
   "source": [
    "type(num_acoes)"
   ]
  },
  {
   "cell_type": "code",
   "execution_count": null,
   "id": "6ee9f878",
   "metadata": {},
   "outputs": [
    {
     "data": {
      "text/plain": [
       "200"
      ]
     },
     "metadata": {},
     "output_type": "display_data"
    }
   ],
   "source": [
    "int(num_acoes)"
   ]
  },
  {
   "cell_type": "markdown",
   "id": "727e1443",
   "metadata": {},
   "source": [
    "Exercício:\n",
    "\n",
    "Outro exemplo de uso do while. Imagine que tem disponível 15000 reais para investir. A cada operação, será computado o valor alocado nesta operação (chamaremos de \"investimento_unitario\") e o total já investido (\"investimento_total\")\n",
    "\n",
    "\n",
    "A função input interage com o usuario, recebendo um objeto (numérico, string...) e armazenando em uma variável."
   ]
  },
  {
   "cell_type": "code",
   "execution_count": null,
   "id": "ac845d5d",
   "metadata": {},
   "outputs": [],
   "source": [
    "investimento_unitario = 0\n",
    "investimento_total = 0"
   ]
  },
  {
   "cell_type": "markdown",
   "id": "da715e6f",
   "metadata": {},
   "source": [
    "Enquanto o valor alocado for menor que 15000 a condição do while será executada. Quando essa condição não for mais verdadeira (no caso, investimento_total >= 15000), execute o que foi determinado no else."
   ]
  },
  {
   "cell_type": "code",
   "execution_count": null,
   "id": "c4ab69ea",
   "metadata": {},
   "outputs": [
    {
     "name": "stdout",
     "output_type": "stream",
     "text": [
      "Digite o valor do seu investimento: 2000\n",
      "Digite o valor do seu investimento: 5000\n",
      "Digite o valor do seu investimento: 8000\n",
      "Limite total previsto para investir foi atingido!\n",
      "Você excedeu R$ 0 do valor previsto\n",
      "Você investiu o total de R$  15000\n"
     ]
    }
   ],
   "source": [
    "while investimento_total < 15000:\n",
    "  investimento_unitario = int(input('Digite o valor do seu investimento: '))\n",
    "  investimento_total = investimento_total + investimento_unitario\n",
    "\n",
    "else:\n",
    "  print('Limite total previsto para investir foi atingido!')\n",
    "  print('Você excedeu R$', investimento_total - 15000, 'do valor previsto')\n",
    "  print('Você investiu o total de R$ ', investimento_total)"
   ]
  },
  {
   "cell_type": "code",
   "execution_count": null,
   "id": "505dc8e3",
   "metadata": {},
   "outputs": [
    {
     "name": "stdout",
     "output_type": "stream",
     "text": [
      "Digite o valor do seu investimento: 3000\n",
      "Digite o valor do seu investimento: 5000\n",
      "Digite o valor do seu investimento: 3000\n",
      "Digite o valor do seu investimento: 1500\n",
      "Digite o valor do seu investimento: 2300\n",
      "Digite o valor do seu investimento: 1300\n",
      "Limite total previsto para investir foi atingido!\n",
      "Você excedeu R$ 1100 do valor previsto\n",
      "Você investiu o total de R$  16100\n"
     ]
    }
   ],
   "source": [
    "while investimento_total < 15000:\n",
    "  investimento_unitario = int(input('Digite o valor do seu investimento: '))\n",
    "  investimento_total = investimento_total + investimento_unitario\n",
    "\n",
    "print('Limite total previsto para investir foi atingido!')\n",
    "print('Você excedeu R$', investimento_total - 15000, 'do valor previsto')\n",
    "print('Você investiu o total de R$ ', investimento_total)"
   ]
  },
  {
   "cell_type": "markdown",
   "id": "291bb47f",
   "metadata": {},
   "source": [
    "### Resolução do Exercício 9\n",
    "\n",
    "Considere as variáveis abaixo.\n",
    "\n",
    "Crie uma estrutura condicional que atenda às seguintes condições:\n",
    "\n",
    "- Se o preço atual (preco_atual) for menor que o preço alvo (preco_alvo), imprima: \"O preço está abaixo do alvo, considere comprar!\".\n",
    "- Se o preço atual for igual ao preço alvo, imprima: \"O preço atingiu o alvo, pode ser uma boa oportunidade de venda!\".\n",
    "- Caso contrário, imprima: \"O preço está acima do alvo, avalie antes de comprar.\".\n",
    "- Além disso, verifique se o cliente está interessado em comprar ações da \"PETR4\". Se sim, imprima: \"O cliente quer comprar PETR4.\". Caso contrário, imprima: \"O cliente está interessado em comprar ações de *nome_da_ação*\"."
   ]
  },
  {
   "cell_type": "code",
   "execution_count": 3,
   "id": "4e9d69bb",
   "metadata": {},
   "outputs": [
    {
     "name": "stdout",
     "output_type": "stream",
     "text": [
      "O preço está abaixo do alvo, considere comprar!\n",
      "O cliente está interessado em comprar ações de MGLU3.\n"
     ]
    }
   ],
   "source": [
    "# Variáveis fornecidas\n",
    "preco_atual = 29.50\n",
    "preco_alvo = 30.00\n",
    "interesse_cliente = 'MGLU3'\n",
    "\n",
    "# Estrutura condicional\n",
    "if preco_atual < preco_alvo:\n",
    "    print(\"O preço está abaixo do alvo, considere comprar!\")\n",
    "elif preco_atual == preco_alvo:\n",
    "    print(\"O preço atingiu o alvo, pode ser uma boa oportunidade de venda!\")\n",
    "else:\n",
    "    print(\"O preço está acima do alvo, avalie antes de comprar.\")\n",
    "\n",
    "# Verificando o interesse do cliente\n",
    "if interesse_cliente == 'PETR4':\n",
    "    print(\"O cliente quer comprar PETR4.\")\n",
    "else:\n",
    "    print(f\"O cliente está interessado em comprar ações de {interesse_cliente}.\")"
   ]
  },
  {
   "cell_type": "markdown",
   "id": "b559ac06",
   "metadata": {},
   "source": [
    "### Exercício 10: Loops\n",
    "\n",
    "Considere o dicionário abaixo, que representa o preço atual de algumas ações.\n",
    "\n",
    "Crie um programa que faça o seguinte:\n",
    "\n",
    "- Imprima, um por um, o nome de cada ação e seu preço, no formato:\n",
    "    \n",
    "    \"A ação *nome* está com o preço de R$ *preço*\"\n",
    "\n",
    "- Calcule o valor total das ações no dicionário. Exiba esse valor no final, no formato:\n",
    "    \n",
    "    \"O valor total das ações é R$ *total*\""
   ]
  },
  {
   "cell_type": "code",
   "execution_count": 2,
   "id": "b1a94108",
   "metadata": {},
   "outputs": [],
   "source": [
    "# Solução ao final do próximo item\n",
    "\n",
    "# Dicionário fornecido\n",
    "precos = {'PETR4': 30.45, 'VALE3': 89.70, 'WEGE3': 37.85, 'MGLU3': 2.67, 'ITUB4': 24.90}\n",
    "\n",
    "# Código aqui"
   ]
  },
  {
   "cell_type": "markdown",
   "id": "cdcb22d2",
   "metadata": {},
   "source": [
    "## 11. Outros Operadores"
   ]
  },
  {
   "cell_type": "markdown",
   "id": "5e042753",
   "metadata": {},
   "source": [
    "### 11.1. Range"
   ]
  },
  {
   "cell_type": "markdown",
   "id": "5ee4f706",
   "metadata": {},
   "source": [
    "Indica um intervalo entre dois números. Segue o padrão da indexação (primeiro argumento inclusivo e segundo argumento não inclusivo)"
   ]
  },
  {
   "cell_type": "code",
   "execution_count": null,
   "id": "9c30b908",
   "metadata": {},
   "outputs": [
    {
     "data": {
      "text/plain": [
       "range(0, 3)"
      ]
     },
     "metadata": {},
     "output_type": "display_data"
    }
   ],
   "source": [
    "range(0,3)"
   ]
  },
  {
   "cell_type": "markdown",
   "id": "3ba43618",
   "metadata": {},
   "source": [
    "Para tornar este elemento uma lista, precisamos utilizar a função list()"
   ]
  },
  {
   "cell_type": "code",
   "execution_count": null,
   "id": "1287d573",
   "metadata": {},
   "outputs": [
    {
     "data": {
      "text/plain": [
       "range(0, 15)"
      ]
     },
     "metadata": {},
     "output_type": "display_data"
    }
   ],
   "source": [
    "range(0,15)"
   ]
  },
  {
   "cell_type": "code",
   "execution_count": null,
   "id": "9c711e61",
   "metadata": {},
   "outputs": [
    {
     "data": {
      "text/plain": [
       "range"
      ]
     },
     "metadata": {},
     "output_type": "display_data"
    }
   ],
   "source": [
    "type(range(0,15))"
   ]
  },
  {
   "cell_type": "code",
   "execution_count": null,
   "id": "66a531a6",
   "metadata": {},
   "outputs": [
    {
     "data": {
      "text/plain": [
       "[0, 1, 2, 3, 4, 5, 6, 7, 8, 9, 10, 11, 12, 13, 14]"
      ]
     },
     "metadata": {},
     "output_type": "display_data"
    }
   ],
   "source": [
    "list(range(0,15))"
   ]
  },
  {
   "cell_type": "code",
   "execution_count": null,
   "id": "c6880a2e",
   "metadata": {},
   "outputs": [
    {
     "name": "stdout",
     "output_type": "stream",
     "text": [
      "0\n",
      "1\n",
      "2\n",
      "3\n",
      "4\n",
      "5\n",
      "6\n",
      "7\n",
      "8\n",
      "9\n",
      "10\n",
      "11\n",
      "12\n",
      "13\n",
      "14\n"
     ]
    }
   ],
   "source": [
    "for x in range(0,15):\n",
    "  print(x)"
   ]
  },
  {
   "cell_type": "code",
   "execution_count": null,
   "id": "1baf1765",
   "metadata": {},
   "outputs": [],
   "source": [
    "papeis = [ 'BRKM5', 'BRFS3', 'BPAC11', 'ITUB4', 'LWSA3', 'MGLU3' ]"
   ]
  },
  {
   "cell_type": "code",
   "execution_count": null,
   "id": "b18c89b5",
   "metadata": {},
   "outputs": [
    {
     "data": {
      "application/vnd.google.colaboratory.intrinsic+json": {
       "type": "string"
      },
      "text/plain": [
       "'BRKM5'"
      ]
     },
     "metadata": {},
     "output_type": "display_data"
    }
   ],
   "source": [
    "papeis[0]"
   ]
  },
  {
   "cell_type": "code",
   "execution_count": null,
   "id": "03b128ac",
   "metadata": {},
   "outputs": [
    {
     "data": {
      "application/vnd.google.colaboratory.intrinsic+json": {
       "type": "string"
      },
      "text/plain": [
       "'BRFS3'"
      ]
     },
     "metadata": {},
     "output_type": "display_data"
    }
   ],
   "source": [
    "papeis[1]"
   ]
  },
  {
   "cell_type": "code",
   "execution_count": null,
   "id": "a891fb14",
   "metadata": {},
   "outputs": [
    {
     "data": {
      "text/plain": [
       "6"
      ]
     },
     "metadata": {},
     "output_type": "display_data"
    }
   ],
   "source": [
    "len(papeis)"
   ]
  },
  {
   "cell_type": "code",
   "execution_count": null,
   "id": "2416338c",
   "metadata": {},
   "outputs": [
    {
     "data": {
      "text/plain": [
       "[0, 1, 2, 3, 4, 5]"
      ]
     },
     "metadata": {},
     "output_type": "display_data"
    }
   ],
   "source": [
    "list(range(0, len(papeis)))"
   ]
  },
  {
   "cell_type": "code",
   "execution_count": null,
   "id": "a67764a3",
   "metadata": {},
   "outputs": [
    {
     "name": "stdout",
     "output_type": "stream",
     "text": [
      "BRKM5\n",
      "BRFS3\n",
      "BPAC11\n",
      "ITUB4\n",
      "LWSA3\n",
      "MGLU3\n"
     ]
    }
   ],
   "source": [
    "for p in range(0, len(papeis)):\n",
    "  print(papeis[p])"
   ]
  },
  {
   "cell_type": "code",
   "execution_count": null,
   "id": "24b242d3",
   "metadata": {},
   "outputs": [
    {
     "data": {
      "text/plain": [
       "range(0, 20, 2)"
      ]
     },
     "metadata": {},
     "output_type": "display_data"
    }
   ],
   "source": [
    "range(0,20,2)"
   ]
  },
  {
   "cell_type": "code",
   "execution_count": null,
   "id": "076327ff",
   "metadata": {},
   "outputs": [
    {
     "data": {
      "text/plain": [
       "[0, 2, 4, 6, 8, 10, 12, 14, 16, 18]"
      ]
     },
     "metadata": {},
     "output_type": "display_data"
    }
   ],
   "source": [
    "list(range(0,20,2))"
   ]
  },
  {
   "cell_type": "code",
   "execution_count": null,
   "id": "a912f0aa",
   "metadata": {},
   "outputs": [
    {
     "data": {
      "text/plain": [
       "[0, 3, 6, 9, 12, 15, 18]"
      ]
     },
     "metadata": {},
     "output_type": "display_data"
    }
   ],
   "source": [
    "list(range(0,20,3))"
   ]
  },
  {
   "cell_type": "markdown",
   "id": "90adbddf",
   "metadata": {},
   "source": [
    "### 11.2. Enumerate"
   ]
  },
  {
   "cell_type": "markdown",
   "id": "c753a04b",
   "metadata": {},
   "source": [
    "Função que transforma uma coleção de dados (lista, tupla, string) em um objeto enumerado de cada item da coleção"
   ]
  },
  {
   "cell_type": "code",
   "execution_count": null,
   "id": "49360a1e",
   "metadata": {},
   "outputs": [
    {
     "data": {
      "text/plain": [
       "<enumerate at 0x7f788864e600>"
      ]
     },
     "metadata": {},
     "output_type": "display_data"
    }
   ],
   "source": [
    "enumerate(papeis)"
   ]
  },
  {
   "cell_type": "code",
   "execution_count": null,
   "id": "7e5491ff",
   "metadata": {},
   "outputs": [
    {
     "data": {
      "text/plain": [
       "enumerate"
      ]
     },
     "metadata": {},
     "output_type": "display_data"
    }
   ],
   "source": [
    "type(enumerate(papeis))"
   ]
  },
  {
   "cell_type": "code",
   "execution_count": null,
   "id": "7a67a342",
   "metadata": {},
   "outputs": [
    {
     "data": {
      "text/plain": [
       "[(0, 'BRKM5'),\n",
       " (1, 'BRFS3'),\n",
       " (2, 'BPAC11'),\n",
       " (3, 'ITUB4'),\n",
       " (4, 'LWSA3'),\n",
       " (5, 'MGLU3')]"
      ]
     },
     "metadata": {},
     "output_type": "display_data"
    }
   ],
   "source": [
    "list(enumerate(papeis))"
   ]
  },
  {
   "cell_type": "code",
   "execution_count": null,
   "id": "14c974b4",
   "metadata": {},
   "outputs": [],
   "source": [
    "lista_enumerada = list(enumerate(papeis))"
   ]
  },
  {
   "cell_type": "code",
   "execution_count": null,
   "id": "de765364",
   "metadata": {},
   "outputs": [
    {
     "data": {
      "text/plain": [
       "(0, 'BRKM5')"
      ]
     },
     "metadata": {},
     "output_type": "display_data"
    }
   ],
   "source": [
    "lista_enumerada[0]"
   ]
  },
  {
   "cell_type": "code",
   "execution_count": null,
   "id": "ad883002",
   "metadata": {},
   "outputs": [
    {
     "data": {
      "text/plain": [
       "(1, 'BRFS3')"
      ]
     },
     "metadata": {},
     "output_type": "display_data"
    }
   ],
   "source": [
    "lista_enumerada[1]"
   ]
  },
  {
   "cell_type": "code",
   "execution_count": null,
   "id": "fb2f9320",
   "metadata": {},
   "outputs": [
    {
     "data": {
      "text/plain": [
       "tuple"
      ]
     },
     "metadata": {},
     "output_type": "display_data"
    }
   ],
   "source": [
    "type(lista_enumerada[1])"
   ]
  },
  {
   "cell_type": "code",
   "execution_count": null,
   "id": "8f8fc0b4",
   "metadata": {},
   "outputs": [
    {
     "data": {
      "application/vnd.google.colaboratory.intrinsic+json": {
       "type": "string"
      },
      "text/plain": [
       "'BRFS3'"
      ]
     },
     "metadata": {},
     "output_type": "display_data"
    }
   ],
   "source": [
    "lista_enumerada[1][1]"
   ]
  },
  {
   "cell_type": "markdown",
   "id": "3f06df4f",
   "metadata": {},
   "source": [
    "Podemos começar a enumeração a partir de outro número que não o 0"
   ]
  },
  {
   "cell_type": "code",
   "execution_count": null,
   "id": "5cd32aef",
   "metadata": {},
   "outputs": [],
   "source": [
    "lista_enumerada_dif = list(enumerate(papeis, 3))"
   ]
  },
  {
   "cell_type": "code",
   "execution_count": null,
   "id": "1b3fc8ee",
   "metadata": {},
   "outputs": [
    {
     "data": {
      "text/plain": [
       "[(3, 'BRKM5'),\n",
       " (4, 'BRFS3'),\n",
       " (5, 'BPAC11'),\n",
       " (6, 'ITUB4'),\n",
       " (7, 'LWSA3'),\n",
       " (8, 'MGLU3')]"
      ]
     },
     "metadata": {},
     "output_type": "display_data"
    }
   ],
   "source": [
    "lista_enumerada_dif"
   ]
  },
  {
   "cell_type": "markdown",
   "id": "38f2b1c1",
   "metadata": {},
   "source": [
    "Exemplo de enumerate sendo utilizado com strings"
   ]
  },
  {
   "cell_type": "code",
   "execution_count": null,
   "id": "b3dbbe45",
   "metadata": {},
   "outputs": [],
   "source": [
    "acao = \"BBDC3\""
   ]
  },
  {
   "cell_type": "code",
   "execution_count": null,
   "id": "4e39d9c9",
   "metadata": {},
   "outputs": [
    {
     "data": {
      "text/plain": [
       "<enumerate at 0x7f787ef8b080>"
      ]
     },
     "metadata": {},
     "output_type": "display_data"
    }
   ],
   "source": [
    "enumerate(acao)"
   ]
  },
  {
   "cell_type": "code",
   "execution_count": null,
   "id": "5de96d81",
   "metadata": {},
   "outputs": [
    {
     "data": {
      "text/plain": [
       "[(0, 'B'), (1, 'B'), (2, 'D'), (3, 'C'), (4, '3')]"
      ]
     },
     "metadata": {},
     "output_type": "display_data"
    }
   ],
   "source": [
    "list(enumerate(acao))"
   ]
  },
  {
   "cell_type": "code",
   "execution_count": null,
   "id": "10de3960",
   "metadata": {},
   "outputs": [],
   "source": [
    "lista_caracteres = list(enumerate(acao))"
   ]
  },
  {
   "cell_type": "code",
   "execution_count": null,
   "id": "c177804b",
   "metadata": {},
   "outputs": [
    {
     "data": {
      "text/plain": [
       "(0, 'B')"
      ]
     },
     "metadata": {},
     "output_type": "display_data"
    }
   ],
   "source": [
    "lista_caracteres[0]"
   ]
  },
  {
   "cell_type": "code",
   "execution_count": null,
   "id": "46dd961f",
   "metadata": {},
   "outputs": [
    {
     "data": {
      "application/vnd.google.colaboratory.intrinsic+json": {
       "type": "string"
      },
      "text/plain": [
       "'B'"
      ]
     },
     "metadata": {},
     "output_type": "display_data"
    }
   ],
   "source": [
    "lista_caracteres[0][1]"
   ]
  },
  {
   "cell_type": "markdown",
   "id": "d81677f0",
   "metadata": {},
   "source": [
    "Aplicações do enumerate"
   ]
  },
  {
   "cell_type": "code",
   "execution_count": null,
   "id": "d3a1ffc6",
   "metadata": {},
   "outputs": [
    {
     "data": {
      "application/vnd.google.colaboratory.intrinsic+json": {
       "type": "string"
      },
      "text/plain": [
       "'No índice XX o caractere é YY'"
      ]
     },
     "metadata": {},
     "output_type": "display_data"
    }
   ],
   "source": [
    "\"No índice XX o caractere é YY\""
   ]
  },
  {
   "cell_type": "code",
   "execution_count": null,
   "id": "c5d494bc",
   "metadata": {},
   "outputs": [
    {
     "name": "stdout",
     "output_type": "stream",
     "text": [
      "No índice 0 o caractere é B\n"
     ]
    }
   ],
   "source": [
    "print(\"No índice\", lista_caracteres[0][0], \"o caractere é\", lista_caracteres[0][1])"
   ]
  },
  {
   "cell_type": "code",
   "execution_count": null,
   "id": "3e6f136c",
   "metadata": {},
   "outputs": [
    {
     "name": "stdout",
     "output_type": "stream",
     "text": [
      "No índice 1 o caractere é B\n"
     ]
    }
   ],
   "source": [
    "print(\"No índice\", lista_caracteres[1][0], \"o caractere é\", lista_caracteres[1][1])"
   ]
  },
  {
   "cell_type": "code",
   "execution_count": null,
   "id": "e11b4207",
   "metadata": {},
   "outputs": [
    {
     "name": "stdout",
     "output_type": "stream",
     "text": [
      "No índice 2 o caractere é D\n"
     ]
    }
   ],
   "source": [
    "print(\"No índice\", lista_caracteres[2][0], \"o caractere é\", lista_caracteres[2][1])"
   ]
  },
  {
   "cell_type": "code",
   "execution_count": null,
   "id": "4b2f8c24",
   "metadata": {},
   "outputs": [
    {
     "name": "stdout",
     "output_type": "stream",
     "text": [
      "No índice 3 o caractere é C\n"
     ]
    }
   ],
   "source": [
    "print(\"No índice\", lista_caracteres[3][0], \"o caractere é\", lista_caracteres[3][1])"
   ]
  },
  {
   "cell_type": "code",
   "execution_count": null,
   "id": "cde37d01",
   "metadata": {},
   "outputs": [
    {
     "name": "stdout",
     "output_type": "stream",
     "text": [
      "No índice 4 o caractere é 3\n"
     ]
    }
   ],
   "source": [
    "print(\"No índice\", lista_caracteres[4][0], \"o caractere é\", lista_caracteres[4][1])"
   ]
  },
  {
   "cell_type": "code",
   "execution_count": null,
   "id": "71f7d6e0",
   "metadata": {},
   "outputs": [
    {
     "data": {
      "text/plain": [
       "5"
      ]
     },
     "metadata": {},
     "output_type": "display_data"
    }
   ],
   "source": [
    "len(lista_caracteres)"
   ]
  },
  {
   "cell_type": "code",
   "execution_count": null,
   "id": "68ed927a",
   "metadata": {},
   "outputs": [
    {
     "data": {
      "text/plain": [
       "range(0, 5)"
      ]
     },
     "metadata": {},
     "output_type": "display_data"
    }
   ],
   "source": [
    "range(0, len(lista_caracteres))"
   ]
  },
  {
   "cell_type": "code",
   "execution_count": null,
   "id": "4b0ab3ea",
   "metadata": {},
   "outputs": [
    {
     "data": {
      "text/plain": [
       "[0, 1, 2, 3, 4]"
      ]
     },
     "metadata": {},
     "output_type": "display_data"
    }
   ],
   "source": [
    "list(range(0, len(lista_caracteres)))"
   ]
  },
  {
   "cell_type": "code",
   "execution_count": null,
   "id": "41a2de8d",
   "metadata": {},
   "outputs": [
    {
     "name": "stdout",
     "output_type": "stream",
     "text": [
      "No índice 0 o caractere é B\n",
      "No índice 1 o caractere é B\n",
      "No índice 2 o caractere é D\n",
      "No índice 3 o caractere é C\n",
      "No índice 4 o caractere é 3\n"
     ]
    }
   ],
   "source": [
    "for i in range(0, len(lista_caracteres)):\n",
    "  print(\"No índice\", lista_caracteres[i][0], \"o caractere é\", lista_caracteres[i][1])"
   ]
  },
  {
   "cell_type": "markdown",
   "id": "2e5c6deb",
   "metadata": {},
   "source": [
    "Existe uma maneira mais fácil de fazer tudo isso"
   ]
  },
  {
   "cell_type": "code",
   "execution_count": null,
   "id": "8758c5c1",
   "metadata": {},
   "outputs": [
    {
     "name": "stdout",
     "output_type": "stream",
     "text": [
      "No índice 0 o caractere é B\n",
      "No índice 1 o caractere é B\n",
      "No índice 2 o caractere é D\n",
      "No índice 3 o caractere é C\n",
      "No índice 4 o caractere é 3\n"
     ]
    }
   ],
   "source": [
    "for i, j in enumerate(acao):\n",
    "  print(\"No índice\", i, \"o caractere é\", j)"
   ]
  },
  {
   "cell_type": "markdown",
   "id": "6b826419",
   "metadata": {},
   "source": [
    "### 11.3. Zip & In"
   ]
  },
  {
   "cell_type": "markdown",
   "id": "d696f1f7",
   "metadata": {},
   "source": [
    "A função zip consegue executar interações entre listas. O operador in (dentro/pertencente em português) permite a leitura sequencial de objetos zip (assim como de listas), fundamental nas estruturas 'for'"
   ]
  },
  {
   "cell_type": "code",
   "execution_count": null,
   "id": "5ca4c411",
   "metadata": {},
   "outputs": [],
   "source": [
    "acoes = ['PETR4', 'WEGE3', 'MGLU3', 'JHSF3', 'GOAU4']\n",
    "setores = ['Petróleo', 'Motores', 'Varejo', 'Construção', 'Metalurgia']"
   ]
  },
  {
   "cell_type": "markdown",
   "id": "b07d33fb",
   "metadata": {},
   "source": [
    "Queremos criar uma relação entre essas duas listas"
   ]
  },
  {
   "cell_type": "code",
   "execution_count": null,
   "id": "1f223d2c",
   "metadata": {},
   "outputs": [
    {
     "data": {
      "text/plain": [
       "<zip at 0x7f788864b380>"
      ]
     },
     "metadata": {},
     "output_type": "display_data"
    }
   ],
   "source": [
    "zip(acoes, setores)"
   ]
  },
  {
   "cell_type": "code",
   "execution_count": null,
   "id": "b47bbd71",
   "metadata": {},
   "outputs": [
    {
     "data": {
      "text/plain": [
       "[('PETR4', 'Petróleo'),\n",
       " ('WEGE3', 'Motores'),\n",
       " ('MGLU3', 'Varejo'),\n",
       " ('JHSF3', 'Construção'),\n",
       " ('GOAU4', 'Metalurgia')]"
      ]
     },
     "metadata": {},
     "output_type": "display_data"
    }
   ],
   "source": [
    "list(zip(acoes, setores))"
   ]
  },
  {
   "cell_type": "code",
   "execution_count": null,
   "id": "8a0c4c4c",
   "metadata": {},
   "outputs": [],
   "source": [
    "empresa_setores = list(zip(acoes, setores))"
   ]
  },
  {
   "cell_type": "code",
   "execution_count": null,
   "id": "2d6d6250",
   "metadata": {},
   "outputs": [
    {
     "data": {
      "text/plain": [
       "('PETR4', 'Petróleo')"
      ]
     },
     "metadata": {},
     "output_type": "display_data"
    }
   ],
   "source": [
    "empresa_setores[0]"
   ]
  },
  {
   "cell_type": "markdown",
   "id": "a6ec9fab",
   "metadata": {},
   "source": [
    "Exercício\n",
    "\n",
    "Crie uma frase que liga o papel ao seu setor. A frase deve ter o seguinte formato:\n",
    "\n",
    "\"O papel XXXX pertence ao setor YYYY\""
   ]
  },
  {
   "cell_type": "code",
   "execution_count": null,
   "id": "6c4e9575",
   "metadata": {},
   "outputs": [
    {
     "name": "stdout",
     "output_type": "stream",
     "text": [
      "O papel PETR4 pertence ao setor Petróleo\n",
      "O papel WEGE3 pertence ao setor Motores\n",
      "O papel MGLU3 pertence ao setor Varejo\n",
      "O papel JHSF3 pertence ao setor Construção\n",
      "O papel GOAU4 pertence ao setor Metalurgia\n"
     ]
    }
   ],
   "source": [
    "for acao, setor in empresa_setores:\n",
    "  print('O papel', acao, 'pertence ao setor', setor)"
   ]
  },
  {
   "cell_type": "markdown",
   "id": "4a50b8f1",
   "metadata": {},
   "source": [
    "Existe uma forma ainda mais elegante de criar esse loop"
   ]
  },
  {
   "cell_type": "code",
   "execution_count": null,
   "id": "3f3158e3",
   "metadata": {},
   "outputs": [],
   "source": [
    "papel = 'WEGE3'\n",
    "setor = 'Motores'"
   ]
  },
  {
   "cell_type": "code",
   "execution_count": null,
   "id": "a9e9a024",
   "metadata": {},
   "outputs": [
    {
     "data": {
      "application/vnd.google.colaboratory.intrinsic+json": {
       "type": "string"
      },
      "text/plain": [
       "'O papel WEGE3 pertence ao setor Motores'"
      ]
     },
     "metadata": {},
     "output_type": "display_data"
    }
   ],
   "source": [
    "'O papel ' + papel + ' pertence ao setor ' + setor"
   ]
  },
  {
   "cell_type": "code",
   "execution_count": null,
   "id": "b4bfdbe0",
   "metadata": {},
   "outputs": [
    {
     "data": {
      "application/vnd.google.colaboratory.intrinsic+json": {
       "type": "string"
      },
      "text/plain": [
       "'O papel WEGE3 pertence ao setor Motores'"
      ]
     },
     "metadata": {},
     "output_type": "display_data"
    }
   ],
   "source": [
    "f'O papel {papel} pertence ao setor {setor}'"
   ]
  },
  {
   "cell_type": "markdown",
   "id": "53288bfc",
   "metadata": {},
   "source": [
    "Podemos refazer o loop acima utilizando o operador 'f'"
   ]
  },
  {
   "cell_type": "code",
   "execution_count": null,
   "id": "7d227419",
   "metadata": {},
   "outputs": [
    {
     "name": "stdout",
     "output_type": "stream",
     "text": [
      "O papel PETR4 pertence ao setor Petróleo\n",
      "O papel WEGE3 pertence ao setor Motores\n",
      "O papel MGLU3 pertence ao setor Varejo\n",
      "O papel JHSF3 pertence ao setor Construção\n",
      "O papel GOAU4 pertence ao setor Metalurgia\n"
     ]
    }
   ],
   "source": [
    "for acao, setor in empresa_setores:\n",
    "  print(f'O papel {acao} pertence ao setor {setor}')"
   ]
  },
  {
   "cell_type": "markdown",
   "id": "9d1b9de1",
   "metadata": {},
   "source": [
    "Além de leitura sequencial, o in pode ser usado como operador lógico"
   ]
  },
  {
   "cell_type": "code",
   "execution_count": null,
   "id": "a35b3ba0",
   "metadata": {},
   "outputs": [
    {
     "data": {
      "text/plain": [
       "['PETR4', 'WEGE3', 'MGLU3', 'JHSF3', 'GOAU4']"
      ]
     },
     "metadata": {},
     "output_type": "display_data"
    }
   ],
   "source": [
    "acoes"
   ]
  },
  {
   "cell_type": "code",
   "execution_count": null,
   "id": "31ad56cb",
   "metadata": {},
   "outputs": [
    {
     "data": {
      "text/plain": [
       "False"
      ]
     },
     "metadata": {},
     "output_type": "display_data"
    }
   ],
   "source": [
    "'VALE3' in acoes"
   ]
  },
  {
   "cell_type": "code",
   "execution_count": null,
   "id": "ef27d8bf",
   "metadata": {},
   "outputs": [
    {
     "data": {
      "text/plain": [
       "True"
      ]
     },
     "metadata": {},
     "output_type": "display_data"
    }
   ],
   "source": [
    "'PETR4' in acoes"
   ]
  },
  {
   "cell_type": "markdown",
   "id": "43a6d8ec",
   "metadata": {},
   "source": [
    "### 11.4. Random"
   ]
  },
  {
   "cell_type": "markdown",
   "id": "f7111c92",
   "metadata": {},
   "source": [
    "Este operador pode ser utilizado para obter números aleatórios de acordo com alguma condição pré-determinada"
   ]
  },
  {
   "cell_type": "code",
   "execution_count": null,
   "id": "4fbeb65f",
   "metadata": {},
   "outputs": [],
   "source": [
    "from random import randint, shuffle"
   ]
  },
  {
   "cell_type": "markdown",
   "id": "bbea3d34",
   "metadata": {},
   "source": [
    "A função randint() retorna um número aleatório dentro de um intervalo específico"
   ]
  },
  {
   "cell_type": "code",
   "execution_count": null,
   "id": "cdc3d7f5",
   "metadata": {},
   "outputs": [
    {
     "data": {
      "text/plain": [
       "8"
      ]
     },
     "metadata": {},
     "output_type": "display_data"
    }
   ],
   "source": [
    "randint(0,10)"
   ]
  },
  {
   "cell_type": "code",
   "execution_count": null,
   "id": "99b683fc",
   "metadata": {},
   "outputs": [
    {
     "data": {
      "text/plain": [
       "10"
      ]
     },
     "metadata": {},
     "output_type": "display_data"
    }
   ],
   "source": [
    "randint(0,10)"
   ]
  },
  {
   "cell_type": "code",
   "execution_count": null,
   "id": "1a0caf19",
   "metadata": {},
   "outputs": [
    {
     "data": {
      "text/plain": [
       "69"
      ]
     },
     "metadata": {},
     "output_type": "display_data"
    }
   ],
   "source": [
    "randint(0,100)"
   ]
  },
  {
   "cell_type": "code",
   "execution_count": null,
   "id": "5253fd3a",
   "metadata": {},
   "outputs": [
    {
     "data": {
      "text/plain": [
       "97"
      ]
     },
     "metadata": {},
     "output_type": "display_data"
    }
   ],
   "source": [
    "randint(0,100)"
   ]
  },
  {
   "cell_type": "markdown",
   "id": "5c980ef1",
   "metadata": {},
   "source": [
    "Exercício\n",
    "\n",
    "Crie um loop que vai gerar 10 números aleatórios e armazene estes números numa lista"
   ]
  },
  {
   "cell_type": "code",
   "execution_count": null,
   "id": "315a5b43",
   "metadata": {},
   "outputs": [],
   "source": [
    "lista_random = []"
   ]
  },
  {
   "cell_type": "code",
   "execution_count": null,
   "id": "0108de0d",
   "metadata": {},
   "outputs": [
    {
     "data": {
      "text/plain": [
       "[0, 1, 2, 3, 4, 5, 6, 7, 8, 9]"
      ]
     },
     "metadata": {},
     "output_type": "display_data"
    }
   ],
   "source": [
    "list(range(0,10))"
   ]
  },
  {
   "cell_type": "code",
   "execution_count": null,
   "id": "c6ac0150",
   "metadata": {},
   "outputs": [],
   "source": [
    "for x in range(0,10):\n",
    "  lista_random.append(randint(0,100))"
   ]
  },
  {
   "cell_type": "code",
   "execution_count": null,
   "id": "ca57acab",
   "metadata": {},
   "outputs": [
    {
     "data": {
      "text/plain": [
       "[50, 33, 8, 30, 56, 74, 41, 65, 80, 46]"
      ]
     },
     "metadata": {},
     "output_type": "display_data"
    }
   ],
   "source": [
    "lista_random"
   ]
  },
  {
   "cell_type": "markdown",
   "id": "1d97b827",
   "metadata": {},
   "source": [
    "Operador shuffle"
   ]
  },
  {
   "cell_type": "code",
   "execution_count": null,
   "id": "429da3e3",
   "metadata": {},
   "outputs": [],
   "source": [
    "shuffle(lista_random)"
   ]
  },
  {
   "cell_type": "code",
   "execution_count": null,
   "id": "0d24f802",
   "metadata": {},
   "outputs": [
    {
     "data": {
      "text/plain": [
       "[41, 30, 80, 46, 56, 33, 74, 65, 50, 8]"
      ]
     },
     "metadata": {},
     "output_type": "display_data"
    }
   ],
   "source": [
    "lista_random"
   ]
  },
  {
   "cell_type": "code",
   "execution_count": null,
   "id": "c5012bd9",
   "metadata": {},
   "outputs": [],
   "source": [
    "lista_ordenada = [0,1,2,3,4,5,6,7,8,9,10]"
   ]
  },
  {
   "cell_type": "code",
   "execution_count": null,
   "id": "1ece3dbc",
   "metadata": {},
   "outputs": [],
   "source": [
    "shuffle(lista_ordenada)"
   ]
  },
  {
   "cell_type": "code",
   "execution_count": null,
   "id": "3cd4335b",
   "metadata": {},
   "outputs": [
    {
     "data": {
      "text/plain": [
       "[5, 1, 10, 9, 4, 0, 8, 2, 7, 6, 3]"
      ]
     },
     "metadata": {},
     "output_type": "display_data"
    }
   ],
   "source": [
    "lista_ordenada"
   ]
  },
  {
   "cell_type": "markdown",
   "id": "f345a951",
   "metadata": {},
   "source": [
    "### 11.5. min e max"
   ]
  },
  {
   "cell_type": "code",
   "execution_count": null,
   "id": "9d193cb6",
   "metadata": {},
   "outputs": [
    {
     "data": {
      "text/plain": [
       "8"
      ]
     },
     "metadata": {},
     "output_type": "display_data"
    }
   ],
   "source": [
    "min(lista_random)"
   ]
  },
  {
   "cell_type": "code",
   "execution_count": null,
   "id": "1e6e78b5",
   "metadata": {},
   "outputs": [
    {
     "data": {
      "text/plain": [
       "80"
      ]
     },
     "metadata": {},
     "output_type": "display_data"
    }
   ],
   "source": [
    "max(lista_random)"
   ]
  },
  {
   "cell_type": "markdown",
   "id": "489bd613",
   "metadata": {},
   "source": [
    "### 11.6. Input"
   ]
  },
  {
   "cell_type": "markdown",
   "id": "5565d2d8",
   "metadata": {},
   "source": [
    "Função que permite que o usuário inpute algum valor de acordo com o que é pedido por um texto e armazene isso na memória de uma variável"
   ]
  },
  {
   "cell_type": "code",
   "execution_count": null,
   "id": "ab3e7acc",
   "metadata": {},
   "outputs": [
    {
     "name": "stdout",
     "output_type": "stream",
     "text": [
      "Insira aqui a ação que deseja comprar: PRIO3\n"
     ]
    }
   ],
   "source": [
    "acao = input('Insira aqui a ação que deseja comprar: ')"
   ]
  },
  {
   "cell_type": "code",
   "execution_count": null,
   "id": "0cfe4078",
   "metadata": {},
   "outputs": [
    {
     "data": {
      "application/vnd.google.colaboratory.intrinsic+json": {
       "type": "string"
      },
      "text/plain": [
       "'O cliente deseja comprar a ação PRIO3 '"
      ]
     },
     "metadata": {},
     "output_type": "display_data"
    }
   ],
   "source": [
    "f\"O cliente deseja comprar a ação {acao} \""
   ]
  },
  {
   "cell_type": "markdown",
   "id": "24774311",
   "metadata": {},
   "source": [
    "### Exercício 11: Outros Operadores\n",
    "\n",
    "\n",
    "Dada as listas abaixo.\n",
    "\n",
    "- Crie um dicionário que relacione cada ação da lista 'acoes' ao seu setor correspondente da lista 'setores'\n",
    "- A partir dessa relação, gere frases com o seguinte formato:\n",
    "\n",
    "    \"O ativo *simbolo_acao* pertence ao setor *nome_setor*\"\n",
    "\n",
    "- Exiba apenas as frases para os papéis cujos setores são \"Petróleo\" ou \"Varejo\""
   ]
  },
  {
   "cell_type": "code",
   "execution_count": null,
   "id": "944b8ca8",
   "metadata": {},
   "outputs": [],
   "source": [
    "# Solução ao final do próximo item\n",
    "\n",
    "acoes = ['PETR4', 'WEGE3', 'MGLU3', 'JHSF3', 'GOAU4']\n",
    "setores = ['Petróleo', 'Motores', 'Varejo', 'Construção', 'Metalurgia']\n",
    "\n",
    "# Código aqui"
   ]
  },
  {
   "cell_type": "markdown",
   "id": "afda67a5",
   "metadata": {},
   "source": [
    "### Resolução do Exercício 10\n",
    "\n",
    "Considere o dicionário abaixo, que representa o preço atual de algumas ações.\n",
    "\n",
    "Crie um programa que faça o seguinte:\n",
    "\n",
    "- Imprima, um por um, o nome de cada ação e seu preço, no formato:\n",
    "    \n",
    "    \"A ação *nome* está com o preço de R$ *preço*\"\n",
    "\n",
    "- Calcule o valor total das ações no dicionário. Exiba esse valor no final, no formato:\n",
    "    \n",
    "    \"O valor total das ações é R$ *total*\""
   ]
  },
  {
   "cell_type": "code",
   "execution_count": 5,
   "id": "b642b01f",
   "metadata": {},
   "outputs": [
    {
     "name": "stdout",
     "output_type": "stream",
     "text": [
      "A ação PETR4 está com o preço de R$ 30.45\n",
      "A ação VALE3 está com o preço de R$ 89.7\n",
      "A ação WEGE3 está com o preço de R$ 37.85\n",
      "A ação MGLU3 está com o preço de R$ 2.67\n",
      "A ação ITUB4 está com o preço de R$ 24.9\n",
      "O valor total das ações é R$ 185.57\n"
     ]
    }
   ],
   "source": [
    "# Dicionário fornecido\n",
    "precos = {'PETR4': 30.45, 'VALE3': 89.70, 'WEGE3': 37.85, 'MGLU3': 2.67, 'ITUB4': 24.90}\n",
    "\n",
    "# Variável para armazenar o total\n",
    "total = 0\n",
    "\n",
    "# Loop para imprimir as informações e calcular o total\n",
    "for i in range(len(precos)):\n",
    "    nome_acao = list(precos.keys())[i]\n",
    "    preco_acao = list(precos.values())[i]\n",
    "    print(f\"A ação {nome_acao} está com o preço de R$ {preco_acao}\")\n",
    "    total = total + preco_acao  # Soma os preços\n",
    "\n",
    "# Exibindo o valor total das ações\n",
    "print(f\"O valor total das ações é R$ {total}\")"
   ]
  },
  {
   "cell_type": "markdown",
   "id": "5677fbd8",
   "metadata": {},
   "source": [
    "## 12. List Comprehension"
   ]
  },
  {
   "cell_type": "markdown",
   "id": "9334c7f5",
   "metadata": {},
   "source": [
    "Nesta seção trataremos das Compreensões de Lista (list comprehension)"
   ]
  },
  {
   "cell_type": "markdown",
   "id": "2980e9cc",
   "metadata": {},
   "source": [
    "Forma de criar listas a partir de outras listas, baseadas em loops com uma estrutura de código mais resumida do que os \"for\" tradicionais"
   ]
  },
  {
   "cell_type": "markdown",
   "id": "165a1ff3",
   "metadata": {},
   "source": [
    "Exercício"
   ]
  },
  {
   "cell_type": "code",
   "execution_count": null,
   "id": "64f5607d",
   "metadata": {},
   "outputs": [],
   "source": [
    "acao = 'MGLU3'"
   ]
  },
  {
   "cell_type": "markdown",
   "id": "34a201d1",
   "metadata": {},
   "source": [
    "Imagine que precisamos realizar a tarefa de transformar cada caractere na string acima em um item separado dentro de uma nova lista."
   ]
  },
  {
   "cell_type": "markdown",
   "id": "abd382ab",
   "metadata": {},
   "source": [
    "Como feríamos isso com nosso conhecimento em Python até agora?"
   ]
  },
  {
   "cell_type": "code",
   "execution_count": null,
   "id": "24c0ceaa",
   "metadata": {},
   "outputs": [],
   "source": [
    "lista_caracteres = []"
   ]
  },
  {
   "cell_type": "code",
   "execution_count": null,
   "id": "9c62c9d2",
   "metadata": {},
   "outputs": [],
   "source": [
    "for item in acao:\n",
    "  lista_caracteres.append(item)"
   ]
  },
  {
   "cell_type": "code",
   "execution_count": null,
   "id": "9ffe3a77",
   "metadata": {},
   "outputs": [
    {
     "data": {
      "text/plain": [
       "['M', 'G', 'L', 'U', '3']"
      ]
     },
     "metadata": {},
     "output_type": "display_data"
    }
   ],
   "source": [
    "lista_caracteres"
   ]
  },
  {
   "cell_type": "code",
   "execution_count": null,
   "id": "2c3bee4e",
   "metadata": {},
   "outputs": [
    {
     "data": {
      "application/vnd.google.colaboratory.intrinsic+json": {
       "type": "string"
      },
      "text/plain": [
       "'M'"
      ]
     },
     "metadata": {},
     "output_type": "display_data"
    }
   ],
   "source": [
    "lista_caracteres[0]"
   ]
  },
  {
   "cell_type": "code",
   "execution_count": null,
   "id": "f4b71459",
   "metadata": {},
   "outputs": [
    {
     "data": {
      "application/vnd.google.colaboratory.intrinsic+json": {
       "type": "string"
      },
      "text/plain": [
       "'G'"
      ]
     },
     "metadata": {},
     "output_type": "display_data"
    }
   ],
   "source": [
    "lista_caracteres[1]"
   ]
  },
  {
   "cell_type": "markdown",
   "id": "7b42a355",
   "metadata": {},
   "source": [
    "E como fazer isso utilizando a compreensão de lista?"
   ]
  },
  {
   "cell_type": "code",
   "execution_count": null,
   "id": "0663226d",
   "metadata": {},
   "outputs": [
    {
     "data": {
      "text/plain": [
       "['M', 'G', 'L', 'U', '3']"
      ]
     },
     "metadata": {},
     "output_type": "display_data"
    }
   ],
   "source": [
    "[item for item in acao]"
   ]
  },
  {
   "cell_type": "markdown",
   "id": "1cdd94b3",
   "metadata": {},
   "source": [
    "O output da compreensão de lista é uma nova lista"
   ]
  },
  {
   "cell_type": "markdown",
   "id": "58e2d5c2",
   "metadata": {},
   "source": [
    "Exercício"
   ]
  },
  {
   "cell_type": "markdown",
   "id": "47e5abe2",
   "metadata": {},
   "source": [
    "Imagine que você recebeu uma série de tickers que vieram incompletos. Antes de realizar sua rotina, precisa adicionar um número '3' aos nomes dos papéis. Como você faria?"
   ]
  },
  {
   "cell_type": "code",
   "execution_count": null,
   "id": "bb2c3678",
   "metadata": {},
   "outputs": [],
   "source": [
    "ativos = ['MGLU', 'VALE', 'WEGE', 'LREN']"
   ]
  },
  {
   "cell_type": "code",
   "execution_count": null,
   "id": "97db1495",
   "metadata": {},
   "outputs": [],
   "source": [
    "novo_ativos = []"
   ]
  },
  {
   "cell_type": "code",
   "execution_count": null,
   "id": "394d9422",
   "metadata": {},
   "outputs": [],
   "source": [
    "for ativo in ativos:\n",
    "  novo_ativos.append(ativo + '3')"
   ]
  },
  {
   "cell_type": "code",
   "execution_count": null,
   "id": "51f8ca7f",
   "metadata": {},
   "outputs": [
    {
     "data": {
      "text/plain": [
       "['MGLU3', 'VALE3', 'WEGE3', 'LREN3']"
      ]
     },
     "metadata": {},
     "output_type": "display_data"
    }
   ],
   "source": [
    "novo_ativos"
   ]
  },
  {
   "cell_type": "markdown",
   "id": "d1ac6d11",
   "metadata": {},
   "source": [
    "Podemos realizar essa tarefa com uma compreensão de lista de uma forma mais rápida."
   ]
  },
  {
   "cell_type": "code",
   "execution_count": null,
   "id": "155261c1",
   "metadata": {},
   "outputs": [
    {
     "data": {
      "text/plain": [
       "['MGLU3', 'VALE3', 'WEGE3', 'LREN3']"
      ]
     },
     "metadata": {},
     "output_type": "display_data"
    }
   ],
   "source": [
    "[ativo + '3' for ativo in ativos]"
   ]
  },
  {
   "cell_type": "markdown",
   "id": "cf6c2b94",
   "metadata": {},
   "source": [
    "Exercício"
   ]
  },
  {
   "cell_type": "markdown",
   "id": "facb1c3b",
   "metadata": {},
   "source": [
    "Imagine que quiséssemos elevar todos os números de 0 a 10 ao quadrado.\n",
    "\n",
    "Da forma tradicional, faríamos:"
   ]
  },
  {
   "cell_type": "code",
   "execution_count": null,
   "id": "6d093ab2",
   "metadata": {},
   "outputs": [
    {
     "data": {
      "text/plain": [
       "[0, 1, 2, 3, 4, 5, 6, 7, 8, 9, 10]"
      ]
     },
     "metadata": {},
     "output_type": "display_data"
    }
   ],
   "source": [
    "list(range(0,11))"
   ]
  },
  {
   "cell_type": "code",
   "execution_count": null,
   "id": "f1dc5394",
   "metadata": {},
   "outputs": [],
   "source": [
    "lista_numeros = []"
   ]
  },
  {
   "cell_type": "code",
   "execution_count": null,
   "id": "c07a3a72",
   "metadata": {},
   "outputs": [],
   "source": [
    "for elemento in range(0,11):\n",
    "  lista_numeros.append(elemento**2)"
   ]
  },
  {
   "cell_type": "code",
   "execution_count": null,
   "id": "76048953",
   "metadata": {},
   "outputs": [
    {
     "data": {
      "text/plain": [
       "[0, 1, 4, 9, 16, 25, 36, 49, 64, 81, 100]"
      ]
     },
     "metadata": {},
     "output_type": "display_data"
    }
   ],
   "source": [
    "lista_numeros"
   ]
  },
  {
   "cell_type": "code",
   "execution_count": null,
   "id": "2af54bd4",
   "metadata": {},
   "outputs": [
    {
     "data": {
      "text/plain": [
       "[0, 1, 4, 9, 16, 25, 36, 49, 64, 81, 100]"
      ]
     },
     "metadata": {},
     "output_type": "display_data"
    }
   ],
   "source": [
    "[elemento**2 for elemento in range(0,11)]"
   ]
  },
  {
   "cell_type": "markdown",
   "id": "517513f3",
   "metadata": {},
   "source": [
    "Exercício\n",
    "\n",
    "Adicione um .SA ao fim de cada papel"
   ]
  },
  {
   "cell_type": "code",
   "execution_count": null,
   "id": "10b1aaca",
   "metadata": {},
   "outputs": [],
   "source": [
    "acoes = \"ITUB4 MGLU3 MLAS3 PRIO3 PETR4 VALE3 WEGE3 POSI3\""
   ]
  },
  {
   "cell_type": "code",
   "execution_count": null,
   "id": "6428a852",
   "metadata": {},
   "outputs": [
    {
     "data": {
      "application/vnd.google.colaboratory.intrinsic+json": {
       "type": "string"
      },
      "text/plain": [
       "'ITUB4 MGLU3 MLAS3 PRIO3 PETR4 VALE3 WEGE3 POSI3'"
      ]
     },
     "metadata": {},
     "output_type": "display_data"
    }
   ],
   "source": [
    "acoes"
   ]
  },
  {
   "cell_type": "code",
   "execution_count": null,
   "id": "acfc3e0c",
   "metadata": {},
   "outputs": [],
   "source": [
    "acoes_modificadas = acoes.split(' ')"
   ]
  },
  {
   "cell_type": "code",
   "execution_count": null,
   "id": "ce1620c4",
   "metadata": {},
   "outputs": [
    {
     "data": {
      "text/plain": [
       "['ITUB4', 'MGLU3', 'MLAS3', 'PRIO3', 'PETR4', 'VALE3', 'WEGE3', 'POSI3']"
      ]
     },
     "metadata": {},
     "output_type": "display_data"
    }
   ],
   "source": [
    "acoes_modificadas"
   ]
  },
  {
   "cell_type": "code",
   "execution_count": null,
   "id": "d18e83ed",
   "metadata": {},
   "outputs": [
    {
     "data": {
      "text/plain": [
       "['ITUB4.SA',\n",
       " 'MGLU3.SA',\n",
       " 'MLAS3.SA',\n",
       " 'PRIO3.SA',\n",
       " 'PETR4.SA',\n",
       " 'VALE3.SA',\n",
       " 'WEGE3.SA',\n",
       " 'POSI3.SA']"
      ]
     },
     "metadata": {},
     "output_type": "display_data"
    }
   ],
   "source": [
    "[ papel + '.SA' for papel in acoes_modificadas ]"
   ]
  },
  {
   "cell_type": "code",
   "execution_count": null,
   "id": "28119206",
   "metadata": {},
   "outputs": [
    {
     "data": {
      "text/plain": [
       "['ITUB4.SA',\n",
       " 'MGLU3.SA',\n",
       " 'MLAS3.SA',\n",
       " 'PRIO3.SA',\n",
       " 'PETR4.SA',\n",
       " 'VALE3.SA',\n",
       " 'WEGE3.SA',\n",
       " 'POSI3.SA']"
      ]
     },
     "metadata": {},
     "output_type": "display_data"
    }
   ],
   "source": [
    "[ f'{papel}.SA' for papel in acoes_modificadas ]"
   ]
  },
  {
   "cell_type": "markdown",
   "id": "b39caa23",
   "metadata": {},
   "source": [
    "### Exercício 12: List Comprehension\n",
    "\n",
    "Dada a lista de ações e seus respectivos preços.\n",
    "\n",
    "- Crie uma lista chamada acoes_baratas que contenha as ações cujo preço seja inferior a R$ 40, no formato:\n",
    "\n",
    "    \"Ação: *simbolo_acao*, Preço: *preço*\"\n",
    "\n",
    "- Crie outra lista chamada desconto_precos que contenha os preços de todas as ações reduzidos em 10%."
   ]
  },
  {
   "cell_type": "code",
   "execution_count": 6,
   "id": "2f41d0e6",
   "metadata": {},
   "outputs": [],
   "source": [
    "# Solução ao final do próximo item\n",
    "\n",
    "acoes = ['PETR4', 'VALE3', 'WEGE3', 'MGLU3', 'ITUB4']\n",
    "precos = [30.45, 89.70, 37.85, 2.67, 24.90]\n",
    "\n",
    "\n",
    "# Código aqui"
   ]
  },
  {
   "cell_type": "markdown",
   "id": "cb22f7dc",
   "metadata": {},
   "source": [
    "### Resolução do Exercício 11\n",
    "\n",
    "Dada as listas abaixo.\n",
    "\n",
    "- Crie um dicionário que relacione cada ação da lista 'acoes' ao seu setor correspondente da lista 'setores'\n",
    "- A partir dessa relação, gere frases com o seguinte formato:\n",
    "\n",
    "    \"O ativo *simbolo_acao* pertence ao setor *nome_setor*\"\n",
    "\n",
    "- Exiba apenas as frases para os papéis cujos setores são \"Petróleo\" ou \"Varejo\""
   ]
  },
  {
   "cell_type": "code",
   "execution_count": 7,
   "id": "9b9b7173",
   "metadata": {},
   "outputs": [
    {
     "name": "stdout",
     "output_type": "stream",
     "text": [
      "O ativo PETR4 pertence ao setor Petróleo\n",
      "O ativo MGLU3 pertence ao setor Varejo\n"
     ]
    }
   ],
   "source": [
    "# Listas fornecidas\n",
    "acoes = ['PETR4', 'WEGE3', 'MGLU3', 'JHSF3', 'GOAU4']\n",
    "setores = ['Petróleo', 'Motores', 'Varejo', 'Construção', 'Metalurgia']\n",
    "\n",
    "# Passo 1: Criar um dicionário que relacione cada ação ao seu setor\n",
    "relacao_acoes_setores = dict(zip(acoes, setores))\n",
    "\n",
    "# Passo 2: Iterar sobre o dicionário para gerar frases para setores \"Petróleo\" e \"Varejo\"\n",
    "for acao, setor in relacao_acoes_setores.items():\n",
    "    if setor == \"Petróleo\" or setor == \"Varejo\":  # Verificar os setores desejados\n",
    "        print(f\"O ativo {acao} pertence ao setor {setor}\")"
   ]
  },
  {
   "cell_type": "markdown",
   "metadata": {},
   "source": [],
   "id": "10cf49a2b5e856f4"
  },
  {
   "cell_type": "markdown",
   "id": "ab80ce14",
   "metadata": {},
   "source": [
    "## 13. Funções e métodos"
   ]
  },
  {
   "cell_type": "markdown",
   "id": "838a432d",
   "metadata": {},
   "source": [
    "### 13.1. Funções"
   ]
  },
  {
   "cell_type": "markdown",
   "id": "cb96ad3d",
   "metadata": {},
   "source": [
    "Uma função é um comando capaz de realizar uma tarefa, de acordo com critérios que determinamos.\n",
    "\n",
    "A função só é executada de fato quando é chamada, e executa atividades que foram especificadas pelo usuário."
   ]
  },
  {
   "cell_type": "code",
   "execution_count": null,
   "id": "325a4f35",
   "metadata": {},
   "outputs": [
    {
     "name": "stdout",
     "output_type": "stream",
     "text": [
      "O papel mais negociado da bolsa é PETR4\n"
     ]
    }
   ],
   "source": [
    "print(\"O papel mais negociado da bolsa é PETR4\")"
   ]
  },
  {
   "cell_type": "markdown",
   "id": "949c1cde",
   "metadata": {},
   "source": [
    "Vamos criar uma função que recebe um papel da bolsa e retorna uma mensagem."
   ]
  },
  {
   "cell_type": "code",
   "execution_count": null,
   "id": "554ccfed",
   "metadata": {},
   "outputs": [],
   "source": [
    "def mensagem_investidor():\n",
    "  print(\"O papel mais negociado da bolsa é PETR4\")"
   ]
  },
  {
   "cell_type": "code",
   "execution_count": null,
   "id": "4dc4bc9b",
   "metadata": {},
   "outputs": [
    {
     "name": "stdout",
     "output_type": "stream",
     "text": [
      "O papel mais negociado da bolsa é PETR4\n"
     ]
    }
   ],
   "source": [
    "mensagem_investidor()"
   ]
  },
  {
   "cell_type": "code",
   "execution_count": null,
   "id": "e6ca6bfb",
   "metadata": {},
   "outputs": [],
   "source": [
    "def mensagem_investidor():\n",
    "  print(\"Hoje a bolsa abriu em alta de 1%\")"
   ]
  },
  {
   "cell_type": "code",
   "execution_count": null,
   "id": "fd9499e4",
   "metadata": {},
   "outputs": [
    {
     "name": "stdout",
     "output_type": "stream",
     "text": [
      "Hoje a bolsa abriu em alta de 1%\n"
     ]
    }
   ],
   "source": [
    "mensagem_investidor()"
   ]
  },
  {
   "cell_type": "markdown",
   "id": "4686d57c",
   "metadata": {},
   "source": [
    "A função recebe argumentos"
   ]
  },
  {
   "cell_type": "code",
   "execution_count": null,
   "id": "6587290b",
   "metadata": {},
   "outputs": [
    {
     "data": {
      "text/plain": [
       "str"
      ]
     },
     "metadata": {},
     "output_type": "display_data"
    }
   ],
   "source": [
    "type(\"PETR4\")"
   ]
  },
  {
   "cell_type": "code",
   "execution_count": null,
   "id": "537f348f",
   "metadata": {},
   "outputs": [],
   "source": [
    "def mensagem_investidor(acao):\n",
    "  print(\"O papel mais negociado da bolsa hoje é\", acao)"
   ]
  },
  {
   "cell_type": "markdown",
   "id": "67da32b4",
   "metadata": {},
   "source": [
    "O seguinte comando resultará em erro"
   ]
  },
  {
   "cell_type": "code",
   "execution_count": null,
   "id": "319997c7",
   "metadata": {},
   "outputs": [
    {
     "ename": "TypeError",
     "evalue": "ignored",
     "output_type": "error",
     "traceback": [
      "\u001B[0;31m---------------------------------------------------------------------------\u001B[0m\n",
      "\u001B[0;31mTypeError\u001B[0m                                 Traceback (most recent call last)\n",
      "\u001B[0;32m<ipython-input-11-7e842f2dcd41>\u001B[0m in \u001B[0;36m<module>\u001B[0;34m\u001B[0m\n",
      "\u001B[0;32m----> 1\u001B[0;31m \u001B[0mmensagem_investidor\u001B[0m\u001B[0;34m(\u001B[0m\u001B[0;34m)\u001B[0m\u001B[0;34m\u001B[0m\u001B[0;34m\u001B[0m\u001B[0m\n",
      "\u001B[0m\n",
      "\u001B[0;31mTypeError\u001B[0m: mensagem_investidor() missing 1 required positional argument: 'acao'"
     ]
    }
   ],
   "source": [
    "mensagem_investidor()"
   ]
  },
  {
   "cell_type": "code",
   "execution_count": null,
   "id": "1d66a6e8",
   "metadata": {},
   "outputs": [
    {
     "name": "stdout",
     "output_type": "stream",
     "text": [
      "O papel mais negociado da bolsa hoje é MGLU3\n"
     ]
    }
   ],
   "source": [
    "mensagem_investidor('MGLU3')"
   ]
  },
  {
   "cell_type": "code",
   "execution_count": null,
   "id": "d05319b3",
   "metadata": {},
   "outputs": [
    {
     "name": "stdout",
     "output_type": "stream",
     "text": [
      "O papel mais negociado da bolsa hoje é LREN3\n"
     ]
    }
   ],
   "source": [
    "mensagem_investidor('LREN3')"
   ]
  },
  {
   "cell_type": "markdown",
   "id": "1f308216",
   "metadata": {},
   "source": [
    "<center><img src = \"https://www.learnbyexample.org/wp-content/uploads/python/Python-Function-Syntax.png\" width = \"500\">"
   ]
  },
  {
   "cell_type": "markdown",
   "id": "406c3c4e",
   "metadata": {},
   "source": [
    "Exercício\n",
    "\n",
    "Vamos criar agora uma nova função que vai retornar a soma de dois números, sendo estes determinados pelo usuário."
   ]
  },
  {
   "cell_type": "code",
   "execution_count": null,
   "id": "3d19ff27",
   "metadata": {},
   "outputs": [],
   "source": [
    "def soma_numeros(numero1, numero2):\n",
    "  soma = numero1 + numero2\n",
    "  return soma"
   ]
  },
  {
   "cell_type": "code",
   "execution_count": null,
   "id": "d1637797",
   "metadata": {},
   "outputs": [
    {
     "data": {
      "text/plain": [
       "90"
      ]
     },
     "metadata": {},
     "output_type": "display_data"
    }
   ],
   "source": [
    "soma_numeros(9,81)"
   ]
  },
  {
   "cell_type": "code",
   "execution_count": null,
   "id": "44aab5ae",
   "metadata": {},
   "outputs": [
    {
     "data": {
      "text/plain": [
       "975302"
      ]
     },
     "metadata": {},
     "output_type": "display_data"
    }
   ],
   "source": [
    "soma_numeros(43254, 932048)"
   ]
  },
  {
   "cell_type": "markdown",
   "id": "b6109af1",
   "metadata": {},
   "source": [
    "Exercício\n",
    "\n",
    "Vamos criar agora uma nova função chamada \"preco\" que basicamente retorna a cotação de um papel, de acordo com o que for especificado pelo usuário."
   ]
  },
  {
   "cell_type": "code",
   "execution_count": null,
   "id": "e6755498",
   "metadata": {},
   "outputs": [],
   "source": [
    "def preco(acao):\n",
    "  if acao == 'PETR4':\n",
    "    print('PETR4 está R$ 24.50 neste momento')\n",
    "  elif acao == 'MGLU3':\n",
    "    print('MGLU3 está R$ 2.74 neste momento')\n",
    "  elif acao == 'WEGE3':\n",
    "    print('WEGE3 está R$ 38.51 neste momento')\n",
    "  elif acao == 'PRIO3':\n",
    "    print('PRIO3 está R$ 37.21 neste momento')\n",
    "  elif acao == 'VALE3':\n",
    "    print('VALE3 está R$ 88.88 neste momento')\n",
    "  else:\n",
    "    print('Não possuímos este papel na nossa base de dados')\n",
    "\n"
   ]
  },
  {
   "cell_type": "code",
   "execution_count": null,
   "id": "673e5447",
   "metadata": {},
   "outputs": [
    {
     "name": "stdout",
     "output_type": "stream",
     "text": [
      "PETR4 está R$ 24.50 neste momento\n"
     ]
    }
   ],
   "source": [
    "preco('PETR4')"
   ]
  },
  {
   "cell_type": "code",
   "execution_count": null,
   "id": "c1dd2799",
   "metadata": {},
   "outputs": [
    {
     "name": "stdout",
     "output_type": "stream",
     "text": [
      "VALE3 está R$ 88.88 neste momento\n"
     ]
    }
   ],
   "source": [
    "preco('VALE3')"
   ]
  },
  {
   "cell_type": "code",
   "execution_count": null,
   "id": "0006a40d",
   "metadata": {},
   "outputs": [
    {
     "name": "stdout",
     "output_type": "stream",
     "text": [
      "Não possuímos este papel na nossa base de dados\n"
     ]
    }
   ],
   "source": [
    "preco('SUZB3')"
   ]
  },
  {
   "cell_type": "markdown",
   "id": "ce81e4e6",
   "metadata": {},
   "source": [
    "**Docstring**\n",
    "\n",
    "\"Docstring\" é a documentação da função, ou seja, a mensagem que aparece quando o usuário consulta a ajuda da função."
   ]
  },
  {
   "cell_type": "code",
   "execution_count": null,
   "id": "cd0b207a",
   "metadata": {},
   "outputs": [],
   "source": [
    "def preco(acao):\n",
    "\n",
    "  ''' ESSA FUNÇÃO DEVE SER UTILIZADA PARA RETORNAR A COTAÇÃO EM TEMPO REAL DE UM PAPEL '''\n",
    "\n",
    "\n",
    "  if acao == 'PETR4':\n",
    "    print('PETR4 está R$ 24.50 neste momento')\n",
    "  elif acao == 'MGLU3':\n",
    "    print('MGLU3 está R$ 2.74 neste momento')\n",
    "  elif acao == 'WEGE3':\n",
    "    print('WEGE3 está R$ 38.51 neste momento')\n",
    "  elif acao == 'PRIO3':\n",
    "    print('PRIO3 está R$ 37.21 neste momento')\n",
    "  elif acao == 'VALE3':\n",
    "    print('VALE3 está R$ 88.88 neste momento')\n",
    "  else:\n",
    "    print('Não possuímos este papel na nossa base de dados')"
   ]
  },
  {
   "cell_type": "code",
   "execution_count": null,
   "id": "f861cf57",
   "metadata": {},
   "outputs": [
    {
     "name": "stdout",
     "output_type": "stream",
     "text": [
      "Não possuímos este papel na nossa base de dados\n"
     ]
    }
   ],
   "source": [
    "preco('ABEV3')"
   ]
  },
  {
   "cell_type": "markdown",
   "id": "09fc902c",
   "metadata": {},
   "source": [
    "### 13.2. Métodos"
   ]
  },
  {
   "cell_type": "markdown",
   "id": "ef971e37",
   "metadata": {},
   "source": [
    "Métodos são funções aplicáveis apenas a determinados tipos de objetos. Todos os métodos são funções, mas nem todas as funções são métodos. Os métodos são executados ao fim dos objetos e separados com um ponto."
   ]
  },
  {
   "cell_type": "markdown",
   "id": "2900582d",
   "metadata": {},
   "source": [
    "Exemplos com listas"
   ]
  },
  {
   "cell_type": "code",
   "execution_count": null,
   "id": "59b66ae0",
   "metadata": {},
   "outputs": [],
   "source": [
    "numeros = [1,2,3,4,5,7,9,11,15]"
   ]
  },
  {
   "cell_type": "markdown",
   "id": "9ec862f3",
   "metadata": {},
   "source": [
    "O operador 'append' é, na verdade, um método"
   ]
  },
  {
   "cell_type": "code",
   "execution_count": null,
   "id": "bb000c34",
   "metadata": {},
   "outputs": [],
   "source": [
    "numeros.append(18)"
   ]
  },
  {
   "cell_type": "code",
   "execution_count": null,
   "id": "afb2e299",
   "metadata": {},
   "outputs": [
    {
     "data": {
      "text/plain": [
       "[1, 2, 3, 4, 5, 7, 9, 11, 15, 18, 18, 18]"
      ]
     },
     "metadata": {},
     "output_type": "display_data"
    }
   ],
   "source": [
    "numeros"
   ]
  },
  {
   "cell_type": "markdown",
   "id": "cd4eca35",
   "metadata": {},
   "source": [
    "Alguns outros métodos para listas"
   ]
  },
  {
   "cell_type": "code",
   "execution_count": null,
   "id": "9093d6d6",
   "metadata": {},
   "outputs": [
    {
     "data": {
      "text/plain": [
       "18"
      ]
     },
     "metadata": {},
     "output_type": "display_data"
    }
   ],
   "source": [
    "numeros.pop()"
   ]
  },
  {
   "cell_type": "code",
   "execution_count": null,
   "id": "7373eaa3",
   "metadata": {},
   "outputs": [
    {
     "data": {
      "text/plain": [
       "[1, 2, 3, 4, 5, 7, 9, 11, 15, 18, 18]"
      ]
     },
     "metadata": {},
     "output_type": "display_data"
    }
   ],
   "source": [
    "numeros"
   ]
  },
  {
   "cell_type": "code",
   "execution_count": null,
   "id": "7f085cd7",
   "metadata": {},
   "outputs": [],
   "source": [
    "numeros.reverse()"
   ]
  },
  {
   "cell_type": "code",
   "execution_count": null,
   "id": "65f2ed57",
   "metadata": {},
   "outputs": [
    {
     "data": {
      "text/plain": [
       "[18, 18, 15, 11, 9, 7, 5, 4, 3, 2, 1]"
      ]
     },
     "metadata": {},
     "output_type": "display_data"
    }
   ],
   "source": [
    "numeros"
   ]
  },
  {
   "cell_type": "markdown",
   "id": "8d4953b6",
   "metadata": {},
   "source": [
    "Alguns métodos aplicáveis a strings"
   ]
  },
  {
   "cell_type": "code",
   "execution_count": null,
   "id": "fb1410fe",
   "metadata": {},
   "outputs": [],
   "source": [
    "texto_investidor = \"PETR4 está num preço interessante\""
   ]
  },
  {
   "cell_type": "code",
   "execution_count": null,
   "id": "fa325c9e",
   "metadata": {},
   "outputs": [
    {
     "data": {
      "text/plain": [
       "['PETR4', 'está', 'num', 'preço', 'interessante']"
      ]
     },
     "metadata": {},
     "output_type": "display_data"
    }
   ],
   "source": [
    "texto_investidor.split()"
   ]
  },
  {
   "cell_type": "code",
   "execution_count": null,
   "id": "507b88db",
   "metadata": {},
   "outputs": [],
   "source": [
    "palavras = texto_investidor.split()"
   ]
  },
  {
   "cell_type": "code",
   "execution_count": null,
   "id": "7b8b6883",
   "metadata": {},
   "outputs": [
    {
     "data": {
      "application/vnd.google.colaboratory.intrinsic+json": {
       "type": "string"
      },
      "text/plain": [
       "'PETR4'"
      ]
     },
     "metadata": {},
     "output_type": "display_data"
    }
   ],
   "source": [
    "palavras[0]"
   ]
  },
  {
   "cell_type": "code",
   "execution_count": null,
   "id": "93b8a2d9",
   "metadata": {},
   "outputs": [
    {
     "data": {
      "application/vnd.google.colaboratory.intrinsic+json": {
       "type": "string"
      },
      "text/plain": [
       "'num'"
      ]
     },
     "metadata": {},
     "output_type": "display_data"
    }
   ],
   "source": [
    "palavras[2]"
   ]
  },
  {
   "cell_type": "markdown",
   "id": "06fcc4be",
   "metadata": {},
   "source": [
    "Métodos para dicionários"
   ]
  },
  {
   "cell_type": "code",
   "execution_count": null,
   "id": "3ffb62b2",
   "metadata": {},
   "outputs": [],
   "source": [
    "dicionario_precos = {'PRIO3': 20, 'BBDC4': 16, 'BRKM5': 54}"
   ]
  },
  {
   "cell_type": "code",
   "execution_count": null,
   "id": "4108c42a",
   "metadata": {},
   "outputs": [
    {
     "data": {
      "text/plain": [
       "dict_keys(['PRIO3', 'BBDC4', 'BRKM5'])"
      ]
     },
     "metadata": {},
     "output_type": "display_data"
    }
   ],
   "source": [
    "dicionario_precos.keys()"
   ]
  },
  {
   "cell_type": "code",
   "execution_count": null,
   "id": "8d4c3b48",
   "metadata": {},
   "outputs": [
    {
     "data": {
      "text/plain": [
       "dict_values([20, 16, 54])"
      ]
     },
     "metadata": {},
     "output_type": "display_data"
    }
   ],
   "source": [
    "dicionario_precos.values()"
   ]
  },
  {
   "cell_type": "markdown",
   "id": "06d5e89c",
   "metadata": {},
   "source": [
    "### Exercício 13: Funções\n",
    "\n",
    "Você precisa desenvolver um sistema, com os dados abaixo, que:\n",
    "\n",
    "Crie um sistema que, fornecidos dados a ele:\n",
    "\n",
    "- Leia e registre os dados\n",
    "- Gerar e exibir um relatório que mostre:\n",
    "    - o menor preço registrado\n",
    "    - o maior preço registrado\n",
    "    - a média dos preços registrados. Caso a lista esteja vazia, exiba uma mensagem informando que não há dados para análise."
   ]
  },
  {
   "cell_type": "code",
   "execution_count": 10,
   "id": "241e18e8",
   "metadata": {},
   "outputs": [],
   "source": [
    "# Solução ao final do próximo item\n",
    "\n",
    "dados = {\n",
    "        'PETR4': 24.50,\n",
    "        'MGLU3': 2.74,\n",
    "        'WEGE3': 38.51,\n",
    "        'PRIO3': 37.21,\n",
    "        'VALE3': 88.88\n",
    "    }\n",
    "\n",
    "# Código aqui"
   ]
  },
  {
   "cell_type": "markdown",
   "id": "7044568b",
   "metadata": {},
   "source": [
    "### Resolução do Exercício 12\n",
    "\n",
    "Dada a lista de ações e seus respectivos preços.\n",
    "\n",
    "- Crie uma lista chamada acoes_baratas que contenha as ações cujo preço seja inferior a R$ 40, no formato:\n",
    "\n",
    "    \"Ação: *simbolo_acao*, Preço: *preço*\"\n",
    "\n",
    "- Crie outra lista chamada desconto_precos que contenha os preços de todas as ações reduzidos em 10%."
   ]
  },
  {
   "cell_type": "code",
   "execution_count": 9,
   "id": "2b50813d",
   "metadata": {},
   "outputs": [
    {
     "name": "stdout",
     "output_type": "stream",
     "text": [
      "Ações baratas:\n",
      "Ação: PETR4, Preço: 30.45\n",
      "Ação: WEGE3, Preço: 37.85\n",
      "Ação: MGLU3, Preço: 2.67\n",
      "Ação: ITUB4, Preço: 24.9\n",
      "Preços com desconto de 10%: [27.41, 80.73, 34.07, 2.4, 22.41]\n"
     ]
    }
   ],
   "source": [
    "# Dados fornecidos\n",
    "acoes = ['PETR4', 'VALE3', 'WEGE3', 'MGLU3', 'ITUB4']\n",
    "precos = [30.45, 89.70, 37.85, 2.67, 24.90]\n",
    "\n",
    "# 1. Lista de ações baratas\n",
    "acoes_baratas = [f\"Ação: {acoes[i]}, Preço: {precos[i]}\" for i in range(len(acoes)) if precos[i] < 40]\n",
    "\n",
    "# 2. Lista de preços com desconto de 10%\n",
    "desconto_precos = [round(preco * 0.90, 2) for preco in precos]\n",
    "\n",
    "# Exibindo os resultados\n",
    "print(\"Ações baratas:\", *acoes_baratas, sep='\\n')\n",
    "print(\"Preços com desconto de 10%:\", desconto_precos)\n"
   ]
  },
  {
   "cell_type": "markdown",
   "id": "fe56b590",
   "metadata": {},
   "source": [
    "## 14. Escopo das variáveis"
   ]
  },
  {
   "cell_type": "code",
   "execution_count": null,
   "id": "aecb461e",
   "metadata": {},
   "outputs": [],
   "source": [
    "a = 40"
   ]
  },
  {
   "cell_type": "code",
   "execution_count": null,
   "id": "5d501f07",
   "metadata": {},
   "outputs": [
    {
     "data": {
      "text/plain": [
       "40"
      ]
     },
     "metadata": {},
     "output_type": "display_data"
    }
   ],
   "source": [
    "a"
   ]
  },
  {
   "cell_type": "markdown",
   "id": "c2440733",
   "metadata": {},
   "source": [
    "Podemos entender o escopo como a \"área de atuação\" de uma variável."
   ]
  },
  {
   "cell_type": "markdown",
   "id": "980da886",
   "metadata": {},
   "source": [
    "Escopo global"
   ]
  },
  {
   "cell_type": "code",
   "execution_count": null,
   "id": "929b3d3d",
   "metadata": {},
   "outputs": [],
   "source": [
    "acao = 'PETR4'"
   ]
  },
  {
   "cell_type": "code",
   "execution_count": null,
   "id": "1b959d31",
   "metadata": {},
   "outputs": [
    {
     "data": {
      "application/vnd.google.colaboratory.intrinsic+json": {
       "type": "string"
      },
      "text/plain": [
       "'PETR4'"
      ]
     },
     "metadata": {},
     "output_type": "display_data"
    }
   ],
   "source": [
    "acao"
   ]
  },
  {
   "cell_type": "markdown",
   "id": "e36fdc03",
   "metadata": {},
   "source": [
    "Vamos implementar uma situação em que o escopo da variável é local"
   ]
  },
  {
   "cell_type": "code",
   "execution_count": null,
   "id": "f275d47b",
   "metadata": {},
   "outputs": [
    {
     "data": {
      "application/vnd.google.colaboratory.intrinsic+json": {
       "type": "string"
      },
      "text/plain": [
       "'O cliente quer comprar XXXX ações do papel YYYY'"
      ]
     },
     "metadata": {},
     "output_type": "display_data"
    }
   ],
   "source": [
    "\"O cliente quer comprar XXXX ações do papel YYYY\""
   ]
  },
  {
   "cell_type": "code",
   "execution_count": null,
   "id": "a205b0cd",
   "metadata": {},
   "outputs": [],
   "source": [
    "def papel_cliente(numero, papel):\n",
    "  acao = f\"O cliente quer comprar {numero} de ações do papel {papel}\"\n",
    "  return acao"
   ]
  },
  {
   "cell_type": "code",
   "execution_count": null,
   "id": "f2001111",
   "metadata": {},
   "outputs": [
    {
     "data": {
      "application/vnd.google.colaboratory.intrinsic+json": {
       "type": "string"
      },
      "text/plain": [
       "'O cliente quer comprar 200 de ações do papel SANB11'"
      ]
     },
     "metadata": {},
     "output_type": "display_data"
    }
   ],
   "source": [
    "papel_cliente(200, 'SANB11')"
   ]
  },
  {
   "cell_type": "markdown",
   "id": "676c625b",
   "metadata": {},
   "source": [
    "Se eu pedir o valor de 'acao', o que você acha que será retornado?"
   ]
  },
  {
   "cell_type": "code",
   "execution_count": null,
   "id": "644bcb28",
   "metadata": {},
   "outputs": [
    {
     "data": {
      "application/vnd.google.colaboratory.intrinsic+json": {
       "type": "string"
      },
      "text/plain": [
       "'PETR4'"
      ]
     },
     "metadata": {},
     "output_type": "display_data"
    }
   ],
   "source": [
    "acao"
   ]
  },
  {
   "cell_type": "code",
   "execution_count": null,
   "id": "9225f2eb",
   "metadata": {},
   "outputs": [
    {
     "data": {
      "application/vnd.google.colaboratory.intrinsic+json": {
       "type": "string"
      },
      "text/plain": [
       "'PETR4'"
      ]
     },
     "metadata": {},
     "output_type": "display_data"
    }
   ],
   "source": [
    "acao"
   ]
  },
  {
   "cell_type": "markdown",
   "id": "87ac3094",
   "metadata": {},
   "source": [
    "### Exercício 14: Escopos de variáveis\n",
    "\n",
    "Corrija o código abaixo para que funcione corretamente.\n",
    "```python\n",
    "preco_base = 50\n",
    "\n",
    "def calcular_preco_final(taxa):\n",
    "    preco_base += 10\n",
    "    preco_final = preco_base + (preco_base * taxa) \n",
    "    return preco_final\n",
    "\n",
    "def atualizar_preco_base(novo_valor):\n",
    "    preco_base = novo_valor\n",
    "    print(f\"Preço base atualizado para: {preco_base}\")\n",
    "\n",
    "print(f\"Preço inicial: {preco_base}\")\n",
    "print(f\"Preço final com taxa de 10%: {calcular_preco_final(0.1)}\")\n",
    "atualizar_preco_base(70)\n",
    "print(f\"Preço base após atualização: {preco_base}\")\n",
    "```"
   ]
  },
  {
   "cell_type": "code",
   "execution_count": null,
   "id": "599ebb94",
   "metadata": {},
   "outputs": [],
   "source": [
    "# Solução ao final do próximo item\n",
    "\n",
    "# Código aqui"
   ]
  },
  {
   "cell_type": "markdown",
   "id": "b5a9b8b5",
   "metadata": {},
   "source": [
    "### Resolução do Exercício 13\n",
    "\n",
    "Crie um sistema que, fornecidos dados a ele:\n",
    "\n",
    "- Leia e registre os dados\n",
    "- Gerar/exibir um relatório que mostre:\n",
    "    - o menor preço registrado\n",
    "    - o maior preço registrado\n",
    "    - a média dos preços registrados. Caso a lista esteja vazia, exiba uma mensagem informando que não há dados para análise."
   ]
  },
  {
   "cell_type": "code",
   "execution_count": 20,
   "id": "0a40e10b",
   "metadata": {},
   "outputs": [],
   "source": [
    "\"\"\"\n",
    "-> Há várias maneiras de resolver este exercício. \n",
    "-> Esta é uma das soluções com boas práticas.\n",
    "-> Uso de tipagem para informar o tipo de uma variável (int, float, dict, list, str, tuple, bool).\n",
    "\"\"\"\n",
    "\n",
    "infos = {\n",
    "        'PETR4': 24.50,\n",
    "        'MGLU3': 2.74,\n",
    "        'WEGE3': 38.51,\n",
    "        'PRIO3': 37.21,\n",
    "        'VALE3': 88.88\n",
    "        }\n",
    "\n",
    "\n",
    "# Função para ler e registrar os dados\n",
    "def registrar_dados(dados: dict[str, float]) -> tuple[list[str], list[float]] | None:  # Pode retornar a tupla de listas ou nada se ocorrer erro\n",
    "\n",
    "    # Verifica se o dicionário é vazio\n",
    "    if not dados:\n",
    "        print('Não há dados para registro.')\n",
    "        return\n",
    "\n",
    "    # Verificando se os dados estão em formato de dicionário\n",
    "    if not isinstance(dados, dict):\n",
    "        print(\"Erro: Os dados devem ser fornecidos como um dicionário.\")\n",
    "        return\n",
    "\n",
    "    # Verifica se os valores da chave são do tipo int ou float e adiciona na lista\n",
    "    precos = [valor for valor in dados.values() if isinstance(valor, (int, float))]\n",
    "\n",
    "    # registrando os ativos em uma lista\n",
    "    ativos = [ativo for ativo in dados.keys()]\n",
    "\n",
    "    return ativos, precos\n",
    "\n",
    "\n",
    "# Função para calcular as métricas\n",
    "def calcular_metricas(precos: list[float]) -> tuple[float]:\n",
    "\n",
    "    menor_preco = min(precos)\n",
    "    maior_preco = max(precos)\n",
    "    media_precos = round(sum(precos) / len(precos), 2)\n",
    "\n",
    "    return  menor_preco, maior_preco, media_precos\n",
    "\n",
    "\n",
    "def gerar_relatorio(dados: dict[str, float]) -> None: # None pois a função não retornará nada\n",
    "\n",
    "    # Chamando uma função para ler e registrar os dados\n",
    "    ativos, precos = registrar_dados(dados)\n",
    "\n",
    "    # Chamando uma função para calcular as métricas\n",
    "    menor, maior, media = calcular_metricas(precos)\n",
    "\n",
    "    index_menor_preco = precos.index(menor)\n",
    "    index_maior_preco = precos.index(maior)      \n",
    "\n",
    "    relatorio = f\"\"\"{'='*20} Relatório {'='*20}\n",
    "    {ativos[index_menor_preco]} possui o menor preço de: R$ {menor}\n",
    "    {ativos[index_maior_preco]} possui o maior preço de: R$ {maior}\n",
    "    Média dos Preços: R$ {media}\n",
    "    \"\"\"\n",
    "\n",
    "    print(relatorio)\n",
    "    return\n",
    "\n",
    "\n",
    "# Gerando o sistema\n",
    "gerar_relatorio(infos)\n"
   ]
  },
  {
   "cell_type": "markdown",
   "metadata": {},
   "source": [
    "## 15. Funções embutidas"
   ],
   "id": "b5bd753987562465"
  },
  {
   "cell_type": "markdown",
   "id": "c7696276",
   "metadata": {},
   "source": [
    "Também conhecidas como \"built-in functions\" são funções nativas do Python que não necessitam de nenhuma biblioteca para sua execução."
   ]
  },
  {
   "cell_type": "markdown",
   "metadata": {},
   "source": [
    "### 15.1. Map"
   ],
   "id": "f7191b414240ab5b"
  },
  {
   "cell_type": "markdown",
   "metadata": {},
   "source": [
    "A função map() aplica um comando (função) a vários elementos de uma lista, de uma vez.\n",
    "\n",
    "Confira alguns exemplos:"
   ],
   "id": "eecd28ffa65b35c9"
  },
  {
   "cell_type": "markdown",
   "metadata": {},
   "source": [
    "Vamos criar uma função que eleva qualquer número ao quadrado"
   ],
   "id": "8b4dec079976e0bd"
  },
  {
   "cell_type": "code",
   "execution_count": null,
   "metadata": {},
   "outputs": [],
   "source": [
    "def potencia(numero):\n",
    "  return numero**2"
   ],
   "id": "c6d78e370cb892b2"
  },
  {
   "cell_type": "code",
   "execution_count": null,
   "metadata": {},
   "outputs": [
    {
     "data": {
      "text/plain": [
       "81"
      ]
     },
     "metadata": {},
     "output_type": "display_data"
    }
   ],
   "source": [
    "potencia(9)"
   ],
   "id": "75cbbea255eedd42"
  },
  {
   "cell_type": "code",
   "execution_count": null,
   "metadata": {},
   "outputs": [
    {
     "data": {
      "text/plain": [
       "16"
      ]
     },
     "metadata": {},
     "output_type": "display_data"
    }
   ],
   "source": [
    "potencia(4)"
   ],
   "id": "8c5888cd69dbf7a5"
  },
  {
   "cell_type": "markdown",
   "metadata": {},
   "source": [
    "Vamos aplicar essa função a vários elementos de uma lista de uma só vez"
   ],
   "id": "5e6fd81c7f2b06d1"
  },
  {
   "cell_type": "code",
   "execution_count": null,
   "metadata": {},
   "outputs": [],
   "source": [
    "lista = [3, 6, 9, 12, 15, 18, 21]"
   ],
   "id": "aed467cacd89eaec"
  },
  {
   "cell_type": "code",
   "execution_count": null,
   "metadata": {},
   "outputs": [
    {
     "data": {
      "text/plain": [
       "<map at 0x7f139c07db50>"
      ]
     },
     "metadata": {},
     "output_type": "display_data"
    }
   ],
   "source": [
    "map(potencia, lista)"
   ],
   "id": "1946799861bdefbd"
  },
  {
   "cell_type": "markdown",
   "metadata": {},
   "source": [
    "Precisamos passar isso dentro de uma lista para que o output fique claro"
   ],
   "id": "9ca6d96ce45101e2"
  },
  {
   "cell_type": "code",
   "execution_count": null,
   "metadata": {},
   "outputs": [
    {
     "data": {
      "text/plain": [
       "[9, 36, 81, 144, 225, 324, 441]"
      ]
     },
     "metadata": {},
     "output_type": "display_data"
    }
   ],
   "source": [
    "list(map(potencia, lista))"
   ],
   "id": "b0ab54fcf52e31bb"
  },
  {
   "cell_type": "markdown",
   "metadata": {},
   "source": [
    "**Exercícios**\n",
    "\n",
    "Crie uma função que eleva um número a outro número qualquer. Aplique esta função à lista acima."
   ],
   "id": "90cc06532a02c31a"
  },
  {
   "cell_type": "code",
   "execution_count": null,
   "metadata": {},
   "outputs": [],
   "source": [
    "def potencia_qualquer(numero, pot):\n",
    "  return numero**pot"
   ],
   "id": "d4fc8378dabf1a57"
  },
  {
   "cell_type": "code",
   "execution_count": null,
   "metadata": {},
   "outputs": [
    {
     "data": {
      "text/plain": [
       "2"
      ]
     },
     "metadata": {},
     "output_type": "display_data"
    }
   ],
   "source": [
    "potencia_qualquer(2,1)"
   ],
   "id": "c9c4c88063a858c"
  },
  {
   "cell_type": "code",
   "execution_count": null,
   "metadata": {},
   "outputs": [
    {
     "data": {
      "text/plain": [
       "4"
      ]
     },
     "metadata": {},
     "output_type": "display_data"
    }
   ],
   "source": [
    "potencia_qualquer(2,2)"
   ],
   "id": "ef1a1abe06850ac6"
  },
  {
   "cell_type": "code",
   "execution_count": null,
   "metadata": {},
   "outputs": [
    {
     "data": {
      "text/plain": [
       "8"
      ]
     },
     "metadata": {},
     "output_type": "display_data"
    }
   ],
   "source": [
    "potencia_qualquer(2,3)"
   ],
   "id": "61a15f0654f8e67c"
  },
  {
   "cell_type": "code",
   "execution_count": null,
   "metadata": {},
   "outputs": [
    {
     "ename": "TypeError",
     "evalue": "ignored",
     "output_type": "error",
     "traceback": [
      "\u001B[0;31m---------------------------------------------------------------------------\u001B[0m\n",
      "\u001B[0;31mTypeError\u001B[0m                                 Traceback (most recent call last)\n",
      "\u001B[0;32m<ipython-input-13-47513106c886>\u001B[0m in \u001B[0;36m<module>\u001B[0;34m\u001B[0m\n",
      "\u001B[0;32m----> 1\u001B[0;31m \u001B[0mlist\u001B[0m\u001B[0;34m(\u001B[0m\u001B[0mmap\u001B[0m\u001B[0;34m(\u001B[0m\u001B[0mpotencia_qualquer\u001B[0m\u001B[0;34m,\u001B[0m \u001B[0mlista\u001B[0m\u001B[0;34m)\u001B[0m\u001B[0;34m)\u001B[0m\u001B[0;34m\u001B[0m\u001B[0;34m\u001B[0m\u001B[0m\n",
      "\u001B[0m\n",
      "\u001B[0;31mTypeError\u001B[0m: potencia_qualquer() missing 1 required positional argument: 'pot'"
     ]
    }
   ],
   "source": [
    "list(map(potencia_qualquer, lista))"
   ],
   "id": "23926c6ad3509db2"
  },
  {
   "cell_type": "markdown",
   "metadata": {},
   "source": [
    "Como fazer para contornar essa exigência?"
   ],
   "id": "fbf0361938179624"
  },
  {
   "cell_type": "code",
   "execution_count": null,
   "metadata": {},
   "outputs": [],
   "source": [
    "def potencia_qualquer(numero, pot = 2):\n",
    "  return numero**pot"
   ],
   "id": "9243422f63782947"
  },
  {
   "cell_type": "code",
   "execution_count": null,
   "metadata": {},
   "outputs": [
    {
     "data": {
      "text/plain": [
       "9"
      ]
     },
     "metadata": {},
     "output_type": "display_data"
    }
   ],
   "source": [
    "potencia_qualquer(3)"
   ],
   "id": "9a388c28a223173c"
  },
  {
   "cell_type": "code",
   "execution_count": null,
   "metadata": {},
   "outputs": [
    {
     "data": {
      "text/plain": [
       "27"
      ]
     },
     "metadata": {},
     "output_type": "display_data"
    }
   ],
   "source": [
    "potencia_qualquer(3, 3)"
   ],
   "id": "36d6f576eb7d3a6b"
  },
  {
   "cell_type": "code",
   "execution_count": null,
   "metadata": {},
   "outputs": [
    {
     "data": {
      "text/plain": [
       "[9, 36, 81, 144, 225, 324, 441]"
      ]
     },
     "metadata": {},
     "output_type": "display_data"
    }
   ],
   "source": [
    "list(map(potencia_qualquer, lista))"
   ],
   "id": "7f5453df846e3140"
  },
  {
   "cell_type": "markdown",
   "metadata": {},
   "source": [
    "Perceba que neste ponto, nós fizemos uma modificação na função potencia_qualquer() para incluir um argument default (padrão) no lugar da potência."
   ],
   "id": "95f803548f74379b"
  },
  {
   "cell_type": "markdown",
   "metadata": {},
   "source": [
    "Imagine que você tem o preço de abertura para vários papéis. Crie uma função que modifica o preço e adiciona um retorno de 1% em cima deste valor. Aplique esta função a todos os preços da lista abaixo:"
   ],
   "id": "5a637eed6a94eae6"
  },
  {
   "cell_type": "code",
   "execution_count": null,
   "metadata": {},
   "outputs": [],
   "source": [
    "precos = [26.75, 78.98, 25.76]"
   ],
   "id": "accaac6b6378826"
  },
  {
   "cell_type": "code",
   "execution_count": null,
   "metadata": {},
   "outputs": [],
   "source": [
    "def aplica_retorno(valor):\n",
    "  valor_transformado = valor*1.01\n",
    "  return round(valor_transformado, 2)"
   ],
   "id": "9c8ba0a44ad2fa00"
  },
  {
   "cell_type": "code",
   "execution_count": null,
   "metadata": {},
   "outputs": [
    {
     "data": {
      "text/plain": [
       "101.0"
      ]
     },
     "metadata": {},
     "output_type": "display_data"
    }
   ],
   "source": [
    "aplica_retorno(100)"
   ],
   "id": "bb3fb60ecd360189"
  },
  {
   "cell_type": "code",
   "execution_count": null,
   "metadata": {},
   "outputs": [
    {
     "data": {
      "text/plain": [
       "89.77"
      ]
     },
     "metadata": {},
     "output_type": "display_data"
    }
   ],
   "source": [
    "aplica_retorno(88.88)"
   ],
   "id": "7d6401c224580e71"
  },
  {
   "cell_type": "code",
   "execution_count": null,
   "metadata": {},
   "outputs": [
    {
     "data": {
      "text/plain": [
       "[27.02, 79.77, 26.02]"
      ]
     },
     "metadata": {},
     "output_type": "display_data"
    }
   ],
   "source": [
    "list(map(aplica_retorno, precos))"
   ],
   "id": "8705008f5e3850b"
  },
  {
   "cell_type": "markdown",
   "metadata": {},
   "source": [
    "**Exercício**\n",
    "\n",
    "Utilizando map(), crie um código que adiciona '.SA' no fim de todos os papéis da lista abaixo, a partir de uma função."
   ],
   "id": "49a9a47be5c5c75a"
  },
  {
   "cell_type": "code",
   "execution_count": null,
   "metadata": {},
   "outputs": [],
   "source": [
    "lista = ['VALE3', 'MGLU3', 'LREN3', 'ABEV3']"
   ],
   "id": "3603cd41e4c2fd25"
  },
  {
   "cell_type": "code",
   "execution_count": null,
   "metadata": {},
   "outputs": [],
   "source": [
    "def adiciona_sa(papel):\n",
    "  return papel + '.SA'"
   ],
   "id": "b4591ff40155cd33"
  },
  {
   "cell_type": "code",
   "execution_count": null,
   "metadata": {},
   "outputs": [
    {
     "data": {
      "application/vnd.google.colaboratory.intrinsic+json": {
       "type": "string"
      },
      "text/plain": [
       "'ITUB4.SA'"
      ]
     },
     "metadata": {},
     "output_type": "display_data"
    }
   ],
   "source": [
    "adiciona_sa('ITUB4')"
   ],
   "id": "c6eafc43b8ac5eda"
  },
  {
   "cell_type": "code",
   "execution_count": null,
   "metadata": {},
   "outputs": [
    {
     "data": {
      "text/plain": [
       "['VALE3.SA', 'MGLU3.SA', 'LREN3.SA', 'ABEV3.SA']"
      ]
     },
     "metadata": {},
     "output_type": "display_data"
    }
   ],
   "source": [
    "list(map(adiciona_sa, lista))"
   ],
   "id": "198ea74674854111"
  },
  {
   "cell_type": "markdown",
   "metadata": {},
   "source": [
    "### 15.2. Filter"
   ],
   "id": "140eb0443088266d"
  },
  {
   "cell_type": "markdown",
   "metadata": {},
   "source": [
    "De forma análoga, a função \"filter\" aplica um filtro a vários elementos de uma lista de uma só vez.\n",
    "\n",
    "Vamos criar uma função que vai verificar se um número é par ou não"
   ],
   "id": "8a8968634b473a9e"
  },
  {
   "cell_type": "code",
   "execution_count": null,
   "metadata": {},
   "outputs": [],
   "source": [
    "x = 3"
   ],
   "id": "8c0ba57e322f9aea"
  },
  {
   "cell_type": "code",
   "execution_count": null,
   "metadata": {},
   "outputs": [
    {
     "data": {
      "text/plain": [
       "False"
      ]
     },
     "metadata": {},
     "output_type": "display_data"
    }
   ],
   "source": [
    "x == 5"
   ],
   "id": "e85e840b0fd8018b"
  },
  {
   "cell_type": "code",
   "execution_count": null,
   "metadata": {},
   "outputs": [
    {
     "data": {
      "text/plain": [
       "1.5"
      ]
     },
     "metadata": {},
     "output_type": "display_data"
    }
   ],
   "source": [
    "x/2"
   ],
   "id": "fb5c329f9d34b371"
  },
  {
   "cell_type": "code",
   "execution_count": null,
   "metadata": {},
   "outputs": [
    {
     "data": {
      "text/plain": [
       "2.0"
      ]
     },
     "metadata": {},
     "output_type": "display_data"
    }
   ],
   "source": [
    "4/2"
   ],
   "id": "2864f6df999b860f"
  },
  {
   "cell_type": "code",
   "execution_count": null,
   "metadata": {},
   "outputs": [
    {
     "data": {
      "text/plain": [
       "0"
      ]
     },
     "metadata": {},
     "output_type": "display_data"
    }
   ],
   "source": [
    "10 % 2"
   ],
   "id": "d5a3d8c4e14128f2"
  },
  {
   "cell_type": "code",
   "execution_count": null,
   "metadata": {},
   "outputs": [
    {
     "data": {
      "text/plain": [
       "1"
      ]
     },
     "metadata": {},
     "output_type": "display_data"
    }
   ],
   "source": [
    "5 % 2"
   ],
   "id": "9cb4480c36970a0c"
  },
  {
   "cell_type": "code",
   "execution_count": null,
   "metadata": {},
   "outputs": [
    {
     "data": {
      "text/plain": [
       "False"
      ]
     },
     "metadata": {},
     "output_type": "display_data"
    }
   ],
   "source": [
    "5 % 2 == 0"
   ],
   "id": "cce0077e3717ffea"
  },
  {
   "cell_type": "code",
   "execution_count": null,
   "metadata": {},
   "outputs": [],
   "source": [
    "def verifica_par(numero):\n",
    "  return numero % 2 == 0"
   ],
   "id": "af64c81189424bee"
  },
  {
   "cell_type": "code",
   "execution_count": null,
   "metadata": {},
   "outputs": [
    {
     "data": {
      "text/plain": [
       "True"
      ]
     },
     "metadata": {},
     "output_type": "display_data"
    }
   ],
   "source": [
    "verifica_par(2)"
   ],
   "id": "5db19164dd53ca11"
  },
  {
   "cell_type": "code",
   "execution_count": null,
   "metadata": {},
   "outputs": [
    {
     "data": {
      "text/plain": [
       "False"
      ]
     },
     "metadata": {},
     "output_type": "display_data"
    }
   ],
   "source": [
    "verifica_par(3)"
   ],
   "id": "be6fce5590676f32"
  },
  {
   "cell_type": "code",
   "execution_count": null,
   "metadata": {},
   "outputs": [
    {
     "data": {
      "text/plain": [
       "True"
      ]
     },
     "metadata": {},
     "output_type": "display_data"
    }
   ],
   "source": [
    "verifica_par(74328943298)"
   ],
   "id": "5e1e27cd1f8b7421"
  },
  {
   "cell_type": "code",
   "execution_count": null,
   "metadata": {},
   "outputs": [],
   "source": [
    "lista = [3, 6, 9, 12, 15, 18, 21]"
   ],
   "id": "fb3f8899a8c1f664"
  },
  {
   "cell_type": "markdown",
   "metadata": {},
   "source": [
    "Se aplicarmos essa função à lista criada no item anterior, ela vai trazer apenas os números que são pares."
   ],
   "id": "572afc415fbbded7"
  },
  {
   "cell_type": "code",
   "execution_count": null,
   "metadata": {},
   "outputs": [
    {
     "data": {
      "text/plain": [
       "<filter at 0x7f13930da730>"
      ]
     },
     "metadata": {},
     "output_type": "display_data"
    }
   ],
   "source": [
    "filter(verifica_par, lista)"
   ],
   "id": "3167f87c7da49d0b"
  },
  {
   "cell_type": "code",
   "execution_count": null,
   "metadata": {},
   "outputs": [
    {
     "data": {
      "text/plain": [
       "[6, 12, 18]"
      ]
     },
     "metadata": {},
     "output_type": "display_data"
    }
   ],
   "source": [
    "list(filter(verifica_par, lista))"
   ],
   "id": "7356ed48105e8904"
  },
  {
   "cell_type": "markdown",
   "metadata": {},
   "source": [
    "**Exercício**\n",
    "\n",
    "Dada uma lista de papéis que pertencem ao IBOV, verifique se os papéis de uma outra lista também pertencem à primeira."
   ],
   "id": "fb2704165a5a3fe1"
  },
  {
   "cell_type": "code",
   "execution_count": null,
   "metadata": {},
   "outputs": [],
   "source": [
    "IBOV = ['ABEV3', 'PETR4', 'VALE3', 'BBDC4', 'ITUB4']\n",
    "lista_papeis = ['ORVR3', 'ABEV3', 'BAUH4', 'JOPA3', 'JALL3', 'ITUB4']"
   ],
   "id": "c25f34f9fb67758e"
  },
  {
   "cell_type": "markdown",
   "metadata": {},
   "source": [
    "Crie uma função que verifica se algum papel pertence à primeira lista ou não. Depois, aplique esta função à segunda lista (lista_papeis) e verifique quais papéis desta lista pertencem à lista IBOV."
   ],
   "id": "7074f1344258ba2"
  },
  {
   "cell_type": "code",
   "execution_count": null,
   "metadata": {},
   "outputs": [],
   "source": [
    "def verifica_ibov(papel):\n",
    "  IBOV = ['ABEV3', 'PETR4', 'VALE3', 'BBDC4', 'ITUB4']\n",
    "  return papel in IBOV"
   ],
   "id": "ee2c3968c7d68e83"
  },
  {
   "cell_type": "code",
   "execution_count": null,
   "metadata": {},
   "outputs": [
    {
     "data": {
      "text/plain": [
       "True"
      ]
     },
     "metadata": {},
     "output_type": "display_data"
    }
   ],
   "source": [
    "verifica_ibov('ABEV3')"
   ],
   "id": "873941732835f9f7"
  },
  {
   "cell_type": "code",
   "execution_count": null,
   "metadata": {},
   "outputs": [
    {
     "data": {
      "text/plain": [
       "False"
      ]
     },
     "metadata": {},
     "output_type": "display_data"
    }
   ],
   "source": [
    "verifica_ibov('MLAS3')"
   ],
   "id": "c7f63e94043d202"
  },
  {
   "cell_type": "markdown",
   "metadata": {},
   "source": [
    "Agora vamos aplicar esta função em toda a lista \"lista_papeis\""
   ],
   "id": "c5ca12d218950efa"
  },
  {
   "cell_type": "code",
   "execution_count": null,
   "metadata": {},
   "outputs": [
    {
     "data": {
      "text/plain": [
       "<filter at 0x7f13930a0160>"
      ]
     },
     "metadata": {},
     "output_type": "display_data"
    }
   ],
   "source": [
    "filter(verifica_ibov, lista_papeis)"
   ],
   "id": "5830e5b77c1b68e2"
  },
  {
   "cell_type": "code",
   "execution_count": null,
   "metadata": {},
   "outputs": [
    {
     "data": {
      "text/plain": [
       "['ABEV3', 'ITUB4']"
      ]
     },
     "metadata": {},
     "output_type": "display_data"
    }
   ],
   "source": [
    "list(filter(verifica_ibov, lista_papeis))"
   ],
   "id": "8c9ffe593393836d"
  },
  {
   "cell_type": "code",
   "execution_count": null,
   "metadata": {},
   "outputs": [
    {
     "data": {
      "text/plain": [
       "['ORVR3', 'ABEV3', 'BAUH4', 'JOPA3', 'JALL3', 'ITUB4']"
      ]
     },
     "metadata": {},
     "output_type": "display_data"
    }
   ],
   "source": [
    "lista_papeis"
   ],
   "id": "960fc7e2ecb1334c"
  },
  {
   "cell_type": "markdown",
   "id": "16953dd6",
   "metadata": {},
   "source": [
    "### Exercício 15: Map e Filter\n",
    "\n",
    "Você recebeu uma lista com informações sobre papéis e seus respectivos preços. Sua tarefa é criar um sistema que faça o seguinte:\n",
    "\n",
    "1. Adicionar \".SA\" aos nomes de todos os papéis utilizando map() e uma função específica.\n",
    "2. Calcular um aumento percentual nos preços dos papéis utilizando uma função e map(). O aumento deve ser de 5%.\n",
    "3. Filtrar apenas os papéis que possuem preço acima de R$ 50,00 utilizando filter() e uma função específica.\n",
    "4. Exibir:\n",
    "    - A lista de papéis atualizada com \".SA\".\n",
    "    - Os preços dos papéis após o aumento.\n",
    "    - A lista de papéis que possuem preços acima de R$ 50,00."
   ]
  },
  {
   "cell_type": "code",
   "execution_count": 22,
   "id": "53712cc7",
   "metadata": {},
   "outputs": [],
   "source": [
    "# Solução ao final do próximo item\n",
    "papeis = ['VALE3', 'MGLU3', 'LREN3', 'ABEV3', 'PETR4']\n",
    "precos = [88.45, 25.67, 49.90, 27.78, 50.10]\n",
    "\n",
    "# Código aqui"
   ]
  },
  {
   "cell_type": "markdown",
   "id": "63e69892",
   "metadata": {},
   "source": [
    "### Resolução do Exercício 14:\n",
    "\n",
    "Corrija o código abaixo para que funcione corretamente.\n",
    "```python\n",
    "preco_base = 50\n",
    "\n",
    "def calcular_preco_final(taxa):\n",
    "    preco_base += 10\n",
    "    preco_final = preco_base + (preco_base * taxa) \n",
    "    return preco_final\n",
    "\n",
    "def atualizar_preco_base(novo_valor):\n",
    "    preco_base = novo_valor\n",
    "    print(f\"Preço base atualizado para: {preco_base}\")\n",
    "\n",
    "print(f\"Preço inicial: {preco_base}\")\n",
    "print(f\"Preço final com taxa de 10%: {calcular_preco_final(0.1)}\")\n",
    "atualizar_preco_base(70)\n",
    "print(f\"Preço base após atualização: {preco_base}\")\n",
    "```"
   ]
  },
  {
   "cell_type": "code",
   "execution_count": 23,
   "id": "d7956347",
   "metadata": {},
   "outputs": [
    {
     "name": "stdout",
     "output_type": "stream",
     "text": [
      "Preço inicial: 50\n",
      "Preço final com taxa de 10%: 66.0\n",
      "Preço base atualizado para: 70\n",
      "Preço base após atualização: 70\n"
     ]
    }
   ],
   "source": [
    "preco_base = 50  # Variável global\n",
    "\n",
    "def calcular_preco_final(taxa: float) -> float:\n",
    "    global preco_base  # Declara que está utilizando a variável global\n",
    "    preco_base += 10  # Incrementa o valor de preco_base\n",
    "    preco_final = preco_base + (preco_base * taxa) \n",
    "    return preco_final\n",
    "\n",
    "def atualizar_preco_base(novo_valor: float) -> None:\n",
    "    \"\"\"\n",
    "    Atualiza o valor da variável global preco_base.\n",
    "    \"\"\"\n",
    "    global preco_base  # Declara que está utilizando a variável global\n",
    "    preco_base = novo_valor\n",
    "    print(f\"Preço base atualizado para: {preco_base}\")\n",
    "\n",
    "# Fluxo principal do programa\n",
    "print(f\"Preço inicial: {preco_base}\")  # Exibe o preço inicial\n",
    "print(f\"Preço final com taxa de 10%: {calcular_preco_final(0.1)}\")  # Calcula o preço final\n",
    "atualizar_preco_base(70)  # Atualiza o preço base para 70\n",
    "print(f\"Preço base após atualização: {preco_base}\")  # Exibe o novo preço base\n"
   ]
  },
  {
   "cell_type": "markdown",
   "metadata": {},
   "source": [
    "## 16. Funções Lambda"
   ],
   "id": "81b336c76ec55558"
  },
  {
   "cell_type": "markdown",
   "id": "24d61bf2",
   "metadata": {},
   "source": [
    "São funções que não precisam de definição forma (explícita) podendo ser chamadas em apenas uma linha."
   ]
  },
  {
   "cell_type": "markdown",
   "metadata": {},
   "source": [
    "Suponha que queremos criar uma função que eleva os números ao quadrado:"
   ],
   "id": "dd4169532ca36d4b"
  },
  {
   "cell_type": "code",
   "execution_count": null,
   "metadata": {},
   "outputs": [],
   "source": [
    "def quadrado (numero):\n",
    "  return numero**2"
   ],
   "id": "35102321300e1e5e"
  },
  {
   "cell_type": "code",
   "execution_count": null,
   "metadata": {},
   "outputs": [
    {
     "data": {
      "text/plain": [
       "4"
      ]
     },
     "metadata": {},
     "output_type": "display_data"
    }
   ],
   "source": [
    "quadrado(2)"
   ],
   "id": "5dbe8c59f4c6c0c6"
  },
  {
   "cell_type": "code",
   "execution_count": null,
   "metadata": {},
   "outputs": [
    {
     "data": {
      "text/plain": [
       "625"
      ]
     },
     "metadata": {},
     "output_type": "display_data"
    }
   ],
   "source": [
    "quadrado(25)"
   ],
   "id": "5dc0b4d1b29e63e"
  },
  {
   "cell_type": "markdown",
   "metadata": {},
   "source": [
    "Com o comando lambda, não precisamos dar um nome a essa função nem defini-la, basta especificar qual a tarefa que precisamos executar"
   ],
   "id": "43fd1f90f4304eb6"
  },
  {
   "cell_type": "code",
   "execution_count": null,
   "metadata": {},
   "outputs": [
    {
     "data": {
      "text/plain": [
       "<function __main__.<lambda>(numero)>"
      ]
     },
     "metadata": {},
     "output_type": "display_data"
    }
   ],
   "source": [
    "lambda numero: numero**2"
   ],
   "id": "263b817211ab31b4"
  },
  {
   "cell_type": "markdown",
   "metadata": {},
   "source": [
    "Caso seja do nosso interesse, podemos criar uma variável que recebe a operação realizada pela função lambda."
   ],
   "id": "afd74dba9a98c0ee"
  },
  {
   "cell_type": "code",
   "execution_count": null,
   "metadata": {},
   "outputs": [],
   "source": [
    "quadrado_lambda = lambda numero: numero**2"
   ],
   "id": "8d0a5fb77aead7e8"
  },
  {
   "cell_type": "code",
   "execution_count": null,
   "metadata": {},
   "outputs": [
    {
     "data": {
      "text/plain": [
       "256"
      ]
     },
     "metadata": {},
     "output_type": "display_data"
    }
   ],
   "source": [
    "quadrado_lambda(16)"
   ],
   "id": "b49b5830e6d10474"
  },
  {
   "cell_type": "markdown",
   "metadata": {},
   "source": [
    "Exercício"
   ],
   "id": "1fba8c4ce32a2811"
  },
  {
   "cell_type": "code",
   "execution_count": null,
   "metadata": {},
   "outputs": [],
   "source": [
    "lista_ativos = 'WEGE MGLU VALE PRIO'"
   ],
   "id": "d58b57b76e17837b"
  },
  {
   "cell_type": "markdown",
   "metadata": {},
   "source": [
    "Dada essa string, transforme-a em uma lista de tickers e depois adicione '3' ao fim de cada ticker. Use uma função lambda."
   ],
   "id": "b24542c3cf72a98d"
  },
  {
   "cell_type": "markdown",
   "metadata": {},
   "source": [
    "1. Separar os tickers"
   ],
   "id": "b933f03fc8fbe8df"
  },
  {
   "cell_type": "code",
   "execution_count": null,
   "metadata": {},
   "outputs": [],
   "source": [
    "nova_lista = lista_ativos.split()"
   ],
   "id": "b18a468b9fa95e47"
  },
  {
   "cell_type": "code",
   "execution_count": null,
   "metadata": {},
   "outputs": [
    {
     "data": {
      "text/plain": [
       "['WEGE', 'MGLU', 'VALE', 'PRIO']"
      ]
     },
     "metadata": {},
     "output_type": "display_data"
    }
   ],
   "source": [
    "nova_lista"
   ],
   "id": "9ef2ad24edbe5317"
  },
  {
   "cell_type": "markdown",
   "metadata": {},
   "source": [
    "2. Criar função lambda que adiciona '3' ao fim de um ticker específico"
   ],
   "id": "e36bf1a283e9b491"
  },
  {
   "cell_type": "code",
   "execution_count": null,
   "metadata": {},
   "outputs": [],
   "source": [
    "transforma_ticker = lambda ticker: ticker + '3'"
   ],
   "id": "2fc5b00336150b7e"
  },
  {
   "cell_type": "code",
   "execution_count": null,
   "metadata": {},
   "outputs": [
    {
     "data": {
      "application/vnd.google.colaboratory.intrinsic+json": {
       "type": "string"
      },
      "text/plain": [
       "'SUZB3'"
      ]
     },
     "metadata": {},
     "output_type": "display_data"
    }
   ],
   "source": [
    "transforma_ticker('SUZB')"
   ],
   "id": "f8e30a930e429eab"
  },
  {
   "cell_type": "markdown",
   "metadata": {},
   "source": [
    "3. Extrapolar essa função para todos os elementos da lista acima"
   ],
   "id": "b92855a48217e1b0"
  },
  {
   "cell_type": "code",
   "execution_count": null,
   "metadata": {},
   "outputs": [
    {
     "data": {
      "text/plain": [
       "<map at 0x7f7b7ae2ff70>"
      ]
     },
     "metadata": {},
     "output_type": "display_data"
    }
   ],
   "source": [
    "map(transforma_ticker, nova_lista)"
   ],
   "id": "53d1a72f8534c8f6"
  },
  {
   "cell_type": "code",
   "execution_count": null,
   "metadata": {},
   "outputs": [
    {
     "data": {
      "text/plain": [
       "['WEGE3', 'MGLU3', 'VALE3', 'PRIO3']"
      ]
     },
     "metadata": {},
     "output_type": "display_data"
    }
   ],
   "source": [
    "list(map(transforma_ticker, nova_lista))"
   ],
   "id": "a553c8a6ecf108b"
  },
  {
   "cell_type": "markdown",
   "metadata": {},
   "source": [
    "4. Otimizar o nosso código"
   ],
   "id": "dff8c348131771d5"
  },
  {
   "cell_type": "code",
   "execution_count": null,
   "metadata": {},
   "outputs": [
    {
     "data": {
      "text/plain": [
       "['WEGE3', 'MGLU3', 'VALE3', 'PRIO3']"
      ]
     },
     "metadata": {},
     "output_type": "display_data"
    }
   ],
   "source": [
    "list(map( lambda ticker: ticker + '3' , nova_lista))"
   ],
   "id": "172910e8eb005c3b"
  },
  {
   "cell_type": "code",
   "execution_count": null,
   "metadata": {},
   "outputs": [
    {
     "data": {
      "text/plain": [
       "['WEGE3', 'MGLU3', 'VALE3', 'PRIO3']"
      ]
     },
     "metadata": {},
     "output_type": "display_data"
    }
   ],
   "source": [
    "list(map( lambda ticker: ticker + '3' , lista_ativos.split()))"
   ],
   "id": "ecda94532a0a10c1"
  },
  {
   "cell_type": "markdown",
   "metadata": {},
   "source": [
    "Exercício\n",
    "\n",
    "\n",
    "Dada a função que criamos acima que eleva vários números ao quadrado, aplique-a a todos os elementos da lista abaixo."
   ],
   "id": "39265178d29f53fd"
  },
  {
   "cell_type": "code",
   "execution_count": null,
   "metadata": {},
   "outputs": [],
   "source": [
    "lista_numeros = [4, 8, 12, 16, 20, 24, 28, 32, 9, 5, 3, 13, 17, 19]"
   ],
   "id": "ea5b4c6b13b582a9"
  },
  {
   "cell_type": "code",
   "execution_count": null,
   "metadata": {},
   "outputs": [
    {
     "data": {
      "text/plain": [
       "[16, 64, 144, 256, 400, 576, 784, 1024, 81, 25, 9, 169, 289, 361]"
      ]
     },
     "metadata": {},
     "output_type": "display_data"
    }
   ],
   "source": [
    "list(map(lambda numero: numero**2,lista_numeros))"
   ],
   "id": "e1eca0e30394df4d"
  },
  {
   "cell_type": "markdown",
   "id": "5d1b03b5",
   "metadata": {},
   "source": [
    "### Exercício 16: Funções Lambda\n",
    "\n",
    "\n",
    "Você recebeu uma tabela com informações sobre ações de empresas, contendo o nome do papel e o seu preço atual. Sua tarefa é usar funções lambda para:\n",
    "\n",
    "1. Ordenar a tabela:\n",
    "    - Primeiro pelo preço em ordem crescente.\n",
    "    - Depois pelo nome do papel em ordem alfabética.\n",
    "\n",
    "2. Filtrar:\n",
    "    - Apenas os papéis que possuem preço acima de R$ 50,00.\n",
    "\n",
    "3. Aplicar um aumento dinâmico de acordo com as seguintes regras:\n",
    "    - Aumento de 5% para preços abaixo de R$ 30,00.\n",
    "    - Aumento de 3% para acima de R$ 30,00.\n",
    "\n",
    "4. Exibir a lista final:\n",
    "    - \"Papel: *papel*, Novo Preço: *preco*."
   ]
  },
  {
   "cell_type": "code",
   "execution_count": 32,
   "id": "fb9e75e5",
   "metadata": {},
   "outputs": [],
   "source": [
    "# Resolução ao final do próximo item\n",
    "\n",
    "acoes = [\n",
    "    {\"papel\": \"VALE3\", \"preco\": 88.45},\n",
    "    {\"papel\": \"MGLU3\", \"preco\": 25.67},\n",
    "    {\"papel\": \"LREN3\", \"preco\": 49.90},\n",
    "    {\"papel\": \"ABEV3\", \"preco\": 27.78},\n",
    "    {\"papel\": \"PETR4\", \"preco\": 50.10}\n",
    "]\n",
    "\n",
    "# Código aqui"
   ]
  },
  {
   "cell_type": "markdown",
   "id": "a98f10c8",
   "metadata": {},
   "source": [
    "### Resolução do Exercício 15:\n",
    "\n",
    "Você recebeu uma lista com informações sobre papéis e seus respectivos preços. Sua tarefa é criar um sistema que faça o seguinte:\n",
    "\n",
    "1. Adicionar \".SA\" aos nomes de todos os papéis utilizando map() e uma função específica.\n",
    "2. Calcular um aumento percentual nos preços dos papéis utilizando uma função e map(). O aumento deve ser de 5%.\n",
    "3. Filtrar apenas os papéis que possuem preço acima de R$ 50,00 utilizando filter() e uma função específica.\n",
    "4. Exibir:\n",
    "    - A lista de papéis atualizada com \".SA\".\n",
    "    - Os preços dos papéis após o aumento.\n",
    "    - A lista de papéis que possuem preços acima de R$ 50,00."
   ]
  },
  {
   "cell_type": "code",
   "execution_count": 31,
   "id": "01743059",
   "metadata": {},
   "outputs": [
    {
     "name": "stdout",
     "output_type": "stream",
     "text": [
      "Lista de papéis com '.SA':\n",
      "VALE3.SA\n",
      "MGLU3.SA\n",
      "LREN3.SA\n",
      "ABEV3.SA\n",
      "PETR4.SA\n",
      "\n",
      "Preços após aumento de 5%:\n",
      "VALE3.SA: R$ 92.87\n",
      "MGLU3.SA: R$ 26.95\n",
      "LREN3.SA: R$ 52.4\n",
      "ABEV3.SA: R$ 29.17\n",
      "PETR4.SA: R$ 52.61\n",
      "\n",
      "Papéis com preços acima de R$ 50,00:\n",
      "VALE3.SA: R$ 92.87\n",
      "LREN3.SA: R$ 52.4\n",
      "PETR4.SA: R$ 52.61\n"
     ]
    }
   ],
   "source": [
    "# Dados fornecidos\n",
    "papeis = ['VALE3', 'MGLU3', 'LREN3', 'ABEV3', 'PETR4']\n",
    "precos = [88.45, 25.67, 49.90, 27.78, 50.10]\n",
    "\n",
    "# Passo 1: Adicionar \".SA\" aos nomes dos papéis\n",
    "def adicionar_sa(nome_papel: str) -> str:\n",
    "    return nome_papel + '.SA'\n",
    "\n",
    "# Passo 2: Calcular o aumento de 5% nos preços\n",
    "def aplicar_aumento(preco: float) -> float:\n",
    "    return round(preco * 1.05, 2)\n",
    "\n",
    "# Passo 3: Filtrar os papéis com preço acima de R$ 50,00\n",
    "def filtrar_precos(papel_preco: tuple[str, float]) -> bool:\n",
    "    _, preco = papel_preco\n",
    "    return preco > 50\n",
    "\n",
    "\n",
    "papeis_atualizados = list(map(adicionar_sa, papeis))\n",
    "\n",
    "precos_aumentados = list(map(aplicar_aumento, precos))\n",
    "papeis_preco_aumentado = zip(papeis_atualizados, precos_aumentados)\n",
    "\n",
    "# Associando papéis e preços\n",
    "papeis_com_precos = list(zip(papeis_atualizados, precos_aumentados))\n",
    "papeis_filtrados = list(filter(filtrar_precos, papeis_com_precos))\n",
    "\n",
    "# Exibindo os resultados\n",
    "print(\"Lista de papéis com '.SA':\", *papeis_atualizados, sep='\\n')\n",
    "print(\"\\nPreços após aumento de 5%:\", \n",
    "      *[f\"{papel}: R$ {preco}\" for papel, preco in papeis_preco_aumentado], \n",
    "      sep='\\n')\n",
    "print(\"\\nPapéis com preços acima de R$ 50,00:\", \n",
    "      *[f\"{papel}: R$ {preco}\" for papel, preco in papeis_filtrados], \n",
    "      sep='\\n')\n"
   ]
  },
  {
   "cell_type": "markdown",
   "id": "8d2daa39",
   "metadata": {},
   "source": [
    "## 17. Args & Kwargs"
   ]
  },
  {
   "cell_type": "markdown",
   "id": "3de4f4ab",
   "metadata": {},
   "source": [
    "### 17.1. Args"
   ]
  },
  {
   "cell_type": "markdown",
   "id": "fae73f05",
   "metadata": {},
   "source": [
    "Imagine que criamos uma função nova e especificamos a quantidade de argumentos que precisam ser passados nessa função:"
   ]
  },
  {
   "cell_type": "code",
   "execution_count": 38,
   "id": "95ea6dd1",
   "metadata": {},
   "outputs": [
    {
     "data": {
      "text/plain": [
       "2"
      ]
     },
     "execution_count": 38,
     "metadata": {},
     "output_type": "execute_result"
    }
   ],
   "source": [
    "sum((1,1))"
   ]
  },
  {
   "cell_type": "code",
   "execution_count": 39,
   "id": "268ad975",
   "metadata": {},
   "outputs": [],
   "source": [
    "numeros = (1,2,3,4,5)"
   ]
  },
  {
   "cell_type": "code",
   "execution_count": 40,
   "id": "abd097f6",
   "metadata": {},
   "outputs": [
    {
     "data": {
      "text/plain": [
       "15"
      ]
     },
     "execution_count": 40,
     "metadata": {},
     "output_type": "execute_result"
    }
   ],
   "source": [
    "sum(numeros)"
   ]
  },
  {
   "cell_type": "code",
   "execution_count": 41,
   "id": "c352fb69",
   "metadata": {},
   "outputs": [],
   "source": [
    "def soma_varios(a, b):\n",
    "  soma = sum((a,b))\n",
    "  return soma\n"
   ]
  },
  {
   "cell_type": "code",
   "execution_count": 42,
   "id": "54872a6b",
   "metadata": {},
   "outputs": [],
   "source": [
    "def soma_varios(a, b, c, d, e):\n",
    "  soma = sum((a,b, c, d, e))\n",
    "  return soma\n"
   ]
  },
  {
   "cell_type": "code",
   "execution_count": 43,
   "id": "05fa8a4b",
   "metadata": {},
   "outputs": [
    {
     "data": {
      "text/plain": [
       "5"
      ]
     },
     "execution_count": 43,
     "metadata": {},
     "output_type": "execute_result"
    }
   ],
   "source": [
    "soma_varios(1,1,1,1,1)"
   ]
  },
  {
   "cell_type": "markdown",
   "id": "ea11b98d",
   "metadata": {},
   "source": [
    "Vamos redefinir a nossa função acima, usando o operador args"
   ]
  },
  {
   "cell_type": "code",
   "execution_count": 44,
   "id": "ffd24a40",
   "metadata": {},
   "outputs": [],
   "source": [
    "def soma_varios(*args):\n",
    "  soma = sum(args)\n",
    "  return soma"
   ]
  },
  {
   "cell_type": "code",
   "execution_count": 45,
   "id": "40e44708",
   "metadata": {},
   "outputs": [
    {
     "data": {
      "text/plain": [
       "1"
      ]
     },
     "execution_count": 45,
     "metadata": {},
     "output_type": "execute_result"
    }
   ],
   "source": [
    "soma_varios(1)"
   ]
  },
  {
   "cell_type": "code",
   "execution_count": 46,
   "id": "79dff813",
   "metadata": {},
   "outputs": [
    {
     "data": {
      "text/plain": [
       "220008"
      ]
     },
     "execution_count": 46,
     "metadata": {},
     "output_type": "execute_result"
    }
   ],
   "source": [
    "soma_varios(9203, 233, 230, 210342)"
   ]
  },
  {
   "cell_type": "markdown",
   "id": "d2bb51d9",
   "metadata": {},
   "source": [
    "Vamos modificar o nome do operador args"
   ]
  },
  {
   "cell_type": "code",
   "execution_count": 47,
   "id": "53504b8d",
   "metadata": {},
   "outputs": [],
   "source": [
    "def soma_varios(*numeros):\n",
    "  soma = sum(numeros)\n",
    "  return soma"
   ]
  },
  {
   "cell_type": "code",
   "execution_count": 48,
   "id": "46abdcf4",
   "metadata": {},
   "outputs": [
    {
     "data": {
      "text/plain": [
       "44"
      ]
     },
     "execution_count": 48,
     "metadata": {},
     "output_type": "execute_result"
    }
   ],
   "source": [
    "soma_varios(1,1,34,5,3)"
   ]
  },
  {
   "cell_type": "code",
   "execution_count": 49,
   "id": "90e0e366",
   "metadata": {},
   "outputs": [],
   "source": [
    "def soma_varios(*numeros):\n",
    "  soma = sum(numeros)\n",
    "  print(numeros)\n",
    "  return soma"
   ]
  },
  {
   "cell_type": "code",
   "execution_count": 50,
   "id": "880fa9c2",
   "metadata": {},
   "outputs": [
    {
     "name": "stdout",
     "output_type": "stream",
     "text": [
      "(4, 5, 6, 7, 8, 9)\n"
     ]
    },
    {
     "data": {
      "text/plain": [
       "39"
      ]
     },
     "execution_count": 50,
     "metadata": {},
     "output_type": "execute_result"
    }
   ],
   "source": [
    "soma_varios(4,5,6,7,8,9)"
   ]
  },
  {
   "cell_type": "markdown",
   "id": "41bbd171",
   "metadata": {},
   "source": [
    "### 17.2. Kwargs"
   ]
  },
  {
   "cell_type": "markdown",
   "id": "b2e6b880",
   "metadata": {},
   "source": [
    "Kwargs quer dizer \"keyword arguments\""
   ]
  },
  {
   "cell_type": "markdown",
   "id": "2bf75239",
   "metadata": {},
   "source": [
    "Na prática os Kwargs possuem uma estrutura de dicionário"
   ]
  },
  {
   "cell_type": "code",
   "execution_count": 33,
   "id": "08606693",
   "metadata": {},
   "outputs": [],
   "source": [
    "papeis = {'PETR4':25, 'VALE3': 80}"
   ]
  },
  {
   "cell_type": "code",
   "execution_count": 34,
   "id": "a18521e0",
   "metadata": {},
   "outputs": [
    {
     "data": {
      "text/plain": [
       "25"
      ]
     },
     "execution_count": 34,
     "metadata": {},
     "output_type": "execute_result"
    }
   ],
   "source": [
    "papeis['PETR4']"
   ]
  },
  {
   "cell_type": "code",
   "execution_count": 35,
   "id": "f1687fe8",
   "metadata": {},
   "outputs": [],
   "source": [
    "def compra_acoes(**kwargs):\n",
    "  print('O cliente comprou o papel', kwargs['acao'])"
   ]
  },
  {
   "cell_type": "code",
   "execution_count": 36,
   "id": "4f658d0b",
   "metadata": {},
   "outputs": [
    {
     "name": "stdout",
     "output_type": "stream",
     "text": [
      "O cliente comprou o papel PETR4\n"
     ]
    }
   ],
   "source": [
    "compra_acoes(acao = 'PETR4')"
   ]
  },
  {
   "cell_type": "code",
   "execution_count": 37,
   "id": "31738965",
   "metadata": {},
   "outputs": [
    {
     "ename": "KeyError",
     "evalue": "'acao'",
     "output_type": "error",
     "traceback": [
      "\u001B[1;31m---------------------------------------------------------------------------\u001B[0m",
      "\u001B[1;31mKeyError\u001B[0m                                  Traceback (most recent call last)",
      "Cell \u001B[1;32mIn[37], line 1\u001B[0m\n\u001B[1;32m----> 1\u001B[0m \u001B[43mcompra_acoes\u001B[49m\u001B[43m(\u001B[49m\u001B[43mpapel\u001B[49m\u001B[43m \u001B[49m\u001B[38;5;241;43m=\u001B[39;49m\u001B[43m \u001B[49m\u001B[38;5;124;43m'\u001B[39;49m\u001B[38;5;124;43mPETR4\u001B[39;49m\u001B[38;5;124;43m'\u001B[39;49m\u001B[43m)\u001B[49m\n",
      "Cell \u001B[1;32mIn[35], line 2\u001B[0m, in \u001B[0;36mcompra_acoes\u001B[1;34m(**kwargs)\u001B[0m\n\u001B[0;32m      1\u001B[0m \u001B[38;5;28;01mdef\u001B[39;00m\u001B[38;5;250m \u001B[39m\u001B[38;5;21mcompra_acoes\u001B[39m(\u001B[38;5;241m*\u001B[39m\u001B[38;5;241m*\u001B[39mkwargs):\n\u001B[1;32m----> 2\u001B[0m   \u001B[38;5;28mprint\u001B[39m(\u001B[38;5;124m'\u001B[39m\u001B[38;5;124mO cliente comprou o papel\u001B[39m\u001B[38;5;124m'\u001B[39m, \u001B[43mkwargs\u001B[49m\u001B[43m[\u001B[49m\u001B[38;5;124;43m'\u001B[39;49m\u001B[38;5;124;43macao\u001B[39;49m\u001B[38;5;124;43m'\u001B[39;49m\u001B[43m]\u001B[49m)\n",
      "\u001B[1;31mKeyError\u001B[0m: 'acao'"
     ]
    }
   ],
   "source": [
    "compra_acoes(papel = 'PETR4')"
   ]
  },
  {
   "cell_type": "code",
   "execution_count": null,
   "id": "a5d4aa49",
   "metadata": {},
   "outputs": [],
   "source": [
    "def compra_acoes(**kwargs):\n",
    "  print('O cliente comprou o papel', kwargs['acao'], ' com a quantia de', kwargs['quantidade'])"
   ]
  },
  {
   "cell_type": "markdown",
   "id": "73ec30c8",
   "metadata": {},
   "source": [
    "O seguinte comando resultará em erro"
   ]
  },
  {
   "cell_type": "code",
   "execution_count": null,
   "id": "a5ac594e",
   "metadata": {},
   "outputs": [
    {
     "ename": "TypeError",
     "evalue": "ignored",
     "output_type": "error",
     "traceback": [
      "\u001B[0;31m---------------------------------------------------------------------------\u001B[0m\n",
      "\u001B[0;31mTypeError\u001B[0m                                 Traceback (most recent call last)\n",
      "\u001B[0;32m<ipython-input-23-e9788052d486>\u001B[0m in \u001B[0;36m<module>\u001B[0;34m\u001B[0m\n",
      "\u001B[0;32m----> 1\u001B[0;31m \u001B[0mcompra_acoes\u001B[0m\u001B[0;34m(\u001B[0m\u001B[0;34m'VALE3'\u001B[0m\u001B[0;34m,\u001B[0m \u001B[0;36m100\u001B[0m\u001B[0;34m)\u001B[0m\u001B[0;34m\u001B[0m\u001B[0;34m\u001B[0m\u001B[0m\n",
      "\u001B[0m\n",
      "\u001B[0;31mTypeError\u001B[0m: compra_acoes() takes 0 positional arguments but 2 were given"
     ]
    }
   ],
   "source": [
    "compra_acoes('VALE3', 100)"
   ]
  },
  {
   "cell_type": "code",
   "execution_count": null,
   "id": "47f7c07e",
   "metadata": {},
   "outputs": [
    {
     "name": "stdout",
     "output_type": "stream",
     "text": [
      "O cliente comprou o papel VALE3  com a quantia de 100\n"
     ]
    }
   ],
   "source": [
    "compra_acoes(acao = 'VALE3', quantidade = 100)"
   ]
  },
  {
   "cell_type": "code",
   "execution_count": null,
   "id": "7e00fa86",
   "metadata": {},
   "outputs": [],
   "source": [
    "def compra_acoes(**kwargs):\n",
    "  if 'acao' in kwargs:\n",
    "    print('O cliente comprou o papel', kwargs['acao'], ' com a quantia de', kwargs['quantidade'])\n",
    "  else:\n",
    "    print('Cliente não quis comprar ações')"
   ]
  },
  {
   "cell_type": "code",
   "execution_count": null,
   "id": "a8f24a25",
   "metadata": {},
   "outputs": [
    {
     "name": "stdout",
     "output_type": "stream",
     "text": [
      "Cliente não quis comprar ações\n"
     ]
    }
   ],
   "source": [
    "compra_acoes()"
   ]
  },
  {
   "cell_type": "code",
   "execution_count": null,
   "id": "57378521",
   "metadata": {},
   "outputs": [
    {
     "name": "stdout",
     "output_type": "stream",
     "text": [
      "O cliente comprou o papel BBDC4  com a quantia de 200\n"
     ]
    }
   ],
   "source": [
    "compra_acoes(acao = 'BBDC4', quantidade = 200)"
   ]
  },
  {
   "cell_type": "markdown",
   "id": "4a0d0509",
   "metadata": {},
   "source": [
    "E se eventualmente trocássemos os nomes?"
   ]
  },
  {
   "cell_type": "code",
   "execution_count": null,
   "id": "73319467",
   "metadata": {},
   "outputs": [],
   "source": [
    "def compra_acoes(**kwargs):\n",
    "  if 'papel' in kwargs:\n",
    "    print('O cliente comprou o papel', kwargs['papel'], ' com a quantia de', kwargs['quantia'])\n",
    "  else:\n",
    "    print('Cliente não quis comprar ações')"
   ]
  },
  {
   "cell_type": "code",
   "execution_count": null,
   "id": "64657f43",
   "metadata": {},
   "outputs": [
    {
     "name": "stdout",
     "output_type": "stream",
     "text": [
      "O cliente comprou o papel BBDC4  com a quantia de 200\n"
     ]
    }
   ],
   "source": [
    "compra_acoes(papel = 'BBDC4', quantia = 200)"
   ]
  },
  {
   "cell_type": "markdown",
   "id": "db368b33",
   "metadata": {},
   "source": [
    "De forma análoga aos args, nós podemos utilizar outros nomes"
   ]
  },
  {
   "cell_type": "code",
   "execution_count": null,
   "id": "21e25cd0",
   "metadata": {},
   "outputs": [],
   "source": [
    "def compra_acoes(**investimentos):\n",
    "  if 'papel' in investimentos:\n",
    "    print('O cliente comprou o papel', investimentos['papel'], ' com a quantia de', investimentos['quantia'])\n",
    "    print(investimentos)\n",
    "  else:\n",
    "    print('Cliente não quis comprar ações')"
   ]
  },
  {
   "cell_type": "code",
   "execution_count": null,
   "id": "07693b29",
   "metadata": {},
   "outputs": [
    {
     "name": "stdout",
     "output_type": "stream",
     "text": [
      "O cliente comprou o papel ABEV3  com a quantia de 50\n",
      "{'papel': 'ABEV3', 'quantia': 50}\n"
     ]
    }
   ],
   "source": [
    "compra_acoes(papel = 'ABEV3', quantia = 50)"
   ]
  },
  {
   "cell_type": "markdown",
   "id": "34d15e54",
   "metadata": {},
   "source": [
    "### **Regras gerais**\n",
    "\n",
    "1. Os argumentos que não recebem pré-definição vêm sempre antes\n",
    "\n",
    "  Por exemplo:\n",
    "\n",
    "  `def numeros (a, b, c = 1, d = 2)`\n",
    "\n",
    "\n",
    "2. Os args sempre precedem os kwargs\n",
    "\n",
    "  Por exemplo:\n",
    "\n",
    "  `def numeros (*args, **kwargs)`\n",
    "\n",
    "3. Se a função tiver tudo isso, primeiro passamos os argumentos sem valores pré-definidos, depois aqueles que possuem pré-definição, depois args e depois kwargs\n",
    "\n",
    "  Por exemplo:\n",
    "\n",
    "  `def numeros (a, b, c = 1, d = 2, *args, **kwargs)`\n",
    "\n"
   ]
  },
  {
   "cell_type": "code",
   "execution_count": null,
   "id": "c3227531",
   "metadata": {},
   "outputs": [],
   "source": [
    "def potencia(num, pot = 2):\n",
    "  return num**pot"
   ]
  },
  {
   "cell_type": "code",
   "execution_count": null,
   "metadata": {},
   "outputs": [
    {
     "data": {
      "text/plain": [
       "25"
      ]
     },
     "metadata": {},
     "output_type": "display_data"
    }
   ],
   "source": [
    "potencia(5)"
   ],
   "id": "8df6a1c536e66938"
  },
  {
   "cell_type": "code",
   "execution_count": null,
   "metadata": {},
   "outputs": [],
   "source": [
    "def compra_acoes(nome, *compras, **investimentos):\n",
    "  if 'papel' in investimentos:\n",
    "    print('Cliente', nome, 'comprou R$', sum(compras), 'em', investimentos['papel'], 'e foram feitas', len(compras), 'operações')\n",
    "  else:\n",
    "    print('Cliente', nome, 'não quer comprar ações')"
   ],
   "id": "f4829de14908c788"
  },
  {
   "cell_type": "code",
   "execution_count": null,
   "metadata": {},
   "outputs": [
    {
     "name": "stdout",
     "output_type": "stream",
     "text": [
      "Cliente José Pereira comprou R$ 485 em WEGE3 e foram feitas 5 operações\n"
     ]
    }
   ],
   "source": [
    "compra_acoes('José Pereira', 100,200,100,50,35, papel = 'WEGE3')"
   ],
   "id": "cc248b0058169532"
  },
  {
   "cell_type": "code",
   "execution_count": null,
   "metadata": {},
   "outputs": [
    {
     "name": "stdout",
     "output_type": "stream",
     "text": [
      "Cliente José Pereira comprou R$ 485 em WEGE3 e foram feitas 5 operações\n"
     ]
    }
   ],
   "source": [
    "compra_acoes('José Pereira', *(100,200,100,50,35), papel = 'WEGE3')"
   ],
   "id": "40cbe66a592c0fc9"
  },
  {
   "cell_type": "code",
   "execution_count": null,
   "metadata": {},
   "outputs": [
    {
     "name": "stdout",
     "output_type": "stream",
     "text": [
      "Cliente José Pereira comprou R$ 485 em WEGE3 e foram feitas 5 operações\n"
     ]
    }
   ],
   "source": [
    "compra_acoes('José Pereira', *(100,200,100,50,35), **{'papel' : 'WEGE3'})"
   ],
   "id": "b94d2a65e0924821"
  },
  {
   "cell_type": "code",
   "execution_count": null,
   "metadata": {},
   "outputs": [
    {
     "name": "stdout",
     "output_type": "stream",
     "text": [
      "Cliente Maria Pereira comprou R$ 1085 em WEGE3 e foram feitas 8 operações\n"
     ]
    }
   ],
   "source": [
    "compra_acoes('Maria Pereira', 100,200,100,50,35,100,100,400, papel = 'WEGE3')"
   ],
   "id": "847e2c68a58ba33a"
  },
  {
   "cell_type": "markdown",
   "id": "e0e44d18",
   "metadata": {},
   "source": [
    "### Exercício 17: Args e Kwargs\n",
    "\n",
    "Você foi contratado para desenvolver uma função para um sistema financeiro que realiza as seguintes operações com base nos argumentos fornecidos:\n",
    "\n",
    "1. Calcular o total investido em uma série de compras fornecidas como argumentos (*args*).\n",
    "2. Identificar o papel comprado e a quantidade utilizando argumentos nomeados (**kwargs**).\n",
    "3. Caso nenhuma compra seja informada, exibir uma mensagem indicando que nenhuma operação foi realizada.\n",
    "4. Caso as compras sejam informadas, mas sem o papel, exibir uma mensagem informando que o papel não foi identificado.\n",
    "5. Retornar um relatório formatado com:\n",
    "   - Total investido\n",
    "   - Papel comprado\n",
    "   - Quantidade de operações realizadas\n",
    "\n",
    "Implemente a função e exiba exemplos de uso para cobrir todos os casos descritos."
   ]
  },
  {
   "cell_type": "code",
   "execution_count": null,
   "id": "a205a153",
   "metadata": {},
   "outputs": [],
   "source": [
    "# Resolução ao final do próximo item\n",
    "\n",
    "# Código aqui"
   ]
  },
  {
   "cell_type": "markdown",
   "id": "5d554fab",
   "metadata": {},
   "source": [
    "### Resolução do Exercício 16\n",
    "\n",
    "Você recebeu uma tabela com informações sobre ações de empresas, contendo o nome do papel e o seu preço atual. Sua tarefa é usar funções lambda para:\n",
    "\n",
    "1. Ordenar a tabela:\n",
    "    - Primeiro pelo preço em ordem crescente.\n",
    "    - Depois pelo nome do papel em ordem alfabética.\n",
    "\n",
    "2. Filtrar:\n",
    "    - Apenas os papéis que possuem preço acima de R$ 50,00.\n",
    "\n",
    "3. Aplicar um aumento dinâmico de acordo com as seguintes regras:\n",
    "    - Aumento de 5% para preços abaixo de R$ 30,00.\n",
    "    - Aumento de 3% para acima de R$ 30,00.\n",
    "\n",
    "4. Exibir a lista final:\n",
    "    - \"Papel: *papel*, Novo Preço: *preco*."
   ]
  },
  {
   "cell_type": "code",
   "execution_count": 52,
   "id": "81ad821b",
   "metadata": {},
   "outputs": [
    {
     "name": "stdout",
     "output_type": "stream",
     "text": [
      "Papel: VALE3, Novo Preço: R$ 91.1\n",
      "Papel: MGLU3, Novo Preço: R$ 26.95\n",
      "Papel: LREN3, Novo Preço: R$ 51.4\n",
      "Papel: ABEV3, Novo Preço: R$ 29.17\n",
      "Papel: PETR4, Novo Preço: R$ 51.6\n"
     ]
    }
   ],
   "source": [
    "# Dados fornecidos\n",
    "acoes = [\n",
    "    {\"papel\": \"VALE3\", \"preco\": 88.45},\n",
    "    {\"papel\": \"MGLU3\", \"preco\": 25.67},\n",
    "    {\"papel\": \"LREN3\", \"preco\": 49.90},\n",
    "    {\"papel\": \"ABEV3\", \"preco\": 27.78},\n",
    "    {\"papel\": \"PETR4\", \"preco\": 50.10}\n",
    "]\n",
    "\n",
    "# Passo 1: Ordenar a tabela\n",
    "# Primeiro pelo preço em ordem crescente, depois pelo nome do papel em ordem alfabética\n",
    "acoes_ordenadas = sorted(acoes, key=lambda x: (x[\"preco\"], x[\"papel\"]))\n",
    "\n",
    "# Passo 2: Filtrar papéis com preço acima de R$ 50,00\n",
    "acoes_filtradas = list(filter(lambda x: x[\"preco\"] > 50, acoes_ordenadas))\n",
    "\n",
    "# Passo 3: Aplicar aumento dinâmico\n",
    "# 5% para preços abaixo de R$ 30,00, 3% para acima de R$ 30,00\n",
    "acoes_atualizadas = list(map(\n",
    "    lambda x: {\n",
    "        \"papel\": x[\"papel\"],\n",
    "        \"preco\": round(x[\"preco\"] * (1.05 if x[\"preco\"] < 30 else 1.03), 2)\n",
    "    },\n",
    "    acoes\n",
    "))\n",
    "\n",
    "# Passo 4: Exibir a lista final\n",
    "for acao in acoes_atualizadas:\n",
    "    print(f\"Papel: {acao['papel']}, Novo Preço: R$ {acao['preco']}\")\n"
   ]
  },
  {
   "cell_type": "markdown",
   "metadata": {},
   "source": [
    "## 18. Bibliotecas"
   ],
   "id": "f341677c73c4554b"
  },
  {
   "cell_type": "markdown",
   "id": "918d36c5",
   "metadata": {},
   "source": [
    "1. O que são as bibliotecas\n",
    "2. Importância de se utilizar as bibliotecas\n",
    "3. Manuseio das bibliotecas"
   ]
  },
  {
   "cell_type": "markdown",
   "metadata": {},
   "source": [
    "Duas principais bibliotecas\n",
    "1. pandas - para se trabalhar com dados (tabela, dataframe)\n",
    "2. numpy - para se trabalhar com matemática"
   ],
   "id": "daa823ee76abe475"
  },
  {
   "cell_type": "markdown",
   "metadata": {},
   "source": [
    "Explore o repositório de bibliotecas - PyPi\n",
    "\n",
    "https://pypi.org/"
   ],
   "id": "b2475124e05ec4a5"
  },
  {
   "cell_type": "markdown",
   "metadata": {},
   "source": [
    "Wes McKinney\n",
    "\n",
    "https://wesmckinney.com/"
   ],
   "id": "443a97cdfa75079e"
  },
  {
   "cell_type": "markdown",
   "metadata": {},
   "source": [
    "Duas etapas\n",
    "\n",
    "1. Instalá-las\n",
    "\n",
    "2. Importá-las"
   ],
   "id": "1b5400d77745e728"
  },
  {
   "cell_type": "markdown",
   "metadata": {},
   "source": [
    "### 18.1. Instalando bibliotecas de Python"
   ],
   "id": "8ac33d19c1314e00"
  },
  {
   "cell_type": "code",
   "execution_count": null,
   "metadata": {},
   "outputs": [
    {
     "name": "stdout",
     "output_type": "stream",
     "text": [
      "Looking in indexes: https://pypi.org/simple, https://us-python.pkg.dev/colab-wheels/public/simple/\n",
      "Requirement already satisfied: numpy in /usr/local/lib/python3.8/dist-packages (1.21.6)\n"
     ]
    }
   ],
   "source": [
    "!pip install numpy"
   ],
   "id": "6ccf3d546ed18425"
  },
  {
   "cell_type": "code",
   "execution_count": null,
   "metadata": {},
   "outputs": [
    {
     "name": "stdout",
     "output_type": "stream",
     "text": [
      "Looking in indexes: https://pypi.org/simple, https://us-python.pkg.dev/colab-wheels/public/simple/\n",
      "Requirement already satisfied: pandas in /usr/local/lib/python3.8/dist-packages (1.3.5)\n",
      "Requirement already satisfied: python-dateutil>=2.7.3 in /usr/local/lib/python3.8/dist-packages (from pandas) (2.8.2)\n",
      "Requirement already satisfied: numpy>=1.17.3 in /usr/local/lib/python3.8/dist-packages (from pandas) (1.21.6)\n",
      "Requirement already satisfied: pytz>=2017.3 in /usr/local/lib/python3.8/dist-packages (from pandas) (2022.6)\n",
      "Requirement already satisfied: six>=1.5 in /usr/local/lib/python3.8/dist-packages (from python-dateutil>=2.7.3->pandas) (1.15.0)\n"
     ]
    }
   ],
   "source": [
    "!pip install pandas"
   ],
   "id": "73656b09b0c7a75e"
  },
  {
   "cell_type": "markdown",
   "metadata": {},
   "source": [
    "### 18.2. Importação de bibliotecas"
   ],
   "id": "20960791db653a43"
  },
  {
   "cell_type": "code",
   "execution_count": null,
   "metadata": {},
   "outputs": [],
   "source": [
    "import numpy as np\n",
    "import pandas as pd"
   ],
   "id": "98743fa74d2dde26"
  },
  {
   "cell_type": "markdown",
   "metadata": {},
   "source": [
    "Este termo que usamos depois é o 'alias'"
   ],
   "id": "993c8b92dffe086b"
  },
  {
   "cell_type": "markdown",
   "metadata": {},
   "source": [
    "Um pequeno exemplo"
   ],
   "id": "cf19ed89390b6b40"
  },
  {
   "cell_type": "code",
   "execution_count": null,
   "metadata": {},
   "outputs": [
    {
     "data": {
      "text/plain": [
       "array([0., 0., 0., 0., 0., 0., 0., 0., 0., 0.])"
      ]
     },
     "metadata": {},
     "output_type": "display_data"
    }
   ],
   "source": [
    "np.zeros(10)"
   ],
   "id": "17c292b5ed9497ba"
  },
  {
   "cell_type": "code",
   "execution_count": null,
   "metadata": {},
   "outputs": [
    {
     "ename": "NameError",
     "evalue": "ignored",
     "output_type": "error",
     "traceback": [
      "\u001B[0;31m---------------------------------------------------------------------------\u001B[0m\n",
      "\u001B[0;31mNameError\u001B[0m                                 Traceback (most recent call last)\n",
      "\u001B[0;32m<ipython-input-5-c659c0cfd72e>\u001B[0m in \u001B[0;36m<module>\u001B[0;34m\u001B[0m\n",
      "\u001B[0;32m----> 1\u001B[0;31m \u001B[0mzeros\u001B[0m\u001B[0;34m(\u001B[0m\u001B[0;36m10\u001B[0m\u001B[0;34m)\u001B[0m\u001B[0;34m\u001B[0m\u001B[0;34m\u001B[0m\u001B[0m\n",
      "\u001B[0m\n",
      "\u001B[0;31mNameError\u001B[0m: name 'zeros' is not defined"
     ]
    }
   ],
   "source": [
    "zeros(10)"
   ],
   "id": "c61f0308029e4b1a"
  },
  {
   "cell_type": "markdown",
   "metadata": {},
   "source": [
    "**Uma outra estrutura de importação**"
   ],
   "id": "1a22096cb9c62e16"
  },
  {
   "cell_type": "code",
   "execution_count": null,
   "metadata": {},
   "outputs": [],
   "source": [
    "import math as mt"
   ],
   "id": "37b84c092fd0cb1c"
  },
  {
   "cell_type": "code",
   "execution_count": null,
   "metadata": {},
   "outputs": [
    {
     "data": {
      "text/plain": [
       "3.141592653589793"
      ]
     },
     "metadata": {},
     "output_type": "display_data"
    }
   ],
   "source": [
    "mt.pi"
   ],
   "id": "391bb9477d85ac4e"
  },
  {
   "cell_type": "markdown",
   "metadata": {},
   "source": [
    "Sem a menção da biblioteca correspondente, o Python não consegue encontrar 'pi'"
   ],
   "id": "214a4e306d70dd51"
  },
  {
   "cell_type": "code",
   "execution_count": null,
   "metadata": {},
   "outputs": [
    {
     "ename": "NameError",
     "evalue": "ignored",
     "output_type": "error",
     "traceback": [
      "\u001B[0;31m---------------------------------------------------------------------------\u001B[0m\n",
      "\u001B[0;31mNameError\u001B[0m                                 Traceback (most recent call last)\n",
      "\u001B[0;32m<ipython-input-8-f84ab820532c>\u001B[0m in \u001B[0;36m<module>\u001B[0;34m\u001B[0m\n",
      "\u001B[0;32m----> 1\u001B[0;31m \u001B[0mpi\u001B[0m\u001B[0;34m\u001B[0m\u001B[0;34m\u001B[0m\u001B[0m\n",
      "\u001B[0m\n",
      "\u001B[0;31mNameError\u001B[0m: name 'pi' is not defined"
     ]
    }
   ],
   "source": [
    "pi"
   ],
   "id": "250305a8ca015d9f"
  },
  {
   "cell_type": "markdown",
   "metadata": {},
   "source": [
    "Podemos importar apenas o módulo 'pi' dentro da biblioteca 'math'"
   ],
   "id": "dd8f5a162d101d0b"
  },
  {
   "cell_type": "code",
   "execution_count": null,
   "metadata": {},
   "outputs": [],
   "source": [
    "from math import pi"
   ],
   "id": "5d4b63ce8d0c9c44"
  },
  {
   "cell_type": "code",
   "execution_count": null,
   "metadata": {},
   "outputs": [
    {
     "data": {
      "text/plain": [
       "3.141592653589793"
      ]
     },
     "metadata": {},
     "output_type": "display_data"
    }
   ],
   "source": [
    "pi"
   ],
   "id": "ea803a6900b37970"
  },
  {
   "cell_type": "markdown",
   "metadata": {},
   "source": [
    "#### **Um exemplo com uma biblioteca de mercado financeiro**"
   ],
   "id": "ca462ca3c30d9be1"
  },
  {
   "cell_type": "markdown",
   "metadata": {},
   "source": [
    "\"yfinance\""
   ],
   "id": "9f95bef17427b93"
  },
  {
   "cell_type": "code",
   "execution_count": null,
   "metadata": {},
   "outputs": [
    {
     "name": "stdout",
     "output_type": "stream",
     "text": [
      "Looking in indexes: https://pypi.org/simple, https://us-python.pkg.dev/colab-wheels/public/simple/\n",
      "Requirement already satisfied: yfinance in /usr/local/lib/python3.8/dist-packages (0.2.3)\n",
      "Requirement already satisfied: requests>=2.26 in /usr/local/lib/python3.8/dist-packages (from yfinance) (2.28.1)\n",
      "Requirement already satisfied: numpy>=1.16.5 in /usr/local/lib/python3.8/dist-packages (from yfinance) (1.21.6)\n",
      "Requirement already satisfied: pytz>=2022.5 in /usr/local/lib/python3.8/dist-packages (from yfinance) (2022.6)\n",
      "Requirement already satisfied: multitasking>=0.0.7 in /usr/local/lib/python3.8/dist-packages (from yfinance) (0.0.11)\n",
      "Requirement already satisfied: pandas>=1.3.0 in /usr/local/lib/python3.8/dist-packages (from yfinance) (1.3.5)\n",
      "Requirement already satisfied: html5lib>=1.1 in /usr/local/lib/python3.8/dist-packages (from yfinance) (1.1)\n",
      "Requirement already satisfied: lxml>=4.9.1 in /usr/local/lib/python3.8/dist-packages (from yfinance) (4.9.2)\n",
      "Requirement already satisfied: beautifulsoup4>=4.11.1 in /usr/local/lib/python3.8/dist-packages (from yfinance) (4.11.1)\n",
      "Requirement already satisfied: frozendict>=2.3.4 in /usr/local/lib/python3.8/dist-packages (from yfinance) (2.3.4)\n",
      "Requirement already satisfied: cryptography>=3.3.2 in /usr/local/lib/python3.8/dist-packages (from yfinance) (39.0.0)\n",
      "Requirement already satisfied: appdirs>=1.4.4 in /usr/local/lib/python3.8/dist-packages (from yfinance) (1.4.4)\n",
      "Requirement already satisfied: soupsieve>1.2 in /usr/local/lib/python3.8/dist-packages (from beautifulsoup4>=4.11.1->yfinance) (2.3.2.post1)\n",
      "Requirement already satisfied: cffi>=1.12 in /usr/local/lib/python3.8/dist-packages (from cryptography>=3.3.2->yfinance) (1.15.1)\n",
      "Requirement already satisfied: pycparser in /usr/local/lib/python3.8/dist-packages (from cffi>=1.12->cryptography>=3.3.2->yfinance) (2.21)\n",
      "Requirement already satisfied: six>=1.9 in /usr/local/lib/python3.8/dist-packages (from html5lib>=1.1->yfinance) (1.15.0)\n",
      "Requirement already satisfied: webencodings in /usr/local/lib/python3.8/dist-packages (from html5lib>=1.1->yfinance) (0.5.1)\n",
      "Requirement already satisfied: python-dateutil>=2.7.3 in /usr/local/lib/python3.8/dist-packages (from pandas>=1.3.0->yfinance) (2.8.2)\n",
      "Requirement already satisfied: charset-normalizer<3,>=2 in /usr/local/lib/python3.8/dist-packages (from requests>=2.26->yfinance) (2.1.1)\n",
      "Requirement already satisfied: idna<4,>=2.5 in /usr/local/lib/python3.8/dist-packages (from requests>=2.26->yfinance) (2.10)\n",
      "Requirement already satisfied: certifi>=2017.4.17 in /usr/local/lib/python3.8/dist-packages (from requests>=2.26->yfinance) (2022.12.7)\n",
      "Requirement already satisfied: urllib3<1.27,>=1.21.1 in /usr/local/lib/python3.8/dist-packages (from requests>=2.26->yfinance) (1.24.3)\n"
     ]
    }
   ],
   "source": [
    "!pip install yfinance"
   ],
   "id": "6199cd7950099801"
  },
  {
   "cell_type": "code",
   "execution_count": null,
   "metadata": {},
   "outputs": [],
   "source": [
    "import yfinance as yf"
   ],
   "id": "7b3a1abf97b3304a"
  },
  {
   "cell_type": "code",
   "execution_count": null,
   "metadata": {},
   "outputs": [
    {
     "name": "stdout",
     "output_type": "stream",
     "text": [
      "\r[*********************100%***********************]  1 of 1 completed\n"
     ]
    },
    {
     "data": {
      "text/html": [
       "\n",
       "  <div id=\"df-d0c02e3b-4dde-4099-a861-5758872cef47\">\n",
       "    <div class=\"colab-df-container\">\n",
       "      <div>\n",
       "<style scoped>\n",
       "    .dataframe tbody tr th:only-of-type {\n",
       "        vertical-align: middle;\n",
       "    }\n",
       "\n",
       "    .dataframe tbody tr th {\n",
       "        vertical-align: top;\n",
       "    }\n",
       "\n",
       "    .dataframe thead th {\n",
       "        text-align: right;\n",
       "    }\n",
       "</style>\n",
       "<table border=\"1\" class=\"dataframe\">\n",
       "  <thead>\n",
       "    <tr style=\"text-align: right;\">\n",
       "      <th></th>\n",
       "      <th>Open</th>\n",
       "      <th>High</th>\n",
       "      <th>Low</th>\n",
       "      <th>Close</th>\n",
       "      <th>Adj Close</th>\n",
       "      <th>Volume</th>\n",
       "    </tr>\n",
       "    <tr>\n",
       "      <th>Date</th>\n",
       "      <th></th>\n",
       "      <th></th>\n",
       "      <th></th>\n",
       "      <th></th>\n",
       "      <th></th>\n",
       "      <th></th>\n",
       "    </tr>\n",
       "  </thead>\n",
       "  <tbody>\n",
       "    <tr>\n",
       "      <th>2022-08-01</th>\n",
       "      <td>233.089996</td>\n",
       "      <td>234.500000</td>\n",
       "      <td>232.500000</td>\n",
       "      <td>233.949997</td>\n",
       "      <td>233.949997</td>\n",
       "      <td>284889</td>\n",
       "    </tr>\n",
       "    <tr>\n",
       "      <th>2022-08-02</th>\n",
       "      <td>233.399994</td>\n",
       "      <td>237.750000</td>\n",
       "      <td>232.860001</td>\n",
       "      <td>237.000000</td>\n",
       "      <td>237.000000</td>\n",
       "      <td>426129</td>\n",
       "    </tr>\n",
       "    <tr>\n",
       "      <th>2022-08-03</th>\n",
       "      <td>237.399994</td>\n",
       "      <td>240.929993</td>\n",
       "      <td>237.389999</td>\n",
       "      <td>240.550003</td>\n",
       "      <td>240.550003</td>\n",
       "      <td>453002</td>\n",
       "    </tr>\n",
       "    <tr>\n",
       "      <th>2022-08-04</th>\n",
       "      <td>239.550003</td>\n",
       "      <td>239.550003</td>\n",
       "      <td>236.240005</td>\n",
       "      <td>237.699997</td>\n",
       "      <td>237.699997</td>\n",
       "      <td>323988</td>\n",
       "    </tr>\n",
       "    <tr>\n",
       "      <th>2022-08-05</th>\n",
       "      <td>236.419998</td>\n",
       "      <td>238.059998</td>\n",
       "      <td>233.539993</td>\n",
       "      <td>235.000000</td>\n",
       "      <td>235.000000</td>\n",
       "      <td>312988</td>\n",
       "    </tr>\n",
       "    <tr>\n",
       "      <th>...</th>\n",
       "      <td>...</td>\n",
       "      <td>...</td>\n",
       "      <td>...</td>\n",
       "      <td>...</td>\n",
       "      <td>...</td>\n",
       "      <td>...</td>\n",
       "    </tr>\n",
       "    <tr>\n",
       "      <th>2022-12-26</th>\n",
       "      <td>218.600006</td>\n",
       "      <td>221.089996</td>\n",
       "      <td>218.500000</td>\n",
       "      <td>219.000000</td>\n",
       "      <td>219.000000</td>\n",
       "      <td>161347</td>\n",
       "    </tr>\n",
       "    <tr>\n",
       "      <th>2022-12-27</th>\n",
       "      <td>222.500000</td>\n",
       "      <td>223.570007</td>\n",
       "      <td>221.240005</td>\n",
       "      <td>222.199997</td>\n",
       "      <td>222.199997</td>\n",
       "      <td>531224</td>\n",
       "    </tr>\n",
       "    <tr>\n",
       "      <th>2022-12-28</th>\n",
       "      <td>222.600006</td>\n",
       "      <td>222.929993</td>\n",
       "      <td>218.729996</td>\n",
       "      <td>220.000000</td>\n",
       "      <td>220.000000</td>\n",
       "      <td>907816</td>\n",
       "    </tr>\n",
       "    <tr>\n",
       "      <th>2022-12-29</th>\n",
       "      <td>217.960007</td>\n",
       "      <td>225.000000</td>\n",
       "      <td>217.770004</td>\n",
       "      <td>225.000000</td>\n",
       "      <td>225.000000</td>\n",
       "      <td>1150267</td>\n",
       "    </tr>\n",
       "    <tr>\n",
       "      <th>2023-01-02</th>\n",
       "      <td>225.529999</td>\n",
       "      <td>227.500000</td>\n",
       "      <td>224.559998</td>\n",
       "      <td>227.500000</td>\n",
       "      <td>227.500000</td>\n",
       "      <td>129945</td>\n",
       "    </tr>\n",
       "  </tbody>\n",
       "</table>\n",
       "<p>106 rows × 6 columns</p>\n",
       "</div>\n",
       "      <button class=\"colab-df-convert\" onclick=\"convertToInteractive('df-d0c02e3b-4dde-4099-a861-5758872cef47')\"\n",
       "              title=\"Convert this dataframe to an interactive table.\"\n",
       "              style=\"display:none;\">\n",
       "        \n",
       "  <svg xmlns=\"http://www.w3.org/2000/svg\" height=\"24px\"viewBox=\"0 0 24 24\"\n",
       "       width=\"24px\">\n",
       "    <path d=\"M0 0h24v24H0V0z\" fill=\"none\"/>\n",
       "    <path d=\"M18.56 5.44l.94 2.06.94-2.06 2.06-.94-2.06-.94-.94-2.06-.94 2.06-2.06.94zm-11 1L8.5 8.5l.94-2.06 2.06-.94-2.06-.94L8.5 2.5l-.94 2.06-2.06.94zm10 10l.94 2.06.94-2.06 2.06-.94-2.06-.94-.94-2.06-.94 2.06-2.06.94z\"/><path d=\"M17.41 7.96l-1.37-1.37c-.4-.4-.92-.59-1.43-.59-.52 0-1.04.2-1.43.59L10.3 9.45l-7.72 7.72c-.78.78-.78 2.05 0 2.83L4 21.41c.39.39.9.59 1.41.59.51 0 1.02-.2 1.41-.59l7.78-7.78 2.81-2.81c.8-.78.8-2.07 0-2.86zM5.41 20L4 18.59l7.72-7.72 1.47 1.35L5.41 20z\"/>\n",
       "  </svg>\n",
       "      </button>\n",
       "      \n",
       "  <style>\n",
       "    .colab-df-container {\n",
       "      display:flex;\n",
       "      flex-wrap:wrap;\n",
       "      gap: 12px;\n",
       "    }\n",
       "\n",
       "    .colab-df-convert {\n",
       "      background-color: #E8F0FE;\n",
       "      border: none;\n",
       "      border-radius: 50%;\n",
       "      cursor: pointer;\n",
       "      display: none;\n",
       "      fill: #1967D2;\n",
       "      height: 32px;\n",
       "      padding: 0 0 0 0;\n",
       "      width: 32px;\n",
       "    }\n",
       "\n",
       "    .colab-df-convert:hover {\n",
       "      background-color: #E2EBFA;\n",
       "      box-shadow: 0px 1px 2px rgba(60, 64, 67, 0.3), 0px 1px 3px 1px rgba(60, 64, 67, 0.15);\n",
       "      fill: #174EA6;\n",
       "    }\n",
       "\n",
       "    [theme=dark] .colab-df-convert {\n",
       "      background-color: #3B4455;\n",
       "      fill: #D2E3FC;\n",
       "    }\n",
       "\n",
       "    [theme=dark] .colab-df-convert:hover {\n",
       "      background-color: #434B5C;\n",
       "      box-shadow: 0px 1px 3px 1px rgba(0, 0, 0, 0.15);\n",
       "      filter: drop-shadow(0px 1px 2px rgba(0, 0, 0, 0.3));\n",
       "      fill: #FFFFFF;\n",
       "    }\n",
       "  </style>\n",
       "\n",
       "      <script>\n",
       "        const buttonEl =\n",
       "          document.querySelector('#df-d0c02e3b-4dde-4099-a861-5758872cef47 button.colab-df-convert');\n",
       "        buttonEl.style.display =\n",
       "          google.colab.kernel.accessAllowed ? 'block' : 'none';\n",
       "\n",
       "        async function convertToInteractive(key) {\n",
       "          const element = document.querySelector('#df-d0c02e3b-4dde-4099-a861-5758872cef47');\n",
       "          const dataTable =\n",
       "            await google.colab.kernel.invokeFunction('convertToInteractive',\n",
       "                                                     [key], {});\n",
       "          if (!dataTable) return;\n",
       "\n",
       "          const docLinkHtml = 'Like what you see? Visit the ' +\n",
       "            '<a target=\"_blank\" href=https://colab.research.google.com/notebooks/data_table.ipynb>data table notebook</a>'\n",
       "            + ' to learn more about interactive tables.';\n",
       "          element.innerHTML = '';\n",
       "          dataTable['output_type'] = 'display_data';\n",
       "          await google.colab.output.renderOutput(dataTable, element);\n",
       "          const docLink = document.createElement('div');\n",
       "          docLink.innerHTML = docLinkHtml;\n",
       "          element.appendChild(docLink);\n",
       "        }\n",
       "      </script>\n",
       "    </div>\n",
       "  </div>\n",
       "  "
      ],
      "text/plain": [
       "                  Open        High         Low       Close   Adj Close  \\\n",
       "Date                                                                     \n",
       "2022-08-01  233.089996  234.500000  232.500000  233.949997  233.949997   \n",
       "2022-08-02  233.399994  237.750000  232.860001  237.000000  237.000000   \n",
       "2022-08-03  237.399994  240.929993  237.389999  240.550003  240.550003   \n",
       "2022-08-04  239.550003  239.550003  236.240005  237.699997  237.699997   \n",
       "2022-08-05  236.419998  238.059998  233.539993  235.000000  235.000000   \n",
       "...                ...         ...         ...         ...         ...   \n",
       "2022-12-26  218.600006  221.089996  218.500000  219.000000  219.000000   \n",
       "2022-12-27  222.500000  223.570007  221.240005  222.199997  222.199997   \n",
       "2022-12-28  222.600006  222.929993  218.729996  220.000000  220.000000   \n",
       "2022-12-29  217.960007  225.000000  217.770004  225.000000  225.000000   \n",
       "2023-01-02  225.529999  227.500000  224.559998  227.500000  227.500000   \n",
       "\n",
       "             Volume  \n",
       "Date                 \n",
       "2022-08-01   284889  \n",
       "2022-08-02   426129  \n",
       "2022-08-03   453002  \n",
       "2022-08-04   323988  \n",
       "2022-08-05   312988  \n",
       "...             ...  \n",
       "2022-12-26   161347  \n",
       "2022-12-27   531224  \n",
       "2022-12-28   907816  \n",
       "2022-12-29  1150267  \n",
       "2023-01-02   129945  \n",
       "\n",
       "[106 rows x 6 columns]"
      ]
     },
     "metadata": {},
     "output_type": "display_data"
    }
   ],
   "source": [
    "yf.download('IVVB11.SA', start = '2022-08-01')"
   ],
   "id": "ab04793834996756"
  },
  {
   "cell_type": "code",
   "execution_count": null,
   "metadata": {},
   "outputs": [
    {
     "name": "stdout",
     "output_type": "stream",
     "text": [
      "\r[*********************100%***********************]  1 of 1 completed\n"
     ]
    }
   ],
   "source": [
    "ivvb11 = yf.download('IVVB11.SA', start = '2022-08-01')"
   ],
   "id": "4f73d42fc3013726"
  },
  {
   "cell_type": "code",
   "execution_count": null,
   "metadata": {},
   "outputs": [
    {
     "data": {
      "text/html": [
       "\n",
       "  <div id=\"df-2ee52b23-e30a-4384-92fe-1bae3ecc9070\">\n",
       "    <div class=\"colab-df-container\">\n",
       "      <div>\n",
       "<style scoped>\n",
       "    .dataframe tbody tr th:only-of-type {\n",
       "        vertical-align: middle;\n",
       "    }\n",
       "\n",
       "    .dataframe tbody tr th {\n",
       "        vertical-align: top;\n",
       "    }\n",
       "\n",
       "    .dataframe thead th {\n",
       "        text-align: right;\n",
       "    }\n",
       "</style>\n",
       "<table border=\"1\" class=\"dataframe\">\n",
       "  <thead>\n",
       "    <tr style=\"text-align: right;\">\n",
       "      <th></th>\n",
       "      <th>Open</th>\n",
       "      <th>High</th>\n",
       "      <th>Low</th>\n",
       "      <th>Close</th>\n",
       "      <th>Adj Close</th>\n",
       "      <th>Volume</th>\n",
       "    </tr>\n",
       "    <tr>\n",
       "      <th>Date</th>\n",
       "      <th></th>\n",
       "      <th></th>\n",
       "      <th></th>\n",
       "      <th></th>\n",
       "      <th></th>\n",
       "      <th></th>\n",
       "    </tr>\n",
       "  </thead>\n",
       "  <tbody>\n",
       "    <tr>\n",
       "      <th>2022-08-01</th>\n",
       "      <td>233.089996</td>\n",
       "      <td>234.500000</td>\n",
       "      <td>232.500000</td>\n",
       "      <td>233.949997</td>\n",
       "      <td>233.949997</td>\n",
       "      <td>284889</td>\n",
       "    </tr>\n",
       "    <tr>\n",
       "      <th>2022-08-02</th>\n",
       "      <td>233.399994</td>\n",
       "      <td>237.750000</td>\n",
       "      <td>232.860001</td>\n",
       "      <td>237.000000</td>\n",
       "      <td>237.000000</td>\n",
       "      <td>426129</td>\n",
       "    </tr>\n",
       "    <tr>\n",
       "      <th>2022-08-03</th>\n",
       "      <td>237.399994</td>\n",
       "      <td>240.929993</td>\n",
       "      <td>237.389999</td>\n",
       "      <td>240.550003</td>\n",
       "      <td>240.550003</td>\n",
       "      <td>453002</td>\n",
       "    </tr>\n",
       "    <tr>\n",
       "      <th>2022-08-04</th>\n",
       "      <td>239.550003</td>\n",
       "      <td>239.550003</td>\n",
       "      <td>236.240005</td>\n",
       "      <td>237.699997</td>\n",
       "      <td>237.699997</td>\n",
       "      <td>323988</td>\n",
       "    </tr>\n",
       "    <tr>\n",
       "      <th>2022-08-05</th>\n",
       "      <td>236.419998</td>\n",
       "      <td>238.059998</td>\n",
       "      <td>233.539993</td>\n",
       "      <td>235.000000</td>\n",
       "      <td>235.000000</td>\n",
       "      <td>312988</td>\n",
       "    </tr>\n",
       "  </tbody>\n",
       "</table>\n",
       "</div>\n",
       "      <button class=\"colab-df-convert\" onclick=\"convertToInteractive('df-2ee52b23-e30a-4384-92fe-1bae3ecc9070')\"\n",
       "              title=\"Convert this dataframe to an interactive table.\"\n",
       "              style=\"display:none;\">\n",
       "        \n",
       "  <svg xmlns=\"http://www.w3.org/2000/svg\" height=\"24px\"viewBox=\"0 0 24 24\"\n",
       "       width=\"24px\">\n",
       "    <path d=\"M0 0h24v24H0V0z\" fill=\"none\"/>\n",
       "    <path d=\"M18.56 5.44l.94 2.06.94-2.06 2.06-.94-2.06-.94-.94-2.06-.94 2.06-2.06.94zm-11 1L8.5 8.5l.94-2.06 2.06-.94-2.06-.94L8.5 2.5l-.94 2.06-2.06.94zm10 10l.94 2.06.94-2.06 2.06-.94-2.06-.94-.94-2.06-.94 2.06-2.06.94z\"/><path d=\"M17.41 7.96l-1.37-1.37c-.4-.4-.92-.59-1.43-.59-.52 0-1.04.2-1.43.59L10.3 9.45l-7.72 7.72c-.78.78-.78 2.05 0 2.83L4 21.41c.39.39.9.59 1.41.59.51 0 1.02-.2 1.41-.59l7.78-7.78 2.81-2.81c.8-.78.8-2.07 0-2.86zM5.41 20L4 18.59l7.72-7.72 1.47 1.35L5.41 20z\"/>\n",
       "  </svg>\n",
       "      </button>\n",
       "      \n",
       "  <style>\n",
       "    .colab-df-container {\n",
       "      display:flex;\n",
       "      flex-wrap:wrap;\n",
       "      gap: 12px;\n",
       "    }\n",
       "\n",
       "    .colab-df-convert {\n",
       "      background-color: #E8F0FE;\n",
       "      border: none;\n",
       "      border-radius: 50%;\n",
       "      cursor: pointer;\n",
       "      display: none;\n",
       "      fill: #1967D2;\n",
       "      height: 32px;\n",
       "      padding: 0 0 0 0;\n",
       "      width: 32px;\n",
       "    }\n",
       "\n",
       "    .colab-df-convert:hover {\n",
       "      background-color: #E2EBFA;\n",
       "      box-shadow: 0px 1px 2px rgba(60, 64, 67, 0.3), 0px 1px 3px 1px rgba(60, 64, 67, 0.15);\n",
       "      fill: #174EA6;\n",
       "    }\n",
       "\n",
       "    [theme=dark] .colab-df-convert {\n",
       "      background-color: #3B4455;\n",
       "      fill: #D2E3FC;\n",
       "    }\n",
       "\n",
       "    [theme=dark] .colab-df-convert:hover {\n",
       "      background-color: #434B5C;\n",
       "      box-shadow: 0px 1px 3px 1px rgba(0, 0, 0, 0.15);\n",
       "      filter: drop-shadow(0px 1px 2px rgba(0, 0, 0, 0.3));\n",
       "      fill: #FFFFFF;\n",
       "    }\n",
       "  </style>\n",
       "\n",
       "      <script>\n",
       "        const buttonEl =\n",
       "          document.querySelector('#df-2ee52b23-e30a-4384-92fe-1bae3ecc9070 button.colab-df-convert');\n",
       "        buttonEl.style.display =\n",
       "          google.colab.kernel.accessAllowed ? 'block' : 'none';\n",
       "\n",
       "        async function convertToInteractive(key) {\n",
       "          const element = document.querySelector('#df-2ee52b23-e30a-4384-92fe-1bae3ecc9070');\n",
       "          const dataTable =\n",
       "            await google.colab.kernel.invokeFunction('convertToInteractive',\n",
       "                                                     [key], {});\n",
       "          if (!dataTable) return;\n",
       "\n",
       "          const docLinkHtml = 'Like what you see? Visit the ' +\n",
       "            '<a target=\"_blank\" href=https://colab.research.google.com/notebooks/data_table.ipynb>data table notebook</a>'\n",
       "            + ' to learn more about interactive tables.';\n",
       "          element.innerHTML = '';\n",
       "          dataTable['output_type'] = 'display_data';\n",
       "          await google.colab.output.renderOutput(dataTable, element);\n",
       "          const docLink = document.createElement('div');\n",
       "          docLink.innerHTML = docLinkHtml;\n",
       "          element.appendChild(docLink);\n",
       "        }\n",
       "      </script>\n",
       "    </div>\n",
       "  </div>\n",
       "  "
      ],
      "text/plain": [
       "                  Open        High         Low       Close   Adj Close  Volume\n",
       "Date                                                                          \n",
       "2022-08-01  233.089996  234.500000  232.500000  233.949997  233.949997  284889\n",
       "2022-08-02  233.399994  237.750000  232.860001  237.000000  237.000000  426129\n",
       "2022-08-03  237.399994  240.929993  237.389999  240.550003  240.550003  453002\n",
       "2022-08-04  239.550003  239.550003  236.240005  237.699997  237.699997  323988\n",
       "2022-08-05  236.419998  238.059998  233.539993  235.000000  235.000000  312988"
      ]
     },
     "metadata": {},
     "output_type": "display_data"
    }
   ],
   "source": [
    "ivvb11.head()"
   ],
   "id": "27f6c23568d986b5"
  },
  {
   "cell_type": "code",
   "execution_count": null,
   "metadata": {},
   "outputs": [
    {
     "data": {
      "text/plain": [
       "Date\n",
       "2022-08-01    233.949997\n",
       "2022-08-02    237.000000\n",
       "2022-08-03    240.550003\n",
       "2022-08-04    237.699997\n",
       "2022-08-05    235.000000\n",
       "                 ...    \n",
       "2022-12-26    219.000000\n",
       "2022-12-27    222.199997\n",
       "2022-12-28    220.000000\n",
       "2022-12-29    225.000000\n",
       "2023-01-02    227.500000\n",
       "Name: Close, Length: 106, dtype: float64"
      ]
     },
     "metadata": {},
     "output_type": "display_data"
    }
   ],
   "source": [
    "ivvb11.Close"
   ],
   "id": "3cfc03c3d291f717"
  },
  {
   "cell_type": "code",
   "execution_count": null,
   "metadata": {},
   "outputs": [
    {
     "data": {
      "image/png": "[encoded data removed]",
      "text/plain": [
       "<Figure size 432x288 with 1 Axes>"
      ]
     },
     "metadata": {},
     "output_type": "display_data"
    }
   ],
   "source": [
    "ivvb11.Close.plot();"
   ],
   "id": "344ecf540cef4911"
  },
  {
   "cell_type": "markdown",
   "metadata": {},
   "source": [
    "### 18.3. Numpy"
   ],
   "id": "9d1c9a75a194083a"
  },
  {
   "cell_type": "code",
   "execution_count": null,
   "metadata": {},
   "outputs": [],
   "source": [
    "import numpy as np"
   ],
   "id": "3523206d1aaf60e2"
  },
  {
   "cell_type": "markdown",
   "metadata": {},
   "source": [
    "O principal tipo de objeto que criamos com a numpy é o 'array'"
   ],
   "id": "dee0e0bf1975db2a"
  },
  {
   "cell_type": "markdown",
   "metadata": {},
   "source": [
    "Para criar arrays, temos diversas funções diferentes, cada um servido a um propósito específico"
   ],
   "id": "cd3af804ffa8d3e8"
  },
  {
   "cell_type": "markdown",
   "metadata": {},
   "source": [
    "Por exemplo, podemos criar arrays que contém apenas zeros"
   ],
   "id": "8f2b44a9f8027bc3"
  },
  {
   "cell_type": "code",
   "execution_count": null,
   "metadata": {},
   "outputs": [
    {
     "data": {
      "text/plain": [
       "array([0., 0., 0., 0., 0.])"
      ]
     },
     "metadata": {},
     "output_type": "display_data"
    }
   ],
   "source": [
    "np.zeros(5)"
   ],
   "id": "116f6633fc083994"
  },
  {
   "cell_type": "code",
   "execution_count": null,
   "metadata": {},
   "outputs": [],
   "source": [
    "vetor = np.zeros(5)"
   ],
   "id": "bb31ead81875ceea"
  },
  {
   "cell_type": "code",
   "execution_count": null,
   "metadata": {},
   "outputs": [
    {
     "data": {
      "text/plain": [
       "array([0., 0., 0., 0., 0.])"
      ]
     },
     "metadata": {},
     "output_type": "display_data"
    }
   ],
   "source": [
    "vetor"
   ],
   "id": "8f86c271acaa03af"
  },
  {
   "cell_type": "code",
   "execution_count": null,
   "metadata": {},
   "outputs": [
    {
     "data": {
      "text/plain": [
       "numpy.ndarray"
      ]
     },
     "metadata": {},
     "output_type": "display_data"
    }
   ],
   "source": [
    "type(vetor)"
   ],
   "id": "7753aba5aa7c4709"
  },
  {
   "cell_type": "markdown",
   "metadata": {},
   "source": [
    "Conceito de atributo"
   ],
   "id": "a3f9134d20b8f3ce"
  },
  {
   "cell_type": "code",
   "execution_count": null,
   "metadata": {},
   "outputs": [
    {
     "data": {
      "text/plain": [
       "array([0., 0., 0., 0., 0.])"
      ]
     },
     "metadata": {},
     "output_type": "display_data"
    }
   ],
   "source": [
    "vetor"
   ],
   "id": "3672c60692c07953"
  },
  {
   "cell_type": "code",
   "execution_count": null,
   "metadata": {},
   "outputs": [
    {
     "data": {
      "text/plain": [
       "(5,)"
      ]
     },
     "metadata": {},
     "output_type": "display_data"
    }
   ],
   "source": [
    "vetor.shape"
   ],
   "id": "c02738772783986e"
  },
  {
   "cell_type": "code",
   "execution_count": null,
   "metadata": {},
   "outputs": [],
   "source": [
    "vetor.shape = (5,1)"
   ],
   "id": "298ca9bbce18d632"
  },
  {
   "cell_type": "code",
   "execution_count": null,
   "metadata": {},
   "outputs": [
    {
     "data": {
      "text/plain": [
       "array([[0.],\n",
       "       [0.],\n",
       "       [0.],\n",
       "       [0.],\n",
       "       [0.]])"
      ]
     },
     "metadata": {},
     "output_type": "display_data"
    }
   ],
   "source": [
    "vetor"
   ],
   "id": "cee631ff432a506e"
  },
  {
   "cell_type": "markdown",
   "metadata": {},
   "source": [
    "Da mesma forma que criamos um vetor de zeros, podemos criar um contendo apenas 'uns'"
   ],
   "id": "20cb3f2a6b781c35"
  },
  {
   "cell_type": "code",
   "execution_count": null,
   "metadata": {},
   "outputs": [
    {
     "data": {
      "text/plain": [
       "array([1., 1., 1., 1., 1., 1., 1., 1., 1., 1.])"
      ]
     },
     "metadata": {},
     "output_type": "display_data"
    }
   ],
   "source": [
    "np.ones(10)"
   ],
   "id": "2ada11da7536fc22"
  },
  {
   "cell_type": "markdown",
   "metadata": {},
   "source": [
    "Podemos criar vetores vazios"
   ],
   "id": "818ce27a97850001"
  },
  {
   "cell_type": "code",
   "execution_count": null,
   "metadata": {},
   "outputs": [
    {
     "data": {
      "text/plain": [
       "array([0., 0., 0., 0., 0.])"
      ]
     },
     "metadata": {},
     "output_type": "display_data"
    }
   ],
   "source": [
    "np.empty(5)"
   ],
   "id": "9bbaa57bda9904ae"
  },
  {
   "cell_type": "markdown",
   "metadata": {},
   "source": [
    "Podemos criar um array determinando início, fim e número de componentes"
   ],
   "id": "eb78b56cac63c908"
  },
  {
   "cell_type": "code",
   "execution_count": null,
   "metadata": {},
   "outputs": [
    {
     "data": {
      "text/plain": [
       "array([  0.        ,  11.11111111,  22.22222222,  33.33333333,\n",
       "        44.44444444,  55.55555556,  66.66666667,  77.77777778,\n",
       "        88.88888889, 100.        ])"
      ]
     },
     "metadata": {},
     "output_type": "display_data"
    }
   ],
   "source": [
    "np.linspace(0,100,10)"
   ],
   "id": "b98dfa9c611e3d34"
  },
  {
   "cell_type": "markdown",
   "metadata": {},
   "source": [
    "Podemos especificar manualmente os elementos do array"
   ],
   "id": "43ba3c9111fb3cd2"
  },
  {
   "cell_type": "code",
   "execution_count": null,
   "metadata": {},
   "outputs": [
    {
     "data": {
      "text/plain": [
       "array(0)"
      ]
     },
     "metadata": {},
     "output_type": "display_data"
    }
   ],
   "source": [
    "np.array(0)"
   ],
   "id": "4e925ac02dae6929"
  },
  {
   "cell_type": "code",
   "execution_count": null,
   "metadata": {},
   "outputs": [
    {
     "data": {
      "text/plain": [
       "array(10)"
      ]
     },
     "metadata": {},
     "output_type": "display_data"
    }
   ],
   "source": [
    "np.array(10)"
   ],
   "id": "228120d8247284a"
  },
  {
   "cell_type": "code",
   "execution_count": null,
   "metadata": {},
   "outputs": [
    {
     "ename": "TypeError",
     "evalue": "ignored",
     "output_type": "error",
     "traceback": [
      "\u001B[0;31m---------------------------------------------------------------------------\u001B[0m\n",
      "\u001B[0;31mTypeError\u001B[0m                                 Traceback (most recent call last)\n",
      "\u001B[0;32m<ipython-input-39-a4d22456da9e>\u001B[0m in \u001B[0;36m<module>\u001B[0;34m\u001B[0m\n",
      "\u001B[0;32m----> 1\u001B[0;31m \u001B[0mnp\u001B[0m\u001B[0;34m.\u001B[0m\u001B[0marray\u001B[0m\u001B[0;34m(\u001B[0m\u001B[0;36m1\u001B[0m\u001B[0;34m,\u001B[0m\u001B[0;36m2\u001B[0m\u001B[0;34m,\u001B[0m\u001B[0;36m3\u001B[0m\u001B[0;34m)\u001B[0m\u001B[0;34m\u001B[0m\u001B[0;34m\u001B[0m\u001B[0m\n",
      "\u001B[0m\n",
      "\u001B[0;31mTypeError\u001B[0m: array() takes from 1 to 2 positional arguments but 3 were given"
     ]
    }
   ],
   "source": [
    "np.array(1,2,3)"
   ],
   "id": "7b0984de80dcfafd"
  },
  {
   "cell_type": "code",
   "execution_count": null,
   "metadata": {},
   "outputs": [
    {
     "data": {
      "text/plain": [
       "array([1, 2, 3])"
      ]
     },
     "metadata": {},
     "output_type": "display_data"
    }
   ],
   "source": [
    "np.array([1,2,3])"
   ],
   "id": "736e46799ff51a5"
  },
  {
   "cell_type": "code",
   "execution_count": null,
   "metadata": {},
   "outputs": [],
   "source": [
    "papeis = ['ABEV3', 'PETR4', 'VALE3', 'BBDC4', 'PRIO3']"
   ],
   "id": "d7c959ff04d4891c"
  },
  {
   "cell_type": "code",
   "execution_count": null,
   "metadata": {},
   "outputs": [
    {
     "data": {
      "text/plain": [
       "array(['ABEV3', 'PETR4', 'VALE3', 'BBDC4', 'PRIO3'], dtype='<U5')"
      ]
     },
     "metadata": {},
     "output_type": "display_data"
    }
   ],
   "source": [
    "np.array(papeis)"
   ],
   "id": "f0e02e3bf4524efc"
  },
  {
   "cell_type": "code",
   "execution_count": null,
   "metadata": {},
   "outputs": [],
   "source": [
    "papeis_array = np.array(papeis)"
   ],
   "id": "e47fbf6b2d60dd5a"
  },
  {
   "cell_type": "code",
   "execution_count": null,
   "metadata": {},
   "outputs": [],
   "source": [
    "lista = [1,2,3,4,5]"
   ],
   "id": "7d17a79fd7f73146"
  },
  {
   "cell_type": "code",
   "execution_count": null,
   "metadata": {},
   "outputs": [],
   "source": [
    "i = np.array([lista, papeis])"
   ],
   "id": "3f784bc45badee6d"
  },
  {
   "cell_type": "code",
   "execution_count": null,
   "metadata": {},
   "outputs": [
    {
     "data": {
      "text/plain": [
       "array(['1', '2', '3', '4', '5'], dtype='<U21')"
      ]
     },
     "metadata": {},
     "output_type": "display_data"
    }
   ],
   "source": [
    "i[0]"
   ],
   "id": "f596da8fc5835bf2"
  },
  {
   "cell_type": "code",
   "execution_count": null,
   "metadata": {},
   "outputs": [
    {
     "data": {
      "text/plain": [
       "array(['ABEV3', 'PETR4', 'VALE3', 'BBDC4', 'PRIO3'], dtype='<U21')"
      ]
     },
     "metadata": {},
     "output_type": "display_data"
    }
   ],
   "source": [
    "i[1]"
   ],
   "id": "49efe9f11cbd3275"
  },
  {
   "cell_type": "code",
   "execution_count": null,
   "metadata": {},
   "outputs": [
    {
     "data": {
      "application/vnd.google.colaboratory.intrinsic+json": {
       "type": "string"
      },
      "text/plain": [
       "'1'"
      ]
     },
     "metadata": {},
     "output_type": "display_data"
    }
   ],
   "source": [
    "i[0][0]"
   ],
   "id": "268ea573e74f635c"
  },
  {
   "cell_type": "code",
   "execution_count": null,
   "metadata": {},
   "outputs": [
    {
     "data": {
      "application/vnd.google.colaboratory.intrinsic+json": {
       "type": "string"
      },
      "text/plain": [
       "'VALE3'"
      ]
     },
     "metadata": {},
     "output_type": "display_data"
    }
   ],
   "source": [
    "i[1][2]"
   ],
   "id": "43bc4690e9a3946f"
  },
  {
   "cell_type": "markdown",
   "metadata": {},
   "source": [
    "Muito parecido com listas"
   ],
   "id": "b5287a5b12274d48"
  },
  {
   "cell_type": "markdown",
   "metadata": {},
   "source": [
    "Operações matemáticas"
   ],
   "id": "77c57d8e2490148e"
  },
  {
   "cell_type": "code",
   "execution_count": null,
   "metadata": {},
   "outputs": [],
   "source": [
    "a = np.array([10,20,100,200,500])\n",
    "b = np.array([3,4,5,6,7])"
   ],
   "id": "8acde30eb8674175"
  },
  {
   "cell_type": "code",
   "execution_count": null,
   "metadata": {},
   "outputs": [
    {
     "data": {
      "text/plain": [
       "array([ 13,  24, 105, 206, 507])"
      ]
     },
     "metadata": {},
     "output_type": "display_data"
    }
   ],
   "source": [
    "a + b"
   ],
   "id": "beca9cd81abec17e"
  },
  {
   "cell_type": "code",
   "execution_count": null,
   "metadata": {},
   "outputs": [
    {
     "data": {
      "text/plain": [
       "array([ 13,  24, 105, 206, 507])"
      ]
     },
     "metadata": {},
     "output_type": "display_data"
    }
   ],
   "source": [
    "np.add(a, b)"
   ],
   "id": "508963104b49a6d6"
  },
  {
   "cell_type": "code",
   "execution_count": null,
   "metadata": {},
   "outputs": [
    {
     "data": {
      "text/plain": [
       "array([  7,  16,  95, 194, 493])"
      ]
     },
     "metadata": {},
     "output_type": "display_data"
    }
   ],
   "source": [
    "a - b"
   ],
   "id": "fc1b784700bc1ca"
  },
  {
   "cell_type": "code",
   "execution_count": null,
   "metadata": {},
   "outputs": [
    {
     "data": {
      "text/plain": [
       "array([  7,  16,  95, 194, 493])"
      ]
     },
     "metadata": {},
     "output_type": "display_data"
    }
   ],
   "source": [
    "np.subtract(a, b)"
   ],
   "id": "12000a4728e0380d"
  },
  {
   "cell_type": "code",
   "execution_count": null,
   "metadata": {},
   "outputs": [
    {
     "data": {
      "text/plain": [
       "array([  30,   80,  500, 1200, 3500])"
      ]
     },
     "metadata": {},
     "output_type": "display_data"
    }
   ],
   "source": [
    "a*b"
   ],
   "id": "a1cbe9c9d1f2d9b1"
  },
  {
   "cell_type": "code",
   "execution_count": null,
   "metadata": {},
   "outputs": [
    {
     "data": {
      "text/plain": [
       "array([  30,   80,  500, 1200, 3500])"
      ]
     },
     "metadata": {},
     "output_type": "display_data"
    }
   ],
   "source": [
    "np.multiply(a, b)"
   ],
   "id": "9b45a16f9a40722a"
  },
  {
   "cell_type": "code",
   "execution_count": null,
   "metadata": {},
   "outputs": [
    {
     "data": {
      "text/plain": [
       "array([ 3.33333333,  5.        , 20.        , 33.33333333, 71.42857143])"
      ]
     },
     "metadata": {},
     "output_type": "display_data"
    }
   ],
   "source": [
    "a/b"
   ],
   "id": "12691459d55762d6"
  },
  {
   "cell_type": "code",
   "execution_count": null,
   "metadata": {},
   "outputs": [
    {
     "data": {
      "text/plain": [
       "array([ 3.33333333,  5.        , 20.        , 33.33333333, 71.42857143])"
      ]
     },
     "metadata": {},
     "output_type": "display_data"
    }
   ],
   "source": [
    "np.divide(a, b)"
   ],
   "id": "7d1b5b5d2775f8f"
  },
  {
   "cell_type": "markdown",
   "metadata": {},
   "source": [
    "Funções estatísticas"
   ],
   "id": "5def4eb3ae22331e"
  },
  {
   "cell_type": "code",
   "execution_count": null,
   "metadata": {},
   "outputs": [],
   "source": [
    "precos = np.array([22.14, 23.56, 23.89])"
   ],
   "id": "e47b45b5ef52e656"
  },
  {
   "cell_type": "code",
   "execution_count": null,
   "metadata": {},
   "outputs": [
    {
     "data": {
      "text/plain": [
       "22.14"
      ]
     },
     "metadata": {},
     "output_type": "display_data"
    }
   ],
   "source": [
    "precos.min()"
   ],
   "id": "3f3321a771a45603"
  },
  {
   "cell_type": "code",
   "execution_count": null,
   "metadata": {},
   "outputs": [
    {
     "data": {
      "text/plain": [
       "22.14"
      ]
     },
     "metadata": {},
     "output_type": "display_data"
    }
   ],
   "source": [
    "np.min(precos)"
   ],
   "id": "e28cd690463a063c"
  },
  {
   "cell_type": "code",
   "execution_count": null,
   "metadata": {},
   "outputs": [
    {
     "data": {
      "text/plain": [
       "22.14"
      ]
     },
     "metadata": {},
     "output_type": "display_data"
    }
   ],
   "source": [
    "np.amin(precos)"
   ],
   "id": "e013bf4dac004aae"
  },
  {
   "cell_type": "code",
   "execution_count": null,
   "metadata": {},
   "outputs": [
    {
     "data": {
      "text/plain": [
       "23.89"
      ]
     },
     "metadata": {},
     "output_type": "display_data"
    }
   ],
   "source": [
    "np.max(precos)"
   ],
   "id": "3250815e52c1a721"
  },
  {
   "cell_type": "code",
   "execution_count": null,
   "metadata": {},
   "outputs": [
    {
     "data": {
      "text/plain": [
       "23.89"
      ]
     },
     "metadata": {},
     "output_type": "display_data"
    }
   ],
   "source": [
    "np.amax(precos)"
   ],
   "id": "ee3ef03d89faafe1"
  },
  {
   "cell_type": "code",
   "execution_count": null,
   "metadata": {},
   "outputs": [
    {
     "data": {
      "text/plain": [
       "23.56"
      ]
     },
     "metadata": {},
     "output_type": "display_data"
    }
   ],
   "source": [
    "np.median(precos)"
   ],
   "id": "94e87ec87b98669"
  },
  {
   "cell_type": "code",
   "execution_count": null,
   "metadata": {},
   "outputs": [
    {
     "data": {
      "text/plain": [
       "23.19666666666667"
      ]
     },
     "metadata": {},
     "output_type": "display_data"
    }
   ],
   "source": [
    "np.mean(precos)"
   ],
   "id": "4c9e5409c5dda971"
  },
  {
   "cell_type": "code",
   "execution_count": null,
   "metadata": {},
   "outputs": [
    {
     "data": {
      "text/plain": [
       "0.7592247507966411"
      ]
     },
     "metadata": {},
     "output_type": "display_data"
    }
   ],
   "source": [
    "np.std(precos)"
   ],
   "id": "9f89f314f6544d1e"
  },
  {
   "cell_type": "code",
   "execution_count": null,
   "metadata": {},
   "outputs": [
    {
     "data": {
      "text/plain": [
       "0.5764222222222217"
      ]
     },
     "metadata": {},
     "output_type": "display_data"
    }
   ],
   "source": [
    "np.var(precos)"
   ],
   "id": "96eb862ecb8e47fc"
  },
  {
   "cell_type": "markdown",
   "id": "4f3406e8",
   "metadata": {},
   "source": [
    "### Exercício 18: Bibliotecas\n",
    "\n",
    "Você foi contratado para desenvolver uma análise financeira utilizando as bibliotecas numpy e pandas. O objetivo é criar um sistema que:\n",
    "\n",
    "1. Gere preços fictícios de ações para cinco papéis diferentes (VALE3, PETR4, MGLU3, ABEV3, ITUB4) durante 10 dias úteis, usando arrays do NumPy.\n",
    "\n",
    "2. Calcule, para cada papel:\n",
    "    - O preço mínimo.\n",
    "    - O preço máximo.\n",
    "    - A média de preços.\n",
    "    - A volatilidade (desvio padrão) dos preços.\n",
    "\n",
    "3. Monte um DataFrame do Pandas contendo:\n",
    "    - O nome do papel.\n",
    "    - Os preços mínimos, máximos, médios e a volatilidade calculados.\n",
    "\n",
    "4. Adicione ao DataFrame uma nova coluna chamada Investimento Ideal, onde:\n",
    "    - Se a volatilidade for maior que 1.5, o investimento ideal será R$ 5.000,00.\n",
    "    - Caso contrário, será R$ 10.000,00.\n",
    "\n",
    "5. Exiba o DataFrame final e o gráfico dos preços médios por papel."
   ]
  },
  {
   "cell_type": "code",
   "execution_count": 55,
   "id": "45510017",
   "metadata": {},
   "outputs": [],
   "source": [
    "# Código aqui"
   ]
  },
  {
   "cell_type": "markdown",
   "id": "96b02c83",
   "metadata": {},
   "source": [
    "### Resolução do Exercício 17\n",
    "\n",
    "Você foi contratado para desenvolver uma função para um sistema financeiro que realiza as seguintes operações com base nos argumentos fornecidos:\n",
    "\n",
    "1. Calcular o total investido em uma série de compras fornecidas como argumentos (*args*).\n",
    "2. Identificar o papel comprado e a quantidade utilizando argumentos nomeados (**kwargs**).\n",
    "3. Caso nenhuma compra seja informada, exibir uma mensagem indicando que nenhuma operação foi realizada.\n",
    "4. Caso as compras sejam informadas, mas sem o papel, exibir uma mensagem informando que o papel não foi identificado.\n",
    "5. Retornar um relatório formatado com:\n",
    "   - Total investido\n",
    "   - Papel comprado\n",
    "   - Quantidade de operações realizadas\n",
    "\n",
    "Implemente a função e exiba exemplos de uso para cobrir todos os casos descritos."
   ]
  },
  {
   "cell_type": "code",
   "execution_count": 54,
   "id": "eb1c0c85",
   "metadata": {},
   "outputs": [
    {
     "name": "stdout",
     "output_type": "stream",
     "text": [
      "Nenhuma operação foi realizada.\n",
      "\n",
      "O total investido foi de R$ 4500.00, mas o papel comprado não foi identificado.\n",
      "\n",
      "    ==================== Relatório de Investimento ====================\n",
      "    Total Investido: R$ 3000.00\n",
      "    Papel Comprado: VALE3\n",
      "    Quantidade de Operações: 2\n",
      "    Quantidade de Ações Compradas: 50\n",
      "\n",
      "\n",
      "    ==================== Relatório de Investimento ====================\n",
      "    Total Investido: R$ 4000.00\n",
      "    Papel Comprado: PETR4\n",
      "    Quantidade de Operações: 2\n",
      "    \n"
     ]
    }
   ],
   "source": [
    "def sistema_financeiro(*args: float, **kwargs: dict[str, float | int]) -> str:\n",
    "    \"\"\"\n",
    "    Função para calcular o total investido, identificar papel comprado e\n",
    "    gerar um relatório com base nos argumentos fornecidos.\n",
    "    \n",
    "    Args:\n",
    "        *args: Valores numéricos representando os valores das compras realizadas.\n",
    "        **kwargs: Informações nomeadas, como o papel comprado (papel='') \n",
    "                  e quantidade (quantidade=).\n",
    "                  \n",
    "    Returns:\n",
    "        str: Relatório formatado com o total investido, papel comprado, e número de operações.\n",
    "    \"\"\"\n",
    "    # Caso não haja compras\n",
    "    if not args:\n",
    "        return \"Nenhuma operação foi realizada.\"\n",
    "    \n",
    "    # Total investido calculado com base em *args\n",
    "    total_investido = sum(args)\n",
    "    \n",
    "    # Identificar o papel e a quantidade de operações\n",
    "    papel = kwargs.get('papel', None)\n",
    "    quantidade = kwargs.get('quantidade', None)\n",
    "    \n",
    "    # Verificações e mensagens\n",
    "    if not papel:\n",
    "        return \"\\nO total investido foi de R$ {:.2f}, mas o papel comprado não foi identificado.\".format(total_investido)\n",
    "    \n",
    "    # Gerar relatório final\n",
    "    relatorio = f\"\"\"\n",
    "    {'='*20} Relatório de Investimento {'='*20}\n",
    "    Total Investido: R$ {total_investido:.2f}\n",
    "    Papel Comprado: {papel}\n",
    "    Quantidade de Operações: {len(args)}\n",
    "    \"\"\"\n",
    "    \n",
    "    # Caso a quantidade seja informada, incluir no relatório\n",
    "    if quantidade:\n",
    "        relatorio += f\"Quantidade de Ações Compradas: {quantidade}\\n\"\n",
    "    \n",
    "    return relatorio\n",
    "\n",
    "# Testes\n",
    "\n",
    "# Caso 1: Nenhuma compra informada\n",
    "print(sistema_financeiro())\n",
    "\n",
    "# Caso 2: Compras informadas, mas sem papel identificado\n",
    "print(sistema_financeiro(1000, 2000, 1500))\n",
    "\n",
    "# Caso 3: Compras com papel identificado\n",
    "print(sistema_financeiro(1000, 2000, papel='VALE3', quantidade=50))\n",
    "\n",
    "# Caso 4: Compras com papel identificado, mas sem quantidade\n",
    "print(sistema_financeiro(1500, 2500, papel='PETR4'))\n"
   ]
  },
  {
   "cell_type": "markdown",
   "id": "46979849",
   "metadata": {},
   "source": [
    "Explicação:\n",
    "1. Uso de **kwargs: dict[str, float | int]:\n",
    "\n",
    "    - A tipagem indica que os argumentos nomeados devem ser armazenados em um dicionário com:\n",
    "        - Chaves: Do tipo str (ex.: 'papel' ou 'quantidade').\n",
    "        - Valores: Do tipo float ou int (ex.: 50 ou 88.45).\n",
    "\n",
    "2. Validação Implícita:\n",
    "    - Como usamos kwargs.get, valores ausentes retornam None automaticamente, permitindo que a função lide com dados opcionais sem erros."
   ]
  },
  {
   "cell_type": "markdown",
   "id": "e9bfaad3",
   "metadata": {},
   "source": [
    "### Resolução do Exercício 18\n",
    "\n",
    "Você foi contratado para desenvolver uma análise financeira utilizando as bibliotecas numpy e pandas. O objetivo é criar um sistema que:\n",
    "\n",
    "1. Gere preços fictícios de ações para cinco papéis diferentes (VALE3, PETR4, MGLU3, ABEV3, ITUB4) durante 10 dias úteis, usando arrays do NumPy.\n",
    "\n",
    "2. Calcule, para cada papel:\n",
    "    - O preço mínimo.\n",
    "    - O preço máximo.\n",
    "    - A média de preços.\n",
    "    - A volatilidade (desvio padrão) dos preços.\n",
    "\n",
    "3. Monte um DataFrame do Pandas contendo:\n",
    "    - O nome do papel.\n",
    "    - Os preços mínimos, máximos, médios e a volatilidade calculados.\n",
    "\n",
    "4. Adicione ao DataFrame uma nova coluna chamada Investimento Ideal, onde:\n",
    "    - Se a volatilidade for maior que 1.5, o investimento ideal será R$ 5.000,00.\n",
    "    - Caso contrário, será R$ 10.000,00.\n",
    "\n",
    "5. Exiba o DataFrame final e o gráfico dos preços médios por papel."
   ]
  },
  {
   "cell_type": "code",
   "execution_count": 56,
   "id": "93723b9b",
   "metadata": {},
   "outputs": [
    {
     "name": "stdout",
     "output_type": "stream",
     "text": [
      "   Papel  Preço Mínimo  Preço Máximo  Preço Médio  Volatilidade  \\\n",
      "0  VALE3         24.65         96.06        61.61         23.97   \n",
      "1  PETR4         21.65         97.59        51.62         22.95   \n",
      "2  MGLU3         23.72         82.81        52.03         17.75   \n",
      "3  ABEV3         25.20         97.25        60.74         26.04   \n",
      "4  ITUB4         22.75         92.75        52.36         20.52   \n",
      "\n",
      "   Investimento Ideal  \n",
      "0                5000  \n",
      "1                5000  \n",
      "2                5000  \n",
      "3                5000  \n",
      "4                5000  \n"
     ]
    },
    {
     "data": {
      "image/png": "[encoded data removed]",
      "text/plain": [
       "<Figure size 800x500 with 1 Axes>"
      ]
     },
     "metadata": {},
     "output_type": "display_data"
    }
   ],
   "source": [
    "import numpy as np\n",
    "import pandas as pd\n",
    "import matplotlib.pyplot as plt\n",
    "\n",
    "\n",
    "def gerar_precos_ficticios(papeis: list[str], dias: int) -> dict[str, np.ndarray]:\n",
    "    \"\"\"\n",
    "    Gera preços fictícios para uma lista de papéis ao longo de um número de dias.\n",
    "    \"\"\"\n",
    "    np.random.seed(42)  # Para garantir resultados reprodutíveis\n",
    "    return {papel: np.round(np.random.uniform(20, 100, dias), 2) for papel in papeis}\n",
    "\n",
    "\n",
    "def calcular_estatisticas(precos: dict[str, np.ndarray]) -> pd.DataFrame:\n",
    "    \"\"\"\n",
    "    Calcula estatísticas financeiras (mínimo, máximo, média, volatilidade) para cada papel.\n",
    "    \"\"\"\n",
    "    resultados = []\n",
    "    for papel, valores in precos.items():\n",
    "        resultados.append({\n",
    "            \"Papel\": papel,\n",
    "            \"Preço Mínimo\": np.min(valores),\n",
    "            \"Preço Máximo\": np.max(valores),\n",
    "            \"Preço Médio\": round(np.mean(valores), 2),\n",
    "            \"Volatilidade\": round(np.std(valores), 2)\n",
    "        })\n",
    "    return pd.DataFrame(resultados)\n",
    "\n",
    "\n",
    "def adicionar_investimento_ideal(df: pd.DataFrame) -> pd.DataFrame:\n",
    "    \"\"\"\n",
    "    Adiciona uma coluna 'Investimento Ideal' ao DataFrame com base na volatilidade.\n",
    "    \"\"\"\n",
    "    df[\"Investimento Ideal\"] = df[\"Volatilidade\"].apply(lambda vol: 5000 if vol > 1.5 else 10000)\n",
    "    return df\n",
    "\n",
    "\n",
    "def plotar_precos_medios(df: pd.DataFrame) -> None:\n",
    "    \"\"\"\n",
    "    Gera um gráfico de barras com os preços médios por papel.\n",
    "    \"\"\"\n",
    "    plt.figure(figsize=(8, 5))\n",
    "    plt.bar(df[\"Papel\"], df[\"Preço Médio\"], color=\"skyblue\")\n",
    "    plt.title(\"Preços Médios por Papel\", fontsize=14)\n",
    "    plt.xlabel(\"Papéis\", fontsize=12)\n",
    "    plt.ylabel(\"Preço Médio (R$)\", fontsize=12)\n",
    "    plt.grid(axis=\"y\", linestyle=\"--\", alpha=0.7)\n",
    "    plt.show()\n",
    "\n",
    "# Fluxo principal do programa\n",
    "def main() -> None:\n",
    "    \"\"\"\n",
    "    Função principal para executar a análise financeira.\n",
    "    \"\"\"\n",
    "    # Passo 1: Gerar preços fictícios\n",
    "    papeis = [\"VALE3\", \"PETR4\", \"MGLU3\", \"ABEV3\", \"ITUB4\"]\n",
    "    dias = 10\n",
    "    precos = gerar_precos_ficticios(papeis, dias)\n",
    "\n",
    "    # Passo 2: Calcular estatísticas\n",
    "    df = calcular_estatisticas(precos)\n",
    "\n",
    "    # Passo 3: Adicionar coluna 'Investimento Ideal'\n",
    "    df = adicionar_investimento_ideal(df)\n",
    "\n",
    "    # Passo 4: Exibir o DataFrame e gerar o gráfico\n",
    "    print(df)\n",
    "    plotar_precos_medios(df)\n",
    "\n",
    "\n",
    "# Rodando o código\n",
    "main()"
   ]
  }
 ],
 "metadata": {
  "kernelspec": {
   "display_name": "Python 3",
   "language": "python",
   "name": "python3"
  },
  "language_info": {
   "codemirror_mode": {
    "name": "ipython",
    "version": 3
   },
   "file_extension": ".py",
   "mimetype": "text/x-python",
   "name": "python",
   "nbconvert_exporter": "python",
   "pygments_lexer": "ipython3",
   "version": "3.11.9"
  }
 },
 "nbformat": 4,
 "nbformat_minor": 5
}
